{
 "cells": [
  {
   "cell_type": "markdown",
   "metadata": {},
   "source": [
    "# LSTM models for multivariate Time Series forecastings"
   ]
  },
  {
   "cell_type": "markdown",
   "metadata": {},
   "source": [
    "## Sommaire\n",
    "\n",
    "- [I. Préparation des données](#present_data)\n",
    "\n",
    "- [II. Construction de 2 models LSTM](#LSTM)\n",
    "    - [II.A LSTM avec des TS non stationarisées](#LSTMA)\n",
    "    - [II.B LSTM avec des TS stationarisées](#LSTMB)\n"
   ]
  },
  {
   "cell_type": "code",
   "execution_count": 91,
   "metadata": {
    "vscode": {
     "languageId": "r"
    }
   },
   "outputs": [],
   "source": [
    "rm(list=ls())\n",
    "suppressPackageStartupMessages(require(skimr))\n",
    "suppressPackageStartupMessages(require(readxl))\n",
    "suppressPackageStartupMessages(require(stringr))\n",
    "suppressPackageStartupMessages(require(dplyr))\n",
    "suppressPackageStartupMessages(require(ggplot2))\n",
    "suppressPackageStartupMessages(require(forecast))"
   ]
  },
  {
   "cell_type": "markdown",
   "metadata": {},
   "source": [
    "<div id=\"present_data\">\n",
    "\n",
    "# I . Data preparation"
   ]
  },
  {
   "cell_type": "code",
   "execution_count": 92,
   "metadata": {
    "vscode": {
     "languageId": "r"
    }
   },
   "outputs": [],
   "source": [
    "#------------------------------------------------------\n",
    "# data pre treatment (similar to univariate case)\n",
    "\n",
    "df <- read_excel(\"data/data.xlsx\",sheet = 3)\n",
    "tmp <-df%>% filter(aire==\"44_GRAND EST\" & champ==\"ESS\")\n",
    "\n",
    "df <-tmp[-which(!is.na(tmp$secret_stat)),]%>%select(-secret_stat)\n",
    "df <- df %>% select(-champ,-type_aire,-type_naf,-aire)\n",
    "df <- df[,c(TRUE,str_detect(colnames(df),\"nb_etab\")[-1])]\n",
    "tmp <- t(df)\n",
    "colnames(tmp) <- tmp[1,]\n",
    "tmp <-tmp[-1,]\n",
    "df <- tmp\n",
    "tmp <-df%>%as.data.frame\n",
    "tmp <-cbind(\"date\"=rep(NA,nrow(tmp)),tmp)\n",
    "for (i in 1:nrow(tmp)){\n",
    "    tmp.format.date <- strsplit(rownames(df)[i],\"nb_etab\")[[1]][2]\n",
    "    subsplit <-strsplit(tmp.format.date,\"T\")[[1]]\n",
    "    year<-subsplit[1]\n",
    "    trimester <- subsplit[2]\n",
    "    month <-switch(trimester,\n",
    "        \"1\"=\"01\",\n",
    "        \"2\"=\"04\",\n",
    "        \"3\"=\"07\",\n",
    "        \"4\"=\"10\"\n",
    "    )\n",
    "    tmp[i,1] <- paste(year,month,\"01\",sep=\"-\")\n",
    "}\n",
    "tmp$date <-as.Date(tmp$date)\n",
    "rownames(tmp) <- NULL\n",
    "\n",
    "df.indexes <-which(tmp$date < as.Date(\"2020-01-01\"))\n",
    "train.indexes<- which(tmp$date < as.Date(\"2018-01-01\") )\n",
    "test.indexes <-which(tmp$date>= as.Date(\"2018-01-01\") & tmp$date <as.Date(\"2020-01-01\") )\n",
    "tmp <-tmp %>%select(-date)%>% mutate_all(as.numeric)\n",
    "#----------------------------\n",
    "# Eliminate total serie\n",
    "tmp <- tmp[,-ncol(tmp)]\n",
    "df.ts <- ts(tmp[df.indexes,],start=c(2010,1),frequency=4)# S'arrete à 2019 Q4\n",
    "train.ts <-ts(tmp[train.indexes,],start=c(2010,1),frequency = 4)# S'arrete à 2017 Q4\n",
    "test.ts <-ts(tmp[test.indexes,],start = c(2018,1),frequency = 4)# Commence a 2018 Q1 --> 2019 Q4\n",
    "global.ts <- ts(tmp,start=c(2010,1),frequency=4)# Commence a 2010 Q1 --> 2021 Q2\n",
    "covid.ts <- ts(tmp[(df.indexes[length(df.indexes)]+1):nrow(tmp),],start=c(2020,1),frequency = 4)# Commence a 2020 Q1 --> 2021 Q2"
   ]
  },
  {
   "cell_type": "code",
   "execution_count": 93,
   "metadata": {
    "vscode": {
     "languageId": "r"
    }
   },
   "outputs": [],
   "source": [
    "require(tensorflow)\n",
    "require(keras)"
   ]
  },
  {
   "cell_type": "code",
   "execution_count": 94,
   "metadata": {
    "vscode": {
     "languageId": "r"
    }
   },
   "outputs": [],
   "source": [
    "lab.to.num <-cbind(\"lab\"=colnames(df.ts),\"num\"=1:length(colnames(df.ts))) %>%as.data.frame\n",
    "lab.to.num$num <- as.numeric(lab.to.num$num)\n",
    "colnames(df.ts) <-lab.to.num$num"
   ]
  },
  {
   "cell_type": "code",
   "execution_count": 95,
   "metadata": {
    "vscode": {
     "languageId": "r"
    }
   },
   "outputs": [],
   "source": [
    "df.train <-df.ts %>% as.data.frame"
   ]
  },
  {
   "cell_type": "code",
   "execution_count": 96,
   "metadata": {
    "vscode": {
     "languageId": "r"
    }
   },
   "outputs": [],
   "source": [
    "#-----------------------------\n",
    "# Scaled the train sample and get the sample factor parmas: mean + sd\n",
    "scaled_train <- scale(df.train)\n",
    "scale_factor <-list(\"center\"=attr(scaled_train,\"scaled:center\"),\"sd\"=attr(scaled_train,\"scaled:scale\"))"
   ]
  },
  {
   "cell_type": "code",
   "execution_count": 97,
   "metadata": {
    "vscode": {
     "languageId": "r"
    }
   },
   "outputs": [],
   "source": [
    "#----------------\n",
    "# We d like to do a 6 Quarter forecast,\n",
    "# We need to base each prediction on 6 points\n",
    "prediction <- 6\n",
    "lag <- prediction"
   ]
  },
  {
   "cell_type": "code",
   "execution_count": 98,
   "metadata": {
    "vscode": {
     "languageId": "r"
    }
   },
   "outputs": [],
   "source": [
    "\n",
    "x_train_data <-t(sapply(\n",
    "    1:(dim(scaled_train)[1]-lag-prediction +1),\n",
    "    function(x){scaled_train[x:(x+lag-1),1]}\n",
    "))\n",
    "\n",
    "for(i in 2:ncol(scaled_train)){\n",
    "    new <-t(sapply(\n",
    "        1:(dim(scaled_train)[1]-lag-prediction +1),\n",
    "        function(x){scaled_train[x:(x+lag-1),i]}\n",
    "    ))\n",
    "    x_train_data <-cbind(x_train_data,new)\n",
    "    \n",
    "}"
   ]
  },
  {
   "cell_type": "code",
   "execution_count": 99,
   "metadata": {
    "vscode": {
     "languageId": "r"
    }
   },
   "outputs": [
    {
     "name": "stdout",
     "output_type": "stream",
     "text": [
      "Shape de  X_train : 29 156"
     ]
    }
   ],
   "source": [
    "cat(\"Shape de  X_train :\",x_train_data%>% dim)"
   ]
  },
  {
   "cell_type": "code",
   "execution_count": 100,
   "metadata": {
    "vscode": {
     "languageId": "r"
    }
   },
   "outputs": [],
   "source": [
    "x_train_arr <- array(\n",
    "    data=as.numeric(unlist(x_train_data)),\n",
    "    dim=c(\n",
    "        nrow(x_train_data),\n",
    "        ncol(x_train_data),\n",
    "        1\n",
    "        )\n",
    "\n",
    ")\n"
   ]
  },
  {
   "cell_type": "code",
   "execution_count": 101,
   "metadata": {
    "vscode": {
     "languageId": "r"
    }
   },
   "outputs": [],
   "source": [
    "y_train_data <-  t(sapply(\n",
    "    (1+lag):(dim(scaled_train)[1]-prediction +1),\n",
    "    function(x){scaled_train[x:(x+prediction-1),1]}\n",
    "))\n",
    "y_train_arr <-array(\n",
    "    data=as.numeric(unlist(y_train_data)),\n",
    "    dim=c(\n",
    "        nrow(y_train_data),\n",
    "        prediction,\n",
    "        1\n",
    "    )\n",
    ")"
   ]
  },
  {
   "cell_type": "code",
   "execution_count": 102,
   "metadata": {
    "vscode": {
     "languageId": "r"
    }
   },
   "outputs": [],
   "source": [
    "x_test <-df.train[(nrow(scaled_train)- prediction+1):nrow(scaled_train),]\n",
    "for(i in 1:ncol(x_test)){\n",
    "    x_test[,i] <-(x_test[,i] -scale_factor[[\"center\"]][i])/scale_factor[[\"sd\"]][i]\n",
    "}\n",
    "x_test_scaled <- x_test[,1]"
   ]
  },
  {
   "cell_type": "code",
   "execution_count": 103,
   "metadata": {
    "vscode": {
     "languageId": "r"
    }
   },
   "outputs": [
    {
     "data": {
      "text/html": [
       "<table class=\"dataframe\">\n",
       "<caption>A data.frame: 6 × 26</caption>\n",
       "<thead>\n",
       "\t<tr><th></th><th scope=col>1</th><th scope=col>2</th><th scope=col>3</th><th scope=col>4</th><th scope=col>5</th><th scope=col>6</th><th scope=col>7</th><th scope=col>8</th><th scope=col>9</th><th scope=col>10</th><th scope=col>⋯</th><th scope=col>17</th><th scope=col>18</th><th scope=col>19</th><th scope=col>20</th><th scope=col>21</th><th scope=col>22</th><th scope=col>23</th><th scope=col>24</th><th scope=col>25</th><th scope=col>26</th></tr>\n",
       "\t<tr><th></th><th scope=col>&lt;dbl&gt;</th><th scope=col>&lt;dbl&gt;</th><th scope=col>&lt;dbl&gt;</th><th scope=col>&lt;dbl&gt;</th><th scope=col>&lt;dbl&gt;</th><th scope=col>&lt;dbl&gt;</th><th scope=col>&lt;dbl&gt;</th><th scope=col>&lt;dbl&gt;</th><th scope=col>&lt;dbl&gt;</th><th scope=col>&lt;dbl&gt;</th><th scope=col>⋯</th><th scope=col>&lt;dbl&gt;</th><th scope=col>&lt;dbl&gt;</th><th scope=col>&lt;dbl&gt;</th><th scope=col>&lt;dbl&gt;</th><th scope=col>&lt;dbl&gt;</th><th scope=col>&lt;dbl&gt;</th><th scope=col>&lt;dbl&gt;</th><th scope=col>&lt;dbl&gt;</th><th scope=col>&lt;dbl&gt;</th><th scope=col>&lt;dbl&gt;</th></tr>\n",
       "</thead>\n",
       "<tbody>\n",
       "\t<tr><th scope=row>35</th><td>-1.431074</td><td>-0.2819201</td><td>0.02739667</td><td>-0.2392895</td><td>-2.037024</td><td>-0.8231048</td><td>1.094363</td><td>1.049924</td><td>1.325868</td><td>-1.07950734</td><td>⋯</td><td> 0.09966473</td><td>-1.83878403</td><td>-2.319888</td><td>-0.8215552</td><td>-1.8710760</td><td>-0.9745028</td><td>-1.656126</td><td>-1.56195820</td><td>-1.770070</td><td>1.443310</td></tr>\n",
       "\t<tr><th scope=row>36</th><td>-1.472877</td><td>-0.2167363</td><td>0.02739667</td><td>-0.7566721</td><td>-1.767962</td><td>-0.8231048</td><td>1.094363</td><td>1.239955</td><td>1.403122</td><td>-0.93509164</td><td>⋯</td><td>-0.90843824</td><td> 0.15582916</td><td>-1.831491</td><td>-0.8215552</td><td>-1.5163697</td><td>-1.1985265</td><td>-1.701375</td><td>-0.23505196</td><td>-1.681677</td><td>1.847033</td></tr>\n",
       "\t<tr><th scope=row>37</th><td>-1.584354</td><td> 0.1743668</td><td>0.02739667</td><td>-0.7566721</td><td>-1.902493</td><td>-0.3841156</td><td>1.593692</td><td>1.810049</td><td>1.596256</td><td>-0.93509164</td><td>⋯</td><td>-0.81679252</td><td> 0.40515580</td><td>-1.343093</td><td>-0.8215552</td><td>-1.3390165</td><td>-1.4225501</td><td>-1.837123</td><td>-1.14493053</td><td>-2.167838</td><td>1.443310</td></tr>\n",
       "\t<tr><th scope=row>38</th><td>-1.667961</td><td>-0.6730231</td><td>0.02739667</td><td>-0.7566721</td><td>-1.835227</td><td> 0.4938629</td><td>1.760135</td><td>1.620018</td><td>1.634883</td><td>-1.07950734</td><td>⋯</td><td>-0.63350107</td><td> 1.40246240</td><td>-1.343093</td><td>-0.1223593</td><td>-0.9843101</td><td>-0.9745028</td><td>-1.882372</td><td> 0.52318017</td><td>-1.946856</td><td>1.645172</td></tr>\n",
       "\t<tr><th scope=row>39</th><td>-1.849109</td><td>-0.6730231</td><td>1.12326335</td><td>-0.4979808</td><td>-1.835227</td><td>-0.3841156</td><td>1.593692</td><td>1.429987</td><td>1.789390</td><td>-0.35742885</td><td>⋯</td><td> 0.23713331</td><td> 0.15582916</td><td>-1.343093</td><td>-0.4719573</td><td>-1.6937228</td><td>-1.1985265</td><td>-1.565627</td><td>-1.71360463</td><td>-2.189936</td><td>1.847033</td></tr>\n",
       "\t<tr><th scope=row>40</th><td>-1.904847</td><td>-0.8685747</td><td>2.21913003</td><td>-0.4979808</td><td>-1.498900</td><td>-0.3841156</td><td>1.510471</td><td>1.239955</td><td>1.789390</td><td> 0.07581824</td><td>⋯</td><td>-0.81679252</td><td>-0.09349749</td><td>-1.343093</td><td>-0.8215552</td><td>-1.1616633</td><td>-0.7504792</td><td>-1.746624</td><td>-0.08340554</td><td>-2.234133</td><td>2.654480</td></tr>\n",
       "</tbody>\n",
       "</table>\n"
      ],
      "text/latex": [
       "A data.frame: 6 × 26\n",
       "\\begin{tabular}{r|lllllllllllllllllllll}\n",
       "  & 1 & 2 & 3 & 4 & 5 & 6 & 7 & 8 & 9 & 10 & ⋯ & 17 & 18 & 19 & 20 & 21 & 22 & 23 & 24 & 25 & 26\\\\\n",
       "  & <dbl> & <dbl> & <dbl> & <dbl> & <dbl> & <dbl> & <dbl> & <dbl> & <dbl> & <dbl> & ⋯ & <dbl> & <dbl> & <dbl> & <dbl> & <dbl> & <dbl> & <dbl> & <dbl> & <dbl> & <dbl>\\\\\n",
       "\\hline\n",
       "\t35 & -1.431074 & -0.2819201 & 0.02739667 & -0.2392895 & -2.037024 & -0.8231048 & 1.094363 & 1.049924 & 1.325868 & -1.07950734 & ⋯ &  0.09966473 & -1.83878403 & -2.319888 & -0.8215552 & -1.8710760 & -0.9745028 & -1.656126 & -1.56195820 & -1.770070 & 1.443310\\\\\n",
       "\t36 & -1.472877 & -0.2167363 & 0.02739667 & -0.7566721 & -1.767962 & -0.8231048 & 1.094363 & 1.239955 & 1.403122 & -0.93509164 & ⋯ & -0.90843824 &  0.15582916 & -1.831491 & -0.8215552 & -1.5163697 & -1.1985265 & -1.701375 & -0.23505196 & -1.681677 & 1.847033\\\\\n",
       "\t37 & -1.584354 &  0.1743668 & 0.02739667 & -0.7566721 & -1.902493 & -0.3841156 & 1.593692 & 1.810049 & 1.596256 & -0.93509164 & ⋯ & -0.81679252 &  0.40515580 & -1.343093 & -0.8215552 & -1.3390165 & -1.4225501 & -1.837123 & -1.14493053 & -2.167838 & 1.443310\\\\\n",
       "\t38 & -1.667961 & -0.6730231 & 0.02739667 & -0.7566721 & -1.835227 &  0.4938629 & 1.760135 & 1.620018 & 1.634883 & -1.07950734 & ⋯ & -0.63350107 &  1.40246240 & -1.343093 & -0.1223593 & -0.9843101 & -0.9745028 & -1.882372 &  0.52318017 & -1.946856 & 1.645172\\\\\n",
       "\t39 & -1.849109 & -0.6730231 & 1.12326335 & -0.4979808 & -1.835227 & -0.3841156 & 1.593692 & 1.429987 & 1.789390 & -0.35742885 & ⋯ &  0.23713331 &  0.15582916 & -1.343093 & -0.4719573 & -1.6937228 & -1.1985265 & -1.565627 & -1.71360463 & -2.189936 & 1.847033\\\\\n",
       "\t40 & -1.904847 & -0.8685747 & 2.21913003 & -0.4979808 & -1.498900 & -0.3841156 & 1.510471 & 1.239955 & 1.789390 &  0.07581824 & ⋯ & -0.81679252 & -0.09349749 & -1.343093 & -0.8215552 & -1.1616633 & -0.7504792 & -1.746624 & -0.08340554 & -2.234133 & 2.654480\\\\\n",
       "\\end{tabular}\n"
      ],
      "text/markdown": [
       "\n",
       "A data.frame: 6 × 26\n",
       "\n",
       "| <!--/--> | 1 &lt;dbl&gt; | 2 &lt;dbl&gt; | 3 &lt;dbl&gt; | 4 &lt;dbl&gt; | 5 &lt;dbl&gt; | 6 &lt;dbl&gt; | 7 &lt;dbl&gt; | 8 &lt;dbl&gt; | 9 &lt;dbl&gt; | 10 &lt;dbl&gt; | ⋯ ⋯ | 17 &lt;dbl&gt; | 18 &lt;dbl&gt; | 19 &lt;dbl&gt; | 20 &lt;dbl&gt; | 21 &lt;dbl&gt; | 22 &lt;dbl&gt; | 23 &lt;dbl&gt; | 24 &lt;dbl&gt; | 25 &lt;dbl&gt; | 26 &lt;dbl&gt; |\n",
       "|---|---|---|---|---|---|---|---|---|---|---|---|---|---|---|---|---|---|---|---|---|---|\n",
       "| 35 | -1.431074 | -0.2819201 | 0.02739667 | -0.2392895 | -2.037024 | -0.8231048 | 1.094363 | 1.049924 | 1.325868 | -1.07950734 | ⋯ |  0.09966473 | -1.83878403 | -2.319888 | -0.8215552 | -1.8710760 | -0.9745028 | -1.656126 | -1.56195820 | -1.770070 | 1.443310 |\n",
       "| 36 | -1.472877 | -0.2167363 | 0.02739667 | -0.7566721 | -1.767962 | -0.8231048 | 1.094363 | 1.239955 | 1.403122 | -0.93509164 | ⋯ | -0.90843824 |  0.15582916 | -1.831491 | -0.8215552 | -1.5163697 | -1.1985265 | -1.701375 | -0.23505196 | -1.681677 | 1.847033 |\n",
       "| 37 | -1.584354 |  0.1743668 | 0.02739667 | -0.7566721 | -1.902493 | -0.3841156 | 1.593692 | 1.810049 | 1.596256 | -0.93509164 | ⋯ | -0.81679252 |  0.40515580 | -1.343093 | -0.8215552 | -1.3390165 | -1.4225501 | -1.837123 | -1.14493053 | -2.167838 | 1.443310 |\n",
       "| 38 | -1.667961 | -0.6730231 | 0.02739667 | -0.7566721 | -1.835227 |  0.4938629 | 1.760135 | 1.620018 | 1.634883 | -1.07950734 | ⋯ | -0.63350107 |  1.40246240 | -1.343093 | -0.1223593 | -0.9843101 | -0.9745028 | -1.882372 |  0.52318017 | -1.946856 | 1.645172 |\n",
       "| 39 | -1.849109 | -0.6730231 | 1.12326335 | -0.4979808 | -1.835227 | -0.3841156 | 1.593692 | 1.429987 | 1.789390 | -0.35742885 | ⋯ |  0.23713331 |  0.15582916 | -1.343093 | -0.4719573 | -1.6937228 | -1.1985265 | -1.565627 | -1.71360463 | -2.189936 | 1.847033 |\n",
       "| 40 | -1.904847 | -0.8685747 | 2.21913003 | -0.4979808 | -1.498900 | -0.3841156 | 1.510471 | 1.239955 | 1.789390 |  0.07581824 | ⋯ | -0.81679252 | -0.09349749 | -1.343093 | -0.8215552 | -1.1616633 | -0.7504792 | -1.746624 | -0.08340554 | -2.234133 | 2.654480 |\n",
       "\n"
      ],
      "text/plain": [
       "   1         2          3          4          5         6          7       \n",
       "35 -1.431074 -0.2819201 0.02739667 -0.2392895 -2.037024 -0.8231048 1.094363\n",
       "36 -1.472877 -0.2167363 0.02739667 -0.7566721 -1.767962 -0.8231048 1.094363\n",
       "37 -1.584354  0.1743668 0.02739667 -0.7566721 -1.902493 -0.3841156 1.593692\n",
       "38 -1.667961 -0.6730231 0.02739667 -0.7566721 -1.835227  0.4938629 1.760135\n",
       "39 -1.849109 -0.6730231 1.12326335 -0.4979808 -1.835227 -0.3841156 1.593692\n",
       "40 -1.904847 -0.8685747 2.21913003 -0.4979808 -1.498900 -0.3841156 1.510471\n",
       "   8        9        10          ⋯ 17          18          19        20        \n",
       "35 1.049924 1.325868 -1.07950734 ⋯  0.09966473 -1.83878403 -2.319888 -0.8215552\n",
       "36 1.239955 1.403122 -0.93509164 ⋯ -0.90843824  0.15582916 -1.831491 -0.8215552\n",
       "37 1.810049 1.596256 -0.93509164 ⋯ -0.81679252  0.40515580 -1.343093 -0.8215552\n",
       "38 1.620018 1.634883 -1.07950734 ⋯ -0.63350107  1.40246240 -1.343093 -0.1223593\n",
       "39 1.429987 1.789390 -0.35742885 ⋯  0.23713331  0.15582916 -1.343093 -0.4719573\n",
       "40 1.239955 1.789390  0.07581824 ⋯ -0.81679252 -0.09349749 -1.343093 -0.8215552\n",
       "   21         22         23        24          25        26      \n",
       "35 -1.8710760 -0.9745028 -1.656126 -1.56195820 -1.770070 1.443310\n",
       "36 -1.5163697 -1.1985265 -1.701375 -0.23505196 -1.681677 1.847033\n",
       "37 -1.3390165 -1.4225501 -1.837123 -1.14493053 -2.167838 1.443310\n",
       "38 -0.9843101 -0.9745028 -1.882372  0.52318017 -1.946856 1.645172\n",
       "39 -1.6937228 -1.1985265 -1.565627 -1.71360463 -2.189936 1.847033\n",
       "40 -1.1616633 -0.7504792 -1.746624 -0.08340554 -2.234133 2.654480"
      ]
     },
     "metadata": {},
     "output_type": "display_data"
    }
   ],
   "source": [
    "x_test"
   ]
  },
  {
   "cell_type": "code",
   "execution_count": 104,
   "metadata": {
    "vscode": {
     "languageId": "r"
    }
   },
   "outputs": [],
   "source": [
    "x_pred_arr <- array(\n",
    "    data=x_test,\n",
    "    dim=c(1,lag,1)\n",
    ")"
   ]
  },
  {
   "cell_type": "code",
   "execution_count": 105,
   "metadata": {
    "vscode": {
     "languageId": "r"
    }
   },
   "outputs": [
    {
     "name": "stdout",
     "output_type": "stream",
     "text": [
      "\n",
      "X test scaled : -1.431074 -1.472877 -1.584354 -1.667961 -1.849109 -1.904847"
     ]
    }
   ],
   "source": [
    "cat(\"\\nX test scaled :\",x_test_scaled)"
   ]
  },
  {
   "cell_type": "markdown",
   "metadata": {},
   "source": [
    "<hr>\n",
    "\n",
    "<div id=\"LSTM\">\n",
    "\n",
    "# II. Construct LSTM models"
   ]
  },
  {
   "cell_type": "markdown",
   "metadata": {},
   "source": [
    "<div id=\"LSTMA\">\n",
    "\n",
    "## II.A : LSTM model with non stable TS"
   ]
  },
  {
   "cell_type": "code",
   "execution_count": 106,
   "metadata": {
    "vscode": {
     "languageId": "r"
    }
   },
   "outputs": [
    {
     "data": {
      "text/html": [
       "<style>\n",
       ".list-inline {list-style: none; margin:0; padding: 0}\n",
       ".list-inline>li {display: inline-block}\n",
       ".list-inline>li:not(:last-child)::after {content: \"\\00b7\"; padding: 0 .5ex}\n",
       "</style>\n",
       "<ol class=list-inline><li>29</li><li>156</li><li>1</li></ol>\n"
      ],
      "text/latex": [
       "\\begin{enumerate*}\n",
       "\\item 29\n",
       "\\item 156\n",
       "\\item 1\n",
       "\\end{enumerate*}\n"
      ],
      "text/markdown": [
       "1. 29\n",
       "2. 156\n",
       "3. 1\n",
       "\n",
       "\n"
      ],
      "text/plain": [
       "[1]  29 156   1"
      ]
     },
     "metadata": {},
     "output_type": "display_data"
    },
    {
     "data": {
      "text/html": [
       "<style>\n",
       ".list-inline {list-style: none; margin:0; padding: 0}\n",
       ".list-inline>li {display: inline-block}\n",
       ".list-inline>li:not(:last-child)::after {content: \"\\00b7\"; padding: 0 .5ex}\n",
       "</style>\n",
       "<ol class=list-inline><li>29</li><li>6</li><li>1</li></ol>\n"
      ],
      "text/latex": [
       "\\begin{enumerate*}\n",
       "\\item 29\n",
       "\\item 6\n",
       "\\item 1\n",
       "\\end{enumerate*}\n"
      ],
      "text/markdown": [
       "1. 29\n",
       "2. 6\n",
       "3. 1\n",
       "\n",
       "\n"
      ],
      "text/plain": [
       "[1] 29  6  1"
      ]
     },
     "metadata": {},
     "output_type": "display_data"
    }
   ],
   "source": [
    "x_train_arr %>%dim\n",
    "y_train_arr %>%dim"
   ]
  },
  {
   "cell_type": "code",
   "execution_count": 107,
   "metadata": {
    "vscode": {
     "languageId": "r"
    }
   },
   "outputs": [],
   "source": [
    "\n",
    "x_bis <-sapply(\n",
    "        1:ncol(scaled_train),\n",
    "        function(x){scaled_train[1:(29-1+1),x]}\n",
    ")\n",
    "\n",
    "x_bis_first_array <-array(\n",
    "    data=unlist(x_bis),\n",
    "    dim=c(nrow(x_bis),1,ncol(x_bis))\n",
    ")\n",
    "tot_array <-array(NA, dim=c(\n",
    "    nrow(x_bis),\n",
    "    6,\n",
    "    ncol(x_bis)\n",
    "))\n",
    "tot_array[,1,] <- x_bis_first_array\n",
    "\n",
    "\n",
    "for (i in 2:6){\n",
    "    new <-sapply(\n",
    "        1:ncol(scaled_train),\n",
    "        function(x){scaled_train[i:(i+29-1),x]}\n",
    "    )\n",
    "    new <- array(\n",
    "        data=unlist(new),\n",
    "        dim=c(nrow(x_bis),1,ncol(x_bis))\n",
    "    )\n",
    "    tot_array[,i,] <- new\n",
    "}\n",
    "x_train_arr_bis <- tot_array\n"
   ]
  },
  {
   "cell_type": "code",
   "execution_count": 108,
   "metadata": {
    "vscode": {
     "languageId": "r"
    }
   },
   "outputs": [],
   "source": [
    "\n",
    "y_train_data_bis <-  t(sapply(\n",
    "    (1+lag):(dim(scaled_train)[1]-prediction +1),\n",
    "    function(x){scaled_train[x:(x+prediction-1),1]}\n",
    "))\n",
    "\n",
    "tot_array <-array(NA, dim=c(\n",
    "    nrow(y_train_data_bis),\n",
    "    6,\n",
    "    ncol(scaled_train)\n",
    "))\n",
    "\n",
    "tot_array[,,1] <- y_train_data_bis\n",
    "\n",
    "for (i in 2:ncol(scaled_train)){\n",
    "    new <-  t(sapply(\n",
    "        (1+lag):(dim(scaled_train)[1]-prediction +1),\n",
    "        function(x){scaled_train[x:(x+prediction-1),i]}\n",
    "    ))\n",
    "\n",
    "    new_array <- array(\n",
    "        data=as.numeric(unlist(new)),\n",
    "        dim=c(nrow(new),\n",
    "        ncol(new),\n",
    "        1)\n",
    "    )\n",
    "    tot_array[,,i] <- new_array\n",
    "\n",
    "}\n",
    "\n",
    "y_train_arr_bis <- tot_array\n"
   ]
  },
  {
   "cell_type": "code",
   "execution_count": 109,
   "metadata": {
    "vscode": {
     "languageId": "r"
    }
   },
   "outputs": [
    {
     "data": {
      "text/html": [
       "<style>\n",
       ".list-inline {list-style: none; margin:0; padding: 0}\n",
       ".list-inline>li {display: inline-block}\n",
       ".list-inline>li:not(:last-child)::after {content: \"\\00b7\"; padding: 0 .5ex}\n",
       "</style>\n",
       "<ol class=list-inline><li>29</li><li>6</li><li>26</li></ol>\n"
      ],
      "text/latex": [
       "\\begin{enumerate*}\n",
       "\\item 29\n",
       "\\item 6\n",
       "\\item 26\n",
       "\\end{enumerate*}\n"
      ],
      "text/markdown": [
       "1. 29\n",
       "2. 6\n",
       "3. 26\n",
       "\n",
       "\n"
      ],
      "text/plain": [
       "[1] 29  6 26"
      ]
     },
     "metadata": {},
     "output_type": "display_data"
    },
    {
     "data": {
      "text/html": [
       "<style>\n",
       ".list-inline {list-style: none; margin:0; padding: 0}\n",
       ".list-inline>li {display: inline-block}\n",
       ".list-inline>li:not(:last-child)::after {content: \"\\00b7\"; padding: 0 .5ex}\n",
       "</style>\n",
       "<ol class=list-inline><li>29</li><li>6</li><li>26</li></ol>\n"
      ],
      "text/latex": [
       "\\begin{enumerate*}\n",
       "\\item 29\n",
       "\\item 6\n",
       "\\item 26\n",
       "\\end{enumerate*}\n"
      ],
      "text/markdown": [
       "1. 29\n",
       "2. 6\n",
       "3. 26\n",
       "\n",
       "\n"
      ],
      "text/plain": [
       "[1] 29  6 26"
      ]
     },
     "metadata": {},
     "output_type": "display_data"
    }
   ],
   "source": [
    "\n",
    "x_train_arr_bis%>%dim\n",
    "y_train_arr_bis %>% dim"
   ]
  },
  {
   "cell_type": "code",
   "execution_count": 110,
   "metadata": {
    "vscode": {
     "languageId": "r"
    }
   },
   "outputs": [],
   "source": [
    "LSTM_model <- keras_model_sequential()\n",
    "\n",
    "LSTM_model%>% layer_lstm(\n",
    "    units=50,\n",
    "    batch_input_shape=c(1,6,26),#BATCH size , timestep ,features\n",
    "    return_sequences=T,\n",
    "    stateful=T\n",
    "\n",
    ")%>%\n",
    "layer_dropout(rate=0.5)%>%layer_lstm(\n",
    "    units =50,\n",
    "    return_sequences=T,stateful=T\n",
    ")%>% layer_dropout(rate=0.5)%>% time_distributed(keras::layer_dense(units=26))"
   ]
  },
  {
   "cell_type": "code",
   "execution_count": 111,
   "metadata": {
    "vscode": {
     "languageId": "r"
    }
   },
   "outputs": [
    {
     "name": "stdout",
     "output_type": "stream",
     "text": [
      "Model: \"sequential_2\"\n",
      "________________________________________________________________________________\n",
      " Layer (type)                       Output Shape                    Param #     \n",
      "================================================================================\n",
      " lstm_5 (LSTM)                      (1, 6, 50)                      15400       \n",
      " dropout_5 (Dropout)                (1, 6, 50)                      0           \n",
      " lstm_4 (LSTM)                      (1, 6, 50)                      20200       \n",
      " dropout_4 (Dropout)                (1, 6, 50)                      0           \n",
      " time_distributed_2 (TimeDistribute  (1, 6, 26)                     1326        \n",
      " d)                                                                             \n",
      "================================================================================\n",
      "Total params: 36,926\n",
      "Trainable params: 36,926\n",
      "Non-trainable params: 0\n",
      "________________________________________________________________________________\n"
     ]
    }
   ],
   "source": [
    "LSTM_model %>% compile(loss='mae',optimizer='adam',metrics='accuracy')\n",
    "summary(LSTM_model)"
   ]
  },
  {
   "cell_type": "code",
   "execution_count": 112,
   "metadata": {
    "vscode": {
     "languageId": "r"
    }
   },
   "outputs": [],
   "source": [
    "LSTM_model %>% keras::fit(\n",
    "    x=x_train_arr_bis,\n",
    "    y=y_train_arr_bis,\n",
    "    batch_size=1,\n",
    "    epochs=20,# Number of times to iterate over the training data\n",
    "    verbose=2,\n",
    "    shuffle=FALSE\n",
    ")"
   ]
  },
  {
   "cell_type": "code",
   "execution_count": 113,
   "metadata": {
    "vscode": {
     "languageId": "r"
    }
   },
   "outputs": [
    {
     "data": {
      "text/html": [
       "<table class=\"dataframe\">\n",
       "<caption>A data.frame: 6 × 26</caption>\n",
       "<thead>\n",
       "\t<tr><th></th><th scope=col>1</th><th scope=col>2</th><th scope=col>3</th><th scope=col>4</th><th scope=col>5</th><th scope=col>6</th><th scope=col>7</th><th scope=col>8</th><th scope=col>9</th><th scope=col>10</th><th scope=col>⋯</th><th scope=col>17</th><th scope=col>18</th><th scope=col>19</th><th scope=col>20</th><th scope=col>21</th><th scope=col>22</th><th scope=col>23</th><th scope=col>24</th><th scope=col>25</th><th scope=col>26</th></tr>\n",
       "\t<tr><th></th><th scope=col>&lt;dbl&gt;</th><th scope=col>&lt;dbl&gt;</th><th scope=col>&lt;dbl&gt;</th><th scope=col>&lt;dbl&gt;</th><th scope=col>&lt;dbl&gt;</th><th scope=col>&lt;dbl&gt;</th><th scope=col>&lt;dbl&gt;</th><th scope=col>&lt;dbl&gt;</th><th scope=col>&lt;dbl&gt;</th><th scope=col>&lt;dbl&gt;</th><th scope=col>⋯</th><th scope=col>&lt;dbl&gt;</th><th scope=col>&lt;dbl&gt;</th><th scope=col>&lt;dbl&gt;</th><th scope=col>&lt;dbl&gt;</th><th scope=col>&lt;dbl&gt;</th><th scope=col>&lt;dbl&gt;</th><th scope=col>&lt;dbl&gt;</th><th scope=col>&lt;dbl&gt;</th><th scope=col>&lt;dbl&gt;</th><th scope=col>&lt;dbl&gt;</th></tr>\n",
       "</thead>\n",
       "<tbody>\n",
       "\t<tr><th scope=row>35</th><td>-1.431074</td><td>-0.2819201</td><td>0.02739667</td><td>-0.2392895</td><td>-2.037024</td><td>-0.8231048</td><td>1.094363</td><td>1.049924</td><td>1.325868</td><td>-1.07950734</td><td>⋯</td><td> 0.09966473</td><td>-1.83878403</td><td>-2.319888</td><td>-0.8215552</td><td>-1.8710760</td><td>-0.9745028</td><td>-1.656126</td><td>-1.56195820</td><td>-1.770070</td><td>1.443310</td></tr>\n",
       "\t<tr><th scope=row>36</th><td>-1.472877</td><td>-0.2167363</td><td>0.02739667</td><td>-0.7566721</td><td>-1.767962</td><td>-0.8231048</td><td>1.094363</td><td>1.239955</td><td>1.403122</td><td>-0.93509164</td><td>⋯</td><td>-0.90843824</td><td> 0.15582916</td><td>-1.831491</td><td>-0.8215552</td><td>-1.5163697</td><td>-1.1985265</td><td>-1.701375</td><td>-0.23505196</td><td>-1.681677</td><td>1.847033</td></tr>\n",
       "\t<tr><th scope=row>37</th><td>-1.584354</td><td> 0.1743668</td><td>0.02739667</td><td>-0.7566721</td><td>-1.902493</td><td>-0.3841156</td><td>1.593692</td><td>1.810049</td><td>1.596256</td><td>-0.93509164</td><td>⋯</td><td>-0.81679252</td><td> 0.40515580</td><td>-1.343093</td><td>-0.8215552</td><td>-1.3390165</td><td>-1.4225501</td><td>-1.837123</td><td>-1.14493053</td><td>-2.167838</td><td>1.443310</td></tr>\n",
       "\t<tr><th scope=row>38</th><td>-1.667961</td><td>-0.6730231</td><td>0.02739667</td><td>-0.7566721</td><td>-1.835227</td><td> 0.4938629</td><td>1.760135</td><td>1.620018</td><td>1.634883</td><td>-1.07950734</td><td>⋯</td><td>-0.63350107</td><td> 1.40246240</td><td>-1.343093</td><td>-0.1223593</td><td>-0.9843101</td><td>-0.9745028</td><td>-1.882372</td><td> 0.52318017</td><td>-1.946856</td><td>1.645172</td></tr>\n",
       "\t<tr><th scope=row>39</th><td>-1.849109</td><td>-0.6730231</td><td>1.12326335</td><td>-0.4979808</td><td>-1.835227</td><td>-0.3841156</td><td>1.593692</td><td>1.429987</td><td>1.789390</td><td>-0.35742885</td><td>⋯</td><td> 0.23713331</td><td> 0.15582916</td><td>-1.343093</td><td>-0.4719573</td><td>-1.6937228</td><td>-1.1985265</td><td>-1.565627</td><td>-1.71360463</td><td>-2.189936</td><td>1.847033</td></tr>\n",
       "\t<tr><th scope=row>40</th><td>-1.904847</td><td>-0.8685747</td><td>2.21913003</td><td>-0.4979808</td><td>-1.498900</td><td>-0.3841156</td><td>1.510471</td><td>1.239955</td><td>1.789390</td><td> 0.07581824</td><td>⋯</td><td>-0.81679252</td><td>-0.09349749</td><td>-1.343093</td><td>-0.8215552</td><td>-1.1616633</td><td>-0.7504792</td><td>-1.746624</td><td>-0.08340554</td><td>-2.234133</td><td>2.654480</td></tr>\n",
       "</tbody>\n",
       "</table>\n"
      ],
      "text/latex": [
       "A data.frame: 6 × 26\n",
       "\\begin{tabular}{r|lllllllllllllllllllll}\n",
       "  & 1 & 2 & 3 & 4 & 5 & 6 & 7 & 8 & 9 & 10 & ⋯ & 17 & 18 & 19 & 20 & 21 & 22 & 23 & 24 & 25 & 26\\\\\n",
       "  & <dbl> & <dbl> & <dbl> & <dbl> & <dbl> & <dbl> & <dbl> & <dbl> & <dbl> & <dbl> & ⋯ & <dbl> & <dbl> & <dbl> & <dbl> & <dbl> & <dbl> & <dbl> & <dbl> & <dbl> & <dbl>\\\\\n",
       "\\hline\n",
       "\t35 & -1.431074 & -0.2819201 & 0.02739667 & -0.2392895 & -2.037024 & -0.8231048 & 1.094363 & 1.049924 & 1.325868 & -1.07950734 & ⋯ &  0.09966473 & -1.83878403 & -2.319888 & -0.8215552 & -1.8710760 & -0.9745028 & -1.656126 & -1.56195820 & -1.770070 & 1.443310\\\\\n",
       "\t36 & -1.472877 & -0.2167363 & 0.02739667 & -0.7566721 & -1.767962 & -0.8231048 & 1.094363 & 1.239955 & 1.403122 & -0.93509164 & ⋯ & -0.90843824 &  0.15582916 & -1.831491 & -0.8215552 & -1.5163697 & -1.1985265 & -1.701375 & -0.23505196 & -1.681677 & 1.847033\\\\\n",
       "\t37 & -1.584354 &  0.1743668 & 0.02739667 & -0.7566721 & -1.902493 & -0.3841156 & 1.593692 & 1.810049 & 1.596256 & -0.93509164 & ⋯ & -0.81679252 &  0.40515580 & -1.343093 & -0.8215552 & -1.3390165 & -1.4225501 & -1.837123 & -1.14493053 & -2.167838 & 1.443310\\\\\n",
       "\t38 & -1.667961 & -0.6730231 & 0.02739667 & -0.7566721 & -1.835227 &  0.4938629 & 1.760135 & 1.620018 & 1.634883 & -1.07950734 & ⋯ & -0.63350107 &  1.40246240 & -1.343093 & -0.1223593 & -0.9843101 & -0.9745028 & -1.882372 &  0.52318017 & -1.946856 & 1.645172\\\\\n",
       "\t39 & -1.849109 & -0.6730231 & 1.12326335 & -0.4979808 & -1.835227 & -0.3841156 & 1.593692 & 1.429987 & 1.789390 & -0.35742885 & ⋯ &  0.23713331 &  0.15582916 & -1.343093 & -0.4719573 & -1.6937228 & -1.1985265 & -1.565627 & -1.71360463 & -2.189936 & 1.847033\\\\\n",
       "\t40 & -1.904847 & -0.8685747 & 2.21913003 & -0.4979808 & -1.498900 & -0.3841156 & 1.510471 & 1.239955 & 1.789390 &  0.07581824 & ⋯ & -0.81679252 & -0.09349749 & -1.343093 & -0.8215552 & -1.1616633 & -0.7504792 & -1.746624 & -0.08340554 & -2.234133 & 2.654480\\\\\n",
       "\\end{tabular}\n"
      ],
      "text/markdown": [
       "\n",
       "A data.frame: 6 × 26\n",
       "\n",
       "| <!--/--> | 1 &lt;dbl&gt; | 2 &lt;dbl&gt; | 3 &lt;dbl&gt; | 4 &lt;dbl&gt; | 5 &lt;dbl&gt; | 6 &lt;dbl&gt; | 7 &lt;dbl&gt; | 8 &lt;dbl&gt; | 9 &lt;dbl&gt; | 10 &lt;dbl&gt; | ⋯ ⋯ | 17 &lt;dbl&gt; | 18 &lt;dbl&gt; | 19 &lt;dbl&gt; | 20 &lt;dbl&gt; | 21 &lt;dbl&gt; | 22 &lt;dbl&gt; | 23 &lt;dbl&gt; | 24 &lt;dbl&gt; | 25 &lt;dbl&gt; | 26 &lt;dbl&gt; |\n",
       "|---|---|---|---|---|---|---|---|---|---|---|---|---|---|---|---|---|---|---|---|---|---|\n",
       "| 35 | -1.431074 | -0.2819201 | 0.02739667 | -0.2392895 | -2.037024 | -0.8231048 | 1.094363 | 1.049924 | 1.325868 | -1.07950734 | ⋯ |  0.09966473 | -1.83878403 | -2.319888 | -0.8215552 | -1.8710760 | -0.9745028 | -1.656126 | -1.56195820 | -1.770070 | 1.443310 |\n",
       "| 36 | -1.472877 | -0.2167363 | 0.02739667 | -0.7566721 | -1.767962 | -0.8231048 | 1.094363 | 1.239955 | 1.403122 | -0.93509164 | ⋯ | -0.90843824 |  0.15582916 | -1.831491 | -0.8215552 | -1.5163697 | -1.1985265 | -1.701375 | -0.23505196 | -1.681677 | 1.847033 |\n",
       "| 37 | -1.584354 |  0.1743668 | 0.02739667 | -0.7566721 | -1.902493 | -0.3841156 | 1.593692 | 1.810049 | 1.596256 | -0.93509164 | ⋯ | -0.81679252 |  0.40515580 | -1.343093 | -0.8215552 | -1.3390165 | -1.4225501 | -1.837123 | -1.14493053 | -2.167838 | 1.443310 |\n",
       "| 38 | -1.667961 | -0.6730231 | 0.02739667 | -0.7566721 | -1.835227 |  0.4938629 | 1.760135 | 1.620018 | 1.634883 | -1.07950734 | ⋯ | -0.63350107 |  1.40246240 | -1.343093 | -0.1223593 | -0.9843101 | -0.9745028 | -1.882372 |  0.52318017 | -1.946856 | 1.645172 |\n",
       "| 39 | -1.849109 | -0.6730231 | 1.12326335 | -0.4979808 | -1.835227 | -0.3841156 | 1.593692 | 1.429987 | 1.789390 | -0.35742885 | ⋯ |  0.23713331 |  0.15582916 | -1.343093 | -0.4719573 | -1.6937228 | -1.1985265 | -1.565627 | -1.71360463 | -2.189936 | 1.847033 |\n",
       "| 40 | -1.904847 | -0.8685747 | 2.21913003 | -0.4979808 | -1.498900 | -0.3841156 | 1.510471 | 1.239955 | 1.789390 |  0.07581824 | ⋯ | -0.81679252 | -0.09349749 | -1.343093 | -0.8215552 | -1.1616633 | -0.7504792 | -1.746624 | -0.08340554 | -2.234133 | 2.654480 |\n",
       "\n"
      ],
      "text/plain": [
       "   1         2          3          4          5         6          7       \n",
       "35 -1.431074 -0.2819201 0.02739667 -0.2392895 -2.037024 -0.8231048 1.094363\n",
       "36 -1.472877 -0.2167363 0.02739667 -0.7566721 -1.767962 -0.8231048 1.094363\n",
       "37 -1.584354  0.1743668 0.02739667 -0.7566721 -1.902493 -0.3841156 1.593692\n",
       "38 -1.667961 -0.6730231 0.02739667 -0.7566721 -1.835227  0.4938629 1.760135\n",
       "39 -1.849109 -0.6730231 1.12326335 -0.4979808 -1.835227 -0.3841156 1.593692\n",
       "40 -1.904847 -0.8685747 2.21913003 -0.4979808 -1.498900 -0.3841156 1.510471\n",
       "   8        9        10          ⋯ 17          18          19        20        \n",
       "35 1.049924 1.325868 -1.07950734 ⋯  0.09966473 -1.83878403 -2.319888 -0.8215552\n",
       "36 1.239955 1.403122 -0.93509164 ⋯ -0.90843824  0.15582916 -1.831491 -0.8215552\n",
       "37 1.810049 1.596256 -0.93509164 ⋯ -0.81679252  0.40515580 -1.343093 -0.8215552\n",
       "38 1.620018 1.634883 -1.07950734 ⋯ -0.63350107  1.40246240 -1.343093 -0.1223593\n",
       "39 1.429987 1.789390 -0.35742885 ⋯  0.23713331  0.15582916 -1.343093 -0.4719573\n",
       "40 1.239955 1.789390  0.07581824 ⋯ -0.81679252 -0.09349749 -1.343093 -0.8215552\n",
       "   21         22         23        24          25        26      \n",
       "35 -1.8710760 -0.9745028 -1.656126 -1.56195820 -1.770070 1.443310\n",
       "36 -1.5163697 -1.1985265 -1.701375 -0.23505196 -1.681677 1.847033\n",
       "37 -1.3390165 -1.4225501 -1.837123 -1.14493053 -2.167838 1.443310\n",
       "38 -0.9843101 -0.9745028 -1.882372  0.52318017 -1.946856 1.645172\n",
       "39 -1.6937228 -1.1985265 -1.565627 -1.71360463 -2.189936 1.847033\n",
       "40 -1.1616633 -0.7504792 -1.746624 -0.08340554 -2.234133 2.654480"
      ]
     },
     "metadata": {},
     "output_type": "display_data"
    }
   ],
   "source": [
    "x_test <-df.train[(nrow(scaled_train)- prediction+1):nrow(scaled_train),]\n",
    "for(i in 1:ncol(x_test)){\n",
    "    x_test[,i] <-(x_test[,i] -scale_factor[[\"center\"]][i])/scale_factor[[\"sd\"]][i]\n",
    "}\n",
    "x_test_scaled <- x_test\n",
    "x_test_scaled"
   ]
  },
  {
   "cell_type": "code",
   "execution_count": 114,
   "metadata": {
    "vscode": {
     "languageId": "r"
    }
   },
   "outputs": [],
   "source": [
    "\n",
    "x_test_array <- array(\n",
    "    data = as.numeric(unlist(x_test_scaled)),\n",
    "    dim=c(1,6,26)\n",
    ")"
   ]
  },
  {
   "cell_type": "code",
   "execution_count": 115,
   "metadata": {
    "vscode": {
     "languageId": "r"
    }
   },
   "outputs": [
    {
     "data": {
      "text/html": [
       "<style>\n",
       ".list-inline {list-style: none; margin:0; padding: 0}\n",
       ".list-inline>li {display: inline-block}\n",
       ".list-inline>li:not(:last-child)::after {content: \"\\00b7\"; padding: 0 .5ex}\n",
       "</style>\n",
       "<ol class=list-inline><li>1</li><li>6</li><li>26</li></ol>\n"
      ],
      "text/latex": [
       "\\begin{enumerate*}\n",
       "\\item 1\n",
       "\\item 6\n",
       "\\item 26\n",
       "\\end{enumerate*}\n"
      ],
      "text/markdown": [
       "1. 1\n",
       "2. 6\n",
       "3. 26\n",
       "\n",
       "\n"
      ],
      "text/plain": [
       "[1]  1  6 26"
      ]
     },
     "metadata": {},
     "output_type": "display_data"
    }
   ],
   "source": [
    "x_test_array %>%dim"
   ]
  },
  {
   "cell_type": "code",
   "execution_count": 116,
   "metadata": {
    "vscode": {
     "languageId": "r"
    }
   },
   "outputs": [
    {
     "data": {
      "text/html": [
       "<style>\n",
       ".list-inline {list-style: none; margin:0; padding: 0}\n",
       ".list-inline>li {display: inline-block}\n",
       ".list-inline>li:not(:last-child)::after {content: \"\\00b7\"; padding: 0 .5ex}\n",
       "</style>\n",
       "<ol class=list-inline><li>1</li><li>6</li><li>26</li></ol>\n"
      ],
      "text/latex": [
       "\\begin{enumerate*}\n",
       "\\item 1\n",
       "\\item 6\n",
       "\\item 26\n",
       "\\end{enumerate*}\n"
      ],
      "text/markdown": [
       "1. 1\n",
       "2. 6\n",
       "3. 26\n",
       "\n",
       "\n"
      ],
      "text/plain": [
       "[1]  1  6 26"
      ]
     },
     "metadata": {},
     "output_type": "display_data"
    }
   ],
   "source": [
    "LSTM_forecast <- LSTM_model %>% predict(x_test_array,batch_size=1)\n",
    "LSTM_forecast %>%dim"
   ]
  },
  {
   "cell_type": "code",
   "execution_count": 117,
   "metadata": {
    "vscode": {
     "languageId": "r"
    }
   },
   "outputs": [
    {
     "data": {
      "text/html": [
       "<style>\n",
       ".list-inline {list-style: none; margin:0; padding: 0}\n",
       ".list-inline>li {display: inline-block}\n",
       ".list-inline>li:not(:last-child)::after {content: \"\\00b7\"; padding: 0 .5ex}\n",
       "</style>\n",
       "<ol class=list-inline><li>-1.22233176231384</li><li>-1.19508349895477</li><li>-1.20603799819946</li><li>-1.18422949314117</li><li>-1.24468183517456</li><li>-1.22500896453857</li></ol>\n"
      ],
      "text/latex": [
       "\\begin{enumerate*}\n",
       "\\item -1.22233176231384\n",
       "\\item -1.19508349895477\n",
       "\\item -1.20603799819946\n",
       "\\item -1.18422949314117\n",
       "\\item -1.24468183517456\n",
       "\\item -1.22500896453857\n",
       "\\end{enumerate*}\n"
      ],
      "text/markdown": [
       "1. -1.22233176231384\n",
       "2. -1.19508349895477\n",
       "3. -1.20603799819946\n",
       "4. -1.18422949314117\n",
       "5. -1.24468183517456\n",
       "6. -1.22500896453857\n",
       "\n",
       "\n"
      ],
      "text/plain": [
       "[1] -1.222332 -1.195083 -1.206038 -1.184229 -1.244682 -1.225009"
      ]
     },
     "metadata": {},
     "output_type": "display_data"
    }
   ],
   "source": [
    "LSTM_forecast[,,1] "
   ]
  },
  {
   "cell_type": "code",
   "execution_count": 118,
   "metadata": {
    "vscode": {
     "languageId": "r"
    }
   },
   "outputs": [],
   "source": [
    "# Unscale prediction\n",
    "for (i in 1: dim(LSTM_forecast)[3]){\n",
    "    LSTM_forecast[,,i] <- LSTM_forecast[,,i] * scale_factor[[\"sd\"]][i] +scale_factor[[\"center\"]][i]\n",
    "}"
   ]
  },
  {
   "cell_type": "code",
   "execution_count": 119,
   "metadata": {
    "vscode": {
     "languageId": "r"
    }
   },
   "outputs": [
    {
     "data": {
      "text/html": [
       "<style>\n",
       ".list-inline {list-style: none; margin:0; padding: 0}\n",
       ".list-inline>li {display: inline-block}\n",
       ".list-inline>li:not(:last-child)::after {content: \"\\00b7\"; padding: 0 .5ex}\n",
       "</style>\n",
       "<ol class=list-inline><li>1111.9802331801</li><li>1113.93568535912</li><li>1113.14954353658</li><li>1114.71461534228</li><li>1110.37629614746</li><li>1111.78810567256</li></ol>\n"
      ],
      "text/latex": [
       "\\begin{enumerate*}\n",
       "\\item 1111.9802331801\n",
       "\\item 1113.93568535912\n",
       "\\item 1113.14954353658\n",
       "\\item 1114.71461534228\n",
       "\\item 1110.37629614746\n",
       "\\item 1111.78810567256\n",
       "\\end{enumerate*}\n"
      ],
      "text/markdown": [
       "1. 1111.9802331801\n",
       "2. 1113.93568535912\n",
       "3. 1113.14954353658\n",
       "4. 1114.71461534228\n",
       "5. 1110.37629614746\n",
       "6. 1111.78810567256\n",
       "\n",
       "\n"
      ],
      "text/plain": [
       "[1] 1111.980 1113.936 1113.150 1114.715 1110.376 1111.788"
      ]
     },
     "metadata": {},
     "output_type": "display_data"
    }
   ],
   "source": [
    "LSTM_forecast[,,1]"
   ]
  },
  {
   "cell_type": "code",
   "execution_count": 120,
   "metadata": {
    "vscode": {
     "languageId": "r"
    }
   },
   "outputs": [
    {
     "data": {
      "image/png": "[encoded data removed]",
      "text/plain": [
       "plot without title"
      ]
     },
     "metadata": {
      "image/png": {
       "height": 420,
       "width": 420
      }
     },
     "output_type": "display_data"
    }
   ],
   "source": [
    "index_secteur <- 8\n",
    "pred <-c(df.ts[1:(nrow(scaled_train)-prediction),index_secteur],LSTM_forecast[,,index_secteur])\n",
    "pred <-ts(pred, start=c(2010,1),frequency=4)\n",
    "obs <- df.ts[,index_secteur]\n",
    "\n",
    "plot.ts(\n",
    "    cbind(pred,obs),\n",
    "    plot.type=\"single\",\n",
    "    lty=c(1,2),\n",
    "    lwd=1,\n",
    "    xlab=\"t\",\n",
    "    ylab=paste(\"Nombre d'Etablissements en GE pour le secteur :\",lab.to.num$lab[index_secteur],sep=\"\"),\n",
    "    \n",
    "    col=c(\"blue\",\"red\")\n",
    ")\n",
    "legend(\"topleft\",\n",
    "\n",
    "    legend=c(\"Prédictions\",\"Observations\"),\n",
    "    col=c(\"blue\",\"red\"),\n",
    "    lty=c(1,2),\n",
    "    lwd=1\n",
    ")"
   ]
  },
  {
   "cell_type": "markdown",
   "metadata": {},
   "source": [
    "<hr>\n",
    "\n",
    "### Save results"
   ]
  },
  {
   "cell_type": "code",
   "execution_count": 121,
   "metadata": {
    "vscode": {
     "languageId": "r"
    }
   },
   "outputs": [],
   "source": [
    "#-------------------------------\n",
    "#Save all plots\n",
    "for( index_secteur in 1:ncol(scaled_train)){\n",
    "\n",
    "    png(file=paste(\"plots/LSTM_non_stable/\",index_secteur,\".png\",sep=\"\"))\n",
    "    pred <-c(df.ts[1:(nrow(scaled_train)-prediction),index_secteur],LSTM_forecast[,,index_secteur])\n",
    "    pred <-ts(pred, start=c(2010,1),frequency=4)\n",
    "    obs <- df.ts[,index_secteur]\n",
    "\n",
    "    plot.ts(\n",
    "        cbind(pred,obs),\n",
    "        plot.type=\"single\",\n",
    "        main=paste(\"Predictions LSTM non stable vs observations \\n secteur : \",lab.to.num$lab[index_secteur],sep=\"\"),\n",
    "        col=c(\"blue\",\"red\"),\n",
    "        lty=c(2,1),\n",
    "        lwd=1,\n",
    "        xlab=\"t\",\n",
    "        ylab=paste(\"Nombre d'Etablissements en GE pour le secteur :\",lab.to.num$lab[index_secteur],sep=\"\"),\n",
    "\n",
    "    )\n",
    "    legend(\"topleft\",\n",
    "        legend=c(\"Prédictions\",\"Observations\"),\n",
    "        col=c(\"blue\",\"red\"),\n",
    "        lty=c(2,1),\n",
    "        lwd=1\n",
    ")\n",
    "    dev.off()\n",
    "}"
   ]
  },
  {
   "cell_type": "code",
   "execution_count": 122,
   "metadata": {
    "vscode": {
     "languageId": "r"
    }
   },
   "outputs": [],
   "source": [
    "#----------------------\n",
    "#Save model\n",
    "save_model_tf(LSTM_model,\"models/LSTM_non_stable\")"
   ]
  },
  {
   "cell_type": "markdown",
   "metadata": {},
   "source": [
    "<hr>\n",
    "\n",
    "<div id=\"LSTMB\">\n",
    "\n",
    "## II.B LSTM model with stable TS"
   ]
  },
  {
   "cell_type": "code",
   "execution_count": 123,
   "metadata": {
    "vscode": {
     "languageId": "r"
    }
   },
   "outputs": [],
   "source": [
    "df.diff <-diff(df.ts)\n",
    "df.train <-df.diff%>%as.data.frame\n",
    "scaled_train <- scale(df.train)\n",
    "scale_factor <-list(\"center\"=attr(scaled_train,\"scaled:center\"),\"sd\"=attr(scaled_train,\"scaled:scale\"))\n",
    "prediction <- 6\n",
    "lag <- prediction"
   ]
  },
  {
   "cell_type": "code",
   "execution_count": 124,
   "metadata": {
    "vscode": {
     "languageId": "r"
    }
   },
   "outputs": [
    {
     "data": {
      "text/html": [
       "<style>\n",
       ".list-inline {list-style: none; margin:0; padding: 0}\n",
       ".list-inline>li {display: inline-block}\n",
       ".list-inline>li:not(:last-child)::after {content: \"\\00b7\"; padding: 0 .5ex}\n",
       "</style>\n",
       "<ol class=list-inline><li>28</li><li>156</li><li>1</li></ol>\n"
      ],
      "text/latex": [
       "\\begin{enumerate*}\n",
       "\\item 28\n",
       "\\item 156\n",
       "\\item 1\n",
       "\\end{enumerate*}\n"
      ],
      "text/markdown": [
       "1. 28\n",
       "2. 156\n",
       "3. 1\n",
       "\n",
       "\n"
      ],
      "text/plain": [
       "[1]  28 156   1"
      ]
     },
     "metadata": {},
     "output_type": "display_data"
    }
   ],
   "source": [
    "x_train_data <-t(sapply(\n",
    "    1:(dim(scaled_train)[1]-lag-prediction +1),\n",
    "    function(x){scaled_train[x:(x+lag-1),1]}\n",
    "))\n",
    "\n",
    "for(i in 2:ncol(scaled_train)){\n",
    "    new <-t(sapply(\n",
    "        1:(dim(scaled_train)[1]-lag-prediction +1),\n",
    "        function(x){scaled_train[x:(x+lag-1),i]}\n",
    "    ))\n",
    "    x_train_data <-cbind(x_train_data,new)\n",
    "    \n",
    "}\n",
    "\n",
    "x_train_arr <- array(\n",
    "    data=as.numeric(unlist(x_train_data)),\n",
    "    dim=c(\n",
    "        nrow(x_train_data),\n",
    "        ncol(x_train_data),\n",
    "        1\n",
    "        )\n",
    "\n",
    ")\n",
    "x_train_arr %>%dim"
   ]
  },
  {
   "cell_type": "code",
   "execution_count": 125,
   "metadata": {
    "vscode": {
     "languageId": "r"
    }
   },
   "outputs": [
    {
     "data": {
      "text/html": [
       "<style>\n",
       ".list-inline {list-style: none; margin:0; padding: 0}\n",
       ".list-inline>li {display: inline-block}\n",
       ".list-inline>li:not(:last-child)::after {content: \"\\00b7\"; padding: 0 .5ex}\n",
       "</style>\n",
       "<ol class=list-inline><li>28</li><li>6</li><li>1</li></ol>\n"
      ],
      "text/latex": [
       "\\begin{enumerate*}\n",
       "\\item 28\n",
       "\\item 6\n",
       "\\item 1\n",
       "\\end{enumerate*}\n"
      ],
      "text/markdown": [
       "1. 28\n",
       "2. 6\n",
       "3. 1\n",
       "\n",
       "\n"
      ],
      "text/plain": [
       "[1] 28  6  1"
      ]
     },
     "metadata": {},
     "output_type": "display_data"
    }
   ],
   "source": [
    "y_train_data <-  t(sapply(\n",
    "    (1+lag):(dim(scaled_train)[1]-prediction +1),\n",
    "    function(x){scaled_train[x:(x+prediction-1),1]}\n",
    "))\n",
    "y_train_arr <-array(\n",
    "    data=as.numeric(unlist(y_train_data)),\n",
    "    dim=c(\n",
    "        nrow(y_train_data),\n",
    "        prediction,\n",
    "        1\n",
    "    )\n",
    ")\n",
    "y_train_arr%>%dim"
   ]
  },
  {
   "cell_type": "code",
   "execution_count": 126,
   "metadata": {
    "vscode": {
     "languageId": "r"
    }
   },
   "outputs": [],
   "source": [
    "x_test <-df.train[(nrow(scaled_train)- prediction+1):nrow(scaled_train),]\n",
    "for(i in 1:ncol(x_test)){\n",
    "    x_test[,i] <-(x_test[,i] -scale_factor[[\"center\"]][i])/scale_factor[[\"sd\"]][i]\n",
    "}\n",
    "x_test_scaled <- x_test[,1]"
   ]
  },
  {
   "cell_type": "code",
   "execution_count": 127,
   "metadata": {
    "vscode": {
     "languageId": "r"
    }
   },
   "outputs": [
    {
     "data": {
      "text/html": [
       "<table class=\"dataframe\">\n",
       "<caption>A data.frame: 6 × 26</caption>\n",
       "<thead>\n",
       "\t<tr><th></th><th scope=col>1</th><th scope=col>2</th><th scope=col>3</th><th scope=col>4</th><th scope=col>5</th><th scope=col>6</th><th scope=col>7</th><th scope=col>8</th><th scope=col>9</th><th scope=col>10</th><th scope=col>⋯</th><th scope=col>17</th><th scope=col>18</th><th scope=col>19</th><th scope=col>20</th><th scope=col>21</th><th scope=col>22</th><th scope=col>23</th><th scope=col>24</th><th scope=col>25</th><th scope=col>26</th></tr>\n",
       "\t<tr><th></th><th scope=col>&lt;dbl&gt;</th><th scope=col>&lt;dbl&gt;</th><th scope=col>&lt;dbl&gt;</th><th scope=col>&lt;dbl&gt;</th><th scope=col>&lt;dbl&gt;</th><th scope=col>&lt;dbl&gt;</th><th scope=col>&lt;dbl&gt;</th><th scope=col>&lt;dbl&gt;</th><th scope=col>&lt;dbl&gt;</th><th scope=col>&lt;dbl&gt;</th><th scope=col>⋯</th><th scope=col>&lt;dbl&gt;</th><th scope=col>&lt;dbl&gt;</th><th scope=col>&lt;dbl&gt;</th><th scope=col>&lt;dbl&gt;</th><th scope=col>&lt;dbl&gt;</th><th scope=col>&lt;dbl&gt;</th><th scope=col>&lt;dbl&gt;</th><th scope=col>&lt;dbl&gt;</th><th scope=col>&lt;dbl&gt;</th><th scope=col>&lt;dbl&gt;</th></tr>\n",
       "</thead>\n",
       "<tbody>\n",
       "\t<tr><th scope=row>34</th><td>-0.339129297</td><td> 0.27574168</td><td>-0.07250747</td><td> 0.6807629</td><td>-1.3878366</td><td>-0.67485091</td><td>-0.5016331</td><td> 1.5151134</td><td> 1.33269168</td><td>-0.5840227</td><td>⋯</td><td> 1.0589631</td><td>-0.9439893</td><td>-0.61245961</td><td>-0.5145595</td><td>-1.2109560</td><td> 0.8919034</td><td> 0.46265195</td><td>-1.297037</td><td>-1.12764156</td><td> 1.2446400</td></tr>\n",
       "\t<tr><th scope=row>35</th><td> 0.116941137</td><td> 0.05627381</td><td>-0.07250747</td><td>-0.9447322</td><td> 0.5760831</td><td>-0.04820364</td><td>-0.2630515</td><td> 0.3564973</td><td>-0.07203739</td><td> 0.5548215</td><td>⋯</td><td>-0.9181435</td><td> 1.8521309</td><td> 0.75245037</td><td> 0.0588068</td><td> 0.6674019</td><td>-0.3653580</td><td> 0.08674724</td><td> 1.068196</td><td> 0.38785591</td><td> 0.7442177</td></tr>\n",
       "\t<tr><th scope=row>36</th><td>-0.090363606</td><td> 0.60494348</td><td>-0.07250747</td><td> 0.1389312</td><td>-0.1309280</td><td> 0.57844364</td><td> 1.1684382</td><td> 1.5151134</td><td> 0.77080005</td><td> 0.1752068</td><td>⋯</td><td> 0.1363133</td><td> 0.2210608</td><td> 0.75245037</td><td> 0.0588068</td><td> 0.3990651</td><td>-0.3653580</td><td>-0.28915747</td><td>-0.792454</td><td>-1.09904726</td><td>-1.2574713</td></tr>\n",
       "\t<tr><th scope=row>37</th><td>-0.007441709</td><td>-1.48000125</td><td>-0.07250747</td><td> 0.1389312</td><td> 0.2225776</td><td> 1.20509091</td><td> 0.2141117</td><td>-0.8021188</td><td>-0.35298320</td><td>-0.2044079</td><td>⋯</td><td> 0.2241847</td><td> 0.9200908</td><td> 0.06999538</td><td> 1.2055394</td><td> 0.6674019</td><td> 0.8919034</td><td> 0.08674724</td><td> 1.352024</td><td> 0.73098741</td><td> 0.2437955</td></tr>\n",
       "\t<tr><th scope=row>38</th><td>-0.297668349</td><td>-0.05346012</td><td> 1.81268664</td><td> 0.6807629</td><td> 0.1047424</td><td>-1.30149818</td><td>-0.7402147</td><td>-0.8021188</td><td> 0.48985424</td><td> 2.0732805</td><td>⋯</td><td> 0.8832203</td><td>-1.1769993</td><td> 0.06999538</td><td>-0.5145595</td><td>-0.9426192</td><td>-0.3653580</td><td> 1.59036606</td><td>-1.896229</td><td>-0.46997285</td><td> 0.2437955</td></tr>\n",
       "\t<tr><th scope=row>39</th><td> 0.075480188</td><td>-0.38266192</td><td> 1.81268664</td><td> 0.1389312</td><td> 0.6939183</td><td>-0.04820364</td><td>-0.5016331</td><td>-0.8021188</td><td>-0.63392901</td><td> 1.3140510</td><td>⋯</td><td>-0.9620792</td><td>-0.2449593</td><td> 0.06999538</td><td>-0.5145595</td><td> 0.9357388</td><td> 0.8919034</td><td>-0.47710982</td><td> 1.320487</td><td> 0.04472441</td><td> 1.7450622</td></tr>\n",
       "</tbody>\n",
       "</table>\n"
      ],
      "text/latex": [
       "A data.frame: 6 × 26\n",
       "\\begin{tabular}{r|lllllllllllllllllllll}\n",
       "  & 1 & 2 & 3 & 4 & 5 & 6 & 7 & 8 & 9 & 10 & ⋯ & 17 & 18 & 19 & 20 & 21 & 22 & 23 & 24 & 25 & 26\\\\\n",
       "  & <dbl> & <dbl> & <dbl> & <dbl> & <dbl> & <dbl> & <dbl> & <dbl> & <dbl> & <dbl> & ⋯ & <dbl> & <dbl> & <dbl> & <dbl> & <dbl> & <dbl> & <dbl> & <dbl> & <dbl> & <dbl>\\\\\n",
       "\\hline\n",
       "\t34 & -0.339129297 &  0.27574168 & -0.07250747 &  0.6807629 & -1.3878366 & -0.67485091 & -0.5016331 &  1.5151134 &  1.33269168 & -0.5840227 & ⋯ &  1.0589631 & -0.9439893 & -0.61245961 & -0.5145595 & -1.2109560 &  0.8919034 &  0.46265195 & -1.297037 & -1.12764156 &  1.2446400\\\\\n",
       "\t35 &  0.116941137 &  0.05627381 & -0.07250747 & -0.9447322 &  0.5760831 & -0.04820364 & -0.2630515 &  0.3564973 & -0.07203739 &  0.5548215 & ⋯ & -0.9181435 &  1.8521309 &  0.75245037 &  0.0588068 &  0.6674019 & -0.3653580 &  0.08674724 &  1.068196 &  0.38785591 &  0.7442177\\\\\n",
       "\t36 & -0.090363606 &  0.60494348 & -0.07250747 &  0.1389312 & -0.1309280 &  0.57844364 &  1.1684382 &  1.5151134 &  0.77080005 &  0.1752068 & ⋯ &  0.1363133 &  0.2210608 &  0.75245037 &  0.0588068 &  0.3990651 & -0.3653580 & -0.28915747 & -0.792454 & -1.09904726 & -1.2574713\\\\\n",
       "\t37 & -0.007441709 & -1.48000125 & -0.07250747 &  0.1389312 &  0.2225776 &  1.20509091 &  0.2141117 & -0.8021188 & -0.35298320 & -0.2044079 & ⋯ &  0.2241847 &  0.9200908 &  0.06999538 &  1.2055394 &  0.6674019 &  0.8919034 &  0.08674724 &  1.352024 &  0.73098741 &  0.2437955\\\\\n",
       "\t38 & -0.297668349 & -0.05346012 &  1.81268664 &  0.6807629 &  0.1047424 & -1.30149818 & -0.7402147 & -0.8021188 &  0.48985424 &  2.0732805 & ⋯ &  0.8832203 & -1.1769993 &  0.06999538 & -0.5145595 & -0.9426192 & -0.3653580 &  1.59036606 & -1.896229 & -0.46997285 &  0.2437955\\\\\n",
       "\t39 &  0.075480188 & -0.38266192 &  1.81268664 &  0.1389312 &  0.6939183 & -0.04820364 & -0.5016331 & -0.8021188 & -0.63392901 &  1.3140510 & ⋯ & -0.9620792 & -0.2449593 &  0.06999538 & -0.5145595 &  0.9357388 &  0.8919034 & -0.47710982 &  1.320487 &  0.04472441 &  1.7450622\\\\\n",
       "\\end{tabular}\n"
      ],
      "text/markdown": [
       "\n",
       "A data.frame: 6 × 26\n",
       "\n",
       "| <!--/--> | 1 &lt;dbl&gt; | 2 &lt;dbl&gt; | 3 &lt;dbl&gt; | 4 &lt;dbl&gt; | 5 &lt;dbl&gt; | 6 &lt;dbl&gt; | 7 &lt;dbl&gt; | 8 &lt;dbl&gt; | 9 &lt;dbl&gt; | 10 &lt;dbl&gt; | ⋯ ⋯ | 17 &lt;dbl&gt; | 18 &lt;dbl&gt; | 19 &lt;dbl&gt; | 20 &lt;dbl&gt; | 21 &lt;dbl&gt; | 22 &lt;dbl&gt; | 23 &lt;dbl&gt; | 24 &lt;dbl&gt; | 25 &lt;dbl&gt; | 26 &lt;dbl&gt; |\n",
       "|---|---|---|---|---|---|---|---|---|---|---|---|---|---|---|---|---|---|---|---|---|---|\n",
       "| 34 | -0.339129297 |  0.27574168 | -0.07250747 |  0.6807629 | -1.3878366 | -0.67485091 | -0.5016331 |  1.5151134 |  1.33269168 | -0.5840227 | ⋯ |  1.0589631 | -0.9439893 | -0.61245961 | -0.5145595 | -1.2109560 |  0.8919034 |  0.46265195 | -1.297037 | -1.12764156 |  1.2446400 |\n",
       "| 35 |  0.116941137 |  0.05627381 | -0.07250747 | -0.9447322 |  0.5760831 | -0.04820364 | -0.2630515 |  0.3564973 | -0.07203739 |  0.5548215 | ⋯ | -0.9181435 |  1.8521309 |  0.75245037 |  0.0588068 |  0.6674019 | -0.3653580 |  0.08674724 |  1.068196 |  0.38785591 |  0.7442177 |\n",
       "| 36 | -0.090363606 |  0.60494348 | -0.07250747 |  0.1389312 | -0.1309280 |  0.57844364 |  1.1684382 |  1.5151134 |  0.77080005 |  0.1752068 | ⋯ |  0.1363133 |  0.2210608 |  0.75245037 |  0.0588068 |  0.3990651 | -0.3653580 | -0.28915747 | -0.792454 | -1.09904726 | -1.2574713 |\n",
       "| 37 | -0.007441709 | -1.48000125 | -0.07250747 |  0.1389312 |  0.2225776 |  1.20509091 |  0.2141117 | -0.8021188 | -0.35298320 | -0.2044079 | ⋯ |  0.2241847 |  0.9200908 |  0.06999538 |  1.2055394 |  0.6674019 |  0.8919034 |  0.08674724 |  1.352024 |  0.73098741 |  0.2437955 |\n",
       "| 38 | -0.297668349 | -0.05346012 |  1.81268664 |  0.6807629 |  0.1047424 | -1.30149818 | -0.7402147 | -0.8021188 |  0.48985424 |  2.0732805 | ⋯ |  0.8832203 | -1.1769993 |  0.06999538 | -0.5145595 | -0.9426192 | -0.3653580 |  1.59036606 | -1.896229 | -0.46997285 |  0.2437955 |\n",
       "| 39 |  0.075480188 | -0.38266192 |  1.81268664 |  0.1389312 |  0.6939183 | -0.04820364 | -0.5016331 | -0.8021188 | -0.63392901 |  1.3140510 | ⋯ | -0.9620792 | -0.2449593 |  0.06999538 | -0.5145595 |  0.9357388 |  0.8919034 | -0.47710982 |  1.320487 |  0.04472441 |  1.7450622 |\n",
       "\n"
      ],
      "text/plain": [
       "   1            2           3           4          5          6          \n",
       "34 -0.339129297  0.27574168 -0.07250747  0.6807629 -1.3878366 -0.67485091\n",
       "35  0.116941137  0.05627381 -0.07250747 -0.9447322  0.5760831 -0.04820364\n",
       "36 -0.090363606  0.60494348 -0.07250747  0.1389312 -0.1309280  0.57844364\n",
       "37 -0.007441709 -1.48000125 -0.07250747  0.1389312  0.2225776  1.20509091\n",
       "38 -0.297668349 -0.05346012  1.81268664  0.6807629  0.1047424 -1.30149818\n",
       "39  0.075480188 -0.38266192  1.81268664  0.1389312  0.6939183 -0.04820364\n",
       "   7          8          9           10         ⋯ 17         18        \n",
       "34 -0.5016331  1.5151134  1.33269168 -0.5840227 ⋯  1.0589631 -0.9439893\n",
       "35 -0.2630515  0.3564973 -0.07203739  0.5548215 ⋯ -0.9181435  1.8521309\n",
       "36  1.1684382  1.5151134  0.77080005  0.1752068 ⋯  0.1363133  0.2210608\n",
       "37  0.2141117 -0.8021188 -0.35298320 -0.2044079 ⋯  0.2241847  0.9200908\n",
       "38 -0.7402147 -0.8021188  0.48985424  2.0732805 ⋯  0.8832203 -1.1769993\n",
       "39 -0.5016331 -0.8021188 -0.63392901  1.3140510 ⋯ -0.9620792 -0.2449593\n",
       "   19          20         21         22         23          24       \n",
       "34 -0.61245961 -0.5145595 -1.2109560  0.8919034  0.46265195 -1.297037\n",
       "35  0.75245037  0.0588068  0.6674019 -0.3653580  0.08674724  1.068196\n",
       "36  0.75245037  0.0588068  0.3990651 -0.3653580 -0.28915747 -0.792454\n",
       "37  0.06999538  1.2055394  0.6674019  0.8919034  0.08674724  1.352024\n",
       "38  0.06999538 -0.5145595 -0.9426192 -0.3653580  1.59036606 -1.896229\n",
       "39  0.06999538 -0.5145595  0.9357388  0.8919034 -0.47710982  1.320487\n",
       "   25          26        \n",
       "34 -1.12764156  1.2446400\n",
       "35  0.38785591  0.7442177\n",
       "36 -1.09904726 -1.2574713\n",
       "37  0.73098741  0.2437955\n",
       "38 -0.46997285  0.2437955\n",
       "39  0.04472441  1.7450622"
      ]
     },
     "metadata": {},
     "output_type": "display_data"
    }
   ],
   "source": [
    "x_test"
   ]
  },
  {
   "cell_type": "code",
   "execution_count": 128,
   "metadata": {
    "vscode": {
     "languageId": "r"
    }
   },
   "outputs": [],
   "source": [
    "x_pred_arr <- array(\n",
    "    data=x_test,\n",
    "    dim=c(1,lag,1)\n",
    ")"
   ]
  },
  {
   "cell_type": "code",
   "execution_count": 129,
   "metadata": {
    "vscode": {
     "languageId": "r"
    }
   },
   "outputs": [
    {
     "data": {
      "text/html": [
       "<style>\n",
       ".list-inline {list-style: none; margin:0; padding: 0}\n",
       ".list-inline>li {display: inline-block}\n",
       ".list-inline>li:not(:last-child)::after {content: \"\\00b7\"; padding: 0 .5ex}\n",
       "</style>\n",
       "<ol class=list-inline><li>28</li><li>156</li><li>1</li></ol>\n"
      ],
      "text/latex": [
       "\\begin{enumerate*}\n",
       "\\item 28\n",
       "\\item 156\n",
       "\\item 1\n",
       "\\end{enumerate*}\n"
      ],
      "text/markdown": [
       "1. 28\n",
       "2. 156\n",
       "3. 1\n",
       "\n",
       "\n"
      ],
      "text/plain": [
       "[1]  28 156   1"
      ]
     },
     "metadata": {},
     "output_type": "display_data"
    },
    {
     "data": {
      "text/html": [
       "<style>\n",
       ".list-inline {list-style: none; margin:0; padding: 0}\n",
       ".list-inline>li {display: inline-block}\n",
       ".list-inline>li:not(:last-child)::after {content: \"\\00b7\"; padding: 0 .5ex}\n",
       "</style>\n",
       "<ol class=list-inline><li>28</li><li>6</li><li>1</li></ol>\n"
      ],
      "text/latex": [
       "\\begin{enumerate*}\n",
       "\\item 28\n",
       "\\item 6\n",
       "\\item 1\n",
       "\\end{enumerate*}\n"
      ],
      "text/markdown": [
       "1. 28\n",
       "2. 6\n",
       "3. 1\n",
       "\n",
       "\n"
      ],
      "text/plain": [
       "[1] 28  6  1"
      ]
     },
     "metadata": {},
     "output_type": "display_data"
    }
   ],
   "source": [
    "x_train_arr %>%dim\n",
    "y_train_arr %>%dim"
   ]
  },
  {
   "cell_type": "code",
   "execution_count": 130,
   "metadata": {
    "vscode": {
     "languageId": "r"
    }
   },
   "outputs": [],
   "source": [
    "x_bis <-sapply(\n",
    "        1:ncol(scaled_train),\n",
    "        function(x){scaled_train[1:(28-1+1),x]}\n",
    ")\n",
    "\n",
    "x_bis_first_array <-array(\n",
    "    data=unlist(x_bis),\n",
    "    dim=c(nrow(x_bis),1,ncol(x_bis))\n",
    ")\n",
    "tot_array <-array(NA, dim=c(\n",
    "    nrow(x_bis),\n",
    "    6,\n",
    "    ncol(x_bis)\n",
    "))\n",
    "tot_array[,1,] <- x_bis_first_array\n",
    "\n",
    "\n",
    "for (i in 2:6){\n",
    "    new <-sapply(\n",
    "        1:ncol(scaled_train),\n",
    "        function(x){scaled_train[i:(i+28-1),x]}\n",
    "    )\n",
    "    new <- array(\n",
    "        data=unlist(new),\n",
    "        dim=c(nrow(x_bis),1,ncol(x_bis))\n",
    "    )\n",
    "    tot_array[,i,] <- new\n",
    "}\n",
    "x_train_arr_bis <- tot_array"
   ]
  },
  {
   "cell_type": "code",
   "execution_count": 131,
   "metadata": {
    "vscode": {
     "languageId": "r"
    }
   },
   "outputs": [],
   "source": [
    "\n",
    "y_train_data_bis <-  t(sapply(\n",
    "    (1+lag):(dim(scaled_train)[1]-prediction +1),\n",
    "    function(x){scaled_train[x:(x+prediction-1),1]}\n",
    "))\n",
    "\n",
    "tot_array <-array(NA, dim=c(\n",
    "    nrow(y_train_data_bis),\n",
    "    6,\n",
    "    ncol(scaled_train)\n",
    "))\n",
    "\n",
    "tot_array[,,1] <- y_train_data_bis\n",
    "\n",
    "for (i in 2:ncol(scaled_train)){\n",
    "    new <-  t(sapply(\n",
    "        (1+lag):(dim(scaled_train)[1]-prediction +1),\n",
    "        function(x){scaled_train[x:(x+prediction-1),i]}\n",
    "    ))\n",
    "\n",
    "    new_array <- array(\n",
    "        data=as.numeric(unlist(new)),\n",
    "        dim=c(nrow(new),\n",
    "        ncol(new),\n",
    "        1)\n",
    "    )\n",
    "    tot_array[,,i] <- new_array\n",
    "\n",
    "}\n",
    "\n",
    "y_train_arr_bis <- tot_array"
   ]
  },
  {
   "cell_type": "code",
   "execution_count": 132,
   "metadata": {
    "vscode": {
     "languageId": "r"
    }
   },
   "outputs": [
    {
     "data": {
      "text/html": [
       "<style>\n",
       ".list-inline {list-style: none; margin:0; padding: 0}\n",
       ".list-inline>li {display: inline-block}\n",
       ".list-inline>li:not(:last-child)::after {content: \"\\00b7\"; padding: 0 .5ex}\n",
       "</style>\n",
       "<ol class=list-inline><li>28</li><li>6</li><li>26</li></ol>\n"
      ],
      "text/latex": [
       "\\begin{enumerate*}\n",
       "\\item 28\n",
       "\\item 6\n",
       "\\item 26\n",
       "\\end{enumerate*}\n"
      ],
      "text/markdown": [
       "1. 28\n",
       "2. 6\n",
       "3. 26\n",
       "\n",
       "\n"
      ],
      "text/plain": [
       "[1] 28  6 26"
      ]
     },
     "metadata": {},
     "output_type": "display_data"
    },
    {
     "data": {
      "text/html": [
       "<style>\n",
       ".list-inline {list-style: none; margin:0; padding: 0}\n",
       ".list-inline>li {display: inline-block}\n",
       ".list-inline>li:not(:last-child)::after {content: \"\\00b7\"; padding: 0 .5ex}\n",
       "</style>\n",
       "<ol class=list-inline><li>28</li><li>6</li><li>26</li></ol>\n"
      ],
      "text/latex": [
       "\\begin{enumerate*}\n",
       "\\item 28\n",
       "\\item 6\n",
       "\\item 26\n",
       "\\end{enumerate*}\n"
      ],
      "text/markdown": [
       "1. 28\n",
       "2. 6\n",
       "3. 26\n",
       "\n",
       "\n"
      ],
      "text/plain": [
       "[1] 28  6 26"
      ]
     },
     "metadata": {},
     "output_type": "display_data"
    }
   ],
   "source": [
    "x_train_arr_bis%>%dim\n",
    "y_train_arr_bis %>% dim"
   ]
  },
  {
   "cell_type": "code",
   "execution_count": 133,
   "metadata": {
    "vscode": {
     "languageId": "r"
    }
   },
   "outputs": [],
   "source": [
    "LSTM_model <- keras_model_sequential()\n",
    "\n",
    "LSTM_model%>% layer_lstm(\n",
    "    units=50,\n",
    "    batch_input_shape=c(1,6,26),#BATCH size , timestep ,features\n",
    "    return_sequences=T,\n",
    "    stateful=T\n",
    "\n",
    ")%>%\n",
    "layer_dropout(rate=0.5)%>%layer_lstm(\n",
    "    units =50,\n",
    "    return_sequences=T,stateful=T\n",
    ")%>% layer_dropout(rate=0.5)%>% time_distributed(keras::layer_dense(units=26))"
   ]
  },
  {
   "cell_type": "code",
   "execution_count": 134,
   "metadata": {
    "vscode": {
     "languageId": "r"
    }
   },
   "outputs": [
    {
     "name": "stdout",
     "output_type": "stream",
     "text": [
      "Model: \"sequential_3\"\n",
      "________________________________________________________________________________\n",
      " Layer (type)                       Output Shape                    Param #     \n",
      "================================================================================\n",
      " lstm_7 (LSTM)                      (1, 6, 50)                      15400       \n",
      " dropout_7 (Dropout)                (1, 6, 50)                      0           \n",
      " lstm_6 (LSTM)                      (1, 6, 50)                      20200       \n",
      " dropout_6 (Dropout)                (1, 6, 50)                      0           \n",
      " time_distributed_3 (TimeDistribute  (1, 6, 26)                     1326        \n",
      " d)                                                                             \n",
      "================================================================================\n",
      "Total params: 36,926\n",
      "Trainable params: 36,926\n",
      "Non-trainable params: 0\n",
      "________________________________________________________________________________\n"
     ]
    }
   ],
   "source": [
    "LSTM_model %>% compile(loss='mae',optimizer='adam',metrics='accuracy')\n",
    "summary(LSTM_model)"
   ]
  },
  {
   "cell_type": "code",
   "execution_count": null,
   "metadata": {
    "vscode": {
     "languageId": "r"
    }
   },
   "outputs": [],
   "source": []
  },
  {
   "cell_type": "code",
   "execution_count": 135,
   "metadata": {
    "vscode": {
     "languageId": "r"
    }
   },
   "outputs": [],
   "source": [
    "LSTM_model %>% keras::fit(\n",
    "    x=x_train_arr_bis,\n",
    "    y=y_train_arr_bis,\n",
    "    batch_size=1,\n",
    "    epochs=20,# Number of times to iterate over the training data\n",
    "    verbose=2,\n",
    "    shuffle=FALSE,\n",
    "    \n",
    ")"
   ]
  },
  {
   "cell_type": "code",
   "execution_count": 136,
   "metadata": {
    "vscode": {
     "languageId": "r"
    }
   },
   "outputs": [
    {
     "data": {
      "text/html": [
       "<table class=\"dataframe\">\n",
       "<caption>A data.frame: 6 × 26</caption>\n",
       "<thead>\n",
       "\t<tr><th></th><th scope=col>1</th><th scope=col>2</th><th scope=col>3</th><th scope=col>4</th><th scope=col>5</th><th scope=col>6</th><th scope=col>7</th><th scope=col>8</th><th scope=col>9</th><th scope=col>10</th><th scope=col>⋯</th><th scope=col>17</th><th scope=col>18</th><th scope=col>19</th><th scope=col>20</th><th scope=col>21</th><th scope=col>22</th><th scope=col>23</th><th scope=col>24</th><th scope=col>25</th><th scope=col>26</th></tr>\n",
       "\t<tr><th></th><th scope=col>&lt;dbl&gt;</th><th scope=col>&lt;dbl&gt;</th><th scope=col>&lt;dbl&gt;</th><th scope=col>&lt;dbl&gt;</th><th scope=col>&lt;dbl&gt;</th><th scope=col>&lt;dbl&gt;</th><th scope=col>&lt;dbl&gt;</th><th scope=col>&lt;dbl&gt;</th><th scope=col>&lt;dbl&gt;</th><th scope=col>&lt;dbl&gt;</th><th scope=col>⋯</th><th scope=col>&lt;dbl&gt;</th><th scope=col>&lt;dbl&gt;</th><th scope=col>&lt;dbl&gt;</th><th scope=col>&lt;dbl&gt;</th><th scope=col>&lt;dbl&gt;</th><th scope=col>&lt;dbl&gt;</th><th scope=col>&lt;dbl&gt;</th><th scope=col>&lt;dbl&gt;</th><th scope=col>&lt;dbl&gt;</th><th scope=col>&lt;dbl&gt;</th></tr>\n",
       "</thead>\n",
       "<tbody>\n",
       "\t<tr><th scope=row>34</th><td>-0.339129297</td><td> 0.27574168</td><td>-0.07250747</td><td> 0.6807629</td><td>-1.3878366</td><td>-0.67485091</td><td>-0.5016331</td><td> 1.5151134</td><td> 1.33269168</td><td>-0.5840227</td><td>⋯</td><td> 1.0589631</td><td>-0.9439893</td><td>-0.61245961</td><td>-0.5145595</td><td>-1.2109560</td><td> 0.8919034</td><td> 0.46265195</td><td>-1.297037</td><td>-1.12764156</td><td> 1.2446400</td></tr>\n",
       "\t<tr><th scope=row>35</th><td> 0.116941137</td><td> 0.05627381</td><td>-0.07250747</td><td>-0.9447322</td><td> 0.5760831</td><td>-0.04820364</td><td>-0.2630515</td><td> 0.3564973</td><td>-0.07203739</td><td> 0.5548215</td><td>⋯</td><td>-0.9181435</td><td> 1.8521309</td><td> 0.75245037</td><td> 0.0588068</td><td> 0.6674019</td><td>-0.3653580</td><td> 0.08674724</td><td> 1.068196</td><td> 0.38785591</td><td> 0.7442177</td></tr>\n",
       "\t<tr><th scope=row>36</th><td>-0.090363606</td><td> 0.60494348</td><td>-0.07250747</td><td> 0.1389312</td><td>-0.1309280</td><td> 0.57844364</td><td> 1.1684382</td><td> 1.5151134</td><td> 0.77080005</td><td> 0.1752068</td><td>⋯</td><td> 0.1363133</td><td> 0.2210608</td><td> 0.75245037</td><td> 0.0588068</td><td> 0.3990651</td><td>-0.3653580</td><td>-0.28915747</td><td>-0.792454</td><td>-1.09904726</td><td>-1.2574713</td></tr>\n",
       "\t<tr><th scope=row>37</th><td>-0.007441709</td><td>-1.48000125</td><td>-0.07250747</td><td> 0.1389312</td><td> 0.2225776</td><td> 1.20509091</td><td> 0.2141117</td><td>-0.8021188</td><td>-0.35298320</td><td>-0.2044079</td><td>⋯</td><td> 0.2241847</td><td> 0.9200908</td><td> 0.06999538</td><td> 1.2055394</td><td> 0.6674019</td><td> 0.8919034</td><td> 0.08674724</td><td> 1.352024</td><td> 0.73098741</td><td> 0.2437955</td></tr>\n",
       "\t<tr><th scope=row>38</th><td>-0.297668349</td><td>-0.05346012</td><td> 1.81268664</td><td> 0.6807629</td><td> 0.1047424</td><td>-1.30149818</td><td>-0.7402147</td><td>-0.8021188</td><td> 0.48985424</td><td> 2.0732805</td><td>⋯</td><td> 0.8832203</td><td>-1.1769993</td><td> 0.06999538</td><td>-0.5145595</td><td>-0.9426192</td><td>-0.3653580</td><td> 1.59036606</td><td>-1.896229</td><td>-0.46997285</td><td> 0.2437955</td></tr>\n",
       "\t<tr><th scope=row>39</th><td> 0.075480188</td><td>-0.38266192</td><td> 1.81268664</td><td> 0.1389312</td><td> 0.6939183</td><td>-0.04820364</td><td>-0.5016331</td><td>-0.8021188</td><td>-0.63392901</td><td> 1.3140510</td><td>⋯</td><td>-0.9620792</td><td>-0.2449593</td><td> 0.06999538</td><td>-0.5145595</td><td> 0.9357388</td><td> 0.8919034</td><td>-0.47710982</td><td> 1.320487</td><td> 0.04472441</td><td> 1.7450622</td></tr>\n",
       "</tbody>\n",
       "</table>\n"
      ],
      "text/latex": [
       "A data.frame: 6 × 26\n",
       "\\begin{tabular}{r|lllllllllllllllllllll}\n",
       "  & 1 & 2 & 3 & 4 & 5 & 6 & 7 & 8 & 9 & 10 & ⋯ & 17 & 18 & 19 & 20 & 21 & 22 & 23 & 24 & 25 & 26\\\\\n",
       "  & <dbl> & <dbl> & <dbl> & <dbl> & <dbl> & <dbl> & <dbl> & <dbl> & <dbl> & <dbl> & ⋯ & <dbl> & <dbl> & <dbl> & <dbl> & <dbl> & <dbl> & <dbl> & <dbl> & <dbl> & <dbl>\\\\\n",
       "\\hline\n",
       "\t34 & -0.339129297 &  0.27574168 & -0.07250747 &  0.6807629 & -1.3878366 & -0.67485091 & -0.5016331 &  1.5151134 &  1.33269168 & -0.5840227 & ⋯ &  1.0589631 & -0.9439893 & -0.61245961 & -0.5145595 & -1.2109560 &  0.8919034 &  0.46265195 & -1.297037 & -1.12764156 &  1.2446400\\\\\n",
       "\t35 &  0.116941137 &  0.05627381 & -0.07250747 & -0.9447322 &  0.5760831 & -0.04820364 & -0.2630515 &  0.3564973 & -0.07203739 &  0.5548215 & ⋯ & -0.9181435 &  1.8521309 &  0.75245037 &  0.0588068 &  0.6674019 & -0.3653580 &  0.08674724 &  1.068196 &  0.38785591 &  0.7442177\\\\\n",
       "\t36 & -0.090363606 &  0.60494348 & -0.07250747 &  0.1389312 & -0.1309280 &  0.57844364 &  1.1684382 &  1.5151134 &  0.77080005 &  0.1752068 & ⋯ &  0.1363133 &  0.2210608 &  0.75245037 &  0.0588068 &  0.3990651 & -0.3653580 & -0.28915747 & -0.792454 & -1.09904726 & -1.2574713\\\\\n",
       "\t37 & -0.007441709 & -1.48000125 & -0.07250747 &  0.1389312 &  0.2225776 &  1.20509091 &  0.2141117 & -0.8021188 & -0.35298320 & -0.2044079 & ⋯ &  0.2241847 &  0.9200908 &  0.06999538 &  1.2055394 &  0.6674019 &  0.8919034 &  0.08674724 &  1.352024 &  0.73098741 &  0.2437955\\\\\n",
       "\t38 & -0.297668349 & -0.05346012 &  1.81268664 &  0.6807629 &  0.1047424 & -1.30149818 & -0.7402147 & -0.8021188 &  0.48985424 &  2.0732805 & ⋯ &  0.8832203 & -1.1769993 &  0.06999538 & -0.5145595 & -0.9426192 & -0.3653580 &  1.59036606 & -1.896229 & -0.46997285 &  0.2437955\\\\\n",
       "\t39 &  0.075480188 & -0.38266192 &  1.81268664 &  0.1389312 &  0.6939183 & -0.04820364 & -0.5016331 & -0.8021188 & -0.63392901 &  1.3140510 & ⋯ & -0.9620792 & -0.2449593 &  0.06999538 & -0.5145595 &  0.9357388 &  0.8919034 & -0.47710982 &  1.320487 &  0.04472441 &  1.7450622\\\\\n",
       "\\end{tabular}\n"
      ],
      "text/markdown": [
       "\n",
       "A data.frame: 6 × 26\n",
       "\n",
       "| <!--/--> | 1 &lt;dbl&gt; | 2 &lt;dbl&gt; | 3 &lt;dbl&gt; | 4 &lt;dbl&gt; | 5 &lt;dbl&gt; | 6 &lt;dbl&gt; | 7 &lt;dbl&gt; | 8 &lt;dbl&gt; | 9 &lt;dbl&gt; | 10 &lt;dbl&gt; | ⋯ ⋯ | 17 &lt;dbl&gt; | 18 &lt;dbl&gt; | 19 &lt;dbl&gt; | 20 &lt;dbl&gt; | 21 &lt;dbl&gt; | 22 &lt;dbl&gt; | 23 &lt;dbl&gt; | 24 &lt;dbl&gt; | 25 &lt;dbl&gt; | 26 &lt;dbl&gt; |\n",
       "|---|---|---|---|---|---|---|---|---|---|---|---|---|---|---|---|---|---|---|---|---|---|\n",
       "| 34 | -0.339129297 |  0.27574168 | -0.07250747 |  0.6807629 | -1.3878366 | -0.67485091 | -0.5016331 |  1.5151134 |  1.33269168 | -0.5840227 | ⋯ |  1.0589631 | -0.9439893 | -0.61245961 | -0.5145595 | -1.2109560 |  0.8919034 |  0.46265195 | -1.297037 | -1.12764156 |  1.2446400 |\n",
       "| 35 |  0.116941137 |  0.05627381 | -0.07250747 | -0.9447322 |  0.5760831 | -0.04820364 | -0.2630515 |  0.3564973 | -0.07203739 |  0.5548215 | ⋯ | -0.9181435 |  1.8521309 |  0.75245037 |  0.0588068 |  0.6674019 | -0.3653580 |  0.08674724 |  1.068196 |  0.38785591 |  0.7442177 |\n",
       "| 36 | -0.090363606 |  0.60494348 | -0.07250747 |  0.1389312 | -0.1309280 |  0.57844364 |  1.1684382 |  1.5151134 |  0.77080005 |  0.1752068 | ⋯ |  0.1363133 |  0.2210608 |  0.75245037 |  0.0588068 |  0.3990651 | -0.3653580 | -0.28915747 | -0.792454 | -1.09904726 | -1.2574713 |\n",
       "| 37 | -0.007441709 | -1.48000125 | -0.07250747 |  0.1389312 |  0.2225776 |  1.20509091 |  0.2141117 | -0.8021188 | -0.35298320 | -0.2044079 | ⋯ |  0.2241847 |  0.9200908 |  0.06999538 |  1.2055394 |  0.6674019 |  0.8919034 |  0.08674724 |  1.352024 |  0.73098741 |  0.2437955 |\n",
       "| 38 | -0.297668349 | -0.05346012 |  1.81268664 |  0.6807629 |  0.1047424 | -1.30149818 | -0.7402147 | -0.8021188 |  0.48985424 |  2.0732805 | ⋯ |  0.8832203 | -1.1769993 |  0.06999538 | -0.5145595 | -0.9426192 | -0.3653580 |  1.59036606 | -1.896229 | -0.46997285 |  0.2437955 |\n",
       "| 39 |  0.075480188 | -0.38266192 |  1.81268664 |  0.1389312 |  0.6939183 | -0.04820364 | -0.5016331 | -0.8021188 | -0.63392901 |  1.3140510 | ⋯ | -0.9620792 | -0.2449593 |  0.06999538 | -0.5145595 |  0.9357388 |  0.8919034 | -0.47710982 |  1.320487 |  0.04472441 |  1.7450622 |\n",
       "\n"
      ],
      "text/plain": [
       "   1            2           3           4          5          6          \n",
       "34 -0.339129297  0.27574168 -0.07250747  0.6807629 -1.3878366 -0.67485091\n",
       "35  0.116941137  0.05627381 -0.07250747 -0.9447322  0.5760831 -0.04820364\n",
       "36 -0.090363606  0.60494348 -0.07250747  0.1389312 -0.1309280  0.57844364\n",
       "37 -0.007441709 -1.48000125 -0.07250747  0.1389312  0.2225776  1.20509091\n",
       "38 -0.297668349 -0.05346012  1.81268664  0.6807629  0.1047424 -1.30149818\n",
       "39  0.075480188 -0.38266192  1.81268664  0.1389312  0.6939183 -0.04820364\n",
       "   7          8          9           10         ⋯ 17         18        \n",
       "34 -0.5016331  1.5151134  1.33269168 -0.5840227 ⋯  1.0589631 -0.9439893\n",
       "35 -0.2630515  0.3564973 -0.07203739  0.5548215 ⋯ -0.9181435  1.8521309\n",
       "36  1.1684382  1.5151134  0.77080005  0.1752068 ⋯  0.1363133  0.2210608\n",
       "37  0.2141117 -0.8021188 -0.35298320 -0.2044079 ⋯  0.2241847  0.9200908\n",
       "38 -0.7402147 -0.8021188  0.48985424  2.0732805 ⋯  0.8832203 -1.1769993\n",
       "39 -0.5016331 -0.8021188 -0.63392901  1.3140510 ⋯ -0.9620792 -0.2449593\n",
       "   19          20         21         22         23          24       \n",
       "34 -0.61245961 -0.5145595 -1.2109560  0.8919034  0.46265195 -1.297037\n",
       "35  0.75245037  0.0588068  0.6674019 -0.3653580  0.08674724  1.068196\n",
       "36  0.75245037  0.0588068  0.3990651 -0.3653580 -0.28915747 -0.792454\n",
       "37  0.06999538  1.2055394  0.6674019  0.8919034  0.08674724  1.352024\n",
       "38  0.06999538 -0.5145595 -0.9426192 -0.3653580  1.59036606 -1.896229\n",
       "39  0.06999538 -0.5145595  0.9357388  0.8919034 -0.47710982  1.320487\n",
       "   25          26        \n",
       "34 -1.12764156  1.2446400\n",
       "35  0.38785591  0.7442177\n",
       "36 -1.09904726 -1.2574713\n",
       "37  0.73098741  0.2437955\n",
       "38 -0.46997285  0.2437955\n",
       "39  0.04472441  1.7450622"
      ]
     },
     "metadata": {},
     "output_type": "display_data"
    }
   ],
   "source": [
    "x_test <-df.train[(nrow(scaled_train)- prediction+1):nrow(scaled_train),]\n",
    "for(i in 1:ncol(x_test)){\n",
    "    x_test[,i] <-(x_test[,i] -scale_factor[[\"center\"]][i])/scale_factor[[\"sd\"]][i]\n",
    "}\n",
    "x_test_scaled <- x_test\n",
    "x_test_scaled"
   ]
  },
  {
   "cell_type": "code",
   "execution_count": 137,
   "metadata": {
    "vscode": {
     "languageId": "r"
    }
   },
   "outputs": [],
   "source": [
    "x_test_array <- array(\n",
    "    data = as.numeric(unlist(x_test_scaled)),\n",
    "    dim=c(1,6,26)\n",
    ")"
   ]
  },
  {
   "cell_type": "code",
   "execution_count": 138,
   "metadata": {
    "vscode": {
     "languageId": "r"
    }
   },
   "outputs": [
    {
     "data": {
      "text/html": [
       "<style>\n",
       ".list-inline {list-style: none; margin:0; padding: 0}\n",
       ".list-inline>li {display: inline-block}\n",
       ".list-inline>li:not(:last-child)::after {content: \"\\00b7\"; padding: 0 .5ex}\n",
       "</style>\n",
       "<ol class=list-inline><li>1</li><li>6</li><li>26</li></ol>\n"
      ],
      "text/latex": [
       "\\begin{enumerate*}\n",
       "\\item 1\n",
       "\\item 6\n",
       "\\item 26\n",
       "\\end{enumerate*}\n"
      ],
      "text/markdown": [
       "1. 1\n",
       "2. 6\n",
       "3. 26\n",
       "\n",
       "\n"
      ],
      "text/plain": [
       "[1]  1  6 26"
      ]
     },
     "metadata": {},
     "output_type": "display_data"
    }
   ],
   "source": [
    "LSTM_forecast <- LSTM_model %>% predict(x_test_array,batch_size=1)\n",
    "LSTM_forecast %>%dim"
   ]
  },
  {
   "cell_type": "code",
   "execution_count": 140,
   "metadata": {
    "vscode": {
     "languageId": "r"
    }
   },
   "outputs": [],
   "source": [
    "#----------------------------------\n",
    "# Remembering we did 2 operations before inputing datat in our model : \n",
    "# 1.Differenciation\n",
    "# 2. Scaling\n",
    "\n",
    "#-------------\n",
    "# 1.unscale Predictions\n",
    "for (i in 1: dim(LSTM_forecast)[3]){\n",
    "    LSTM_forecast[,,i] <- LSTM_forecast[,,i] * scale_factor[[\"sd\"]][i] +scale_factor[[\"center\"]][i]\n",
    "}\n"
   ]
  },
  {
   "cell_type": "code",
   "execution_count": 141,
   "metadata": {
    "vscode": {
     "languageId": "r"
    }
   },
   "outputs": [
    {
     "data": {
      "text/html": [
       "<style>\n",
       ".list-inline {list-style: none; margin:0; padding: 0}\n",
       ".list-inline>li {display: inline-block}\n",
       ".list-inline>li:not(:last-child)::after {content: \"\\00b7\"; padding: 0 .5ex}\n",
       "</style>\n",
       "<ol class=list-inline><li>-9.0751143304452</li><li>-4.53639824454876</li><li>-6.00153212318062</li><li>-4.30830347109393</li><li>-9.03069471927258</li><li>-5.82808999016039</li></ol>\n"
      ],
      "text/latex": [
       "\\begin{enumerate*}\n",
       "\\item -9.0751143304452\n",
       "\\item -4.53639824454876\n",
       "\\item -6.00153212318062\n",
       "\\item -4.30830347109393\n",
       "\\item -9.03069471927258\n",
       "\\item -5.82808999016039\n",
       "\\end{enumerate*}\n"
      ],
      "text/markdown": [
       "1. -9.0751143304452\n",
       "2. -4.53639824454876\n",
       "3. -6.00153212318062\n",
       "4. -4.30830347109393\n",
       "5. -9.03069471927258\n",
       "6. -5.82808999016039\n",
       "\n",
       "\n"
      ],
      "text/plain": [
       "[1] -9.075114 -4.536398 -6.001532 -4.308303 -9.030695 -5.828090"
      ]
     },
     "metadata": {},
     "output_type": "display_data"
    }
   ],
   "source": [
    "LSTM_forecast[,,1] # There are still differenciate"
   ]
  },
  {
   "cell_type": "code",
   "execution_count": 142,
   "metadata": {
    "vscode": {
     "languageId": "r"
    }
   },
   "outputs": [
    {
     "data": {
      "image/png": "[encoded data removed]",
      "text/plain": [
       "plot without title"
      ]
     },
     "metadata": {
      "image/png": {
       "height": 420,
       "width": 420
      }
     },
     "output_type": "display_data"
    }
   ],
   "source": [
    "index_secteur <- 1\n",
    "pred <- c(df.diff[1:(nrow(scaled_train)-prediction),index_secteur],LSTM_forecast[,,index_secteur])\n",
    "pred <-ts(pred, start=c(2010,2),frequency=4)\n",
    "obs <- df.diff[,index_secteur]\n",
    "\n",
    "#-----------------\n",
    "# Inverse differenciation\n",
    "starting_point <- df.ts[1,index_secteur]\n",
    "obs <-diffinv(obs,xi=starting_point)\n",
    "pred <-diffinv(pred,xi=starting_point)\n",
    "plot.ts(\n",
    "    cbind(pred,obs),\n",
    "    plot.type=\"single\",\n",
    "    lty=c(1,2),\n",
    "    lwd=1,\n",
    "    xlab=\"t\",\n",
    "    ylab=paste(\"Nombre d'Etablissements en GE pour le secteur :\",lab.to.num$lab[index_secteur],sep=\"\"),\n",
    "    \n",
    "    col=c(\"blue\",\"red\")\n",
    ")\n",
    "legend(\"topleft\",\n",
    "\n",
    "    legend=c(\"Prédictions\",\"Observations\"),\n",
    "    col=c(\"blue\",\"red\"),\n",
    "    lty=c(1,2),\n",
    "    lwd=1\n",
    ")"
   ]
  },
  {
   "cell_type": "code",
   "execution_count": 143,
   "metadata": {
    "vscode": {
     "languageId": "r"
    }
   },
   "outputs": [],
   "source": [
    "#-------------------------------\n",
    "#Save all plots\n",
    "for( index_secteur in 1:ncol(scaled_train)){\n",
    "\n",
    "    png(file=paste(\"plots/LSTM_stable/\",index_secteur,\".png\",sep=\"\"))\n",
    "    pred <- c(df.diff[1:(nrow(scaled_train)-prediction),index_secteur],LSTM_forecast[,,index_secteur])\n",
    "    pred <-ts(pred, start=c(2010,2),frequency=4)\n",
    "    obs <- df.diff[,index_secteur]\n",
    "    \n",
    "    #-----------------\n",
    "    # Inverse differenciation\n",
    "    starting_point <- df.ts[1,index_secteur]\n",
    "    obs <-diffinv(obs,xi=starting_point)\n",
    "    pred <-diffinv(pred,xi=starting_point)\n",
    "\n",
    "    plot.ts(\n",
    "        cbind(pred,obs),\n",
    "        plot.type=\"single\",\n",
    "        main=paste(\"Predictions LSTM stable vs observations \\n secteur : \",lab.to.num$lab[index_secteur],sep=\"\"),\n",
    "        col=c(\"blue\",\"red\"),\n",
    "        lty=c(2,1),\n",
    "        lwd=1,\n",
    "        xlab=\"t\",\n",
    "        ylab=paste(\"Nombre d'Etablissements en GE pour le secteur :\",lab.to.num$lab[index_secteur],sep=\"\"),\n",
    "\n",
    "    )\n",
    "    legend(\"topleft\",\n",
    "        legend=c(\"Prédictions\",\"Observations\"),\n",
    "        col=c(\"blue\",\"red\"),\n",
    "        lty=c(2,1),\n",
    "        lwd=1\n",
    ")\n",
    "    dev.off()\n",
    "}"
   ]
  },
  {
   "cell_type": "code",
   "execution_count": 144,
   "metadata": {
    "vscode": {
     "languageId": "r"
    }
   },
   "outputs": [],
   "source": [
    "#----------------------\n",
    "#Save model\n",
    "save_model_tf(LSTM_model,\"models/LSTM_stable\")"
   ]
  },
  {
   "cell_type": "markdown",
   "metadata": {},
   "source": [
    "### Calculate RMSE *Residual Mean Square Error*"
   ]
  },
  {
   "cell_type": "code",
   "execution_count": 201,
   "metadata": {
    "vscode": {
     "languageId": "r"
    }
   },
   "outputs": [
    {
     "data": {
      "text/html": [
       "<style>\n",
       ".list-inline {list-style: none; margin:0; padding: 0}\n",
       ".list-inline>li {display: inline-block}\n",
       ".list-inline>li:not(:last-child)::after {content: \"\\00b7\"; padding: 0 .5ex}\n",
       "</style>\n",
       "<ol class=list-inline><li>34</li><li>35</li><li>36</li><li>37</li><li>38</li><li>39</li></ol>\n"
      ],
      "text/latex": [
       "\\begin{enumerate*}\n",
       "\\item 34\n",
       "\\item 35\n",
       "\\item 36\n",
       "\\item 37\n",
       "\\item 38\n",
       "\\item 39\n",
       "\\end{enumerate*}\n"
      ],
      "text/markdown": [
       "1. 34\n",
       "2. 35\n",
       "3. 36\n",
       "4. 37\n",
       "5. 38\n",
       "6. 39\n",
       "\n",
       "\n"
      ],
      "text/plain": [
       "[1] 34 35 36 37 38 39"
      ]
     },
     "metadata": {},
     "output_type": "display_data"
    },
    {
     "data": {
      "text/html": [
       "<style>\n",
       ".list-inline {list-style: none; margin:0; padding: 0}\n",
       ".list-inline>li {display: inline-block}\n",
       ".list-inline>li:not(:last-child)::after {content: \"\\00b7\"; padding: 0 .5ex}\n",
       "</style>\n",
       "<ol class=list-inline><li>1</li><li>2</li><li>3</li><li>4</li><li>5</li><li>6</li><li>7</li><li>8</li><li>9</li><li>10</li><li>11</li><li>12</li><li>13</li><li>14</li><li>15</li><li>16</li><li>17</li><li>18</li><li>19</li><li>20</li><li>21</li><li>22</li><li>23</li><li>24</li><li>25</li><li>26</li><li>27</li><li>28</li><li>29</li><li>30</li><li>31</li><li>32</li><li>33</li></ol>\n"
      ],
      "text/latex": [
       "\\begin{enumerate*}\n",
       "\\item 1\n",
       "\\item 2\n",
       "\\item 3\n",
       "\\item 4\n",
       "\\item 5\n",
       "\\item 6\n",
       "\\item 7\n",
       "\\item 8\n",
       "\\item 9\n",
       "\\item 10\n",
       "\\item 11\n",
       "\\item 12\n",
       "\\item 13\n",
       "\\item 14\n",
       "\\item 15\n",
       "\\item 16\n",
       "\\item 17\n",
       "\\item 18\n",
       "\\item 19\n",
       "\\item 20\n",
       "\\item 21\n",
       "\\item 22\n",
       "\\item 23\n",
       "\\item 24\n",
       "\\item 25\n",
       "\\item 26\n",
       "\\item 27\n",
       "\\item 28\n",
       "\\item 29\n",
       "\\item 30\n",
       "\\item 31\n",
       "\\item 32\n",
       "\\item 33\n",
       "\\end{enumerate*}\n"
      ],
      "text/markdown": [
       "1. 1\n",
       "2. 2\n",
       "3. 3\n",
       "4. 4\n",
       "5. 5\n",
       "6. 6\n",
       "7. 7\n",
       "8. 8\n",
       "9. 9\n",
       "10. 10\n",
       "11. 11\n",
       "12. 12\n",
       "13. 13\n",
       "14. 14\n",
       "15. 15\n",
       "16. 16\n",
       "17. 17\n",
       "18. 18\n",
       "19. 19\n",
       "20. 20\n",
       "21. 21\n",
       "22. 22\n",
       "23. 23\n",
       "24. 24\n",
       "25. 25\n",
       "26. 26\n",
       "27. 27\n",
       "28. 28\n",
       "29. 29\n",
       "30. 30\n",
       "31. 31\n",
       "32. 32\n",
       "33. 33\n",
       "\n",
       "\n"
      ],
      "text/plain": [
       " [1]  1  2  3  4  5  6  7  8  9 10 11 12 13 14 15 16 17 18 19 20 21 22 23 24 25\n",
       "[26] 26 27 28 29 30 31 32 33"
      ]
     },
     "metadata": {},
     "output_type": "display_data"
    },
    {
     "data": {
      "text/html": [
       "<style>\n",
       ".list-inline {list-style: none; margin:0; padding: 0}\n",
       ".list-inline>li {display: inline-block}\n",
       ".list-inline>li:not(:last-child)::after {content: \"\\00b7\"; padding: 0 .5ex}\n",
       "</style>\n",
       "<ol class=list-inline><li>1114</li><li>1100</li><li>1097</li><li>1089</li><li>1083</li><li>1070</li><li>1066</li></ol>\n"
      ],
      "text/latex": [
       "\\begin{enumerate*}\n",
       "\\item 1114\n",
       "\\item 1100\n",
       "\\item 1097\n",
       "\\item 1089\n",
       "\\item 1083\n",
       "\\item 1070\n",
       "\\item 1066\n",
       "\\end{enumerate*}\n"
      ],
      "text/markdown": [
       "1. 1114\n",
       "2. 1100\n",
       "3. 1097\n",
       "4. 1089\n",
       "5. 1083\n",
       "6. 1070\n",
       "7. 1066\n",
       "\n",
       "\n"
      ],
      "text/plain": [
       "[1] 1114 1100 1097 1089 1083 1070 1066"
      ]
     },
     "metadata": {},
     "output_type": "display_data"
    },
    {
     "data": {
      "text/html": [
       "<style>\n",
       ".list-inline {list-style: none; margin:0; padding: 0}\n",
       ".list-inline>li {display: inline-block}\n",
       ".list-inline>li:not(:last-child)::after {content: \"\\00b7\"; padding: 0 .5ex}\n",
       "</style>\n",
       "<ol class=list-inline><li>1114</li><li>1104.92488566955</li><li>1100.38848742501</li><li>1094.38695530183</li><li>1090.07865183073</li><li>1081.04795711146</li><li>1075.2198671213</li></ol>\n"
      ],
      "text/latex": [
       "\\begin{enumerate*}\n",
       "\\item 1114\n",
       "\\item 1104.92488566955\n",
       "\\item 1100.38848742501\n",
       "\\item 1094.38695530183\n",
       "\\item 1090.07865183073\n",
       "\\item 1081.04795711146\n",
       "\\item 1075.2198671213\n",
       "\\end{enumerate*}\n"
      ],
      "text/markdown": [
       "1. 1114\n",
       "2. 1104.92488566955\n",
       "3. 1100.38848742501\n",
       "4. 1094.38695530183\n",
       "5. 1090.07865183073\n",
       "6. 1081.04795711146\n",
       "7. 1075.2198671213\n",
       "\n",
       "\n"
      ],
      "text/plain": [
       "[1] 1114.000 1104.925 1100.388 1094.387 1090.079 1081.048 1075.220"
      ]
     },
     "metadata": {},
     "output_type": "display_data"
    }
   ],
   "source": [
    "(nrow(scaled_train)-prediction+1):nrow(scaled_train) \n",
    "1:(nrow(scaled_train)-prediction)\n"
   ]
  },
  {
   "cell_type": "code",
   "execution_count": 202,
   "metadata": {
    "vscode": {
     "languageId": "r"
    }
   },
   "outputs": [],
   "source": [
    "RMSE <- c()\n",
    "for (var in 1:dim(LSTM_forecast)[3]){\n",
    "    obs <-df.diff[(nrow(scaled_train)-prediction+1):nrow(scaled_train),var]\n",
    "    pred <- LSTM_forecast[,,var]\n",
    "    starting_point <- df.ts[nrow(scaled_train)-prediction,var]\n",
    "    obs <-diffinv(obs,xi=starting_point)\n",
    "    pred <-diffinv(pred,xi=starting_point)\n",
    "    RMSE <-c(RMSE,sqrt(mean((obs-pred)^2)))\n",
    "}"
   ]
  },
  {
   "cell_type": "code",
   "execution_count": 203,
   "metadata": {
    "vscode": {
     "languageId": "r"
    }
   },
   "outputs": [
    {
     "data": {
      "text/html": [
       "<table class=\"dataframe\">\n",
       "<caption>A data.frame: 26 × 1</caption>\n",
       "<thead>\n",
       "\t<tr><th scope=col>rmse</th></tr>\n",
       "\t<tr><th scope=col>&lt;dbl&gt;</th></tr>\n",
       "</thead>\n",
       "<tbody>\n",
       "\t<tr><td> 6.78155325</td></tr>\n",
       "\t<tr><td> 5.47183157</td></tr>\n",
       "\t<tr><td> 1.90814840</td></tr>\n",
       "\t<tr><td> 0.83335382</td></tr>\n",
       "\t<tr><td>31.80338227</td></tr>\n",
       "\t<tr><td> 0.85532909</td></tr>\n",
       "\t<tr><td> 1.95620285</td></tr>\n",
       "\t<tr><td> 3.59230963</td></tr>\n",
       "\t<tr><td> 5.06823544</td></tr>\n",
       "\t<tr><td> 2.93744212</td></tr>\n",
       "\t<tr><td>23.96205385</td></tr>\n",
       "\t<tr><td>48.32035269</td></tr>\n",
       "\t<tr><td> 9.98037077</td></tr>\n",
       "\t<tr><td> 1.48726125</td></tr>\n",
       "\t<tr><td> 8.58147542</td></tr>\n",
       "\t<tr><td> 0.05987746</td></tr>\n",
       "\t<tr><td>18.95473439</td></tr>\n",
       "\t<tr><td> 3.61044168</td></tr>\n",
       "\t<tr><td> 1.11431213</td></tr>\n",
       "\t<tr><td> 0.92529906</td></tr>\n",
       "\t<tr><td> 3.79134314</td></tr>\n",
       "\t<tr><td> 1.97549753</td></tr>\n",
       "\t<tr><td> 7.77553723</td></tr>\n",
       "\t<tr><td>19.06769171</td></tr>\n",
       "\t<tr><td>25.68104759</td></tr>\n",
       "\t<tr><td> 3.14894560</td></tr>\n",
       "</tbody>\n",
       "</table>\n"
      ],
      "text/latex": [
       "A data.frame: 26 × 1\n",
       "\\begin{tabular}{l}\n",
       " rmse\\\\\n",
       " <dbl>\\\\\n",
       "\\hline\n",
       "\t  6.78155325\\\\\n",
       "\t  5.47183157\\\\\n",
       "\t  1.90814840\\\\\n",
       "\t  0.83335382\\\\\n",
       "\t 31.80338227\\\\\n",
       "\t  0.85532909\\\\\n",
       "\t  1.95620285\\\\\n",
       "\t  3.59230963\\\\\n",
       "\t  5.06823544\\\\\n",
       "\t  2.93744212\\\\\n",
       "\t 23.96205385\\\\\n",
       "\t 48.32035269\\\\\n",
       "\t  9.98037077\\\\\n",
       "\t  1.48726125\\\\\n",
       "\t  8.58147542\\\\\n",
       "\t  0.05987746\\\\\n",
       "\t 18.95473439\\\\\n",
       "\t  3.61044168\\\\\n",
       "\t  1.11431213\\\\\n",
       "\t  0.92529906\\\\\n",
       "\t  3.79134314\\\\\n",
       "\t  1.97549753\\\\\n",
       "\t  7.77553723\\\\\n",
       "\t 19.06769171\\\\\n",
       "\t 25.68104759\\\\\n",
       "\t  3.14894560\\\\\n",
       "\\end{tabular}\n"
      ],
      "text/markdown": [
       "\n",
       "A data.frame: 26 × 1\n",
       "\n",
       "| rmse &lt;dbl&gt; |\n",
       "|---|\n",
       "|  6.78155325 |\n",
       "|  5.47183157 |\n",
       "|  1.90814840 |\n",
       "|  0.83335382 |\n",
       "| 31.80338227 |\n",
       "|  0.85532909 |\n",
       "|  1.95620285 |\n",
       "|  3.59230963 |\n",
       "|  5.06823544 |\n",
       "|  2.93744212 |\n",
       "| 23.96205385 |\n",
       "| 48.32035269 |\n",
       "|  9.98037077 |\n",
       "|  1.48726125 |\n",
       "|  8.58147542 |\n",
       "|  0.05987746 |\n",
       "| 18.95473439 |\n",
       "|  3.61044168 |\n",
       "|  1.11431213 |\n",
       "|  0.92529906 |\n",
       "|  3.79134314 |\n",
       "|  1.97549753 |\n",
       "|  7.77553723 |\n",
       "| 19.06769171 |\n",
       "| 25.68104759 |\n",
       "|  3.14894560 |\n",
       "\n"
      ],
      "text/plain": [
       "   rmse       \n",
       "1   6.78155325\n",
       "2   5.47183157\n",
       "3   1.90814840\n",
       "4   0.83335382\n",
       "5  31.80338227\n",
       "6   0.85532909\n",
       "7   1.95620285\n",
       "8   3.59230963\n",
       "9   5.06823544\n",
       "10  2.93744212\n",
       "11 23.96205385\n",
       "12 48.32035269\n",
       "13  9.98037077\n",
       "14  1.48726125\n",
       "15  8.58147542\n",
       "16  0.05987746\n",
       "17 18.95473439\n",
       "18  3.61044168\n",
       "19  1.11431213\n",
       "20  0.92529906\n",
       "21  3.79134314\n",
       "22  1.97549753\n",
       "23  7.77553723\n",
       "24 19.06769171\n",
       "25 25.68104759\n",
       "26  3.14894560"
      ]
     },
     "metadata": {},
     "output_type": "display_data"
    }
   ],
   "source": [
    "RMSE_stable_LSTM <-RMSE %>% as.data.frame()\n",
    "colnames(RMSE_stable_LSTM) <-\"rmse\"\n",
    "RMSE_stable_LSTM\n"
   ]
  },
  {
   "cell_type": "code",
   "execution_count": 204,
   "metadata": {
    "vscode": {
     "languageId": "r"
    }
   },
   "outputs": [
    {
     "data": {
      "text/plain": [
       "    Min.  1st Qu.   Median     Mean  3rd Qu.     Max. \n",
       " 0.05988  1.92016  3.70089  9.21708  9.63065 48.32035 "
      ]
     },
     "metadata": {},
     "output_type": "display_data"
    }
   ],
   "source": [
    "summary(RMSE_stable_LSTM$rmse)"
   ]
  },
  {
   "cell_type": "code",
   "execution_count": 205,
   "metadata": {
    "vscode": {
     "languageId": "r"
    }
   },
   "outputs": [
    {
     "data": {
      "image/png": "[encoded data removed]",
      "text/plain": [
       "Plot with title “Histogram of tmp”"
      ]
     },
     "metadata": {
      "image/png": {
       "height": 420,
       "width": 420
      }
     },
     "output_type": "display_data"
    }
   ],
   "source": [
    "RMSE_stable_LSTM$group <- RMSE_stable_LSTM$rmse >6.92\n",
    "tmp <-apply(RMSE_stable_LSTM,1,FUN=function(x){if(x[2]){return(1)}else{return(0) }})\n",
    "\n",
    "hist(tmp)\n"
   ]
  },
  {
   "cell_type": "markdown",
   "metadata": {},
   "source": [
    "### Calculate MAE *Mean Absolute Error*"
   ]
  },
  {
   "cell_type": "code",
   "execution_count": 186,
   "metadata": {
    "vscode": {
     "languageId": "r"
    }
   },
   "outputs": [
    {
     "data": {
      "text/html": [
       "<style>\n",
       ".list-inline {list-style: none; margin:0; padding: 0}\n",
       ".list-inline>li {display: inline-block}\n",
       ".list-inline>li:not(:last-child)::after {content: \"\\00b7\"; padding: 0 .5ex}\n",
       "</style>\n",
       "<ol class=list-inline><li>4.9248856695548</li><li>1.53639824454876</li><li>1.99846787681938</li><li>1.69169652890607</li><li>3.96930528072742</li><li>1.82808999016039</li></ol>\n"
      ],
      "text/latex": [
       "\\begin{enumerate*}\n",
       "\\item 4.9248856695548\n",
       "\\item 1.53639824454876\n",
       "\\item 1.99846787681938\n",
       "\\item 1.69169652890607\n",
       "\\item 3.96930528072742\n",
       "\\item 1.82808999016039\n",
       "\\end{enumerate*}\n"
      ],
      "text/markdown": [
       "1. 4.9248856695548\n",
       "2. 1.53639824454876\n",
       "3. 1.99846787681938\n",
       "4. 1.69169652890607\n",
       "5. 3.96930528072742\n",
       "6. 1.82808999016039\n",
       "\n",
       "\n"
      ],
      "text/plain": [
       "[1] 4.924886 1.536398 1.998468 1.691697 3.969305 1.828090"
      ]
     },
     "metadata": {},
     "output_type": "display_data"
    }
   ],
   "source": [
    "var <- 1\n",
    "obs <-df.diff[(nrow(scaled_train)-prediction+1):nrow(scaled_train),var]\n",
    "pred <- LSTM_forecast[,,var]\n",
    "abs(obs-pred)"
   ]
  },
  {
   "cell_type": "code",
   "execution_count": 214,
   "metadata": {
    "vscode": {
     "languageId": "r"
    }
   },
   "outputs": [
    {
     "data": {
      "text/html": [
       "<table class=\"dataframe\">\n",
       "<caption>A data.frame: 26 × 1</caption>\n",
       "<thead>\n",
       "\t<tr><th scope=col>MAE</th></tr>\n",
       "\t<tr><th scope=col>&lt;dbl&gt;</th></tr>\n",
       "</thead>\n",
       "<tbody>\n",
       "\t<tr><td> 5.86382921</td></tr>\n",
       "\t<tr><td> 4.66540830</td></tr>\n",
       "\t<tr><td> 1.03364741</td></tr>\n",
       "\t<tr><td> 0.75781189</td></tr>\n",
       "\t<tr><td>28.83181754</td></tr>\n",
       "\t<tr><td> 0.71344470</td></tr>\n",
       "\t<tr><td> 1.64135510</td></tr>\n",
       "\t<tr><td> 3.02188631</td></tr>\n",
       "\t<tr><td> 4.54053897</td></tr>\n",
       "\t<tr><td> 2.19059983</td></tr>\n",
       "\t<tr><td>18.99448575</td></tr>\n",
       "\t<tr><td>42.62991917</td></tr>\n",
       "\t<tr><td> 7.33210667</td></tr>\n",
       "\t<tr><td> 1.01167011</td></tr>\n",
       "\t<tr><td> 6.53691495</td></tr>\n",
       "\t<tr><td> 0.04999662</td></tr>\n",
       "\t<tr><td>13.93915423</td></tr>\n",
       "\t<tr><td> 2.84245985</td></tr>\n",
       "\t<tr><td> 0.94957260</td></tr>\n",
       "\t<tr><td> 0.72916139</td></tr>\n",
       "\t<tr><td> 3.29426566</td></tr>\n",
       "\t<tr><td> 1.57450199</td></tr>\n",
       "\t<tr><td> 5.63067041</td></tr>\n",
       "\t<tr><td>16.24327842</td></tr>\n",
       "\t<tr><td>21.33807669</td></tr>\n",
       "\t<tr><td> 2.53722668</td></tr>\n",
       "</tbody>\n",
       "</table>\n"
      ],
      "text/latex": [
       "A data.frame: 26 × 1\n",
       "\\begin{tabular}{l}\n",
       " MAE\\\\\n",
       " <dbl>\\\\\n",
       "\\hline\n",
       "\t  5.86382921\\\\\n",
       "\t  4.66540830\\\\\n",
       "\t  1.03364741\\\\\n",
       "\t  0.75781189\\\\\n",
       "\t 28.83181754\\\\\n",
       "\t  0.71344470\\\\\n",
       "\t  1.64135510\\\\\n",
       "\t  3.02188631\\\\\n",
       "\t  4.54053897\\\\\n",
       "\t  2.19059983\\\\\n",
       "\t 18.99448575\\\\\n",
       "\t 42.62991917\\\\\n",
       "\t  7.33210667\\\\\n",
       "\t  1.01167011\\\\\n",
       "\t  6.53691495\\\\\n",
       "\t  0.04999662\\\\\n",
       "\t 13.93915423\\\\\n",
       "\t  2.84245985\\\\\n",
       "\t  0.94957260\\\\\n",
       "\t  0.72916139\\\\\n",
       "\t  3.29426566\\\\\n",
       "\t  1.57450199\\\\\n",
       "\t  5.63067041\\\\\n",
       "\t 16.24327842\\\\\n",
       "\t 21.33807669\\\\\n",
       "\t  2.53722668\\\\\n",
       "\\end{tabular}\n"
      ],
      "text/markdown": [
       "\n",
       "A data.frame: 26 × 1\n",
       "\n",
       "| MAE &lt;dbl&gt; |\n",
       "|---|\n",
       "|  5.86382921 |\n",
       "|  4.66540830 |\n",
       "|  1.03364741 |\n",
       "|  0.75781189 |\n",
       "| 28.83181754 |\n",
       "|  0.71344470 |\n",
       "|  1.64135510 |\n",
       "|  3.02188631 |\n",
       "|  4.54053897 |\n",
       "|  2.19059983 |\n",
       "| 18.99448575 |\n",
       "| 42.62991917 |\n",
       "|  7.33210667 |\n",
       "|  1.01167011 |\n",
       "|  6.53691495 |\n",
       "|  0.04999662 |\n",
       "| 13.93915423 |\n",
       "|  2.84245985 |\n",
       "|  0.94957260 |\n",
       "|  0.72916139 |\n",
       "|  3.29426566 |\n",
       "|  1.57450199 |\n",
       "|  5.63067041 |\n",
       "| 16.24327842 |\n",
       "| 21.33807669 |\n",
       "|  2.53722668 |\n",
       "\n"
      ],
      "text/plain": [
       "   MAE        \n",
       "1   5.86382921\n",
       "2   4.66540830\n",
       "3   1.03364741\n",
       "4   0.75781189\n",
       "5  28.83181754\n",
       "6   0.71344470\n",
       "7   1.64135510\n",
       "8   3.02188631\n",
       "9   4.54053897\n",
       "10  2.19059983\n",
       "11 18.99448575\n",
       "12 42.62991917\n",
       "13  7.33210667\n",
       "14  1.01167011\n",
       "15  6.53691495\n",
       "16  0.04999662\n",
       "17 13.93915423\n",
       "18  2.84245985\n",
       "19  0.94957260\n",
       "20  0.72916139\n",
       "21  3.29426566\n",
       "22  1.57450199\n",
       "23  5.63067041\n",
       "24 16.24327842\n",
       "25 21.33807669\n",
       "26  2.53722668"
      ]
     },
     "metadata": {},
     "output_type": "display_data"
    }
   ],
   "source": [
    "MAE <- c()\n",
    "for (var in 1:dim(LSTM_forecast)[3]){\n",
    "    obs <-df.diff[(nrow(scaled_train)-prediction+1):nrow(scaled_train),var]\n",
    "    pred <- LSTM_forecast[,,var]\n",
    "    starting_point <- df.ts[nrow(scaled_train)-prediction,var]\n",
    "    obs <-diffinv(obs,xi=starting_point)\n",
    "    pred <-diffinv(pred,xi=starting_point)\n",
    "    \n",
    "    MAE <-c(MAE,mean(abs(obs-pred)))\n",
    "    \n",
    "}\n",
    "MAE <- MAE %>%as.data.frame()\n",
    "colnames(MAE) <- \"MAE\"\n",
    "MAE"
   ]
  },
  {
   "cell_type": "code",
   "execution_count": 207,
   "metadata": {
    "vscode": {
     "languageId": "r"
    }
   },
   "outputs": [
    {
     "data": {
      "text/plain": [
       "      mae        \n",
       " Min.   : 0.050  \n",
       " 1st Qu.: 1.169  \n",
       " Median : 3.158  \n",
       " Mean   : 7.650  \n",
       " 3rd Qu.: 7.133  \n",
       " Max.   :42.630  "
      ]
     },
     "metadata": {},
     "output_type": "display_data"
    }
   ],
   "source": [
    "summary(MAE)"
   ]
  },
  {
   "cell_type": "markdown",
   "metadata": {},
   "source": [
    "### Calculate MAPE *Mean Absolute  Percentage Error*\n",
    "\n",
    "**They have the advantage to be unit free.**\n",
    "\n",
    "Measures based on percentage errors have the disadvantage of being infinite or undefined if yt=0 for any t in the period of interest, and having extreme values if any yt is close to zero. Another problem with percentage errors that is often overlooked is that they assume the unit of measurement has a meaningful zero.2 For example, a percentage error makes no sense when measuring the accuracy of temperature forecasts on either the Fahrenheit or Celsius scales, because temperature has an arbitrary zero point."
   ]
  },
  {
   "cell_type": "markdown",
   "metadata": {},
   "source": [
    "**Ceci ne possera pas de probleme si l'on unscale + inv differenciate**"
   ]
  },
  {
   "cell_type": "code",
   "execution_count": 215,
   "metadata": {
    "vscode": {
     "languageId": "r"
    }
   },
   "outputs": [
    {
     "data": {
      "text/html": [
       "<table class=\"dataframe\">\n",
       "<caption>A data.frame: 26 × 1</caption>\n",
       "<thead>\n",
       "\t<tr><th scope=col>MAPE</th></tr>\n",
       "\t<tr><th scope=col>&lt;dbl&gt;</th></tr>\n",
       "</thead>\n",
       "<tbody>\n",
       "\t<tr><td>0.5431873</td></tr>\n",
       "\t<tr><td>1.2219342</td></tr>\n",
       "\t<tr><td>1.4337104</td></tr>\n",
       "\t<tr><td>0.5234455</td></tr>\n",
       "\t<tr><td>2.6981469</td></tr>\n",
       "\t<tr><td>0.7198186</td></tr>\n",
       "\t<tr><td>0.9232656</td></tr>\n",
       "\t<tr><td>2.2011203</td></tr>\n",
       "\t<tr><td>0.4620767</td></tr>\n",
       "\t<tr><td>0.3972098</td></tr>\n",
       "\t<tr><td>1.2733609</td></tr>\n",
       "\t<tr><td>3.1302371</td></tr>\n",
       "\t<tr><td>4.4261160</td></tr>\n",
       "\t<tr><td>2.5362240</td></tr>\n",
       "\t<tr><td>4.5089002</td></tr>\n",
       "\t<tr><td>0.4545147</td></tr>\n",
       "\t<tr><td>6.0755642</td></tr>\n",
       "\t<tr><td>2.4244623</td></tr>\n",
       "\t<tr><td>5.6760117</td></tr>\n",
       "\t<tr><td>2.5221875</td></tr>\n",
       "\t<tr><td>1.7618216</td></tr>\n",
       "\t<tr><td>2.5390566</td></tr>\n",
       "\t<tr><td>1.9854082</td></tr>\n",
       "\t<tr><td>1.6475024</td></tr>\n",
       "\t<tr><td>0.7348810</td></tr>\n",
       "\t<tr><td>3.9763552</td></tr>\n",
       "</tbody>\n",
       "</table>\n"
      ],
      "text/latex": [
       "A data.frame: 26 × 1\n",
       "\\begin{tabular}{l}\n",
       " MAPE\\\\\n",
       " <dbl>\\\\\n",
       "\\hline\n",
       "\t 0.5431873\\\\\n",
       "\t 1.2219342\\\\\n",
       "\t 1.4337104\\\\\n",
       "\t 0.5234455\\\\\n",
       "\t 2.6981469\\\\\n",
       "\t 0.7198186\\\\\n",
       "\t 0.9232656\\\\\n",
       "\t 2.2011203\\\\\n",
       "\t 0.4620767\\\\\n",
       "\t 0.3972098\\\\\n",
       "\t 1.2733609\\\\\n",
       "\t 3.1302371\\\\\n",
       "\t 4.4261160\\\\\n",
       "\t 2.5362240\\\\\n",
       "\t 4.5089002\\\\\n",
       "\t 0.4545147\\\\\n",
       "\t 6.0755642\\\\\n",
       "\t 2.4244623\\\\\n",
       "\t 5.6760117\\\\\n",
       "\t 2.5221875\\\\\n",
       "\t 1.7618216\\\\\n",
       "\t 2.5390566\\\\\n",
       "\t 1.9854082\\\\\n",
       "\t 1.6475024\\\\\n",
       "\t 0.7348810\\\\\n",
       "\t 3.9763552\\\\\n",
       "\\end{tabular}\n"
      ],
      "text/markdown": [
       "\n",
       "A data.frame: 26 × 1\n",
       "\n",
       "| MAPE &lt;dbl&gt; |\n",
       "|---|\n",
       "| 0.5431873 |\n",
       "| 1.2219342 |\n",
       "| 1.4337104 |\n",
       "| 0.5234455 |\n",
       "| 2.6981469 |\n",
       "| 0.7198186 |\n",
       "| 0.9232656 |\n",
       "| 2.2011203 |\n",
       "| 0.4620767 |\n",
       "| 0.3972098 |\n",
       "| 1.2733609 |\n",
       "| 3.1302371 |\n",
       "| 4.4261160 |\n",
       "| 2.5362240 |\n",
       "| 4.5089002 |\n",
       "| 0.4545147 |\n",
       "| 6.0755642 |\n",
       "| 2.4244623 |\n",
       "| 5.6760117 |\n",
       "| 2.5221875 |\n",
       "| 1.7618216 |\n",
       "| 2.5390566 |\n",
       "| 1.9854082 |\n",
       "| 1.6475024 |\n",
       "| 0.7348810 |\n",
       "| 3.9763552 |\n",
       "\n"
      ],
      "text/plain": [
       "   MAPE     \n",
       "1  0.5431873\n",
       "2  1.2219342\n",
       "3  1.4337104\n",
       "4  0.5234455\n",
       "5  2.6981469\n",
       "6  0.7198186\n",
       "7  0.9232656\n",
       "8  2.2011203\n",
       "9  0.4620767\n",
       "10 0.3972098\n",
       "11 1.2733609\n",
       "12 3.1302371\n",
       "13 4.4261160\n",
       "14 2.5362240\n",
       "15 4.5089002\n",
       "16 0.4545147\n",
       "17 6.0755642\n",
       "18 2.4244623\n",
       "19 5.6760117\n",
       "20 2.5221875\n",
       "21 1.7618216\n",
       "22 2.5390566\n",
       "23 1.9854082\n",
       "24 1.6475024\n",
       "25 0.7348810\n",
       "26 3.9763552"
      ]
     },
     "metadata": {},
     "output_type": "display_data"
    }
   ],
   "source": [
    "MAPE <- c()\n",
    "for (var in 1:dim(LSTM_forecast)[3]){\n",
    "    obs <-df.diff[(nrow(scaled_train)-prediction+1):nrow(scaled_train),var]\n",
    "    pred <- LSTM_forecast[,,var]\n",
    "    starting_point <- df.ts[nrow(scaled_train)-prediction,var]\n",
    "    obs <-diffinv(obs,xi=starting_point)\n",
    "    pred <-diffinv(pred,xi=starting_point)\n",
    "    \n",
    "    MAPE <-c(MAPE,mean(abs((obs-pred)*100/obs)))\n",
    "    \n",
    "}\n",
    "MAPE <- MAPE %>%as.data.frame()\n",
    "colnames(MAPE) <- \"MAPE\"\n",
    "MAPE"
   ]
  },
  {
   "cell_type": "code",
   "execution_count": 210,
   "metadata": {
    "vscode": {
     "languageId": "r"
    }
   },
   "outputs": [
    {
     "data": {
      "text/plain": [
       "      mape       \n",
       " Min.   :0.3972  \n",
       " 1st Qu.:0.7820  \n",
       " Median :1.8736  \n",
       " Mean   :2.1845  \n",
       " 3rd Qu.:2.6584  \n",
       " Max.   :6.0756  "
      ]
     },
     "metadata": {},
     "output_type": "display_data"
    }
   ],
   "source": [
    "summary(MAPE)"
   ]
  },
  {
   "cell_type": "markdown",
   "metadata": {},
   "source": [
    "They also have the disadvantage that they put a heavier penalty on negative errors than on positive errors. This observation led to the use of the so-called “symmetric” MAPE (sMAPE) proposed by Armstrong (1978, p. 348), which was used in the M3 forecasting competition. \n",
    "It is defined by\n",
    "\n",
    "$sMAPE=mean(200|obs−pred|/(obs+pred))$\n",
    "\n",
    "https://otexts.com/fpp2/accuracy.html"
   ]
  },
  {
   "cell_type": "code",
   "execution_count": 223,
   "metadata": {
    "vscode": {
     "languageId": "r"
    }
   },
   "outputs": [
    {
     "data": {
      "text/html": [
       "<table class=\"dataframe\">\n",
       "<caption>A data.frame: 26 × 1</caption>\n",
       "<thead>\n",
       "\t<tr><th scope=col>sMAPE</th></tr>\n",
       "\t<tr><th scope=col>&lt;dbl&gt;</th></tr>\n",
       "</thead>\n",
       "<tbody>\n",
       "\t<tr><td>0.5412083</td></tr>\n",
       "\t<tr><td>1.2206236</td></tr>\n",
       "\t<tr><td>1.4692833</td></tr>\n",
       "\t<tr><td>0.5237809</td></tr>\n",
       "\t<tr><td>2.6545764</td></tr>\n",
       "\t<tr><td>0.7184889</td></tr>\n",
       "\t<tr><td>0.9226217</td></tr>\n",
       "\t<tr><td>2.2357391</td></tr>\n",
       "\t<tr><td>0.4634092</td></tr>\n",
       "\t<tr><td>0.3981828</td></tr>\n",
       "\t<tr><td>1.2863447</td></tr>\n",
       "\t<tr><td>3.0684536</td></tr>\n",
       "\t<tr><td>4.2565213</td></tr>\n",
       "\t<tr><td>2.6008727</td></tr>\n",
       "\t<tr><td>4.6869577</td></tr>\n",
       "\t<tr><td>0.4559987</td></tr>\n",
       "\t<tr><td>6.4295222</td></tr>\n",
       "\t<tr><td>2.4571002</td></tr>\n",
       "\t<tr><td>5.8763519</td></tr>\n",
       "\t<tr><td>2.5483986</td></tr>\n",
       "\t<tr><td>1.7414375</td></tr>\n",
       "\t<tr><td>2.5905179</td></tr>\n",
       "\t<tr><td>2.0237077</td></tr>\n",
       "\t<tr><td>1.6516438</td></tr>\n",
       "\t<tr><td>0.7309845</td></tr>\n",
       "\t<tr><td>4.0988816</td></tr>\n",
       "</tbody>\n",
       "</table>\n"
      ],
      "text/latex": [
       "A data.frame: 26 × 1\n",
       "\\begin{tabular}{l}\n",
       " sMAPE\\\\\n",
       " <dbl>\\\\\n",
       "\\hline\n",
       "\t 0.5412083\\\\\n",
       "\t 1.2206236\\\\\n",
       "\t 1.4692833\\\\\n",
       "\t 0.5237809\\\\\n",
       "\t 2.6545764\\\\\n",
       "\t 0.7184889\\\\\n",
       "\t 0.9226217\\\\\n",
       "\t 2.2357391\\\\\n",
       "\t 0.4634092\\\\\n",
       "\t 0.3981828\\\\\n",
       "\t 1.2863447\\\\\n",
       "\t 3.0684536\\\\\n",
       "\t 4.2565213\\\\\n",
       "\t 2.6008727\\\\\n",
       "\t 4.6869577\\\\\n",
       "\t 0.4559987\\\\\n",
       "\t 6.4295222\\\\\n",
       "\t 2.4571002\\\\\n",
       "\t 5.8763519\\\\\n",
       "\t 2.5483986\\\\\n",
       "\t 1.7414375\\\\\n",
       "\t 2.5905179\\\\\n",
       "\t 2.0237077\\\\\n",
       "\t 1.6516438\\\\\n",
       "\t 0.7309845\\\\\n",
       "\t 4.0988816\\\\\n",
       "\\end{tabular}\n"
      ],
      "text/markdown": [
       "\n",
       "A data.frame: 26 × 1\n",
       "\n",
       "| sMAPE &lt;dbl&gt; |\n",
       "|---|\n",
       "| 0.5412083 |\n",
       "| 1.2206236 |\n",
       "| 1.4692833 |\n",
       "| 0.5237809 |\n",
       "| 2.6545764 |\n",
       "| 0.7184889 |\n",
       "| 0.9226217 |\n",
       "| 2.2357391 |\n",
       "| 0.4634092 |\n",
       "| 0.3981828 |\n",
       "| 1.2863447 |\n",
       "| 3.0684536 |\n",
       "| 4.2565213 |\n",
       "| 2.6008727 |\n",
       "| 4.6869577 |\n",
       "| 0.4559987 |\n",
       "| 6.4295222 |\n",
       "| 2.4571002 |\n",
       "| 5.8763519 |\n",
       "| 2.5483986 |\n",
       "| 1.7414375 |\n",
       "| 2.5905179 |\n",
       "| 2.0237077 |\n",
       "| 1.6516438 |\n",
       "| 0.7309845 |\n",
       "| 4.0988816 |\n",
       "\n"
      ],
      "text/plain": [
       "   sMAPE    \n",
       "1  0.5412083\n",
       "2  1.2206236\n",
       "3  1.4692833\n",
       "4  0.5237809\n",
       "5  2.6545764\n",
       "6  0.7184889\n",
       "7  0.9226217\n",
       "8  2.2357391\n",
       "9  0.4634092\n",
       "10 0.3981828\n",
       "11 1.2863447\n",
       "12 3.0684536\n",
       "13 4.2565213\n",
       "14 2.6008727\n",
       "15 4.6869577\n",
       "16 0.4559987\n",
       "17 6.4295222\n",
       "18 2.4571002\n",
       "19 5.8763519\n",
       "20 2.5483986\n",
       "21 1.7414375\n",
       "22 2.5905179\n",
       "23 2.0237077\n",
       "24 1.6516438\n",
       "25 0.7309845\n",
       "26 4.0988816"
      ]
     },
     "metadata": {},
     "output_type": "display_data"
    }
   ],
   "source": [
    "sMAPE <- c()\n",
    "for (var in 1:dim(LSTM_forecast)[3]){\n",
    "    obs <-df.diff[(nrow(scaled_train)-prediction+1):nrow(scaled_train),var]\n",
    "    pred <- LSTM_forecast[,,var]\n",
    "    starting_point <- df.ts[nrow(scaled_train)-prediction,var]\n",
    "    obs <-diffinv(obs,xi=starting_point)\n",
    "    pred <-diffinv(pred,xi=starting_point)\n",
    "    \n",
    "    sMAPE <-c(sMAPE,mean(200*abs(obs-pred)/(obs+pred)))\n",
    "    \n",
    "}\n",
    "sMAPE <- sMAPE %>%as.data.frame()\n",
    "colnames(sMAPE) <- \"sMAPE\"\n",
    "sMAPE"
   ]
  },
  {
   "cell_type": "code",
   "execution_count": 224,
   "metadata": {
    "vscode": {
     "languageId": "r"
    }
   },
   "outputs": [
    {
     "data": {
      "text/html": [
       "<table class=\"dataframe\">\n",
       "<caption>A data.frame: 26 × 5</caption>\n",
       "<thead>\n",
       "\t<tr><th scope=col>secteurs</th><th scope=col>RMSE</th><th scope=col>MAE</th><th scope=col>MAPE</th><th scope=col>sMAPE</th></tr>\n",
       "\t<tr><th scope=col>&lt;chr&gt;</th><th scope=col>&lt;dbl&gt;</th><th scope=col>&lt;dbl&gt;</th><th scope=col>&lt;dbl&gt;</th><th scope=col>&lt;dbl&gt;</th></tr>\n",
       "</thead>\n",
       "<tbody>\n",
       "\t<tr><td>64 Activités des services financiers, hors assurance et</td><td> 6.78155325</td><td> 5.86382921</td><td>0.5431873</td><td>0.5412083</td></tr>\n",
       "\t<tr><td>65-66 Assurance ; Activités auxiliaires de services fin</td><td> 5.47183157</td><td> 4.66540830</td><td>1.2219342</td><td>1.2206236</td></tr>\n",
       "\t<tr><td>852 Enseignement primaire                              </td><td> 1.90814840</td><td> 1.03364741</td><td>1.4337104</td><td>1.4692833</td></tr>\n",
       "\t<tr><td>853 Enseignement secondaire                            </td><td> 0.83335382</td><td> 0.75781189</td><td>0.5234455</td><td>0.5237809</td></tr>\n",
       "\t<tr><td>85x Enseignement / Autre                               </td><td>31.80338227</td><td>28.83181754</td><td>2.6981469</td><td>2.6545764</td></tr>\n",
       "\t<tr><td>861 Activités hospitalières                            </td><td> 0.85532909</td><td> 0.71344470</td><td>0.7198186</td><td>0.7184889</td></tr>\n",
       "\t<tr><td>862 Activité des médecins et des dentistes             </td><td> 1.95620285</td><td> 1.64135510</td><td>0.9232656</td><td>0.9226217</td></tr>\n",
       "\t<tr><td>869 Autres activités pour la santé humaine             </td><td> 3.59230963</td><td> 3.02188631</td><td>2.2011203</td><td>2.2357391</td></tr>\n",
       "\t<tr><td>87 Hébergement médico-social et social                 </td><td> 5.06823544</td><td> 4.54053897</td><td>0.4620767</td><td>0.4634092</td></tr>\n",
       "\t<tr><td>881 Action sociale sans hébergement pour personnes âgée</td><td> 2.93744212</td><td> 2.19059983</td><td>0.3972098</td><td>0.3981828</td></tr>\n",
       "\t<tr><td>889 Autre action sociale sans hébergement              </td><td>23.96205385</td><td>18.99448575</td><td>1.2733609</td><td>1.2863447</td></tr>\n",
       "\t<tr><td>931 Activités liées au sport                           </td><td>48.32035269</td><td>42.62991917</td><td>3.1302371</td><td>3.0684536</td></tr>\n",
       "\t<tr><td>932 Activités récréatives et de loisirs                </td><td> 9.98037077</td><td> 7.33210667</td><td>4.4261160</td><td>4.2565213</td></tr>\n",
       "\t<tr><td>FZ_Construction                                        </td><td> 1.48726125</td><td> 1.01167011</td><td>2.5362240</td><td>2.6008727</td></tr>\n",
       "\t<tr><td>GZ_Commerce, réparation d'automobiles et de motocycles </td><td> 8.58147542</td><td> 6.53691495</td><td>4.5089002</td><td>4.6869577</td></tr>\n",
       "\t<tr><td>HZ_Transports et entreposage                           </td><td> 0.05987746</td><td> 0.04999662</td><td>0.4545147</td><td>0.4559987</td></tr>\n",
       "\t<tr><td>IZ_Hébergement et restauration                         </td><td>18.95473439</td><td>13.93915423</td><td>6.0755642</td><td>6.4295222</td></tr>\n",
       "\t<tr><td>JA_Edition et audiovisuel                              </td><td> 3.61044168</td><td> 2.84245985</td><td>2.4244623</td><td>2.4571002</td></tr>\n",
       "\t<tr><td>JB-JC_Télécommunications et ativités informatiques     </td><td> 1.11431213</td><td> 0.94957260</td><td>5.6760117</td><td>5.8763519</td></tr>\n",
       "\t<tr><td>LZ_Activités immobilières                              </td><td> 0.92529906</td><td> 0.72916139</td><td>2.5221875</td><td>2.5483986</td></tr>\n",
       "\t<tr><td>MA_Activités juridiques, de conseil et d'ingénierie    </td><td> 3.79134314</td><td> 3.29426566</td><td>1.7618216</td><td>1.7414375</td></tr>\n",
       "\t<tr><td>MB-MC_R&amp;d et autres activités scientifiques et techniqu</td><td> 1.97549753</td><td> 1.57450199</td><td>2.5390566</td><td>2.5905179</td></tr>\n",
       "\t<tr><td>NZ_Activités de services administratifs et de soutien  </td><td> 7.77553723</td><td> 5.63067041</td><td>1.9854082</td><td>2.0237077</td></tr>\n",
       "\t<tr><td>RZ_Arts, spectacles et activités récréatives           </td><td>19.06769171</td><td>16.24327842</td><td>1.6475024</td><td>1.6516438</td></tr>\n",
       "\t<tr><td>SZ_autres activités de services                        </td><td>25.68104759</td><td>21.33807669</td><td>0.7348810</td><td>0.7309845</td></tr>\n",
       "\t<tr><td>i_Industrie et agriculture                             </td><td> 3.14894560</td><td> 2.53722668</td><td>3.9763552</td><td>4.0988816</td></tr>\n",
       "</tbody>\n",
       "</table>\n"
      ],
      "text/latex": [
       "A data.frame: 26 × 5\n",
       "\\begin{tabular}{lllll}\n",
       " secteurs & RMSE & MAE & MAPE & sMAPE\\\\\n",
       " <chr> & <dbl> & <dbl> & <dbl> & <dbl>\\\\\n",
       "\\hline\n",
       "\t 64 Activités des services financiers, hors assurance et &  6.78155325 &  5.86382921 & 0.5431873 & 0.5412083\\\\\n",
       "\t 65-66 Assurance ; Activités auxiliaires de services fin &  5.47183157 &  4.66540830 & 1.2219342 & 1.2206236\\\\\n",
       "\t 852 Enseignement primaire                               &  1.90814840 &  1.03364741 & 1.4337104 & 1.4692833\\\\\n",
       "\t 853 Enseignement secondaire                             &  0.83335382 &  0.75781189 & 0.5234455 & 0.5237809\\\\\n",
       "\t 85x Enseignement / Autre                                & 31.80338227 & 28.83181754 & 2.6981469 & 2.6545764\\\\\n",
       "\t 861 Activités hospitalières                             &  0.85532909 &  0.71344470 & 0.7198186 & 0.7184889\\\\\n",
       "\t 862 Activité des médecins et des dentistes              &  1.95620285 &  1.64135510 & 0.9232656 & 0.9226217\\\\\n",
       "\t 869 Autres activités pour la santé humaine              &  3.59230963 &  3.02188631 & 2.2011203 & 2.2357391\\\\\n",
       "\t 87 Hébergement médico-social et social                  &  5.06823544 &  4.54053897 & 0.4620767 & 0.4634092\\\\\n",
       "\t 881 Action sociale sans hébergement pour personnes âgée &  2.93744212 &  2.19059983 & 0.3972098 & 0.3981828\\\\\n",
       "\t 889 Autre action sociale sans hébergement               & 23.96205385 & 18.99448575 & 1.2733609 & 1.2863447\\\\\n",
       "\t 931 Activités liées au sport                            & 48.32035269 & 42.62991917 & 3.1302371 & 3.0684536\\\\\n",
       "\t 932 Activités récréatives et de loisirs                 &  9.98037077 &  7.33210667 & 4.4261160 & 4.2565213\\\\\n",
       "\t FZ\\_Construction                                         &  1.48726125 &  1.01167011 & 2.5362240 & 2.6008727\\\\\n",
       "\t GZ\\_Commerce, réparation d'automobiles et de motocycles  &  8.58147542 &  6.53691495 & 4.5089002 & 4.6869577\\\\\n",
       "\t HZ\\_Transports et entreposage                            &  0.05987746 &  0.04999662 & 0.4545147 & 0.4559987\\\\\n",
       "\t IZ\\_Hébergement et restauration                          & 18.95473439 & 13.93915423 & 6.0755642 & 6.4295222\\\\\n",
       "\t JA\\_Edition et audiovisuel                               &  3.61044168 &  2.84245985 & 2.4244623 & 2.4571002\\\\\n",
       "\t JB-JC\\_Télécommunications et ativités informatiques      &  1.11431213 &  0.94957260 & 5.6760117 & 5.8763519\\\\\n",
       "\t LZ\\_Activités immobilières                               &  0.92529906 &  0.72916139 & 2.5221875 & 2.5483986\\\\\n",
       "\t MA\\_Activités juridiques, de conseil et d'ingénierie     &  3.79134314 &  3.29426566 & 1.7618216 & 1.7414375\\\\\n",
       "\t MB-MC\\_R\\&d et autres activités scientifiques et techniqu &  1.97549753 &  1.57450199 & 2.5390566 & 2.5905179\\\\\n",
       "\t NZ\\_Activités de services administratifs et de soutien   &  7.77553723 &  5.63067041 & 1.9854082 & 2.0237077\\\\\n",
       "\t RZ\\_Arts, spectacles et activités récréatives            & 19.06769171 & 16.24327842 & 1.6475024 & 1.6516438\\\\\n",
       "\t SZ\\_autres activités de services                         & 25.68104759 & 21.33807669 & 0.7348810 & 0.7309845\\\\\n",
       "\t i\\_Industrie et agriculture                              &  3.14894560 &  2.53722668 & 3.9763552 & 4.0988816\\\\\n",
       "\\end{tabular}\n"
      ],
      "text/markdown": [
       "\n",
       "A data.frame: 26 × 5\n",
       "\n",
       "| secteurs &lt;chr&gt; | RMSE &lt;dbl&gt; | MAE &lt;dbl&gt; | MAPE &lt;dbl&gt; | sMAPE &lt;dbl&gt; |\n",
       "|---|---|---|---|---|\n",
       "| 64 Activités des services financiers, hors assurance et |  6.78155325 |  5.86382921 | 0.5431873 | 0.5412083 |\n",
       "| 65-66 Assurance ; Activités auxiliaires de services fin |  5.47183157 |  4.66540830 | 1.2219342 | 1.2206236 |\n",
       "| 852 Enseignement primaire                               |  1.90814840 |  1.03364741 | 1.4337104 | 1.4692833 |\n",
       "| 853 Enseignement secondaire                             |  0.83335382 |  0.75781189 | 0.5234455 | 0.5237809 |\n",
       "| 85x Enseignement / Autre                                | 31.80338227 | 28.83181754 | 2.6981469 | 2.6545764 |\n",
       "| 861 Activités hospitalières                             |  0.85532909 |  0.71344470 | 0.7198186 | 0.7184889 |\n",
       "| 862 Activité des médecins et des dentistes              |  1.95620285 |  1.64135510 | 0.9232656 | 0.9226217 |\n",
       "| 869 Autres activités pour la santé humaine              |  3.59230963 |  3.02188631 | 2.2011203 | 2.2357391 |\n",
       "| 87 Hébergement médico-social et social                  |  5.06823544 |  4.54053897 | 0.4620767 | 0.4634092 |\n",
       "| 881 Action sociale sans hébergement pour personnes âgée |  2.93744212 |  2.19059983 | 0.3972098 | 0.3981828 |\n",
       "| 889 Autre action sociale sans hébergement               | 23.96205385 | 18.99448575 | 1.2733609 | 1.2863447 |\n",
       "| 931 Activités liées au sport                            | 48.32035269 | 42.62991917 | 3.1302371 | 3.0684536 |\n",
       "| 932 Activités récréatives et de loisirs                 |  9.98037077 |  7.33210667 | 4.4261160 | 4.2565213 |\n",
       "| FZ_Construction                                         |  1.48726125 |  1.01167011 | 2.5362240 | 2.6008727 |\n",
       "| GZ_Commerce, réparation d'automobiles et de motocycles  |  8.58147542 |  6.53691495 | 4.5089002 | 4.6869577 |\n",
       "| HZ_Transports et entreposage                            |  0.05987746 |  0.04999662 | 0.4545147 | 0.4559987 |\n",
       "| IZ_Hébergement et restauration                          | 18.95473439 | 13.93915423 | 6.0755642 | 6.4295222 |\n",
       "| JA_Edition et audiovisuel                               |  3.61044168 |  2.84245985 | 2.4244623 | 2.4571002 |\n",
       "| JB-JC_Télécommunications et ativités informatiques      |  1.11431213 |  0.94957260 | 5.6760117 | 5.8763519 |\n",
       "| LZ_Activités immobilières                               |  0.92529906 |  0.72916139 | 2.5221875 | 2.5483986 |\n",
       "| MA_Activités juridiques, de conseil et d'ingénierie     |  3.79134314 |  3.29426566 | 1.7618216 | 1.7414375 |\n",
       "| MB-MC_R&amp;d et autres activités scientifiques et techniqu |  1.97549753 |  1.57450199 | 2.5390566 | 2.5905179 |\n",
       "| NZ_Activités de services administratifs et de soutien   |  7.77553723 |  5.63067041 | 1.9854082 | 2.0237077 |\n",
       "| RZ_Arts, spectacles et activités récréatives            | 19.06769171 | 16.24327842 | 1.6475024 | 1.6516438 |\n",
       "| SZ_autres activités de services                         | 25.68104759 | 21.33807669 | 0.7348810 | 0.7309845 |\n",
       "| i_Industrie et agriculture                              |  3.14894560 |  2.53722668 | 3.9763552 | 4.0988816 |\n",
       "\n"
      ],
      "text/plain": [
       "   secteurs                                                RMSE       \n",
       "1  64 Activités des services financiers, hors assurance et  6.78155325\n",
       "2  65-66 Assurance ; Activités auxiliaires de services fin  5.47183157\n",
       "3  852 Enseignement primaire                                1.90814840\n",
       "4  853 Enseignement secondaire                              0.83335382\n",
       "5  85x Enseignement / Autre                                31.80338227\n",
       "6  861 Activités hospitalières                              0.85532909\n",
       "7  862 Activité des médecins et des dentistes               1.95620285\n",
       "8  869 Autres activités pour la santé humaine               3.59230963\n",
       "9  87 Hébergement médico-social et social                   5.06823544\n",
       "10 881 Action sociale sans hébergement pour personnes âgée  2.93744212\n",
       "11 889 Autre action sociale sans hébergement               23.96205385\n",
       "12 931 Activités liées au sport                            48.32035269\n",
       "13 932 Activités récréatives et de loisirs                  9.98037077\n",
       "14 FZ_Construction                                          1.48726125\n",
       "15 GZ_Commerce, réparation d'automobiles et de motocycles   8.58147542\n",
       "16 HZ_Transports et entreposage                             0.05987746\n",
       "17 IZ_Hébergement et restauration                          18.95473439\n",
       "18 JA_Edition et audiovisuel                                3.61044168\n",
       "19 JB-JC_Télécommunications et ativités informatiques       1.11431213\n",
       "20 LZ_Activités immobilières                                0.92529906\n",
       "21 MA_Activités juridiques, de conseil et d'ingénierie      3.79134314\n",
       "22 MB-MC_R&d et autres activités scientifiques et techniqu  1.97549753\n",
       "23 NZ_Activités de services administratifs et de soutien    7.77553723\n",
       "24 RZ_Arts, spectacles et activités récréatives            19.06769171\n",
       "25 SZ_autres activités de services                         25.68104759\n",
       "26 i_Industrie et agriculture                               3.14894560\n",
       "   MAE         MAPE      sMAPE    \n",
       "1   5.86382921 0.5431873 0.5412083\n",
       "2   4.66540830 1.2219342 1.2206236\n",
       "3   1.03364741 1.4337104 1.4692833\n",
       "4   0.75781189 0.5234455 0.5237809\n",
       "5  28.83181754 2.6981469 2.6545764\n",
       "6   0.71344470 0.7198186 0.7184889\n",
       "7   1.64135510 0.9232656 0.9226217\n",
       "8   3.02188631 2.2011203 2.2357391\n",
       "9   4.54053897 0.4620767 0.4634092\n",
       "10  2.19059983 0.3972098 0.3981828\n",
       "11 18.99448575 1.2733609 1.2863447\n",
       "12 42.62991917 3.1302371 3.0684536\n",
       "13  7.33210667 4.4261160 4.2565213\n",
       "14  1.01167011 2.5362240 2.6008727\n",
       "15  6.53691495 4.5089002 4.6869577\n",
       "16  0.04999662 0.4545147 0.4559987\n",
       "17 13.93915423 6.0755642 6.4295222\n",
       "18  2.84245985 2.4244623 2.4571002\n",
       "19  0.94957260 5.6760117 5.8763519\n",
       "20  0.72916139 2.5221875 2.5483986\n",
       "21  3.29426566 1.7618216 1.7414375\n",
       "22  1.57450199 2.5390566 2.5905179\n",
       "23  5.63067041 1.9854082 2.0237077\n",
       "24 16.24327842 1.6475024 1.6516438\n",
       "25 21.33807669 0.7348810 0.7309845\n",
       "26  2.53722668 3.9763552 4.0988816"
      ]
     },
     "metadata": {},
     "output_type": "display_data"
    }
   ],
   "source": [
    "predict_accuracy <- cbind(\"secteurs\"=lab.to.num$lab,RMSE,MAE,MAPE,sMAPE)\n",
    "\n",
    "predict_accuracy"
   ]
  },
  {
   "cell_type": "markdown",
   "metadata": {},
   "source": [
    "# With validation DATA\n",
    "*Rmrq : Ce n'est pas un nouveau modèle etant donnée que l'on entraine notre modele sur exactement les meem données. Le seul interet de cette partie est ainsi de pouvoir obtenir un graphe concernant la précision des prévisions fournies*"
   ]
  },
  {
   "cell_type": "code",
   "execution_count": null,
   "metadata": {
    "vscode": {
     "languageId": "r"
    }
   },
   "outputs": [
    {
     "data": {
      "text/html": [
       "<table class=\"dataframe\">\n",
       "<caption>A data.frame: 6 × 26</caption>\n",
       "<thead>\n",
       "\t<tr><th></th><th scope=col>1</th><th scope=col>2</th><th scope=col>3</th><th scope=col>4</th><th scope=col>5</th><th scope=col>6</th><th scope=col>7</th><th scope=col>8</th><th scope=col>9</th><th scope=col>10</th><th scope=col>⋯</th><th scope=col>17</th><th scope=col>18</th><th scope=col>19</th><th scope=col>20</th><th scope=col>21</th><th scope=col>22</th><th scope=col>23</th><th scope=col>24</th><th scope=col>25</th><th scope=col>26</th></tr>\n",
       "\t<tr><th></th><th scope=col>&lt;dbl&gt;</th><th scope=col>&lt;dbl&gt;</th><th scope=col>&lt;dbl&gt;</th><th scope=col>&lt;dbl&gt;</th><th scope=col>&lt;dbl&gt;</th><th scope=col>&lt;dbl&gt;</th><th scope=col>&lt;dbl&gt;</th><th scope=col>&lt;dbl&gt;</th><th scope=col>&lt;dbl&gt;</th><th scope=col>&lt;dbl&gt;</th><th scope=col>⋯</th><th scope=col>&lt;dbl&gt;</th><th scope=col>&lt;dbl&gt;</th><th scope=col>&lt;dbl&gt;</th><th scope=col>&lt;dbl&gt;</th><th scope=col>&lt;dbl&gt;</th><th scope=col>&lt;dbl&gt;</th><th scope=col>&lt;dbl&gt;</th><th scope=col>&lt;dbl&gt;</th><th scope=col>&lt;dbl&gt;</th><th scope=col>&lt;dbl&gt;</th></tr>\n",
       "</thead>\n",
       "<tbody>\n",
       "\t<tr><th scope=row>34</th><td>-0.339129297</td><td> 0.27574168</td><td>-0.07250747</td><td> 0.6807629</td><td>-1.3878366</td><td>-0.67485091</td><td>-0.5016331</td><td> 1.5151134</td><td> 1.33269168</td><td>-0.5840227</td><td>⋯</td><td> 1.0589631</td><td>-0.9439893</td><td>-0.61245961</td><td>-0.5145595</td><td>-1.2109560</td><td> 0.8919034</td><td> 0.46265195</td><td>-1.297037</td><td>-1.12764156</td><td> 1.2446400</td></tr>\n",
       "\t<tr><th scope=row>35</th><td> 0.116941137</td><td> 0.05627381</td><td>-0.07250747</td><td>-0.9447322</td><td> 0.5760831</td><td>-0.04820364</td><td>-0.2630515</td><td> 0.3564973</td><td>-0.07203739</td><td> 0.5548215</td><td>⋯</td><td>-0.9181435</td><td> 1.8521309</td><td> 0.75245037</td><td> 0.0588068</td><td> 0.6674019</td><td>-0.3653580</td><td> 0.08674724</td><td> 1.068196</td><td> 0.38785591</td><td> 0.7442177</td></tr>\n",
       "\t<tr><th scope=row>36</th><td>-0.090363606</td><td> 0.60494348</td><td>-0.07250747</td><td> 0.1389312</td><td>-0.1309280</td><td> 0.57844364</td><td> 1.1684382</td><td> 1.5151134</td><td> 0.77080005</td><td> 0.1752068</td><td>⋯</td><td> 0.1363133</td><td> 0.2210608</td><td> 0.75245037</td><td> 0.0588068</td><td> 0.3990651</td><td>-0.3653580</td><td>-0.28915747</td><td>-0.792454</td><td>-1.09904726</td><td>-1.2574713</td></tr>\n",
       "\t<tr><th scope=row>37</th><td>-0.007441709</td><td>-1.48000125</td><td>-0.07250747</td><td> 0.1389312</td><td> 0.2225776</td><td> 1.20509091</td><td> 0.2141117</td><td>-0.8021188</td><td>-0.35298320</td><td>-0.2044079</td><td>⋯</td><td> 0.2241847</td><td> 0.9200908</td><td> 0.06999538</td><td> 1.2055394</td><td> 0.6674019</td><td> 0.8919034</td><td> 0.08674724</td><td> 1.352024</td><td> 0.73098741</td><td> 0.2437955</td></tr>\n",
       "\t<tr><th scope=row>38</th><td>-0.297668349</td><td>-0.05346012</td><td> 1.81268664</td><td> 0.6807629</td><td> 0.1047424</td><td>-1.30149818</td><td>-0.7402147</td><td>-0.8021188</td><td> 0.48985424</td><td> 2.0732805</td><td>⋯</td><td> 0.8832203</td><td>-1.1769993</td><td> 0.06999538</td><td>-0.5145595</td><td>-0.9426192</td><td>-0.3653580</td><td> 1.59036606</td><td>-1.896229</td><td>-0.46997285</td><td> 0.2437955</td></tr>\n",
       "\t<tr><th scope=row>39</th><td> 0.075480188</td><td>-0.38266192</td><td> 1.81268664</td><td> 0.1389312</td><td> 0.6939183</td><td>-0.04820364</td><td>-0.5016331</td><td>-0.8021188</td><td>-0.63392901</td><td> 1.3140510</td><td>⋯</td><td>-0.9620792</td><td>-0.2449593</td><td> 0.06999538</td><td>-0.5145595</td><td> 0.9357388</td><td> 0.8919034</td><td>-0.47710982</td><td> 1.320487</td><td> 0.04472441</td><td> 1.7450622</td></tr>\n",
       "</tbody>\n",
       "</table>\n"
      ],
      "text/latex": [
       "A data.frame: 6 × 26\n",
       "\\begin{tabular}{r|lllllllllllllllllllll}\n",
       "  & 1 & 2 & 3 & 4 & 5 & 6 & 7 & 8 & 9 & 10 & ⋯ & 17 & 18 & 19 & 20 & 21 & 22 & 23 & 24 & 25 & 26\\\\\n",
       "  & <dbl> & <dbl> & <dbl> & <dbl> & <dbl> & <dbl> & <dbl> & <dbl> & <dbl> & <dbl> & ⋯ & <dbl> & <dbl> & <dbl> & <dbl> & <dbl> & <dbl> & <dbl> & <dbl> & <dbl> & <dbl>\\\\\n",
       "\\hline\n",
       "\t34 & -0.339129297 &  0.27574168 & -0.07250747 &  0.6807629 & -1.3878366 & -0.67485091 & -0.5016331 &  1.5151134 &  1.33269168 & -0.5840227 & ⋯ &  1.0589631 & -0.9439893 & -0.61245961 & -0.5145595 & -1.2109560 &  0.8919034 &  0.46265195 & -1.297037 & -1.12764156 &  1.2446400\\\\\n",
       "\t35 &  0.116941137 &  0.05627381 & -0.07250747 & -0.9447322 &  0.5760831 & -0.04820364 & -0.2630515 &  0.3564973 & -0.07203739 &  0.5548215 & ⋯ & -0.9181435 &  1.8521309 &  0.75245037 &  0.0588068 &  0.6674019 & -0.3653580 &  0.08674724 &  1.068196 &  0.38785591 &  0.7442177\\\\\n",
       "\t36 & -0.090363606 &  0.60494348 & -0.07250747 &  0.1389312 & -0.1309280 &  0.57844364 &  1.1684382 &  1.5151134 &  0.77080005 &  0.1752068 & ⋯ &  0.1363133 &  0.2210608 &  0.75245037 &  0.0588068 &  0.3990651 & -0.3653580 & -0.28915747 & -0.792454 & -1.09904726 & -1.2574713\\\\\n",
       "\t37 & -0.007441709 & -1.48000125 & -0.07250747 &  0.1389312 &  0.2225776 &  1.20509091 &  0.2141117 & -0.8021188 & -0.35298320 & -0.2044079 & ⋯ &  0.2241847 &  0.9200908 &  0.06999538 &  1.2055394 &  0.6674019 &  0.8919034 &  0.08674724 &  1.352024 &  0.73098741 &  0.2437955\\\\\n",
       "\t38 & -0.297668349 & -0.05346012 &  1.81268664 &  0.6807629 &  0.1047424 & -1.30149818 & -0.7402147 & -0.8021188 &  0.48985424 &  2.0732805 & ⋯ &  0.8832203 & -1.1769993 &  0.06999538 & -0.5145595 & -0.9426192 & -0.3653580 &  1.59036606 & -1.896229 & -0.46997285 &  0.2437955\\\\\n",
       "\t39 &  0.075480188 & -0.38266192 &  1.81268664 &  0.1389312 &  0.6939183 & -0.04820364 & -0.5016331 & -0.8021188 & -0.63392901 &  1.3140510 & ⋯ & -0.9620792 & -0.2449593 &  0.06999538 & -0.5145595 &  0.9357388 &  0.8919034 & -0.47710982 &  1.320487 &  0.04472441 &  1.7450622\\\\\n",
       "\\end{tabular}\n"
      ],
      "text/markdown": [
       "\n",
       "A data.frame: 6 × 26\n",
       "\n",
       "| <!--/--> | 1 &lt;dbl&gt; | 2 &lt;dbl&gt; | 3 &lt;dbl&gt; | 4 &lt;dbl&gt; | 5 &lt;dbl&gt; | 6 &lt;dbl&gt; | 7 &lt;dbl&gt; | 8 &lt;dbl&gt; | 9 &lt;dbl&gt; | 10 &lt;dbl&gt; | ⋯ ⋯ | 17 &lt;dbl&gt; | 18 &lt;dbl&gt; | 19 &lt;dbl&gt; | 20 &lt;dbl&gt; | 21 &lt;dbl&gt; | 22 &lt;dbl&gt; | 23 &lt;dbl&gt; | 24 &lt;dbl&gt; | 25 &lt;dbl&gt; | 26 &lt;dbl&gt; |\n",
       "|---|---|---|---|---|---|---|---|---|---|---|---|---|---|---|---|---|---|---|---|---|---|\n",
       "| 34 | -0.339129297 |  0.27574168 | -0.07250747 |  0.6807629 | -1.3878366 | -0.67485091 | -0.5016331 |  1.5151134 |  1.33269168 | -0.5840227 | ⋯ |  1.0589631 | -0.9439893 | -0.61245961 | -0.5145595 | -1.2109560 |  0.8919034 |  0.46265195 | -1.297037 | -1.12764156 |  1.2446400 |\n",
       "| 35 |  0.116941137 |  0.05627381 | -0.07250747 | -0.9447322 |  0.5760831 | -0.04820364 | -0.2630515 |  0.3564973 | -0.07203739 |  0.5548215 | ⋯ | -0.9181435 |  1.8521309 |  0.75245037 |  0.0588068 |  0.6674019 | -0.3653580 |  0.08674724 |  1.068196 |  0.38785591 |  0.7442177 |\n",
       "| 36 | -0.090363606 |  0.60494348 | -0.07250747 |  0.1389312 | -0.1309280 |  0.57844364 |  1.1684382 |  1.5151134 |  0.77080005 |  0.1752068 | ⋯ |  0.1363133 |  0.2210608 |  0.75245037 |  0.0588068 |  0.3990651 | -0.3653580 | -0.28915747 | -0.792454 | -1.09904726 | -1.2574713 |\n",
       "| 37 | -0.007441709 | -1.48000125 | -0.07250747 |  0.1389312 |  0.2225776 |  1.20509091 |  0.2141117 | -0.8021188 | -0.35298320 | -0.2044079 | ⋯ |  0.2241847 |  0.9200908 |  0.06999538 |  1.2055394 |  0.6674019 |  0.8919034 |  0.08674724 |  1.352024 |  0.73098741 |  0.2437955 |\n",
       "| 38 | -0.297668349 | -0.05346012 |  1.81268664 |  0.6807629 |  0.1047424 | -1.30149818 | -0.7402147 | -0.8021188 |  0.48985424 |  2.0732805 | ⋯ |  0.8832203 | -1.1769993 |  0.06999538 | -0.5145595 | -0.9426192 | -0.3653580 |  1.59036606 | -1.896229 | -0.46997285 |  0.2437955 |\n",
       "| 39 |  0.075480188 | -0.38266192 |  1.81268664 |  0.1389312 |  0.6939183 | -0.04820364 | -0.5016331 | -0.8021188 | -0.63392901 |  1.3140510 | ⋯ | -0.9620792 | -0.2449593 |  0.06999538 | -0.5145595 |  0.9357388 |  0.8919034 | -0.47710982 |  1.320487 |  0.04472441 |  1.7450622 |\n",
       "\n"
      ],
      "text/plain": [
       "   1            2           3           4          5          6          \n",
       "34 -0.339129297  0.27574168 -0.07250747  0.6807629 -1.3878366 -0.67485091\n",
       "35  0.116941137  0.05627381 -0.07250747 -0.9447322  0.5760831 -0.04820364\n",
       "36 -0.090363606  0.60494348 -0.07250747  0.1389312 -0.1309280  0.57844364\n",
       "37 -0.007441709 -1.48000125 -0.07250747  0.1389312  0.2225776  1.20509091\n",
       "38 -0.297668349 -0.05346012  1.81268664  0.6807629  0.1047424 -1.30149818\n",
       "39  0.075480188 -0.38266192  1.81268664  0.1389312  0.6939183 -0.04820364\n",
       "   7          8          9           10         ⋯ 17         18        \n",
       "34 -0.5016331  1.5151134  1.33269168 -0.5840227 ⋯  1.0589631 -0.9439893\n",
       "35 -0.2630515  0.3564973 -0.07203739  0.5548215 ⋯ -0.9181435  1.8521309\n",
       "36  1.1684382  1.5151134  0.77080005  0.1752068 ⋯  0.1363133  0.2210608\n",
       "37  0.2141117 -0.8021188 -0.35298320 -0.2044079 ⋯  0.2241847  0.9200908\n",
       "38 -0.7402147 -0.8021188  0.48985424  2.0732805 ⋯  0.8832203 -1.1769993\n",
       "39 -0.5016331 -0.8021188 -0.63392901  1.3140510 ⋯ -0.9620792 -0.2449593\n",
       "   19          20         21         22         23          24       \n",
       "34 -0.61245961 -0.5145595 -1.2109560  0.8919034  0.46265195 -1.297037\n",
       "35  0.75245037  0.0588068  0.6674019 -0.3653580  0.08674724  1.068196\n",
       "36  0.75245037  0.0588068  0.3990651 -0.3653580 -0.28915747 -0.792454\n",
       "37  0.06999538  1.2055394  0.6674019  0.8919034  0.08674724  1.352024\n",
       "38  0.06999538 -0.5145595 -0.9426192 -0.3653580  1.59036606 -1.896229\n",
       "39  0.06999538 -0.5145595  0.9357388  0.8919034 -0.47710982  1.320487\n",
       "   25          26        \n",
       "34 -1.12764156  1.2446400\n",
       "35  0.38785591  0.7442177\n",
       "36 -1.09904726 -1.2574713\n",
       "37  0.73098741  0.2437955\n",
       "38 -0.46997285  0.2437955\n",
       "39  0.04472441  1.7450622"
      ]
     },
     "metadata": {},
     "output_type": "display_data"
    },
    {
     "name": "stdout",
     "output_type": "stream",
     "text": [
      "time interval taken into Y_test: 34 35 36 37 38 39"
     ]
    }
   ],
   "source": [
    "y_test <-df.train[(nrow(scaled_train)- prediction+1):nrow(scaled_train),]\n",
    "for(i in 1:ncol(y_test)){\n",
    "    y_test[,i] <-(y_test[,i] -scale_factor[[\"center\"]][i])/scale_factor[[\"sd\"]][i]\n",
    "}\n",
    "y_test_scaled <- y_test\n",
    "y_test_scaled\n",
    "cat(\"time interval taken into Y_test:\", (nrow(scaled_train)- prediction+1):nrow(scaled_train))"
   ]
  },
  {
   "cell_type": "code",
   "execution_count": null,
   "metadata": {
    "vscode": {
     "languageId": "r"
    }
   },
   "outputs": [
    {
     "data": {
      "text/html": [
       "<style>\n",
       ".list-inline {list-style: none; margin:0; padding: 0}\n",
       ".list-inline>li {display: inline-block}\n",
       ".list-inline>li:not(:last-child)::after {content: \"\\00b7\"; padding: 0 .5ex}\n",
       "</style>\n",
       "<ol class=list-inline><li>28</li><li>29</li><li>30</li><li>31</li><li>32</li><li>33</li></ol>\n"
      ],
      "text/latex": [
       "\\begin{enumerate*}\n",
       "\\item 28\n",
       "\\item 29\n",
       "\\item 30\n",
       "\\item 31\n",
       "\\item 32\n",
       "\\item 33\n",
       "\\end{enumerate*}\n"
      ],
      "text/markdown": [
       "1. 28\n",
       "2. 29\n",
       "3. 30\n",
       "4. 31\n",
       "5. 32\n",
       "6. 33\n",
       "\n",
       "\n"
      ],
      "text/plain": [
       "[1] 28 29 30 31 32 33"
      ]
     },
     "metadata": {},
     "output_type": "display_data"
    },
    {
     "data": {
      "text/html": [
       "<table class=\"dataframe\">\n",
       "<caption>A data.frame: 6 × 26</caption>\n",
       "<thead>\n",
       "\t<tr><th></th><th scope=col>1</th><th scope=col>2</th><th scope=col>3</th><th scope=col>4</th><th scope=col>5</th><th scope=col>6</th><th scope=col>7</th><th scope=col>8</th><th scope=col>9</th><th scope=col>10</th><th scope=col>⋯</th><th scope=col>17</th><th scope=col>18</th><th scope=col>19</th><th scope=col>20</th><th scope=col>21</th><th scope=col>22</th><th scope=col>23</th><th scope=col>24</th><th scope=col>25</th><th scope=col>26</th></tr>\n",
       "\t<tr><th></th><th scope=col>&lt;dbl&gt;</th><th scope=col>&lt;dbl&gt;</th><th scope=col>&lt;dbl&gt;</th><th scope=col>&lt;dbl&gt;</th><th scope=col>&lt;dbl&gt;</th><th scope=col>&lt;dbl&gt;</th><th scope=col>&lt;dbl&gt;</th><th scope=col>&lt;dbl&gt;</th><th scope=col>&lt;dbl&gt;</th><th scope=col>&lt;dbl&gt;</th><th scope=col>⋯</th><th scope=col>&lt;dbl&gt;</th><th scope=col>&lt;dbl&gt;</th><th scope=col>&lt;dbl&gt;</th><th scope=col>&lt;dbl&gt;</th><th scope=col>&lt;dbl&gt;</th><th scope=col>&lt;dbl&gt;</th><th scope=col>&lt;dbl&gt;</th><th scope=col>&lt;dbl&gt;</th><th scope=col>&lt;dbl&gt;</th><th scope=col>&lt;dbl&gt;</th></tr>\n",
       "</thead>\n",
       "<tbody>\n",
       "\t<tr><th scope=row>28</th><td>-0.007441709</td><td>-0.16319405</td><td> 0.87008959</td><td>-0.4029005</td><td>-1.50567174</td><td> 0.57844364</td><td> 0.92985654</td><td>-1.3814269</td><td> 1.05174586</td><td> 0.5548215</td><td>⋯</td><td> 0.004506226</td><td>-1.4100094</td><td> 0.06999538</td><td>0.0588068</td><td> 1.4724125</td><td>-0.78444517</td><td>-1.79277629</td><td>-0.9185998</td><td>-0.8988872</td><td>-0.7570491</td></tr>\n",
       "\t<tr><th scope=row>29</th><td>-0.131824555</td><td>-0.05346012</td><td>-0.07250747</td><td>-0.4029005</td><td> 0.22257756</td><td>-0.67485091</td><td> 2.59992783</td><td>-1.3814269</td><td>-0.35298320</td><td>-0.2044079</td><td>⋯</td><td>-0.083365181</td><td>-0.4779693</td><td>-0.61245961</td><td>0.0588068</td><td> 0.9357388</td><td> 1.31099056</td><td> 0.65060430</td><td> 1.0051228</td><td> 1.2456847</td><td> 0.2437955</td></tr>\n",
       "\t<tr><th scope=row>30</th><td>-0.380590246</td><td>-0.16319405</td><td>-0.07250747</td><td> 0.1389312</td><td>-1.19144460</td><td>-1.30149818</td><td>-0.74021475</td><td>-0.2228108</td><td> 0.77080005</td><td> 0.5548215</td><td>⋯</td><td> 1.058963107</td><td>-0.9439893</td><td> 0.06999538</td><td>0.0588068</td><td>-2.2843034</td><td> 0.05372912</td><td>-1.98072864</td><td>-1.4862556</td><td>-0.7273215</td><td> 1.7450622</td></tr>\n",
       "\t<tr><th scope=row>31</th><td>-0.297668349</td><td>-0.05346012</td><td> 0.87008959</td><td> 0.1389312</td><td> 0.65463989</td><td>-0.04820364</td><td>-0.50163313</td><td>-0.2228108</td><td>-0.07203739</td><td>-0.2044079</td><td>⋯</td><td>-1.006014951</td><td> 0.6870808</td><td>-0.61245961</td><td>0.0588068</td><td>-0.4059455</td><td>-2.04170661</td><td>-0.66506217</td><td> 1.6358515</td><td>-1.0990473</td><td>-0.2566268</td></tr>\n",
       "\t<tr><th scope=row>32</th><td>-0.131824555</td><td>-0.05346012</td><td>-1.01510452</td><td> 0.6807629</td><td>-0.40587673</td><td> 1.83173818</td><td>-0.02446991</td><td>-1.3814269</td><td> 1.33269168</td><td>-0.9636374</td><td>⋯</td><td> 0.004506226</td><td> 0.2210608</td><td> 0.75245037</td><td>1.7789056</td><td>-2.0159666</td><td> 0.89190341</td><td>-2.35663335</td><td>-1.2339641</td><td>-0.8702929</td><td>-1.7578936</td></tr>\n",
       "\t<tr><th scope=row>33</th><td> 0.116941137</td><td>-0.16319405</td><td>-0.07250747</td><td> 0.6807629</td><td>-0.05237119</td><td>-1.30149818</td><td>-0.50163313</td><td> 0.9358053</td><td>-0.91487483</td><td> 0.1752068</td><td>⋯</td><td> 0.136313336</td><td>-1.1769993</td><td>-1.97736959</td><td>0.0588068</td><td> 0.9357388</td><td>-0.36535803</td><td> 0.08674724</td><td> 0.6582220</td><td>-0.3270014</td><td> 0.7442177</td></tr>\n",
       "</tbody>\n",
       "</table>\n"
      ],
      "text/latex": [
       "A data.frame: 6 × 26\n",
       "\\begin{tabular}{r|lllllllllllllllllllll}\n",
       "  & 1 & 2 & 3 & 4 & 5 & 6 & 7 & 8 & 9 & 10 & ⋯ & 17 & 18 & 19 & 20 & 21 & 22 & 23 & 24 & 25 & 26\\\\\n",
       "  & <dbl> & <dbl> & <dbl> & <dbl> & <dbl> & <dbl> & <dbl> & <dbl> & <dbl> & <dbl> & ⋯ & <dbl> & <dbl> & <dbl> & <dbl> & <dbl> & <dbl> & <dbl> & <dbl> & <dbl> & <dbl>\\\\\n",
       "\\hline\n",
       "\t28 & -0.007441709 & -0.16319405 &  0.87008959 & -0.4029005 & -1.50567174 &  0.57844364 &  0.92985654 & -1.3814269 &  1.05174586 &  0.5548215 & ⋯ &  0.004506226 & -1.4100094 &  0.06999538 & 0.0588068 &  1.4724125 & -0.78444517 & -1.79277629 & -0.9185998 & -0.8988872 & -0.7570491\\\\\n",
       "\t29 & -0.131824555 & -0.05346012 & -0.07250747 & -0.4029005 &  0.22257756 & -0.67485091 &  2.59992783 & -1.3814269 & -0.35298320 & -0.2044079 & ⋯ & -0.083365181 & -0.4779693 & -0.61245961 & 0.0588068 &  0.9357388 &  1.31099056 &  0.65060430 &  1.0051228 &  1.2456847 &  0.2437955\\\\\n",
       "\t30 & -0.380590246 & -0.16319405 & -0.07250747 &  0.1389312 & -1.19144460 & -1.30149818 & -0.74021475 & -0.2228108 &  0.77080005 &  0.5548215 & ⋯ &  1.058963107 & -0.9439893 &  0.06999538 & 0.0588068 & -2.2843034 &  0.05372912 & -1.98072864 & -1.4862556 & -0.7273215 &  1.7450622\\\\\n",
       "\t31 & -0.297668349 & -0.05346012 &  0.87008959 &  0.1389312 &  0.65463989 & -0.04820364 & -0.50163313 & -0.2228108 & -0.07203739 & -0.2044079 & ⋯ & -1.006014951 &  0.6870808 & -0.61245961 & 0.0588068 & -0.4059455 & -2.04170661 & -0.66506217 &  1.6358515 & -1.0990473 & -0.2566268\\\\\n",
       "\t32 & -0.131824555 & -0.05346012 & -1.01510452 &  0.6807629 & -0.40587673 &  1.83173818 & -0.02446991 & -1.3814269 &  1.33269168 & -0.9636374 & ⋯ &  0.004506226 &  0.2210608 &  0.75245037 & 1.7789056 & -2.0159666 &  0.89190341 & -2.35663335 & -1.2339641 & -0.8702929 & -1.7578936\\\\\n",
       "\t33 &  0.116941137 & -0.16319405 & -0.07250747 &  0.6807629 & -0.05237119 & -1.30149818 & -0.50163313 &  0.9358053 & -0.91487483 &  0.1752068 & ⋯ &  0.136313336 & -1.1769993 & -1.97736959 & 0.0588068 &  0.9357388 & -0.36535803 &  0.08674724 &  0.6582220 & -0.3270014 &  0.7442177\\\\\n",
       "\\end{tabular}\n"
      ],
      "text/markdown": [
       "\n",
       "A data.frame: 6 × 26\n",
       "\n",
       "| <!--/--> | 1 &lt;dbl&gt; | 2 &lt;dbl&gt; | 3 &lt;dbl&gt; | 4 &lt;dbl&gt; | 5 &lt;dbl&gt; | 6 &lt;dbl&gt; | 7 &lt;dbl&gt; | 8 &lt;dbl&gt; | 9 &lt;dbl&gt; | 10 &lt;dbl&gt; | ⋯ ⋯ | 17 &lt;dbl&gt; | 18 &lt;dbl&gt; | 19 &lt;dbl&gt; | 20 &lt;dbl&gt; | 21 &lt;dbl&gt; | 22 &lt;dbl&gt; | 23 &lt;dbl&gt; | 24 &lt;dbl&gt; | 25 &lt;dbl&gt; | 26 &lt;dbl&gt; |\n",
       "|---|---|---|---|---|---|---|---|---|---|---|---|---|---|---|---|---|---|---|---|---|---|\n",
       "| 28 | -0.007441709 | -0.16319405 |  0.87008959 | -0.4029005 | -1.50567174 |  0.57844364 |  0.92985654 | -1.3814269 |  1.05174586 |  0.5548215 | ⋯ |  0.004506226 | -1.4100094 |  0.06999538 | 0.0588068 |  1.4724125 | -0.78444517 | -1.79277629 | -0.9185998 | -0.8988872 | -0.7570491 |\n",
       "| 29 | -0.131824555 | -0.05346012 | -0.07250747 | -0.4029005 |  0.22257756 | -0.67485091 |  2.59992783 | -1.3814269 | -0.35298320 | -0.2044079 | ⋯ | -0.083365181 | -0.4779693 | -0.61245961 | 0.0588068 |  0.9357388 |  1.31099056 |  0.65060430 |  1.0051228 |  1.2456847 |  0.2437955 |\n",
       "| 30 | -0.380590246 | -0.16319405 | -0.07250747 |  0.1389312 | -1.19144460 | -1.30149818 | -0.74021475 | -0.2228108 |  0.77080005 |  0.5548215 | ⋯ |  1.058963107 | -0.9439893 |  0.06999538 | 0.0588068 | -2.2843034 |  0.05372912 | -1.98072864 | -1.4862556 | -0.7273215 |  1.7450622 |\n",
       "| 31 | -0.297668349 | -0.05346012 |  0.87008959 |  0.1389312 |  0.65463989 | -0.04820364 | -0.50163313 | -0.2228108 | -0.07203739 | -0.2044079 | ⋯ | -1.006014951 |  0.6870808 | -0.61245961 | 0.0588068 | -0.4059455 | -2.04170661 | -0.66506217 |  1.6358515 | -1.0990473 | -0.2566268 |\n",
       "| 32 | -0.131824555 | -0.05346012 | -1.01510452 |  0.6807629 | -0.40587673 |  1.83173818 | -0.02446991 | -1.3814269 |  1.33269168 | -0.9636374 | ⋯ |  0.004506226 |  0.2210608 |  0.75245037 | 1.7789056 | -2.0159666 |  0.89190341 | -2.35663335 | -1.2339641 | -0.8702929 | -1.7578936 |\n",
       "| 33 |  0.116941137 | -0.16319405 | -0.07250747 |  0.6807629 | -0.05237119 | -1.30149818 | -0.50163313 |  0.9358053 | -0.91487483 |  0.1752068 | ⋯ |  0.136313336 | -1.1769993 | -1.97736959 | 0.0588068 |  0.9357388 | -0.36535803 |  0.08674724 |  0.6582220 | -0.3270014 |  0.7442177 |\n",
       "\n"
      ],
      "text/plain": [
       "   1            2           3           4          5           6          \n",
       "28 -0.007441709 -0.16319405  0.87008959 -0.4029005 -1.50567174  0.57844364\n",
       "29 -0.131824555 -0.05346012 -0.07250747 -0.4029005  0.22257756 -0.67485091\n",
       "30 -0.380590246 -0.16319405 -0.07250747  0.1389312 -1.19144460 -1.30149818\n",
       "31 -0.297668349 -0.05346012  0.87008959  0.1389312  0.65463989 -0.04820364\n",
       "32 -0.131824555 -0.05346012 -1.01510452  0.6807629 -0.40587673  1.83173818\n",
       "33  0.116941137 -0.16319405 -0.07250747  0.6807629 -0.05237119 -1.30149818\n",
       "   7           8          9           10         ⋯ 17           18        \n",
       "28  0.92985654 -1.3814269  1.05174586  0.5548215 ⋯  0.004506226 -1.4100094\n",
       "29  2.59992783 -1.3814269 -0.35298320 -0.2044079 ⋯ -0.083365181 -0.4779693\n",
       "30 -0.74021475 -0.2228108  0.77080005  0.5548215 ⋯  1.058963107 -0.9439893\n",
       "31 -0.50163313 -0.2228108 -0.07203739 -0.2044079 ⋯ -1.006014951  0.6870808\n",
       "32 -0.02446991 -1.3814269  1.33269168 -0.9636374 ⋯  0.004506226  0.2210608\n",
       "33 -0.50163313  0.9358053 -0.91487483  0.1752068 ⋯  0.136313336 -1.1769993\n",
       "   19          20        21         22          23          24        \n",
       "28  0.06999538 0.0588068  1.4724125 -0.78444517 -1.79277629 -0.9185998\n",
       "29 -0.61245961 0.0588068  0.9357388  1.31099056  0.65060430  1.0051228\n",
       "30  0.06999538 0.0588068 -2.2843034  0.05372912 -1.98072864 -1.4862556\n",
       "31 -0.61245961 0.0588068 -0.4059455 -2.04170661 -0.66506217  1.6358515\n",
       "32  0.75245037 1.7789056 -2.0159666  0.89190341 -2.35663335 -1.2339641\n",
       "33 -1.97736959 0.0588068  0.9357388 -0.36535803  0.08674724  0.6582220\n",
       "   25         26        \n",
       "28 -0.8988872 -0.7570491\n",
       "29  1.2456847  0.2437955\n",
       "30 -0.7273215  1.7450622\n",
       "31 -1.0990473 -0.2566268\n",
       "32 -0.8702929 -1.7578936\n",
       "33 -0.3270014  0.7442177"
      ]
     },
     "metadata": {},
     "output_type": "display_data"
    },
    {
     "name": "stdout",
     "output_type": "stream",
     "text": [
      "time interval taken into Y_test: 28 29 30 31 32 33"
     ]
    }
   ],
   "source": [
    "(nrow(scaled_train)- prediction-prediction+1):(nrow(scaled_train)-prediction)\n",
    "x_test <-df.train[(nrow(scaled_train)- prediction-prediction+1):(nrow(scaled_train)-prediction),]\n",
    "for(i in 1:ncol(x_test)){\n",
    "    x_test[,i] <-(x_test[,i] -scale_factor[[\"center\"]][i])/scale_factor[[\"sd\"]][i]\n",
    "}\n",
    "x_test_scaled <- x_test\n",
    "x_test_scaled\n",
    "cat(\"time interval taken into Y_test:\",(nrow(scaled_train)- prediction-prediction+1):(nrow(scaled_train)-prediction))"
   ]
  },
  {
   "cell_type": "code",
   "execution_count": null,
   "metadata": {
    "vscode": {
     "languageId": "r"
    }
   },
   "outputs": [],
   "source": [
    "x_test_array <- array(\n",
    "    data = as.numeric(unlist(x_test_scaled)),\n",
    "    dim=c(1,6,26)\n",
    ")"
   ]
  },
  {
   "cell_type": "code",
   "execution_count": null,
   "metadata": {
    "vscode": {
     "languageId": "r"
    }
   },
   "outputs": [],
   "source": [
    "y_test_array <- array(\n",
    "    data = as.numeric(unlist(y_test_scaled)),\n",
    "    dim=c(1,6,26)\n",
    ")"
   ]
  },
  {
   "cell_type": "code",
   "execution_count": null,
   "metadata": {
    "vscode": {
     "languageId": "r"
    }
   },
   "outputs": [],
   "source": [
    "history <-LSTM_model %>% keras::fit(\n",
    "    x=x_train_arr_bis,\n",
    "    y=y_train_arr_bis,\n",
    "    batch_size=1,\n",
    "    epochs=20,# Number of times to iterate over the training data\n",
    "    verbose=2,\n",
    "    shuffle=FALSE,\n",
    "    validation_data =list(x_test_array,y_test_array)\n",
    "    \n",
    ")"
   ]
  },
  {
   "cell_type": "code",
   "execution_count": null,
   "metadata": {
    "vscode": {
     "languageId": "r"
    }
   },
   "outputs": [
    {
     "data": {
      "image/png": "[encoded data removed]",
      "text/plain": [
       "plot without title"
      ]
     },
     "metadata": {
      "image/png": {
       "height": 420,
       "width": 420
      }
     },
     "output_type": "display_data"
    }
   ],
   "source": [
    "plot(history)"
   ]
  }
 ],
 "metadata": {
  "kernelspec": {
   "display_name": "R",
   "language": "R",
   "name": "ir"
  },
  "language_info": {
   "codemirror_mode": "r",
   "file_extension": ".r",
   "mimetype": "text/x-r-source",
   "name": "R",
   "pygments_lexer": "r",
   "version": "4.0.4"
  },
  "orig_nbformat": 4,
  "vscode": {
   "interpreter": {
    "hash": "31f2aee4e71d21fbe5cf8b01ff0e069b9275f58929596ceb00d14d90e3e16cd6"
   }
  }
 },
 "nbformat": 4,
 "nbformat_minor": 2
}

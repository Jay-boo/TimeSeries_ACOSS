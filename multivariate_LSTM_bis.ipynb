{
 "cells": [
  {
   "cell_type": "markdown",
   "metadata": {},
   "source": [
    "# LSTM models for multivariate Time Series forecastings"
   ]
  },
  {
   "cell_type": "markdown",
   "metadata": {},
   "source": [
    "## Sommaire\n",
    "\n",
    "- [I. Préparation des données](#present_data)\n",
    "\n",
    "- [II. Construction de 2 models LSTM](#LSTM)\n",
    "    - [II.A LSTM avec des TS non stationarisées](#LSTMA)\n",
    "    - [II.B LSTM avec des TS stationarisées](#LSTMB)\n"
   ]
  },
  {
   "cell_type": "code",
   "execution_count": 1,
   "metadata": {
    "vscode": {
     "languageId": "r"
    }
   },
   "outputs": [],
   "source": [
    "rm(list=ls())\n",
    "suppressPackageStartupMessages(require(skimr))\n",
    "suppressPackageStartupMessages(require(readxl))\n",
    "suppressPackageStartupMessages(require(stringr))\n",
    "suppressPackageStartupMessages(require(dplyr))\n",
    "suppressPackageStartupMessages(require(ggplot2))\n",
    "suppressPackageStartupMessages(require(forecast))"
   ]
  },
  {
   "cell_type": "markdown",
   "metadata": {},
   "source": [
    "<div id=\"present_data\">\n",
    "\n",
    "# I . Data preparation"
   ]
  },
  {
   "cell_type": "code",
   "execution_count": 2,
   "metadata": {
    "vscode": {
     "languageId": "r"
    }
   },
   "outputs": [],
   "source": [
    "#------------------------------------------------------\n",
    "# data pre treatment (similar to univariate case)\n",
    "\n",
    "df <- read_excel(\"data/data.xlsx\",sheet = 3)\n",
    "tmp <-df%>% filter(aire==\"44_GRAND EST\" & champ==\"ESS\")\n",
    "\n",
    "df <-tmp[-which(!is.na(tmp$secret_stat)),]%>%select(-secret_stat)\n",
    "df <- df %>% select(-champ,-type_aire,-type_naf,-aire)\n",
    "df <- df[,c(TRUE,str_detect(colnames(df),\"nb_etab\")[-1])]\n",
    "tmp <- t(df)\n",
    "colnames(tmp) <- tmp[1,]\n",
    "tmp <-tmp[-1,]\n",
    "df <- tmp\n",
    "tmp <-df%>%as.data.frame\n",
    "tmp <-cbind(\"date\"=rep(NA,nrow(tmp)),tmp)\n",
    "for (i in 1:nrow(tmp)){\n",
    "    tmp.format.date <- strsplit(rownames(df)[i],\"nb_etab\")[[1]][2]\n",
    "    subsplit <-strsplit(tmp.format.date,\"T\")[[1]]\n",
    "    year<-subsplit[1]\n",
    "    trimester <- subsplit[2]\n",
    "    month <-switch(trimester,\n",
    "        \"1\"=\"01\",\n",
    "        \"2\"=\"04\",\n",
    "        \"3\"=\"07\",\n",
    "        \"4\"=\"10\"\n",
    "    )\n",
    "    tmp[i,1] <- paste(year,month,\"01\",sep=\"-\")\n",
    "}\n",
    "tmp$date <-as.Date(tmp$date)\n",
    "rownames(tmp) <- NULL\n",
    "\n",
    "df.indexes <-which(tmp$date < as.Date(\"2020-01-01\"))\n",
    "train.indexes<- which(tmp$date < as.Date(\"2018-01-01\") )\n",
    "test.indexes <-which(tmp$date>= as.Date(\"2018-01-01\") & tmp$date <as.Date(\"2020-01-01\") )\n",
    "tmp <-tmp %>%select(-date)%>% mutate_all(as.numeric)\n",
    "#----------------------------\n",
    "# Eliminate total serie\n",
    "tmp <- tmp[,-ncol(tmp)]\n",
    "df.ts <- ts(tmp[df.indexes,],start=c(2010,1),frequency=4)# S'arrete à 2019 Q4\n",
    "train.ts <-ts(tmp[train.indexes,],start=c(2010,1),frequency = 4)# S'arrete à 2017 Q4\n",
    "test.ts <-ts(tmp[test.indexes,],start = c(2018,1),frequency = 4)# Commence a 2018 Q1 --> 2019 Q4\n",
    "global.ts <- ts(tmp,start=c(2010,1),frequency=4)# Commence a 2010 Q1 --> 2021 Q2\n",
    "covid.ts <- ts(tmp[(df.indexes[length(df.indexes)]+1):nrow(tmp),],start=c(2020,1),frequency = 4)# Commence a 2020 Q1 --> 2021 Q2"
   ]
  },
  {
   "cell_type": "code",
   "execution_count": 3,
   "metadata": {
    "vscode": {
     "languageId": "r"
    }
   },
   "outputs": [
    {
     "name": "stderr",
     "output_type": "stream",
     "text": [
      "Loading required package: tensorflow\n",
      "\n",
      "Loading required package: keras\n",
      "\n"
     ]
    }
   ],
   "source": [
    "require(tensorflow)\n",
    "require(keras)"
   ]
  },
  {
   "cell_type": "code",
   "execution_count": 4,
   "metadata": {
    "vscode": {
     "languageId": "r"
    }
   },
   "outputs": [],
   "source": [
    "lab.to.num <-cbind(\"lab\"=colnames(df.ts),\"num\"=1:length(colnames(df.ts))) %>%as.data.frame\n",
    "lab.to.num$num <- as.numeric(lab.to.num$num)\n",
    "colnames(df.ts) <-lab.to.num$num"
   ]
  },
  {
   "cell_type": "code",
   "execution_count": 5,
   "metadata": {
    "vscode": {
     "languageId": "r"
    }
   },
   "outputs": [],
   "source": [
    "df.train <-df.ts %>% as.data.frame"
   ]
  },
  {
   "cell_type": "code",
   "execution_count": 6,
   "metadata": {
    "vscode": {
     "languageId": "r"
    }
   },
   "outputs": [],
   "source": [
    "#-----------------------------\n",
    "# Scaled the train sample and get the sample factor parmas: mean + sd\n",
    "scaled_train <- scale(df.train)\n",
    "scale_factor <-list(\"center\"=attr(scaled_train,\"scaled:center\"),\"sd\"=attr(scaled_train,\"scaled:scale\"))"
   ]
  },
  {
   "cell_type": "code",
   "execution_count": 7,
   "metadata": {
    "vscode": {
     "languageId": "r"
    }
   },
   "outputs": [],
   "source": [
    "#----------------\n",
    "# We d like to do a 6 Quarter forecast,\n",
    "# We need to base each prediction on 6 points\n",
    "prediction <- 6\n",
    "lag <- prediction"
   ]
  },
  {
   "cell_type": "code",
   "execution_count": 8,
   "metadata": {
    "vscode": {
     "languageId": "r"
    }
   },
   "outputs": [],
   "source": [
    "\n",
    "x_train_data <-t(sapply(\n",
    "    1:(dim(scaled_train)[1]-lag-prediction +1),\n",
    "    function(x){scaled_train[x:(x+lag-1),1]}\n",
    "))\n",
    "\n",
    "for(i in 2:ncol(scaled_train)){\n",
    "    new <-t(sapply(\n",
    "        1:(dim(scaled_train)[1]-lag-prediction +1),\n",
    "        function(x){scaled_train[x:(x+lag-1),i]}\n",
    "    ))\n",
    "    x_train_data <-cbind(x_train_data,new)\n",
    "    \n",
    "}"
   ]
  },
  {
   "cell_type": "code",
   "execution_count": 9,
   "metadata": {
    "vscode": {
     "languageId": "r"
    }
   },
   "outputs": [
    {
     "name": "stdout",
     "output_type": "stream",
     "text": [
      "Shape de  X_train : 29 156"
     ]
    }
   ],
   "source": [
    "cat(\"Shape de  X_train :\",x_train_data%>% dim)"
   ]
  },
  {
   "cell_type": "code",
   "execution_count": 10,
   "metadata": {
    "vscode": {
     "languageId": "r"
    }
   },
   "outputs": [],
   "source": [
    "x_train_arr <- array(\n",
    "    data=as.numeric(unlist(x_train_data)),\n",
    "    dim=c(\n",
    "        nrow(x_train_data),\n",
    "        ncol(x_train_data),\n",
    "        1\n",
    "        )\n",
    "\n",
    ")\n"
   ]
  },
  {
   "cell_type": "code",
   "execution_count": 11,
   "metadata": {
    "vscode": {
     "languageId": "r"
    }
   },
   "outputs": [],
   "source": [
    "y_train_data <-  t(sapply(\n",
    "    (1+lag):(dim(scaled_train)[1]-prediction +1),\n",
    "    function(x){scaled_train[x:(x+prediction-1),1]}\n",
    "))\n",
    "y_train_arr <-array(\n",
    "    data=as.numeric(unlist(y_train_data)),\n",
    "    dim=c(\n",
    "        nrow(y_train_data),\n",
    "        prediction,\n",
    "        1\n",
    "    )\n",
    ")"
   ]
  },
  {
   "cell_type": "code",
   "execution_count": 12,
   "metadata": {
    "vscode": {
     "languageId": "r"
    }
   },
   "outputs": [],
   "source": [
    "x_test <-df.train[(nrow(scaled_train)- prediction+1):nrow(scaled_train),]\n",
    "for(i in 1:ncol(x_test)){\n",
    "    x_test[,i] <-(x_test[,i] -scale_factor[[\"center\"]][i])/scale_factor[[\"sd\"]][i]\n",
    "}\n",
    "x_test_scaled <- x_test[,1]"
   ]
  },
  {
   "cell_type": "code",
   "execution_count": 13,
   "metadata": {
    "vscode": {
     "languageId": "r"
    }
   },
   "outputs": [
    {
     "data": {
      "text/html": [
       "<table class=\"dataframe\">\n",
       "<caption>A data.frame: 6 × 26</caption>\n",
       "<thead>\n",
       "\t<tr><th></th><th scope=col>1</th><th scope=col>2</th><th scope=col>3</th><th scope=col>4</th><th scope=col>5</th><th scope=col>6</th><th scope=col>7</th><th scope=col>8</th><th scope=col>9</th><th scope=col>10</th><th scope=col>⋯</th><th scope=col>17</th><th scope=col>18</th><th scope=col>19</th><th scope=col>20</th><th scope=col>21</th><th scope=col>22</th><th scope=col>23</th><th scope=col>24</th><th scope=col>25</th><th scope=col>26</th></tr>\n",
       "\t<tr><th></th><th scope=col>&lt;dbl&gt;</th><th scope=col>&lt;dbl&gt;</th><th scope=col>&lt;dbl&gt;</th><th scope=col>&lt;dbl&gt;</th><th scope=col>&lt;dbl&gt;</th><th scope=col>&lt;dbl&gt;</th><th scope=col>&lt;dbl&gt;</th><th scope=col>&lt;dbl&gt;</th><th scope=col>&lt;dbl&gt;</th><th scope=col>&lt;dbl&gt;</th><th scope=col>⋯</th><th scope=col>&lt;dbl&gt;</th><th scope=col>&lt;dbl&gt;</th><th scope=col>&lt;dbl&gt;</th><th scope=col>&lt;dbl&gt;</th><th scope=col>&lt;dbl&gt;</th><th scope=col>&lt;dbl&gt;</th><th scope=col>&lt;dbl&gt;</th><th scope=col>&lt;dbl&gt;</th><th scope=col>&lt;dbl&gt;</th><th scope=col>&lt;dbl&gt;</th></tr>\n",
       "</thead>\n",
       "<tbody>\n",
       "\t<tr><th scope=row>35</th><td>-1.431074</td><td>-0.2819201</td><td>0.02739667</td><td>-0.2392895</td><td>-2.037024</td><td>-0.8231048</td><td>1.094363</td><td>1.049924</td><td>1.325868</td><td>-1.07950734</td><td>⋯</td><td> 0.09966473</td><td>-1.83878403</td><td>-2.319888</td><td>-0.8215552</td><td>-1.8710760</td><td>-0.9745028</td><td>-1.656126</td><td>-1.56195820</td><td>-1.770070</td><td>1.443310</td></tr>\n",
       "\t<tr><th scope=row>36</th><td>-1.472877</td><td>-0.2167363</td><td>0.02739667</td><td>-0.7566721</td><td>-1.767962</td><td>-0.8231048</td><td>1.094363</td><td>1.239955</td><td>1.403122</td><td>-0.93509164</td><td>⋯</td><td>-0.90843824</td><td> 0.15582916</td><td>-1.831491</td><td>-0.8215552</td><td>-1.5163697</td><td>-1.1985265</td><td>-1.701375</td><td>-0.23505196</td><td>-1.681677</td><td>1.847033</td></tr>\n",
       "\t<tr><th scope=row>37</th><td>-1.584354</td><td> 0.1743668</td><td>0.02739667</td><td>-0.7566721</td><td>-1.902493</td><td>-0.3841156</td><td>1.593692</td><td>1.810049</td><td>1.596256</td><td>-0.93509164</td><td>⋯</td><td>-0.81679252</td><td> 0.40515580</td><td>-1.343093</td><td>-0.8215552</td><td>-1.3390165</td><td>-1.4225501</td><td>-1.837123</td><td>-1.14493053</td><td>-2.167838</td><td>1.443310</td></tr>\n",
       "\t<tr><th scope=row>38</th><td>-1.667961</td><td>-0.6730231</td><td>0.02739667</td><td>-0.7566721</td><td>-1.835227</td><td> 0.4938629</td><td>1.760135</td><td>1.620018</td><td>1.634883</td><td>-1.07950734</td><td>⋯</td><td>-0.63350107</td><td> 1.40246240</td><td>-1.343093</td><td>-0.1223593</td><td>-0.9843101</td><td>-0.9745028</td><td>-1.882372</td><td> 0.52318017</td><td>-1.946856</td><td>1.645172</td></tr>\n",
       "\t<tr><th scope=row>39</th><td>-1.849109</td><td>-0.6730231</td><td>1.12326335</td><td>-0.4979808</td><td>-1.835227</td><td>-0.3841156</td><td>1.593692</td><td>1.429987</td><td>1.789390</td><td>-0.35742885</td><td>⋯</td><td> 0.23713331</td><td> 0.15582916</td><td>-1.343093</td><td>-0.4719573</td><td>-1.6937228</td><td>-1.1985265</td><td>-1.565627</td><td>-1.71360463</td><td>-2.189936</td><td>1.847033</td></tr>\n",
       "\t<tr><th scope=row>40</th><td>-1.904847</td><td>-0.8685747</td><td>2.21913003</td><td>-0.4979808</td><td>-1.498900</td><td>-0.3841156</td><td>1.510471</td><td>1.239955</td><td>1.789390</td><td> 0.07581824</td><td>⋯</td><td>-0.81679252</td><td>-0.09349749</td><td>-1.343093</td><td>-0.8215552</td><td>-1.1616633</td><td>-0.7504792</td><td>-1.746624</td><td>-0.08340554</td><td>-2.234133</td><td>2.654480</td></tr>\n",
       "</tbody>\n",
       "</table>\n"
      ],
      "text/latex": [
       "A data.frame: 6 × 26\n",
       "\\begin{tabular}{r|lllllllllllllllllllll}\n",
       "  & 1 & 2 & 3 & 4 & 5 & 6 & 7 & 8 & 9 & 10 & ⋯ & 17 & 18 & 19 & 20 & 21 & 22 & 23 & 24 & 25 & 26\\\\\n",
       "  & <dbl> & <dbl> & <dbl> & <dbl> & <dbl> & <dbl> & <dbl> & <dbl> & <dbl> & <dbl> & ⋯ & <dbl> & <dbl> & <dbl> & <dbl> & <dbl> & <dbl> & <dbl> & <dbl> & <dbl> & <dbl>\\\\\n",
       "\\hline\n",
       "\t35 & -1.431074 & -0.2819201 & 0.02739667 & -0.2392895 & -2.037024 & -0.8231048 & 1.094363 & 1.049924 & 1.325868 & -1.07950734 & ⋯ &  0.09966473 & -1.83878403 & -2.319888 & -0.8215552 & -1.8710760 & -0.9745028 & -1.656126 & -1.56195820 & -1.770070 & 1.443310\\\\\n",
       "\t36 & -1.472877 & -0.2167363 & 0.02739667 & -0.7566721 & -1.767962 & -0.8231048 & 1.094363 & 1.239955 & 1.403122 & -0.93509164 & ⋯ & -0.90843824 &  0.15582916 & -1.831491 & -0.8215552 & -1.5163697 & -1.1985265 & -1.701375 & -0.23505196 & -1.681677 & 1.847033\\\\\n",
       "\t37 & -1.584354 &  0.1743668 & 0.02739667 & -0.7566721 & -1.902493 & -0.3841156 & 1.593692 & 1.810049 & 1.596256 & -0.93509164 & ⋯ & -0.81679252 &  0.40515580 & -1.343093 & -0.8215552 & -1.3390165 & -1.4225501 & -1.837123 & -1.14493053 & -2.167838 & 1.443310\\\\\n",
       "\t38 & -1.667961 & -0.6730231 & 0.02739667 & -0.7566721 & -1.835227 &  0.4938629 & 1.760135 & 1.620018 & 1.634883 & -1.07950734 & ⋯ & -0.63350107 &  1.40246240 & -1.343093 & -0.1223593 & -0.9843101 & -0.9745028 & -1.882372 &  0.52318017 & -1.946856 & 1.645172\\\\\n",
       "\t39 & -1.849109 & -0.6730231 & 1.12326335 & -0.4979808 & -1.835227 & -0.3841156 & 1.593692 & 1.429987 & 1.789390 & -0.35742885 & ⋯ &  0.23713331 &  0.15582916 & -1.343093 & -0.4719573 & -1.6937228 & -1.1985265 & -1.565627 & -1.71360463 & -2.189936 & 1.847033\\\\\n",
       "\t40 & -1.904847 & -0.8685747 & 2.21913003 & -0.4979808 & -1.498900 & -0.3841156 & 1.510471 & 1.239955 & 1.789390 &  0.07581824 & ⋯ & -0.81679252 & -0.09349749 & -1.343093 & -0.8215552 & -1.1616633 & -0.7504792 & -1.746624 & -0.08340554 & -2.234133 & 2.654480\\\\\n",
       "\\end{tabular}\n"
      ],
      "text/markdown": [
       "\n",
       "A data.frame: 6 × 26\n",
       "\n",
       "| <!--/--> | 1 &lt;dbl&gt; | 2 &lt;dbl&gt; | 3 &lt;dbl&gt; | 4 &lt;dbl&gt; | 5 &lt;dbl&gt; | 6 &lt;dbl&gt; | 7 &lt;dbl&gt; | 8 &lt;dbl&gt; | 9 &lt;dbl&gt; | 10 &lt;dbl&gt; | ⋯ ⋯ | 17 &lt;dbl&gt; | 18 &lt;dbl&gt; | 19 &lt;dbl&gt; | 20 &lt;dbl&gt; | 21 &lt;dbl&gt; | 22 &lt;dbl&gt; | 23 &lt;dbl&gt; | 24 &lt;dbl&gt; | 25 &lt;dbl&gt; | 26 &lt;dbl&gt; |\n",
       "|---|---|---|---|---|---|---|---|---|---|---|---|---|---|---|---|---|---|---|---|---|---|\n",
       "| 35 | -1.431074 | -0.2819201 | 0.02739667 | -0.2392895 | -2.037024 | -0.8231048 | 1.094363 | 1.049924 | 1.325868 | -1.07950734 | ⋯ |  0.09966473 | -1.83878403 | -2.319888 | -0.8215552 | -1.8710760 | -0.9745028 | -1.656126 | -1.56195820 | -1.770070 | 1.443310 |\n",
       "| 36 | -1.472877 | -0.2167363 | 0.02739667 | -0.7566721 | -1.767962 | -0.8231048 | 1.094363 | 1.239955 | 1.403122 | -0.93509164 | ⋯ | -0.90843824 |  0.15582916 | -1.831491 | -0.8215552 | -1.5163697 | -1.1985265 | -1.701375 | -0.23505196 | -1.681677 | 1.847033 |\n",
       "| 37 | -1.584354 |  0.1743668 | 0.02739667 | -0.7566721 | -1.902493 | -0.3841156 | 1.593692 | 1.810049 | 1.596256 | -0.93509164 | ⋯ | -0.81679252 |  0.40515580 | -1.343093 | -0.8215552 | -1.3390165 | -1.4225501 | -1.837123 | -1.14493053 | -2.167838 | 1.443310 |\n",
       "| 38 | -1.667961 | -0.6730231 | 0.02739667 | -0.7566721 | -1.835227 |  0.4938629 | 1.760135 | 1.620018 | 1.634883 | -1.07950734 | ⋯ | -0.63350107 |  1.40246240 | -1.343093 | -0.1223593 | -0.9843101 | -0.9745028 | -1.882372 |  0.52318017 | -1.946856 | 1.645172 |\n",
       "| 39 | -1.849109 | -0.6730231 | 1.12326335 | -0.4979808 | -1.835227 | -0.3841156 | 1.593692 | 1.429987 | 1.789390 | -0.35742885 | ⋯ |  0.23713331 |  0.15582916 | -1.343093 | -0.4719573 | -1.6937228 | -1.1985265 | -1.565627 | -1.71360463 | -2.189936 | 1.847033 |\n",
       "| 40 | -1.904847 | -0.8685747 | 2.21913003 | -0.4979808 | -1.498900 | -0.3841156 | 1.510471 | 1.239955 | 1.789390 |  0.07581824 | ⋯ | -0.81679252 | -0.09349749 | -1.343093 | -0.8215552 | -1.1616633 | -0.7504792 | -1.746624 | -0.08340554 | -2.234133 | 2.654480 |\n",
       "\n"
      ],
      "text/plain": [
       "   1         2          3          4          5         6          7       \n",
       "35 -1.431074 -0.2819201 0.02739667 -0.2392895 -2.037024 -0.8231048 1.094363\n",
       "36 -1.472877 -0.2167363 0.02739667 -0.7566721 -1.767962 -0.8231048 1.094363\n",
       "37 -1.584354  0.1743668 0.02739667 -0.7566721 -1.902493 -0.3841156 1.593692\n",
       "38 -1.667961 -0.6730231 0.02739667 -0.7566721 -1.835227  0.4938629 1.760135\n",
       "39 -1.849109 -0.6730231 1.12326335 -0.4979808 -1.835227 -0.3841156 1.593692\n",
       "40 -1.904847 -0.8685747 2.21913003 -0.4979808 -1.498900 -0.3841156 1.510471\n",
       "   8        9        10          ⋯ 17          18          19        20        \n",
       "35 1.049924 1.325868 -1.07950734 ⋯  0.09966473 -1.83878403 -2.319888 -0.8215552\n",
       "36 1.239955 1.403122 -0.93509164 ⋯ -0.90843824  0.15582916 -1.831491 -0.8215552\n",
       "37 1.810049 1.596256 -0.93509164 ⋯ -0.81679252  0.40515580 -1.343093 -0.8215552\n",
       "38 1.620018 1.634883 -1.07950734 ⋯ -0.63350107  1.40246240 -1.343093 -0.1223593\n",
       "39 1.429987 1.789390 -0.35742885 ⋯  0.23713331  0.15582916 -1.343093 -0.4719573\n",
       "40 1.239955 1.789390  0.07581824 ⋯ -0.81679252 -0.09349749 -1.343093 -0.8215552\n",
       "   21         22         23        24          25        26      \n",
       "35 -1.8710760 -0.9745028 -1.656126 -1.56195820 -1.770070 1.443310\n",
       "36 -1.5163697 -1.1985265 -1.701375 -0.23505196 -1.681677 1.847033\n",
       "37 -1.3390165 -1.4225501 -1.837123 -1.14493053 -2.167838 1.443310\n",
       "38 -0.9843101 -0.9745028 -1.882372  0.52318017 -1.946856 1.645172\n",
       "39 -1.6937228 -1.1985265 -1.565627 -1.71360463 -2.189936 1.847033\n",
       "40 -1.1616633 -0.7504792 -1.746624 -0.08340554 -2.234133 2.654480"
      ]
     },
     "metadata": {},
     "output_type": "display_data"
    }
   ],
   "source": [
    "x_test"
   ]
  },
  {
   "cell_type": "code",
   "execution_count": 14,
   "metadata": {
    "vscode": {
     "languageId": "r"
    }
   },
   "outputs": [],
   "source": [
    "x_pred_arr <- array(\n",
    "    data=x_test,\n",
    "    dim=c(1,lag,1)\n",
    ")"
   ]
  },
  {
   "cell_type": "code",
   "execution_count": 15,
   "metadata": {
    "vscode": {
     "languageId": "r"
    }
   },
   "outputs": [
    {
     "name": "stdout",
     "output_type": "stream",
     "text": [
      "\n",
      "X test scaled : -1.431074 -1.472877 -1.584354 -1.667961 -1.849109 -1.904847"
     ]
    }
   ],
   "source": [
    "cat(\"\\nX test scaled :\",x_test_scaled)"
   ]
  },
  {
   "cell_type": "markdown",
   "metadata": {},
   "source": [
    "<hr>\n",
    "\n",
    "<div id=\"LSTM\">\n",
    "\n",
    "# II. Construct LSTM models"
   ]
  },
  {
   "cell_type": "markdown",
   "metadata": {},
   "source": [
    "<hr>\n",
    "\n",
    "## II.A . Construct LSTM model for evaluation : LSTM stable and LSTM non stable"
   ]
  },
  {
   "cell_type": "markdown",
   "metadata": {},
   "source": [
    "<div id=\"LSTMA\">\n",
    "\n",
    "## II.A.1 : Evaluation for LSTM model with non stable TS"
   ]
  },
  {
   "cell_type": "code",
   "execution_count": 16,
   "metadata": {
    "vscode": {
     "languageId": "r"
    }
   },
   "outputs": [],
   "source": [
    "df.train <-df.ts %>% as.data.frame\n",
    "#-----------------------------\n",
    "# Scaled the train sample and get the sample factor parmas: mean + sd\n",
    "scaled_train <- scale(df.train)\n",
    "scale_factor <-list(\"center\"=attr(scaled_train,\"scaled:center\"),\"sd\"=attr(scaled_train,\"scaled:scale\"))\n",
    "#----------------\n",
    "# We d like to do a 6 Quarter forecast,\n",
    "# We need to base each prediction on 6 points\n",
    "prediction <- 6\n",
    "lag <- prediction"
   ]
  },
  {
   "cell_type": "code",
   "execution_count": 17,
   "metadata": {
    "vscode": {
     "languageId": "r"
    }
   },
   "outputs": [
    {
     "name": "stdout",
     "output_type": "stream",
     "text": [
      "X_train interval : 1 2 3 4 5 6 7 8 9 10 11 12 13 14 15 16 17 18 19 20 21 22 23 24 25 26 27 28 29 \n",
      "Y_train interval : 7 8 9 10 11 12 13 14 15 16 17 18 19 20 21 22 23 24 25 26 27 28 29 30 31 32 33 34 35\n",
      "x_train dim : 29 6 26 \n",
      "Y_train dim : 29 6 26"
     ]
    }
   ],
   "source": [
    "\n",
    "x_train_data <-t(sapply(\n",
    "    1:(dim(scaled_train)[1]-lag-prediction +1),\n",
    "    function(x){scaled_train[x:(x+lag-1),1]}\n",
    "))\n",
    "\n",
    "for(i in 2:ncol(scaled_train)){\n",
    "    new <-t(sapply(\n",
    "        1:(dim(scaled_train)[1]-lag-prediction +1),\n",
    "        function(x){scaled_train[x:(x+lag-1),i]}\n",
    "    ))\n",
    "    x_train_data <-cbind(x_train_data,new)\n",
    "    \n",
    "}\n",
    "x_train_arr <- array(\n",
    "    data=as.numeric(unlist(x_train_data)),\n",
    "    dim=c(\n",
    "        nrow(x_train_data),\n",
    "        ncol(x_train_data),\n",
    "        1\n",
    "        )\n",
    "\n",
    ")\n",
    "y_train_data <-  t(sapply(\n",
    "    (1+lag):(dim(scaled_train)[1]-prediction +1),\n",
    "    function(x){scaled_train[x:(x+prediction-1),1]}\n",
    "))\n",
    "y_train_arr <-array(\n",
    "    data=as.numeric(unlist(y_train_data)),\n",
    "    dim=c(\n",
    "        nrow(y_train_data),\n",
    "        prediction,\n",
    "        1\n",
    "    )\n",
    ")\n",
    "x_bis <-sapply(\n",
    "        1:ncol(scaled_train),\n",
    "        function(x){scaled_train[1:(29-1+1),x]}\n",
    ")\n",
    "\n",
    "x_bis_first_array <-array(\n",
    "    data=unlist(x_bis),\n",
    "    dim=c(nrow(x_bis),1,ncol(x_bis))\n",
    ")\n",
    "tot_array <-array(NA, dim=c(\n",
    "    nrow(x_bis),\n",
    "    6,\n",
    "    ncol(x_bis)\n",
    "))\n",
    "tot_array[,1,] <- x_bis_first_array\n",
    "\n",
    "\n",
    "for (i in 2:6){\n",
    "    new <-sapply(\n",
    "        1:ncol(scaled_train),\n",
    "        function(x){scaled_train[i:(i+29-1),x]}\n",
    "    )\n",
    "    new <- array(\n",
    "        data=unlist(new),\n",
    "        dim=c(nrow(x_bis),1,ncol(x_bis))\n",
    "    )\n",
    "    tot_array[,i,] <- new\n",
    "}\n",
    "x_train_arr_bis <- tot_array\n",
    "y_train_data_bis <-  t(sapply(\n",
    "    (1+lag):(dim(scaled_train)[1]-prediction +1),\n",
    "    function(x){scaled_train[x:(x+prediction-1),1]}\n",
    "))\n",
    "\n",
    "tot_array <-array(NA, dim=c(\n",
    "    nrow(y_train_data_bis),\n",
    "    6,\n",
    "    ncol(scaled_train)\n",
    "))\n",
    "\n",
    "tot_array[,,1] <- y_train_data_bis\n",
    "\n",
    "for (i in 2:ncol(scaled_train)){\n",
    "    new <-  t(sapply(\n",
    "        (1+lag):(dim(scaled_train)[1]-prediction +1),\n",
    "        function(x){scaled_train[x:(x+prediction-1),i]}\n",
    "    ))\n",
    "\n",
    "    new_array <- array(\n",
    "        data=as.numeric(unlist(new)),\n",
    "        dim=c(nrow(new),\n",
    "        ncol(new),\n",
    "        1)\n",
    "    )\n",
    "    tot_array[,,i] <- new_array\n",
    "\n",
    "}\n",
    "\n",
    "y_train_arr_bis <- tot_array\n",
    "cat(\"X_train interval :\",1:(dim(scaled_train)[1]-lag-prediction +1),\n",
    "\"\\nY_train interval :\",\n",
    "(1+lag):(dim(scaled_train)[1]-prediction +1))\n",
    "cat(\"\\nx_train dim :\",x_train_arr_bis%>%dim,\"\\nY_train dim :\",y_train_arr_bis%>%dim)\n"
   ]
  },
  {
   "cell_type": "code",
   "execution_count": 18,
   "metadata": {
    "vscode": {
     "languageId": "r"
    }
   },
   "outputs": [
    {
     "name": "stderr",
     "output_type": "stream",
     "text": [
      "Loaded Tensorflow version 2.9.1\n",
      "\n"
     ]
    }
   ],
   "source": [
    "LSTM_model_nonstable_eval <- keras_model_sequential()\n",
    "\n",
    "LSTM_model_nonstable_eval%>% layer_lstm(\n",
    "    units=50,\n",
    "    batch_input_shape=c(1,6,26),#BATCH size , timestep ,features\n",
    "    return_sequences=T,\n",
    "    stateful=T\n",
    "\n",
    ")%>%\n",
    "layer_dropout(rate=0.5)%>%layer_lstm(\n",
    "    units =50,\n",
    "    return_sequences=T,stateful=T\n",
    ")%>% layer_dropout(rate=0.5)%>% time_distributed(keras::layer_dense(units=26))"
   ]
  },
  {
   "cell_type": "code",
   "execution_count": 19,
   "metadata": {
    "vscode": {
     "languageId": "r"
    }
   },
   "outputs": [
    {
     "name": "stdout",
     "output_type": "stream",
     "text": [
      "Model: \"sequential\"\n",
      "________________________________________________________________________________\n",
      " Layer (type)                       Output Shape                    Param #     \n",
      "================================================================================\n",
      " lstm_1 (LSTM)                      (1, 6, 50)                      15400       \n",
      " dropout_1 (Dropout)                (1, 6, 50)                      0           \n",
      " lstm (LSTM)                        (1, 6, 50)                      20200       \n",
      " dropout (Dropout)                  (1, 6, 50)                      0           \n",
      " time_distributed (TimeDistributed)  (1, 6, 26)                     1326        \n",
      "================================================================================\n",
      "Total params: 36,926\n",
      "Trainable params: 36,926\n",
      "Non-trainable params: 0\n",
      "________________________________________________________________________________\n"
     ]
    }
   ],
   "source": [
    "LSTM_model_nonstable_eval %>% compile(loss='mae',optimizer='adam',metrics='accuracy')\n",
    "summary(LSTM_model_nonstable_eval)"
   ]
  },
  {
   "cell_type": "code",
   "execution_count": 20,
   "metadata": {
    "vscode": {
     "languageId": "r"
    }
   },
   "outputs": [
    {
     "data": {
      "text/html": [
       "<table class=\"dataframe\">\n",
       "<caption>A data.frame: 6 × 26</caption>\n",
       "<thead>\n",
       "\t<tr><th></th><th scope=col>1</th><th scope=col>2</th><th scope=col>3</th><th scope=col>4</th><th scope=col>5</th><th scope=col>6</th><th scope=col>7</th><th scope=col>8</th><th scope=col>9</th><th scope=col>10</th><th scope=col>⋯</th><th scope=col>17</th><th scope=col>18</th><th scope=col>19</th><th scope=col>20</th><th scope=col>21</th><th scope=col>22</th><th scope=col>23</th><th scope=col>24</th><th scope=col>25</th><th scope=col>26</th></tr>\n",
       "\t<tr><th></th><th scope=col>&lt;dbl&gt;</th><th scope=col>&lt;dbl&gt;</th><th scope=col>&lt;dbl&gt;</th><th scope=col>&lt;dbl&gt;</th><th scope=col>&lt;dbl&gt;</th><th scope=col>&lt;dbl&gt;</th><th scope=col>&lt;dbl&gt;</th><th scope=col>&lt;dbl&gt;</th><th scope=col>&lt;dbl&gt;</th><th scope=col>&lt;dbl&gt;</th><th scope=col>⋯</th><th scope=col>&lt;dbl&gt;</th><th scope=col>&lt;dbl&gt;</th><th scope=col>&lt;dbl&gt;</th><th scope=col>&lt;dbl&gt;</th><th scope=col>&lt;dbl&gt;</th><th scope=col>&lt;dbl&gt;</th><th scope=col>&lt;dbl&gt;</th><th scope=col>&lt;dbl&gt;</th><th scope=col>&lt;dbl&gt;</th><th scope=col>&lt;dbl&gt;</th></tr>\n",
       "</thead>\n",
       "<tbody>\n",
       "\t<tr><th scope=row>29</th><td>-0.5532000</td><td>-0.3471039</td><td>0.02739667</td><td>-0.7566721</td><td>-0.4450734</td><td> 0.49386289</td><td>0.4285909</td><td>0.8598923</td><td>0.5147032</td><td>-0.2130132</td><td>⋯</td><td>-0.81679252</td><td> 0.9038091</td><td> 0.1220994</td><td>-1.5207512</td><td> 1.32128117</td><td>-1.1985265</td><td>-0.3438949</td><td>-0.95537249</td><td>-0.2784379</td><td>0.03027924</td></tr>\n",
       "\t<tr><th scope=row>30</th><td>-0.6786105</td><td>-0.3471039</td><td>0.02739667</td><td>-1.0153634</td><td>-0.3778079</td><td> 0.05487365</td><td>1.4272492</td><td>0.4798294</td><td>0.5533301</td><td>-0.3574289</td><td>⋯</td><td>-0.95426111</td><td> 0.4051558</td><td>-0.3662981</td><td>-1.5207512</td><td> 1.85334070</td><td>-0.5264556</td><td>-0.2533963</td><td> 0.29571053</td><td> 0.1414288</td><td>0.23214080</td></tr>\n",
       "\t<tr><th scope=row>31</th><td>-0.8876281</td><td>-0.4122878</td><td>0.02739667</td><td>-1.0153634</td><td>-1.1177284</td><td>-0.82310482</td><td>1.2608061</td><td>0.4798294</td><td>0.7464646</td><td>-0.2130132</td><td>⋯</td><td> 0.09966473</td><td>-0.5921508</td><td>-0.3662981</td><td>-1.5207512</td><td> 0.25716211</td><td>-0.5264556</td><td>-0.7963882</td><td>-1.44822338</td><td>-0.2010941</td><td>1.03958708</td></tr>\n",
       "\t<tr><th scope=row>32</th><td>-1.0687767</td><td>-0.4122878</td><td>0.57533001</td><td>-1.0153634</td><td>-0.8038227</td><td>-0.82310482</td><td>1.1775846</td><td>0.4798294</td><td>0.8237183</td><td>-0.3574289</td><td>⋯</td><td>-1.00008397</td><td> 0.1558292</td><td>-0.8546956</td><td>-1.5207512</td><td>-0.09754425</td><td>-1.6465738</td><td>-1.0226349</td><td> 0.56109178</td><td>-0.6872555</td><td>1.03958708</td></tr>\n",
       "\t<tr><th scope=row>33</th><td>-1.1941873</td><td>-0.4122878</td><td>0.02739667</td><td>-0.7566721</td><td>-1.0953066</td><td> 0.49386289</td><td>1.2608061</td><td>0.0997665</td><td>1.0941065</td><td>-0.7906759</td><td>⋯</td><td>-1.04590683</td><td> 0.4051558</td><td>-0.3662981</td><td>-0.4719573</td><td>-1.51636967</td><td>-1.1985265</td><td>-1.6561256</td><td>-0.87954928</td><td>-1.0850240</td><td>0.43400237</td></tr>\n",
       "\t<tr><th scope=row>34</th><td>-1.2359908</td><td>-0.4774716</td><td>0.02739667</td><td>-0.4979808</td><td>-1.1849939</td><td>-0.38411558</td><td>1.1775846</td><td>0.4798294</td><td>1.0554796</td><td>-0.7906759</td><td>⋯</td><td>-0.95426111</td><td>-0.8414774</td><td>-1.8314906</td><td>-0.4719573</td><td>-0.98431013</td><td>-1.4225501</td><td>-1.7013749</td><td>-0.04549393</td><td>-1.2728591</td><td>0.83772551</td></tr>\n",
       "</tbody>\n",
       "</table>\n"
      ],
      "text/latex": [
       "A data.frame: 6 × 26\n",
       "\\begin{tabular}{r|lllllllllllllllllllll}\n",
       "  & 1 & 2 & 3 & 4 & 5 & 6 & 7 & 8 & 9 & 10 & ⋯ & 17 & 18 & 19 & 20 & 21 & 22 & 23 & 24 & 25 & 26\\\\\n",
       "  & <dbl> & <dbl> & <dbl> & <dbl> & <dbl> & <dbl> & <dbl> & <dbl> & <dbl> & <dbl> & ⋯ & <dbl> & <dbl> & <dbl> & <dbl> & <dbl> & <dbl> & <dbl> & <dbl> & <dbl> & <dbl>\\\\\n",
       "\\hline\n",
       "\t29 & -0.5532000 & -0.3471039 & 0.02739667 & -0.7566721 & -0.4450734 &  0.49386289 & 0.4285909 & 0.8598923 & 0.5147032 & -0.2130132 & ⋯ & -0.81679252 &  0.9038091 &  0.1220994 & -1.5207512 &  1.32128117 & -1.1985265 & -0.3438949 & -0.95537249 & -0.2784379 & 0.03027924\\\\\n",
       "\t30 & -0.6786105 & -0.3471039 & 0.02739667 & -1.0153634 & -0.3778079 &  0.05487365 & 1.4272492 & 0.4798294 & 0.5533301 & -0.3574289 & ⋯ & -0.95426111 &  0.4051558 & -0.3662981 & -1.5207512 &  1.85334070 & -0.5264556 & -0.2533963 &  0.29571053 &  0.1414288 & 0.23214080\\\\\n",
       "\t31 & -0.8876281 & -0.4122878 & 0.02739667 & -1.0153634 & -1.1177284 & -0.82310482 & 1.2608061 & 0.4798294 & 0.7464646 & -0.2130132 & ⋯ &  0.09966473 & -0.5921508 & -0.3662981 & -1.5207512 &  0.25716211 & -0.5264556 & -0.7963882 & -1.44822338 & -0.2010941 & 1.03958708\\\\\n",
       "\t32 & -1.0687767 & -0.4122878 & 0.57533001 & -1.0153634 & -0.8038227 & -0.82310482 & 1.1775846 & 0.4798294 & 0.8237183 & -0.3574289 & ⋯ & -1.00008397 &  0.1558292 & -0.8546956 & -1.5207512 & -0.09754425 & -1.6465738 & -1.0226349 &  0.56109178 & -0.6872555 & 1.03958708\\\\\n",
       "\t33 & -1.1941873 & -0.4122878 & 0.02739667 & -0.7566721 & -1.0953066 &  0.49386289 & 1.2608061 & 0.0997665 & 1.0941065 & -0.7906759 & ⋯ & -1.04590683 &  0.4051558 & -0.3662981 & -0.4719573 & -1.51636967 & -1.1985265 & -1.6561256 & -0.87954928 & -1.0850240 & 0.43400237\\\\\n",
       "\t34 & -1.2359908 & -0.4774716 & 0.02739667 & -0.4979808 & -1.1849939 & -0.38411558 & 1.1775846 & 0.4798294 & 1.0554796 & -0.7906759 & ⋯ & -0.95426111 & -0.8414774 & -1.8314906 & -0.4719573 & -0.98431013 & -1.4225501 & -1.7013749 & -0.04549393 & -1.2728591 & 0.83772551\\\\\n",
       "\\end{tabular}\n"
      ],
      "text/markdown": [
       "\n",
       "A data.frame: 6 × 26\n",
       "\n",
       "| <!--/--> | 1 &lt;dbl&gt; | 2 &lt;dbl&gt; | 3 &lt;dbl&gt; | 4 &lt;dbl&gt; | 5 &lt;dbl&gt; | 6 &lt;dbl&gt; | 7 &lt;dbl&gt; | 8 &lt;dbl&gt; | 9 &lt;dbl&gt; | 10 &lt;dbl&gt; | ⋯ ⋯ | 17 &lt;dbl&gt; | 18 &lt;dbl&gt; | 19 &lt;dbl&gt; | 20 &lt;dbl&gt; | 21 &lt;dbl&gt; | 22 &lt;dbl&gt; | 23 &lt;dbl&gt; | 24 &lt;dbl&gt; | 25 &lt;dbl&gt; | 26 &lt;dbl&gt; |\n",
       "|---|---|---|---|---|---|---|---|---|---|---|---|---|---|---|---|---|---|---|---|---|---|\n",
       "| 29 | -0.5532000 | -0.3471039 | 0.02739667 | -0.7566721 | -0.4450734 |  0.49386289 | 0.4285909 | 0.8598923 | 0.5147032 | -0.2130132 | ⋯ | -0.81679252 |  0.9038091 |  0.1220994 | -1.5207512 |  1.32128117 | -1.1985265 | -0.3438949 | -0.95537249 | -0.2784379 | 0.03027924 |\n",
       "| 30 | -0.6786105 | -0.3471039 | 0.02739667 | -1.0153634 | -0.3778079 |  0.05487365 | 1.4272492 | 0.4798294 | 0.5533301 | -0.3574289 | ⋯ | -0.95426111 |  0.4051558 | -0.3662981 | -1.5207512 |  1.85334070 | -0.5264556 | -0.2533963 |  0.29571053 |  0.1414288 | 0.23214080 |\n",
       "| 31 | -0.8876281 | -0.4122878 | 0.02739667 | -1.0153634 | -1.1177284 | -0.82310482 | 1.2608061 | 0.4798294 | 0.7464646 | -0.2130132 | ⋯ |  0.09966473 | -0.5921508 | -0.3662981 | -1.5207512 |  0.25716211 | -0.5264556 | -0.7963882 | -1.44822338 | -0.2010941 | 1.03958708 |\n",
       "| 32 | -1.0687767 | -0.4122878 | 0.57533001 | -1.0153634 | -0.8038227 | -0.82310482 | 1.1775846 | 0.4798294 | 0.8237183 | -0.3574289 | ⋯ | -1.00008397 |  0.1558292 | -0.8546956 | -1.5207512 | -0.09754425 | -1.6465738 | -1.0226349 |  0.56109178 | -0.6872555 | 1.03958708 |\n",
       "| 33 | -1.1941873 | -0.4122878 | 0.02739667 | -0.7566721 | -1.0953066 |  0.49386289 | 1.2608061 | 0.0997665 | 1.0941065 | -0.7906759 | ⋯ | -1.04590683 |  0.4051558 | -0.3662981 | -0.4719573 | -1.51636967 | -1.1985265 | -1.6561256 | -0.87954928 | -1.0850240 | 0.43400237 |\n",
       "| 34 | -1.2359908 | -0.4774716 | 0.02739667 | -0.4979808 | -1.1849939 | -0.38411558 | 1.1775846 | 0.4798294 | 1.0554796 | -0.7906759 | ⋯ | -0.95426111 | -0.8414774 | -1.8314906 | -0.4719573 | -0.98431013 | -1.4225501 | -1.7013749 | -0.04549393 | -1.2728591 | 0.83772551 |\n",
       "\n"
      ],
      "text/plain": [
       "   1          2          3          4          5          6           7        \n",
       "29 -0.5532000 -0.3471039 0.02739667 -0.7566721 -0.4450734  0.49386289 0.4285909\n",
       "30 -0.6786105 -0.3471039 0.02739667 -1.0153634 -0.3778079  0.05487365 1.4272492\n",
       "31 -0.8876281 -0.4122878 0.02739667 -1.0153634 -1.1177284 -0.82310482 1.2608061\n",
       "32 -1.0687767 -0.4122878 0.57533001 -1.0153634 -0.8038227 -0.82310482 1.1775846\n",
       "33 -1.1941873 -0.4122878 0.02739667 -0.7566721 -1.0953066  0.49386289 1.2608061\n",
       "34 -1.2359908 -0.4774716 0.02739667 -0.4979808 -1.1849939 -0.38411558 1.1775846\n",
       "   8         9         10         ⋯ 17          18         19        \n",
       "29 0.8598923 0.5147032 -0.2130132 ⋯ -0.81679252  0.9038091  0.1220994\n",
       "30 0.4798294 0.5533301 -0.3574289 ⋯ -0.95426111  0.4051558 -0.3662981\n",
       "31 0.4798294 0.7464646 -0.2130132 ⋯  0.09966473 -0.5921508 -0.3662981\n",
       "32 0.4798294 0.8237183 -0.3574289 ⋯ -1.00008397  0.1558292 -0.8546956\n",
       "33 0.0997665 1.0941065 -0.7906759 ⋯ -1.04590683  0.4051558 -0.3662981\n",
       "34 0.4798294 1.0554796 -0.7906759 ⋯ -0.95426111 -0.8414774 -1.8314906\n",
       "   20         21          22         23         24          25        \n",
       "29 -1.5207512  1.32128117 -1.1985265 -0.3438949 -0.95537249 -0.2784379\n",
       "30 -1.5207512  1.85334070 -0.5264556 -0.2533963  0.29571053  0.1414288\n",
       "31 -1.5207512  0.25716211 -0.5264556 -0.7963882 -1.44822338 -0.2010941\n",
       "32 -1.5207512 -0.09754425 -1.6465738 -1.0226349  0.56109178 -0.6872555\n",
       "33 -0.4719573 -1.51636967 -1.1985265 -1.6561256 -0.87954928 -1.0850240\n",
       "34 -0.4719573 -0.98431013 -1.4225501 -1.7013749 -0.04549393 -1.2728591\n",
       "   26        \n",
       "29 0.03027924\n",
       "30 0.23214080\n",
       "31 1.03958708\n",
       "32 1.03958708\n",
       "33 0.43400237\n",
       "34 0.83772551"
      ]
     },
     "metadata": {},
     "output_type": "display_data"
    }
   ],
   "source": [
    "x_test <-df.train[(nrow(scaled_train)- prediction-prediction+1):(nrow(scaled_train)-prediction),]\n",
    "for(i in 1:ncol(x_test)){\n",
    "    x_test[,i] <-(x_test[,i] -scale_factor[[\"center\"]][i])/scale_factor[[\"sd\"]][i]\n",
    "}\n",
    "x_test_scaled <- x_test\n",
    "x_test_scaled\n",
    "x_test_array <- array(\n",
    "    data = as.numeric(unlist(x_test_scaled)),\n",
    "    dim=c(1,6,26)\n",
    ")\n"
   ]
  },
  {
   "cell_type": "code",
   "execution_count": 21,
   "metadata": {
    "vscode": {
     "languageId": "r"
    }
   },
   "outputs": [
    {
     "data": {
      "text/html": [
       "<table class=\"dataframe\">\n",
       "<caption>A data.frame: 6 × 26</caption>\n",
       "<thead>\n",
       "\t<tr><th></th><th scope=col>1</th><th scope=col>2</th><th scope=col>3</th><th scope=col>4</th><th scope=col>5</th><th scope=col>6</th><th scope=col>7</th><th scope=col>8</th><th scope=col>9</th><th scope=col>10</th><th scope=col>⋯</th><th scope=col>17</th><th scope=col>18</th><th scope=col>19</th><th scope=col>20</th><th scope=col>21</th><th scope=col>22</th><th scope=col>23</th><th scope=col>24</th><th scope=col>25</th><th scope=col>26</th></tr>\n",
       "\t<tr><th></th><th scope=col>&lt;dbl&gt;</th><th scope=col>&lt;dbl&gt;</th><th scope=col>&lt;dbl&gt;</th><th scope=col>&lt;dbl&gt;</th><th scope=col>&lt;dbl&gt;</th><th scope=col>&lt;dbl&gt;</th><th scope=col>&lt;dbl&gt;</th><th scope=col>&lt;dbl&gt;</th><th scope=col>&lt;dbl&gt;</th><th scope=col>&lt;dbl&gt;</th><th scope=col>⋯</th><th scope=col>&lt;dbl&gt;</th><th scope=col>&lt;dbl&gt;</th><th scope=col>&lt;dbl&gt;</th><th scope=col>&lt;dbl&gt;</th><th scope=col>&lt;dbl&gt;</th><th scope=col>&lt;dbl&gt;</th><th scope=col>&lt;dbl&gt;</th><th scope=col>&lt;dbl&gt;</th><th scope=col>&lt;dbl&gt;</th><th scope=col>&lt;dbl&gt;</th></tr>\n",
       "</thead>\n",
       "<tbody>\n",
       "\t<tr><th scope=row>35</th><td>-1.431074</td><td>-0.2819201</td><td>0.02739667</td><td>-0.2392895</td><td>-2.037024</td><td>-0.8231048</td><td>1.094363</td><td>1.049924</td><td>1.325868</td><td>-1.07950734</td><td>⋯</td><td> 0.09966473</td><td>-1.83878403</td><td>-2.319888</td><td>-0.8215552</td><td>-1.8710760</td><td>-0.9745028</td><td>-1.656126</td><td>-1.56195820</td><td>-1.770070</td><td>1.443310</td></tr>\n",
       "\t<tr><th scope=row>36</th><td>-1.472877</td><td>-0.2167363</td><td>0.02739667</td><td>-0.7566721</td><td>-1.767962</td><td>-0.8231048</td><td>1.094363</td><td>1.239955</td><td>1.403122</td><td>-0.93509164</td><td>⋯</td><td>-0.90843824</td><td> 0.15582916</td><td>-1.831491</td><td>-0.8215552</td><td>-1.5163697</td><td>-1.1985265</td><td>-1.701375</td><td>-0.23505196</td><td>-1.681677</td><td>1.847033</td></tr>\n",
       "\t<tr><th scope=row>37</th><td>-1.584354</td><td> 0.1743668</td><td>0.02739667</td><td>-0.7566721</td><td>-1.902493</td><td>-0.3841156</td><td>1.593692</td><td>1.810049</td><td>1.596256</td><td>-0.93509164</td><td>⋯</td><td>-0.81679252</td><td> 0.40515580</td><td>-1.343093</td><td>-0.8215552</td><td>-1.3390165</td><td>-1.4225501</td><td>-1.837123</td><td>-1.14493053</td><td>-2.167838</td><td>1.443310</td></tr>\n",
       "\t<tr><th scope=row>38</th><td>-1.667961</td><td>-0.6730231</td><td>0.02739667</td><td>-0.7566721</td><td>-1.835227</td><td> 0.4938629</td><td>1.760135</td><td>1.620018</td><td>1.634883</td><td>-1.07950734</td><td>⋯</td><td>-0.63350107</td><td> 1.40246240</td><td>-1.343093</td><td>-0.1223593</td><td>-0.9843101</td><td>-0.9745028</td><td>-1.882372</td><td> 0.52318017</td><td>-1.946856</td><td>1.645172</td></tr>\n",
       "\t<tr><th scope=row>39</th><td>-1.849109</td><td>-0.6730231</td><td>1.12326335</td><td>-0.4979808</td><td>-1.835227</td><td>-0.3841156</td><td>1.593692</td><td>1.429987</td><td>1.789390</td><td>-0.35742885</td><td>⋯</td><td> 0.23713331</td><td> 0.15582916</td><td>-1.343093</td><td>-0.4719573</td><td>-1.6937228</td><td>-1.1985265</td><td>-1.565627</td><td>-1.71360463</td><td>-2.189936</td><td>1.847033</td></tr>\n",
       "\t<tr><th scope=row>40</th><td>-1.904847</td><td>-0.8685747</td><td>2.21913003</td><td>-0.4979808</td><td>-1.498900</td><td>-0.3841156</td><td>1.510471</td><td>1.239955</td><td>1.789390</td><td> 0.07581824</td><td>⋯</td><td>-0.81679252</td><td>-0.09349749</td><td>-1.343093</td><td>-0.8215552</td><td>-1.1616633</td><td>-0.7504792</td><td>-1.746624</td><td>-0.08340554</td><td>-2.234133</td><td>2.654480</td></tr>\n",
       "</tbody>\n",
       "</table>\n"
      ],
      "text/latex": [
       "A data.frame: 6 × 26\n",
       "\\begin{tabular}{r|lllllllllllllllllllll}\n",
       "  & 1 & 2 & 3 & 4 & 5 & 6 & 7 & 8 & 9 & 10 & ⋯ & 17 & 18 & 19 & 20 & 21 & 22 & 23 & 24 & 25 & 26\\\\\n",
       "  & <dbl> & <dbl> & <dbl> & <dbl> & <dbl> & <dbl> & <dbl> & <dbl> & <dbl> & <dbl> & ⋯ & <dbl> & <dbl> & <dbl> & <dbl> & <dbl> & <dbl> & <dbl> & <dbl> & <dbl> & <dbl>\\\\\n",
       "\\hline\n",
       "\t35 & -1.431074 & -0.2819201 & 0.02739667 & -0.2392895 & -2.037024 & -0.8231048 & 1.094363 & 1.049924 & 1.325868 & -1.07950734 & ⋯ &  0.09966473 & -1.83878403 & -2.319888 & -0.8215552 & -1.8710760 & -0.9745028 & -1.656126 & -1.56195820 & -1.770070 & 1.443310\\\\\n",
       "\t36 & -1.472877 & -0.2167363 & 0.02739667 & -0.7566721 & -1.767962 & -0.8231048 & 1.094363 & 1.239955 & 1.403122 & -0.93509164 & ⋯ & -0.90843824 &  0.15582916 & -1.831491 & -0.8215552 & -1.5163697 & -1.1985265 & -1.701375 & -0.23505196 & -1.681677 & 1.847033\\\\\n",
       "\t37 & -1.584354 &  0.1743668 & 0.02739667 & -0.7566721 & -1.902493 & -0.3841156 & 1.593692 & 1.810049 & 1.596256 & -0.93509164 & ⋯ & -0.81679252 &  0.40515580 & -1.343093 & -0.8215552 & -1.3390165 & -1.4225501 & -1.837123 & -1.14493053 & -2.167838 & 1.443310\\\\\n",
       "\t38 & -1.667961 & -0.6730231 & 0.02739667 & -0.7566721 & -1.835227 &  0.4938629 & 1.760135 & 1.620018 & 1.634883 & -1.07950734 & ⋯ & -0.63350107 &  1.40246240 & -1.343093 & -0.1223593 & -0.9843101 & -0.9745028 & -1.882372 &  0.52318017 & -1.946856 & 1.645172\\\\\n",
       "\t39 & -1.849109 & -0.6730231 & 1.12326335 & -0.4979808 & -1.835227 & -0.3841156 & 1.593692 & 1.429987 & 1.789390 & -0.35742885 & ⋯ &  0.23713331 &  0.15582916 & -1.343093 & -0.4719573 & -1.6937228 & -1.1985265 & -1.565627 & -1.71360463 & -2.189936 & 1.847033\\\\\n",
       "\t40 & -1.904847 & -0.8685747 & 2.21913003 & -0.4979808 & -1.498900 & -0.3841156 & 1.510471 & 1.239955 & 1.789390 &  0.07581824 & ⋯ & -0.81679252 & -0.09349749 & -1.343093 & -0.8215552 & -1.1616633 & -0.7504792 & -1.746624 & -0.08340554 & -2.234133 & 2.654480\\\\\n",
       "\\end{tabular}\n"
      ],
      "text/markdown": [
       "\n",
       "A data.frame: 6 × 26\n",
       "\n",
       "| <!--/--> | 1 &lt;dbl&gt; | 2 &lt;dbl&gt; | 3 &lt;dbl&gt; | 4 &lt;dbl&gt; | 5 &lt;dbl&gt; | 6 &lt;dbl&gt; | 7 &lt;dbl&gt; | 8 &lt;dbl&gt; | 9 &lt;dbl&gt; | 10 &lt;dbl&gt; | ⋯ ⋯ | 17 &lt;dbl&gt; | 18 &lt;dbl&gt; | 19 &lt;dbl&gt; | 20 &lt;dbl&gt; | 21 &lt;dbl&gt; | 22 &lt;dbl&gt; | 23 &lt;dbl&gt; | 24 &lt;dbl&gt; | 25 &lt;dbl&gt; | 26 &lt;dbl&gt; |\n",
       "|---|---|---|---|---|---|---|---|---|---|---|---|---|---|---|---|---|---|---|---|---|---|\n",
       "| 35 | -1.431074 | -0.2819201 | 0.02739667 | -0.2392895 | -2.037024 | -0.8231048 | 1.094363 | 1.049924 | 1.325868 | -1.07950734 | ⋯ |  0.09966473 | -1.83878403 | -2.319888 | -0.8215552 | -1.8710760 | -0.9745028 | -1.656126 | -1.56195820 | -1.770070 | 1.443310 |\n",
       "| 36 | -1.472877 | -0.2167363 | 0.02739667 | -0.7566721 | -1.767962 | -0.8231048 | 1.094363 | 1.239955 | 1.403122 | -0.93509164 | ⋯ | -0.90843824 |  0.15582916 | -1.831491 | -0.8215552 | -1.5163697 | -1.1985265 | -1.701375 | -0.23505196 | -1.681677 | 1.847033 |\n",
       "| 37 | -1.584354 |  0.1743668 | 0.02739667 | -0.7566721 | -1.902493 | -0.3841156 | 1.593692 | 1.810049 | 1.596256 | -0.93509164 | ⋯ | -0.81679252 |  0.40515580 | -1.343093 | -0.8215552 | -1.3390165 | -1.4225501 | -1.837123 | -1.14493053 | -2.167838 | 1.443310 |\n",
       "| 38 | -1.667961 | -0.6730231 | 0.02739667 | -0.7566721 | -1.835227 |  0.4938629 | 1.760135 | 1.620018 | 1.634883 | -1.07950734 | ⋯ | -0.63350107 |  1.40246240 | -1.343093 | -0.1223593 | -0.9843101 | -0.9745028 | -1.882372 |  0.52318017 | -1.946856 | 1.645172 |\n",
       "| 39 | -1.849109 | -0.6730231 | 1.12326335 | -0.4979808 | -1.835227 | -0.3841156 | 1.593692 | 1.429987 | 1.789390 | -0.35742885 | ⋯ |  0.23713331 |  0.15582916 | -1.343093 | -0.4719573 | -1.6937228 | -1.1985265 | -1.565627 | -1.71360463 | -2.189936 | 1.847033 |\n",
       "| 40 | -1.904847 | -0.8685747 | 2.21913003 | -0.4979808 | -1.498900 | -0.3841156 | 1.510471 | 1.239955 | 1.789390 |  0.07581824 | ⋯ | -0.81679252 | -0.09349749 | -1.343093 | -0.8215552 | -1.1616633 | -0.7504792 | -1.746624 | -0.08340554 | -2.234133 | 2.654480 |\n",
       "\n"
      ],
      "text/plain": [
       "   1         2          3          4          5         6          7       \n",
       "35 -1.431074 -0.2819201 0.02739667 -0.2392895 -2.037024 -0.8231048 1.094363\n",
       "36 -1.472877 -0.2167363 0.02739667 -0.7566721 -1.767962 -0.8231048 1.094363\n",
       "37 -1.584354  0.1743668 0.02739667 -0.7566721 -1.902493 -0.3841156 1.593692\n",
       "38 -1.667961 -0.6730231 0.02739667 -0.7566721 -1.835227  0.4938629 1.760135\n",
       "39 -1.849109 -0.6730231 1.12326335 -0.4979808 -1.835227 -0.3841156 1.593692\n",
       "40 -1.904847 -0.8685747 2.21913003 -0.4979808 -1.498900 -0.3841156 1.510471\n",
       "   8        9        10          ⋯ 17          18          19        20        \n",
       "35 1.049924 1.325868 -1.07950734 ⋯  0.09966473 -1.83878403 -2.319888 -0.8215552\n",
       "36 1.239955 1.403122 -0.93509164 ⋯ -0.90843824  0.15582916 -1.831491 -0.8215552\n",
       "37 1.810049 1.596256 -0.93509164 ⋯ -0.81679252  0.40515580 -1.343093 -0.8215552\n",
       "38 1.620018 1.634883 -1.07950734 ⋯ -0.63350107  1.40246240 -1.343093 -0.1223593\n",
       "39 1.429987 1.789390 -0.35742885 ⋯  0.23713331  0.15582916 -1.343093 -0.4719573\n",
       "40 1.239955 1.789390  0.07581824 ⋯ -0.81679252 -0.09349749 -1.343093 -0.8215552\n",
       "   21         22         23        24          25        26      \n",
       "35 -1.8710760 -0.9745028 -1.656126 -1.56195820 -1.770070 1.443310\n",
       "36 -1.5163697 -1.1985265 -1.701375 -0.23505196 -1.681677 1.847033\n",
       "37 -1.3390165 -1.4225501 -1.837123 -1.14493053 -2.167838 1.443310\n",
       "38 -0.9843101 -0.9745028 -1.882372  0.52318017 -1.946856 1.645172\n",
       "39 -1.6937228 -1.1985265 -1.565627 -1.71360463 -2.189936 1.847033\n",
       "40 -1.1616633 -0.7504792 -1.746624 -0.08340554 -2.234133 2.654480"
      ]
     },
     "metadata": {},
     "output_type": "display_data"
    },
    {
     "name": "stdout",
     "output_type": "stream",
     "text": [
      "\n",
      "time interval taken into X_test: 29 30 31 32 33 34\n",
      "time interval taken into Y_test: 35 36 37 38 39 40"
     ]
    }
   ],
   "source": [
    "y_test <-df.train[(nrow(scaled_train)- prediction+1):nrow(scaled_train),]\n",
    "for(i in 1:ncol(y_test)){\n",
    "    y_test[,i] <-(y_test[,i] -scale_factor[[\"center\"]][i])/scale_factor[[\"sd\"]][i]\n",
    "}\n",
    "y_test_scaled <- y_test\n",
    "y_test_scaled\n",
    "y_test_array <- array(\n",
    "    data = as.numeric(unlist(y_test_scaled)),\n",
    "    dim=c(1,6,26)\n",
    ")\n",
    "cat(\"\\ntime interval taken into X_test:\",(nrow(scaled_train)- prediction-prediction+1):(nrow(scaled_train)-prediction))\n",
    "cat(\"\\ntime interval taken into Y_test:\", (nrow(scaled_train)- prediction+1):nrow(scaled_train))\n"
   ]
  },
  {
   "cell_type": "code",
   "execution_count": 22,
   "metadata": {
    "vscode": {
     "languageId": "r"
    }
   },
   "outputs": [],
   "source": [
    "history <-LSTM_model_nonstable_eval %>% keras::fit(\n",
    "    x=x_train_arr_bis,\n",
    "    y=y_train_arr_bis,\n",
    "    batch_size=1,\n",
    "    epochs=40,# Number of times to iterate over the training data\n",
    "    verbose=2,\n",
    "    shuffle=FALSE,\n",
    "    validation_data=list(x_test_array,y_test_array)\n",
    ")"
   ]
  },
  {
   "cell_type": "code",
   "execution_count": 23,
   "metadata": {
    "vscode": {
     "languageId": "r"
    }
   },
   "outputs": [
    {
     "data": {
      "image/png": "[encoded data removed]",
      "text/plain": [
       "plot without title"
      ]
     },
     "metadata": {
      "image/png": {
       "height": 420,
       "width": 420
      }
     },
     "output_type": "display_data"
    }
   ],
   "source": [
    "plot(history)"
   ]
  },
  {
   "cell_type": "code",
   "execution_count": 24,
   "metadata": {
    "vscode": {
     "languageId": "r"
    }
   },
   "outputs": [],
   "source": [
    "LSTM_model_nonstable_eval %>% keras::fit(\n",
    "    x=x_train_arr_bis,\n",
    "    y=y_train_arr_bis,\n",
    "    batch_size=1,\n",
    "    epochs=40,# Number of times to iterate over the training data\n",
    "    verbose=2,\n",
    "    shuffle=FALSE\n",
    ")"
   ]
  },
  {
   "cell_type": "code",
   "execution_count": 25,
   "metadata": {
    "vscode": {
     "languageId": "r"
    }
   },
   "outputs": [],
   "source": [
    "LSTM_forecast_eval_nonstable <- LSTM_model_nonstable_eval %>% predict(x_test_array,batch_size=1)"
   ]
  },
  {
   "cell_type": "code",
   "execution_count": 26,
   "metadata": {
    "vscode": {
     "languageId": "r"
    }
   },
   "outputs": [],
   "source": [
    "#-------------------------\n",
    "# Unscale predictions\n",
    "for (i in 1: dim(LSTM_forecast_eval_nonstable)[3]){\n",
    "    LSTM_forecast_eval_nonstable[,,i] <- LSTM_forecast_eval_nonstable[,,i] * scale_factor[[\"sd\"]][i] +scale_factor[[\"center\"]][i]\n",
    "}"
   ]
  },
  {
   "cell_type": "code",
   "execution_count": 27,
   "metadata": {
    "vscode": {
     "languageId": "r"
    }
   },
   "outputs": [
    {
     "data": {
      "image/png": "[encoded data removed]",
      "text/plain": [
       "plot without title"
      ]
     },
     "metadata": {
      "image/png": {
       "height": 420,
       "width": 420
      }
     },
     "output_type": "display_data"
    }
   ],
   "source": [
    "index_secteur <- 1\n",
    "pred <-c(df.ts[1:(nrow(scaled_train)-prediction),index_secteur],LSTM_forecast_eval_nonstable[,,index_secteur])\n",
    "pred <-ts(pred, start=c(2010,1),frequency=4)\n",
    "obs <- df.ts[,index_secteur]\n",
    "\n",
    "plot.ts(\n",
    "    cbind(pred,obs),\n",
    "    plot.type=\"single\",\n",
    "    lty=c(2,1),\n",
    "    lwd=1,\n",
    "    xlab=\"t\",\n",
    "    ylab=paste(\"Nombre d'Etablissements en GE pour le secteur :\",lab.to.num$lab[index_secteur],sep=\"\"),\n",
    "    \n",
    "    col=c(\"blue\",\"red\")\n",
    ")\n",
    "legend(\"topleft\",\n",
    "\n",
    "    legend=c(\"Prédictions\",\"Observations\"),\n",
    "    col=c(\"blue\",\"red\"),\n",
    "    lty=c(2,1),\n",
    "    lwd=1\n",
    ")"
   ]
  },
  {
   "cell_type": "code",
   "execution_count": 378,
   "metadata": {
    "vscode": {
     "languageId": "r"
    }
   },
   "outputs": [],
   "source": [
    "#-------------------------------\n",
    "#Save all plots\n",
    "for( index_secteur in 1:ncol(scaled_train)){\n",
    "\n",
    "    png(file=paste(\"plots/LSTM_non_stable/test_model/\",index_secteur,\".png\",sep=\"\"))\n",
    "    pred <-c(df.ts[1:(nrow(scaled_train)-prediction),index_secteur],LSTM_forecast_eval_nonstable[,,index_secteur])\n",
    "    pred <-ts(pred, start=c(2010,1),frequency=4)\n",
    "    obs <- df.ts[,index_secteur]\n",
    "\n",
    "    plot.ts(\n",
    "        cbind(pred,obs),\n",
    "        plot.type=\"single\",\n",
    "        lty=c(2,1),\n",
    "        lwd=1,\n",
    "        xlab=\"t\",\n",
    "        ylab=paste(\"Nombre d'Etablissements en GE pour le secteur :\",lab.to.num$lab[index_secteur],sep=\"\"),\n",
    "\n",
    "        col=c(\"blue\",\"red\")\n",
    "    )\n",
    "    legend(\"topleft\",\n",
    "\n",
    "        legend=c(\"Prédictions\",\"Observations\"),\n",
    "        col=c(\"blue\",\"red\"),\n",
    "        lty=c(2,1),\n",
    "        lwd=1\n",
    "    )\n",
    "    dev.off()\n",
    "}"
   ]
  },
  {
   "cell_type": "code",
   "execution_count": 122,
   "metadata": {
    "vscode": {
     "languageId": "r"
    }
   },
   "outputs": [],
   "source": [
    "#----------------------\n",
    "#Save model\n",
    "#save_model_tf(LSTM_model,\"models/LSTM_non_stable\")"
   ]
  },
  {
   "cell_type": "markdown",
   "metadata": {},
   "source": [
    "<hr>\n",
    "\n",
    "### Analyse des ecarts entre test et prediction *RMSE, MAE,MAPE,sMAPE*"
   ]
  },
  {
   "cell_type": "code",
   "execution_count": 33,
   "metadata": {
    "vscode": {
     "languageId": "r"
    }
   },
   "outputs": [],
   "source": [
    "RMSE <- c()\n",
    "for (index_secteur in 1:dim(LSTM_forecast_eval_nonstable)[3]){\n",
    "    pred <- c(df.ts[1:(nrow(scaled_train)-prediction),index_secteur],LSTM_forecast_eval_nonstable[,,index_secteur])\n",
    "    pred <-ts(pred, start=c(2010,1),frequency=4)\n",
    "    obs <- df.ts[,index_secteur]\n",
    "    obs <-ts(obs, start=c(2010,1),frequency=4)\n",
    "    obs <- obs[(length(obs)-6+1):length(obs)]\n",
    "    pred <- pred[(length(pred)-6+1):length(pred)]\n",
    "    RMSE <-c(RMSE,sqrt(mean((obs-pred)^2)))\n",
    "}\n",
    "RMSE <- RMSE %>% as.data.frame()\n",
    "colnames(RMSE) <- \"RMSE\""
   ]
  },
  {
   "cell_type": "code",
   "execution_count": 36,
   "metadata": {
    "vscode": {
     "languageId": "r"
    }
   },
   "outputs": [],
   "source": [
    "MAE <- c()\n",
    "for (index_secteur in 1:dim(LSTM_forecast_eval_nonstable)[3]){\n",
    "    pred <- c(df.ts[1:(nrow(scaled_train)-prediction),index_secteur],LSTM_forecast_eval_nonstable[,,index_secteur])\n",
    "    pred <-ts(pred, start=c(2010,1),frequency=4)\n",
    "    obs <- df.ts[,index_secteur]\n",
    "    obs <-ts(obs, start=c(2010,1),frequency=4)\n",
    "    obs <- obs[(length(obs)-6+1):length(obs)]\n",
    "    pred <- pred[(length(pred)-6+1):length(pred)]\n",
    "    MAE <-c(MAE,mean(abs(obs-pred)))\n",
    "    \n",
    "}\n",
    "MAE <- MAE %>%as.data.frame()\n",
    "colnames(MAE) <- \"MAE\""
   ]
  },
  {
   "cell_type": "code",
   "execution_count": 51,
   "metadata": {
    "vscode": {
     "languageId": "r"
    }
   },
   "outputs": [],
   "source": [
    "MAPE <- c()\n",
    "for (index_secteur in 1:dim(LSTM_forecast_eval_nonstable)[3]){\n",
    "    pred <- c(df.ts[1:(nrow(scaled_train)-prediction),index_secteur],LSTM_forecast_eval_nonstable[,,index_secteur])\n",
    "    pred <-ts(pred, start=c(2010,1),frequency=4)\n",
    "    obs <- df.ts[,index_secteur]\n",
    "    obs <-ts(obs, start=c(2010,1),frequency=4)\n",
    "    obs <- obs[(length(obs)-6+1):length(obs)]\n",
    "    pred <- pred[(length(pred)-6+1):length(pred)]\n",
    "    \n",
    "    MAPE <-c(MAPE,mean(abs((obs-pred)*100/obs)))\n",
    "    \n",
    "}\n",
    "MAPE <- MAPE %>%as.data.frame()\n",
    "colnames(MAPE) <- \"MAPE\""
   ]
  },
  {
   "cell_type": "code",
   "execution_count": 52,
   "metadata": {
    "vscode": {
     "languageId": "r"
    }
   },
   "outputs": [],
   "source": [
    "sMAPE <- c()\n",
    "for (index_secteur in 1:dim(LSTM_forecast_eval_nonstable)[3]){\n",
    "    pred <- c(df.ts[1:(nrow(scaled_train)-prediction),index_secteur],LSTM_forecast_eval_nonstable[,,index_secteur])\n",
    "    pred <-ts(pred, start=c(2010,1),frequency=4)\n",
    "    obs <- df.ts[,index_secteur]\n",
    "    obs <-ts(obs, start=c(2010,1),frequency=4)\n",
    "    obs <- obs[(length(obs)-6+1):length(obs)]\n",
    "    pred <- pred[(length(pred)-6+1):length(pred)]\n",
    "    sMAPE <-c(sMAPE,mean(200*abs(obs-pred)/(obs+pred)))\n",
    "    \n",
    "}\n",
    "sMAPE <- sMAPE %>%as.data.frame()\n",
    "colnames(sMAPE) <- \"sMAPE\""
   ]
  },
  {
   "cell_type": "code",
   "execution_count": 86,
   "metadata": {
    "vscode": {
     "languageId": "r"
    }
   },
   "outputs": [
    {
     "data": {
      "text/html": [
       "<table class=\"dataframe\">\n",
       "<caption>A data.frame: 26 × 5</caption>\n",
       "<thead>\n",
       "\t<tr><th scope=col>secteurs</th><th scope=col>RMSE</th><th scope=col>MAE</th><th scope=col>MAPE</th><th scope=col>sMAPE</th></tr>\n",
       "\t<tr><th scope=col>&lt;chr&gt;</th><th scope=col>&lt;dbl&gt;</th><th scope=col>&lt;dbl&gt;</th><th scope=col>&lt;dbl&gt;</th><th scope=col>&lt;dbl&gt;</th></tr>\n",
       "</thead>\n",
       "<tbody>\n",
       "\t<tr><td>64 Activités des services financiers, hors assurance et</td><td> 3.61067661</td><td> 3.31477521</td><td>0.3073121</td><td>0.3067505</td></tr>\n",
       "\t<tr><td>65-66 Assurance ; Activités auxiliaires de services fin</td><td> 4.25867136</td><td> 3.60336069</td><td>0.9399463</td><td>0.9437571</td></tr>\n",
       "\t<tr><td>852 Enseignement primaire                              </td><td> 1.61231390</td><td> 0.89687286</td><td>1.2412261</td><td>1.2663834</td></tr>\n",
       "\t<tr><td>853 Enseignement secondaire                            </td><td> 0.72944453</td><td> 0.61050086</td><td>0.4181439</td><td>0.4193450</td></tr>\n",
       "\t<tr><td>85x Enseignement / Autre                               </td><td>17.62592902</td><td>14.79338920</td><td>1.3932661</td><td>1.3796888</td></tr>\n",
       "\t<tr><td>861 Activités hospitalières                            </td><td> 0.78893859</td><td> 0.74391049</td><td>0.7673666</td><td>0.7659131</td></tr>\n",
       "\t<tr><td>862 Activité des médecins et des dentistes             </td><td> 2.32091763</td><td> 1.87370109</td><td>1.0484998</td><td>1.0561280</td></tr>\n",
       "\t<tr><td>869 Autres activités pour la santé humaine             </td><td> 2.90865655</td><td> 2.73328015</td><td>1.9625830</td><td>1.9845359</td></tr>\n",
       "\t<tr><td>87 Hébergement médico-social et social                 </td><td> 2.20258441</td><td> 2.16375069</td><td>0.2205194</td><td>0.2207714</td></tr>\n",
       "\t<tr><td>881 Action sociale sans hébergement pour personnes âgée</td><td> 3.09016315</td><td> 2.56292640</td><td>0.4649217</td><td>0.4658619</td></tr>\n",
       "\t<tr><td>889 Autre action sociale sans hébergement              </td><td>14.63485399</td><td>14.42694775</td><td>0.9687136</td><td>0.9735580</td></tr>\n",
       "\t<tr><td>931 Activités liées au sport                           </td><td>32.51875907</td><td>32.03127783</td><td>2.3697036</td><td>2.3411316</td></tr>\n",
       "\t<tr><td>932 Activités récréatives et de loisirs                </td><td> 5.71081611</td><td> 5.28997916</td><td>3.1847785</td><td>3.1283016</td></tr>\n",
       "\t<tr><td>FZ_Construction                                        </td><td> 1.73616493</td><td> 1.25114809</td><td>3.2939891</td><td>3.3961366</td></tr>\n",
       "\t<tr><td>GZ_Commerce, réparation d'automobiles et de motocycles </td><td> 6.94823944</td><td> 5.85753025</td><td>4.0461218</td><td>4.1628958</td></tr>\n",
       "\t<tr><td>HZ_Transports et entreposage                           </td><td> 0.01513239</td><td> 0.01345956</td><td>0.1223597</td><td>0.1224192</td></tr>\n",
       "\t<tr><td>IZ_Hébergement et restauration                         </td><td>10.86973784</td><td>10.25028473</td><td>4.4922944</td><td>4.6063096</td></tr>\n",
       "\t<tr><td>JA_Edition et audiovisuel                              </td><td> 2.32131228</td><td> 2.04676527</td><td>1.8309591</td><td>1.8389158</td></tr>\n",
       "\t<tr><td>JB-JC_Télécommunications et ativités informatiques     </td><td> 0.88960541</td><td> 0.79415094</td><td>5.8023678</td><td>5.9715706</td></tr>\n",
       "\t<tr><td>LZ_Activités immobilières                              </td><td> 0.66954291</td><td> 0.63883949</td><td>2.2413510</td><td>2.2295479</td></tr>\n",
       "\t<tr><td>MA_Activités juridiques, de conseil et d'ingénierie    </td><td> 1.99551673</td><td> 1.88837317</td><td>0.9941560</td><td>0.9886475</td></tr>\n",
       "\t<tr><td>MB-MC_R&amp;d et autres activités scientifiques et techniqu</td><td> 1.08487504</td><td> 0.75818214</td><td>1.2380865</td><td>1.2537301</td></tr>\n",
       "\t<tr><td>NZ_Activités de services administratifs et de soutien  </td><td> 8.01143136</td><td> 7.43114343</td><td>2.6368824</td><td>2.6778356</td></tr>\n",
       "\t<tr><td>RZ_Arts, spectacles et activités récréatives           </td><td>11.59272651</td><td> 9.70989896</td><td>0.9651985</td><td>0.9651500</td></tr>\n",
       "\t<tr><td>SZ_autres activités de services                        </td><td>23.08925603</td><td>21.63328557</td><td>0.7498654</td><td>0.7466692</td></tr>\n",
       "\t<tr><td>i_Industrie et agriculture                             </td><td> 3.16775710</td><td> 2.98732037</td><td>4.5690862</td><td>4.6871640</td></tr>\n",
       "</tbody>\n",
       "</table>\n"
      ],
      "text/latex": [
       "A data.frame: 26 × 5\n",
       "\\begin{tabular}{lllll}\n",
       " secteurs & RMSE & MAE & MAPE & sMAPE\\\\\n",
       " <chr> & <dbl> & <dbl> & <dbl> & <dbl>\\\\\n",
       "\\hline\n",
       "\t 64 Activités des services financiers, hors assurance et &  3.61067661 &  3.31477521 & 0.3073121 & 0.3067505\\\\\n",
       "\t 65-66 Assurance ; Activités auxiliaires de services fin &  4.25867136 &  3.60336069 & 0.9399463 & 0.9437571\\\\\n",
       "\t 852 Enseignement primaire                               &  1.61231390 &  0.89687286 & 1.2412261 & 1.2663834\\\\\n",
       "\t 853 Enseignement secondaire                             &  0.72944453 &  0.61050086 & 0.4181439 & 0.4193450\\\\\n",
       "\t 85x Enseignement / Autre                                & 17.62592902 & 14.79338920 & 1.3932661 & 1.3796888\\\\\n",
       "\t 861 Activités hospitalières                             &  0.78893859 &  0.74391049 & 0.7673666 & 0.7659131\\\\\n",
       "\t 862 Activité des médecins et des dentistes              &  2.32091763 &  1.87370109 & 1.0484998 & 1.0561280\\\\\n",
       "\t 869 Autres activités pour la santé humaine              &  2.90865655 &  2.73328015 & 1.9625830 & 1.9845359\\\\\n",
       "\t 87 Hébergement médico-social et social                  &  2.20258441 &  2.16375069 & 0.2205194 & 0.2207714\\\\\n",
       "\t 881 Action sociale sans hébergement pour personnes âgée &  3.09016315 &  2.56292640 & 0.4649217 & 0.4658619\\\\\n",
       "\t 889 Autre action sociale sans hébergement               & 14.63485399 & 14.42694775 & 0.9687136 & 0.9735580\\\\\n",
       "\t 931 Activités liées au sport                            & 32.51875907 & 32.03127783 & 2.3697036 & 2.3411316\\\\\n",
       "\t 932 Activités récréatives et de loisirs                 &  5.71081611 &  5.28997916 & 3.1847785 & 3.1283016\\\\\n",
       "\t FZ\\_Construction                                         &  1.73616493 &  1.25114809 & 3.2939891 & 3.3961366\\\\\n",
       "\t GZ\\_Commerce, réparation d'automobiles et de motocycles  &  6.94823944 &  5.85753025 & 4.0461218 & 4.1628958\\\\\n",
       "\t HZ\\_Transports et entreposage                            &  0.01513239 &  0.01345956 & 0.1223597 & 0.1224192\\\\\n",
       "\t IZ\\_Hébergement et restauration                          & 10.86973784 & 10.25028473 & 4.4922944 & 4.6063096\\\\\n",
       "\t JA\\_Edition et audiovisuel                               &  2.32131228 &  2.04676527 & 1.8309591 & 1.8389158\\\\\n",
       "\t JB-JC\\_Télécommunications et ativités informatiques      &  0.88960541 &  0.79415094 & 5.8023678 & 5.9715706\\\\\n",
       "\t LZ\\_Activités immobilières                               &  0.66954291 &  0.63883949 & 2.2413510 & 2.2295479\\\\\n",
       "\t MA\\_Activités juridiques, de conseil et d'ingénierie     &  1.99551673 &  1.88837317 & 0.9941560 & 0.9886475\\\\\n",
       "\t MB-MC\\_R\\&d et autres activités scientifiques et techniqu &  1.08487504 &  0.75818214 & 1.2380865 & 1.2537301\\\\\n",
       "\t NZ\\_Activités de services administratifs et de soutien   &  8.01143136 &  7.43114343 & 2.6368824 & 2.6778356\\\\\n",
       "\t RZ\\_Arts, spectacles et activités récréatives            & 11.59272651 &  9.70989896 & 0.9651985 & 0.9651500\\\\\n",
       "\t SZ\\_autres activités de services                         & 23.08925603 & 21.63328557 & 0.7498654 & 0.7466692\\\\\n",
       "\t i\\_Industrie et agriculture                              &  3.16775710 &  2.98732037 & 4.5690862 & 4.6871640\\\\\n",
       "\\end{tabular}\n"
      ],
      "text/markdown": [
       "\n",
       "A data.frame: 26 × 5\n",
       "\n",
       "| secteurs &lt;chr&gt; | RMSE &lt;dbl&gt; | MAE &lt;dbl&gt; | MAPE &lt;dbl&gt; | sMAPE &lt;dbl&gt; |\n",
       "|---|---|---|---|---|\n",
       "| 64 Activités des services financiers, hors assurance et |  3.61067661 |  3.31477521 | 0.3073121 | 0.3067505 |\n",
       "| 65-66 Assurance ; Activités auxiliaires de services fin |  4.25867136 |  3.60336069 | 0.9399463 | 0.9437571 |\n",
       "| 852 Enseignement primaire                               |  1.61231390 |  0.89687286 | 1.2412261 | 1.2663834 |\n",
       "| 853 Enseignement secondaire                             |  0.72944453 |  0.61050086 | 0.4181439 | 0.4193450 |\n",
       "| 85x Enseignement / Autre                                | 17.62592902 | 14.79338920 | 1.3932661 | 1.3796888 |\n",
       "| 861 Activités hospitalières                             |  0.78893859 |  0.74391049 | 0.7673666 | 0.7659131 |\n",
       "| 862 Activité des médecins et des dentistes              |  2.32091763 |  1.87370109 | 1.0484998 | 1.0561280 |\n",
       "| 869 Autres activités pour la santé humaine              |  2.90865655 |  2.73328015 | 1.9625830 | 1.9845359 |\n",
       "| 87 Hébergement médico-social et social                  |  2.20258441 |  2.16375069 | 0.2205194 | 0.2207714 |\n",
       "| 881 Action sociale sans hébergement pour personnes âgée |  3.09016315 |  2.56292640 | 0.4649217 | 0.4658619 |\n",
       "| 889 Autre action sociale sans hébergement               | 14.63485399 | 14.42694775 | 0.9687136 | 0.9735580 |\n",
       "| 931 Activités liées au sport                            | 32.51875907 | 32.03127783 | 2.3697036 | 2.3411316 |\n",
       "| 932 Activités récréatives et de loisirs                 |  5.71081611 |  5.28997916 | 3.1847785 | 3.1283016 |\n",
       "| FZ_Construction                                         |  1.73616493 |  1.25114809 | 3.2939891 | 3.3961366 |\n",
       "| GZ_Commerce, réparation d'automobiles et de motocycles  |  6.94823944 |  5.85753025 | 4.0461218 | 4.1628958 |\n",
       "| HZ_Transports et entreposage                            |  0.01513239 |  0.01345956 | 0.1223597 | 0.1224192 |\n",
       "| IZ_Hébergement et restauration                          | 10.86973784 | 10.25028473 | 4.4922944 | 4.6063096 |\n",
       "| JA_Edition et audiovisuel                               |  2.32131228 |  2.04676527 | 1.8309591 | 1.8389158 |\n",
       "| JB-JC_Télécommunications et ativités informatiques      |  0.88960541 |  0.79415094 | 5.8023678 | 5.9715706 |\n",
       "| LZ_Activités immobilières                               |  0.66954291 |  0.63883949 | 2.2413510 | 2.2295479 |\n",
       "| MA_Activités juridiques, de conseil et d'ingénierie     |  1.99551673 |  1.88837317 | 0.9941560 | 0.9886475 |\n",
       "| MB-MC_R&amp;d et autres activités scientifiques et techniqu |  1.08487504 |  0.75818214 | 1.2380865 | 1.2537301 |\n",
       "| NZ_Activités de services administratifs et de soutien   |  8.01143136 |  7.43114343 | 2.6368824 | 2.6778356 |\n",
       "| RZ_Arts, spectacles et activités récréatives            | 11.59272651 |  9.70989896 | 0.9651985 | 0.9651500 |\n",
       "| SZ_autres activités de services                         | 23.08925603 | 21.63328557 | 0.7498654 | 0.7466692 |\n",
       "| i_Industrie et agriculture                              |  3.16775710 |  2.98732037 | 4.5690862 | 4.6871640 |\n",
       "\n"
      ],
      "text/plain": [
       "   secteurs                                                RMSE       \n",
       "1  64 Activités des services financiers, hors assurance et  3.61067661\n",
       "2  65-66 Assurance ; Activités auxiliaires de services fin  4.25867136\n",
       "3  852 Enseignement primaire                                1.61231390\n",
       "4  853 Enseignement secondaire                              0.72944453\n",
       "5  85x Enseignement / Autre                                17.62592902\n",
       "6  861 Activités hospitalières                              0.78893859\n",
       "7  862 Activité des médecins et des dentistes               2.32091763\n",
       "8  869 Autres activités pour la santé humaine               2.90865655\n",
       "9  87 Hébergement médico-social et social                   2.20258441\n",
       "10 881 Action sociale sans hébergement pour personnes âgée  3.09016315\n",
       "11 889 Autre action sociale sans hébergement               14.63485399\n",
       "12 931 Activités liées au sport                            32.51875907\n",
       "13 932 Activités récréatives et de loisirs                  5.71081611\n",
       "14 FZ_Construction                                          1.73616493\n",
       "15 GZ_Commerce, réparation d'automobiles et de motocycles   6.94823944\n",
       "16 HZ_Transports et entreposage                             0.01513239\n",
       "17 IZ_Hébergement et restauration                          10.86973784\n",
       "18 JA_Edition et audiovisuel                                2.32131228\n",
       "19 JB-JC_Télécommunications et ativités informatiques       0.88960541\n",
       "20 LZ_Activités immobilières                                0.66954291\n",
       "21 MA_Activités juridiques, de conseil et d'ingénierie      1.99551673\n",
       "22 MB-MC_R&d et autres activités scientifiques et techniqu  1.08487504\n",
       "23 NZ_Activités de services administratifs et de soutien    8.01143136\n",
       "24 RZ_Arts, spectacles et activités récréatives            11.59272651\n",
       "25 SZ_autres activités de services                         23.08925603\n",
       "26 i_Industrie et agriculture                               3.16775710\n",
       "   MAE         MAPE      sMAPE    \n",
       "1   3.31477521 0.3073121 0.3067505\n",
       "2   3.60336069 0.9399463 0.9437571\n",
       "3   0.89687286 1.2412261 1.2663834\n",
       "4   0.61050086 0.4181439 0.4193450\n",
       "5  14.79338920 1.3932661 1.3796888\n",
       "6   0.74391049 0.7673666 0.7659131\n",
       "7   1.87370109 1.0484998 1.0561280\n",
       "8   2.73328015 1.9625830 1.9845359\n",
       "9   2.16375069 0.2205194 0.2207714\n",
       "10  2.56292640 0.4649217 0.4658619\n",
       "11 14.42694775 0.9687136 0.9735580\n",
       "12 32.03127783 2.3697036 2.3411316\n",
       "13  5.28997916 3.1847785 3.1283016\n",
       "14  1.25114809 3.2939891 3.3961366\n",
       "15  5.85753025 4.0461218 4.1628958\n",
       "16  0.01345956 0.1223597 0.1224192\n",
       "17 10.25028473 4.4922944 4.6063096\n",
       "18  2.04676527 1.8309591 1.8389158\n",
       "19  0.79415094 5.8023678 5.9715706\n",
       "20  0.63883949 2.2413510 2.2295479\n",
       "21  1.88837317 0.9941560 0.9886475\n",
       "22  0.75818214 1.2380865 1.2537301\n",
       "23  7.43114343 2.6368824 2.6778356\n",
       "24  9.70989896 0.9651985 0.9651500\n",
       "25 21.63328557 0.7498654 0.7466692\n",
       "26  2.98732037 4.5690862 4.6871640"
      ]
     },
     "metadata": {},
     "output_type": "display_data"
    }
   ],
   "source": [
    "predict_accuracy_nonstable <- cbind(\"secteurs\"=lab.to.num$lab,RMSE,MAE,MAPE,sMAPE)\n",
    "predict_accuracy_nonstable"
   ]
  },
  {
   "cell_type": "markdown",
   "metadata": {},
   "source": [
    "<hr>\n",
    "\n",
    "## II.A.2 Evaluation : LSTM model with stable TS"
   ]
  },
  {
   "cell_type": "code",
   "execution_count": 61,
   "metadata": {
    "vscode": {
     "languageId": "r"
    }
   },
   "outputs": [],
   "source": [
    "df.diff <-diff(df.ts)\n",
    "df.train <-df.diff%>%as.data.frame\n",
    "scaled_train <- scale(df.train)\n",
    "scale_factor <-list(\"center\"=attr(scaled_train,\"scaled:center\"),\"sd\"=attr(scaled_train,\"scaled:scale\"))\n",
    "prediction <- 6\n",
    "lag <- prediction"
   ]
  },
  {
   "cell_type": "code",
   "execution_count": 62,
   "metadata": {
    "vscode": {
     "languageId": "r"
    }
   },
   "outputs": [
    {
     "name": "stdout",
     "output_type": "stream",
     "text": [
      "X_train interval : 1 2 3 4 5 6 7 8 9 10 11 12 13 14 15 16 17 18 19 20 21 22 23 24 25 26 27 28 \n",
      "Y_train interval : 7 8 9 10 11 12 13 14 15 16 17 18 19 20 21 22 23 24 25 26 27 28 29 30 31 32 33 34"
     ]
    }
   ],
   "source": [
    "x_train_data <-t(sapply(\n",
    "    1:(dim(scaled_train)[1]-lag-prediction +1),\n",
    "    function(x){scaled_train[x:(x+lag-1),1]}\n",
    "))\n",
    "\n",
    "for(i in 2:ncol(scaled_train)){\n",
    "    new <-t(sapply(\n",
    "        1:(dim(scaled_train)[1]-lag-prediction +1),\n",
    "        function(x){scaled_train[x:(x+lag-1),i]}\n",
    "    ))\n",
    "    x_train_data <-cbind(x_train_data,new)\n",
    "    \n",
    "}\n",
    "\n",
    "x_train_arr <- array(\n",
    "    data=as.numeric(unlist(x_train_data)),\n",
    "    dim=c(\n",
    "        nrow(x_train_data),\n",
    "        ncol(x_train_data),\n",
    "        1\n",
    "        )\n",
    "\n",
    ")\n",
    "\n",
    "y_train_data <-  t(sapply(\n",
    "    (1+lag):(dim(scaled_train)[1]-prediction +1),\n",
    "    function(x){scaled_train[x:(x+prediction-1),1]}\n",
    "))\n",
    "y_train_arr <-array(\n",
    "    data=as.numeric(unlist(y_train_data)),\n",
    "    dim=c(\n",
    "        nrow(y_train_data),\n",
    "        prediction,\n",
    "        1\n",
    "    )\n",
    ")\n",
    "cat(\"X_train interval :\",1:(dim(scaled_train)[1]-lag-prediction +1),\n",
    "\"\\nY_train interval :\",\n",
    "(1+lag):(dim(scaled_train)[1]-prediction +1))\n",
    "\n",
    "# Expected :  X_train 1:28, Y_train 7:34\n"
   ]
  },
  {
   "cell_type": "code",
   "execution_count": 63,
   "metadata": {
    "vscode": {
     "languageId": "r"
    }
   },
   "outputs": [
    {
     "data": {
      "text/html": [
       "<style>\n",
       ".list-inline {list-style: none; margin:0; padding: 0}\n",
       ".list-inline>li {display: inline-block}\n",
       ".list-inline>li:not(:last-child)::after {content: \"\\00b7\"; padding: 0 .5ex}\n",
       "</style>\n",
       "<ol class=list-inline><li>28</li><li>156</li><li>1</li></ol>\n"
      ],
      "text/latex": [
       "\\begin{enumerate*}\n",
       "\\item 28\n",
       "\\item 156\n",
       "\\item 1\n",
       "\\end{enumerate*}\n"
      ],
      "text/markdown": [
       "1. 28\n",
       "2. 156\n",
       "3. 1\n",
       "\n",
       "\n"
      ],
      "text/plain": [
       "[1]  28 156   1"
      ]
     },
     "metadata": {},
     "output_type": "display_data"
    },
    {
     "data": {
      "text/html": [
       "<style>\n",
       ".list-inline {list-style: none; margin:0; padding: 0}\n",
       ".list-inline>li {display: inline-block}\n",
       ".list-inline>li:not(:last-child)::after {content: \"\\00b7\"; padding: 0 .5ex}\n",
       "</style>\n",
       "<ol class=list-inline><li>28</li><li>6</li><li>1</li></ol>\n"
      ],
      "text/latex": [
       "\\begin{enumerate*}\n",
       "\\item 28\n",
       "\\item 6\n",
       "\\item 1\n",
       "\\end{enumerate*}\n"
      ],
      "text/markdown": [
       "1. 28\n",
       "2. 6\n",
       "3. 1\n",
       "\n",
       "\n"
      ],
      "text/plain": [
       "[1] 28  6  1"
      ]
     },
     "metadata": {},
     "output_type": "display_data"
    }
   ],
   "source": [
    "x_train_arr %>%dim\n",
    "y_train_arr%>%dim"
   ]
  },
  {
   "cell_type": "code",
   "execution_count": 65,
   "metadata": {
    "vscode": {
     "languageId": "r"
    }
   },
   "outputs": [
    {
     "data": {
      "text/html": [
       "<style>\n",
       ".list-inline {list-style: none; margin:0; padding: 0}\n",
       ".list-inline>li {display: inline-block}\n",
       ".list-inline>li:not(:last-child)::after {content: \"\\00b7\"; padding: 0 .5ex}\n",
       "</style>\n",
       "<ol class=list-inline><li>28</li><li>6</li><li>26</li></ol>\n"
      ],
      "text/latex": [
       "\\begin{enumerate*}\n",
       "\\item 28\n",
       "\\item 6\n",
       "\\item 26\n",
       "\\end{enumerate*}\n"
      ],
      "text/markdown": [
       "1. 28\n",
       "2. 6\n",
       "3. 26\n",
       "\n",
       "\n"
      ],
      "text/plain": [
       "[1] 28  6 26"
      ]
     },
     "metadata": {},
     "output_type": "display_data"
    },
    {
     "data": {
      "text/html": [
       "<style>\n",
       ".list-inline {list-style: none; margin:0; padding: 0}\n",
       ".list-inline>li {display: inline-block}\n",
       ".list-inline>li:not(:last-child)::after {content: \"\\00b7\"; padding: 0 .5ex}\n",
       "</style>\n",
       "<ol class=list-inline><li>28</li><li>6</li><li>26</li></ol>\n"
      ],
      "text/latex": [
       "\\begin{enumerate*}\n",
       "\\item 28\n",
       "\\item 6\n",
       "\\item 26\n",
       "\\end{enumerate*}\n"
      ],
      "text/markdown": [
       "1. 28\n",
       "2. 6\n",
       "3. 26\n",
       "\n",
       "\n"
      ],
      "text/plain": [
       "[1] 28  6 26"
      ]
     },
     "metadata": {},
     "output_type": "display_data"
    }
   ],
   "source": [
    "#--------------------------------\n",
    "# Restructur data inputs for LSTM multivariate\n",
    "\n",
    "x_bis <-sapply(\n",
    "        1:ncol(scaled_train),\n",
    "        function(x){scaled_train[1:(28-1+1),x]}\n",
    ")\n",
    "\n",
    "x_bis_first_array <-array(\n",
    "    data=unlist(x_bis),\n",
    "    dim=c(nrow(x_bis),1,ncol(x_bis))\n",
    ")\n",
    "tot_array <-array(NA, dim=c(\n",
    "    nrow(x_bis),\n",
    "    6,\n",
    "    ncol(x_bis)\n",
    "))\n",
    "tot_array[,1,] <- x_bis_first_array\n",
    "\n",
    "\n",
    "for (i in 2:6){\n",
    "    new <-sapply(\n",
    "        1:ncol(scaled_train),\n",
    "        function(x){scaled_train[i:(i+28-1),x]}\n",
    "    )\n",
    "    new <- array(\n",
    "        data=unlist(new),\n",
    "        dim=c(nrow(x_bis),1,ncol(x_bis))\n",
    "    )\n",
    "    tot_array[,i,] <- new\n",
    "}\n",
    "x_train_arr_bis <- tot_array\n",
    "\n",
    "\n",
    "y_train_data_bis <-  t(sapply(\n",
    "    (1+lag):(dim(scaled_train)[1]-prediction +1),\n",
    "    function(x){scaled_train[x:(x+prediction-1),1]}\n",
    "))\n",
    "\n",
    "tot_array <-array(NA, dim=c(\n",
    "    nrow(y_train_data_bis),\n",
    "    6,\n",
    "    ncol(scaled_train)\n",
    "))\n",
    "\n",
    "tot_array[,,1] <- y_train_data_bis\n",
    "\n",
    "for (i in 2:ncol(scaled_train)){\n",
    "    new <-  t(sapply(\n",
    "        (1+lag):(dim(scaled_train)[1]-prediction +1),\n",
    "        function(x){scaled_train[x:(x+prediction-1),i]}\n",
    "    ))\n",
    "\n",
    "    new_array <- array(\n",
    "        data=as.numeric(unlist(new)),\n",
    "        dim=c(nrow(new),\n",
    "        ncol(new),\n",
    "        1)\n",
    "    )\n",
    "    tot_array[,,i] <- new_array\n",
    "\n",
    "}\n",
    "\n",
    "y_train_arr_bis <- tot_array\n",
    "x_train_arr_bis%>%dim\n",
    "y_train_arr_bis %>% dim"
   ]
  },
  {
   "cell_type": "code",
   "execution_count": 66,
   "metadata": {
    "vscode": {
     "languageId": "r"
    }
   },
   "outputs": [],
   "source": [
    "LSTM_model_stable_eval <- keras_model_sequential()\n",
    "LSTM_model_stable_eval%>% layer_lstm(\n",
    "    units=50,\n",
    "    batch_input_shape=c(1,6,26),#BATCH size , timestep ,features\n",
    "    return_sequences=T,\n",
    "    stateful=T\n",
    "\n",
    ")%>%\n",
    "layer_dropout(rate=0.5)%>%layer_lstm(\n",
    "    units =50,\n",
    "    return_sequences=T,stateful=T\n",
    ")%>% layer_dropout(rate=0.5)%>% time_distributed(keras::layer_dense(units=26))\n"
   ]
  },
  {
   "cell_type": "code",
   "execution_count": 67,
   "metadata": {
    "vscode": {
     "languageId": "r"
    }
   },
   "outputs": [
    {
     "name": "stdout",
     "output_type": "stream",
     "text": [
      "Model: \"sequential_1\"\n",
      "________________________________________________________________________________\n",
      " Layer (type)                       Output Shape                    Param #     \n",
      "================================================================================\n",
      " lstm_3 (LSTM)                      (1, 6, 50)                      15400       \n",
      " dropout_3 (Dropout)                (1, 6, 50)                      0           \n",
      " lstm_2 (LSTM)                      (1, 6, 50)                      20200       \n",
      " dropout_2 (Dropout)                (1, 6, 50)                      0           \n",
      " time_distributed_1 (TimeDistribute  (1, 6, 26)                     1326        \n",
      " d)                                                                             \n",
      "================================================================================\n",
      "Total params: 36,926\n",
      "Trainable params: 36,926\n",
      "Non-trainable params: 0\n",
      "________________________________________________________________________________\n"
     ]
    }
   ],
   "source": [
    "LSTM_model_stable_eval %>% compile(loss='mae',optimizer='adam',metrics='accuracy')\n",
    "summary(LSTM_model_stable_eval)"
   ]
  },
  {
   "cell_type": "code",
   "execution_count": 69,
   "metadata": {
    "vscode": {
     "languageId": "r"
    }
   },
   "outputs": [
    {
     "name": "stdout",
     "output_type": "stream",
     "text": [
      "[1] \" X_test\"\n"
     ]
    },
    {
     "data": {
      "text/html": [
       "<table class=\"dataframe\">\n",
       "<caption>A data.frame: 6 × 26</caption>\n",
       "<thead>\n",
       "\t<tr><th></th><th scope=col>1</th><th scope=col>2</th><th scope=col>3</th><th scope=col>4</th><th scope=col>5</th><th scope=col>6</th><th scope=col>7</th><th scope=col>8</th><th scope=col>9</th><th scope=col>10</th><th scope=col>⋯</th><th scope=col>17</th><th scope=col>18</th><th scope=col>19</th><th scope=col>20</th><th scope=col>21</th><th scope=col>22</th><th scope=col>23</th><th scope=col>24</th><th scope=col>25</th><th scope=col>26</th></tr>\n",
       "\t<tr><th></th><th scope=col>&lt;dbl&gt;</th><th scope=col>&lt;dbl&gt;</th><th scope=col>&lt;dbl&gt;</th><th scope=col>&lt;dbl&gt;</th><th scope=col>&lt;dbl&gt;</th><th scope=col>&lt;dbl&gt;</th><th scope=col>&lt;dbl&gt;</th><th scope=col>&lt;dbl&gt;</th><th scope=col>&lt;dbl&gt;</th><th scope=col>&lt;dbl&gt;</th><th scope=col>⋯</th><th scope=col>&lt;dbl&gt;</th><th scope=col>&lt;dbl&gt;</th><th scope=col>&lt;dbl&gt;</th><th scope=col>&lt;dbl&gt;</th><th scope=col>&lt;dbl&gt;</th><th scope=col>&lt;dbl&gt;</th><th scope=col>&lt;dbl&gt;</th><th scope=col>&lt;dbl&gt;</th><th scope=col>&lt;dbl&gt;</th><th scope=col>&lt;dbl&gt;</th></tr>\n",
       "</thead>\n",
       "<tbody>\n",
       "\t<tr><th scope=row>28</th><td>-0.007441709</td><td>-0.16319405</td><td> 0.87008959</td><td>-0.4029005</td><td>-1.50567174</td><td> 0.57844364</td><td> 0.92985654</td><td>-1.3814269</td><td> 1.05174586</td><td> 0.5548215</td><td>⋯</td><td> 0.004506226</td><td>-1.4100094</td><td> 0.06999538</td><td>0.0588068</td><td> 1.4724125</td><td>-0.78444517</td><td>-1.79277629</td><td>-0.9185998</td><td>-0.8988872</td><td>-0.7570491</td></tr>\n",
       "\t<tr><th scope=row>29</th><td>-0.131824555</td><td>-0.05346012</td><td>-0.07250747</td><td>-0.4029005</td><td> 0.22257756</td><td>-0.67485091</td><td> 2.59992783</td><td>-1.3814269</td><td>-0.35298320</td><td>-0.2044079</td><td>⋯</td><td>-0.083365181</td><td>-0.4779693</td><td>-0.61245961</td><td>0.0588068</td><td> 0.9357388</td><td> 1.31099056</td><td> 0.65060430</td><td> 1.0051228</td><td> 1.2456847</td><td> 0.2437955</td></tr>\n",
       "\t<tr><th scope=row>30</th><td>-0.380590246</td><td>-0.16319405</td><td>-0.07250747</td><td> 0.1389312</td><td>-1.19144460</td><td>-1.30149818</td><td>-0.74021475</td><td>-0.2228108</td><td> 0.77080005</td><td> 0.5548215</td><td>⋯</td><td> 1.058963107</td><td>-0.9439893</td><td> 0.06999538</td><td>0.0588068</td><td>-2.2843034</td><td> 0.05372912</td><td>-1.98072864</td><td>-1.4862556</td><td>-0.7273215</td><td> 1.7450622</td></tr>\n",
       "\t<tr><th scope=row>31</th><td>-0.297668349</td><td>-0.05346012</td><td> 0.87008959</td><td> 0.1389312</td><td> 0.65463989</td><td>-0.04820364</td><td>-0.50163313</td><td>-0.2228108</td><td>-0.07203739</td><td>-0.2044079</td><td>⋯</td><td>-1.006014951</td><td> 0.6870808</td><td>-0.61245961</td><td>0.0588068</td><td>-0.4059455</td><td>-2.04170661</td><td>-0.66506217</td><td> 1.6358515</td><td>-1.0990473</td><td>-0.2566268</td></tr>\n",
       "\t<tr><th scope=row>32</th><td>-0.131824555</td><td>-0.05346012</td><td>-1.01510452</td><td> 0.6807629</td><td>-0.40587673</td><td> 1.83173818</td><td>-0.02446991</td><td>-1.3814269</td><td> 1.33269168</td><td>-0.9636374</td><td>⋯</td><td> 0.004506226</td><td> 0.2210608</td><td> 0.75245037</td><td>1.7789056</td><td>-2.0159666</td><td> 0.89190341</td><td>-2.35663335</td><td>-1.2339641</td><td>-0.8702929</td><td>-1.7578936</td></tr>\n",
       "\t<tr><th scope=row>33</th><td> 0.116941137</td><td>-0.16319405</td><td>-0.07250747</td><td> 0.6807629</td><td>-0.05237119</td><td>-1.30149818</td><td>-0.50163313</td><td> 0.9358053</td><td>-0.91487483</td><td> 0.1752068</td><td>⋯</td><td> 0.136313336</td><td>-1.1769993</td><td>-1.97736959</td><td>0.0588068</td><td> 0.9357388</td><td>-0.36535803</td><td> 0.08674724</td><td> 0.6582220</td><td>-0.3270014</td><td> 0.7442177</td></tr>\n",
       "</tbody>\n",
       "</table>\n"
      ],
      "text/latex": [
       "A data.frame: 6 × 26\n",
       "\\begin{tabular}{r|lllllllllllllllllllll}\n",
       "  & 1 & 2 & 3 & 4 & 5 & 6 & 7 & 8 & 9 & 10 & ⋯ & 17 & 18 & 19 & 20 & 21 & 22 & 23 & 24 & 25 & 26\\\\\n",
       "  & <dbl> & <dbl> & <dbl> & <dbl> & <dbl> & <dbl> & <dbl> & <dbl> & <dbl> & <dbl> & ⋯ & <dbl> & <dbl> & <dbl> & <dbl> & <dbl> & <dbl> & <dbl> & <dbl> & <dbl> & <dbl>\\\\\n",
       "\\hline\n",
       "\t28 & -0.007441709 & -0.16319405 &  0.87008959 & -0.4029005 & -1.50567174 &  0.57844364 &  0.92985654 & -1.3814269 &  1.05174586 &  0.5548215 & ⋯ &  0.004506226 & -1.4100094 &  0.06999538 & 0.0588068 &  1.4724125 & -0.78444517 & -1.79277629 & -0.9185998 & -0.8988872 & -0.7570491\\\\\n",
       "\t29 & -0.131824555 & -0.05346012 & -0.07250747 & -0.4029005 &  0.22257756 & -0.67485091 &  2.59992783 & -1.3814269 & -0.35298320 & -0.2044079 & ⋯ & -0.083365181 & -0.4779693 & -0.61245961 & 0.0588068 &  0.9357388 &  1.31099056 &  0.65060430 &  1.0051228 &  1.2456847 &  0.2437955\\\\\n",
       "\t30 & -0.380590246 & -0.16319405 & -0.07250747 &  0.1389312 & -1.19144460 & -1.30149818 & -0.74021475 & -0.2228108 &  0.77080005 &  0.5548215 & ⋯ &  1.058963107 & -0.9439893 &  0.06999538 & 0.0588068 & -2.2843034 &  0.05372912 & -1.98072864 & -1.4862556 & -0.7273215 &  1.7450622\\\\\n",
       "\t31 & -0.297668349 & -0.05346012 &  0.87008959 &  0.1389312 &  0.65463989 & -0.04820364 & -0.50163313 & -0.2228108 & -0.07203739 & -0.2044079 & ⋯ & -1.006014951 &  0.6870808 & -0.61245961 & 0.0588068 & -0.4059455 & -2.04170661 & -0.66506217 &  1.6358515 & -1.0990473 & -0.2566268\\\\\n",
       "\t32 & -0.131824555 & -0.05346012 & -1.01510452 &  0.6807629 & -0.40587673 &  1.83173818 & -0.02446991 & -1.3814269 &  1.33269168 & -0.9636374 & ⋯ &  0.004506226 &  0.2210608 &  0.75245037 & 1.7789056 & -2.0159666 &  0.89190341 & -2.35663335 & -1.2339641 & -0.8702929 & -1.7578936\\\\\n",
       "\t33 &  0.116941137 & -0.16319405 & -0.07250747 &  0.6807629 & -0.05237119 & -1.30149818 & -0.50163313 &  0.9358053 & -0.91487483 &  0.1752068 & ⋯ &  0.136313336 & -1.1769993 & -1.97736959 & 0.0588068 &  0.9357388 & -0.36535803 &  0.08674724 &  0.6582220 & -0.3270014 &  0.7442177\\\\\n",
       "\\end{tabular}\n"
      ],
      "text/markdown": [
       "\n",
       "A data.frame: 6 × 26\n",
       "\n",
       "| <!--/--> | 1 &lt;dbl&gt; | 2 &lt;dbl&gt; | 3 &lt;dbl&gt; | 4 &lt;dbl&gt; | 5 &lt;dbl&gt; | 6 &lt;dbl&gt; | 7 &lt;dbl&gt; | 8 &lt;dbl&gt; | 9 &lt;dbl&gt; | 10 &lt;dbl&gt; | ⋯ ⋯ | 17 &lt;dbl&gt; | 18 &lt;dbl&gt; | 19 &lt;dbl&gt; | 20 &lt;dbl&gt; | 21 &lt;dbl&gt; | 22 &lt;dbl&gt; | 23 &lt;dbl&gt; | 24 &lt;dbl&gt; | 25 &lt;dbl&gt; | 26 &lt;dbl&gt; |\n",
       "|---|---|---|---|---|---|---|---|---|---|---|---|---|---|---|---|---|---|---|---|---|---|\n",
       "| 28 | -0.007441709 | -0.16319405 |  0.87008959 | -0.4029005 | -1.50567174 |  0.57844364 |  0.92985654 | -1.3814269 |  1.05174586 |  0.5548215 | ⋯ |  0.004506226 | -1.4100094 |  0.06999538 | 0.0588068 |  1.4724125 | -0.78444517 | -1.79277629 | -0.9185998 | -0.8988872 | -0.7570491 |\n",
       "| 29 | -0.131824555 | -0.05346012 | -0.07250747 | -0.4029005 |  0.22257756 | -0.67485091 |  2.59992783 | -1.3814269 | -0.35298320 | -0.2044079 | ⋯ | -0.083365181 | -0.4779693 | -0.61245961 | 0.0588068 |  0.9357388 |  1.31099056 |  0.65060430 |  1.0051228 |  1.2456847 |  0.2437955 |\n",
       "| 30 | -0.380590246 | -0.16319405 | -0.07250747 |  0.1389312 | -1.19144460 | -1.30149818 | -0.74021475 | -0.2228108 |  0.77080005 |  0.5548215 | ⋯ |  1.058963107 | -0.9439893 |  0.06999538 | 0.0588068 | -2.2843034 |  0.05372912 | -1.98072864 | -1.4862556 | -0.7273215 |  1.7450622 |\n",
       "| 31 | -0.297668349 | -0.05346012 |  0.87008959 |  0.1389312 |  0.65463989 | -0.04820364 | -0.50163313 | -0.2228108 | -0.07203739 | -0.2044079 | ⋯ | -1.006014951 |  0.6870808 | -0.61245961 | 0.0588068 | -0.4059455 | -2.04170661 | -0.66506217 |  1.6358515 | -1.0990473 | -0.2566268 |\n",
       "| 32 | -0.131824555 | -0.05346012 | -1.01510452 |  0.6807629 | -0.40587673 |  1.83173818 | -0.02446991 | -1.3814269 |  1.33269168 | -0.9636374 | ⋯ |  0.004506226 |  0.2210608 |  0.75245037 | 1.7789056 | -2.0159666 |  0.89190341 | -2.35663335 | -1.2339641 | -0.8702929 | -1.7578936 |\n",
       "| 33 |  0.116941137 | -0.16319405 | -0.07250747 |  0.6807629 | -0.05237119 | -1.30149818 | -0.50163313 |  0.9358053 | -0.91487483 |  0.1752068 | ⋯ |  0.136313336 | -1.1769993 | -1.97736959 | 0.0588068 |  0.9357388 | -0.36535803 |  0.08674724 |  0.6582220 | -0.3270014 |  0.7442177 |\n",
       "\n"
      ],
      "text/plain": [
       "   1            2           3           4          5           6          \n",
       "28 -0.007441709 -0.16319405  0.87008959 -0.4029005 -1.50567174  0.57844364\n",
       "29 -0.131824555 -0.05346012 -0.07250747 -0.4029005  0.22257756 -0.67485091\n",
       "30 -0.380590246 -0.16319405 -0.07250747  0.1389312 -1.19144460 -1.30149818\n",
       "31 -0.297668349 -0.05346012  0.87008959  0.1389312  0.65463989 -0.04820364\n",
       "32 -0.131824555 -0.05346012 -1.01510452  0.6807629 -0.40587673  1.83173818\n",
       "33  0.116941137 -0.16319405 -0.07250747  0.6807629 -0.05237119 -1.30149818\n",
       "   7           8          9           10         ⋯ 17           18        \n",
       "28  0.92985654 -1.3814269  1.05174586  0.5548215 ⋯  0.004506226 -1.4100094\n",
       "29  2.59992783 -1.3814269 -0.35298320 -0.2044079 ⋯ -0.083365181 -0.4779693\n",
       "30 -0.74021475 -0.2228108  0.77080005  0.5548215 ⋯  1.058963107 -0.9439893\n",
       "31 -0.50163313 -0.2228108 -0.07203739 -0.2044079 ⋯ -1.006014951  0.6870808\n",
       "32 -0.02446991 -1.3814269  1.33269168 -0.9636374 ⋯  0.004506226  0.2210608\n",
       "33 -0.50163313  0.9358053 -0.91487483  0.1752068 ⋯  0.136313336 -1.1769993\n",
       "   19          20        21         22          23          24        \n",
       "28  0.06999538 0.0588068  1.4724125 -0.78444517 -1.79277629 -0.9185998\n",
       "29 -0.61245961 0.0588068  0.9357388  1.31099056  0.65060430  1.0051228\n",
       "30  0.06999538 0.0588068 -2.2843034  0.05372912 -1.98072864 -1.4862556\n",
       "31 -0.61245961 0.0588068 -0.4059455 -2.04170661 -0.66506217  1.6358515\n",
       "32  0.75245037 1.7789056 -2.0159666  0.89190341 -2.35663335 -1.2339641\n",
       "33 -1.97736959 0.0588068  0.9357388 -0.36535803  0.08674724  0.6582220\n",
       "   25         26        \n",
       "28 -0.8988872 -0.7570491\n",
       "29  1.2456847  0.2437955\n",
       "30 -0.7273215  1.7450622\n",
       "31 -1.0990473 -0.2566268\n",
       "32 -0.8702929 -1.7578936\n",
       "33 -0.3270014  0.7442177"
      ]
     },
     "metadata": {},
     "output_type": "display_data"
    },
    {
     "name": "stdout",
     "output_type": "stream",
     "text": [
      "[1] \"Y_test\"\n"
     ]
    },
    {
     "data": {
      "text/html": [
       "<table class=\"dataframe\">\n",
       "<caption>A data.frame: 6 × 26</caption>\n",
       "<thead>\n",
       "\t<tr><th></th><th scope=col>1</th><th scope=col>2</th><th scope=col>3</th><th scope=col>4</th><th scope=col>5</th><th scope=col>6</th><th scope=col>7</th><th scope=col>8</th><th scope=col>9</th><th scope=col>10</th><th scope=col>⋯</th><th scope=col>17</th><th scope=col>18</th><th scope=col>19</th><th scope=col>20</th><th scope=col>21</th><th scope=col>22</th><th scope=col>23</th><th scope=col>24</th><th scope=col>25</th><th scope=col>26</th></tr>\n",
       "\t<tr><th></th><th scope=col>&lt;dbl&gt;</th><th scope=col>&lt;dbl&gt;</th><th scope=col>&lt;dbl&gt;</th><th scope=col>&lt;dbl&gt;</th><th scope=col>&lt;dbl&gt;</th><th scope=col>&lt;dbl&gt;</th><th scope=col>&lt;dbl&gt;</th><th scope=col>&lt;dbl&gt;</th><th scope=col>&lt;dbl&gt;</th><th scope=col>&lt;dbl&gt;</th><th scope=col>⋯</th><th scope=col>&lt;dbl&gt;</th><th scope=col>&lt;dbl&gt;</th><th scope=col>&lt;dbl&gt;</th><th scope=col>&lt;dbl&gt;</th><th scope=col>&lt;dbl&gt;</th><th scope=col>&lt;dbl&gt;</th><th scope=col>&lt;dbl&gt;</th><th scope=col>&lt;dbl&gt;</th><th scope=col>&lt;dbl&gt;</th><th scope=col>&lt;dbl&gt;</th></tr>\n",
       "</thead>\n",
       "<tbody>\n",
       "\t<tr><th scope=row>34</th><td>-0.339129297</td><td> 0.27574168</td><td>-0.07250747</td><td> 0.6807629</td><td>-1.3878366</td><td>-0.67485091</td><td>-0.5016331</td><td> 1.5151134</td><td> 1.33269168</td><td>-0.5840227</td><td>⋯</td><td> 1.0589631</td><td>-0.9439893</td><td>-0.61245961</td><td>-0.5145595</td><td>-1.2109560</td><td> 0.8919034</td><td> 0.46265195</td><td>-1.297037</td><td>-1.12764156</td><td> 1.2446400</td></tr>\n",
       "\t<tr><th scope=row>35</th><td> 0.116941137</td><td> 0.05627381</td><td>-0.07250747</td><td>-0.9447322</td><td> 0.5760831</td><td>-0.04820364</td><td>-0.2630515</td><td> 0.3564973</td><td>-0.07203739</td><td> 0.5548215</td><td>⋯</td><td>-0.9181435</td><td> 1.8521309</td><td> 0.75245037</td><td> 0.0588068</td><td> 0.6674019</td><td>-0.3653580</td><td> 0.08674724</td><td> 1.068196</td><td> 0.38785591</td><td> 0.7442177</td></tr>\n",
       "\t<tr><th scope=row>36</th><td>-0.090363606</td><td> 0.60494348</td><td>-0.07250747</td><td> 0.1389312</td><td>-0.1309280</td><td> 0.57844364</td><td> 1.1684382</td><td> 1.5151134</td><td> 0.77080005</td><td> 0.1752068</td><td>⋯</td><td> 0.1363133</td><td> 0.2210608</td><td> 0.75245037</td><td> 0.0588068</td><td> 0.3990651</td><td>-0.3653580</td><td>-0.28915747</td><td>-0.792454</td><td>-1.09904726</td><td>-1.2574713</td></tr>\n",
       "\t<tr><th scope=row>37</th><td>-0.007441709</td><td>-1.48000125</td><td>-0.07250747</td><td> 0.1389312</td><td> 0.2225776</td><td> 1.20509091</td><td> 0.2141117</td><td>-0.8021188</td><td>-0.35298320</td><td>-0.2044079</td><td>⋯</td><td> 0.2241847</td><td> 0.9200908</td><td> 0.06999538</td><td> 1.2055394</td><td> 0.6674019</td><td> 0.8919034</td><td> 0.08674724</td><td> 1.352024</td><td> 0.73098741</td><td> 0.2437955</td></tr>\n",
       "\t<tr><th scope=row>38</th><td>-0.297668349</td><td>-0.05346012</td><td> 1.81268664</td><td> 0.6807629</td><td> 0.1047424</td><td>-1.30149818</td><td>-0.7402147</td><td>-0.8021188</td><td> 0.48985424</td><td> 2.0732805</td><td>⋯</td><td> 0.8832203</td><td>-1.1769993</td><td> 0.06999538</td><td>-0.5145595</td><td>-0.9426192</td><td>-0.3653580</td><td> 1.59036606</td><td>-1.896229</td><td>-0.46997285</td><td> 0.2437955</td></tr>\n",
       "\t<tr><th scope=row>39</th><td> 0.075480188</td><td>-0.38266192</td><td> 1.81268664</td><td> 0.1389312</td><td> 0.6939183</td><td>-0.04820364</td><td>-0.5016331</td><td>-0.8021188</td><td>-0.63392901</td><td> 1.3140510</td><td>⋯</td><td>-0.9620792</td><td>-0.2449593</td><td> 0.06999538</td><td>-0.5145595</td><td> 0.9357388</td><td> 0.8919034</td><td>-0.47710982</td><td> 1.320487</td><td> 0.04472441</td><td> 1.7450622</td></tr>\n",
       "</tbody>\n",
       "</table>\n"
      ],
      "text/latex": [
       "A data.frame: 6 × 26\n",
       "\\begin{tabular}{r|lllllllllllllllllllll}\n",
       "  & 1 & 2 & 3 & 4 & 5 & 6 & 7 & 8 & 9 & 10 & ⋯ & 17 & 18 & 19 & 20 & 21 & 22 & 23 & 24 & 25 & 26\\\\\n",
       "  & <dbl> & <dbl> & <dbl> & <dbl> & <dbl> & <dbl> & <dbl> & <dbl> & <dbl> & <dbl> & ⋯ & <dbl> & <dbl> & <dbl> & <dbl> & <dbl> & <dbl> & <dbl> & <dbl> & <dbl> & <dbl>\\\\\n",
       "\\hline\n",
       "\t34 & -0.339129297 &  0.27574168 & -0.07250747 &  0.6807629 & -1.3878366 & -0.67485091 & -0.5016331 &  1.5151134 &  1.33269168 & -0.5840227 & ⋯ &  1.0589631 & -0.9439893 & -0.61245961 & -0.5145595 & -1.2109560 &  0.8919034 &  0.46265195 & -1.297037 & -1.12764156 &  1.2446400\\\\\n",
       "\t35 &  0.116941137 &  0.05627381 & -0.07250747 & -0.9447322 &  0.5760831 & -0.04820364 & -0.2630515 &  0.3564973 & -0.07203739 &  0.5548215 & ⋯ & -0.9181435 &  1.8521309 &  0.75245037 &  0.0588068 &  0.6674019 & -0.3653580 &  0.08674724 &  1.068196 &  0.38785591 &  0.7442177\\\\\n",
       "\t36 & -0.090363606 &  0.60494348 & -0.07250747 &  0.1389312 & -0.1309280 &  0.57844364 &  1.1684382 &  1.5151134 &  0.77080005 &  0.1752068 & ⋯ &  0.1363133 &  0.2210608 &  0.75245037 &  0.0588068 &  0.3990651 & -0.3653580 & -0.28915747 & -0.792454 & -1.09904726 & -1.2574713\\\\\n",
       "\t37 & -0.007441709 & -1.48000125 & -0.07250747 &  0.1389312 &  0.2225776 &  1.20509091 &  0.2141117 & -0.8021188 & -0.35298320 & -0.2044079 & ⋯ &  0.2241847 &  0.9200908 &  0.06999538 &  1.2055394 &  0.6674019 &  0.8919034 &  0.08674724 &  1.352024 &  0.73098741 &  0.2437955\\\\\n",
       "\t38 & -0.297668349 & -0.05346012 &  1.81268664 &  0.6807629 &  0.1047424 & -1.30149818 & -0.7402147 & -0.8021188 &  0.48985424 &  2.0732805 & ⋯ &  0.8832203 & -1.1769993 &  0.06999538 & -0.5145595 & -0.9426192 & -0.3653580 &  1.59036606 & -1.896229 & -0.46997285 &  0.2437955\\\\\n",
       "\t39 &  0.075480188 & -0.38266192 &  1.81268664 &  0.1389312 &  0.6939183 & -0.04820364 & -0.5016331 & -0.8021188 & -0.63392901 &  1.3140510 & ⋯ & -0.9620792 & -0.2449593 &  0.06999538 & -0.5145595 &  0.9357388 &  0.8919034 & -0.47710982 &  1.320487 &  0.04472441 &  1.7450622\\\\\n",
       "\\end{tabular}\n"
      ],
      "text/markdown": [
       "\n",
       "A data.frame: 6 × 26\n",
       "\n",
       "| <!--/--> | 1 &lt;dbl&gt; | 2 &lt;dbl&gt; | 3 &lt;dbl&gt; | 4 &lt;dbl&gt; | 5 &lt;dbl&gt; | 6 &lt;dbl&gt; | 7 &lt;dbl&gt; | 8 &lt;dbl&gt; | 9 &lt;dbl&gt; | 10 &lt;dbl&gt; | ⋯ ⋯ | 17 &lt;dbl&gt; | 18 &lt;dbl&gt; | 19 &lt;dbl&gt; | 20 &lt;dbl&gt; | 21 &lt;dbl&gt; | 22 &lt;dbl&gt; | 23 &lt;dbl&gt; | 24 &lt;dbl&gt; | 25 &lt;dbl&gt; | 26 &lt;dbl&gt; |\n",
       "|---|---|---|---|---|---|---|---|---|---|---|---|---|---|---|---|---|---|---|---|---|---|\n",
       "| 34 | -0.339129297 |  0.27574168 | -0.07250747 |  0.6807629 | -1.3878366 | -0.67485091 | -0.5016331 |  1.5151134 |  1.33269168 | -0.5840227 | ⋯ |  1.0589631 | -0.9439893 | -0.61245961 | -0.5145595 | -1.2109560 |  0.8919034 |  0.46265195 | -1.297037 | -1.12764156 |  1.2446400 |\n",
       "| 35 |  0.116941137 |  0.05627381 | -0.07250747 | -0.9447322 |  0.5760831 | -0.04820364 | -0.2630515 |  0.3564973 | -0.07203739 |  0.5548215 | ⋯ | -0.9181435 |  1.8521309 |  0.75245037 |  0.0588068 |  0.6674019 | -0.3653580 |  0.08674724 |  1.068196 |  0.38785591 |  0.7442177 |\n",
       "| 36 | -0.090363606 |  0.60494348 | -0.07250747 |  0.1389312 | -0.1309280 |  0.57844364 |  1.1684382 |  1.5151134 |  0.77080005 |  0.1752068 | ⋯ |  0.1363133 |  0.2210608 |  0.75245037 |  0.0588068 |  0.3990651 | -0.3653580 | -0.28915747 | -0.792454 | -1.09904726 | -1.2574713 |\n",
       "| 37 | -0.007441709 | -1.48000125 | -0.07250747 |  0.1389312 |  0.2225776 |  1.20509091 |  0.2141117 | -0.8021188 | -0.35298320 | -0.2044079 | ⋯ |  0.2241847 |  0.9200908 |  0.06999538 |  1.2055394 |  0.6674019 |  0.8919034 |  0.08674724 |  1.352024 |  0.73098741 |  0.2437955 |\n",
       "| 38 | -0.297668349 | -0.05346012 |  1.81268664 |  0.6807629 |  0.1047424 | -1.30149818 | -0.7402147 | -0.8021188 |  0.48985424 |  2.0732805 | ⋯ |  0.8832203 | -1.1769993 |  0.06999538 | -0.5145595 | -0.9426192 | -0.3653580 |  1.59036606 | -1.896229 | -0.46997285 |  0.2437955 |\n",
       "| 39 |  0.075480188 | -0.38266192 |  1.81268664 |  0.1389312 |  0.6939183 | -0.04820364 | -0.5016331 | -0.8021188 | -0.63392901 |  1.3140510 | ⋯ | -0.9620792 | -0.2449593 |  0.06999538 | -0.5145595 |  0.9357388 |  0.8919034 | -0.47710982 |  1.320487 |  0.04472441 |  1.7450622 |\n",
       "\n"
      ],
      "text/plain": [
       "   1            2           3           4          5          6          \n",
       "34 -0.339129297  0.27574168 -0.07250747  0.6807629 -1.3878366 -0.67485091\n",
       "35  0.116941137  0.05627381 -0.07250747 -0.9447322  0.5760831 -0.04820364\n",
       "36 -0.090363606  0.60494348 -0.07250747  0.1389312 -0.1309280  0.57844364\n",
       "37 -0.007441709 -1.48000125 -0.07250747  0.1389312  0.2225776  1.20509091\n",
       "38 -0.297668349 -0.05346012  1.81268664  0.6807629  0.1047424 -1.30149818\n",
       "39  0.075480188 -0.38266192  1.81268664  0.1389312  0.6939183 -0.04820364\n",
       "   7          8          9           10         ⋯ 17         18        \n",
       "34 -0.5016331  1.5151134  1.33269168 -0.5840227 ⋯  1.0589631 -0.9439893\n",
       "35 -0.2630515  0.3564973 -0.07203739  0.5548215 ⋯ -0.9181435  1.8521309\n",
       "36  1.1684382  1.5151134  0.77080005  0.1752068 ⋯  0.1363133  0.2210608\n",
       "37  0.2141117 -0.8021188 -0.35298320 -0.2044079 ⋯  0.2241847  0.9200908\n",
       "38 -0.7402147 -0.8021188  0.48985424  2.0732805 ⋯  0.8832203 -1.1769993\n",
       "39 -0.5016331 -0.8021188 -0.63392901  1.3140510 ⋯ -0.9620792 -0.2449593\n",
       "   19          20         21         22         23          24       \n",
       "34 -0.61245961 -0.5145595 -1.2109560  0.8919034  0.46265195 -1.297037\n",
       "35  0.75245037  0.0588068  0.6674019 -0.3653580  0.08674724  1.068196\n",
       "36  0.75245037  0.0588068  0.3990651 -0.3653580 -0.28915747 -0.792454\n",
       "37  0.06999538  1.2055394  0.6674019  0.8919034  0.08674724  1.352024\n",
       "38  0.06999538 -0.5145595 -0.9426192 -0.3653580  1.59036606 -1.896229\n",
       "39  0.06999538 -0.5145595  0.9357388  0.8919034 -0.47710982  1.320487\n",
       "   25          26        \n",
       "34 -1.12764156  1.2446400\n",
       "35  0.38785591  0.7442177\n",
       "36 -1.09904726 -1.2574713\n",
       "37  0.73098741  0.2437955\n",
       "38 -0.46997285  0.2437955\n",
       "39  0.04472441  1.7450622"
      ]
     },
     "metadata": {},
     "output_type": "display_data"
    },
    {
     "name": "stdout",
     "output_type": "stream",
     "text": [
      "\n",
      "time interval taken into X_test: 28 29 30 31 32 33\n",
      "time interval taken into Y_test: 34 35 36 37 38 39"
     ]
    }
   ],
   "source": [
    "x_test <-df.train[(nrow(scaled_train)- prediction-prediction+1):(nrow(scaled_train)-prediction),]\n",
    "for(i in 1:ncol(x_test)){\n",
    "    x_test[,i] <-(x_test[,i] -scale_factor[[\"center\"]][i])/scale_factor[[\"sd\"]][i]\n",
    "}\n",
    "x_test_scaled <- x_test\n",
    "print(\" X_test\")\n",
    "x_test_scaled\n",
    "x_test_array <- array(\n",
    "    data = as.numeric(unlist(x_test_scaled)),\n",
    "    dim=c(1,6,26)\n",
    ")\n",
    "y_test <-df.train[(nrow(scaled_train)- prediction+1):nrow(scaled_train),]\n",
    "for(i in 1:ncol(y_test)){\n",
    "    y_test[,i] <-(y_test[,i] -scale_factor[[\"center\"]][i])/scale_factor[[\"sd\"]][i]\n",
    "}\n",
    "y_test_scaled <- y_test\n",
    "print(\"Y_test\")\n",
    "y_test_scaled\n",
    "y_test_array <- array(\n",
    "    data = as.numeric(unlist(y_test_scaled)),\n",
    "    dim=c(1,6,26)\n",
    ")\n",
    "cat(\"\\ntime interval taken into X_test:\",(nrow(scaled_train)- prediction-prediction+1):(nrow(scaled_train)-prediction))\n",
    "cat(\"\\ntime interval taken into Y_test:\", (nrow(scaled_train)- prediction+1):nrow(scaled_train))"
   ]
  },
  {
   "cell_type": "code",
   "execution_count": 70,
   "metadata": {
    "vscode": {
     "languageId": "r"
    }
   },
   "outputs": [],
   "source": [
    "history <-LSTM_model_stable_eval %>% keras::fit(\n",
    "    x=x_train_arr_bis,\n",
    "    y=y_train_arr_bis,\n",
    "    batch_size=1,\n",
    "    epochs=40,# Number of times to iterate over the training data\n",
    "    verbose=2,\n",
    "    shuffle=FALSE,\n",
    "    validation_data=list(x_test_array,y_test_array)\n",
    ")"
   ]
  },
  {
   "cell_type": "code",
   "execution_count": 71,
   "metadata": {
    "vscode": {
     "languageId": "r"
    }
   },
   "outputs": [
    {
     "data": {
      "image/png": "[encoded data removed]",
      "text/plain": [
       "plot without title"
      ]
     },
     "metadata": {
      "image/png": {
       "height": 420,
       "width": 420
      }
     },
     "output_type": "display_data"
    }
   ],
   "source": [
    "plot(history)"
   ]
  },
  {
   "cell_type": "code",
   "execution_count": 72,
   "metadata": {
    "vscode": {
     "languageId": "r"
    }
   },
   "outputs": [],
   "source": [
    "LSTM_model_stable_eval %>% keras::fit(\n",
    "    x=x_train_arr_bis,\n",
    "    y=y_train_arr_bis,\n",
    "    batch_size=1,\n",
    "    epochs=40,# Number of times to iterate over the training data\n",
    "    verbose=2,\n",
    "    shuffle=FALSE\n",
    ")"
   ]
  },
  {
   "cell_type": "code",
   "execution_count": 73,
   "metadata": {
    "vscode": {
     "languageId": "r"
    }
   },
   "outputs": [],
   "source": [
    "LSTM_forecast_eval_stable <- LSTM_model_stable_eval %>% predict(x_test_array,batch_size=1)"
   ]
  },
  {
   "cell_type": "code",
   "execution_count": 74,
   "metadata": {
    "vscode": {
     "languageId": "r"
    }
   },
   "outputs": [],
   "source": [
    "#-------------\n",
    "# 1.unscale Predictions\n",
    "for (i in 1: dim(LSTM_forecast_eval_stable)[3]){\n",
    "    LSTM_forecast_eval_stable[,,i] <- LSTM_forecast_eval_stable[,,i] * scale_factor[[\"sd\"]][i] +scale_factor[[\"center\"]][i]\n",
    "}"
   ]
  },
  {
   "cell_type": "code",
   "execution_count": 76,
   "metadata": {
    "vscode": {
     "languageId": "r"
    }
   },
   "outputs": [
    {
     "data": {
      "text/html": [
       "<table class=\"dataframe\">\n",
       "<caption>A Time Series: 10 × 4</caption>\n",
       "<thead>\n",
       "\t<tr><th></th><th scope=col>Qtr1</th><th scope=col>Qtr2</th><th scope=col>Qtr3</th><th scope=col>Qtr4</th></tr>\n",
       "</thead>\n",
       "<tbody>\n",
       "\t<tr><th scope=row>2010</th><td>1290.000</td><td>1284.000</td><td>1279.000</td><td>1278.000</td></tr>\n",
       "\t<tr><th scope=row>2011</th><td>1276.000</td><td>1274.000</td><td>1269.000</td><td>1267.000</td></tr>\n",
       "\t<tr><th scope=row>2012</th><td>1259.000</td><td>1257.000</td><td>1256.000</td><td>1256.000</td></tr>\n",
       "\t<tr><th scope=row>2013</th><td>1247.000</td><td>1244.000</td><td>1240.000</td><td>1233.000</td></tr>\n",
       "\t<tr><th scope=row>2014</th><td>1224.000</td><td>1224.000</td><td>1221.000</td><td>1318.000</td></tr>\n",
       "\t<tr><th scope=row>2015</th><td>1208.000</td><td>1197.000</td><td>1199.000</td><td>1197.000</td></tr>\n",
       "\t<tr><th scope=row>2016</th><td>1191.000</td><td>1178.000</td><td>1174.000</td><td>1166.000</td></tr>\n",
       "\t<tr><th scope=row>2017</th><td>1160.000</td><td>1151.000</td><td>1136.000</td><td>1123.000</td></tr>\n",
       "\t<tr><th scope=row>2018</th><td>1114.000</td><td>1111.000</td><td>1101.077</td><td>1095.852</td></tr>\n",
       "\t<tr><th scope=row>2019</th><td>1089.015</td><td>1081.518</td><td>1072.796</td><td>1066.632</td></tr>\n",
       "</tbody>\n",
       "</table>\n"
      ],
      "text/latex": [
       "A Time Series: 10 × 4\n",
       "\\begin{tabular}{r|llll}\n",
       "  & Qtr1 & Qtr2 & Qtr3 & Qtr4\\\\\n",
       "\\hline\n",
       "\t2010 & 1290.000 & 1284.000 & 1279.000 & 1278.000\\\\\n",
       "\t2011 & 1276.000 & 1274.000 & 1269.000 & 1267.000\\\\\n",
       "\t2012 & 1259.000 & 1257.000 & 1256.000 & 1256.000\\\\\n",
       "\t2013 & 1247.000 & 1244.000 & 1240.000 & 1233.000\\\\\n",
       "\t2014 & 1224.000 & 1224.000 & 1221.000 & 1318.000\\\\\n",
       "\t2015 & 1208.000 & 1197.000 & 1199.000 & 1197.000\\\\\n",
       "\t2016 & 1191.000 & 1178.000 & 1174.000 & 1166.000\\\\\n",
       "\t2017 & 1160.000 & 1151.000 & 1136.000 & 1123.000\\\\\n",
       "\t2018 & 1114.000 & 1111.000 & 1101.077 & 1095.852\\\\\n",
       "\t2019 & 1089.015 & 1081.518 & 1072.796 & 1066.632\\\\\n",
       "\\end{tabular}\n"
      ],
      "text/markdown": [
       "\n",
       "A Time Series: 10 × 4\n",
       "\n",
       "| <!--/--> | Qtr1 | Qtr2 | Qtr3 | Qtr4 |\n",
       "|---|---|---|---|---|\n",
       "| 2010 | 1290.000 | 1284.000 | 1279.000 | 1278.000 |\n",
       "| 2011 | 1276.000 | 1274.000 | 1269.000 | 1267.000 |\n",
       "| 2012 | 1259.000 | 1257.000 | 1256.000 | 1256.000 |\n",
       "| 2013 | 1247.000 | 1244.000 | 1240.000 | 1233.000 |\n",
       "| 2014 | 1224.000 | 1224.000 | 1221.000 | 1318.000 |\n",
       "| 2015 | 1208.000 | 1197.000 | 1199.000 | 1197.000 |\n",
       "| 2016 | 1191.000 | 1178.000 | 1174.000 | 1166.000 |\n",
       "| 2017 | 1160.000 | 1151.000 | 1136.000 | 1123.000 |\n",
       "| 2018 | 1114.000 | 1111.000 | 1101.077 | 1095.852 |\n",
       "| 2019 | 1089.015 | 1081.518 | 1072.796 | 1066.632 |\n",
       "\n"
      ],
      "text/plain": [
       "     Qtr1     Qtr2     Qtr3     Qtr4    \n",
       "2010 1290.000 1284.000 1279.000 1278.000\n",
       "2011 1276.000 1274.000 1269.000 1267.000\n",
       "2012 1259.000 1257.000 1256.000 1256.000\n",
       "2013 1247.000 1244.000 1240.000 1233.000\n",
       "2014 1224.000 1224.000 1221.000 1318.000\n",
       "2015 1208.000 1197.000 1199.000 1197.000\n",
       "2016 1191.000 1178.000 1174.000 1166.000\n",
       "2017 1160.000 1151.000 1136.000 1123.000\n",
       "2018 1114.000 1111.000 1101.077 1095.852\n",
       "2019 1089.015 1081.518 1072.796 1066.632"
      ]
     },
     "metadata": {},
     "output_type": "display_data"
    },
    {
     "data": {
      "text/html": [
       "<table class=\"dataframe\">\n",
       "<caption>A Time Series: 10 × 4</caption>\n",
       "<thead>\n",
       "\t<tr><th></th><th scope=col>Qtr1</th><th scope=col>Qtr2</th><th scope=col>Qtr3</th><th scope=col>Qtr4</th></tr>\n",
       "</thead>\n",
       "<tbody>\n",
       "\t<tr><th scope=row>2010</th><td>1290</td><td>1284</td><td>1279</td><td>1278</td></tr>\n",
       "\t<tr><th scope=row>2011</th><td>1276</td><td>1274</td><td>1269</td><td>1267</td></tr>\n",
       "\t<tr><th scope=row>2012</th><td>1259</td><td>1257</td><td>1256</td><td>1256</td></tr>\n",
       "\t<tr><th scope=row>2013</th><td>1247</td><td>1244</td><td>1240</td><td>1233</td></tr>\n",
       "\t<tr><th scope=row>2014</th><td>1224</td><td>1224</td><td>1221</td><td>1318</td></tr>\n",
       "\t<tr><th scope=row>2015</th><td>1208</td><td>1197</td><td>1199</td><td>1197</td></tr>\n",
       "\t<tr><th scope=row>2016</th><td>1191</td><td>1178</td><td>1174</td><td>1166</td></tr>\n",
       "\t<tr><th scope=row>2017</th><td>1160</td><td>1151</td><td>1136</td><td>1123</td></tr>\n",
       "\t<tr><th scope=row>2018</th><td>1114</td><td>1111</td><td>1097</td><td>1094</td></tr>\n",
       "\t<tr><th scope=row>2019</th><td>1086</td><td>1080</td><td>1067</td><td>1063</td></tr>\n",
       "</tbody>\n",
       "</table>\n"
      ],
      "text/latex": [
       "A Time Series: 10 × 4\n",
       "\\begin{tabular}{r|llll}\n",
       "  & Qtr1 & Qtr2 & Qtr3 & Qtr4\\\\\n",
       "\\hline\n",
       "\t2010 & 1290 & 1284 & 1279 & 1278\\\\\n",
       "\t2011 & 1276 & 1274 & 1269 & 1267\\\\\n",
       "\t2012 & 1259 & 1257 & 1256 & 1256\\\\\n",
       "\t2013 & 1247 & 1244 & 1240 & 1233\\\\\n",
       "\t2014 & 1224 & 1224 & 1221 & 1318\\\\\n",
       "\t2015 & 1208 & 1197 & 1199 & 1197\\\\\n",
       "\t2016 & 1191 & 1178 & 1174 & 1166\\\\\n",
       "\t2017 & 1160 & 1151 & 1136 & 1123\\\\\n",
       "\t2018 & 1114 & 1111 & 1097 & 1094\\\\\n",
       "\t2019 & 1086 & 1080 & 1067 & 1063\\\\\n",
       "\\end{tabular}\n"
      ],
      "text/markdown": [
       "\n",
       "A Time Series: 10 × 4\n",
       "\n",
       "| <!--/--> | Qtr1 | Qtr2 | Qtr3 | Qtr4 |\n",
       "|---|---|---|---|---|\n",
       "| 2010 | 1290 | 1284 | 1279 | 1278 |\n",
       "| 2011 | 1276 | 1274 | 1269 | 1267 |\n",
       "| 2012 | 1259 | 1257 | 1256 | 1256 |\n",
       "| 2013 | 1247 | 1244 | 1240 | 1233 |\n",
       "| 2014 | 1224 | 1224 | 1221 | 1318 |\n",
       "| 2015 | 1208 | 1197 | 1199 | 1197 |\n",
       "| 2016 | 1191 | 1178 | 1174 | 1166 |\n",
       "| 2017 | 1160 | 1151 | 1136 | 1123 |\n",
       "| 2018 | 1114 | 1111 | 1097 | 1094 |\n",
       "| 2019 | 1086 | 1080 | 1067 | 1063 |\n",
       "\n"
      ],
      "text/plain": [
       "     Qtr1 Qtr2 Qtr3 Qtr4\n",
       "2010 1290 1284 1279 1278\n",
       "2011 1276 1274 1269 1267\n",
       "2012 1259 1257 1256 1256\n",
       "2013 1247 1244 1240 1233\n",
       "2014 1224 1224 1221 1318\n",
       "2015 1208 1197 1199 1197\n",
       "2016 1191 1178 1174 1166\n",
       "2017 1160 1151 1136 1123\n",
       "2018 1114 1111 1097 1094\n",
       "2019 1086 1080 1067 1063"
      ]
     },
     "metadata": {},
     "output_type": "display_data"
    }
   ],
   "source": [
    "index_secteur=1\n",
    "pred <- c(df.diff[1:(nrow(scaled_train)-prediction),index_secteur],LSTM_forecast_eval_stable[,,index_secteur])\n",
    "pred <-ts(pred, start=c(2010,2),frequency=4)\n",
    "obs <- df.diff[,index_secteur]\n",
    "\n",
    "\n",
    "#-----------------\n",
    "# Inverse differenciation\n",
    "starting_point <- df.ts[1,index_secteur]\n",
    "obs <-diffinv(obs,xi=starting_point)\n",
    "\n",
    "obs <-ts(obs, start=c(2010,1),frequency=4)\n",
    "pred <-diffinv(pred,xi=starting_point)\n",
    "pred\n",
    "obs"
   ]
  },
  {
   "cell_type": "code",
   "execution_count": 77,
   "metadata": {
    "vscode": {
     "languageId": "r"
    }
   },
   "outputs": [],
   "source": [
    "#-------------------------------\n",
    "#Save all plots\n",
    "for( index_secteur in 1:ncol(scaled_train)){\n",
    "\n",
    "    png(file=paste(\"plots/LSTM_stable/test_model/\",index_secteur,\".png\",sep=\"\"))\n",
    "    pred <- c(df.diff[1:(nrow(scaled_train)-prediction),index_secteur],LSTM_forecast_eval_stable[,,index_secteur])\n",
    "    pred <-ts(pred, start=c(2010,2),frequency=4)\n",
    "    obs <- df.diff[,index_secteur]\n",
    "\n",
    "\n",
    "    #-----------------\n",
    "    # Inverse differenciation\n",
    "    starting_point <- df.ts[1,index_secteur]\n",
    "    obs <-diffinv(obs,xi=starting_point)\n",
    "    pred <-diffinv(pred,xi=starting_point)\n",
    "    obs <-ts(obs, start=c(2010,1),frequency=4)\n",
    "\n",
    "    plot.ts(\n",
    "        cbind(pred,obs),\n",
    "        plot.type=\"single\",\n",
    "        lty=c(2,1),\n",
    "        lwd=1,\n",
    "        xlab=\"t\",\n",
    "        ylab=paste(\"Nombre d'Etablissements en GE pour le secteur :\",lab.to.num$lab[index_secteur],sep=\"\"),\n",
    "\n",
    "        col=c(\"blue\",\"red\")\n",
    "    )\n",
    "    legend(\"topleft\",\n",
    "\n",
    "        legend=c(\"Prédictions\",\"Observations\"),\n",
    "        col=c(\"blue\",\"red\"),\n",
    "        lty=c(2,1),\n",
    "        lwd=1\n",
    "    )\n",
    "    dev.off()\n",
    "}"
   ]
  },
  {
   "cell_type": "markdown",
   "metadata": {},
   "source": [
    "<hr>\n",
    "\n",
    "### Analyse des ecarts entre test et prediction *RMSE, MAE,MAPE,sMAPE*"
   ]
  },
  {
   "cell_type": "code",
   "execution_count": 80,
   "metadata": {
    "vscode": {
     "languageId": "r"
    }
   },
   "outputs": [],
   "source": [
    "RMSE <- c()\n",
    "for (index_secteur in 1:dim(LSTM_forecast_eval_nonstable)[3]){\n",
    "    pred <- c(df.diff[1:(nrow(scaled_train)-prediction),index_secteur],LSTM_forecast_eval_stable[,,index_secteur])\n",
    "    pred <-ts(pred, start=c(2010,2),frequency=4)\n",
    "    obs <- df.diff[,index_secteur]\n",
    "    #-----------------\n",
    "    # Inverse differenciation\n",
    "    starting_point <- df.ts[1,index_secteur]\n",
    "    obs <-diffinv(obs,xi=starting_point)\n",
    "    pred <-diffinv(pred,xi=starting_point)\n",
    "    obs <-ts(obs, start=c(2010,1),frequency=4)\n",
    "    obs <- obs[(length(obs)-6+1):length(obs)]\n",
    "    pred <- pred[(length(pred)-6+1):length(pred)]\n",
    "    RMSE <-c(RMSE,sqrt(mean((obs-pred)^2)))\n",
    "}\n",
    "RMSE <- RMSE %>% as.data.frame()\n",
    "colnames(RMSE) <- \"RMSE\""
   ]
  },
  {
   "cell_type": "code",
   "execution_count": 81,
   "metadata": {
    "vscode": {
     "languageId": "r"
    }
   },
   "outputs": [],
   "source": [
    "MAE <- c()\n",
    "for (index_secteur in 1:dim(LSTM_forecast_eval_stable)[3]){\n",
    "    pred <- c(df.diff[1:(nrow(scaled_train)-prediction),index_secteur],LSTM_forecast_eval_stable[,,index_secteur])\n",
    "    pred <-ts(pred, start=c(2010,2),frequency=4)\n",
    "    obs <- df.diff[,index_secteur]\n",
    "    #-----------------\n",
    "    # Inverse differenciation\n",
    "    starting_point <- df.ts[1,index_secteur]\n",
    "    obs <-diffinv(obs,xi=starting_point)\n",
    "    pred <-diffinv(pred,xi=starting_point)\n",
    "    obs <-ts(obs, start=c(2010,1),frequency=4)\n",
    "    obs <- obs[(length(obs)-6+1):length(obs)]\n",
    "    pred <- pred[(length(pred)-6+1):length(pred)]\n",
    "    MAE <-c(MAE,mean(abs(obs-pred)))\n",
    "    \n",
    "}\n",
    "MAE <- MAE %>%as.data.frame()\n",
    "colnames(MAE) <- \"MAE\""
   ]
  },
  {
   "cell_type": "code",
   "execution_count": 82,
   "metadata": {
    "vscode": {
     "languageId": "r"
    }
   },
   "outputs": [],
   "source": [
    "MAPE <- c()\n",
    "for (index_secteur in 1:dim(LSTM_forecast_eval_nonstable)[3]){\n",
    "    pred <- c(df.diff[1:(nrow(scaled_train)-prediction),index_secteur],LSTM_forecast_eval_stable[,,index_secteur])\n",
    "    pred <-ts(pred, start=c(2010,2),frequency=4)\n",
    "    obs <- df.diff[,index_secteur]\n",
    "    #-----------------\n",
    "    # Inverse differenciation\n",
    "    starting_point <- df.ts[1,index_secteur]\n",
    "    obs <-diffinv(obs,xi=starting_point)\n",
    "    pred <-diffinv(pred,xi=starting_point)\n",
    "    obs <-ts(obs, start=c(2010,1),frequency=4)\n",
    "    obs <- obs[(length(obs)-6+1):length(obs)]\n",
    "    pred <- pred[(length(pred)-6+1):length(pred)]\n",
    "    \n",
    "    MAPE <-c(MAPE,mean(abs((obs-pred)*100/obs)))\n",
    "    \n",
    "}\n",
    "MAPE <- MAPE %>%as.data.frame()\n",
    "colnames(MAPE) <- \"MAPE\""
   ]
  },
  {
   "cell_type": "code",
   "execution_count": 83,
   "metadata": {
    "vscode": {
     "languageId": "r"
    }
   },
   "outputs": [],
   "source": [
    "sMAPE <- c()\n",
    "for (index_secteur in 1:dim(LSTM_forecast_eval_nonstable)[3]){\n",
    "    pred <- c(df.diff[1:(nrow(scaled_train)-prediction),index_secteur],LSTM_forecast_eval_stable[,,index_secteur])\n",
    "    pred <-ts(pred, start=c(2010,2),frequency=4)\n",
    "    obs <- df.diff[,index_secteur]\n",
    "    #-----------------\n",
    "    # Inverse differenciation\n",
    "    starting_point <- df.ts[1,index_secteur]\n",
    "    obs <-diffinv(obs,xi=starting_point)\n",
    "    pred <-diffinv(pred,xi=starting_point)\n",
    "    obs <-ts(obs, start=c(2010,1),frequency=4)\n",
    "    obs <- obs[(length(obs)-6+1):length(obs)]\n",
    "    pred <- pred[(length(pred)-6+1):length(pred)]\n",
    "    sMAPE <-c(sMAPE,mean(200*abs(obs-pred)/(obs+pred)))\n",
    "    \n",
    "}\n",
    "sMAPE <- sMAPE %>%as.data.frame()\n",
    "colnames(sMAPE) <- \"sMAPE\""
   ]
  },
  {
   "cell_type": "code",
   "execution_count": 84,
   "metadata": {
    "vscode": {
     "languageId": "r"
    }
   },
   "outputs": [
    {
     "data": {
      "text/html": [
       "<table class=\"dataframe\">\n",
       "<caption>A data.frame: 26 × 5</caption>\n",
       "<thead>\n",
       "\t<tr><th scope=col>secteurs</th><th scope=col>RMSE</th><th scope=col>MAE</th><th scope=col>MAPE</th><th scope=col>sMAPE</th></tr>\n",
       "\t<tr><th scope=col>&lt;chr&gt;</th><th scope=col>&lt;dbl&gt;</th><th scope=col>&lt;dbl&gt;</th><th scope=col>&lt;dbl&gt;</th><th scope=col>&lt;dbl&gt;</th></tr>\n",
       "</thead>\n",
       "<tbody>\n",
       "\t<tr><td>64 Activités des services financiers, hors assurance et</td><td> 3.61067661</td><td> 3.31477521</td><td>0.3073121</td><td>0.3067505</td></tr>\n",
       "\t<tr><td>65-66 Assurance ; Activités auxiliaires de services fin</td><td> 4.25867136</td><td> 3.60336069</td><td>0.9399463</td><td>0.9437571</td></tr>\n",
       "\t<tr><td>852 Enseignement primaire                              </td><td> 1.61231390</td><td> 0.89687286</td><td>1.2412261</td><td>1.2663834</td></tr>\n",
       "\t<tr><td>853 Enseignement secondaire                            </td><td> 0.72944453</td><td> 0.61050086</td><td>0.4181439</td><td>0.4193450</td></tr>\n",
       "\t<tr><td>85x Enseignement / Autre                               </td><td>17.62592902</td><td>14.79338920</td><td>1.3932661</td><td>1.3796888</td></tr>\n",
       "\t<tr><td>861 Activités hospitalières                            </td><td> 0.78893859</td><td> 0.74391049</td><td>0.7673666</td><td>0.7659131</td></tr>\n",
       "\t<tr><td>862 Activité des médecins et des dentistes             </td><td> 2.32091763</td><td> 1.87370109</td><td>1.0484998</td><td>1.0561280</td></tr>\n",
       "\t<tr><td>869 Autres activités pour la santé humaine             </td><td> 2.90865655</td><td> 2.73328015</td><td>1.9625830</td><td>1.9845359</td></tr>\n",
       "\t<tr><td>87 Hébergement médico-social et social                 </td><td> 2.20258441</td><td> 2.16375069</td><td>0.2205194</td><td>0.2207714</td></tr>\n",
       "\t<tr><td>881 Action sociale sans hébergement pour personnes âgée</td><td> 3.09016315</td><td> 2.56292640</td><td>0.4649217</td><td>0.4658619</td></tr>\n",
       "\t<tr><td>889 Autre action sociale sans hébergement              </td><td>14.63485399</td><td>14.42694775</td><td>0.9687136</td><td>0.9735580</td></tr>\n",
       "\t<tr><td>931 Activités liées au sport                           </td><td>32.51875907</td><td>32.03127783</td><td>2.3697036</td><td>2.3411316</td></tr>\n",
       "\t<tr><td>932 Activités récréatives et de loisirs                </td><td> 5.71081611</td><td> 5.28997916</td><td>3.1847785</td><td>3.1283016</td></tr>\n",
       "\t<tr><td>FZ_Construction                                        </td><td> 1.73616493</td><td> 1.25114809</td><td>3.2939891</td><td>3.3961366</td></tr>\n",
       "\t<tr><td>GZ_Commerce, réparation d'automobiles et de motocycles </td><td> 6.94823944</td><td> 5.85753025</td><td>4.0461218</td><td>4.1628958</td></tr>\n",
       "\t<tr><td>HZ_Transports et entreposage                           </td><td> 0.01513239</td><td> 0.01345956</td><td>0.1223597</td><td>0.1224192</td></tr>\n",
       "\t<tr><td>IZ_Hébergement et restauration                         </td><td>10.86973784</td><td>10.25028473</td><td>4.4922944</td><td>4.6063096</td></tr>\n",
       "\t<tr><td>JA_Edition et audiovisuel                              </td><td> 2.32131228</td><td> 2.04676527</td><td>1.8309591</td><td>1.8389158</td></tr>\n",
       "\t<tr><td>JB-JC_Télécommunications et ativités informatiques     </td><td> 0.88960541</td><td> 0.79415094</td><td>5.8023678</td><td>5.9715706</td></tr>\n",
       "\t<tr><td>LZ_Activités immobilières                              </td><td> 0.66954291</td><td> 0.63883949</td><td>2.2413510</td><td>2.2295479</td></tr>\n",
       "\t<tr><td>MA_Activités juridiques, de conseil et d'ingénierie    </td><td> 1.99551673</td><td> 1.88837317</td><td>0.9941560</td><td>0.9886475</td></tr>\n",
       "\t<tr><td>MB-MC_R&amp;d et autres activités scientifiques et techniqu</td><td> 1.08487504</td><td> 0.75818214</td><td>1.2380865</td><td>1.2537301</td></tr>\n",
       "\t<tr><td>NZ_Activités de services administratifs et de soutien  </td><td> 8.01143136</td><td> 7.43114343</td><td>2.6368824</td><td>2.6778356</td></tr>\n",
       "\t<tr><td>RZ_Arts, spectacles et activités récréatives           </td><td>11.59272651</td><td> 9.70989896</td><td>0.9651985</td><td>0.9651500</td></tr>\n",
       "\t<tr><td>SZ_autres activités de services                        </td><td>23.08925603</td><td>21.63328557</td><td>0.7498654</td><td>0.7466692</td></tr>\n",
       "\t<tr><td>i_Industrie et agriculture                             </td><td> 3.16775710</td><td> 2.98732037</td><td>4.5690862</td><td>4.6871640</td></tr>\n",
       "</tbody>\n",
       "</table>\n"
      ],
      "text/latex": [
       "A data.frame: 26 × 5\n",
       "\\begin{tabular}{lllll}\n",
       " secteurs & RMSE & MAE & MAPE & sMAPE\\\\\n",
       " <chr> & <dbl> & <dbl> & <dbl> & <dbl>\\\\\n",
       "\\hline\n",
       "\t 64 Activités des services financiers, hors assurance et &  3.61067661 &  3.31477521 & 0.3073121 & 0.3067505\\\\\n",
       "\t 65-66 Assurance ; Activités auxiliaires de services fin &  4.25867136 &  3.60336069 & 0.9399463 & 0.9437571\\\\\n",
       "\t 852 Enseignement primaire                               &  1.61231390 &  0.89687286 & 1.2412261 & 1.2663834\\\\\n",
       "\t 853 Enseignement secondaire                             &  0.72944453 &  0.61050086 & 0.4181439 & 0.4193450\\\\\n",
       "\t 85x Enseignement / Autre                                & 17.62592902 & 14.79338920 & 1.3932661 & 1.3796888\\\\\n",
       "\t 861 Activités hospitalières                             &  0.78893859 &  0.74391049 & 0.7673666 & 0.7659131\\\\\n",
       "\t 862 Activité des médecins et des dentistes              &  2.32091763 &  1.87370109 & 1.0484998 & 1.0561280\\\\\n",
       "\t 869 Autres activités pour la santé humaine              &  2.90865655 &  2.73328015 & 1.9625830 & 1.9845359\\\\\n",
       "\t 87 Hébergement médico-social et social                  &  2.20258441 &  2.16375069 & 0.2205194 & 0.2207714\\\\\n",
       "\t 881 Action sociale sans hébergement pour personnes âgée &  3.09016315 &  2.56292640 & 0.4649217 & 0.4658619\\\\\n",
       "\t 889 Autre action sociale sans hébergement               & 14.63485399 & 14.42694775 & 0.9687136 & 0.9735580\\\\\n",
       "\t 931 Activités liées au sport                            & 32.51875907 & 32.03127783 & 2.3697036 & 2.3411316\\\\\n",
       "\t 932 Activités récréatives et de loisirs                 &  5.71081611 &  5.28997916 & 3.1847785 & 3.1283016\\\\\n",
       "\t FZ\\_Construction                                         &  1.73616493 &  1.25114809 & 3.2939891 & 3.3961366\\\\\n",
       "\t GZ\\_Commerce, réparation d'automobiles et de motocycles  &  6.94823944 &  5.85753025 & 4.0461218 & 4.1628958\\\\\n",
       "\t HZ\\_Transports et entreposage                            &  0.01513239 &  0.01345956 & 0.1223597 & 0.1224192\\\\\n",
       "\t IZ\\_Hébergement et restauration                          & 10.86973784 & 10.25028473 & 4.4922944 & 4.6063096\\\\\n",
       "\t JA\\_Edition et audiovisuel                               &  2.32131228 &  2.04676527 & 1.8309591 & 1.8389158\\\\\n",
       "\t JB-JC\\_Télécommunications et ativités informatiques      &  0.88960541 &  0.79415094 & 5.8023678 & 5.9715706\\\\\n",
       "\t LZ\\_Activités immobilières                               &  0.66954291 &  0.63883949 & 2.2413510 & 2.2295479\\\\\n",
       "\t MA\\_Activités juridiques, de conseil et d'ingénierie     &  1.99551673 &  1.88837317 & 0.9941560 & 0.9886475\\\\\n",
       "\t MB-MC\\_R\\&d et autres activités scientifiques et techniqu &  1.08487504 &  0.75818214 & 1.2380865 & 1.2537301\\\\\n",
       "\t NZ\\_Activités de services administratifs et de soutien   &  8.01143136 &  7.43114343 & 2.6368824 & 2.6778356\\\\\n",
       "\t RZ\\_Arts, spectacles et activités récréatives            & 11.59272651 &  9.70989896 & 0.9651985 & 0.9651500\\\\\n",
       "\t SZ\\_autres activités de services                         & 23.08925603 & 21.63328557 & 0.7498654 & 0.7466692\\\\\n",
       "\t i\\_Industrie et agriculture                              &  3.16775710 &  2.98732037 & 4.5690862 & 4.6871640\\\\\n",
       "\\end{tabular}\n"
      ],
      "text/markdown": [
       "\n",
       "A data.frame: 26 × 5\n",
       "\n",
       "| secteurs &lt;chr&gt; | RMSE &lt;dbl&gt; | MAE &lt;dbl&gt; | MAPE &lt;dbl&gt; | sMAPE &lt;dbl&gt; |\n",
       "|---|---|---|---|---|\n",
       "| 64 Activités des services financiers, hors assurance et |  3.61067661 |  3.31477521 | 0.3073121 | 0.3067505 |\n",
       "| 65-66 Assurance ; Activités auxiliaires de services fin |  4.25867136 |  3.60336069 | 0.9399463 | 0.9437571 |\n",
       "| 852 Enseignement primaire                               |  1.61231390 |  0.89687286 | 1.2412261 | 1.2663834 |\n",
       "| 853 Enseignement secondaire                             |  0.72944453 |  0.61050086 | 0.4181439 | 0.4193450 |\n",
       "| 85x Enseignement / Autre                                | 17.62592902 | 14.79338920 | 1.3932661 | 1.3796888 |\n",
       "| 861 Activités hospitalières                             |  0.78893859 |  0.74391049 | 0.7673666 | 0.7659131 |\n",
       "| 862 Activité des médecins et des dentistes              |  2.32091763 |  1.87370109 | 1.0484998 | 1.0561280 |\n",
       "| 869 Autres activités pour la santé humaine              |  2.90865655 |  2.73328015 | 1.9625830 | 1.9845359 |\n",
       "| 87 Hébergement médico-social et social                  |  2.20258441 |  2.16375069 | 0.2205194 | 0.2207714 |\n",
       "| 881 Action sociale sans hébergement pour personnes âgée |  3.09016315 |  2.56292640 | 0.4649217 | 0.4658619 |\n",
       "| 889 Autre action sociale sans hébergement               | 14.63485399 | 14.42694775 | 0.9687136 | 0.9735580 |\n",
       "| 931 Activités liées au sport                            | 32.51875907 | 32.03127783 | 2.3697036 | 2.3411316 |\n",
       "| 932 Activités récréatives et de loisirs                 |  5.71081611 |  5.28997916 | 3.1847785 | 3.1283016 |\n",
       "| FZ_Construction                                         |  1.73616493 |  1.25114809 | 3.2939891 | 3.3961366 |\n",
       "| GZ_Commerce, réparation d'automobiles et de motocycles  |  6.94823944 |  5.85753025 | 4.0461218 | 4.1628958 |\n",
       "| HZ_Transports et entreposage                            |  0.01513239 |  0.01345956 | 0.1223597 | 0.1224192 |\n",
       "| IZ_Hébergement et restauration                          | 10.86973784 | 10.25028473 | 4.4922944 | 4.6063096 |\n",
       "| JA_Edition et audiovisuel                               |  2.32131228 |  2.04676527 | 1.8309591 | 1.8389158 |\n",
       "| JB-JC_Télécommunications et ativités informatiques      |  0.88960541 |  0.79415094 | 5.8023678 | 5.9715706 |\n",
       "| LZ_Activités immobilières                               |  0.66954291 |  0.63883949 | 2.2413510 | 2.2295479 |\n",
       "| MA_Activités juridiques, de conseil et d'ingénierie     |  1.99551673 |  1.88837317 | 0.9941560 | 0.9886475 |\n",
       "| MB-MC_R&amp;d et autres activités scientifiques et techniqu |  1.08487504 |  0.75818214 | 1.2380865 | 1.2537301 |\n",
       "| NZ_Activités de services administratifs et de soutien   |  8.01143136 |  7.43114343 | 2.6368824 | 2.6778356 |\n",
       "| RZ_Arts, spectacles et activités récréatives            | 11.59272651 |  9.70989896 | 0.9651985 | 0.9651500 |\n",
       "| SZ_autres activités de services                         | 23.08925603 | 21.63328557 | 0.7498654 | 0.7466692 |\n",
       "| i_Industrie et agriculture                              |  3.16775710 |  2.98732037 | 4.5690862 | 4.6871640 |\n",
       "\n"
      ],
      "text/plain": [
       "   secteurs                                                RMSE       \n",
       "1  64 Activités des services financiers, hors assurance et  3.61067661\n",
       "2  65-66 Assurance ; Activités auxiliaires de services fin  4.25867136\n",
       "3  852 Enseignement primaire                                1.61231390\n",
       "4  853 Enseignement secondaire                              0.72944453\n",
       "5  85x Enseignement / Autre                                17.62592902\n",
       "6  861 Activités hospitalières                              0.78893859\n",
       "7  862 Activité des médecins et des dentistes               2.32091763\n",
       "8  869 Autres activités pour la santé humaine               2.90865655\n",
       "9  87 Hébergement médico-social et social                   2.20258441\n",
       "10 881 Action sociale sans hébergement pour personnes âgée  3.09016315\n",
       "11 889 Autre action sociale sans hébergement               14.63485399\n",
       "12 931 Activités liées au sport                            32.51875907\n",
       "13 932 Activités récréatives et de loisirs                  5.71081611\n",
       "14 FZ_Construction                                          1.73616493\n",
       "15 GZ_Commerce, réparation d'automobiles et de motocycles   6.94823944\n",
       "16 HZ_Transports et entreposage                             0.01513239\n",
       "17 IZ_Hébergement et restauration                          10.86973784\n",
       "18 JA_Edition et audiovisuel                                2.32131228\n",
       "19 JB-JC_Télécommunications et ativités informatiques       0.88960541\n",
       "20 LZ_Activités immobilières                                0.66954291\n",
       "21 MA_Activités juridiques, de conseil et d'ingénierie      1.99551673\n",
       "22 MB-MC_R&d et autres activités scientifiques et techniqu  1.08487504\n",
       "23 NZ_Activités de services administratifs et de soutien    8.01143136\n",
       "24 RZ_Arts, spectacles et activités récréatives            11.59272651\n",
       "25 SZ_autres activités de services                         23.08925603\n",
       "26 i_Industrie et agriculture                               3.16775710\n",
       "   MAE         MAPE      sMAPE    \n",
       "1   3.31477521 0.3073121 0.3067505\n",
       "2   3.60336069 0.9399463 0.9437571\n",
       "3   0.89687286 1.2412261 1.2663834\n",
       "4   0.61050086 0.4181439 0.4193450\n",
       "5  14.79338920 1.3932661 1.3796888\n",
       "6   0.74391049 0.7673666 0.7659131\n",
       "7   1.87370109 1.0484998 1.0561280\n",
       "8   2.73328015 1.9625830 1.9845359\n",
       "9   2.16375069 0.2205194 0.2207714\n",
       "10  2.56292640 0.4649217 0.4658619\n",
       "11 14.42694775 0.9687136 0.9735580\n",
       "12 32.03127783 2.3697036 2.3411316\n",
       "13  5.28997916 3.1847785 3.1283016\n",
       "14  1.25114809 3.2939891 3.3961366\n",
       "15  5.85753025 4.0461218 4.1628958\n",
       "16  0.01345956 0.1223597 0.1224192\n",
       "17 10.25028473 4.4922944 4.6063096\n",
       "18  2.04676527 1.8309591 1.8389158\n",
       "19  0.79415094 5.8023678 5.9715706\n",
       "20  0.63883949 2.2413510 2.2295479\n",
       "21  1.88837317 0.9941560 0.9886475\n",
       "22  0.75818214 1.2380865 1.2537301\n",
       "23  7.43114343 2.6368824 2.6778356\n",
       "24  9.70989896 0.9651985 0.9651500\n",
       "25 21.63328557 0.7498654 0.7466692\n",
       "26  2.98732037 4.5690862 4.6871640"
      ]
     },
     "metadata": {},
     "output_type": "display_data"
    }
   ],
   "source": [
    "predict_accuracy_stable <- cbind(\"secteurs\"=lab.to.num$lab,RMSE,MAE,MAPE,sMAPE)\n",
    "predict_accuracy_stable\n"
   ]
  },
  {
   "cell_type": "markdown",
   "metadata": {},
   "source": [
    "<hr>\n",
    "\n",
    "## II.B Covid Forecastings\n",
    "\n",
    "## II.B.1 Covid Forecasting : LSTM model with nonstable TS"
   ]
  },
  {
   "cell_type": "code",
   "execution_count": 87,
   "metadata": {
    "vscode": {
     "languageId": "r"
    }
   },
   "outputs": [],
   "source": [
    "df.train <-df.ts %>% as.data.frame\n",
    "#-----------------------------\n",
    "# Scaled the train sample and get the sample factor parmas: mean + sd\n",
    "scaled_train <- scale(df.train)\n",
    "scale_factor <-list(\"center\"=attr(scaled_train,\"scaled:center\"),\"sd\"=attr(scaled_train,\"scaled:scale\"))\n",
    "#----------------\n",
    "# We d like to do a 6 Quarter forecast,\n",
    "# We need to base each prediction on 6 points\n",
    "prediction <- 6\n",
    "lag <- prediction"
   ]
  },
  {
   "cell_type": "code",
   "execution_count": 88,
   "metadata": {
    "vscode": {
     "languageId": "r"
    }
   },
   "outputs": [
    {
     "name": "stdout",
     "output_type": "stream",
     "text": [
      "X_train interval : 1 2 3 4 5 6 7 8 9 10 11 12 13 14 15 16 17 18 19 20 21 22 23 24 25 26 27 28 29 \n",
      "Y_train interval : 7 8 9 10 11 12 13 14 15 16 17 18 19 20 21 22 23 24 25 26 27 28 29 30 31 32 33 34 35\n",
      "x_train dim : 29 6 26 \n",
      "Y_train dim : 29 6 26"
     ]
    }
   ],
   "source": [
    "\n",
    "x_train_data <-t(sapply(\n",
    "    1:(dim(scaled_train)[1]-lag-prediction +1),\n",
    "    function(x){scaled_train[x:(x+lag-1),1]}\n",
    "))\n",
    "\n",
    "for(i in 2:ncol(scaled_train)){\n",
    "    new <-t(sapply(\n",
    "        1:(dim(scaled_train)[1]-lag-prediction +1),\n",
    "        function(x){scaled_train[x:(x+lag-1),i]}\n",
    "    ))\n",
    "    x_train_data <-cbind(x_train_data,new)\n",
    "    \n",
    "}\n",
    "x_train_arr <- array(\n",
    "    data=as.numeric(unlist(x_train_data)),\n",
    "    dim=c(\n",
    "        nrow(x_train_data),\n",
    "        ncol(x_train_data),\n",
    "        1\n",
    "        )\n",
    "\n",
    ")\n",
    "y_train_data <-  t(sapply(\n",
    "    (1+lag):(dim(scaled_train)[1]-prediction +1),\n",
    "    function(x){scaled_train[x:(x+prediction-1),1]}\n",
    "))\n",
    "y_train_arr <-array(\n",
    "    data=as.numeric(unlist(y_train_data)),\n",
    "    dim=c(\n",
    "        nrow(y_train_data),\n",
    "        prediction,\n",
    "        1\n",
    "    )\n",
    ")\n",
    "x_bis <-sapply(\n",
    "        1:ncol(scaled_train),\n",
    "        function(x){scaled_train[1:(29-1+1),x]}\n",
    ")\n",
    "\n",
    "x_bis_first_array <-array(\n",
    "    data=unlist(x_bis),\n",
    "    dim=c(nrow(x_bis),1,ncol(x_bis))\n",
    ")\n",
    "tot_array <-array(NA, dim=c(\n",
    "    nrow(x_bis),\n",
    "    6,\n",
    "    ncol(x_bis)\n",
    "))\n",
    "tot_array[,1,] <- x_bis_first_array\n",
    "\n",
    "\n",
    "for (i in 2:6){\n",
    "    new <-sapply(\n",
    "        1:ncol(scaled_train),\n",
    "        function(x){scaled_train[i:(i+29-1),x]}\n",
    "    )\n",
    "    new <- array(\n",
    "        data=unlist(new),\n",
    "        dim=c(nrow(x_bis),1,ncol(x_bis))\n",
    "    )\n",
    "    tot_array[,i,] <- new\n",
    "}\n",
    "x_train_arr_bis <- tot_array\n",
    "y_train_data_bis <-  t(sapply(\n",
    "    (1+lag):(dim(scaled_train)[1]-prediction +1),\n",
    "    function(x){scaled_train[x:(x+prediction-1),1]}\n",
    "))\n",
    "\n",
    "tot_array <-array(NA, dim=c(\n",
    "    nrow(y_train_data_bis),\n",
    "    6,\n",
    "    ncol(scaled_train)\n",
    "))\n",
    "\n",
    "tot_array[,,1] <- y_train_data_bis\n",
    "\n",
    "for (i in 2:ncol(scaled_train)){\n",
    "    new <-  t(sapply(\n",
    "        (1+lag):(dim(scaled_train)[1]-prediction +1),\n",
    "        function(x){scaled_train[x:(x+prediction-1),i]}\n",
    "    ))\n",
    "\n",
    "    new_array <- array(\n",
    "        data=as.numeric(unlist(new)),\n",
    "        dim=c(nrow(new),\n",
    "        ncol(new),\n",
    "        1)\n",
    "    )\n",
    "    tot_array[,,i] <- new_array\n",
    "\n",
    "}\n",
    "\n",
    "y_train_arr_bis <- tot_array\n",
    "cat(\"X_train interval :\",1:(dim(scaled_train)[1]-lag-prediction +1),\n",
    "\"\\nY_train interval :\",\n",
    "(1+lag):(dim(scaled_train)[1]-prediction +1))\n",
    "cat(\"\\nx_train dim :\",x_train_arr_bis%>%dim,\"\\nY_train dim :\",y_train_arr_bis%>%dim)"
   ]
  },
  {
   "cell_type": "code",
   "execution_count": 91,
   "metadata": {
    "vscode": {
     "languageId": "r"
    }
   },
   "outputs": [],
   "source": [
    "LSTM_model_nonstable_forecasting <- keras_model_sequential()\n",
    "\n",
    "LSTM_model_nonstable_forecasting%>% layer_lstm(\n",
    "    units=50,\n",
    "    batch_input_shape=c(1,6,26),#BATCH size , timestep ,features\n",
    "    return_sequences=T,\n",
    "    stateful=T\n",
    "\n",
    ")%>%\n",
    "layer_dropout(rate=0.5)%>%layer_lstm(\n",
    "    units =50,\n",
    "    return_sequences=T,stateful=T\n",
    ")%>% layer_dropout(rate=0.5)%>% time_distributed(keras::layer_dense(units=26))"
   ]
  },
  {
   "cell_type": "code",
   "execution_count": 92,
   "metadata": {
    "vscode": {
     "languageId": "r"
    }
   },
   "outputs": [
    {
     "name": "stdout",
     "output_type": "stream",
     "text": [
      "Model: \"sequential_3\"\n",
      "________________________________________________________________________________\n",
      " Layer (type)                       Output Shape                    Param #     \n",
      "================================================================================\n",
      " lstm_7 (LSTM)                      (1, 6, 50)                      15400       \n",
      " dropout_7 (Dropout)                (1, 6, 50)                      0           \n",
      " lstm_6 (LSTM)                      (1, 6, 50)                      20200       \n",
      " dropout_6 (Dropout)                (1, 6, 50)                      0           \n",
      " time_distributed_3 (TimeDistribute  (1, 6, 26)                     1326        \n",
      " d)                                                                             \n",
      "================================================================================\n",
      "Total params: 36,926\n",
      "Trainable params: 36,926\n",
      "Non-trainable params: 0\n",
      "________________________________________________________________________________\n"
     ]
    }
   ],
   "source": [
    "LSTM_model_nonstable_forecasting%>% compile(loss='mae',optimizer='adam',metrics='accuracy')\n",
    "summary(LSTM_model_nonstable_forecasting)"
   ]
  },
  {
   "cell_type": "code",
   "execution_count": 93,
   "metadata": {
    "vscode": {
     "languageId": "r"
    }
   },
   "outputs": [],
   "source": [
    "LSTM_model_nonstable_forecasting %>% keras::fit(\n",
    "    x=x_train_arr_bis,\n",
    "    y=y_train_arr_bis,\n",
    "    batch_size=1,\n",
    "    epochs=40,# Number of times to iterate over the training data\n",
    "    verbose=2,\n",
    "    shuffle=FALSE\n",
    ")"
   ]
  },
  {
   "cell_type": "code",
   "execution_count": 94,
   "metadata": {
    "vscode": {
     "languageId": "r"
    }
   },
   "outputs": [
    {
     "name": "stdout",
     "output_type": "stream",
     "text": [
      "X_test interval : 35 36 37 38 39 40"
     ]
    },
    {
     "data": {
      "text/html": [
       "<table class=\"dataframe\">\n",
       "<caption>A data.frame: 6 × 26</caption>\n",
       "<thead>\n",
       "\t<tr><th></th><th scope=col>1</th><th scope=col>2</th><th scope=col>3</th><th scope=col>4</th><th scope=col>5</th><th scope=col>6</th><th scope=col>7</th><th scope=col>8</th><th scope=col>9</th><th scope=col>10</th><th scope=col>⋯</th><th scope=col>17</th><th scope=col>18</th><th scope=col>19</th><th scope=col>20</th><th scope=col>21</th><th scope=col>22</th><th scope=col>23</th><th scope=col>24</th><th scope=col>25</th><th scope=col>26</th></tr>\n",
       "\t<tr><th></th><th scope=col>&lt;dbl&gt;</th><th scope=col>&lt;dbl&gt;</th><th scope=col>&lt;dbl&gt;</th><th scope=col>&lt;dbl&gt;</th><th scope=col>&lt;dbl&gt;</th><th scope=col>&lt;dbl&gt;</th><th scope=col>&lt;dbl&gt;</th><th scope=col>&lt;dbl&gt;</th><th scope=col>&lt;dbl&gt;</th><th scope=col>&lt;dbl&gt;</th><th scope=col>⋯</th><th scope=col>&lt;dbl&gt;</th><th scope=col>&lt;dbl&gt;</th><th scope=col>&lt;dbl&gt;</th><th scope=col>&lt;dbl&gt;</th><th scope=col>&lt;dbl&gt;</th><th scope=col>&lt;dbl&gt;</th><th scope=col>&lt;dbl&gt;</th><th scope=col>&lt;dbl&gt;</th><th scope=col>&lt;dbl&gt;</th><th scope=col>&lt;dbl&gt;</th></tr>\n",
       "</thead>\n",
       "<tbody>\n",
       "\t<tr><th scope=row>35</th><td>-1.431074</td><td>-0.2819201</td><td>0.02739667</td><td>-0.2392895</td><td>-2.037024</td><td>-0.8231048</td><td>1.094363</td><td>1.049924</td><td>1.325868</td><td>-1.07950734</td><td>⋯</td><td> 0.09966473</td><td>-1.83878403</td><td>-2.319888</td><td>-0.8215552</td><td>-1.8710760</td><td>-0.9745028</td><td>-1.656126</td><td>-1.56195820</td><td>-1.770070</td><td>1.443310</td></tr>\n",
       "\t<tr><th scope=row>36</th><td>-1.472877</td><td>-0.2167363</td><td>0.02739667</td><td>-0.7566721</td><td>-1.767962</td><td>-0.8231048</td><td>1.094363</td><td>1.239955</td><td>1.403122</td><td>-0.93509164</td><td>⋯</td><td>-0.90843824</td><td> 0.15582916</td><td>-1.831491</td><td>-0.8215552</td><td>-1.5163697</td><td>-1.1985265</td><td>-1.701375</td><td>-0.23505196</td><td>-1.681677</td><td>1.847033</td></tr>\n",
       "\t<tr><th scope=row>37</th><td>-1.584354</td><td> 0.1743668</td><td>0.02739667</td><td>-0.7566721</td><td>-1.902493</td><td>-0.3841156</td><td>1.593692</td><td>1.810049</td><td>1.596256</td><td>-0.93509164</td><td>⋯</td><td>-0.81679252</td><td> 0.40515580</td><td>-1.343093</td><td>-0.8215552</td><td>-1.3390165</td><td>-1.4225501</td><td>-1.837123</td><td>-1.14493053</td><td>-2.167838</td><td>1.443310</td></tr>\n",
       "\t<tr><th scope=row>38</th><td>-1.667961</td><td>-0.6730231</td><td>0.02739667</td><td>-0.7566721</td><td>-1.835227</td><td> 0.4938629</td><td>1.760135</td><td>1.620018</td><td>1.634883</td><td>-1.07950734</td><td>⋯</td><td>-0.63350107</td><td> 1.40246240</td><td>-1.343093</td><td>-0.1223593</td><td>-0.9843101</td><td>-0.9745028</td><td>-1.882372</td><td> 0.52318017</td><td>-1.946856</td><td>1.645172</td></tr>\n",
       "\t<tr><th scope=row>39</th><td>-1.849109</td><td>-0.6730231</td><td>1.12326335</td><td>-0.4979808</td><td>-1.835227</td><td>-0.3841156</td><td>1.593692</td><td>1.429987</td><td>1.789390</td><td>-0.35742885</td><td>⋯</td><td> 0.23713331</td><td> 0.15582916</td><td>-1.343093</td><td>-0.4719573</td><td>-1.6937228</td><td>-1.1985265</td><td>-1.565627</td><td>-1.71360463</td><td>-2.189936</td><td>1.847033</td></tr>\n",
       "\t<tr><th scope=row>40</th><td>-1.904847</td><td>-0.8685747</td><td>2.21913003</td><td>-0.4979808</td><td>-1.498900</td><td>-0.3841156</td><td>1.510471</td><td>1.239955</td><td>1.789390</td><td> 0.07581824</td><td>⋯</td><td>-0.81679252</td><td>-0.09349749</td><td>-1.343093</td><td>-0.8215552</td><td>-1.1616633</td><td>-0.7504792</td><td>-1.746624</td><td>-0.08340554</td><td>-2.234133</td><td>2.654480</td></tr>\n",
       "</tbody>\n",
       "</table>\n"
      ],
      "text/latex": [
       "A data.frame: 6 × 26\n",
       "\\begin{tabular}{r|lllllllllllllllllllll}\n",
       "  & 1 & 2 & 3 & 4 & 5 & 6 & 7 & 8 & 9 & 10 & ⋯ & 17 & 18 & 19 & 20 & 21 & 22 & 23 & 24 & 25 & 26\\\\\n",
       "  & <dbl> & <dbl> & <dbl> & <dbl> & <dbl> & <dbl> & <dbl> & <dbl> & <dbl> & <dbl> & ⋯ & <dbl> & <dbl> & <dbl> & <dbl> & <dbl> & <dbl> & <dbl> & <dbl> & <dbl> & <dbl>\\\\\n",
       "\\hline\n",
       "\t35 & -1.431074 & -0.2819201 & 0.02739667 & -0.2392895 & -2.037024 & -0.8231048 & 1.094363 & 1.049924 & 1.325868 & -1.07950734 & ⋯ &  0.09966473 & -1.83878403 & -2.319888 & -0.8215552 & -1.8710760 & -0.9745028 & -1.656126 & -1.56195820 & -1.770070 & 1.443310\\\\\n",
       "\t36 & -1.472877 & -0.2167363 & 0.02739667 & -0.7566721 & -1.767962 & -0.8231048 & 1.094363 & 1.239955 & 1.403122 & -0.93509164 & ⋯ & -0.90843824 &  0.15582916 & -1.831491 & -0.8215552 & -1.5163697 & -1.1985265 & -1.701375 & -0.23505196 & -1.681677 & 1.847033\\\\\n",
       "\t37 & -1.584354 &  0.1743668 & 0.02739667 & -0.7566721 & -1.902493 & -0.3841156 & 1.593692 & 1.810049 & 1.596256 & -0.93509164 & ⋯ & -0.81679252 &  0.40515580 & -1.343093 & -0.8215552 & -1.3390165 & -1.4225501 & -1.837123 & -1.14493053 & -2.167838 & 1.443310\\\\\n",
       "\t38 & -1.667961 & -0.6730231 & 0.02739667 & -0.7566721 & -1.835227 &  0.4938629 & 1.760135 & 1.620018 & 1.634883 & -1.07950734 & ⋯ & -0.63350107 &  1.40246240 & -1.343093 & -0.1223593 & -0.9843101 & -0.9745028 & -1.882372 &  0.52318017 & -1.946856 & 1.645172\\\\\n",
       "\t39 & -1.849109 & -0.6730231 & 1.12326335 & -0.4979808 & -1.835227 & -0.3841156 & 1.593692 & 1.429987 & 1.789390 & -0.35742885 & ⋯ &  0.23713331 &  0.15582916 & -1.343093 & -0.4719573 & -1.6937228 & -1.1985265 & -1.565627 & -1.71360463 & -2.189936 & 1.847033\\\\\n",
       "\t40 & -1.904847 & -0.8685747 & 2.21913003 & -0.4979808 & -1.498900 & -0.3841156 & 1.510471 & 1.239955 & 1.789390 &  0.07581824 & ⋯ & -0.81679252 & -0.09349749 & -1.343093 & -0.8215552 & -1.1616633 & -0.7504792 & -1.746624 & -0.08340554 & -2.234133 & 2.654480\\\\\n",
       "\\end{tabular}\n"
      ],
      "text/markdown": [
       "\n",
       "A data.frame: 6 × 26\n",
       "\n",
       "| <!--/--> | 1 &lt;dbl&gt; | 2 &lt;dbl&gt; | 3 &lt;dbl&gt; | 4 &lt;dbl&gt; | 5 &lt;dbl&gt; | 6 &lt;dbl&gt; | 7 &lt;dbl&gt; | 8 &lt;dbl&gt; | 9 &lt;dbl&gt; | 10 &lt;dbl&gt; | ⋯ ⋯ | 17 &lt;dbl&gt; | 18 &lt;dbl&gt; | 19 &lt;dbl&gt; | 20 &lt;dbl&gt; | 21 &lt;dbl&gt; | 22 &lt;dbl&gt; | 23 &lt;dbl&gt; | 24 &lt;dbl&gt; | 25 &lt;dbl&gt; | 26 &lt;dbl&gt; |\n",
       "|---|---|---|---|---|---|---|---|---|---|---|---|---|---|---|---|---|---|---|---|---|---|\n",
       "| 35 | -1.431074 | -0.2819201 | 0.02739667 | -0.2392895 | -2.037024 | -0.8231048 | 1.094363 | 1.049924 | 1.325868 | -1.07950734 | ⋯ |  0.09966473 | -1.83878403 | -2.319888 | -0.8215552 | -1.8710760 | -0.9745028 | -1.656126 | -1.56195820 | -1.770070 | 1.443310 |\n",
       "| 36 | -1.472877 | -0.2167363 | 0.02739667 | -0.7566721 | -1.767962 | -0.8231048 | 1.094363 | 1.239955 | 1.403122 | -0.93509164 | ⋯ | -0.90843824 |  0.15582916 | -1.831491 | -0.8215552 | -1.5163697 | -1.1985265 | -1.701375 | -0.23505196 | -1.681677 | 1.847033 |\n",
       "| 37 | -1.584354 |  0.1743668 | 0.02739667 | -0.7566721 | -1.902493 | -0.3841156 | 1.593692 | 1.810049 | 1.596256 | -0.93509164 | ⋯ | -0.81679252 |  0.40515580 | -1.343093 | -0.8215552 | -1.3390165 | -1.4225501 | -1.837123 | -1.14493053 | -2.167838 | 1.443310 |\n",
       "| 38 | -1.667961 | -0.6730231 | 0.02739667 | -0.7566721 | -1.835227 |  0.4938629 | 1.760135 | 1.620018 | 1.634883 | -1.07950734 | ⋯ | -0.63350107 |  1.40246240 | -1.343093 | -0.1223593 | -0.9843101 | -0.9745028 | -1.882372 |  0.52318017 | -1.946856 | 1.645172 |\n",
       "| 39 | -1.849109 | -0.6730231 | 1.12326335 | -0.4979808 | -1.835227 | -0.3841156 | 1.593692 | 1.429987 | 1.789390 | -0.35742885 | ⋯ |  0.23713331 |  0.15582916 | -1.343093 | -0.4719573 | -1.6937228 | -1.1985265 | -1.565627 | -1.71360463 | -2.189936 | 1.847033 |\n",
       "| 40 | -1.904847 | -0.8685747 | 2.21913003 | -0.4979808 | -1.498900 | -0.3841156 | 1.510471 | 1.239955 | 1.789390 |  0.07581824 | ⋯ | -0.81679252 | -0.09349749 | -1.343093 | -0.8215552 | -1.1616633 | -0.7504792 | -1.746624 | -0.08340554 | -2.234133 | 2.654480 |\n",
       "\n"
      ],
      "text/plain": [
       "   1         2          3          4          5         6          7       \n",
       "35 -1.431074 -0.2819201 0.02739667 -0.2392895 -2.037024 -0.8231048 1.094363\n",
       "36 -1.472877 -0.2167363 0.02739667 -0.7566721 -1.767962 -0.8231048 1.094363\n",
       "37 -1.584354  0.1743668 0.02739667 -0.7566721 -1.902493 -0.3841156 1.593692\n",
       "38 -1.667961 -0.6730231 0.02739667 -0.7566721 -1.835227  0.4938629 1.760135\n",
       "39 -1.849109 -0.6730231 1.12326335 -0.4979808 -1.835227 -0.3841156 1.593692\n",
       "40 -1.904847 -0.8685747 2.21913003 -0.4979808 -1.498900 -0.3841156 1.510471\n",
       "   8        9        10          ⋯ 17          18          19        20        \n",
       "35 1.049924 1.325868 -1.07950734 ⋯  0.09966473 -1.83878403 -2.319888 -0.8215552\n",
       "36 1.239955 1.403122 -0.93509164 ⋯ -0.90843824  0.15582916 -1.831491 -0.8215552\n",
       "37 1.810049 1.596256 -0.93509164 ⋯ -0.81679252  0.40515580 -1.343093 -0.8215552\n",
       "38 1.620018 1.634883 -1.07950734 ⋯ -0.63350107  1.40246240 -1.343093 -0.1223593\n",
       "39 1.429987 1.789390 -0.35742885 ⋯  0.23713331  0.15582916 -1.343093 -0.4719573\n",
       "40 1.239955 1.789390  0.07581824 ⋯ -0.81679252 -0.09349749 -1.343093 -0.8215552\n",
       "   21         22         23        24          25        26      \n",
       "35 -1.8710760 -0.9745028 -1.656126 -1.56195820 -1.770070 1.443310\n",
       "36 -1.5163697 -1.1985265 -1.701375 -0.23505196 -1.681677 1.847033\n",
       "37 -1.3390165 -1.4225501 -1.837123 -1.14493053 -2.167838 1.443310\n",
       "38 -0.9843101 -0.9745028 -1.882372  0.52318017 -1.946856 1.645172\n",
       "39 -1.6937228 -1.1985265 -1.565627 -1.71360463 -2.189936 1.847033\n",
       "40 -1.1616633 -0.7504792 -1.746624 -0.08340554 -2.234133 2.654480"
      ]
     },
     "metadata": {},
     "output_type": "display_data"
    }
   ],
   "source": [
    "x_test <-df.train[(nrow(scaled_train)- prediction+1):nrow(scaled_train),]\n",
    "\n",
    "# 2. Scaled \n",
    "for(i in 1:ncol(x_test)){\n",
    "    x_test[,i] <-(x_test[,i] -scale_factor[[\"center\"]][i])/scale_factor[[\"sd\"]][i]\n",
    "}\n",
    "x_test_scaled <- x_test\n",
    "cat(\"X_test interval :\",(nrow(scaled_train)- prediction+1):nrow(scaled_train))\n",
    "x_test_scaled"
   ]
  },
  {
   "cell_type": "code",
   "execution_count": 95,
   "metadata": {
    "vscode": {
     "languageId": "r"
    }
   },
   "outputs": [],
   "source": [
    "x_test_array <- array(\n",
    "    data = as.numeric(unlist(x_test_scaled)),\n",
    "    dim=c(1,6,26)\n",
    ")"
   ]
  },
  {
   "cell_type": "code",
   "execution_count": 96,
   "metadata": {
    "vscode": {
     "languageId": "r"
    }
   },
   "outputs": [],
   "source": [
    "#----------------\n",
    "# Covid forecast\n",
    "LSTM_forecast_covid_non_stable <- LSTM_model_nonstable_forecasting %>% predict(x_test_array,batch_size=1)"
   ]
  },
  {
   "cell_type": "code",
   "execution_count": 97,
   "metadata": {
    "vscode": {
     "languageId": "r"
    }
   },
   "outputs": [],
   "source": [
    "#-------------\n",
    "# 1.unscale Predictions\n",
    "for (i in 1: dim(LSTM_forecast_covid_non_stable)[3]){\n",
    "    LSTM_forecast_covid_non_stable[,,i] <- LSTM_forecast_covid_non_stable[,,i] * scale_factor[[\"sd\"]][i] +scale_factor[[\"center\"]][i]\n",
    "}"
   ]
  },
  {
   "cell_type": "code",
   "execution_count": 100,
   "metadata": {
    "vscode": {
     "languageId": "r"
    }
   },
   "outputs": [
    {
     "data": {
      "text/html": [
       "<table class=\"dataframe\">\n",
       "<caption>A Time Series: 12 × 4</caption>\n",
       "<thead>\n",
       "\t<tr><th></th><th scope=col>Qtr1</th><th scope=col>Qtr2</th><th scope=col>Qtr3</th><th scope=col>Qtr4</th></tr>\n",
       "</thead>\n",
       "<tbody>\n",
       "\t<tr><th scope=row>2010</th><td>1290.000</td><td>1284.000</td><td>1279.000</td><td>1278.000</td></tr>\n",
       "\t<tr><th scope=row>2011</th><td>1276.000</td><td>1274.000</td><td>1269.000</td><td>1267.000</td></tr>\n",
       "\t<tr><th scope=row>2012</th><td>1259.000</td><td>1257.000</td><td>1256.000</td><td>1256.000</td></tr>\n",
       "\t<tr><th scope=row>2013</th><td>1247.000</td><td>1244.000</td><td>1240.000</td><td>1233.000</td></tr>\n",
       "\t<tr><th scope=row>2014</th><td>1224.000</td><td>1224.000</td><td>1221.000</td><td>1318.000</td></tr>\n",
       "\t<tr><th scope=row>2015</th><td>1208.000</td><td>1197.000</td><td>1199.000</td><td>1197.000</td></tr>\n",
       "\t<tr><th scope=row>2016</th><td>1191.000</td><td>1178.000</td><td>1174.000</td><td>1166.000</td></tr>\n",
       "\t<tr><th scope=row>2017</th><td>1160.000</td><td>1151.000</td><td>1136.000</td><td>1123.000</td></tr>\n",
       "\t<tr><th scope=row>2018</th><td>1114.000</td><td>1111.000</td><td>1097.000</td><td>1094.000</td></tr>\n",
       "\t<tr><th scope=row>2019</th><td>1086.000</td><td>1080.000</td><td>1067.000</td><td>1063.000</td></tr>\n",
       "\t<tr><th scope=row>2020</th><td>1073.156</td><td>1073.076</td><td>1071.870</td><td>1072.746</td></tr>\n",
       "\t<tr><th scope=row>2021</th><td>1071.007</td><td>1068.612</td><td>        </td><td>        </td></tr>\n",
       "</tbody>\n",
       "</table>\n"
      ],
      "text/latex": [
       "A Time Series: 12 × 4\n",
       "\\begin{tabular}{r|llll}\n",
       "  & Qtr1 & Qtr2 & Qtr3 & Qtr4\\\\\n",
       "\\hline\n",
       "\t2010 & 1290.000 & 1284.000 & 1279.000 & 1278.000\\\\\n",
       "\t2011 & 1276.000 & 1274.000 & 1269.000 & 1267.000\\\\\n",
       "\t2012 & 1259.000 & 1257.000 & 1256.000 & 1256.000\\\\\n",
       "\t2013 & 1247.000 & 1244.000 & 1240.000 & 1233.000\\\\\n",
       "\t2014 & 1224.000 & 1224.000 & 1221.000 & 1318.000\\\\\n",
       "\t2015 & 1208.000 & 1197.000 & 1199.000 & 1197.000\\\\\n",
       "\t2016 & 1191.000 & 1178.000 & 1174.000 & 1166.000\\\\\n",
       "\t2017 & 1160.000 & 1151.000 & 1136.000 & 1123.000\\\\\n",
       "\t2018 & 1114.000 & 1111.000 & 1097.000 & 1094.000\\\\\n",
       "\t2019 & 1086.000 & 1080.000 & 1067.000 & 1063.000\\\\\n",
       "\t2020 & 1073.156 & 1073.076 & 1071.870 & 1072.746\\\\\n",
       "\t2021 & 1071.007 & 1068.612 &          &         \\\\\n",
       "\\end{tabular}\n"
      ],
      "text/markdown": [
       "\n",
       "A Time Series: 12 × 4\n",
       "\n",
       "| <!--/--> | Qtr1 | Qtr2 | Qtr3 | Qtr4 |\n",
       "|---|---|---|---|---|\n",
       "| 2010 | 1290.000 | 1284.000 | 1279.000 | 1278.000 |\n",
       "| 2011 | 1276.000 | 1274.000 | 1269.000 | 1267.000 |\n",
       "| 2012 | 1259.000 | 1257.000 | 1256.000 | 1256.000 |\n",
       "| 2013 | 1247.000 | 1244.000 | 1240.000 | 1233.000 |\n",
       "| 2014 | 1224.000 | 1224.000 | 1221.000 | 1318.000 |\n",
       "| 2015 | 1208.000 | 1197.000 | 1199.000 | 1197.000 |\n",
       "| 2016 | 1191.000 | 1178.000 | 1174.000 | 1166.000 |\n",
       "| 2017 | 1160.000 | 1151.000 | 1136.000 | 1123.000 |\n",
       "| 2018 | 1114.000 | 1111.000 | 1097.000 | 1094.000 |\n",
       "| 2019 | 1086.000 | 1080.000 | 1067.000 | 1063.000 |\n",
       "| 2020 | 1073.156 | 1073.076 | 1071.870 | 1072.746 |\n",
       "| 2021 | 1071.007 | 1068.612 | <!----> | <!----> |\n",
       "\n"
      ],
      "text/plain": [
       "     Qtr1     Qtr2     Qtr3     Qtr4    \n",
       "2010 1290.000 1284.000 1279.000 1278.000\n",
       "2011 1276.000 1274.000 1269.000 1267.000\n",
       "2012 1259.000 1257.000 1256.000 1256.000\n",
       "2013 1247.000 1244.000 1240.000 1233.000\n",
       "2014 1224.000 1224.000 1221.000 1318.000\n",
       "2015 1208.000 1197.000 1199.000 1197.000\n",
       "2016 1191.000 1178.000 1174.000 1166.000\n",
       "2017 1160.000 1151.000 1136.000 1123.000\n",
       "2018 1114.000 1111.000 1097.000 1094.000\n",
       "2019 1086.000 1080.000 1067.000 1063.000\n",
       "2020 1073.156 1073.076 1071.870 1072.746\n",
       "2021 1071.007 1068.612                  "
      ]
     },
     "metadata": {},
     "output_type": "display_data"
    },
    {
     "data": {
      "text/html": [
       "<table class=\"dataframe\">\n",
       "<caption>A Time Series: 12 × 4</caption>\n",
       "<thead>\n",
       "\t<tr><th></th><th scope=col>Qtr1</th><th scope=col>Qtr2</th><th scope=col>Qtr3</th><th scope=col>Qtr4</th></tr>\n",
       "</thead>\n",
       "<tbody>\n",
       "\t<tr><th scope=row>2010</th><td>1290</td><td>1284</td><td>1279</td><td>1278</td></tr>\n",
       "\t<tr><th scope=row>2011</th><td>1276</td><td>1274</td><td>1269</td><td>1267</td></tr>\n",
       "\t<tr><th scope=row>2012</th><td>1259</td><td>1257</td><td>1256</td><td>1256</td></tr>\n",
       "\t<tr><th scope=row>2013</th><td>1247</td><td>1244</td><td>1240</td><td>1233</td></tr>\n",
       "\t<tr><th scope=row>2014</th><td>1224</td><td>1224</td><td>1221</td><td>1318</td></tr>\n",
       "\t<tr><th scope=row>2015</th><td>1208</td><td>1197</td><td>1199</td><td>1197</td></tr>\n",
       "\t<tr><th scope=row>2016</th><td>1191</td><td>1178</td><td>1174</td><td>1166</td></tr>\n",
       "\t<tr><th scope=row>2017</th><td>1160</td><td>1151</td><td>1136</td><td>1123</td></tr>\n",
       "\t<tr><th scope=row>2018</th><td>1114</td><td>1111</td><td>1097</td><td>1094</td></tr>\n",
       "\t<tr><th scope=row>2019</th><td>1086</td><td>1080</td><td>1067</td><td>1063</td></tr>\n",
       "\t<tr><th scope=row>2020</th><td>1060</td><td>1051</td><td>1041</td><td>1038</td></tr>\n",
       "\t<tr><th scope=row>2021</th><td>1019</td><td>1012</td><td>    </td><td>    </td></tr>\n",
       "</tbody>\n",
       "</table>\n"
      ],
      "text/latex": [
       "A Time Series: 12 × 4\n",
       "\\begin{tabular}{r|llll}\n",
       "  & Qtr1 & Qtr2 & Qtr3 & Qtr4\\\\\n",
       "\\hline\n",
       "\t2010 & 1290 & 1284 & 1279 & 1278\\\\\n",
       "\t2011 & 1276 & 1274 & 1269 & 1267\\\\\n",
       "\t2012 & 1259 & 1257 & 1256 & 1256\\\\\n",
       "\t2013 & 1247 & 1244 & 1240 & 1233\\\\\n",
       "\t2014 & 1224 & 1224 & 1221 & 1318\\\\\n",
       "\t2015 & 1208 & 1197 & 1199 & 1197\\\\\n",
       "\t2016 & 1191 & 1178 & 1174 & 1166\\\\\n",
       "\t2017 & 1160 & 1151 & 1136 & 1123\\\\\n",
       "\t2018 & 1114 & 1111 & 1097 & 1094\\\\\n",
       "\t2019 & 1086 & 1080 & 1067 & 1063\\\\\n",
       "\t2020 & 1060 & 1051 & 1041 & 1038\\\\\n",
       "\t2021 & 1019 & 1012 &      &     \\\\\n",
       "\\end{tabular}\n"
      ],
      "text/markdown": [
       "\n",
       "A Time Series: 12 × 4\n",
       "\n",
       "| <!--/--> | Qtr1 | Qtr2 | Qtr3 | Qtr4 |\n",
       "|---|---|---|---|---|\n",
       "| 2010 | 1290 | 1284 | 1279 | 1278 |\n",
       "| 2011 | 1276 | 1274 | 1269 | 1267 |\n",
       "| 2012 | 1259 | 1257 | 1256 | 1256 |\n",
       "| 2013 | 1247 | 1244 | 1240 | 1233 |\n",
       "| 2014 | 1224 | 1224 | 1221 | 1318 |\n",
       "| 2015 | 1208 | 1197 | 1199 | 1197 |\n",
       "| 2016 | 1191 | 1178 | 1174 | 1166 |\n",
       "| 2017 | 1160 | 1151 | 1136 | 1123 |\n",
       "| 2018 | 1114 | 1111 | 1097 | 1094 |\n",
       "| 2019 | 1086 | 1080 | 1067 | 1063 |\n",
       "| 2020 | 1060 | 1051 | 1041 | 1038 |\n",
       "| 2021 | 1019 | 1012 | <!----> | <!----> |\n",
       "\n"
      ],
      "text/plain": [
       "     Qtr1 Qtr2 Qtr3 Qtr4\n",
       "2010 1290 1284 1279 1278\n",
       "2011 1276 1274 1269 1267\n",
       "2012 1259 1257 1256 1256\n",
       "2013 1247 1244 1240 1233\n",
       "2014 1224 1224 1221 1318\n",
       "2015 1208 1197 1199 1197\n",
       "2016 1191 1178 1174 1166\n",
       "2017 1160 1151 1136 1123\n",
       "2018 1114 1111 1097 1094\n",
       "2019 1086 1080 1067 1063\n",
       "2020 1060 1051 1041 1038\n",
       "2021 1019 1012          "
      ]
     },
     "metadata": {},
     "output_type": "display_data"
    },
    {
     "data": {
      "image/png": "[encoded data removed]",
      "text/plain": [
       "plot without title"
      ]
     },
     "metadata": {
      "image/png": {
       "height": 420,
       "width": 420
      }
     },
     "output_type": "display_data"
    }
   ],
   "source": [
    "index_secteur=1\n",
    "pred <- c(df.ts[,index_secteur],LSTM_forecast_covid_non_stable[,,index_secteur])\n",
    "pred <-ts(pred, start=c(2010,1),frequency=4)\n",
    "obs <- df.ts[,index_secteur]\n",
    "obs <-c(obs,covid.ts[,index_secteur])\n",
    "obs <-ts(obs, start=c(2010,1),frequency=4)\n",
    "pred\n",
    "obs\n",
    "plot.ts(\n",
    "    cbind(pred,obs),\n",
    "    plot.type=\"single\",\n",
    "    lty=c(2,1),\n",
    "    lwd=1,\n",
    "    xlab=\"t\",\n",
    "    ylab=paste(\"Nombre d'Etablissements en GE pour le secteur :\",lab.to.num$lab[index_secteur],sep=\"\"),\n",
    "    \n",
    "    col=c(\"blue\",\"red\")\n",
    ")\n",
    "legend(\"topleft\",\n",
    "\n",
    "    legend=c(\"Prédictions\",\"Observations\"),\n",
    "    col=c(\"blue\",\"red\"),\n",
    "    lty=c(2,1),\n",
    "    lwd=1\n",
    ")"
   ]
  },
  {
   "cell_type": "code",
   "execution_count": 101,
   "metadata": {
    "vscode": {
     "languageId": "r"
    }
   },
   "outputs": [],
   "source": [
    "#-------------------------------\n",
    "#Save all plots\n",
    "for( index_secteur in 1:ncol(scaled_train)){\n",
    "\n",
    "    png(file=paste(\"plots/LSTM_non_stable/covid_forecast/\",index_secteur,\".png\",sep=\"\"))\n",
    "    pred <- c(df.ts[,index_secteur],LSTM_forecast_covid_non_stable[,,index_secteur])\n",
    "    pred <-ts(pred, start=c(2010,1),frequency=4)\n",
    "    obs <- df.ts[,index_secteur]\n",
    "    obs <-c(obs,covid.ts[,index_secteur])\n",
    "    obs <-ts(obs, start=c(2010,1),frequency=4)\n",
    "\n",
    "    plot.ts(\n",
    "        cbind(pred,obs),\n",
    "        plot.type=\"single\",\n",
    "        lty=c(2,1),\n",
    "        lwd=1,\n",
    "        xlab=\"t\",\n",
    "        ylab=paste(\"Nombre d'Etablissements en GE pour le secteur :\",lab.to.num$lab[index_secteur],sep=\"\"),\n",
    "\n",
    "        col=c(\"blue\",\"red\")\n",
    "    )\n",
    "    legend(\"topleft\",\n",
    "\n",
    "        legend=c(\"Prédictions\",\"Observations\"),\n",
    "        col=c(\"blue\",\"red\"),\n",
    "        lty=c(2,1),\n",
    "        lwd=1\n",
    "    )\n",
    "    dev.off()\n",
    "}"
   ]
  },
  {
   "cell_type": "markdown",
   "metadata": {},
   "source": [
    "<hr>\n",
    "\n",
    "### Analyse des ecarts entre test et prediction *RMSE, MAE,MAPE,sMAPE*"
   ]
  },
  {
   "cell_type": "code",
   "execution_count": 103,
   "metadata": {
    "vscode": {
     "languageId": "r"
    }
   },
   "outputs": [],
   "source": [
    "RMSE <- c()\n",
    "for (index_secteur in 1:dim(LSTM_forecast_eval_nonstable)[3]){\n",
    "    pred <- c(df.ts[,index_secteur],LSTM_forecast_covid_non_stable[,,index_secteur])\n",
    "    pred <-ts(pred, start=c(2010,1),frequency=4)\n",
    "    obs <- df.ts[,index_secteur]\n",
    "    obs <-c(obs,covid.ts[,index_secteur])\n",
    "    obs <-ts(obs, start=c(2010,1),frequency=4)\n",
    "    obs <- obs[(length(obs)-6+1):length(obs)]\n",
    "    pred <- pred[(length(pred)-6+1):length(pred)]\n",
    "    RMSE <-c(RMSE,sqrt(mean((obs-pred)^2)))\n",
    "}\n",
    "RMSE <- RMSE %>% as.data.frame()\n",
    "colnames(RMSE) <- \"RMSE\"\n",
    "\n",
    "\n",
    "#------------------------------------\n",
    "\n",
    "MAE <- c()\n",
    "for (index_secteur in 1:dim(LSTM_forecast_eval_nonstable)[3]){\n",
    "    pred <- c(df.ts[,index_secteur],LSTM_forecast_covid_non_stable[,,index_secteur])\n",
    "    pred <-ts(pred, start=c(2010,1),frequency=4)\n",
    "    obs <- df.ts[,index_secteur]\n",
    "    obs <-c(obs,covid.ts[,index_secteur])\n",
    "    obs <-ts(obs, start=c(2010,1),frequency=4)\n",
    "    obs <- obs[(length(obs)-6+1):length(obs)]\n",
    "    pred <- pred[(length(pred)-6+1):length(pred)]\n",
    "    MAE <-c(MAE,mean(abs(obs-pred)))\n",
    "    \n",
    "}\n",
    "MAE <- MAE %>%as.data.frame()\n",
    "colnames(MAE) <- \"MAE\"\n",
    "\n",
    "#------------------------------------\n",
    "\n",
    "\n",
    "MAPE <- c()\n",
    "for (index_secteur in 1:dim(LSTM_forecast_eval_nonstable)[3]){\n",
    "    pred <- c(df.ts[,index_secteur],LSTM_forecast_covid_non_stable[,,index_secteur])\n",
    "    pred <-ts(pred, start=c(2010,1),frequency=4)\n",
    "    obs <- df.ts[,index_secteur]\n",
    "    obs <-c(obs,covid.ts[,index_secteur])\n",
    "    obs <-ts(obs, start=c(2010,1),frequency=4)\n",
    "    obs <- obs[(length(obs)-6+1):length(obs)]\n",
    "    pred <- pred[(length(pred)-6+1):length(pred)]\n",
    "    \n",
    "    MAPE <-c(MAPE,mean(abs((obs-pred)*100/obs)))\n",
    "    \n",
    "}\n",
    "MAPE <- MAPE %>%as.data.frame()\n",
    "colnames(MAPE) <- \"MAPE\"\n",
    "\n",
    "#------------------------------------\n",
    "\n",
    "sMAPE <- c()\n",
    "for (index_secteur in 1:dim(LSTM_forecast_eval_nonstable)[3]){\n",
    "    pred <- c(df.ts[,index_secteur],LSTM_forecast_covid_non_stable[,,index_secteur])\n",
    "    pred <-ts(pred, start=c(2010,1),frequency=4)\n",
    "    obs <- df.ts[,index_secteur]\n",
    "    obs <-c(obs,covid.ts[,index_secteur])\n",
    "    obs <-ts(obs, start=c(2010,1),frequency=4)\n",
    "    obs <- obs[(length(obs)-6+1):length(obs)]\n",
    "    pred <- pred[(length(pred)-6+1):length(pred)]\n",
    "    sMAPE <-c(sMAPE,mean(200*abs(obs-pred)/(obs+pred)))\n",
    "    \n",
    "}\n",
    "sMAPE <- sMAPE %>%as.data.frame()\n",
    "colnames(sMAPE) <- \"sMAPE\""
   ]
  },
  {
   "cell_type": "code",
   "execution_count": 104,
   "metadata": {
    "vscode": {
     "languageId": "r"
    }
   },
   "outputs": [
    {
     "data": {
      "text/html": [
       "<table class=\"dataframe\">\n",
       "<caption>A data.frame: 26 × 5</caption>\n",
       "<thead>\n",
       "\t<tr><th scope=col>secteurs</th><th scope=col>RMSE</th><th scope=col>MAE</th><th scope=col>MAPE</th><th scope=col>sMAPE</th></tr>\n",
       "\t<tr><th scope=col>&lt;chr&gt;</th><th scope=col>&lt;dbl&gt;</th><th scope=col>&lt;dbl&gt;</th><th scope=col>&lt;dbl&gt;</th><th scope=col>&lt;dbl&gt;</th></tr>\n",
       "</thead>\n",
       "<tbody>\n",
       "\t<tr><td>64 Activités des services financiers, hors assurance et</td><td> 38.1450582</td><td> 34.9111953</td><td> 3.3920397</td><td> 3.3241860</td></tr>\n",
       "\t<tr><td>65-66 Assurance ; Activités auxiliaires de services fin</td><td> 24.9892560</td><td> 23.6659244</td><td> 6.7170724</td><td> 6.4730262</td></tr>\n",
       "\t<tr><td>852 Enseignement primaire                              </td><td>  2.0400645</td><td>  1.6316644</td><td> 2.2641781</td><td> 2.3046536</td></tr>\n",
       "\t<tr><td>853 Enseignement secondaire                            </td><td>  0.9100466</td><td>  0.7965242</td><td> 0.5504218</td><td> 0.5490186</td></tr>\n",
       "\t<tr><td>85x Enseignement / Autre                               </td><td> 38.4874325</td><td> 29.5706568</td><td> 2.9406685</td><td> 2.8699426</td></tr>\n",
       "\t<tr><td>861 Activités hospitalières                            </td><td>  2.6872236</td><td>  2.6606309</td><td> 2.6816090</td><td> 2.7187593</td></tr>\n",
       "\t<tr><td>862 Activité des médecins et des dentistes             </td><td>  4.5352783</td><td>  3.7401915</td><td> 2.0783683</td><td> 2.0791960</td></tr>\n",
       "\t<tr><td>869 Autres activités pour la santé humaine             </td><td>  9.3334728</td><td>  7.8252777</td><td> 6.1530653</td><td> 5.8938531</td></tr>\n",
       "\t<tr><td>87 Hébergement médico-social et social                 </td><td> 12.2240972</td><td> 10.5113972</td><td> 1.0563939</td><td> 1.0639682</td></tr>\n",
       "\t<tr><td>881 Action sociale sans hébergement pour personnes âgée</td><td>  5.6152876</td><td>  4.7906010</td><td> 0.8844962</td><td> 0.8791652</td></tr>\n",
       "\t<tr><td>889 Autre action sociale sans hébergement              </td><td> 21.3976706</td><td> 19.9705112</td><td> 1.3272730</td><td> 1.3374486</td></tr>\n",
       "\t<tr><td>931 Activités liées au sport                           </td><td>111.3207937</td><td> 94.1544712</td><td> 7.7136640</td><td> 7.3085157</td></tr>\n",
       "\t<tr><td>932 Activités récréatives et de loisirs                </td><td> 27.5941983</td><td> 27.0697832</td><td>18.5742400</td><td>16.9255307</td></tr>\n",
       "\t<tr><td>FZ_Construction                                        </td><td>  1.2223107</td><td>  1.0868609</td><td> 2.8836534</td><td> 2.9351539</td></tr>\n",
       "\t<tr><td>GZ_Commerce, réparation d'automobiles et de motocycles </td><td> 23.9529858</td><td> 23.8991497</td><td>15.9950418</td><td>17.3908064</td></tr>\n",
       "\t<tr><td>HZ_Transports et entreposage                           </td><td>  0.7250860</td><td>  0.5223458</td><td> 5.2145951</td><td> 4.9645853</td></tr>\n",
       "\t<tr><td>IZ_Hébergement et restauration                         </td><td> 11.9067120</td><td> 10.3831131</td><td> 5.0589560</td><td> 4.8955295</td></tr>\n",
       "\t<tr><td>JA_Edition et audiovisuel                              </td><td>  4.4143569</td><td>  3.9025547</td><td> 3.6148480</td><td> 3.5516842</td></tr>\n",
       "\t<tr><td>JB-JC_Télécommunications et ativités informatiques     </td><td>  3.6415891</td><td>  3.5729324</td><td>37.7128647</td><td>31.4379998</td></tr>\n",
       "\t<tr><td>LZ_Activités immobilières                              </td><td>  1.2139210</td><td>  0.9493233</td><td> 3.5575802</td><td> 3.4784083</td></tr>\n",
       "\t<tr><td>MA_Activités juridiques, de conseil et d'ingénierie    </td><td>  5.8646760</td><td>  4.3589145</td><td> 2.2032883</td><td> 2.2475890</td></tr>\n",
       "\t<tr><td>MB-MC_R&amp;d et autres activités scientifiques et techniqu</td><td><span style=white-space:pre-wrap>  2.3069162</span></td><td><span style=white-space:pre-wrap>  1.7157157</span></td><td> 3.0646366</td><td> 2.9825849</td></tr>\n",
       "\t<tr><td>NZ_Activités de services administratifs et de soutien  </td><td>  3.0406535</td><td>  2.7575196</td><td> 0.9861519</td><td> 0.9909529</td></tr>\n",
       "\t<tr><td>RZ_Arts, spectacles et activités récréatives           </td><td>100.3654629</td><td> 78.8605841</td><td> 9.0756141</td><td> 8.4276400</td></tr>\n",
       "\t<tr><td>SZ_autres activités de services                        </td><td>211.1873177</td><td>196.8916484</td><td> 7.3897915</td><td> 7.0857825</td></tr>\n",
       "\t<tr><td>i_Industrie et agriculture                             </td><td>  8.0910997</td><td>  7.8697185</td><td>10.8692049</td><td>11.5253144</td></tr>\n",
       "</tbody>\n",
       "</table>\n"
      ],
      "text/latex": [
       "A data.frame: 26 × 5\n",
       "\\begin{tabular}{lllll}\n",
       " secteurs & RMSE & MAE & MAPE & sMAPE\\\\\n",
       " <chr> & <dbl> & <dbl> & <dbl> & <dbl>\\\\\n",
       "\\hline\n",
       "\t 64 Activités des services financiers, hors assurance et &  38.1450582 &  34.9111953 &  3.3920397 &  3.3241860\\\\\n",
       "\t 65-66 Assurance ; Activités auxiliaires de services fin &  24.9892560 &  23.6659244 &  6.7170724 &  6.4730262\\\\\n",
       "\t 852 Enseignement primaire                               &   2.0400645 &   1.6316644 &  2.2641781 &  2.3046536\\\\\n",
       "\t 853 Enseignement secondaire                             &   0.9100466 &   0.7965242 &  0.5504218 &  0.5490186\\\\\n",
       "\t 85x Enseignement / Autre                                &  38.4874325 &  29.5706568 &  2.9406685 &  2.8699426\\\\\n",
       "\t 861 Activités hospitalières                             &   2.6872236 &   2.6606309 &  2.6816090 &  2.7187593\\\\\n",
       "\t 862 Activité des médecins et des dentistes              &   4.5352783 &   3.7401915 &  2.0783683 &  2.0791960\\\\\n",
       "\t 869 Autres activités pour la santé humaine              &   9.3334728 &   7.8252777 &  6.1530653 &  5.8938531\\\\\n",
       "\t 87 Hébergement médico-social et social                  &  12.2240972 &  10.5113972 &  1.0563939 &  1.0639682\\\\\n",
       "\t 881 Action sociale sans hébergement pour personnes âgée &   5.6152876 &   4.7906010 &  0.8844962 &  0.8791652\\\\\n",
       "\t 889 Autre action sociale sans hébergement               &  21.3976706 &  19.9705112 &  1.3272730 &  1.3374486\\\\\n",
       "\t 931 Activités liées au sport                            & 111.3207937 &  94.1544712 &  7.7136640 &  7.3085157\\\\\n",
       "\t 932 Activités récréatives et de loisirs                 &  27.5941983 &  27.0697832 & 18.5742400 & 16.9255307\\\\\n",
       "\t FZ\\_Construction                                         &   1.2223107 &   1.0868609 &  2.8836534 &  2.9351539\\\\\n",
       "\t GZ\\_Commerce, réparation d'automobiles et de motocycles  &  23.9529858 &  23.8991497 & 15.9950418 & 17.3908064\\\\\n",
       "\t HZ\\_Transports et entreposage                            &   0.7250860 &   0.5223458 &  5.2145951 &  4.9645853\\\\\n",
       "\t IZ\\_Hébergement et restauration                          &  11.9067120 &  10.3831131 &  5.0589560 &  4.8955295\\\\\n",
       "\t JA\\_Edition et audiovisuel                               &   4.4143569 &   3.9025547 &  3.6148480 &  3.5516842\\\\\n",
       "\t JB-JC\\_Télécommunications et ativités informatiques      &   3.6415891 &   3.5729324 & 37.7128647 & 31.4379998\\\\\n",
       "\t LZ\\_Activités immobilières                               &   1.2139210 &   0.9493233 &  3.5575802 &  3.4784083\\\\\n",
       "\t MA\\_Activités juridiques, de conseil et d'ingénierie     &   5.8646760 &   4.3589145 &  2.2032883 &  2.2475890\\\\\n",
       "\t MB-MC\\_R\\&d et autres activités scientifiques et techniqu &   2.3069162 &   1.7157157 &  3.0646366 &  2.9825849\\\\\n",
       "\t NZ\\_Activités de services administratifs et de soutien   &   3.0406535 &   2.7575196 &  0.9861519 &  0.9909529\\\\\n",
       "\t RZ\\_Arts, spectacles et activités récréatives            & 100.3654629 &  78.8605841 &  9.0756141 &  8.4276400\\\\\n",
       "\t SZ\\_autres activités de services                         & 211.1873177 & 196.8916484 &  7.3897915 &  7.0857825\\\\\n",
       "\t i\\_Industrie et agriculture                              &   8.0910997 &   7.8697185 & 10.8692049 & 11.5253144\\\\\n",
       "\\end{tabular}\n"
      ],
      "text/markdown": [
       "\n",
       "A data.frame: 26 × 5\n",
       "\n",
       "| secteurs &lt;chr&gt; | RMSE &lt;dbl&gt; | MAE &lt;dbl&gt; | MAPE &lt;dbl&gt; | sMAPE &lt;dbl&gt; |\n",
       "|---|---|---|---|---|\n",
       "| 64 Activités des services financiers, hors assurance et |  38.1450582 |  34.9111953 |  3.3920397 |  3.3241860 |\n",
       "| 65-66 Assurance ; Activités auxiliaires de services fin |  24.9892560 |  23.6659244 |  6.7170724 |  6.4730262 |\n",
       "| 852 Enseignement primaire                               |   2.0400645 |   1.6316644 |  2.2641781 |  2.3046536 |\n",
       "| 853 Enseignement secondaire                             |   0.9100466 |   0.7965242 |  0.5504218 |  0.5490186 |\n",
       "| 85x Enseignement / Autre                                |  38.4874325 |  29.5706568 |  2.9406685 |  2.8699426 |\n",
       "| 861 Activités hospitalières                             |   2.6872236 |   2.6606309 |  2.6816090 |  2.7187593 |\n",
       "| 862 Activité des médecins et des dentistes              |   4.5352783 |   3.7401915 |  2.0783683 |  2.0791960 |\n",
       "| 869 Autres activités pour la santé humaine              |   9.3334728 |   7.8252777 |  6.1530653 |  5.8938531 |\n",
       "| 87 Hébergement médico-social et social                  |  12.2240972 |  10.5113972 |  1.0563939 |  1.0639682 |\n",
       "| 881 Action sociale sans hébergement pour personnes âgée |   5.6152876 |   4.7906010 |  0.8844962 |  0.8791652 |\n",
       "| 889 Autre action sociale sans hébergement               |  21.3976706 |  19.9705112 |  1.3272730 |  1.3374486 |\n",
       "| 931 Activités liées au sport                            | 111.3207937 |  94.1544712 |  7.7136640 |  7.3085157 |\n",
       "| 932 Activités récréatives et de loisirs                 |  27.5941983 |  27.0697832 | 18.5742400 | 16.9255307 |\n",
       "| FZ_Construction                                         |   1.2223107 |   1.0868609 |  2.8836534 |  2.9351539 |\n",
       "| GZ_Commerce, réparation d'automobiles et de motocycles  |  23.9529858 |  23.8991497 | 15.9950418 | 17.3908064 |\n",
       "| HZ_Transports et entreposage                            |   0.7250860 |   0.5223458 |  5.2145951 |  4.9645853 |\n",
       "| IZ_Hébergement et restauration                          |  11.9067120 |  10.3831131 |  5.0589560 |  4.8955295 |\n",
       "| JA_Edition et audiovisuel                               |   4.4143569 |   3.9025547 |  3.6148480 |  3.5516842 |\n",
       "| JB-JC_Télécommunications et ativités informatiques      |   3.6415891 |   3.5729324 | 37.7128647 | 31.4379998 |\n",
       "| LZ_Activités immobilières                               |   1.2139210 |   0.9493233 |  3.5575802 |  3.4784083 |\n",
       "| MA_Activités juridiques, de conseil et d'ingénierie     |   5.8646760 |   4.3589145 |  2.2032883 |  2.2475890 |\n",
       "| MB-MC_R&amp;d et autres activités scientifiques et techniqu |   2.3069162 |   1.7157157 |  3.0646366 |  2.9825849 |\n",
       "| NZ_Activités de services administratifs et de soutien   |   3.0406535 |   2.7575196 |  0.9861519 |  0.9909529 |\n",
       "| RZ_Arts, spectacles et activités récréatives            | 100.3654629 |  78.8605841 |  9.0756141 |  8.4276400 |\n",
       "| SZ_autres activités de services                         | 211.1873177 | 196.8916484 |  7.3897915 |  7.0857825 |\n",
       "| i_Industrie et agriculture                              |   8.0910997 |   7.8697185 | 10.8692049 | 11.5253144 |\n",
       "\n"
      ],
      "text/plain": [
       "   secteurs                                                RMSE       \n",
       "1  64 Activités des services financiers, hors assurance et  38.1450582\n",
       "2  65-66 Assurance ; Activités auxiliaires de services fin  24.9892560\n",
       "3  852 Enseignement primaire                                 2.0400645\n",
       "4  853 Enseignement secondaire                               0.9100466\n",
       "5  85x Enseignement / Autre                                 38.4874325\n",
       "6  861 Activités hospitalières                               2.6872236\n",
       "7  862 Activité des médecins et des dentistes                4.5352783\n",
       "8  869 Autres activités pour la santé humaine                9.3334728\n",
       "9  87 Hébergement médico-social et social                   12.2240972\n",
       "10 881 Action sociale sans hébergement pour personnes âgée   5.6152876\n",
       "11 889 Autre action sociale sans hébergement                21.3976706\n",
       "12 931 Activités liées au sport                            111.3207937\n",
       "13 932 Activités récréatives et de loisirs                  27.5941983\n",
       "14 FZ_Construction                                           1.2223107\n",
       "15 GZ_Commerce, réparation d'automobiles et de motocycles   23.9529858\n",
       "16 HZ_Transports et entreposage                              0.7250860\n",
       "17 IZ_Hébergement et restauration                           11.9067120\n",
       "18 JA_Edition et audiovisuel                                 4.4143569\n",
       "19 JB-JC_Télécommunications et ativités informatiques        3.6415891\n",
       "20 LZ_Activités immobilières                                 1.2139210\n",
       "21 MA_Activités juridiques, de conseil et d'ingénierie       5.8646760\n",
       "22 MB-MC_R&d et autres activités scientifiques et techniqu   2.3069162\n",
       "23 NZ_Activités de services administratifs et de soutien     3.0406535\n",
       "24 RZ_Arts, spectacles et activités récréatives            100.3654629\n",
       "25 SZ_autres activités de services                         211.1873177\n",
       "26 i_Industrie et agriculture                                8.0910997\n",
       "   MAE         MAPE       sMAPE     \n",
       "1   34.9111953  3.3920397  3.3241860\n",
       "2   23.6659244  6.7170724  6.4730262\n",
       "3    1.6316644  2.2641781  2.3046536\n",
       "4    0.7965242  0.5504218  0.5490186\n",
       "5   29.5706568  2.9406685  2.8699426\n",
       "6    2.6606309  2.6816090  2.7187593\n",
       "7    3.7401915  2.0783683  2.0791960\n",
       "8    7.8252777  6.1530653  5.8938531\n",
       "9   10.5113972  1.0563939  1.0639682\n",
       "10   4.7906010  0.8844962  0.8791652\n",
       "11  19.9705112  1.3272730  1.3374486\n",
       "12  94.1544712  7.7136640  7.3085157\n",
       "13  27.0697832 18.5742400 16.9255307\n",
       "14   1.0868609  2.8836534  2.9351539\n",
       "15  23.8991497 15.9950418 17.3908064\n",
       "16   0.5223458  5.2145951  4.9645853\n",
       "17  10.3831131  5.0589560  4.8955295\n",
       "18   3.9025547  3.6148480  3.5516842\n",
       "19   3.5729324 37.7128647 31.4379998\n",
       "20   0.9493233  3.5575802  3.4784083\n",
       "21   4.3589145  2.2032883  2.2475890\n",
       "22   1.7157157  3.0646366  2.9825849\n",
       "23   2.7575196  0.9861519  0.9909529\n",
       "24  78.8605841  9.0756141  8.4276400\n",
       "25 196.8916484  7.3897915  7.0857825\n",
       "26   7.8697185 10.8692049 11.5253144"
      ]
     },
     "metadata": {},
     "output_type": "display_data"
    }
   ],
   "source": [
    "differences_analysis_nonstable <- cbind(\"secteurs\"=lab.to.num$lab,RMSE,MAE,MAPE,sMAPE)\n",
    "differences_analysis_nonstable "
   ]
  },
  {
   "cell_type": "markdown",
   "metadata": {},
   "source": [
    "<hr>\n",
    "\n",
    "<div id=\"LSTMB\">\n",
    "\n",
    "## II.B.2  Covid Forecasting : LSTM model with stable TS"
   ]
  },
  {
   "cell_type": "code",
   "execution_count": 105,
   "metadata": {
    "vscode": {
     "languageId": "r"
    }
   },
   "outputs": [],
   "source": [
    "df.diff <-diff(df.ts)\n",
    "df.train <-df.diff%>%as.data.frame\n",
    "scaled_train <- scale(df.train)\n",
    "scale_factor <-list(\"center\"=attr(scaled_train,\"scaled:center\"),\"sd\"=attr(scaled_train,\"scaled:scale\"))\n",
    "prediction <- 6\n",
    "lag <- prediction"
   ]
  },
  {
   "cell_type": "code",
   "execution_count": 106,
   "metadata": {
    "vscode": {
     "languageId": "r"
    }
   },
   "outputs": [
    {
     "name": "stdout",
     "output_type": "stream",
     "text": [
      "X_train interval : 1 2 3 4 5 6 7 8 9 10 11 12 13 14 15 16 17 18 19 20 21 22 23 24 25 26 27 28 \n",
      "Y_train interval : 7 8 9 10 11 12 13 14 15 16 17 18 19 20 21 22 23 24 25 26 27 28 29 30 31 32 33 34"
     ]
    }
   ],
   "source": [
    "x_train_data <-t(sapply(\n",
    "    1:(dim(scaled_train)[1]-lag-prediction +1),\n",
    "    function(x){scaled_train[x:(x+lag-1),1]}\n",
    "))\n",
    "\n",
    "for(i in 2:ncol(scaled_train)){\n",
    "    new <-t(sapply(\n",
    "        1:(dim(scaled_train)[1]-lag-prediction +1),\n",
    "        function(x){scaled_train[x:(x+lag-1),i]}\n",
    "    ))\n",
    "    x_train_data <-cbind(x_train_data,new)\n",
    "    \n",
    "}\n",
    "\n",
    "x_train_arr <- array(\n",
    "    data=as.numeric(unlist(x_train_data)),\n",
    "    dim=c(\n",
    "        nrow(x_train_data),\n",
    "        ncol(x_train_data),\n",
    "        1\n",
    "        )\n",
    "\n",
    ")\n",
    "\n",
    "y_train_data <-  t(sapply(\n",
    "    (1+lag):(dim(scaled_train)[1]-prediction +1),\n",
    "    function(x){scaled_train[x:(x+prediction-1),1]}\n",
    "))\n",
    "y_train_arr <-array(\n",
    "    data=as.numeric(unlist(y_train_data)),\n",
    "    dim=c(\n",
    "        nrow(y_train_data),\n",
    "        prediction,\n",
    "        1\n",
    "    )\n",
    ")\n",
    "cat(\"X_train interval :\",1:(dim(scaled_train)[1]-lag-prediction +1),\n",
    "\"\\nY_train interval :\",\n",
    "(1+lag):(dim(scaled_train)[1]-prediction +1))\n"
   ]
  },
  {
   "cell_type": "code",
   "execution_count": 107,
   "metadata": {
    "vscode": {
     "languageId": "r"
    }
   },
   "outputs": [
    {
     "data": {
      "text/html": [
       "<style>\n",
       ".list-inline {list-style: none; margin:0; padding: 0}\n",
       ".list-inline>li {display: inline-block}\n",
       ".list-inline>li:not(:last-child)::after {content: \"\\00b7\"; padding: 0 .5ex}\n",
       "</style>\n",
       "<ol class=list-inline><li>28</li><li>156</li><li>1</li></ol>\n"
      ],
      "text/latex": [
       "\\begin{enumerate*}\n",
       "\\item 28\n",
       "\\item 156\n",
       "\\item 1\n",
       "\\end{enumerate*}\n"
      ],
      "text/markdown": [
       "1. 28\n",
       "2. 156\n",
       "3. 1\n",
       "\n",
       "\n"
      ],
      "text/plain": [
       "[1]  28 156   1"
      ]
     },
     "metadata": {},
     "output_type": "display_data"
    },
    {
     "data": {
      "text/html": [
       "<style>\n",
       ".list-inline {list-style: none; margin:0; padding: 0}\n",
       ".list-inline>li {display: inline-block}\n",
       ".list-inline>li:not(:last-child)::after {content: \"\\00b7\"; padding: 0 .5ex}\n",
       "</style>\n",
       "<ol class=list-inline><li>28</li><li>6</li><li>1</li></ol>\n"
      ],
      "text/latex": [
       "\\begin{enumerate*}\n",
       "\\item 28\n",
       "\\item 6\n",
       "\\item 1\n",
       "\\end{enumerate*}\n"
      ],
      "text/markdown": [
       "1. 28\n",
       "2. 6\n",
       "3. 1\n",
       "\n",
       "\n"
      ],
      "text/plain": [
       "[1] 28  6  1"
      ]
     },
     "metadata": {},
     "output_type": "display_data"
    }
   ],
   "source": [
    "x_train_arr %>%dim\n",
    "y_train_arr %>%dim"
   ]
  },
  {
   "cell_type": "code",
   "execution_count": 108,
   "metadata": {
    "vscode": {
     "languageId": "r"
    }
   },
   "outputs": [],
   "source": [
    "#--------------------------------\n",
    "# Restructur data inputs for LSTM multivariate\n",
    "\n",
    "x_bis <-sapply(\n",
    "        1:ncol(scaled_train),\n",
    "        function(x){scaled_train[1:(28-1+1),x]}\n",
    ")\n",
    "\n",
    "x_bis_first_array <-array(\n",
    "    data=unlist(x_bis),\n",
    "    dim=c(nrow(x_bis),1,ncol(x_bis))\n",
    ")\n",
    "tot_array <-array(NA, dim=c(\n",
    "    nrow(x_bis),\n",
    "    6,\n",
    "    ncol(x_bis)\n",
    "))\n",
    "tot_array[,1,] <- x_bis_first_array\n",
    "\n",
    "\n",
    "for (i in 2:6){\n",
    "    new <-sapply(\n",
    "        1:ncol(scaled_train),\n",
    "        function(x){scaled_train[i:(i+28-1),x]}\n",
    "    )\n",
    "    new <- array(\n",
    "        data=unlist(new),\n",
    "        dim=c(nrow(x_bis),1,ncol(x_bis))\n",
    "    )\n",
    "    tot_array[,i,] <- new\n",
    "}\n",
    "x_train_arr_bis <- tot_array\n",
    "\n",
    "\n",
    "y_train_data_bis <-  t(sapply(\n",
    "    (1+lag):(dim(scaled_train)[1]-prediction +1),\n",
    "    function(x){scaled_train[x:(x+prediction-1),1]}\n",
    "))\n",
    "\n",
    "tot_array <-array(NA, dim=c(\n",
    "    nrow(y_train_data_bis),\n",
    "    6,\n",
    "    ncol(scaled_train)\n",
    "))\n",
    "\n",
    "tot_array[,,1] <- y_train_data_bis\n",
    "\n",
    "for (i in 2:ncol(scaled_train)){\n",
    "    new <-  t(sapply(\n",
    "        (1+lag):(dim(scaled_train)[1]-prediction +1),\n",
    "        function(x){scaled_train[x:(x+prediction-1),i]}\n",
    "    ))\n",
    "\n",
    "    new_array <- array(\n",
    "        data=as.numeric(unlist(new)),\n",
    "        dim=c(nrow(new),\n",
    "        ncol(new),\n",
    "        1)\n",
    "    )\n",
    "    tot_array[,,i] <- new_array\n",
    "\n",
    "}\n",
    "\n",
    "y_train_arr_bis <- tot_array"
   ]
  },
  {
   "cell_type": "code",
   "execution_count": 109,
   "metadata": {
    "vscode": {
     "languageId": "r"
    }
   },
   "outputs": [
    {
     "data": {
      "text/html": [
       "<style>\n",
       ".list-inline {list-style: none; margin:0; padding: 0}\n",
       ".list-inline>li {display: inline-block}\n",
       ".list-inline>li:not(:last-child)::after {content: \"\\00b7\"; padding: 0 .5ex}\n",
       "</style>\n",
       "<ol class=list-inline><li>28</li><li>6</li><li>26</li></ol>\n"
      ],
      "text/latex": [
       "\\begin{enumerate*}\n",
       "\\item 28\n",
       "\\item 6\n",
       "\\item 26\n",
       "\\end{enumerate*}\n"
      ],
      "text/markdown": [
       "1. 28\n",
       "2. 6\n",
       "3. 26\n",
       "\n",
       "\n"
      ],
      "text/plain": [
       "[1] 28  6 26"
      ]
     },
     "metadata": {},
     "output_type": "display_data"
    },
    {
     "data": {
      "text/html": [
       "<style>\n",
       ".list-inline {list-style: none; margin:0; padding: 0}\n",
       ".list-inline>li {display: inline-block}\n",
       ".list-inline>li:not(:last-child)::after {content: \"\\00b7\"; padding: 0 .5ex}\n",
       "</style>\n",
       "<ol class=list-inline><li>28</li><li>6</li><li>26</li></ol>\n"
      ],
      "text/latex": [
       "\\begin{enumerate*}\n",
       "\\item 28\n",
       "\\item 6\n",
       "\\item 26\n",
       "\\end{enumerate*}\n"
      ],
      "text/markdown": [
       "1. 28\n",
       "2. 6\n",
       "3. 26\n",
       "\n",
       "\n"
      ],
      "text/plain": [
       "[1] 28  6 26"
      ]
     },
     "metadata": {},
     "output_type": "display_data"
    }
   ],
   "source": [
    "x_train_arr_bis%>%dim\n",
    "y_train_arr_bis %>% dim"
   ]
  },
  {
   "cell_type": "code",
   "execution_count": 111,
   "metadata": {
    "vscode": {
     "languageId": "r"
    }
   },
   "outputs": [],
   "source": [
    "LSTM_model_stable_forecasting <- keras_model_sequential()\n",
    "\n",
    "LSTM_model_stable_forecasting %>% layer_lstm(\n",
    "    units=50,\n",
    "    batch_input_shape=c(1,6,26),#BATCH size , timestep ,features\n",
    "    return_sequences=T,\n",
    "    stateful=T\n",
    "\n",
    ")%>%\n",
    "layer_dropout(rate=0.5)%>%layer_lstm(\n",
    "    units =50,\n",
    "    return_sequences=T,stateful=T\n",
    ")%>% layer_dropout(rate=0.5)%>% time_distributed(keras::layer_dense(units=26))"
   ]
  },
  {
   "cell_type": "code",
   "execution_count": 112,
   "metadata": {
    "vscode": {
     "languageId": "r"
    }
   },
   "outputs": [
    {
     "name": "stdout",
     "output_type": "stream",
     "text": [
      "Model: \"sequential_5\"\n",
      "________________________________________________________________________________\n",
      " Layer (type)                       Output Shape                    Param #     \n",
      "================================================================================\n",
      " lstm_11 (LSTM)                     (1, 6, 50)                      15400       \n",
      " dropout_11 (Dropout)               (1, 6, 50)                      0           \n",
      " lstm_10 (LSTM)                     (1, 6, 50)                      20200       \n",
      " dropout_10 (Dropout)               (1, 6, 50)                      0           \n",
      " time_distributed_5 (TimeDistribute  (1, 6, 26)                     1326        \n",
      " d)                                                                             \n",
      "================================================================================\n",
      "Total params: 36,926\n",
      "Trainable params: 36,926\n",
      "Non-trainable params: 0\n",
      "________________________________________________________________________________\n"
     ]
    }
   ],
   "source": [
    "LSTM_model_stable_forecasting %>% compile(loss='mae',optimizer='adam',metrics='accuracy')\n",
    "summary(LSTM_model_stable_forecasting)"
   ]
  },
  {
   "cell_type": "code",
   "execution_count": 113,
   "metadata": {
    "vscode": {
     "languageId": "r"
    }
   },
   "outputs": [],
   "source": [
    "LSTM_model_stable_forecasting %>% keras::fit(\n",
    "    x=x_train_arr_bis,\n",
    "    y=y_train_arr_bis,\n",
    "    batch_size=1,\n",
    "    epochs=40,# Number of times to iterate over the training data\n",
    "    verbose=2,\n",
    "    shuffle=FALSE\n",
    ")"
   ]
  },
  {
   "cell_type": "code",
   "execution_count": 114,
   "metadata": {
    "vscode": {
     "languageId": "r"
    }
   },
   "outputs": [
    {
     "data": {
      "text/html": [
       "<style>\n",
       ".list-inline {list-style: none; margin:0; padding: 0}\n",
       ".list-inline>li {display: inline-block}\n",
       ".list-inline>li:not(:last-child)::after {content: \"\\00b7\"; padding: 0 .5ex}\n",
       "</style>\n",
       "<ol class=list-inline><li>28</li><li>6</li><li>26</li></ol>\n"
      ],
      "text/latex": [
       "\\begin{enumerate*}\n",
       "\\item 28\n",
       "\\item 6\n",
       "\\item 26\n",
       "\\end{enumerate*}\n"
      ],
      "text/markdown": [
       "1. 28\n",
       "2. 6\n",
       "3. 26\n",
       "\n",
       "\n"
      ],
      "text/plain": [
       "[1] 28  6 26"
      ]
     },
     "metadata": {},
     "output_type": "display_data"
    },
    {
     "data": {
      "text/html": [
       "<style>\n",
       ".list-inline {list-style: none; margin:0; padding: 0}\n",
       ".list-inline>li {display: inline-block}\n",
       ".list-inline>li:not(:last-child)::after {content: \"\\00b7\"; padding: 0 .5ex}\n",
       "</style>\n",
       "<ol class=list-inline><li>28</li><li>6</li><li>26</li></ol>\n"
      ],
      "text/latex": [
       "\\begin{enumerate*}\n",
       "\\item 28\n",
       "\\item 6\n",
       "\\item 26\n",
       "\\end{enumerate*}\n"
      ],
      "text/markdown": [
       "1. 28\n",
       "2. 6\n",
       "3. 26\n",
       "\n",
       "\n"
      ],
      "text/plain": [
       "[1] 28  6 26"
      ]
     },
     "metadata": {},
     "output_type": "display_data"
    }
   ],
   "source": [
    "x_train_arr_bis%>%dim\n",
    "y_train_arr_bis%>%dim"
   ]
  },
  {
   "cell_type": "code",
   "execution_count": 115,
   "metadata": {
    "vscode": {
     "languageId": "r"
    }
   },
   "outputs": [
    {
     "name": "stdout",
     "output_type": "stream",
     "text": [
      "X_test interval : 34 35 36 37 38 39"
     ]
    },
    {
     "data": {
      "text/html": [
       "<table class=\"dataframe\">\n",
       "<caption>A data.frame: 6 × 26</caption>\n",
       "<thead>\n",
       "\t<tr><th></th><th scope=col>1</th><th scope=col>2</th><th scope=col>3</th><th scope=col>4</th><th scope=col>5</th><th scope=col>6</th><th scope=col>7</th><th scope=col>8</th><th scope=col>9</th><th scope=col>10</th><th scope=col>⋯</th><th scope=col>17</th><th scope=col>18</th><th scope=col>19</th><th scope=col>20</th><th scope=col>21</th><th scope=col>22</th><th scope=col>23</th><th scope=col>24</th><th scope=col>25</th><th scope=col>26</th></tr>\n",
       "\t<tr><th></th><th scope=col>&lt;dbl&gt;</th><th scope=col>&lt;dbl&gt;</th><th scope=col>&lt;dbl&gt;</th><th scope=col>&lt;dbl&gt;</th><th scope=col>&lt;dbl&gt;</th><th scope=col>&lt;dbl&gt;</th><th scope=col>&lt;dbl&gt;</th><th scope=col>&lt;dbl&gt;</th><th scope=col>&lt;dbl&gt;</th><th scope=col>&lt;dbl&gt;</th><th scope=col>⋯</th><th scope=col>&lt;dbl&gt;</th><th scope=col>&lt;dbl&gt;</th><th scope=col>&lt;dbl&gt;</th><th scope=col>&lt;dbl&gt;</th><th scope=col>&lt;dbl&gt;</th><th scope=col>&lt;dbl&gt;</th><th scope=col>&lt;dbl&gt;</th><th scope=col>&lt;dbl&gt;</th><th scope=col>&lt;dbl&gt;</th><th scope=col>&lt;dbl&gt;</th></tr>\n",
       "</thead>\n",
       "<tbody>\n",
       "\t<tr><th scope=row>34</th><td>-0.339129297</td><td> 0.27574168</td><td>-0.07250747</td><td> 0.6807629</td><td>-1.3878366</td><td>-0.67485091</td><td>-0.5016331</td><td> 1.5151134</td><td> 1.33269168</td><td>-0.5840227</td><td>⋯</td><td> 1.0589631</td><td>-0.9439893</td><td>-0.61245961</td><td>-0.5145595</td><td>-1.2109560</td><td> 0.8919034</td><td> 0.46265195</td><td>-1.297037</td><td>-1.12764156</td><td> 1.2446400</td></tr>\n",
       "\t<tr><th scope=row>35</th><td> 0.116941137</td><td> 0.05627381</td><td>-0.07250747</td><td>-0.9447322</td><td> 0.5760831</td><td>-0.04820364</td><td>-0.2630515</td><td> 0.3564973</td><td>-0.07203739</td><td> 0.5548215</td><td>⋯</td><td>-0.9181435</td><td> 1.8521309</td><td> 0.75245037</td><td> 0.0588068</td><td> 0.6674019</td><td>-0.3653580</td><td> 0.08674724</td><td> 1.068196</td><td> 0.38785591</td><td> 0.7442177</td></tr>\n",
       "\t<tr><th scope=row>36</th><td>-0.090363606</td><td> 0.60494348</td><td>-0.07250747</td><td> 0.1389312</td><td>-0.1309280</td><td> 0.57844364</td><td> 1.1684382</td><td> 1.5151134</td><td> 0.77080005</td><td> 0.1752068</td><td>⋯</td><td> 0.1363133</td><td> 0.2210608</td><td> 0.75245037</td><td> 0.0588068</td><td> 0.3990651</td><td>-0.3653580</td><td>-0.28915747</td><td>-0.792454</td><td>-1.09904726</td><td>-1.2574713</td></tr>\n",
       "\t<tr><th scope=row>37</th><td>-0.007441709</td><td>-1.48000125</td><td>-0.07250747</td><td> 0.1389312</td><td> 0.2225776</td><td> 1.20509091</td><td> 0.2141117</td><td>-0.8021188</td><td>-0.35298320</td><td>-0.2044079</td><td>⋯</td><td> 0.2241847</td><td> 0.9200908</td><td> 0.06999538</td><td> 1.2055394</td><td> 0.6674019</td><td> 0.8919034</td><td> 0.08674724</td><td> 1.352024</td><td> 0.73098741</td><td> 0.2437955</td></tr>\n",
       "\t<tr><th scope=row>38</th><td>-0.297668349</td><td>-0.05346012</td><td> 1.81268664</td><td> 0.6807629</td><td> 0.1047424</td><td>-1.30149818</td><td>-0.7402147</td><td>-0.8021188</td><td> 0.48985424</td><td> 2.0732805</td><td>⋯</td><td> 0.8832203</td><td>-1.1769993</td><td> 0.06999538</td><td>-0.5145595</td><td>-0.9426192</td><td>-0.3653580</td><td> 1.59036606</td><td>-1.896229</td><td>-0.46997285</td><td> 0.2437955</td></tr>\n",
       "\t<tr><th scope=row>39</th><td> 0.075480188</td><td>-0.38266192</td><td> 1.81268664</td><td> 0.1389312</td><td> 0.6939183</td><td>-0.04820364</td><td>-0.5016331</td><td>-0.8021188</td><td>-0.63392901</td><td> 1.3140510</td><td>⋯</td><td>-0.9620792</td><td>-0.2449593</td><td> 0.06999538</td><td>-0.5145595</td><td> 0.9357388</td><td> 0.8919034</td><td>-0.47710982</td><td> 1.320487</td><td> 0.04472441</td><td> 1.7450622</td></tr>\n",
       "</tbody>\n",
       "</table>\n"
      ],
      "text/latex": [
       "A data.frame: 6 × 26\n",
       "\\begin{tabular}{r|lllllllllllllllllllll}\n",
       "  & 1 & 2 & 3 & 4 & 5 & 6 & 7 & 8 & 9 & 10 & ⋯ & 17 & 18 & 19 & 20 & 21 & 22 & 23 & 24 & 25 & 26\\\\\n",
       "  & <dbl> & <dbl> & <dbl> & <dbl> & <dbl> & <dbl> & <dbl> & <dbl> & <dbl> & <dbl> & ⋯ & <dbl> & <dbl> & <dbl> & <dbl> & <dbl> & <dbl> & <dbl> & <dbl> & <dbl> & <dbl>\\\\\n",
       "\\hline\n",
       "\t34 & -0.339129297 &  0.27574168 & -0.07250747 &  0.6807629 & -1.3878366 & -0.67485091 & -0.5016331 &  1.5151134 &  1.33269168 & -0.5840227 & ⋯ &  1.0589631 & -0.9439893 & -0.61245961 & -0.5145595 & -1.2109560 &  0.8919034 &  0.46265195 & -1.297037 & -1.12764156 &  1.2446400\\\\\n",
       "\t35 &  0.116941137 &  0.05627381 & -0.07250747 & -0.9447322 &  0.5760831 & -0.04820364 & -0.2630515 &  0.3564973 & -0.07203739 &  0.5548215 & ⋯ & -0.9181435 &  1.8521309 &  0.75245037 &  0.0588068 &  0.6674019 & -0.3653580 &  0.08674724 &  1.068196 &  0.38785591 &  0.7442177\\\\\n",
       "\t36 & -0.090363606 &  0.60494348 & -0.07250747 &  0.1389312 & -0.1309280 &  0.57844364 &  1.1684382 &  1.5151134 &  0.77080005 &  0.1752068 & ⋯ &  0.1363133 &  0.2210608 &  0.75245037 &  0.0588068 &  0.3990651 & -0.3653580 & -0.28915747 & -0.792454 & -1.09904726 & -1.2574713\\\\\n",
       "\t37 & -0.007441709 & -1.48000125 & -0.07250747 &  0.1389312 &  0.2225776 &  1.20509091 &  0.2141117 & -0.8021188 & -0.35298320 & -0.2044079 & ⋯ &  0.2241847 &  0.9200908 &  0.06999538 &  1.2055394 &  0.6674019 &  0.8919034 &  0.08674724 &  1.352024 &  0.73098741 &  0.2437955\\\\\n",
       "\t38 & -0.297668349 & -0.05346012 &  1.81268664 &  0.6807629 &  0.1047424 & -1.30149818 & -0.7402147 & -0.8021188 &  0.48985424 &  2.0732805 & ⋯ &  0.8832203 & -1.1769993 &  0.06999538 & -0.5145595 & -0.9426192 & -0.3653580 &  1.59036606 & -1.896229 & -0.46997285 &  0.2437955\\\\\n",
       "\t39 &  0.075480188 & -0.38266192 &  1.81268664 &  0.1389312 &  0.6939183 & -0.04820364 & -0.5016331 & -0.8021188 & -0.63392901 &  1.3140510 & ⋯ & -0.9620792 & -0.2449593 &  0.06999538 & -0.5145595 &  0.9357388 &  0.8919034 & -0.47710982 &  1.320487 &  0.04472441 &  1.7450622\\\\\n",
       "\\end{tabular}\n"
      ],
      "text/markdown": [
       "\n",
       "A data.frame: 6 × 26\n",
       "\n",
       "| <!--/--> | 1 &lt;dbl&gt; | 2 &lt;dbl&gt; | 3 &lt;dbl&gt; | 4 &lt;dbl&gt; | 5 &lt;dbl&gt; | 6 &lt;dbl&gt; | 7 &lt;dbl&gt; | 8 &lt;dbl&gt; | 9 &lt;dbl&gt; | 10 &lt;dbl&gt; | ⋯ ⋯ | 17 &lt;dbl&gt; | 18 &lt;dbl&gt; | 19 &lt;dbl&gt; | 20 &lt;dbl&gt; | 21 &lt;dbl&gt; | 22 &lt;dbl&gt; | 23 &lt;dbl&gt; | 24 &lt;dbl&gt; | 25 &lt;dbl&gt; | 26 &lt;dbl&gt; |\n",
       "|---|---|---|---|---|---|---|---|---|---|---|---|---|---|---|---|---|---|---|---|---|---|\n",
       "| 34 | -0.339129297 |  0.27574168 | -0.07250747 |  0.6807629 | -1.3878366 | -0.67485091 | -0.5016331 |  1.5151134 |  1.33269168 | -0.5840227 | ⋯ |  1.0589631 | -0.9439893 | -0.61245961 | -0.5145595 | -1.2109560 |  0.8919034 |  0.46265195 | -1.297037 | -1.12764156 |  1.2446400 |\n",
       "| 35 |  0.116941137 |  0.05627381 | -0.07250747 | -0.9447322 |  0.5760831 | -0.04820364 | -0.2630515 |  0.3564973 | -0.07203739 |  0.5548215 | ⋯ | -0.9181435 |  1.8521309 |  0.75245037 |  0.0588068 |  0.6674019 | -0.3653580 |  0.08674724 |  1.068196 |  0.38785591 |  0.7442177 |\n",
       "| 36 | -0.090363606 |  0.60494348 | -0.07250747 |  0.1389312 | -0.1309280 |  0.57844364 |  1.1684382 |  1.5151134 |  0.77080005 |  0.1752068 | ⋯ |  0.1363133 |  0.2210608 |  0.75245037 |  0.0588068 |  0.3990651 | -0.3653580 | -0.28915747 | -0.792454 | -1.09904726 | -1.2574713 |\n",
       "| 37 | -0.007441709 | -1.48000125 | -0.07250747 |  0.1389312 |  0.2225776 |  1.20509091 |  0.2141117 | -0.8021188 | -0.35298320 | -0.2044079 | ⋯ |  0.2241847 |  0.9200908 |  0.06999538 |  1.2055394 |  0.6674019 |  0.8919034 |  0.08674724 |  1.352024 |  0.73098741 |  0.2437955 |\n",
       "| 38 | -0.297668349 | -0.05346012 |  1.81268664 |  0.6807629 |  0.1047424 | -1.30149818 | -0.7402147 | -0.8021188 |  0.48985424 |  2.0732805 | ⋯ |  0.8832203 | -1.1769993 |  0.06999538 | -0.5145595 | -0.9426192 | -0.3653580 |  1.59036606 | -1.896229 | -0.46997285 |  0.2437955 |\n",
       "| 39 |  0.075480188 | -0.38266192 |  1.81268664 |  0.1389312 |  0.6939183 | -0.04820364 | -0.5016331 | -0.8021188 | -0.63392901 |  1.3140510 | ⋯ | -0.9620792 | -0.2449593 |  0.06999538 | -0.5145595 |  0.9357388 |  0.8919034 | -0.47710982 |  1.320487 |  0.04472441 |  1.7450622 |\n",
       "\n"
      ],
      "text/plain": [
       "   1            2           3           4          5          6          \n",
       "34 -0.339129297  0.27574168 -0.07250747  0.6807629 -1.3878366 -0.67485091\n",
       "35  0.116941137  0.05627381 -0.07250747 -0.9447322  0.5760831 -0.04820364\n",
       "36 -0.090363606  0.60494348 -0.07250747  0.1389312 -0.1309280  0.57844364\n",
       "37 -0.007441709 -1.48000125 -0.07250747  0.1389312  0.2225776  1.20509091\n",
       "38 -0.297668349 -0.05346012  1.81268664  0.6807629  0.1047424 -1.30149818\n",
       "39  0.075480188 -0.38266192  1.81268664  0.1389312  0.6939183 -0.04820364\n",
       "   7          8          9           10         ⋯ 17         18        \n",
       "34 -0.5016331  1.5151134  1.33269168 -0.5840227 ⋯  1.0589631 -0.9439893\n",
       "35 -0.2630515  0.3564973 -0.07203739  0.5548215 ⋯ -0.9181435  1.8521309\n",
       "36  1.1684382  1.5151134  0.77080005  0.1752068 ⋯  0.1363133  0.2210608\n",
       "37  0.2141117 -0.8021188 -0.35298320 -0.2044079 ⋯  0.2241847  0.9200908\n",
       "38 -0.7402147 -0.8021188  0.48985424  2.0732805 ⋯  0.8832203 -1.1769993\n",
       "39 -0.5016331 -0.8021188 -0.63392901  1.3140510 ⋯ -0.9620792 -0.2449593\n",
       "   19          20         21         22         23          24       \n",
       "34 -0.61245961 -0.5145595 -1.2109560  0.8919034  0.46265195 -1.297037\n",
       "35  0.75245037  0.0588068  0.6674019 -0.3653580  0.08674724  1.068196\n",
       "36  0.75245037  0.0588068  0.3990651 -0.3653580 -0.28915747 -0.792454\n",
       "37  0.06999538  1.2055394  0.6674019  0.8919034  0.08674724  1.352024\n",
       "38  0.06999538 -0.5145595 -0.9426192 -0.3653580  1.59036606 -1.896229\n",
       "39  0.06999538 -0.5145595  0.9357388  0.8919034 -0.47710982  1.320487\n",
       "   25          26        \n",
       "34 -1.12764156  1.2446400\n",
       "35  0.38785591  0.7442177\n",
       "36 -1.09904726 -1.2574713\n",
       "37  0.73098741  0.2437955\n",
       "38 -0.46997285  0.2437955\n",
       "39  0.04472441  1.7450622"
      ]
     },
     "metadata": {},
     "output_type": "display_data"
    }
   ],
   "source": [
    "x_test <-df.train[(nrow(scaled_train)- prediction+1):nrow(scaled_train),]\n",
    "# 1. Differenciate (already)\n",
    "\n",
    "# 2. Scaled \n",
    "for(i in 1:ncol(x_test)){\n",
    "    x_test[,i] <-(x_test[,i] -scale_factor[[\"center\"]][i])/scale_factor[[\"sd\"]][i]\n",
    "}\n",
    "x_test_scaled <- x_test\n",
    "cat(\"X_test interval :\",(nrow(scaled_train)- prediction+1):nrow(scaled_train))\n",
    "x_test_scaled\n"
   ]
  },
  {
   "cell_type": "code",
   "execution_count": 116,
   "metadata": {
    "vscode": {
     "languageId": "r"
    }
   },
   "outputs": [],
   "source": [
    "x_test_array <- array(\n",
    "    data = as.numeric(unlist(x_test_scaled)),\n",
    "    dim=c(1,6,26)\n",
    ")"
   ]
  },
  {
   "cell_type": "code",
   "execution_count": 121,
   "metadata": {
    "vscode": {
     "languageId": "r"
    }
   },
   "outputs": [],
   "source": [
    "#----------------\n",
    "# Covid forecast\n",
    "LSTM_forecast_covid_stable <- LSTM_model_stable_forecasting %>% predict(x_test_array,batch_size=1)"
   ]
  },
  {
   "cell_type": "code",
   "execution_count": 122,
   "metadata": {
    "vscode": {
     "languageId": "r"
    }
   },
   "outputs": [
    {
     "data": {
      "text/html": [
       "<style>\n",
       ".list-inline {list-style: none; margin:0; padding: 0}\n",
       ".list-inline>li {display: inline-block}\n",
       ".list-inline>li:not(:last-child)::after {content: \"\\00b7\"; padding: 0 .5ex}\n",
       "</style>\n",
       "<ol class=list-inline><li>-0.0601200126111507</li><li>0.107662916183472</li><li>-0.0125942714512348</li><li>0.134568229317665</li><li>-0.0374655090272427</li><li>0.00315148290246725</li></ol>\n"
      ],
      "text/latex": [
       "\\begin{enumerate*}\n",
       "\\item -0.0601200126111507\n",
       "\\item 0.107662916183472\n",
       "\\item -0.0125942714512348\n",
       "\\item 0.134568229317665\n",
       "\\item -0.0374655090272427\n",
       "\\item 0.00315148290246725\n",
       "\\end{enumerate*}\n"
      ],
      "text/markdown": [
       "1. -0.0601200126111507\n",
       "2. 0.107662916183472\n",
       "3. -0.0125942714512348\n",
       "4. 0.134568229317665\n",
       "5. -0.0374655090272427\n",
       "6. 0.00315148290246725\n",
       "\n",
       "\n"
      ],
      "text/plain": [
       "[1] -0.060120013  0.107662916 -0.012594271  0.134568229 -0.037465509\n",
       "[6]  0.003151483"
      ]
     },
     "metadata": {},
     "output_type": "display_data"
    }
   ],
   "source": [
    "LSTM_forecast_covid_stable[,,1]# Its coherente with the X_test_array_sequence"
   ]
  },
  {
   "cell_type": "code",
   "execution_count": 123,
   "metadata": {
    "vscode": {
     "languageId": "r"
    }
   },
   "outputs": [],
   "source": [
    "#----------------------------------\n",
    "# Remembering we did 2 operations before inputing datat in our model : \n",
    "# 1.Differenciation\n",
    "# 2. Scaling\n",
    "\n",
    "#-------------\n",
    "# 1.unscale Predictions\n",
    "for (i in 1: dim(LSTM_forecast_covid_stable)[3]){\n",
    "    LSTM_forecast_covid_stable[,,i] <- LSTM_forecast_covid_stable[,,i] * scale_factor[[\"sd\"]][i] +scale_factor[[\"center\"]][i]\n",
    "}\n"
   ]
  },
  {
   "cell_type": "code",
   "execution_count": 124,
   "metadata": {
    "vscode": {
     "languageId": "r"
    }
   },
   "outputs": [
    {
     "data": {
      "text/html": [
       "<table class=\"dataframe\">\n",
       "<caption>A Time Series: 12 × 4</caption>\n",
       "<thead>\n",
       "\t<tr><th></th><th scope=col>Qtr1</th><th scope=col>Qtr2</th><th scope=col>Qtr3</th><th scope=col>Qtr4</th></tr>\n",
       "</thead>\n",
       "<tbody>\n",
       "\t<tr><th scope=row>2010</th><td>1290.000</td><td>1284.000</td><td>1279.000</td><td>1278.000</td></tr>\n",
       "\t<tr><th scope=row>2011</th><td>1276.000</td><td>1274.000</td><td>1269.000</td><td>1267.000</td></tr>\n",
       "\t<tr><th scope=row>2012</th><td>1259.000</td><td>1257.000</td><td>1256.000</td><td>1256.000</td></tr>\n",
       "\t<tr><th scope=row>2013</th><td>1247.000</td><td>1244.000</td><td>1240.000</td><td>1233.000</td></tr>\n",
       "\t<tr><th scope=row>2014</th><td>1224.000</td><td>1224.000</td><td>1221.000</td><td>1318.000</td></tr>\n",
       "\t<tr><th scope=row>2015</th><td>1208.000</td><td>1197.000</td><td>1199.000</td><td>1197.000</td></tr>\n",
       "\t<tr><th scope=row>2016</th><td>1191.000</td><td>1178.000</td><td>1174.000</td><td>1166.000</td></tr>\n",
       "\t<tr><th scope=row>2017</th><td>1160.000</td><td>1151.000</td><td>1136.000</td><td>1123.000</td></tr>\n",
       "\t<tr><th scope=row>2018</th><td>1114.000</td><td>1111.000</td><td>1097.000</td><td>1094.000</td></tr>\n",
       "\t<tr><th scope=row>2019</th><td>1086.000</td><td>1080.000</td><td>1067.000</td><td>1063.000</td></tr>\n",
       "\t<tr><th scope=row>2020</th><td>1055.729</td><td>1052.506</td><td>1046.381</td><td>1043.807</td></tr>\n",
       "\t<tr><th scope=row>2021</th><td>1037.082</td><td>1031.338</td><td>        </td><td>        </td></tr>\n",
       "</tbody>\n",
       "</table>\n"
      ],
      "text/latex": [
       "A Time Series: 12 × 4\n",
       "\\begin{tabular}{r|llll}\n",
       "  & Qtr1 & Qtr2 & Qtr3 & Qtr4\\\\\n",
       "\\hline\n",
       "\t2010 & 1290.000 & 1284.000 & 1279.000 & 1278.000\\\\\n",
       "\t2011 & 1276.000 & 1274.000 & 1269.000 & 1267.000\\\\\n",
       "\t2012 & 1259.000 & 1257.000 & 1256.000 & 1256.000\\\\\n",
       "\t2013 & 1247.000 & 1244.000 & 1240.000 & 1233.000\\\\\n",
       "\t2014 & 1224.000 & 1224.000 & 1221.000 & 1318.000\\\\\n",
       "\t2015 & 1208.000 & 1197.000 & 1199.000 & 1197.000\\\\\n",
       "\t2016 & 1191.000 & 1178.000 & 1174.000 & 1166.000\\\\\n",
       "\t2017 & 1160.000 & 1151.000 & 1136.000 & 1123.000\\\\\n",
       "\t2018 & 1114.000 & 1111.000 & 1097.000 & 1094.000\\\\\n",
       "\t2019 & 1086.000 & 1080.000 & 1067.000 & 1063.000\\\\\n",
       "\t2020 & 1055.729 & 1052.506 & 1046.381 & 1043.807\\\\\n",
       "\t2021 & 1037.082 & 1031.338 &          &         \\\\\n",
       "\\end{tabular}\n"
      ],
      "text/markdown": [
       "\n",
       "A Time Series: 12 × 4\n",
       "\n",
       "| <!--/--> | Qtr1 | Qtr2 | Qtr3 | Qtr4 |\n",
       "|---|---|---|---|---|\n",
       "| 2010 | 1290.000 | 1284.000 | 1279.000 | 1278.000 |\n",
       "| 2011 | 1276.000 | 1274.000 | 1269.000 | 1267.000 |\n",
       "| 2012 | 1259.000 | 1257.000 | 1256.000 | 1256.000 |\n",
       "| 2013 | 1247.000 | 1244.000 | 1240.000 | 1233.000 |\n",
       "| 2014 | 1224.000 | 1224.000 | 1221.000 | 1318.000 |\n",
       "| 2015 | 1208.000 | 1197.000 | 1199.000 | 1197.000 |\n",
       "| 2016 | 1191.000 | 1178.000 | 1174.000 | 1166.000 |\n",
       "| 2017 | 1160.000 | 1151.000 | 1136.000 | 1123.000 |\n",
       "| 2018 | 1114.000 | 1111.000 | 1097.000 | 1094.000 |\n",
       "| 2019 | 1086.000 | 1080.000 | 1067.000 | 1063.000 |\n",
       "| 2020 | 1055.729 | 1052.506 | 1046.381 | 1043.807 |\n",
       "| 2021 | 1037.082 | 1031.338 | <!----> | <!----> |\n",
       "\n"
      ],
      "text/plain": [
       "     Qtr1     Qtr2     Qtr3     Qtr4    \n",
       "2010 1290.000 1284.000 1279.000 1278.000\n",
       "2011 1276.000 1274.000 1269.000 1267.000\n",
       "2012 1259.000 1257.000 1256.000 1256.000\n",
       "2013 1247.000 1244.000 1240.000 1233.000\n",
       "2014 1224.000 1224.000 1221.000 1318.000\n",
       "2015 1208.000 1197.000 1199.000 1197.000\n",
       "2016 1191.000 1178.000 1174.000 1166.000\n",
       "2017 1160.000 1151.000 1136.000 1123.000\n",
       "2018 1114.000 1111.000 1097.000 1094.000\n",
       "2019 1086.000 1080.000 1067.000 1063.000\n",
       "2020 1055.729 1052.506 1046.381 1043.807\n",
       "2021 1037.082 1031.338                  "
      ]
     },
     "metadata": {},
     "output_type": "display_data"
    },
    {
     "data": {
      "text/html": [
       "<table class=\"dataframe\">\n",
       "<caption>A Time Series: 12 × 4</caption>\n",
       "<thead>\n",
       "\t<tr><th></th><th scope=col>Qtr1</th><th scope=col>Qtr2</th><th scope=col>Qtr3</th><th scope=col>Qtr4</th></tr>\n",
       "</thead>\n",
       "<tbody>\n",
       "\t<tr><th scope=row>2010</th><td>1290</td><td>1284</td><td>1279</td><td>1278</td></tr>\n",
       "\t<tr><th scope=row>2011</th><td>1276</td><td>1274</td><td>1269</td><td>1267</td></tr>\n",
       "\t<tr><th scope=row>2012</th><td>1259</td><td>1257</td><td>1256</td><td>1256</td></tr>\n",
       "\t<tr><th scope=row>2013</th><td>1247</td><td>1244</td><td>1240</td><td>1233</td></tr>\n",
       "\t<tr><th scope=row>2014</th><td>1224</td><td>1224</td><td>1221</td><td>1318</td></tr>\n",
       "\t<tr><th scope=row>2015</th><td>1208</td><td>1197</td><td>1199</td><td>1197</td></tr>\n",
       "\t<tr><th scope=row>2016</th><td>1191</td><td>1178</td><td>1174</td><td>1166</td></tr>\n",
       "\t<tr><th scope=row>2017</th><td>1160</td><td>1151</td><td>1136</td><td>1123</td></tr>\n",
       "\t<tr><th scope=row>2018</th><td>1114</td><td>1111</td><td>1097</td><td>1094</td></tr>\n",
       "\t<tr><th scope=row>2019</th><td>1086</td><td>1080</td><td>1067</td><td>1063</td></tr>\n",
       "\t<tr><th scope=row>2020</th><td>1060</td><td>1051</td><td>1041</td><td>1038</td></tr>\n",
       "\t<tr><th scope=row>2021</th><td>1019</td><td>1012</td><td>    </td><td>    </td></tr>\n",
       "</tbody>\n",
       "</table>\n"
      ],
      "text/latex": [
       "A Time Series: 12 × 4\n",
       "\\begin{tabular}{r|llll}\n",
       "  & Qtr1 & Qtr2 & Qtr3 & Qtr4\\\\\n",
       "\\hline\n",
       "\t2010 & 1290 & 1284 & 1279 & 1278\\\\\n",
       "\t2011 & 1276 & 1274 & 1269 & 1267\\\\\n",
       "\t2012 & 1259 & 1257 & 1256 & 1256\\\\\n",
       "\t2013 & 1247 & 1244 & 1240 & 1233\\\\\n",
       "\t2014 & 1224 & 1224 & 1221 & 1318\\\\\n",
       "\t2015 & 1208 & 1197 & 1199 & 1197\\\\\n",
       "\t2016 & 1191 & 1178 & 1174 & 1166\\\\\n",
       "\t2017 & 1160 & 1151 & 1136 & 1123\\\\\n",
       "\t2018 & 1114 & 1111 & 1097 & 1094\\\\\n",
       "\t2019 & 1086 & 1080 & 1067 & 1063\\\\\n",
       "\t2020 & 1060 & 1051 & 1041 & 1038\\\\\n",
       "\t2021 & 1019 & 1012 &      &     \\\\\n",
       "\\end{tabular}\n"
      ],
      "text/markdown": [
       "\n",
       "A Time Series: 12 × 4\n",
       "\n",
       "| <!--/--> | Qtr1 | Qtr2 | Qtr3 | Qtr4 |\n",
       "|---|---|---|---|---|\n",
       "| 2010 | 1290 | 1284 | 1279 | 1278 |\n",
       "| 2011 | 1276 | 1274 | 1269 | 1267 |\n",
       "| 2012 | 1259 | 1257 | 1256 | 1256 |\n",
       "| 2013 | 1247 | 1244 | 1240 | 1233 |\n",
       "| 2014 | 1224 | 1224 | 1221 | 1318 |\n",
       "| 2015 | 1208 | 1197 | 1199 | 1197 |\n",
       "| 2016 | 1191 | 1178 | 1174 | 1166 |\n",
       "| 2017 | 1160 | 1151 | 1136 | 1123 |\n",
       "| 2018 | 1114 | 1111 | 1097 | 1094 |\n",
       "| 2019 | 1086 | 1080 | 1067 | 1063 |\n",
       "| 2020 | 1060 | 1051 | 1041 | 1038 |\n",
       "| 2021 | 1019 | 1012 | <!----> | <!----> |\n",
       "\n"
      ],
      "text/plain": [
       "     Qtr1 Qtr2 Qtr3 Qtr4\n",
       "2010 1290 1284 1279 1278\n",
       "2011 1276 1274 1269 1267\n",
       "2012 1259 1257 1256 1256\n",
       "2013 1247 1244 1240 1233\n",
       "2014 1224 1224 1221 1318\n",
       "2015 1208 1197 1199 1197\n",
       "2016 1191 1178 1174 1166\n",
       "2017 1160 1151 1136 1123\n",
       "2018 1114 1111 1097 1094\n",
       "2019 1086 1080 1067 1063\n",
       "2020 1060 1051 1041 1038\n",
       "2021 1019 1012          "
      ]
     },
     "metadata": {},
     "output_type": "display_data"
    }
   ],
   "source": [
    "index_secteur=1\n",
    "pred <- c(df.diff[,index_secteur],LSTM_forecast_covid_stable[,,index_secteur])\n",
    "pred <-ts(pred, start=c(2010,2),frequency=4)\n",
    "obs <- df.diff[,index_secteur]\n",
    "\n",
    "\n",
    "#-----------------\n",
    "# Inverse differenciation\n",
    "starting_point <- df.ts[1,index_secteur]\n",
    "obs <-diffinv(obs,xi=starting_point)\n",
    "obs <-c(obs,covid.ts[,index_secteur])\n",
    "obs <-ts(obs, start=c(2010,1),frequency=4)\n",
    "pred <-diffinv(pred,xi=starting_point)\n",
    "pred\n",
    "obs\n"
   ]
  },
  {
   "cell_type": "code",
   "execution_count": 125,
   "metadata": {
    "vscode": {
     "languageId": "r"
    }
   },
   "outputs": [
    {
     "data": {
      "image/png": "[encoded data removed]",
      "text/plain": [
       "plot without title"
      ]
     },
     "metadata": {
      "image/png": {
       "height": 420,
       "width": 420
      }
     },
     "output_type": "display_data"
    }
   ],
   "source": [
    "index_secteur <- 2\n",
    "\n",
    "pred <- c(df.diff[,index_secteur],LSTM_forecast_covid_stable[,,index_secteur])\n",
    "pred <-ts(pred, start=c(2010,2),frequency=4)\n",
    "obs <- df.diff[,index_secteur]\n",
    "\n",
    "\n",
    "#-----------------\n",
    "# Inverse differenciation\n",
    "starting_point <- df.ts[1,index_secteur]\n",
    "obs <-diffinv(obs,xi=starting_point)\n",
    "obs <-c(obs,covid.ts[,index_secteur])\n",
    "obs <-ts(obs, start=c(2010,1),frequency=4)\n",
    "pred <-diffinv(pred,xi=starting_point)\n",
    "plot.ts(\n",
    "    cbind(pred,obs),\n",
    "    plot.type=\"single\",\n",
    "    lty=c(2,1),\n",
    "    lwd=1,\n",
    "    xlab=\"t\",\n",
    "    ylab=paste(\"Nombre d'Etablissements en GE pour le secteur :\",lab.to.num$lab[index_secteur],sep=\"\"),\n",
    "    \n",
    "    col=c(\"blue\",\"red\")\n",
    ")\n",
    "legend(\"topleft\",\n",
    "\n",
    "    legend=c(\"Prédictions\",\"Observations\"),\n",
    "    col=c(\"blue\",\"red\"),\n",
    "    lty=c(2,1),\n",
    "    lwd=1\n",
    ")"
   ]
  },
  {
   "cell_type": "code",
   "execution_count": 126,
   "metadata": {
    "vscode": {
     "languageId": "r"
    }
   },
   "outputs": [],
   "source": [
    "#-------------------------------\n",
    "#Save all plots\n",
    "for( index_secteur in 1:ncol(scaled_train)){\n",
    "\n",
    "    png(file=paste(\"plots/LSTM_stable/covid_forecast/\",index_secteur,\".png\",sep=\"\"))\n",
    "    pred <- c(df.diff[,index_secteur],LSTM_forecast_covid_stable[,,index_secteur])\n",
    "    pred <-ts(pred, start=c(2010,2),frequency=4)\n",
    "    obs <- df.diff[,index_secteur]\n",
    "    \n",
    "    \n",
    "    #-----------------\n",
    "    # Inverse differenciation\n",
    "    starting_point <- df.ts[1,index_secteur]\n",
    "    obs <-diffinv(obs,xi=starting_point)\n",
    "    obs <-c(obs,covid.ts[,index_secteur])\n",
    "    obs <-ts(obs, start=c(2010,1),frequency=4)\n",
    "    pred <-diffinv(pred,xi=starting_point)\n",
    "\n",
    "    plot.ts(\n",
    "        cbind(pred,obs),\n",
    "        plot.type=\"single\",\n",
    "        main=paste(\"Predictions LSTM stable vs observations \\n secteur : \",lab.to.num$lab[index_secteur],sep=\"\"),\n",
    "        col=c(\"blue\",\"red\"),\n",
    "        lty=c(2,1),\n",
    "        lwd=1,\n",
    "        xlab=\"t\",\n",
    "        ylab=paste(\"Nombre d'Etablissements en GE pour le secteur :\",lab.to.num$lab[index_secteur],sep=\"\"),\n",
    "\n",
    "    )\n",
    "    legend(\"topleft\",\n",
    "        legend=c(\"Prédictions\",\"Observations\"),\n",
    "        col=c(\"blue\",\"red\"),\n",
    "        lty=c(2,1),\n",
    "        lwd=1\n",
    ")\n",
    "    dev.off()\n",
    "}"
   ]
  },
  {
   "cell_type": "code",
   "execution_count": 342,
   "metadata": {
    "vscode": {
     "languageId": "r"
    }
   },
   "outputs": [],
   "source": [
    "#----------------------\n",
    "#Save model\n",
    "#save_model_tf(LSTM_model,\"models/LSTM_stable\")\n"
   ]
  },
  {
   "cell_type": "markdown",
   "metadata": {},
   "source": [
    "<hr>\n",
    "\n",
    "# Analyse des ecarts remarqué entre ce que l'on a prédit sur la période et ce qu'il en a été sur la période covid"
   ]
  },
  {
   "cell_type": "markdown",
   "metadata": {},
   "source": [
    "### Calculate RMSE *Residual Mean Square Error*"
   ]
  },
  {
   "cell_type": "code",
   "execution_count": 128,
   "metadata": {
    "vscode": {
     "languageId": "r"
    }
   },
   "outputs": [],
   "source": [
    "RMSE <- c()\n",
    "for (index_secteur in 1:dim(LSTM_forecast_covid_stable)[3]){\n",
    "    pred <- c(df.diff[,index_secteur],LSTM_forecast_covid_stable[,,index_secteur])\n",
    "    pred <-ts(pred, start=c(2010,2),frequency=4)\n",
    "    obs <- df.diff[,index_secteur]\n",
    "    #-----------------\n",
    "    # Inverse differenciation\n",
    "    starting_point <- df.ts[1,index_secteur]\n",
    "    obs <-diffinv(obs,xi=starting_point)\n",
    "    obs <-c(obs,covid.ts[,index_secteur])\n",
    "    obs <-ts(obs, start=c(2010,1),frequency=4)\n",
    "    pred <-diffinv(pred,xi=starting_point)\n",
    "    obs <- obs[(length(obs)-6+1):length(obs)]\n",
    "    pred <- pred[(length(pred)-6+1):length(pred)]\n",
    "    RMSE <-c(RMSE,sqrt(mean((obs-pred)^2)))\n",
    "}"
   ]
  },
  {
   "cell_type": "code",
   "execution_count": 129,
   "metadata": {
    "vscode": {
     "languageId": "r"
    }
   },
   "outputs": [
    {
     "data": {
      "text/html": [
       "<table class=\"dataframe\">\n",
       "<caption>A data.frame: 26 × 1</caption>\n",
       "<thead>\n",
       "\t<tr><th scope=col>rmse</th></tr>\n",
       "\t<tr><th scope=col>&lt;dbl&gt;</th></tr>\n",
       "</thead>\n",
       "<tbody>\n",
       "\t<tr><td> 11.4317314</td></tr>\n",
       "\t<tr><td> 20.3931039</td></tr>\n",
       "\t<tr><td>  2.1032881</td></tr>\n",
       "\t<tr><td>  2.4232995</td></tr>\n",
       "\t<tr><td> 46.0401394</td></tr>\n",
       "\t<tr><td>  3.5012284</td></tr>\n",
       "\t<tr><td>  4.3602732</td></tr>\n",
       "\t<tr><td> 12.6015309</td></tr>\n",
       "\t<tr><td>  5.3838871</td></tr>\n",
       "\t<tr><td> 10.9384927</td></tr>\n",
       "\t<tr><td>  8.1205662</td></tr>\n",
       "\t<tr><td> 99.9000545</td></tr>\n",
       "\t<tr><td> 11.7135531</td></tr>\n",
       "\t<tr><td>  0.8754312</td></tr>\n",
       "\t<tr><td>  4.9366879</td></tr>\n",
       "\t<tr><td>  0.6537639</td></tr>\n",
       "\t<tr><td> 11.4992430</td></tr>\n",
       "\t<tr><td>  3.8162885</td></tr>\n",
       "\t<tr><td>  4.5959720</td></tr>\n",
       "\t<tr><td>  1.0092101</td></tr>\n",
       "\t<tr><td>  4.4933952</td></tr>\n",
       "\t<tr><td>  3.1144058</td></tr>\n",
       "\t<tr><td>  4.2529086</td></tr>\n",
       "\t<tr><td>115.1051106</td></tr>\n",
       "\t<tr><td>156.5251929</td></tr>\n",
       "\t<tr><td>  2.2411730</td></tr>\n",
       "</tbody>\n",
       "</table>\n"
      ],
      "text/latex": [
       "A data.frame: 26 × 1\n",
       "\\begin{tabular}{l}\n",
       " rmse\\\\\n",
       " <dbl>\\\\\n",
       "\\hline\n",
       "\t  11.4317314\\\\\n",
       "\t  20.3931039\\\\\n",
       "\t   2.1032881\\\\\n",
       "\t   2.4232995\\\\\n",
       "\t  46.0401394\\\\\n",
       "\t   3.5012284\\\\\n",
       "\t   4.3602732\\\\\n",
       "\t  12.6015309\\\\\n",
       "\t   5.3838871\\\\\n",
       "\t  10.9384927\\\\\n",
       "\t   8.1205662\\\\\n",
       "\t  99.9000545\\\\\n",
       "\t  11.7135531\\\\\n",
       "\t   0.8754312\\\\\n",
       "\t   4.9366879\\\\\n",
       "\t   0.6537639\\\\\n",
       "\t  11.4992430\\\\\n",
       "\t   3.8162885\\\\\n",
       "\t   4.5959720\\\\\n",
       "\t   1.0092101\\\\\n",
       "\t   4.4933952\\\\\n",
       "\t   3.1144058\\\\\n",
       "\t   4.2529086\\\\\n",
       "\t 115.1051106\\\\\n",
       "\t 156.5251929\\\\\n",
       "\t   2.2411730\\\\\n",
       "\\end{tabular}\n"
      ],
      "text/markdown": [
       "\n",
       "A data.frame: 26 × 1\n",
       "\n",
       "| rmse &lt;dbl&gt; |\n",
       "|---|\n",
       "|  11.4317314 |\n",
       "|  20.3931039 |\n",
       "|   2.1032881 |\n",
       "|   2.4232995 |\n",
       "|  46.0401394 |\n",
       "|   3.5012284 |\n",
       "|   4.3602732 |\n",
       "|  12.6015309 |\n",
       "|   5.3838871 |\n",
       "|  10.9384927 |\n",
       "|   8.1205662 |\n",
       "|  99.9000545 |\n",
       "|  11.7135531 |\n",
       "|   0.8754312 |\n",
       "|   4.9366879 |\n",
       "|   0.6537639 |\n",
       "|  11.4992430 |\n",
       "|   3.8162885 |\n",
       "|   4.5959720 |\n",
       "|   1.0092101 |\n",
       "|   4.4933952 |\n",
       "|   3.1144058 |\n",
       "|   4.2529086 |\n",
       "| 115.1051106 |\n",
       "| 156.5251929 |\n",
       "|   2.2411730 |\n",
       "\n"
      ],
      "text/plain": [
       "   rmse       \n",
       "1   11.4317314\n",
       "2   20.3931039\n",
       "3    2.1032881\n",
       "4    2.4232995\n",
       "5   46.0401394\n",
       "6    3.5012284\n",
       "7    4.3602732\n",
       "8   12.6015309\n",
       "9    5.3838871\n",
       "10  10.9384927\n",
       "11   8.1205662\n",
       "12  99.9000545\n",
       "13  11.7135531\n",
       "14   0.8754312\n",
       "15   4.9366879\n",
       "16   0.6537639\n",
       "17  11.4992430\n",
       "18   3.8162885\n",
       "19   4.5959720\n",
       "20   1.0092101\n",
       "21   4.4933952\n",
       "22   3.1144058\n",
       "23   4.2529086\n",
       "24 115.1051106\n",
       "25 156.5251929\n",
       "26   2.2411730"
      ]
     },
     "metadata": {},
     "output_type": "display_data"
    }
   ],
   "source": [
    "RMSE_stable_LSTM <-RMSE %>% as.data.frame()\n",
    "colnames(RMSE_stable_LSTM) <-\"rmse\"\n",
    "RMSE_stable_LSTM\n"
   ]
  },
  {
   "cell_type": "code",
   "execution_count": 130,
   "metadata": {
    "vscode": {
     "languageId": "r"
    }
   },
   "outputs": [
    {
     "data": {
      "text/plain": [
       "    Min.  1st Qu.   Median     Mean  3rd Qu.     Max. \n",
       "  0.6538   3.2111   4.7663  21.2319  11.6600 156.5252 "
      ]
     },
     "metadata": {},
     "output_type": "display_data"
    }
   ],
   "source": [
    "summary(RMSE_stable_LSTM$rmse)"
   ]
  },
  {
   "cell_type": "code",
   "execution_count": 131,
   "metadata": {
    "vscode": {
     "languageId": "r"
    }
   },
   "outputs": [
    {
     "data": {
      "image/png": "[encoded data removed]",
      "text/plain": [
       "Plot with title “Histogram of tmp”"
      ]
     },
     "metadata": {
      "image/png": {
       "height": 420,
       "width": 420
      }
     },
     "output_type": "display_data"
    }
   ],
   "source": [
    "RMSE_stable_LSTM$group <- RMSE_stable_LSTM$rmse >6.92\n",
    "tmp <-apply(RMSE_stable_LSTM,1,FUN=function(x){if(x[2]){return(1)}else{return(0) }})\n",
    "\n",
    "hist(tmp)\n"
   ]
  },
  {
   "cell_type": "markdown",
   "metadata": {},
   "source": [
    "### Calculate MAE *Mean Absolute Error*"
   ]
  },
  {
   "cell_type": "code",
   "execution_count": 132,
   "metadata": {
    "vscode": {
     "languageId": "r"
    }
   },
   "outputs": [],
   "source": [
    "MAE <- c()\n",
    "for (index_secteur in 1:dim(LSTM_forecast_covid_stable)[3]){\n",
    "    pred <- c(df.diff[,index_secteur],LSTM_forecast_covid_stable[,,index_secteur])\n",
    "    pred <-ts(pred, start=c(2010,2),frequency=4)\n",
    "    obs <- df.diff[,index_secteur]\n",
    "    #-----------------\n",
    "    # Inverse differenciation\n",
    "    starting_point <- df.ts[1,index_secteur]\n",
    "    obs <-diffinv(obs,xi=starting_point)\n",
    "    obs <-c(obs,covid.ts[,index_secteur])\n",
    "    obs <-ts(obs, start=c(2010,1),frequency=4)\n",
    "    pred <-diffinv(pred,xi=starting_point)\n",
    "    obs <- obs[(length(obs)-6+1):length(obs)]\n",
    "    pred <- pred[(length(pred)-6+1):length(pred)]\n",
    "    \n",
    "    MAE <-c(MAE,mean(abs(obs-pred)))\n",
    "    \n",
    "}\n",
    "MAE <- MAE %>%as.data.frame()\n",
    "colnames(MAE) <- \"MAE\"\n"
   ]
  },
  {
   "cell_type": "code",
   "execution_count": 133,
   "metadata": {
    "vscode": {
     "languageId": "r"
    }
   },
   "outputs": [
    {
     "data": {
      "text/plain": [
       "      MAE          \n",
       " Min.   :  0.4766  \n",
       " 1st Qu.:  2.9129  \n",
       " Median :  3.9323  \n",
       " Mean   : 18.0084  \n",
       " 3rd Qu.: 10.6927  \n",
       " Max.   :139.0659  "
      ]
     },
     "metadata": {},
     "output_type": "display_data"
    }
   ],
   "source": [
    "summary(MAE)"
   ]
  },
  {
   "cell_type": "markdown",
   "metadata": {},
   "source": [
    "### Calculate MAPE *Mean Absolute  Percentage Error*\n",
    "\n",
    "**They have the advantage to be unit free.**\n",
    "\n",
    "Measures based on percentage errors have the disadvantage of being infinite or undefined if yt=0 for any t in the period of interest, and having extreme values if any yt is close to zero. Another problem with percentage errors that is often overlooked is that they assume the unit of measurement has a meaningful zero.2 For example, a percentage error makes no sense when measuring the accuracy of temperature forecasts on either the Fahrenheit or Celsius scales, because temperature has an arbitrary zero point."
   ]
  },
  {
   "cell_type": "markdown",
   "metadata": {},
   "source": [
    "**Ceci ne possera pas de probleme si l'on unscale + inv differenciate**"
   ]
  },
  {
   "cell_type": "code",
   "execution_count": 134,
   "metadata": {
    "vscode": {
     "languageId": "r"
    }
   },
   "outputs": [],
   "source": [
    "MAPE <- c()\n",
    "for (index_secteur in 1:dim(LSTM_forecast_covid_stable)[3]){\n",
    "    pred <- c(df.diff[,index_secteur],LSTM_forecast_covid_stable[,,index_secteur])\n",
    "    pred <-ts(pred, start=c(2010,2),frequency=4)\n",
    "    obs <- df.diff[,index_secteur]\n",
    "    #-----------------\n",
    "    # Inverse differenciation\n",
    "    starting_point <- df.ts[1,index_secteur]\n",
    "    obs <-diffinv(obs,xi=starting_point)\n",
    "    obs <-c(obs,covid.ts[,index_secteur])\n",
    "    obs <-ts(obs, start=c(2010,1),frequency=4)\n",
    "    pred <-diffinv(pred,xi=starting_point)\n",
    "    obs <- obs[(length(obs)-6+1):length(obs)]\n",
    "    pred <- pred[(length(pred)-6+1):length(pred)]\n",
    "    \n",
    "    MAPE <-c(MAPE,mean(abs((obs-pred)*100/obs)))\n",
    "    \n",
    "}\n",
    "MAPE <- MAPE %>%as.data.frame()\n",
    "colnames(MAPE) <- \"MAPE\"\n"
   ]
  },
  {
   "cell_type": "code",
   "execution_count": 135,
   "metadata": {
    "vscode": {
     "languageId": "r"
    }
   },
   "outputs": [
    {
     "data": {
      "text/plain": [
       "      MAPE        \n",
       " Min.   : 0.3921  \n",
       " 1st Qu.: 1.8135  \n",
       " Median : 3.1454  \n",
       " Mean   : 5.3554  \n",
       " 3rd Qu.: 5.1551  \n",
       " Max.   :47.4252  "
      ]
     },
     "metadata": {},
     "output_type": "display_data"
    }
   ],
   "source": [
    "summary(MAPE)"
   ]
  },
  {
   "cell_type": "markdown",
   "metadata": {},
   "source": [
    "They also have the disadvantage that they put a heavier penalty on negative errors than on positive errors. This observation led to the use of the so-called “symmetric” MAPE (sMAPE) proposed by Armstrong (1978, p. 348), which was used in the M3 forecasting competition. \n",
    "It is defined by\n",
    "\n",
    "$sMAPE=mean(200|obs−pred|/(obs+pred))$\n",
    "\n",
    "https://otexts.com/fpp2/accuracy.html"
   ]
  },
  {
   "cell_type": "code",
   "execution_count": 136,
   "metadata": {
    "vscode": {
     "languageId": "r"
    }
   },
   "outputs": [],
   "source": [
    "sMAPE <- c()\n",
    "for (index_secteur in 1:dim(LSTM_forecast_covid_stable)[3]){\n",
    "    pred <- c(df.diff[,index_secteur],LSTM_forecast_covid_stable[,,index_secteur])\n",
    "    pred <-ts(pred, start=c(2010,2),frequency=4)\n",
    "    obs <- df.diff[,index_secteur]\n",
    "    #-----------------\n",
    "    # Inverse differenciation\n",
    "    starting_point <- df.ts[1,index_secteur]\n",
    "    obs <-diffinv(obs,xi=starting_point)\n",
    "    obs <-c(obs,covid.ts[,index_secteur])\n",
    "    obs <-ts(obs, start=c(2010,1),frequency=4)\n",
    "    pred <-diffinv(pred,xi=starting_point)\n",
    "    obs <- obs[(length(obs)-6+1):length(obs)]\n",
    "    pred <- pred[(length(pred)-6+1):length(pred)]\n",
    "    \n",
    "    sMAPE <-c(sMAPE,mean(200*abs(obs-pred)/(obs+pred)))\n",
    "    \n",
    "}\n",
    "sMAPE <- sMAPE %>%as.data.frame()\n",
    "colnames(sMAPE) <- \"sMAPE\"\n"
   ]
  },
  {
   "cell_type": "code",
   "execution_count": 137,
   "metadata": {
    "vscode": {
     "languageId": "r"
    }
   },
   "outputs": [
    {
     "data": {
      "text/html": [
       "<table class=\"dataframe\">\n",
       "<caption>A data.frame: 26 × 5</caption>\n",
       "<thead>\n",
       "\t<tr><th scope=col>secteurs</th><th scope=col>RMSE</th><th scope=col>MAE</th><th scope=col>MAPE</th><th scope=col>sMAPE</th></tr>\n",
       "\t<tr><th scope=col>&lt;chr&gt;</th><th scope=col>&lt;dbl&gt;</th><th scope=col>&lt;dbl&gt;</th><th scope=col>&lt;dbl&gt;</th><th scope=col>&lt;dbl&gt;</th></tr>\n",
       "</thead>\n",
       "<tbody>\n",
       "\t<tr><td>64 Activités des services financiers, hors assurance et</td><td> 11.4317314</td><td>  9.0640721</td><td> 0.8846443</td><td> 0.8786656</td></tr>\n",
       "\t<tr><td>65-66 Assurance ; Activités auxiliaires de services fin</td><td> 20.3931039</td><td> 18.8485512</td><td> 5.3584435</td><td> 5.1944502</td></tr>\n",
       "\t<tr><td>852 Enseignement primaire                              </td><td>  2.1032881</td><td>  1.7911894</td><td> 2.5438786</td><td> 2.4998004</td></tr>\n",
       "\t<tr><td>853 Enseignement secondaire                            </td><td>  2.4232995</td><td>  2.0448775</td><td> 1.4140684</td><td> 1.4001301</td></tr>\n",
       "\t<tr><td>85x Enseignement / Autre                               </td><td> 46.0401394</td><td> 36.3917541</td><td> 3.6148743</td><td> 3.5125000</td></tr>\n",
       "\t<tr><td>861 Activités hospitalières                            </td><td>  3.5012284</td><td>  3.4398872</td><td> 3.4670834</td><td> 3.5304539</td></tr>\n",
       "\t<tr><td>862 Activité des médecins et des dentistes             </td><td>  4.3602732</td><td>  3.7465554</td><td> 2.0861639</td><td> 2.0834996</td></tr>\n",
       "\t<tr><td>869 Autres activités pour la santé humaine             </td><td> 12.6015309</td><td> 10.7312491</td><td> 8.4244244</td><td> 7.9598456</td></tr>\n",
       "\t<tr><td>87 Hébergement médico-social et social                 </td><td>  5.3838871</td><td>  3.8653145</td><td> 0.3921067</td><td> 0.3906252</td></tr>\n",
       "\t<tr><td>881 Action sociale sans hébergement pour personnes âgée</td><td> 10.9384927</td><td> 10.5769673</td><td> 1.9487122</td><td> 1.9285715</td></tr>\n",
       "\t<tr><td>889 Autre action sociale sans hébergement              </td><td>  8.1205662</td><td>  7.7699434</td><td> 0.5179160</td><td> 0.5179238</td></tr>\n",
       "\t<tr><td>931 Activités liées au sport                           </td><td> 99.9000545</td><td> 78.1912552</td><td> 6.4518726</td><td> 6.1239175</td></tr>\n",
       "\t<tr><td>932 Activités récréatives et de loisirs                </td><td> 11.7135531</td><td> 10.9220265</td><td> 7.4699332</td><td> 7.1601082</td></tr>\n",
       "\t<tr><td>FZ_Construction                                        </td><td>  0.8754312</td><td>  0.6671970</td><td> 1.7684440</td><td> 1.7953065</td></tr>\n",
       "\t<tr><td>GZ_Commerce, réparation d'automobiles et de motocycles </td><td>  4.9366879</td><td>  3.9395892</td><td> 2.6125793</td><td> 2.6670818</td></tr>\n",
       "\t<tr><td>HZ_Transports et entreposage                           </td><td>  0.6537639</td><td>  0.4766327</td><td> 4.7529417</td><td> 4.5492388</td></tr>\n",
       "\t<tr><td>IZ_Hébergement et restauration                         </td><td> 11.4992430</td><td>  9.7589870</td><td> 4.6705339</td><td> 4.5240809</td></tr>\n",
       "\t<tr><td>JA_Edition et audiovisuel                              </td><td>  3.8162885</td><td>  3.3364005</td><td> 3.0249547</td><td> 3.0369962</td></tr>\n",
       "\t<tr><td>JB-JC_Télécommunications et ativités informatiques     </td><td>  4.5959720</td><td>  4.4918679</td><td>47.4252017</td><td>37.8796435</td></tr>\n",
       "\t<tr><td>LZ_Activités immobilières                              </td><td>  1.0092101</td><td>  0.9015944</td><td> 3.2658869</td><td> 3.2907114</td></tr>\n",
       "\t<tr><td>MA_Activités juridiques, de conseil et d'ingénierie    </td><td>  4.4933952</td><td>  3.2903225</td><td> 1.6627526</td><td> 1.6879265</td></tr>\n",
       "\t<tr><td>MB-MC_R&amp;d et autres activités scientifiques et techniqu</td><td><span style=white-space:pre-wrap>  3.1144058</span></td><td><span style=white-space:pre-wrap>  2.7870225</span></td><td> 4.9101912</td><td> 4.7602239</td></tr>\n",
       "\t<tr><td>NZ_Activités de services administratifs et de soutien  </td><td>  4.2529086</td><td>  3.9249375</td><td> 1.4099358</td><td> 1.4179024</td></tr>\n",
       "\t<tr><td>RZ_Arts, spectacles et activités récréatives           </td><td>115.1051106</td><td> 96.0684194</td><td>10.9586776</td><td>10.1225574</td></tr>\n",
       "\t<tr><td>SZ_autres activités de services                        </td><td>156.5251929</td><td>139.0659121</td><td> 5.2367405</td><td> 5.0673021</td></tr>\n",
       "\t<tr><td>i_Industrie et agriculture                             </td><td>  2.2411730</td><td>  2.1246617</td><td> 2.9677898</td><td> 2.9577254</td></tr>\n",
       "</tbody>\n",
       "</table>\n"
      ],
      "text/latex": [
       "A data.frame: 26 × 5\n",
       "\\begin{tabular}{lllll}\n",
       " secteurs & RMSE & MAE & MAPE & sMAPE\\\\\n",
       " <chr> & <dbl> & <dbl> & <dbl> & <dbl>\\\\\n",
       "\\hline\n",
       "\t 64 Activités des services financiers, hors assurance et &  11.4317314 &   9.0640721 &  0.8846443 &  0.8786656\\\\\n",
       "\t 65-66 Assurance ; Activités auxiliaires de services fin &  20.3931039 &  18.8485512 &  5.3584435 &  5.1944502\\\\\n",
       "\t 852 Enseignement primaire                               &   2.1032881 &   1.7911894 &  2.5438786 &  2.4998004\\\\\n",
       "\t 853 Enseignement secondaire                             &   2.4232995 &   2.0448775 &  1.4140684 &  1.4001301\\\\\n",
       "\t 85x Enseignement / Autre                                &  46.0401394 &  36.3917541 &  3.6148743 &  3.5125000\\\\\n",
       "\t 861 Activités hospitalières                             &   3.5012284 &   3.4398872 &  3.4670834 &  3.5304539\\\\\n",
       "\t 862 Activité des médecins et des dentistes              &   4.3602732 &   3.7465554 &  2.0861639 &  2.0834996\\\\\n",
       "\t 869 Autres activités pour la santé humaine              &  12.6015309 &  10.7312491 &  8.4244244 &  7.9598456\\\\\n",
       "\t 87 Hébergement médico-social et social                  &   5.3838871 &   3.8653145 &  0.3921067 &  0.3906252\\\\\n",
       "\t 881 Action sociale sans hébergement pour personnes âgée &  10.9384927 &  10.5769673 &  1.9487122 &  1.9285715\\\\\n",
       "\t 889 Autre action sociale sans hébergement               &   8.1205662 &   7.7699434 &  0.5179160 &  0.5179238\\\\\n",
       "\t 931 Activités liées au sport                            &  99.9000545 &  78.1912552 &  6.4518726 &  6.1239175\\\\\n",
       "\t 932 Activités récréatives et de loisirs                 &  11.7135531 &  10.9220265 &  7.4699332 &  7.1601082\\\\\n",
       "\t FZ\\_Construction                                         &   0.8754312 &   0.6671970 &  1.7684440 &  1.7953065\\\\\n",
       "\t GZ\\_Commerce, réparation d'automobiles et de motocycles  &   4.9366879 &   3.9395892 &  2.6125793 &  2.6670818\\\\\n",
       "\t HZ\\_Transports et entreposage                            &   0.6537639 &   0.4766327 &  4.7529417 &  4.5492388\\\\\n",
       "\t IZ\\_Hébergement et restauration                          &  11.4992430 &   9.7589870 &  4.6705339 &  4.5240809\\\\\n",
       "\t JA\\_Edition et audiovisuel                               &   3.8162885 &   3.3364005 &  3.0249547 &  3.0369962\\\\\n",
       "\t JB-JC\\_Télécommunications et ativités informatiques      &   4.5959720 &   4.4918679 & 47.4252017 & 37.8796435\\\\\n",
       "\t LZ\\_Activités immobilières                               &   1.0092101 &   0.9015944 &  3.2658869 &  3.2907114\\\\\n",
       "\t MA\\_Activités juridiques, de conseil et d'ingénierie     &   4.4933952 &   3.2903225 &  1.6627526 &  1.6879265\\\\\n",
       "\t MB-MC\\_R\\&d et autres activités scientifiques et techniqu &   3.1144058 &   2.7870225 &  4.9101912 &  4.7602239\\\\\n",
       "\t NZ\\_Activités de services administratifs et de soutien   &   4.2529086 &   3.9249375 &  1.4099358 &  1.4179024\\\\\n",
       "\t RZ\\_Arts, spectacles et activités récréatives            & 115.1051106 &  96.0684194 & 10.9586776 & 10.1225574\\\\\n",
       "\t SZ\\_autres activités de services                         & 156.5251929 & 139.0659121 &  5.2367405 &  5.0673021\\\\\n",
       "\t i\\_Industrie et agriculture                              &   2.2411730 &   2.1246617 &  2.9677898 &  2.9577254\\\\\n",
       "\\end{tabular}\n"
      ],
      "text/markdown": [
       "\n",
       "A data.frame: 26 × 5\n",
       "\n",
       "| secteurs &lt;chr&gt; | RMSE &lt;dbl&gt; | MAE &lt;dbl&gt; | MAPE &lt;dbl&gt; | sMAPE &lt;dbl&gt; |\n",
       "|---|---|---|---|---|\n",
       "| 64 Activités des services financiers, hors assurance et |  11.4317314 |   9.0640721 |  0.8846443 |  0.8786656 |\n",
       "| 65-66 Assurance ; Activités auxiliaires de services fin |  20.3931039 |  18.8485512 |  5.3584435 |  5.1944502 |\n",
       "| 852 Enseignement primaire                               |   2.1032881 |   1.7911894 |  2.5438786 |  2.4998004 |\n",
       "| 853 Enseignement secondaire                             |   2.4232995 |   2.0448775 |  1.4140684 |  1.4001301 |\n",
       "| 85x Enseignement / Autre                                |  46.0401394 |  36.3917541 |  3.6148743 |  3.5125000 |\n",
       "| 861 Activités hospitalières                             |   3.5012284 |   3.4398872 |  3.4670834 |  3.5304539 |\n",
       "| 862 Activité des médecins et des dentistes              |   4.3602732 |   3.7465554 |  2.0861639 |  2.0834996 |\n",
       "| 869 Autres activités pour la santé humaine              |  12.6015309 |  10.7312491 |  8.4244244 |  7.9598456 |\n",
       "| 87 Hébergement médico-social et social                  |   5.3838871 |   3.8653145 |  0.3921067 |  0.3906252 |\n",
       "| 881 Action sociale sans hébergement pour personnes âgée |  10.9384927 |  10.5769673 |  1.9487122 |  1.9285715 |\n",
       "| 889 Autre action sociale sans hébergement               |   8.1205662 |   7.7699434 |  0.5179160 |  0.5179238 |\n",
       "| 931 Activités liées au sport                            |  99.9000545 |  78.1912552 |  6.4518726 |  6.1239175 |\n",
       "| 932 Activités récréatives et de loisirs                 |  11.7135531 |  10.9220265 |  7.4699332 |  7.1601082 |\n",
       "| FZ_Construction                                         |   0.8754312 |   0.6671970 |  1.7684440 |  1.7953065 |\n",
       "| GZ_Commerce, réparation d'automobiles et de motocycles  |   4.9366879 |   3.9395892 |  2.6125793 |  2.6670818 |\n",
       "| HZ_Transports et entreposage                            |   0.6537639 |   0.4766327 |  4.7529417 |  4.5492388 |\n",
       "| IZ_Hébergement et restauration                          |  11.4992430 |   9.7589870 |  4.6705339 |  4.5240809 |\n",
       "| JA_Edition et audiovisuel                               |   3.8162885 |   3.3364005 |  3.0249547 |  3.0369962 |\n",
       "| JB-JC_Télécommunications et ativités informatiques      |   4.5959720 |   4.4918679 | 47.4252017 | 37.8796435 |\n",
       "| LZ_Activités immobilières                               |   1.0092101 |   0.9015944 |  3.2658869 |  3.2907114 |\n",
       "| MA_Activités juridiques, de conseil et d'ingénierie     |   4.4933952 |   3.2903225 |  1.6627526 |  1.6879265 |\n",
       "| MB-MC_R&amp;d et autres activités scientifiques et techniqu |   3.1144058 |   2.7870225 |  4.9101912 |  4.7602239 |\n",
       "| NZ_Activités de services administratifs et de soutien   |   4.2529086 |   3.9249375 |  1.4099358 |  1.4179024 |\n",
       "| RZ_Arts, spectacles et activités récréatives            | 115.1051106 |  96.0684194 | 10.9586776 | 10.1225574 |\n",
       "| SZ_autres activités de services                         | 156.5251929 | 139.0659121 |  5.2367405 |  5.0673021 |\n",
       "| i_Industrie et agriculture                              |   2.2411730 |   2.1246617 |  2.9677898 |  2.9577254 |\n",
       "\n"
      ],
      "text/plain": [
       "   secteurs                                                RMSE       \n",
       "1  64 Activités des services financiers, hors assurance et  11.4317314\n",
       "2  65-66 Assurance ; Activités auxiliaires de services fin  20.3931039\n",
       "3  852 Enseignement primaire                                 2.1032881\n",
       "4  853 Enseignement secondaire                               2.4232995\n",
       "5  85x Enseignement / Autre                                 46.0401394\n",
       "6  861 Activités hospitalières                               3.5012284\n",
       "7  862 Activité des médecins et des dentistes                4.3602732\n",
       "8  869 Autres activités pour la santé humaine               12.6015309\n",
       "9  87 Hébergement médico-social et social                    5.3838871\n",
       "10 881 Action sociale sans hébergement pour personnes âgée  10.9384927\n",
       "11 889 Autre action sociale sans hébergement                 8.1205662\n",
       "12 931 Activités liées au sport                             99.9000545\n",
       "13 932 Activités récréatives et de loisirs                  11.7135531\n",
       "14 FZ_Construction                                           0.8754312\n",
       "15 GZ_Commerce, réparation d'automobiles et de motocycles    4.9366879\n",
       "16 HZ_Transports et entreposage                              0.6537639\n",
       "17 IZ_Hébergement et restauration                           11.4992430\n",
       "18 JA_Edition et audiovisuel                                 3.8162885\n",
       "19 JB-JC_Télécommunications et ativités informatiques        4.5959720\n",
       "20 LZ_Activités immobilières                                 1.0092101\n",
       "21 MA_Activités juridiques, de conseil et d'ingénierie       4.4933952\n",
       "22 MB-MC_R&d et autres activités scientifiques et techniqu   3.1144058\n",
       "23 NZ_Activités de services administratifs et de soutien     4.2529086\n",
       "24 RZ_Arts, spectacles et activités récréatives            115.1051106\n",
       "25 SZ_autres activités de services                         156.5251929\n",
       "26 i_Industrie et agriculture                                2.2411730\n",
       "   MAE         MAPE       sMAPE     \n",
       "1    9.0640721  0.8846443  0.8786656\n",
       "2   18.8485512  5.3584435  5.1944502\n",
       "3    1.7911894  2.5438786  2.4998004\n",
       "4    2.0448775  1.4140684  1.4001301\n",
       "5   36.3917541  3.6148743  3.5125000\n",
       "6    3.4398872  3.4670834  3.5304539\n",
       "7    3.7465554  2.0861639  2.0834996\n",
       "8   10.7312491  8.4244244  7.9598456\n",
       "9    3.8653145  0.3921067  0.3906252\n",
       "10  10.5769673  1.9487122  1.9285715\n",
       "11   7.7699434  0.5179160  0.5179238\n",
       "12  78.1912552  6.4518726  6.1239175\n",
       "13  10.9220265  7.4699332  7.1601082\n",
       "14   0.6671970  1.7684440  1.7953065\n",
       "15   3.9395892  2.6125793  2.6670818\n",
       "16   0.4766327  4.7529417  4.5492388\n",
       "17   9.7589870  4.6705339  4.5240809\n",
       "18   3.3364005  3.0249547  3.0369962\n",
       "19   4.4918679 47.4252017 37.8796435\n",
       "20   0.9015944  3.2658869  3.2907114\n",
       "21   3.2903225  1.6627526  1.6879265\n",
       "22   2.7870225  4.9101912  4.7602239\n",
       "23   3.9249375  1.4099358  1.4179024\n",
       "24  96.0684194 10.9586776 10.1225574\n",
       "25 139.0659121  5.2367405  5.0673021\n",
       "26   2.1246617  2.9677898  2.9577254"
      ]
     },
     "metadata": {},
     "output_type": "display_data"
    }
   ],
   "source": [
    "differences_analysis_stable <- cbind(\"secteurs\"=lab.to.num$lab,RMSE,MAE,MAPE,sMAPE)\n",
    "differences_analysis_stable"
   ]
  }
 ],
 "metadata": {
  "kernelspec": {
   "display_name": "R",
   "language": "R",
   "name": "ir"
  },
  "language_info": {
   "codemirror_mode": "r",
   "file_extension": ".r",
   "mimetype": "text/x-r-source",
   "name": "R",
   "pygments_lexer": "r",
   "version": "4.0.4"
  },
  "orig_nbformat": 4,
  "vscode": {
   "interpreter": {
    "hash": "31f2aee4e71d21fbe5cf8b01ff0e069b9275f58929596ceb00d14d90e3e16cd6"
   }
  }
 },
 "nbformat": 4,
 "nbformat_minor": 2
}

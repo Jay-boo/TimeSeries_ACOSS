{
 "cells": [
  {
   "cell_type": "markdown",
   "metadata": {},
   "source": [
    "# LSTM models for multivariate Time Series forecastings"
   ]
  },
  {
   "cell_type": "markdown",
   "metadata": {},
   "source": [
    "## Sommaire\n",
    "\n",
    "- [I. Préparation des données](#present_data)\n",
    "\n",
    "- [II. Construction de 2 models LSTM](#LSTM)\n",
    "    - [II.A LSTM avec des TS non stationarisées](#LSTMA)\n",
    "    - [II.B LSTM avec des TS stationarisées](#LSTMB)\n"
   ]
  },
  {
   "cell_type": "code",
   "execution_count": 1,
   "metadata": {
    "vscode": {
     "languageId": "r"
    }
   },
   "outputs": [],
   "source": [
    "rm(list=ls())\n",
    "suppressPackageStartupMessages(require(skimr))\n",
    "suppressPackageStartupMessages(require(readxl))\n",
    "suppressPackageStartupMessages(require(stringr))\n",
    "suppressPackageStartupMessages(require(dplyr))\n",
    "suppressPackageStartupMessages(require(ggplot2))\n",
    "suppressPackageStartupMessages(require(forecast))"
   ]
  },
  {
   "cell_type": "markdown",
   "metadata": {},
   "source": [
    "<div id=\"present_data\">\n",
    "\n",
    "# I . Data preparation"
   ]
  },
  {
   "cell_type": "code",
   "execution_count": 2,
   "metadata": {
    "vscode": {
     "languageId": "r"
    }
   },
   "outputs": [],
   "source": [
    "#------------------------------------------------------\n",
    "# data pre treatment (similar to univariate case)\n",
    "\n",
    "df <- read_excel(\"data/data.xlsx\",sheet = 3)\n",
    "tmp <-df%>% filter(aire==\"44_GRAND EST\" & champ==\"ESS\")\n",
    "\n",
    "df <-tmp[-which(!is.na(tmp$secret_stat)),]%>%select(-secret_stat)\n",
    "df <- df %>% select(-champ,-type_aire,-type_naf,-aire)\n",
    "df <- df[,c(TRUE,str_detect(colnames(df),\"nb_etab\")[-1])]\n",
    "tmp <- t(df)\n",
    "colnames(tmp) <- tmp[1,]\n",
    "tmp <-tmp[-1,]\n",
    "df <- tmp\n",
    "tmp <-df%>%as.data.frame\n",
    "tmp <-cbind(\"date\"=rep(NA,nrow(tmp)),tmp)\n",
    "for (i in 1:nrow(tmp)){\n",
    "    tmp.format.date <- strsplit(rownames(df)[i],\"nb_etab\")[[1]][2]\n",
    "    subsplit <-strsplit(tmp.format.date,\"T\")[[1]]\n",
    "    year<-subsplit[1]\n",
    "    trimester <- subsplit[2]\n",
    "    month <-switch(trimester,\n",
    "        \"1\"=\"01\",\n",
    "        \"2\"=\"04\",\n",
    "        \"3\"=\"07\",\n",
    "        \"4\"=\"10\"\n",
    "    )\n",
    "    tmp[i,1] <- paste(year,month,\"01\",sep=\"-\")\n",
    "}\n",
    "tmp$date <-as.Date(tmp$date)\n",
    "rownames(tmp) <- NULL\n",
    "\n",
    "df.indexes <-which(tmp$date < as.Date(\"2020-01-01\"))\n",
    "train.indexes<- which(tmp$date < as.Date(\"2018-01-01\") )\n",
    "test.indexes <-which(tmp$date>= as.Date(\"2018-01-01\") & tmp$date <as.Date(\"2020-01-01\") )\n",
    "tmp <-tmp %>%select(-date)%>% mutate_all(as.numeric)\n",
    "#----------------------------\n",
    "# Eliminate total serie\n",
    "tmp <- tmp[,-ncol(tmp)]\n",
    "df.ts <- ts(tmp[df.indexes,],start=c(2010,1),frequency=4)# S'arrete à 2019 Q4\n",
    "train.ts <-ts(tmp[train.indexes,],start=c(2010,1),frequency = 4)# S'arrete à 2017 Q4\n",
    "test.ts <-ts(tmp[test.indexes,],start = c(2018,1),frequency = 4)# Commence a 2018 Q1 --> 2019 Q4\n",
    "global.ts <- ts(tmp,start=c(2010,1),frequency=4)# Commence a 2010 Q1 --> 2021 Q2\n",
    "covid.ts <- ts(tmp[(df.indexes[length(df.indexes)]+1):nrow(tmp),],start=c(2020,1),frequency = 4)# Commence a 2020 Q1 --> 2021 Q2"
   ]
  },
  {
   "cell_type": "code",
   "execution_count": 3,
   "metadata": {
    "vscode": {
     "languageId": "r"
    }
   },
   "outputs": [
    {
     "name": "stderr",
     "output_type": "stream",
     "text": [
      "Loading required package: tensorflow\n",
      "\n",
      "Loading required package: keras\n",
      "\n"
     ]
    }
   ],
   "source": [
    "require(tensorflow)\n",
    "require(keras)"
   ]
  },
  {
   "cell_type": "code",
   "execution_count": 4,
   "metadata": {
    "vscode": {
     "languageId": "r"
    }
   },
   "outputs": [],
   "source": [
    "lab.to.num <-cbind(\"lab\"=colnames(df.ts),\"num\"=1:length(colnames(df.ts))) %>%as.data.frame\n",
    "lab.to.num$num <- as.numeric(lab.to.num$num)\n",
    "colnames(df.ts) <-lab.to.num$num"
   ]
  },
  {
   "cell_type": "code",
   "execution_count": 5,
   "metadata": {
    "vscode": {
     "languageId": "r"
    }
   },
   "outputs": [],
   "source": [
    "df.train <-df.ts %>% as.data.frame"
   ]
  },
  {
   "cell_type": "code",
   "execution_count": 6,
   "metadata": {
    "vscode": {
     "languageId": "r"
    }
   },
   "outputs": [],
   "source": [
    "#-----------------------------\n",
    "# Scaled the train sample and get the sample factor parmas: mean + sd\n",
    "scaled_train <- scale(df.train)\n",
    "scale_factor <-list(\"center\"=attr(scaled_train,\"scaled:center\"),\"sd\"=attr(scaled_train,\"scaled:scale\"))"
   ]
  },
  {
   "cell_type": "code",
   "execution_count": 8,
   "metadata": {
    "vscode": {
     "languageId": "r"
    }
   },
   "outputs": [],
   "source": [
    "#----------------\n",
    "# We d like to do a 6 Quarter forecast,\n",
    "# We need to base each prediction on 6 points\n",
    "prediction <- 6\n",
    "lag <- prediction"
   ]
  },
  {
   "cell_type": "code",
   "execution_count": 10,
   "metadata": {
    "vscode": {
     "languageId": "r"
    }
   },
   "outputs": [],
   "source": [
    "\n",
    "x_train_data <-t(sapply(\n",
    "    1:(dim(scaled_train)[1]-lag-prediction +1),\n",
    "    function(x){scaled_train[x:(x+lag-1),1]}\n",
    "))\n",
    "\n",
    "for(i in 2:ncol(scaled_train)){\n",
    "    new <-t(sapply(\n",
    "        1:(dim(scaled_train)[1]-lag-prediction +1),\n",
    "        function(x){scaled_train[x:(x+lag-1),i]}\n",
    "    ))\n",
    "    x_train_data <-cbind(x_train_data,new)\n",
    "    \n",
    "}"
   ]
  },
  {
   "cell_type": "code",
   "execution_count": 11,
   "metadata": {
    "vscode": {
     "languageId": "r"
    }
   },
   "outputs": [
    {
     "name": "stdout",
     "output_type": "stream",
     "text": [
      "Shape de  X_train : 29 156"
     ]
    }
   ],
   "source": [
    "cat(\"Shape de  X_train :\",x_train_data%>% dim)"
   ]
  },
  {
   "cell_type": "code",
   "execution_count": 12,
   "metadata": {
    "vscode": {
     "languageId": "r"
    }
   },
   "outputs": [],
   "source": [
    "x_train_arr <- array(\n",
    "    data=as.numeric(unlist(x_train_data)),\n",
    "    dim=c(\n",
    "        nrow(x_train_data),\n",
    "        ncol(x_train_data),\n",
    "        1\n",
    "        )\n",
    "\n",
    ")\n"
   ]
  },
  {
   "cell_type": "code",
   "execution_count": 13,
   "metadata": {
    "vscode": {
     "languageId": "r"
    }
   },
   "outputs": [],
   "source": [
    "y_train_data <-  t(sapply(\n",
    "    (1+lag):(dim(scaled_train)[1]-prediction +1),\n",
    "    function(x){scaled_train[x:(x+prediction-1),1]}\n",
    "))\n",
    "y_train_arr <-array(\n",
    "    data=as.numeric(unlist(y_train_data)),\n",
    "    dim=c(\n",
    "        nrow(y_train_data),\n",
    "        prediction,\n",
    "        1\n",
    "    )\n",
    ")"
   ]
  },
  {
   "cell_type": "code",
   "execution_count": 14,
   "metadata": {
    "vscode": {
     "languageId": "r"
    }
   },
   "outputs": [],
   "source": [
    "x_test <-df.train[(nrow(scaled_train)- prediction+1):nrow(scaled_train),]\n",
    "for(i in 1:ncol(x_test)){\n",
    "    x_test[,i] <-(x_test[,i] -scale_factor[[\"center\"]][i])/scale_factor[[\"sd\"]][i]\n",
    "}\n",
    "x_test_scaled <- x_test[,1]"
   ]
  },
  {
   "cell_type": "code",
   "execution_count": 15,
   "metadata": {
    "vscode": {
     "languageId": "r"
    }
   },
   "outputs": [
    {
     "data": {
      "text/html": [
       "<table class=\"dataframe\">\n",
       "<caption>A data.frame: 6 × 26</caption>\n",
       "<thead>\n",
       "\t<tr><th></th><th scope=col>1</th><th scope=col>2</th><th scope=col>3</th><th scope=col>4</th><th scope=col>5</th><th scope=col>6</th><th scope=col>7</th><th scope=col>8</th><th scope=col>9</th><th scope=col>10</th><th scope=col>⋯</th><th scope=col>17</th><th scope=col>18</th><th scope=col>19</th><th scope=col>20</th><th scope=col>21</th><th scope=col>22</th><th scope=col>23</th><th scope=col>24</th><th scope=col>25</th><th scope=col>26</th></tr>\n",
       "\t<tr><th></th><th scope=col>&lt;dbl&gt;</th><th scope=col>&lt;dbl&gt;</th><th scope=col>&lt;dbl&gt;</th><th scope=col>&lt;dbl&gt;</th><th scope=col>&lt;dbl&gt;</th><th scope=col>&lt;dbl&gt;</th><th scope=col>&lt;dbl&gt;</th><th scope=col>&lt;dbl&gt;</th><th scope=col>&lt;dbl&gt;</th><th scope=col>&lt;dbl&gt;</th><th scope=col>⋯</th><th scope=col>&lt;dbl&gt;</th><th scope=col>&lt;dbl&gt;</th><th scope=col>&lt;dbl&gt;</th><th scope=col>&lt;dbl&gt;</th><th scope=col>&lt;dbl&gt;</th><th scope=col>&lt;dbl&gt;</th><th scope=col>&lt;dbl&gt;</th><th scope=col>&lt;dbl&gt;</th><th scope=col>&lt;dbl&gt;</th><th scope=col>&lt;dbl&gt;</th></tr>\n",
       "</thead>\n",
       "<tbody>\n",
       "\t<tr><th scope=row>35</th><td>-1.431074</td><td>-0.2819201</td><td>0.02739667</td><td>-0.2392895</td><td>-2.037024</td><td>-0.8231048</td><td>1.094363</td><td>1.049924</td><td>1.325868</td><td>-1.07950734</td><td>⋯</td><td> 0.09966473</td><td>-1.83878403</td><td>-2.319888</td><td>-0.8215552</td><td>-1.8710760</td><td>-0.9745028</td><td>-1.656126</td><td>-1.56195820</td><td>-1.770070</td><td>1.443310</td></tr>\n",
       "\t<tr><th scope=row>36</th><td>-1.472877</td><td>-0.2167363</td><td>0.02739667</td><td>-0.7566721</td><td>-1.767962</td><td>-0.8231048</td><td>1.094363</td><td>1.239955</td><td>1.403122</td><td>-0.93509164</td><td>⋯</td><td>-0.90843824</td><td> 0.15582916</td><td>-1.831491</td><td>-0.8215552</td><td>-1.5163697</td><td>-1.1985265</td><td>-1.701375</td><td>-0.23505196</td><td>-1.681677</td><td>1.847033</td></tr>\n",
       "\t<tr><th scope=row>37</th><td>-1.584354</td><td> 0.1743668</td><td>0.02739667</td><td>-0.7566721</td><td>-1.902493</td><td>-0.3841156</td><td>1.593692</td><td>1.810049</td><td>1.596256</td><td>-0.93509164</td><td>⋯</td><td>-0.81679252</td><td> 0.40515580</td><td>-1.343093</td><td>-0.8215552</td><td>-1.3390165</td><td>-1.4225501</td><td>-1.837123</td><td>-1.14493053</td><td>-2.167838</td><td>1.443310</td></tr>\n",
       "\t<tr><th scope=row>38</th><td>-1.667961</td><td>-0.6730231</td><td>0.02739667</td><td>-0.7566721</td><td>-1.835227</td><td> 0.4938629</td><td>1.760135</td><td>1.620018</td><td>1.634883</td><td>-1.07950734</td><td>⋯</td><td>-0.63350107</td><td> 1.40246240</td><td>-1.343093</td><td>-0.1223593</td><td>-0.9843101</td><td>-0.9745028</td><td>-1.882372</td><td> 0.52318017</td><td>-1.946856</td><td>1.645172</td></tr>\n",
       "\t<tr><th scope=row>39</th><td>-1.849109</td><td>-0.6730231</td><td>1.12326335</td><td>-0.4979808</td><td>-1.835227</td><td>-0.3841156</td><td>1.593692</td><td>1.429987</td><td>1.789390</td><td>-0.35742885</td><td>⋯</td><td> 0.23713331</td><td> 0.15582916</td><td>-1.343093</td><td>-0.4719573</td><td>-1.6937228</td><td>-1.1985265</td><td>-1.565627</td><td>-1.71360463</td><td>-2.189936</td><td>1.847033</td></tr>\n",
       "\t<tr><th scope=row>40</th><td>-1.904847</td><td>-0.8685747</td><td>2.21913003</td><td>-0.4979808</td><td>-1.498900</td><td>-0.3841156</td><td>1.510471</td><td>1.239955</td><td>1.789390</td><td> 0.07581824</td><td>⋯</td><td>-0.81679252</td><td>-0.09349749</td><td>-1.343093</td><td>-0.8215552</td><td>-1.1616633</td><td>-0.7504792</td><td>-1.746624</td><td>-0.08340554</td><td>-2.234133</td><td>2.654480</td></tr>\n",
       "</tbody>\n",
       "</table>\n"
      ],
      "text/latex": [
       "A data.frame: 6 × 26\n",
       "\\begin{tabular}{r|lllllllllllllllllllll}\n",
       "  & 1 & 2 & 3 & 4 & 5 & 6 & 7 & 8 & 9 & 10 & ⋯ & 17 & 18 & 19 & 20 & 21 & 22 & 23 & 24 & 25 & 26\\\\\n",
       "  & <dbl> & <dbl> & <dbl> & <dbl> & <dbl> & <dbl> & <dbl> & <dbl> & <dbl> & <dbl> & ⋯ & <dbl> & <dbl> & <dbl> & <dbl> & <dbl> & <dbl> & <dbl> & <dbl> & <dbl> & <dbl>\\\\\n",
       "\\hline\n",
       "\t35 & -1.431074 & -0.2819201 & 0.02739667 & -0.2392895 & -2.037024 & -0.8231048 & 1.094363 & 1.049924 & 1.325868 & -1.07950734 & ⋯ &  0.09966473 & -1.83878403 & -2.319888 & -0.8215552 & -1.8710760 & -0.9745028 & -1.656126 & -1.56195820 & -1.770070 & 1.443310\\\\\n",
       "\t36 & -1.472877 & -0.2167363 & 0.02739667 & -0.7566721 & -1.767962 & -0.8231048 & 1.094363 & 1.239955 & 1.403122 & -0.93509164 & ⋯ & -0.90843824 &  0.15582916 & -1.831491 & -0.8215552 & -1.5163697 & -1.1985265 & -1.701375 & -0.23505196 & -1.681677 & 1.847033\\\\\n",
       "\t37 & -1.584354 &  0.1743668 & 0.02739667 & -0.7566721 & -1.902493 & -0.3841156 & 1.593692 & 1.810049 & 1.596256 & -0.93509164 & ⋯ & -0.81679252 &  0.40515580 & -1.343093 & -0.8215552 & -1.3390165 & -1.4225501 & -1.837123 & -1.14493053 & -2.167838 & 1.443310\\\\\n",
       "\t38 & -1.667961 & -0.6730231 & 0.02739667 & -0.7566721 & -1.835227 &  0.4938629 & 1.760135 & 1.620018 & 1.634883 & -1.07950734 & ⋯ & -0.63350107 &  1.40246240 & -1.343093 & -0.1223593 & -0.9843101 & -0.9745028 & -1.882372 &  0.52318017 & -1.946856 & 1.645172\\\\\n",
       "\t39 & -1.849109 & -0.6730231 & 1.12326335 & -0.4979808 & -1.835227 & -0.3841156 & 1.593692 & 1.429987 & 1.789390 & -0.35742885 & ⋯ &  0.23713331 &  0.15582916 & -1.343093 & -0.4719573 & -1.6937228 & -1.1985265 & -1.565627 & -1.71360463 & -2.189936 & 1.847033\\\\\n",
       "\t40 & -1.904847 & -0.8685747 & 2.21913003 & -0.4979808 & -1.498900 & -0.3841156 & 1.510471 & 1.239955 & 1.789390 &  0.07581824 & ⋯ & -0.81679252 & -0.09349749 & -1.343093 & -0.8215552 & -1.1616633 & -0.7504792 & -1.746624 & -0.08340554 & -2.234133 & 2.654480\\\\\n",
       "\\end{tabular}\n"
      ],
      "text/markdown": [
       "\n",
       "A data.frame: 6 × 26\n",
       "\n",
       "| <!--/--> | 1 &lt;dbl&gt; | 2 &lt;dbl&gt; | 3 &lt;dbl&gt; | 4 &lt;dbl&gt; | 5 &lt;dbl&gt; | 6 &lt;dbl&gt; | 7 &lt;dbl&gt; | 8 &lt;dbl&gt; | 9 &lt;dbl&gt; | 10 &lt;dbl&gt; | ⋯ ⋯ | 17 &lt;dbl&gt; | 18 &lt;dbl&gt; | 19 &lt;dbl&gt; | 20 &lt;dbl&gt; | 21 &lt;dbl&gt; | 22 &lt;dbl&gt; | 23 &lt;dbl&gt; | 24 &lt;dbl&gt; | 25 &lt;dbl&gt; | 26 &lt;dbl&gt; |\n",
       "|---|---|---|---|---|---|---|---|---|---|---|---|---|---|---|---|---|---|---|---|---|---|\n",
       "| 35 | -1.431074 | -0.2819201 | 0.02739667 | -0.2392895 | -2.037024 | -0.8231048 | 1.094363 | 1.049924 | 1.325868 | -1.07950734 | ⋯ |  0.09966473 | -1.83878403 | -2.319888 | -0.8215552 | -1.8710760 | -0.9745028 | -1.656126 | -1.56195820 | -1.770070 | 1.443310 |\n",
       "| 36 | -1.472877 | -0.2167363 | 0.02739667 | -0.7566721 | -1.767962 | -0.8231048 | 1.094363 | 1.239955 | 1.403122 | -0.93509164 | ⋯ | -0.90843824 |  0.15582916 | -1.831491 | -0.8215552 | -1.5163697 | -1.1985265 | -1.701375 | -0.23505196 | -1.681677 | 1.847033 |\n",
       "| 37 | -1.584354 |  0.1743668 | 0.02739667 | -0.7566721 | -1.902493 | -0.3841156 | 1.593692 | 1.810049 | 1.596256 | -0.93509164 | ⋯ | -0.81679252 |  0.40515580 | -1.343093 | -0.8215552 | -1.3390165 | -1.4225501 | -1.837123 | -1.14493053 | -2.167838 | 1.443310 |\n",
       "| 38 | -1.667961 | -0.6730231 | 0.02739667 | -0.7566721 | -1.835227 |  0.4938629 | 1.760135 | 1.620018 | 1.634883 | -1.07950734 | ⋯ | -0.63350107 |  1.40246240 | -1.343093 | -0.1223593 | -0.9843101 | -0.9745028 | -1.882372 |  0.52318017 | -1.946856 | 1.645172 |\n",
       "| 39 | -1.849109 | -0.6730231 | 1.12326335 | -0.4979808 | -1.835227 | -0.3841156 | 1.593692 | 1.429987 | 1.789390 | -0.35742885 | ⋯ |  0.23713331 |  0.15582916 | -1.343093 | -0.4719573 | -1.6937228 | -1.1985265 | -1.565627 | -1.71360463 | -2.189936 | 1.847033 |\n",
       "| 40 | -1.904847 | -0.8685747 | 2.21913003 | -0.4979808 | -1.498900 | -0.3841156 | 1.510471 | 1.239955 | 1.789390 |  0.07581824 | ⋯ | -0.81679252 | -0.09349749 | -1.343093 | -0.8215552 | -1.1616633 | -0.7504792 | -1.746624 | -0.08340554 | -2.234133 | 2.654480 |\n",
       "\n"
      ],
      "text/plain": [
       "   1         2          3          4          5         6          7       \n",
       "35 -1.431074 -0.2819201 0.02739667 -0.2392895 -2.037024 -0.8231048 1.094363\n",
       "36 -1.472877 -0.2167363 0.02739667 -0.7566721 -1.767962 -0.8231048 1.094363\n",
       "37 -1.584354  0.1743668 0.02739667 -0.7566721 -1.902493 -0.3841156 1.593692\n",
       "38 -1.667961 -0.6730231 0.02739667 -0.7566721 -1.835227  0.4938629 1.760135\n",
       "39 -1.849109 -0.6730231 1.12326335 -0.4979808 -1.835227 -0.3841156 1.593692\n",
       "40 -1.904847 -0.8685747 2.21913003 -0.4979808 -1.498900 -0.3841156 1.510471\n",
       "   8        9        10          ⋯ 17          18          19        20        \n",
       "35 1.049924 1.325868 -1.07950734 ⋯  0.09966473 -1.83878403 -2.319888 -0.8215552\n",
       "36 1.239955 1.403122 -0.93509164 ⋯ -0.90843824  0.15582916 -1.831491 -0.8215552\n",
       "37 1.810049 1.596256 -0.93509164 ⋯ -0.81679252  0.40515580 -1.343093 -0.8215552\n",
       "38 1.620018 1.634883 -1.07950734 ⋯ -0.63350107  1.40246240 -1.343093 -0.1223593\n",
       "39 1.429987 1.789390 -0.35742885 ⋯  0.23713331  0.15582916 -1.343093 -0.4719573\n",
       "40 1.239955 1.789390  0.07581824 ⋯ -0.81679252 -0.09349749 -1.343093 -0.8215552\n",
       "   21         22         23        24          25        26      \n",
       "35 -1.8710760 -0.9745028 -1.656126 -1.56195820 -1.770070 1.443310\n",
       "36 -1.5163697 -1.1985265 -1.701375 -0.23505196 -1.681677 1.847033\n",
       "37 -1.3390165 -1.4225501 -1.837123 -1.14493053 -2.167838 1.443310\n",
       "38 -0.9843101 -0.9745028 -1.882372  0.52318017 -1.946856 1.645172\n",
       "39 -1.6937228 -1.1985265 -1.565627 -1.71360463 -2.189936 1.847033\n",
       "40 -1.1616633 -0.7504792 -1.746624 -0.08340554 -2.234133 2.654480"
      ]
     },
     "metadata": {},
     "output_type": "display_data"
    }
   ],
   "source": [
    "x_test"
   ]
  },
  {
   "cell_type": "code",
   "execution_count": 16,
   "metadata": {
    "vscode": {
     "languageId": "r"
    }
   },
   "outputs": [],
   "source": [
    "x_pred_arr <- array(\n",
    "    data=x_test,\n",
    "    dim=c(1,lag,1)\n",
    ")"
   ]
  },
  {
   "cell_type": "code",
   "execution_count": 17,
   "metadata": {
    "vscode": {
     "languageId": "r"
    }
   },
   "outputs": [
    {
     "name": "stdout",
     "output_type": "stream",
     "text": [
      "\n",
      "X test scaled : -1.431074 -1.472877 -1.584354 -1.667961 -1.849109 -1.904847"
     ]
    }
   ],
   "source": [
    "cat(\"\\nX test scaled :\",x_test_scaled)"
   ]
  },
  {
   "cell_type": "markdown",
   "metadata": {},
   "source": [
    "<hr>\n",
    "\n",
    "<div id=\"LSTM\">\n",
    "\n",
    "# II. Construct LSTM models"
   ]
  },
  {
   "cell_type": "markdown",
   "metadata": {},
   "source": [
    "<div id=\"LSTMA\">\n",
    "\n",
    "## II.A : LSTM model with non stable TS"
   ]
  },
  {
   "cell_type": "code",
   "execution_count": 18,
   "metadata": {
    "vscode": {
     "languageId": "r"
    }
   },
   "outputs": [
    {
     "data": {
      "text/html": [
       "<style>\n",
       ".list-inline {list-style: none; margin:0; padding: 0}\n",
       ".list-inline>li {display: inline-block}\n",
       ".list-inline>li:not(:last-child)::after {content: \"\\00b7\"; padding: 0 .5ex}\n",
       "</style>\n",
       "<ol class=list-inline><li>29</li><li>156</li><li>1</li></ol>\n"
      ],
      "text/latex": [
       "\\begin{enumerate*}\n",
       "\\item 29\n",
       "\\item 156\n",
       "\\item 1\n",
       "\\end{enumerate*}\n"
      ],
      "text/markdown": [
       "1. 29\n",
       "2. 156\n",
       "3. 1\n",
       "\n",
       "\n"
      ],
      "text/plain": [
       "[1]  29 156   1"
      ]
     },
     "metadata": {},
     "output_type": "display_data"
    },
    {
     "data": {
      "text/html": [
       "<style>\n",
       ".list-inline {list-style: none; margin:0; padding: 0}\n",
       ".list-inline>li {display: inline-block}\n",
       ".list-inline>li:not(:last-child)::after {content: \"\\00b7\"; padding: 0 .5ex}\n",
       "</style>\n",
       "<ol class=list-inline><li>29</li><li>6</li><li>1</li></ol>\n"
      ],
      "text/latex": [
       "\\begin{enumerate*}\n",
       "\\item 29\n",
       "\\item 6\n",
       "\\item 1\n",
       "\\end{enumerate*}\n"
      ],
      "text/markdown": [
       "1. 29\n",
       "2. 6\n",
       "3. 1\n",
       "\n",
       "\n"
      ],
      "text/plain": [
       "[1] 29  6  1"
      ]
     },
     "metadata": {},
     "output_type": "display_data"
    }
   ],
   "source": [
    "x_train_arr %>%dim\n",
    "y_train_arr %>%dim"
   ]
  },
  {
   "cell_type": "code",
   "execution_count": 19,
   "metadata": {
    "vscode": {
     "languageId": "r"
    }
   },
   "outputs": [],
   "source": [
    "\n",
    "x_bis <-sapply(\n",
    "        1:ncol(scaled_train),\n",
    "        function(x){scaled_train[1:(29-1+1),x]}\n",
    ")\n",
    "\n",
    "x_bis_first_array <-array(\n",
    "    data=unlist(x_bis),\n",
    "    dim=c(nrow(x_bis),1,ncol(x_bis))\n",
    ")\n",
    "tot_array <-array(NA, dim=c(\n",
    "    nrow(x_bis),\n",
    "    6,\n",
    "    ncol(x_bis)\n",
    "))\n",
    "tot_array[,1,] <- x_bis_first_array\n",
    "\n",
    "\n",
    "for (i in 2:6){\n",
    "    new <-sapply(\n",
    "        1:ncol(scaled_train),\n",
    "        function(x){scaled_train[i:(i+29-1),x]}\n",
    "    )\n",
    "    new <- array(\n",
    "        data=unlist(new),\n",
    "        dim=c(nrow(x_bis),1,ncol(x_bis))\n",
    "    )\n",
    "    tot_array[,i,] <- new\n",
    "}\n",
    "x_train_arr_bis <- tot_array\n"
   ]
  },
  {
   "cell_type": "code",
   "execution_count": 20,
   "metadata": {
    "vscode": {
     "languageId": "r"
    }
   },
   "outputs": [],
   "source": [
    "\n",
    "y_train_data_bis <-  t(sapply(\n",
    "    (1+lag):(dim(scaled_train)[1]-prediction +1),\n",
    "    function(x){scaled_train[x:(x+prediction-1),1]}\n",
    "))\n",
    "\n",
    "tot_array <-array(NA, dim=c(\n",
    "    nrow(y_train_data_bis),\n",
    "    6,\n",
    "    ncol(scaled_train)\n",
    "))\n",
    "\n",
    "tot_array[,,1] <- y_train_data_bis\n",
    "\n",
    "for (i in 2:ncol(scaled_train)){\n",
    "    new <-  t(sapply(\n",
    "        (1+lag):(dim(scaled_train)[1]-prediction +1),\n",
    "        function(x){scaled_train[x:(x+prediction-1),i]}\n",
    "    ))\n",
    "\n",
    "    new_array <- array(\n",
    "        data=as.numeric(unlist(new)),\n",
    "        dim=c(nrow(new),\n",
    "        ncol(new),\n",
    "        1)\n",
    "    )\n",
    "    tot_array[,,i] <- new_array\n",
    "\n",
    "}\n",
    "\n",
    "y_train_arr_bis <- tot_array\n"
   ]
  },
  {
   "cell_type": "code",
   "execution_count": 21,
   "metadata": {
    "vscode": {
     "languageId": "r"
    }
   },
   "outputs": [
    {
     "data": {
      "text/html": [
       "<style>\n",
       ".list-inline {list-style: none; margin:0; padding: 0}\n",
       ".list-inline>li {display: inline-block}\n",
       ".list-inline>li:not(:last-child)::after {content: \"\\00b7\"; padding: 0 .5ex}\n",
       "</style>\n",
       "<ol class=list-inline><li>29</li><li>6</li><li>26</li></ol>\n"
      ],
      "text/latex": [
       "\\begin{enumerate*}\n",
       "\\item 29\n",
       "\\item 6\n",
       "\\item 26\n",
       "\\end{enumerate*}\n"
      ],
      "text/markdown": [
       "1. 29\n",
       "2. 6\n",
       "3. 26\n",
       "\n",
       "\n"
      ],
      "text/plain": [
       "[1] 29  6 26"
      ]
     },
     "metadata": {},
     "output_type": "display_data"
    },
    {
     "data": {
      "text/html": [
       "<style>\n",
       ".list-inline {list-style: none; margin:0; padding: 0}\n",
       ".list-inline>li {display: inline-block}\n",
       ".list-inline>li:not(:last-child)::after {content: \"\\00b7\"; padding: 0 .5ex}\n",
       "</style>\n",
       "<ol class=list-inline><li>29</li><li>6</li><li>26</li></ol>\n"
      ],
      "text/latex": [
       "\\begin{enumerate*}\n",
       "\\item 29\n",
       "\\item 6\n",
       "\\item 26\n",
       "\\end{enumerate*}\n"
      ],
      "text/markdown": [
       "1. 29\n",
       "2. 6\n",
       "3. 26\n",
       "\n",
       "\n"
      ],
      "text/plain": [
       "[1] 29  6 26"
      ]
     },
     "metadata": {},
     "output_type": "display_data"
    }
   ],
   "source": [
    "\n",
    "x_train_arr_bis%>%dim\n",
    "y_train_arr_bis %>% dim"
   ]
  },
  {
   "cell_type": "code",
   "execution_count": 22,
   "metadata": {
    "vscode": {
     "languageId": "r"
    }
   },
   "outputs": [
    {
     "name": "stderr",
     "output_type": "stream",
     "text": [
      "Loaded Tensorflow version 2.9.1\n",
      "\n"
     ]
    }
   ],
   "source": [
    "LSTM_model <- keras_model_sequential()\n",
    "\n",
    "LSTM_model%>% layer_lstm(\n",
    "    units=50,\n",
    "    batch_input_shape=c(1,6,26),#BATCH size , timestep ,features\n",
    "    return_sequences=T,\n",
    "    stateful=T\n",
    "\n",
    ")%>%\n",
    "layer_dropout(rate=0.5)%>%layer_lstm(\n",
    "    units =50,\n",
    "    return_sequences=T,stateful=T\n",
    ")%>% layer_dropout(rate=0.5)%>% time_distributed(keras::layer_dense(units=26))"
   ]
  },
  {
   "cell_type": "code",
   "execution_count": 23,
   "metadata": {
    "vscode": {
     "languageId": "r"
    }
   },
   "outputs": [
    {
     "name": "stdout",
     "output_type": "stream",
     "text": [
      "Model: \"sequential\"\n",
      "________________________________________________________________________________\n",
      " Layer (type)                       Output Shape                    Param #     \n",
      "================================================================================\n",
      " lstm_1 (LSTM)                      (1, 6, 50)                      15400       \n",
      " dropout_1 (Dropout)                (1, 6, 50)                      0           \n",
      " lstm (LSTM)                        (1, 6, 50)                      20200       \n",
      " dropout (Dropout)                  (1, 6, 50)                      0           \n",
      " time_distributed (TimeDistributed)  (1, 6, 26)                     1326        \n",
      "================================================================================\n",
      "Total params: 36,926\n",
      "Trainable params: 36,926\n",
      "Non-trainable params: 0\n",
      "________________________________________________________________________________\n"
     ]
    }
   ],
   "source": [
    "LSTM_model %>% compile(loss='mae',optimizer='adam',metrics='accuracy')\n",
    "summary(LSTM_model)"
   ]
  },
  {
   "cell_type": "code",
   "execution_count": 24,
   "metadata": {
    "vscode": {
     "languageId": "r"
    }
   },
   "outputs": [],
   "source": [
    "LSTM_model %>% keras::fit(\n",
    "    x=x_train_arr_bis,\n",
    "    y=y_train_arr_bis,\n",
    "    batch_size=1,\n",
    "    epochs=20,# Number of times to iterate over the training data\n",
    "    verbose=2,\n",
    "    shuffle=FALSE\n",
    ")"
   ]
  },
  {
   "cell_type": "code",
   "execution_count": 25,
   "metadata": {
    "vscode": {
     "languageId": "r"
    }
   },
   "outputs": [
    {
     "data": {
      "text/html": [
       "<table class=\"dataframe\">\n",
       "<caption>A data.frame: 6 × 26</caption>\n",
       "<thead>\n",
       "\t<tr><th></th><th scope=col>1</th><th scope=col>2</th><th scope=col>3</th><th scope=col>4</th><th scope=col>5</th><th scope=col>6</th><th scope=col>7</th><th scope=col>8</th><th scope=col>9</th><th scope=col>10</th><th scope=col>⋯</th><th scope=col>17</th><th scope=col>18</th><th scope=col>19</th><th scope=col>20</th><th scope=col>21</th><th scope=col>22</th><th scope=col>23</th><th scope=col>24</th><th scope=col>25</th><th scope=col>26</th></tr>\n",
       "\t<tr><th></th><th scope=col>&lt;dbl&gt;</th><th scope=col>&lt;dbl&gt;</th><th scope=col>&lt;dbl&gt;</th><th scope=col>&lt;dbl&gt;</th><th scope=col>&lt;dbl&gt;</th><th scope=col>&lt;dbl&gt;</th><th scope=col>&lt;dbl&gt;</th><th scope=col>&lt;dbl&gt;</th><th scope=col>&lt;dbl&gt;</th><th scope=col>&lt;dbl&gt;</th><th scope=col>⋯</th><th scope=col>&lt;dbl&gt;</th><th scope=col>&lt;dbl&gt;</th><th scope=col>&lt;dbl&gt;</th><th scope=col>&lt;dbl&gt;</th><th scope=col>&lt;dbl&gt;</th><th scope=col>&lt;dbl&gt;</th><th scope=col>&lt;dbl&gt;</th><th scope=col>&lt;dbl&gt;</th><th scope=col>&lt;dbl&gt;</th><th scope=col>&lt;dbl&gt;</th></tr>\n",
       "</thead>\n",
       "<tbody>\n",
       "\t<tr><th scope=row>35</th><td>-1.431074</td><td>-0.2819201</td><td>0.02739667</td><td>-0.2392895</td><td>-2.037024</td><td>-0.8231048</td><td>1.094363</td><td>1.049924</td><td>1.325868</td><td>-1.07950734</td><td>⋯</td><td> 0.09966473</td><td>-1.83878403</td><td>-2.319888</td><td>-0.8215552</td><td>-1.8710760</td><td>-0.9745028</td><td>-1.656126</td><td>-1.56195820</td><td>-1.770070</td><td>1.443310</td></tr>\n",
       "\t<tr><th scope=row>36</th><td>-1.472877</td><td>-0.2167363</td><td>0.02739667</td><td>-0.7566721</td><td>-1.767962</td><td>-0.8231048</td><td>1.094363</td><td>1.239955</td><td>1.403122</td><td>-0.93509164</td><td>⋯</td><td>-0.90843824</td><td> 0.15582916</td><td>-1.831491</td><td>-0.8215552</td><td>-1.5163697</td><td>-1.1985265</td><td>-1.701375</td><td>-0.23505196</td><td>-1.681677</td><td>1.847033</td></tr>\n",
       "\t<tr><th scope=row>37</th><td>-1.584354</td><td> 0.1743668</td><td>0.02739667</td><td>-0.7566721</td><td>-1.902493</td><td>-0.3841156</td><td>1.593692</td><td>1.810049</td><td>1.596256</td><td>-0.93509164</td><td>⋯</td><td>-0.81679252</td><td> 0.40515580</td><td>-1.343093</td><td>-0.8215552</td><td>-1.3390165</td><td>-1.4225501</td><td>-1.837123</td><td>-1.14493053</td><td>-2.167838</td><td>1.443310</td></tr>\n",
       "\t<tr><th scope=row>38</th><td>-1.667961</td><td>-0.6730231</td><td>0.02739667</td><td>-0.7566721</td><td>-1.835227</td><td> 0.4938629</td><td>1.760135</td><td>1.620018</td><td>1.634883</td><td>-1.07950734</td><td>⋯</td><td>-0.63350107</td><td> 1.40246240</td><td>-1.343093</td><td>-0.1223593</td><td>-0.9843101</td><td>-0.9745028</td><td>-1.882372</td><td> 0.52318017</td><td>-1.946856</td><td>1.645172</td></tr>\n",
       "\t<tr><th scope=row>39</th><td>-1.849109</td><td>-0.6730231</td><td>1.12326335</td><td>-0.4979808</td><td>-1.835227</td><td>-0.3841156</td><td>1.593692</td><td>1.429987</td><td>1.789390</td><td>-0.35742885</td><td>⋯</td><td> 0.23713331</td><td> 0.15582916</td><td>-1.343093</td><td>-0.4719573</td><td>-1.6937228</td><td>-1.1985265</td><td>-1.565627</td><td>-1.71360463</td><td>-2.189936</td><td>1.847033</td></tr>\n",
       "\t<tr><th scope=row>40</th><td>-1.904847</td><td>-0.8685747</td><td>2.21913003</td><td>-0.4979808</td><td>-1.498900</td><td>-0.3841156</td><td>1.510471</td><td>1.239955</td><td>1.789390</td><td> 0.07581824</td><td>⋯</td><td>-0.81679252</td><td>-0.09349749</td><td>-1.343093</td><td>-0.8215552</td><td>-1.1616633</td><td>-0.7504792</td><td>-1.746624</td><td>-0.08340554</td><td>-2.234133</td><td>2.654480</td></tr>\n",
       "</tbody>\n",
       "</table>\n"
      ],
      "text/latex": [
       "A data.frame: 6 × 26\n",
       "\\begin{tabular}{r|lllllllllllllllllllll}\n",
       "  & 1 & 2 & 3 & 4 & 5 & 6 & 7 & 8 & 9 & 10 & ⋯ & 17 & 18 & 19 & 20 & 21 & 22 & 23 & 24 & 25 & 26\\\\\n",
       "  & <dbl> & <dbl> & <dbl> & <dbl> & <dbl> & <dbl> & <dbl> & <dbl> & <dbl> & <dbl> & ⋯ & <dbl> & <dbl> & <dbl> & <dbl> & <dbl> & <dbl> & <dbl> & <dbl> & <dbl> & <dbl>\\\\\n",
       "\\hline\n",
       "\t35 & -1.431074 & -0.2819201 & 0.02739667 & -0.2392895 & -2.037024 & -0.8231048 & 1.094363 & 1.049924 & 1.325868 & -1.07950734 & ⋯ &  0.09966473 & -1.83878403 & -2.319888 & -0.8215552 & -1.8710760 & -0.9745028 & -1.656126 & -1.56195820 & -1.770070 & 1.443310\\\\\n",
       "\t36 & -1.472877 & -0.2167363 & 0.02739667 & -0.7566721 & -1.767962 & -0.8231048 & 1.094363 & 1.239955 & 1.403122 & -0.93509164 & ⋯ & -0.90843824 &  0.15582916 & -1.831491 & -0.8215552 & -1.5163697 & -1.1985265 & -1.701375 & -0.23505196 & -1.681677 & 1.847033\\\\\n",
       "\t37 & -1.584354 &  0.1743668 & 0.02739667 & -0.7566721 & -1.902493 & -0.3841156 & 1.593692 & 1.810049 & 1.596256 & -0.93509164 & ⋯ & -0.81679252 &  0.40515580 & -1.343093 & -0.8215552 & -1.3390165 & -1.4225501 & -1.837123 & -1.14493053 & -2.167838 & 1.443310\\\\\n",
       "\t38 & -1.667961 & -0.6730231 & 0.02739667 & -0.7566721 & -1.835227 &  0.4938629 & 1.760135 & 1.620018 & 1.634883 & -1.07950734 & ⋯ & -0.63350107 &  1.40246240 & -1.343093 & -0.1223593 & -0.9843101 & -0.9745028 & -1.882372 &  0.52318017 & -1.946856 & 1.645172\\\\\n",
       "\t39 & -1.849109 & -0.6730231 & 1.12326335 & -0.4979808 & -1.835227 & -0.3841156 & 1.593692 & 1.429987 & 1.789390 & -0.35742885 & ⋯ &  0.23713331 &  0.15582916 & -1.343093 & -0.4719573 & -1.6937228 & -1.1985265 & -1.565627 & -1.71360463 & -2.189936 & 1.847033\\\\\n",
       "\t40 & -1.904847 & -0.8685747 & 2.21913003 & -0.4979808 & -1.498900 & -0.3841156 & 1.510471 & 1.239955 & 1.789390 &  0.07581824 & ⋯ & -0.81679252 & -0.09349749 & -1.343093 & -0.8215552 & -1.1616633 & -0.7504792 & -1.746624 & -0.08340554 & -2.234133 & 2.654480\\\\\n",
       "\\end{tabular}\n"
      ],
      "text/markdown": [
       "\n",
       "A data.frame: 6 × 26\n",
       "\n",
       "| <!--/--> | 1 &lt;dbl&gt; | 2 &lt;dbl&gt; | 3 &lt;dbl&gt; | 4 &lt;dbl&gt; | 5 &lt;dbl&gt; | 6 &lt;dbl&gt; | 7 &lt;dbl&gt; | 8 &lt;dbl&gt; | 9 &lt;dbl&gt; | 10 &lt;dbl&gt; | ⋯ ⋯ | 17 &lt;dbl&gt; | 18 &lt;dbl&gt; | 19 &lt;dbl&gt; | 20 &lt;dbl&gt; | 21 &lt;dbl&gt; | 22 &lt;dbl&gt; | 23 &lt;dbl&gt; | 24 &lt;dbl&gt; | 25 &lt;dbl&gt; | 26 &lt;dbl&gt; |\n",
       "|---|---|---|---|---|---|---|---|---|---|---|---|---|---|---|---|---|---|---|---|---|---|\n",
       "| 35 | -1.431074 | -0.2819201 | 0.02739667 | -0.2392895 | -2.037024 | -0.8231048 | 1.094363 | 1.049924 | 1.325868 | -1.07950734 | ⋯ |  0.09966473 | -1.83878403 | -2.319888 | -0.8215552 | -1.8710760 | -0.9745028 | -1.656126 | -1.56195820 | -1.770070 | 1.443310 |\n",
       "| 36 | -1.472877 | -0.2167363 | 0.02739667 | -0.7566721 | -1.767962 | -0.8231048 | 1.094363 | 1.239955 | 1.403122 | -0.93509164 | ⋯ | -0.90843824 |  0.15582916 | -1.831491 | -0.8215552 | -1.5163697 | -1.1985265 | -1.701375 | -0.23505196 | -1.681677 | 1.847033 |\n",
       "| 37 | -1.584354 |  0.1743668 | 0.02739667 | -0.7566721 | -1.902493 | -0.3841156 | 1.593692 | 1.810049 | 1.596256 | -0.93509164 | ⋯ | -0.81679252 |  0.40515580 | -1.343093 | -0.8215552 | -1.3390165 | -1.4225501 | -1.837123 | -1.14493053 | -2.167838 | 1.443310 |\n",
       "| 38 | -1.667961 | -0.6730231 | 0.02739667 | -0.7566721 | -1.835227 |  0.4938629 | 1.760135 | 1.620018 | 1.634883 | -1.07950734 | ⋯ | -0.63350107 |  1.40246240 | -1.343093 | -0.1223593 | -0.9843101 | -0.9745028 | -1.882372 |  0.52318017 | -1.946856 | 1.645172 |\n",
       "| 39 | -1.849109 | -0.6730231 | 1.12326335 | -0.4979808 | -1.835227 | -0.3841156 | 1.593692 | 1.429987 | 1.789390 | -0.35742885 | ⋯ |  0.23713331 |  0.15582916 | -1.343093 | -0.4719573 | -1.6937228 | -1.1985265 | -1.565627 | -1.71360463 | -2.189936 | 1.847033 |\n",
       "| 40 | -1.904847 | -0.8685747 | 2.21913003 | -0.4979808 | -1.498900 | -0.3841156 | 1.510471 | 1.239955 | 1.789390 |  0.07581824 | ⋯ | -0.81679252 | -0.09349749 | -1.343093 | -0.8215552 | -1.1616633 | -0.7504792 | -1.746624 | -0.08340554 | -2.234133 | 2.654480 |\n",
       "\n"
      ],
      "text/plain": [
       "   1         2          3          4          5         6          7       \n",
       "35 -1.431074 -0.2819201 0.02739667 -0.2392895 -2.037024 -0.8231048 1.094363\n",
       "36 -1.472877 -0.2167363 0.02739667 -0.7566721 -1.767962 -0.8231048 1.094363\n",
       "37 -1.584354  0.1743668 0.02739667 -0.7566721 -1.902493 -0.3841156 1.593692\n",
       "38 -1.667961 -0.6730231 0.02739667 -0.7566721 -1.835227  0.4938629 1.760135\n",
       "39 -1.849109 -0.6730231 1.12326335 -0.4979808 -1.835227 -0.3841156 1.593692\n",
       "40 -1.904847 -0.8685747 2.21913003 -0.4979808 -1.498900 -0.3841156 1.510471\n",
       "   8        9        10          ⋯ 17          18          19        20        \n",
       "35 1.049924 1.325868 -1.07950734 ⋯  0.09966473 -1.83878403 -2.319888 -0.8215552\n",
       "36 1.239955 1.403122 -0.93509164 ⋯ -0.90843824  0.15582916 -1.831491 -0.8215552\n",
       "37 1.810049 1.596256 -0.93509164 ⋯ -0.81679252  0.40515580 -1.343093 -0.8215552\n",
       "38 1.620018 1.634883 -1.07950734 ⋯ -0.63350107  1.40246240 -1.343093 -0.1223593\n",
       "39 1.429987 1.789390 -0.35742885 ⋯  0.23713331  0.15582916 -1.343093 -0.4719573\n",
       "40 1.239955 1.789390  0.07581824 ⋯ -0.81679252 -0.09349749 -1.343093 -0.8215552\n",
       "   21         22         23        24          25        26      \n",
       "35 -1.8710760 -0.9745028 -1.656126 -1.56195820 -1.770070 1.443310\n",
       "36 -1.5163697 -1.1985265 -1.701375 -0.23505196 -1.681677 1.847033\n",
       "37 -1.3390165 -1.4225501 -1.837123 -1.14493053 -2.167838 1.443310\n",
       "38 -0.9843101 -0.9745028 -1.882372  0.52318017 -1.946856 1.645172\n",
       "39 -1.6937228 -1.1985265 -1.565627 -1.71360463 -2.189936 1.847033\n",
       "40 -1.1616633 -0.7504792 -1.746624 -0.08340554 -2.234133 2.654480"
      ]
     },
     "metadata": {},
     "output_type": "display_data"
    }
   ],
   "source": [
    "x_test <-df.train[(nrow(scaled_train)- prediction+1):nrow(scaled_train),]\n",
    "for(i in 1:ncol(x_test)){\n",
    "    x_test[,i] <-(x_test[,i] -scale_factor[[\"center\"]][i])/scale_factor[[\"sd\"]][i]\n",
    "}\n",
    "x_test_scaled <- x_test\n",
    "x_test_scaled"
   ]
  },
  {
   "cell_type": "code",
   "execution_count": 26,
   "metadata": {
    "vscode": {
     "languageId": "r"
    }
   },
   "outputs": [
    {
     "data": {
      "text/html": [
       "<style>\n",
       ".list-inline {list-style: none; margin:0; padding: 0}\n",
       ".list-inline>li {display: inline-block}\n",
       ".list-inline>li:not(:last-child)::after {content: \"\\00b7\"; padding: 0 .5ex}\n",
       "</style>\n",
       "<ol class=list-inline><li>6</li><li>26</li></ol>\n"
      ],
      "text/latex": [
       "\\begin{enumerate*}\n",
       "\\item 6\n",
       "\\item 26\n",
       "\\end{enumerate*}\n"
      ],
      "text/markdown": [
       "1. 6\n",
       "2. 26\n",
       "\n",
       "\n"
      ],
      "text/plain": [
       "[1]  6 26"
      ]
     },
     "metadata": {},
     "output_type": "display_data"
    }
   ],
   "source": [
    "\n",
    "x_test_array <- array(\n",
    "    data = as.numeric(unlist(x_test_scaled)),\n",
    "    dim=c(1,6,26)\n",
    ")"
   ]
  },
  {
   "cell_type": "code",
   "execution_count": 27,
   "metadata": {
    "vscode": {
     "languageId": "r"
    }
   },
   "outputs": [
    {
     "data": {
      "text/html": [
       "<style>\n",
       ".list-inline {list-style: none; margin:0; padding: 0}\n",
       ".list-inline>li {display: inline-block}\n",
       ".list-inline>li:not(:last-child)::after {content: \"\\00b7\"; padding: 0 .5ex}\n",
       "</style>\n",
       "<ol class=list-inline><li>1</li><li>6</li><li>26</li></ol>\n"
      ],
      "text/latex": [
       "\\begin{enumerate*}\n",
       "\\item 1\n",
       "\\item 6\n",
       "\\item 26\n",
       "\\end{enumerate*}\n"
      ],
      "text/markdown": [
       "1. 1\n",
       "2. 6\n",
       "3. 26\n",
       "\n",
       "\n"
      ],
      "text/plain": [
       "[1]  1  6 26"
      ]
     },
     "metadata": {},
     "output_type": "display_data"
    }
   ],
   "source": [
    "x_test_array %>%dim"
   ]
  },
  {
   "cell_type": "code",
   "execution_count": 28,
   "metadata": {
    "vscode": {
     "languageId": "r"
    }
   },
   "outputs": [
    {
     "data": {
      "text/html": [
       "<style>\n",
       ".list-inline {list-style: none; margin:0; padding: 0}\n",
       ".list-inline>li {display: inline-block}\n",
       ".list-inline>li:not(:last-child)::after {content: \"\\00b7\"; padding: 0 .5ex}\n",
       "</style>\n",
       "<ol class=list-inline><li>1</li><li>6</li><li>26</li></ol>\n"
      ],
      "text/latex": [
       "\\begin{enumerate*}\n",
       "\\item 1\n",
       "\\item 6\n",
       "\\item 26\n",
       "\\end{enumerate*}\n"
      ],
      "text/markdown": [
       "1. 1\n",
       "2. 6\n",
       "3. 26\n",
       "\n",
       "\n"
      ],
      "text/plain": [
       "[1]  1  6 26"
      ]
     },
     "metadata": {},
     "output_type": "display_data"
    }
   ],
   "source": [
    "LSTM_forecast <- LSTM_model %>% predict(x_test_array,batch_size=1)\n",
    "LSTM_forecast %>%dim"
   ]
  },
  {
   "cell_type": "code",
   "execution_count": 29,
   "metadata": {
    "vscode": {
     "languageId": "r"
    }
   },
   "outputs": [
    {
     "data": {
      "text/html": [
       "<style>\n",
       ".list-inline {list-style: none; margin:0; padding: 0}\n",
       ".list-inline>li {display: inline-block}\n",
       ".list-inline>li:not(:last-child)::after {content: \"\\00b7\"; padding: 0 .5ex}\n",
       "</style>\n",
       "<ol class=list-inline><li>-1.57926940917969</li><li>-1.57989895343781</li><li>-1.6111536026001</li><li>-1.60776960849762</li><li>-1.63959670066833</li><li>-1.63645732402802</li></ol>\n"
      ],
      "text/latex": [
       "\\begin{enumerate*}\n",
       "\\item -1.57926940917969\n",
       "\\item -1.57989895343781\n",
       "\\item -1.6111536026001\n",
       "\\item -1.60776960849762\n",
       "\\item -1.63959670066833\n",
       "\\item -1.63645732402802\n",
       "\\end{enumerate*}\n"
      ],
      "text/markdown": [
       "1. -1.57926940917969\n",
       "2. -1.57989895343781\n",
       "3. -1.6111536026001\n",
       "4. -1.60776960849762\n",
       "5. -1.63959670066833\n",
       "6. -1.63645732402802\n",
       "\n",
       "\n"
      ],
      "text/plain": [
       "[1] -1.579269 -1.579899 -1.611154 -1.607770 -1.639597 -1.636457"
      ]
     },
     "metadata": {},
     "output_type": "display_data"
    }
   ],
   "source": [
    "LSTM_forecast[,,1] "
   ]
  },
  {
   "cell_type": "code",
   "execution_count": 30,
   "metadata": {
    "vscode": {
     "languageId": "r"
    }
   },
   "outputs": [],
   "source": [
    "# Unscale prediction\n",
    "for (i in 1: dim(LSTM_forecast)[3]){\n",
    "    LSTM_forecast[,,i] <- LSTM_forecast[,,i] * scale_factor[[\"sd\"]][i] +scale_factor[[\"center\"]][i]\n",
    "}"
   ]
  },
  {
   "cell_type": "code",
   "execution_count": 31,
   "metadata": {
    "vscode": {
     "languageId": "r"
    }
   },
   "outputs": [
    {
     "data": {
      "text/html": [
       "<style>\n",
       ".list-inline {list-style: none; margin:0; padding: 0}\n",
       ".list-inline>li {display: inline-block}\n",
       ".list-inline>li:not(:last-child)::after {content: \"\\00b7\"; padding: 0 .5ex}\n",
       "</style>\n",
       "<ol class=list-inline><li>1086.36485761869</li><li>1086.31967882417</li><li>1084.07671122643</li><li>1084.3195611488</li><li>1082.03551258699</li><li>1082.26080771171</li></ol>\n"
      ],
      "text/latex": [
       "\\begin{enumerate*}\n",
       "\\item 1086.36485761869\n",
       "\\item 1086.31967882417\n",
       "\\item 1084.07671122643\n",
       "\\item 1084.3195611488\n",
       "\\item 1082.03551258699\n",
       "\\item 1082.26080771171\n",
       "\\end{enumerate*}\n"
      ],
      "text/markdown": [
       "1. 1086.36485761869\n",
       "2. 1086.31967882417\n",
       "3. 1084.07671122643\n",
       "4. 1084.3195611488\n",
       "5. 1082.03551258699\n",
       "6. 1082.26080771171\n",
       "\n",
       "\n"
      ],
      "text/plain": [
       "[1] 1086.365 1086.320 1084.077 1084.320 1082.036 1082.261"
      ]
     },
     "metadata": {},
     "output_type": "display_data"
    }
   ],
   "source": [
    "LSTM_forecast[,,1]"
   ]
  },
  {
   "cell_type": "code",
   "execution_count": 32,
   "metadata": {
    "vscode": {
     "languageId": "r"
    }
   },
   "outputs": [
    {
     "data": {
      "image/png": "[encoded data removed]",
      "text/plain": [
       "plot without title"
      ]
     },
     "metadata": {
      "image/png": {
       "height": 420,
       "width": 420
      }
     },
     "output_type": "display_data"
    }
   ],
   "source": [
    "index_secteur <- 8\n",
    "pred <-c(df.ts[1:(nrow(scaled_train)-prediction),index_secteur],LSTM_forecast[,,index_secteur])\n",
    "pred <-ts(pred, start=c(2010,1),frequency=4)\n",
    "obs <- df.ts[,index_secteur]\n",
    "\n",
    "plot.ts(\n",
    "    cbind(pred,obs),\n",
    "    plot.type=\"single\",\n",
    "    lty=c(1,2),\n",
    "    lwd=1,\n",
    "    xlab=\"t\",\n",
    "    ylab=paste(\"Nombre d'Etablissements en GE pour le secteur :\",lab.to.num$lab[index_secteur],sep=\"\"),\n",
    "    \n",
    "    col=c(\"blue\",\"red\")\n",
    ")\n",
    "legend(\"topleft\",\n",
    "\n",
    "    legend=c(\"Prédictions\",\"Observations\"),\n",
    "    col=c(\"blue\",\"red\"),\n",
    "    lty=c(1,2),\n",
    "    lwd=1\n",
    ")"
   ]
  },
  {
   "cell_type": "markdown",
   "metadata": {},
   "source": [
    "<hr>\n",
    "\n",
    "### Save results"
   ]
  },
  {
   "cell_type": "code",
   "execution_count": 52,
   "metadata": {
    "vscode": {
     "languageId": "r"
    }
   },
   "outputs": [],
   "source": [
    "#-------------------------------\n",
    "#Save all plots\n",
    "for( index_secteur in 1:ncol(scaled_train)){\n",
    "\n",
    "    png(file=paste(\"plots/LSTM_non_stable/\",index_secteur,\".png\",sep=\"\"))\n",
    "    pred <-c(df.ts[1:(nrow(scaled_train)-prediction),index_secteur],LSTM_forecast[,,index_secteur])\n",
    "    pred <-ts(pred, start=c(2010,1),frequency=4)\n",
    "    obs <- df.ts[,index_secteur]\n",
    "\n",
    "    plot.ts(\n",
    "        cbind(pred,obs),\n",
    "        plot.type=\"single\",\n",
    "        main=paste(\"Predictions LSTM non stable vs observations \\n secteur : \",lab.to.num$lab[index_secteur],sep=\"\"),\n",
    "        col=c(\"blue\",\"red\"),\n",
    "        lty=c(2,1),\n",
    "        lwd=1,\n",
    "        xlab=\"t\",\n",
    "        ylab=paste(\"Nombre d'Etablissements en GE pour le secteur :\",lab.to.num$lab[index_secteur],sep=\"\"),\n",
    "\n",
    "    )\n",
    "    legend(\"topleft\",\n",
    "        legend=c(\"Prédictions\",\"Observations\"),\n",
    "        col=c(\"blue\",\"red\"),\n",
    "        lty=c(2,1),\n",
    "        lwd=1\n",
    ")\n",
    "    dev.off()\n",
    "}"
   ]
  },
  {
   "cell_type": "code",
   "execution_count": 35,
   "metadata": {
    "vscode": {
     "languageId": "r"
    }
   },
   "outputs": [],
   "source": [
    "#----------------------\n",
    "#Save models\n",
    "save_model_tf(LSTM_model,\"models/LSTM_non_stable\")"
   ]
  },
  {
   "cell_type": "markdown",
   "metadata": {},
   "source": [
    "<hr>\n",
    "\n",
    "<div id=\"LSTMB\">\n",
    "\n",
    "## II.B LSTM model with stable TS"
   ]
  },
  {
   "cell_type": "code",
   "execution_count": 64,
   "metadata": {
    "vscode": {
     "languageId": "r"
    }
   },
   "outputs": [],
   "source": [
    "df.diff <-diff(df.ts)\n",
    "df.train <-df.diff%>%as.data.frame\n",
    "scaled_train <- scale(df.train)\n",
    "scale_factor <-list(\"center\"=attr(scaled_train,\"scaled:center\"),\"sd\"=attr(scaled_train,\"scaled:scale\"))\n",
    "prediction <- 6\n",
    "lag <- prediction"
   ]
  },
  {
   "cell_type": "code",
   "execution_count": 68,
   "metadata": {
    "vscode": {
     "languageId": "r"
    }
   },
   "outputs": [
    {
     "data": {
      "text/html": [
       "<style>\n",
       ".list-inline {list-style: none; margin:0; padding: 0}\n",
       ".list-inline>li {display: inline-block}\n",
       ".list-inline>li:not(:last-child)::after {content: \"\\00b7\"; padding: 0 .5ex}\n",
       "</style>\n",
       "<ol class=list-inline><li>28</li><li>156</li><li>1</li></ol>\n"
      ],
      "text/latex": [
       "\\begin{enumerate*}\n",
       "\\item 28\n",
       "\\item 156\n",
       "\\item 1\n",
       "\\end{enumerate*}\n"
      ],
      "text/markdown": [
       "1. 28\n",
       "2. 156\n",
       "3. 1\n",
       "\n",
       "\n"
      ],
      "text/plain": [
       "[1]  28 156   1"
      ]
     },
     "metadata": {},
     "output_type": "display_data"
    }
   ],
   "source": [
    "x_train_data <-t(sapply(\n",
    "    1:(dim(scaled_train)[1]-lag-prediction +1),\n",
    "    function(x){scaled_train[x:(x+lag-1),1]}\n",
    "))\n",
    "\n",
    "for(i in 2:ncol(scaled_train)){\n",
    "    new <-t(sapply(\n",
    "        1:(dim(scaled_train)[1]-lag-prediction +1),\n",
    "        function(x){scaled_train[x:(x+lag-1),i]}\n",
    "    ))\n",
    "    x_train_data <-cbind(x_train_data,new)\n",
    "    \n",
    "}\n",
    "\n",
    "x_train_arr <- array(\n",
    "    data=as.numeric(unlist(x_train_data)),\n",
    "    dim=c(\n",
    "        nrow(x_train_data),\n",
    "        ncol(x_train_data),\n",
    "        1\n",
    "        )\n",
    "\n",
    ")\n",
    "x_train_arr %>%dim"
   ]
  },
  {
   "cell_type": "code",
   "execution_count": 69,
   "metadata": {
    "vscode": {
     "languageId": "r"
    }
   },
   "outputs": [
    {
     "data": {
      "text/html": [
       "<style>\n",
       ".list-inline {list-style: none; margin:0; padding: 0}\n",
       ".list-inline>li {display: inline-block}\n",
       ".list-inline>li:not(:last-child)::after {content: \"\\00b7\"; padding: 0 .5ex}\n",
       "</style>\n",
       "<ol class=list-inline><li>28</li><li>6</li><li>1</li></ol>\n"
      ],
      "text/latex": [
       "\\begin{enumerate*}\n",
       "\\item 28\n",
       "\\item 6\n",
       "\\item 1\n",
       "\\end{enumerate*}\n"
      ],
      "text/markdown": [
       "1. 28\n",
       "2. 6\n",
       "3. 1\n",
       "\n",
       "\n"
      ],
      "text/plain": [
       "[1] 28  6  1"
      ]
     },
     "metadata": {},
     "output_type": "display_data"
    }
   ],
   "source": [
    "y_train_data <-  t(sapply(\n",
    "    (1+lag):(dim(scaled_train)[1]-prediction +1),\n",
    "    function(x){scaled_train[x:(x+prediction-1),1]}\n",
    "))\n",
    "y_train_arr <-array(\n",
    "    data=as.numeric(unlist(y_train_data)),\n",
    "    dim=c(\n",
    "        nrow(y_train_data),\n",
    "        prediction,\n",
    "        1\n",
    "    )\n",
    ")\n",
    "y_train_arr%>%dim"
   ]
  },
  {
   "cell_type": "code",
   "execution_count": 70,
   "metadata": {
    "vscode": {
     "languageId": "r"
    }
   },
   "outputs": [],
   "source": [
    "x_test <-df.train[(nrow(scaled_train)- prediction+1):nrow(scaled_train),]\n",
    "for(i in 1:ncol(x_test)){\n",
    "    x_test[,i] <-(x_test[,i] -scale_factor[[\"center\"]][i])/scale_factor[[\"sd\"]][i]\n",
    "}\n",
    "x_test_scaled <- x_test[,1]"
   ]
  },
  {
   "cell_type": "code",
   "execution_count": 71,
   "metadata": {
    "vscode": {
     "languageId": "r"
    }
   },
   "outputs": [
    {
     "data": {
      "text/html": [
       "<table class=\"dataframe\">\n",
       "<caption>A data.frame: 6 × 26</caption>\n",
       "<thead>\n",
       "\t<tr><th></th><th scope=col>1</th><th scope=col>2</th><th scope=col>3</th><th scope=col>4</th><th scope=col>5</th><th scope=col>6</th><th scope=col>7</th><th scope=col>8</th><th scope=col>9</th><th scope=col>10</th><th scope=col>⋯</th><th scope=col>17</th><th scope=col>18</th><th scope=col>19</th><th scope=col>20</th><th scope=col>21</th><th scope=col>22</th><th scope=col>23</th><th scope=col>24</th><th scope=col>25</th><th scope=col>26</th></tr>\n",
       "\t<tr><th></th><th scope=col>&lt;dbl&gt;</th><th scope=col>&lt;dbl&gt;</th><th scope=col>&lt;dbl&gt;</th><th scope=col>&lt;dbl&gt;</th><th scope=col>&lt;dbl&gt;</th><th scope=col>&lt;dbl&gt;</th><th scope=col>&lt;dbl&gt;</th><th scope=col>&lt;dbl&gt;</th><th scope=col>&lt;dbl&gt;</th><th scope=col>&lt;dbl&gt;</th><th scope=col>⋯</th><th scope=col>&lt;dbl&gt;</th><th scope=col>&lt;dbl&gt;</th><th scope=col>&lt;dbl&gt;</th><th scope=col>&lt;dbl&gt;</th><th scope=col>&lt;dbl&gt;</th><th scope=col>&lt;dbl&gt;</th><th scope=col>&lt;dbl&gt;</th><th scope=col>&lt;dbl&gt;</th><th scope=col>&lt;dbl&gt;</th><th scope=col>&lt;dbl&gt;</th></tr>\n",
       "</thead>\n",
       "<tbody>\n",
       "\t<tr><th scope=row>34</th><td>-0.339129297</td><td> 0.27574168</td><td>-0.07250747</td><td> 0.6807629</td><td>-1.3878366</td><td>-0.67485091</td><td>-0.5016331</td><td> 1.5151134</td><td> 1.33269168</td><td>-0.5840227</td><td>⋯</td><td> 1.0589631</td><td>-0.9439893</td><td>-0.61245961</td><td>-0.5145595</td><td>-1.2109560</td><td> 0.8919034</td><td> 0.46265195</td><td>-1.297037</td><td>-1.12764156</td><td> 1.2446400</td></tr>\n",
       "\t<tr><th scope=row>35</th><td> 0.116941137</td><td> 0.05627381</td><td>-0.07250747</td><td>-0.9447322</td><td> 0.5760831</td><td>-0.04820364</td><td>-0.2630515</td><td> 0.3564973</td><td>-0.07203739</td><td> 0.5548215</td><td>⋯</td><td>-0.9181435</td><td> 1.8521309</td><td> 0.75245037</td><td> 0.0588068</td><td> 0.6674019</td><td>-0.3653580</td><td> 0.08674724</td><td> 1.068196</td><td> 0.38785591</td><td> 0.7442177</td></tr>\n",
       "\t<tr><th scope=row>36</th><td>-0.090363606</td><td> 0.60494348</td><td>-0.07250747</td><td> 0.1389312</td><td>-0.1309280</td><td> 0.57844364</td><td> 1.1684382</td><td> 1.5151134</td><td> 0.77080005</td><td> 0.1752068</td><td>⋯</td><td> 0.1363133</td><td> 0.2210608</td><td> 0.75245037</td><td> 0.0588068</td><td> 0.3990651</td><td>-0.3653580</td><td>-0.28915747</td><td>-0.792454</td><td>-1.09904726</td><td>-1.2574713</td></tr>\n",
       "\t<tr><th scope=row>37</th><td>-0.007441709</td><td>-1.48000125</td><td>-0.07250747</td><td> 0.1389312</td><td> 0.2225776</td><td> 1.20509091</td><td> 0.2141117</td><td>-0.8021188</td><td>-0.35298320</td><td>-0.2044079</td><td>⋯</td><td> 0.2241847</td><td> 0.9200908</td><td> 0.06999538</td><td> 1.2055394</td><td> 0.6674019</td><td> 0.8919034</td><td> 0.08674724</td><td> 1.352024</td><td> 0.73098741</td><td> 0.2437955</td></tr>\n",
       "\t<tr><th scope=row>38</th><td>-0.297668349</td><td>-0.05346012</td><td> 1.81268664</td><td> 0.6807629</td><td> 0.1047424</td><td>-1.30149818</td><td>-0.7402147</td><td>-0.8021188</td><td> 0.48985424</td><td> 2.0732805</td><td>⋯</td><td> 0.8832203</td><td>-1.1769993</td><td> 0.06999538</td><td>-0.5145595</td><td>-0.9426192</td><td>-0.3653580</td><td> 1.59036606</td><td>-1.896229</td><td>-0.46997285</td><td> 0.2437955</td></tr>\n",
       "\t<tr><th scope=row>39</th><td> 0.075480188</td><td>-0.38266192</td><td> 1.81268664</td><td> 0.1389312</td><td> 0.6939183</td><td>-0.04820364</td><td>-0.5016331</td><td>-0.8021188</td><td>-0.63392901</td><td> 1.3140510</td><td>⋯</td><td>-0.9620792</td><td>-0.2449593</td><td> 0.06999538</td><td>-0.5145595</td><td> 0.9357388</td><td> 0.8919034</td><td>-0.47710982</td><td> 1.320487</td><td> 0.04472441</td><td> 1.7450622</td></tr>\n",
       "</tbody>\n",
       "</table>\n"
      ],
      "text/latex": [
       "A data.frame: 6 × 26\n",
       "\\begin{tabular}{r|lllllllllllllllllllll}\n",
       "  & 1 & 2 & 3 & 4 & 5 & 6 & 7 & 8 & 9 & 10 & ⋯ & 17 & 18 & 19 & 20 & 21 & 22 & 23 & 24 & 25 & 26\\\\\n",
       "  & <dbl> & <dbl> & <dbl> & <dbl> & <dbl> & <dbl> & <dbl> & <dbl> & <dbl> & <dbl> & ⋯ & <dbl> & <dbl> & <dbl> & <dbl> & <dbl> & <dbl> & <dbl> & <dbl> & <dbl> & <dbl>\\\\\n",
       "\\hline\n",
       "\t34 & -0.339129297 &  0.27574168 & -0.07250747 &  0.6807629 & -1.3878366 & -0.67485091 & -0.5016331 &  1.5151134 &  1.33269168 & -0.5840227 & ⋯ &  1.0589631 & -0.9439893 & -0.61245961 & -0.5145595 & -1.2109560 &  0.8919034 &  0.46265195 & -1.297037 & -1.12764156 &  1.2446400\\\\\n",
       "\t35 &  0.116941137 &  0.05627381 & -0.07250747 & -0.9447322 &  0.5760831 & -0.04820364 & -0.2630515 &  0.3564973 & -0.07203739 &  0.5548215 & ⋯ & -0.9181435 &  1.8521309 &  0.75245037 &  0.0588068 &  0.6674019 & -0.3653580 &  0.08674724 &  1.068196 &  0.38785591 &  0.7442177\\\\\n",
       "\t36 & -0.090363606 &  0.60494348 & -0.07250747 &  0.1389312 & -0.1309280 &  0.57844364 &  1.1684382 &  1.5151134 &  0.77080005 &  0.1752068 & ⋯ &  0.1363133 &  0.2210608 &  0.75245037 &  0.0588068 &  0.3990651 & -0.3653580 & -0.28915747 & -0.792454 & -1.09904726 & -1.2574713\\\\\n",
       "\t37 & -0.007441709 & -1.48000125 & -0.07250747 &  0.1389312 &  0.2225776 &  1.20509091 &  0.2141117 & -0.8021188 & -0.35298320 & -0.2044079 & ⋯ &  0.2241847 &  0.9200908 &  0.06999538 &  1.2055394 &  0.6674019 &  0.8919034 &  0.08674724 &  1.352024 &  0.73098741 &  0.2437955\\\\\n",
       "\t38 & -0.297668349 & -0.05346012 &  1.81268664 &  0.6807629 &  0.1047424 & -1.30149818 & -0.7402147 & -0.8021188 &  0.48985424 &  2.0732805 & ⋯ &  0.8832203 & -1.1769993 &  0.06999538 & -0.5145595 & -0.9426192 & -0.3653580 &  1.59036606 & -1.896229 & -0.46997285 &  0.2437955\\\\\n",
       "\t39 &  0.075480188 & -0.38266192 &  1.81268664 &  0.1389312 &  0.6939183 & -0.04820364 & -0.5016331 & -0.8021188 & -0.63392901 &  1.3140510 & ⋯ & -0.9620792 & -0.2449593 &  0.06999538 & -0.5145595 &  0.9357388 &  0.8919034 & -0.47710982 &  1.320487 &  0.04472441 &  1.7450622\\\\\n",
       "\\end{tabular}\n"
      ],
      "text/markdown": [
       "\n",
       "A data.frame: 6 × 26\n",
       "\n",
       "| <!--/--> | 1 &lt;dbl&gt; | 2 &lt;dbl&gt; | 3 &lt;dbl&gt; | 4 &lt;dbl&gt; | 5 &lt;dbl&gt; | 6 &lt;dbl&gt; | 7 &lt;dbl&gt; | 8 &lt;dbl&gt; | 9 &lt;dbl&gt; | 10 &lt;dbl&gt; | ⋯ ⋯ | 17 &lt;dbl&gt; | 18 &lt;dbl&gt; | 19 &lt;dbl&gt; | 20 &lt;dbl&gt; | 21 &lt;dbl&gt; | 22 &lt;dbl&gt; | 23 &lt;dbl&gt; | 24 &lt;dbl&gt; | 25 &lt;dbl&gt; | 26 &lt;dbl&gt; |\n",
       "|---|---|---|---|---|---|---|---|---|---|---|---|---|---|---|---|---|---|---|---|---|---|\n",
       "| 34 | -0.339129297 |  0.27574168 | -0.07250747 |  0.6807629 | -1.3878366 | -0.67485091 | -0.5016331 |  1.5151134 |  1.33269168 | -0.5840227 | ⋯ |  1.0589631 | -0.9439893 | -0.61245961 | -0.5145595 | -1.2109560 |  0.8919034 |  0.46265195 | -1.297037 | -1.12764156 |  1.2446400 |\n",
       "| 35 |  0.116941137 |  0.05627381 | -0.07250747 | -0.9447322 |  0.5760831 | -0.04820364 | -0.2630515 |  0.3564973 | -0.07203739 |  0.5548215 | ⋯ | -0.9181435 |  1.8521309 |  0.75245037 |  0.0588068 |  0.6674019 | -0.3653580 |  0.08674724 |  1.068196 |  0.38785591 |  0.7442177 |\n",
       "| 36 | -0.090363606 |  0.60494348 | -0.07250747 |  0.1389312 | -0.1309280 |  0.57844364 |  1.1684382 |  1.5151134 |  0.77080005 |  0.1752068 | ⋯ |  0.1363133 |  0.2210608 |  0.75245037 |  0.0588068 |  0.3990651 | -0.3653580 | -0.28915747 | -0.792454 | -1.09904726 | -1.2574713 |\n",
       "| 37 | -0.007441709 | -1.48000125 | -0.07250747 |  0.1389312 |  0.2225776 |  1.20509091 |  0.2141117 | -0.8021188 | -0.35298320 | -0.2044079 | ⋯ |  0.2241847 |  0.9200908 |  0.06999538 |  1.2055394 |  0.6674019 |  0.8919034 |  0.08674724 |  1.352024 |  0.73098741 |  0.2437955 |\n",
       "| 38 | -0.297668349 | -0.05346012 |  1.81268664 |  0.6807629 |  0.1047424 | -1.30149818 | -0.7402147 | -0.8021188 |  0.48985424 |  2.0732805 | ⋯ |  0.8832203 | -1.1769993 |  0.06999538 | -0.5145595 | -0.9426192 | -0.3653580 |  1.59036606 | -1.896229 | -0.46997285 |  0.2437955 |\n",
       "| 39 |  0.075480188 | -0.38266192 |  1.81268664 |  0.1389312 |  0.6939183 | -0.04820364 | -0.5016331 | -0.8021188 | -0.63392901 |  1.3140510 | ⋯ | -0.9620792 | -0.2449593 |  0.06999538 | -0.5145595 |  0.9357388 |  0.8919034 | -0.47710982 |  1.320487 |  0.04472441 |  1.7450622 |\n",
       "\n"
      ],
      "text/plain": [
       "   1            2           3           4          5          6          \n",
       "34 -0.339129297  0.27574168 -0.07250747  0.6807629 -1.3878366 -0.67485091\n",
       "35  0.116941137  0.05627381 -0.07250747 -0.9447322  0.5760831 -0.04820364\n",
       "36 -0.090363606  0.60494348 -0.07250747  0.1389312 -0.1309280  0.57844364\n",
       "37 -0.007441709 -1.48000125 -0.07250747  0.1389312  0.2225776  1.20509091\n",
       "38 -0.297668349 -0.05346012  1.81268664  0.6807629  0.1047424 -1.30149818\n",
       "39  0.075480188 -0.38266192  1.81268664  0.1389312  0.6939183 -0.04820364\n",
       "   7          8          9           10         ⋯ 17         18        \n",
       "34 -0.5016331  1.5151134  1.33269168 -0.5840227 ⋯  1.0589631 -0.9439893\n",
       "35 -0.2630515  0.3564973 -0.07203739  0.5548215 ⋯ -0.9181435  1.8521309\n",
       "36  1.1684382  1.5151134  0.77080005  0.1752068 ⋯  0.1363133  0.2210608\n",
       "37  0.2141117 -0.8021188 -0.35298320 -0.2044079 ⋯  0.2241847  0.9200908\n",
       "38 -0.7402147 -0.8021188  0.48985424  2.0732805 ⋯  0.8832203 -1.1769993\n",
       "39 -0.5016331 -0.8021188 -0.63392901  1.3140510 ⋯ -0.9620792 -0.2449593\n",
       "   19          20         21         22         23          24       \n",
       "34 -0.61245961 -0.5145595 -1.2109560  0.8919034  0.46265195 -1.297037\n",
       "35  0.75245037  0.0588068  0.6674019 -0.3653580  0.08674724  1.068196\n",
       "36  0.75245037  0.0588068  0.3990651 -0.3653580 -0.28915747 -0.792454\n",
       "37  0.06999538  1.2055394  0.6674019  0.8919034  0.08674724  1.352024\n",
       "38  0.06999538 -0.5145595 -0.9426192 -0.3653580  1.59036606 -1.896229\n",
       "39  0.06999538 -0.5145595  0.9357388  0.8919034 -0.47710982  1.320487\n",
       "   25          26        \n",
       "34 -1.12764156  1.2446400\n",
       "35  0.38785591  0.7442177\n",
       "36 -1.09904726 -1.2574713\n",
       "37  0.73098741  0.2437955\n",
       "38 -0.46997285  0.2437955\n",
       "39  0.04472441  1.7450622"
      ]
     },
     "metadata": {},
     "output_type": "display_data"
    }
   ],
   "source": [
    "x_test"
   ]
  },
  {
   "cell_type": "code",
   "execution_count": null,
   "metadata": {
    "vscode": {
     "languageId": "r"
    }
   },
   "outputs": [],
   "source": [
    "x_pred_arr <- array(\n",
    "    data=x_test,\n",
    "    dim=c(1,lag,1)\n",
    ")"
   ]
  },
  {
   "cell_type": "code",
   "execution_count": 72,
   "metadata": {
    "vscode": {
     "languageId": "r"
    }
   },
   "outputs": [
    {
     "data": {
      "text/html": [
       "<style>\n",
       ".list-inline {list-style: none; margin:0; padding: 0}\n",
       ".list-inline>li {display: inline-block}\n",
       ".list-inline>li:not(:last-child)::after {content: \"\\00b7\"; padding: 0 .5ex}\n",
       "</style>\n",
       "<ol class=list-inline><li>28</li><li>156</li><li>1</li></ol>\n"
      ],
      "text/latex": [
       "\\begin{enumerate*}\n",
       "\\item 28\n",
       "\\item 156\n",
       "\\item 1\n",
       "\\end{enumerate*}\n"
      ],
      "text/markdown": [
       "1. 28\n",
       "2. 156\n",
       "3. 1\n",
       "\n",
       "\n"
      ],
      "text/plain": [
       "[1]  28 156   1"
      ]
     },
     "metadata": {},
     "output_type": "display_data"
    },
    {
     "data": {
      "text/html": [
       "<style>\n",
       ".list-inline {list-style: none; margin:0; padding: 0}\n",
       ".list-inline>li {display: inline-block}\n",
       ".list-inline>li:not(:last-child)::after {content: \"\\00b7\"; padding: 0 .5ex}\n",
       "</style>\n",
       "<ol class=list-inline><li>28</li><li>6</li><li>1</li></ol>\n"
      ],
      "text/latex": [
       "\\begin{enumerate*}\n",
       "\\item 28\n",
       "\\item 6\n",
       "\\item 1\n",
       "\\end{enumerate*}\n"
      ],
      "text/markdown": [
       "1. 28\n",
       "2. 6\n",
       "3. 1\n",
       "\n",
       "\n"
      ],
      "text/plain": [
       "[1] 28  6  1"
      ]
     },
     "metadata": {},
     "output_type": "display_data"
    }
   ],
   "source": [
    "x_train_arr %>%dim\n",
    "y_train_arr %>%dim"
   ]
  },
  {
   "cell_type": "code",
   "execution_count": 77,
   "metadata": {
    "vscode": {
     "languageId": "r"
    }
   },
   "outputs": [],
   "source": [
    "x_bis <-sapply(\n",
    "        1:ncol(scaled_train),\n",
    "        function(x){scaled_train[1:(28-1+1),x]}\n",
    ")\n",
    "\n",
    "x_bis_first_array <-array(\n",
    "    data=unlist(x_bis),\n",
    "    dim=c(nrow(x_bis),1,ncol(x_bis))\n",
    ")\n",
    "tot_array <-array(NA, dim=c(\n",
    "    nrow(x_bis),\n",
    "    6,\n",
    "    ncol(x_bis)\n",
    "))\n",
    "tot_array[,1,] <- x_bis_first_array\n",
    "\n",
    "\n",
    "for (i in 2:6){\n",
    "    new <-sapply(\n",
    "        1:ncol(scaled_train),\n",
    "        function(x){scaled_train[i:(i+28-1),x]}\n",
    "    )\n",
    "    new <- array(\n",
    "        data=unlist(new),\n",
    "        dim=c(nrow(x_bis),1,ncol(x_bis))\n",
    "    )\n",
    "    tot_array[,i,] <- new\n",
    "}\n",
    "x_train_arr_bis <- tot_array"
   ]
  },
  {
   "cell_type": "code",
   "execution_count": 79,
   "metadata": {
    "vscode": {
     "languageId": "r"
    }
   },
   "outputs": [],
   "source": [
    "\n",
    "y_train_data_bis <-  t(sapply(\n",
    "    (1+lag):(dim(scaled_train)[1]-prediction +1),\n",
    "    function(x){scaled_train[x:(x+prediction-1),1]}\n",
    "))\n",
    "\n",
    "tot_array <-array(NA, dim=c(\n",
    "    nrow(y_train_data_bis),\n",
    "    6,\n",
    "    ncol(scaled_train)\n",
    "))\n",
    "\n",
    "tot_array[,,1] <- y_train_data_bis\n",
    "\n",
    "for (i in 2:ncol(scaled_train)){\n",
    "    new <-  t(sapply(\n",
    "        (1+lag):(dim(scaled_train)[1]-prediction +1),\n",
    "        function(x){scaled_train[x:(x+prediction-1),i]}\n",
    "    ))\n",
    "\n",
    "    new_array <- array(\n",
    "        data=as.numeric(unlist(new)),\n",
    "        dim=c(nrow(new),\n",
    "        ncol(new),\n",
    "        1)\n",
    "    )\n",
    "    tot_array[,,i] <- new_array\n",
    "\n",
    "}\n",
    "\n",
    "y_train_arr_bis <- tot_array"
   ]
  },
  {
   "cell_type": "code",
   "execution_count": 80,
   "metadata": {
    "vscode": {
     "languageId": "r"
    }
   },
   "outputs": [
    {
     "data": {
      "text/html": [
       "<style>\n",
       ".list-inline {list-style: none; margin:0; padding: 0}\n",
       ".list-inline>li {display: inline-block}\n",
       ".list-inline>li:not(:last-child)::after {content: \"\\00b7\"; padding: 0 .5ex}\n",
       "</style>\n",
       "<ol class=list-inline><li>28</li><li>6</li><li>26</li></ol>\n"
      ],
      "text/latex": [
       "\\begin{enumerate*}\n",
       "\\item 28\n",
       "\\item 6\n",
       "\\item 26\n",
       "\\end{enumerate*}\n"
      ],
      "text/markdown": [
       "1. 28\n",
       "2. 6\n",
       "3. 26\n",
       "\n",
       "\n"
      ],
      "text/plain": [
       "[1] 28  6 26"
      ]
     },
     "metadata": {},
     "output_type": "display_data"
    },
    {
     "data": {
      "text/html": [
       "<style>\n",
       ".list-inline {list-style: none; margin:0; padding: 0}\n",
       ".list-inline>li {display: inline-block}\n",
       ".list-inline>li:not(:last-child)::after {content: \"\\00b7\"; padding: 0 .5ex}\n",
       "</style>\n",
       "<ol class=list-inline><li>28</li><li>6</li><li>26</li></ol>\n"
      ],
      "text/latex": [
       "\\begin{enumerate*}\n",
       "\\item 28\n",
       "\\item 6\n",
       "\\item 26\n",
       "\\end{enumerate*}\n"
      ],
      "text/markdown": [
       "1. 28\n",
       "2. 6\n",
       "3. 26\n",
       "\n",
       "\n"
      ],
      "text/plain": [
       "[1] 28  6 26"
      ]
     },
     "metadata": {},
     "output_type": "display_data"
    }
   ],
   "source": [
    "x_train_arr_bis%>%dim\n",
    "y_train_arr_bis %>% dim"
   ]
  },
  {
   "cell_type": "code",
   "execution_count": 81,
   "metadata": {
    "vscode": {
     "languageId": "r"
    }
   },
   "outputs": [],
   "source": [
    "LSTM_model <- keras_model_sequential()\n",
    "\n",
    "LSTM_model%>% layer_lstm(\n",
    "    units=50,\n",
    "    batch_input_shape=c(1,6,26),#BATCH size , timestep ,features\n",
    "    return_sequences=T,\n",
    "    stateful=T\n",
    "\n",
    ")%>%\n",
    "layer_dropout(rate=0.5)%>%layer_lstm(\n",
    "    units =50,\n",
    "    return_sequences=T,stateful=T\n",
    ")%>% layer_dropout(rate=0.5)%>% time_distributed(keras::layer_dense(units=26))"
   ]
  },
  {
   "cell_type": "code",
   "execution_count": 82,
   "metadata": {
    "vscode": {
     "languageId": "r"
    }
   },
   "outputs": [
    {
     "name": "stdout",
     "output_type": "stream",
     "text": [
      "Model: \"sequential_1\"\n",
      "________________________________________________________________________________\n",
      " Layer (type)                       Output Shape                    Param #     \n",
      "================================================================================\n",
      " lstm_3 (LSTM)                      (1, 6, 50)                      15400       \n",
      " dropout_3 (Dropout)                (1, 6, 50)                      0           \n",
      " lstm_2 (LSTM)                      (1, 6, 50)                      20200       \n",
      " dropout_2 (Dropout)                (1, 6, 50)                      0           \n",
      " time_distributed_1 (TimeDistribute  (1, 6, 26)                     1326        \n",
      " d)                                                                             \n",
      "================================================================================\n",
      "Total params: 36,926\n",
      "Trainable params: 36,926\n",
      "Non-trainable params: 0\n",
      "________________________________________________________________________________\n"
     ]
    }
   ],
   "source": [
    "LSTM_model %>% compile(loss='mae',optimizer='adam',metrics='accuracy')\n",
    "summary(LSTM_model)"
   ]
  },
  {
   "cell_type": "code",
   "execution_count": 83,
   "metadata": {
    "vscode": {
     "languageId": "r"
    }
   },
   "outputs": [],
   "source": [
    "LSTM_model %>% keras::fit(\n",
    "    x=x_train_arr_bis,\n",
    "    y=y_train_arr_bis,\n",
    "    batch_size=1,\n",
    "    epochs=20,# Number of times to iterate over the training data\n",
    "    verbose=2,\n",
    "    shuffle=FALSE\n",
    ")"
   ]
  },
  {
   "cell_type": "code",
   "execution_count": 84,
   "metadata": {
    "vscode": {
     "languageId": "r"
    }
   },
   "outputs": [
    {
     "data": {
      "text/html": [
       "<table class=\"dataframe\">\n",
       "<caption>A data.frame: 6 × 26</caption>\n",
       "<thead>\n",
       "\t<tr><th></th><th scope=col>1</th><th scope=col>2</th><th scope=col>3</th><th scope=col>4</th><th scope=col>5</th><th scope=col>6</th><th scope=col>7</th><th scope=col>8</th><th scope=col>9</th><th scope=col>10</th><th scope=col>⋯</th><th scope=col>17</th><th scope=col>18</th><th scope=col>19</th><th scope=col>20</th><th scope=col>21</th><th scope=col>22</th><th scope=col>23</th><th scope=col>24</th><th scope=col>25</th><th scope=col>26</th></tr>\n",
       "\t<tr><th></th><th scope=col>&lt;dbl&gt;</th><th scope=col>&lt;dbl&gt;</th><th scope=col>&lt;dbl&gt;</th><th scope=col>&lt;dbl&gt;</th><th scope=col>&lt;dbl&gt;</th><th scope=col>&lt;dbl&gt;</th><th scope=col>&lt;dbl&gt;</th><th scope=col>&lt;dbl&gt;</th><th scope=col>&lt;dbl&gt;</th><th scope=col>&lt;dbl&gt;</th><th scope=col>⋯</th><th scope=col>&lt;dbl&gt;</th><th scope=col>&lt;dbl&gt;</th><th scope=col>&lt;dbl&gt;</th><th scope=col>&lt;dbl&gt;</th><th scope=col>&lt;dbl&gt;</th><th scope=col>&lt;dbl&gt;</th><th scope=col>&lt;dbl&gt;</th><th scope=col>&lt;dbl&gt;</th><th scope=col>&lt;dbl&gt;</th><th scope=col>&lt;dbl&gt;</th></tr>\n",
       "</thead>\n",
       "<tbody>\n",
       "\t<tr><th scope=row>34</th><td>-0.339129297</td><td> 0.27574168</td><td>-0.07250747</td><td> 0.6807629</td><td>-1.3878366</td><td>-0.67485091</td><td>-0.5016331</td><td> 1.5151134</td><td> 1.33269168</td><td>-0.5840227</td><td>⋯</td><td> 1.0589631</td><td>-0.9439893</td><td>-0.61245961</td><td>-0.5145595</td><td>-1.2109560</td><td> 0.8919034</td><td> 0.46265195</td><td>-1.297037</td><td>-1.12764156</td><td> 1.2446400</td></tr>\n",
       "\t<tr><th scope=row>35</th><td> 0.116941137</td><td> 0.05627381</td><td>-0.07250747</td><td>-0.9447322</td><td> 0.5760831</td><td>-0.04820364</td><td>-0.2630515</td><td> 0.3564973</td><td>-0.07203739</td><td> 0.5548215</td><td>⋯</td><td>-0.9181435</td><td> 1.8521309</td><td> 0.75245037</td><td> 0.0588068</td><td> 0.6674019</td><td>-0.3653580</td><td> 0.08674724</td><td> 1.068196</td><td> 0.38785591</td><td> 0.7442177</td></tr>\n",
       "\t<tr><th scope=row>36</th><td>-0.090363606</td><td> 0.60494348</td><td>-0.07250747</td><td> 0.1389312</td><td>-0.1309280</td><td> 0.57844364</td><td> 1.1684382</td><td> 1.5151134</td><td> 0.77080005</td><td> 0.1752068</td><td>⋯</td><td> 0.1363133</td><td> 0.2210608</td><td> 0.75245037</td><td> 0.0588068</td><td> 0.3990651</td><td>-0.3653580</td><td>-0.28915747</td><td>-0.792454</td><td>-1.09904726</td><td>-1.2574713</td></tr>\n",
       "\t<tr><th scope=row>37</th><td>-0.007441709</td><td>-1.48000125</td><td>-0.07250747</td><td> 0.1389312</td><td> 0.2225776</td><td> 1.20509091</td><td> 0.2141117</td><td>-0.8021188</td><td>-0.35298320</td><td>-0.2044079</td><td>⋯</td><td> 0.2241847</td><td> 0.9200908</td><td> 0.06999538</td><td> 1.2055394</td><td> 0.6674019</td><td> 0.8919034</td><td> 0.08674724</td><td> 1.352024</td><td> 0.73098741</td><td> 0.2437955</td></tr>\n",
       "\t<tr><th scope=row>38</th><td>-0.297668349</td><td>-0.05346012</td><td> 1.81268664</td><td> 0.6807629</td><td> 0.1047424</td><td>-1.30149818</td><td>-0.7402147</td><td>-0.8021188</td><td> 0.48985424</td><td> 2.0732805</td><td>⋯</td><td> 0.8832203</td><td>-1.1769993</td><td> 0.06999538</td><td>-0.5145595</td><td>-0.9426192</td><td>-0.3653580</td><td> 1.59036606</td><td>-1.896229</td><td>-0.46997285</td><td> 0.2437955</td></tr>\n",
       "\t<tr><th scope=row>39</th><td> 0.075480188</td><td>-0.38266192</td><td> 1.81268664</td><td> 0.1389312</td><td> 0.6939183</td><td>-0.04820364</td><td>-0.5016331</td><td>-0.8021188</td><td>-0.63392901</td><td> 1.3140510</td><td>⋯</td><td>-0.9620792</td><td>-0.2449593</td><td> 0.06999538</td><td>-0.5145595</td><td> 0.9357388</td><td> 0.8919034</td><td>-0.47710982</td><td> 1.320487</td><td> 0.04472441</td><td> 1.7450622</td></tr>\n",
       "</tbody>\n",
       "</table>\n"
      ],
      "text/latex": [
       "A data.frame: 6 × 26\n",
       "\\begin{tabular}{r|lllllllllllllllllllll}\n",
       "  & 1 & 2 & 3 & 4 & 5 & 6 & 7 & 8 & 9 & 10 & ⋯ & 17 & 18 & 19 & 20 & 21 & 22 & 23 & 24 & 25 & 26\\\\\n",
       "  & <dbl> & <dbl> & <dbl> & <dbl> & <dbl> & <dbl> & <dbl> & <dbl> & <dbl> & <dbl> & ⋯ & <dbl> & <dbl> & <dbl> & <dbl> & <dbl> & <dbl> & <dbl> & <dbl> & <dbl> & <dbl>\\\\\n",
       "\\hline\n",
       "\t34 & -0.339129297 &  0.27574168 & -0.07250747 &  0.6807629 & -1.3878366 & -0.67485091 & -0.5016331 &  1.5151134 &  1.33269168 & -0.5840227 & ⋯ &  1.0589631 & -0.9439893 & -0.61245961 & -0.5145595 & -1.2109560 &  0.8919034 &  0.46265195 & -1.297037 & -1.12764156 &  1.2446400\\\\\n",
       "\t35 &  0.116941137 &  0.05627381 & -0.07250747 & -0.9447322 &  0.5760831 & -0.04820364 & -0.2630515 &  0.3564973 & -0.07203739 &  0.5548215 & ⋯ & -0.9181435 &  1.8521309 &  0.75245037 &  0.0588068 &  0.6674019 & -0.3653580 &  0.08674724 &  1.068196 &  0.38785591 &  0.7442177\\\\\n",
       "\t36 & -0.090363606 &  0.60494348 & -0.07250747 &  0.1389312 & -0.1309280 &  0.57844364 &  1.1684382 &  1.5151134 &  0.77080005 &  0.1752068 & ⋯ &  0.1363133 &  0.2210608 &  0.75245037 &  0.0588068 &  0.3990651 & -0.3653580 & -0.28915747 & -0.792454 & -1.09904726 & -1.2574713\\\\\n",
       "\t37 & -0.007441709 & -1.48000125 & -0.07250747 &  0.1389312 &  0.2225776 &  1.20509091 &  0.2141117 & -0.8021188 & -0.35298320 & -0.2044079 & ⋯ &  0.2241847 &  0.9200908 &  0.06999538 &  1.2055394 &  0.6674019 &  0.8919034 &  0.08674724 &  1.352024 &  0.73098741 &  0.2437955\\\\\n",
       "\t38 & -0.297668349 & -0.05346012 &  1.81268664 &  0.6807629 &  0.1047424 & -1.30149818 & -0.7402147 & -0.8021188 &  0.48985424 &  2.0732805 & ⋯ &  0.8832203 & -1.1769993 &  0.06999538 & -0.5145595 & -0.9426192 & -0.3653580 &  1.59036606 & -1.896229 & -0.46997285 &  0.2437955\\\\\n",
       "\t39 &  0.075480188 & -0.38266192 &  1.81268664 &  0.1389312 &  0.6939183 & -0.04820364 & -0.5016331 & -0.8021188 & -0.63392901 &  1.3140510 & ⋯ & -0.9620792 & -0.2449593 &  0.06999538 & -0.5145595 &  0.9357388 &  0.8919034 & -0.47710982 &  1.320487 &  0.04472441 &  1.7450622\\\\\n",
       "\\end{tabular}\n"
      ],
      "text/markdown": [
       "\n",
       "A data.frame: 6 × 26\n",
       "\n",
       "| <!--/--> | 1 &lt;dbl&gt; | 2 &lt;dbl&gt; | 3 &lt;dbl&gt; | 4 &lt;dbl&gt; | 5 &lt;dbl&gt; | 6 &lt;dbl&gt; | 7 &lt;dbl&gt; | 8 &lt;dbl&gt; | 9 &lt;dbl&gt; | 10 &lt;dbl&gt; | ⋯ ⋯ | 17 &lt;dbl&gt; | 18 &lt;dbl&gt; | 19 &lt;dbl&gt; | 20 &lt;dbl&gt; | 21 &lt;dbl&gt; | 22 &lt;dbl&gt; | 23 &lt;dbl&gt; | 24 &lt;dbl&gt; | 25 &lt;dbl&gt; | 26 &lt;dbl&gt; |\n",
       "|---|---|---|---|---|---|---|---|---|---|---|---|---|---|---|---|---|---|---|---|---|---|\n",
       "| 34 | -0.339129297 |  0.27574168 | -0.07250747 |  0.6807629 | -1.3878366 | -0.67485091 | -0.5016331 |  1.5151134 |  1.33269168 | -0.5840227 | ⋯ |  1.0589631 | -0.9439893 | -0.61245961 | -0.5145595 | -1.2109560 |  0.8919034 |  0.46265195 | -1.297037 | -1.12764156 |  1.2446400 |\n",
       "| 35 |  0.116941137 |  0.05627381 | -0.07250747 | -0.9447322 |  0.5760831 | -0.04820364 | -0.2630515 |  0.3564973 | -0.07203739 |  0.5548215 | ⋯ | -0.9181435 |  1.8521309 |  0.75245037 |  0.0588068 |  0.6674019 | -0.3653580 |  0.08674724 |  1.068196 |  0.38785591 |  0.7442177 |\n",
       "| 36 | -0.090363606 |  0.60494348 | -0.07250747 |  0.1389312 | -0.1309280 |  0.57844364 |  1.1684382 |  1.5151134 |  0.77080005 |  0.1752068 | ⋯ |  0.1363133 |  0.2210608 |  0.75245037 |  0.0588068 |  0.3990651 | -0.3653580 | -0.28915747 | -0.792454 | -1.09904726 | -1.2574713 |\n",
       "| 37 | -0.007441709 | -1.48000125 | -0.07250747 |  0.1389312 |  0.2225776 |  1.20509091 |  0.2141117 | -0.8021188 | -0.35298320 | -0.2044079 | ⋯ |  0.2241847 |  0.9200908 |  0.06999538 |  1.2055394 |  0.6674019 |  0.8919034 |  0.08674724 |  1.352024 |  0.73098741 |  0.2437955 |\n",
       "| 38 | -0.297668349 | -0.05346012 |  1.81268664 |  0.6807629 |  0.1047424 | -1.30149818 | -0.7402147 | -0.8021188 |  0.48985424 |  2.0732805 | ⋯ |  0.8832203 | -1.1769993 |  0.06999538 | -0.5145595 | -0.9426192 | -0.3653580 |  1.59036606 | -1.896229 | -0.46997285 |  0.2437955 |\n",
       "| 39 |  0.075480188 | -0.38266192 |  1.81268664 |  0.1389312 |  0.6939183 | -0.04820364 | -0.5016331 | -0.8021188 | -0.63392901 |  1.3140510 | ⋯ | -0.9620792 | -0.2449593 |  0.06999538 | -0.5145595 |  0.9357388 |  0.8919034 | -0.47710982 |  1.320487 |  0.04472441 |  1.7450622 |\n",
       "\n"
      ],
      "text/plain": [
       "   1            2           3           4          5          6          \n",
       "34 -0.339129297  0.27574168 -0.07250747  0.6807629 -1.3878366 -0.67485091\n",
       "35  0.116941137  0.05627381 -0.07250747 -0.9447322  0.5760831 -0.04820364\n",
       "36 -0.090363606  0.60494348 -0.07250747  0.1389312 -0.1309280  0.57844364\n",
       "37 -0.007441709 -1.48000125 -0.07250747  0.1389312  0.2225776  1.20509091\n",
       "38 -0.297668349 -0.05346012  1.81268664  0.6807629  0.1047424 -1.30149818\n",
       "39  0.075480188 -0.38266192  1.81268664  0.1389312  0.6939183 -0.04820364\n",
       "   7          8          9           10         ⋯ 17         18        \n",
       "34 -0.5016331  1.5151134  1.33269168 -0.5840227 ⋯  1.0589631 -0.9439893\n",
       "35 -0.2630515  0.3564973 -0.07203739  0.5548215 ⋯ -0.9181435  1.8521309\n",
       "36  1.1684382  1.5151134  0.77080005  0.1752068 ⋯  0.1363133  0.2210608\n",
       "37  0.2141117 -0.8021188 -0.35298320 -0.2044079 ⋯  0.2241847  0.9200908\n",
       "38 -0.7402147 -0.8021188  0.48985424  2.0732805 ⋯  0.8832203 -1.1769993\n",
       "39 -0.5016331 -0.8021188 -0.63392901  1.3140510 ⋯ -0.9620792 -0.2449593\n",
       "   19          20         21         22         23          24       \n",
       "34 -0.61245961 -0.5145595 -1.2109560  0.8919034  0.46265195 -1.297037\n",
       "35  0.75245037  0.0588068  0.6674019 -0.3653580  0.08674724  1.068196\n",
       "36  0.75245037  0.0588068  0.3990651 -0.3653580 -0.28915747 -0.792454\n",
       "37  0.06999538  1.2055394  0.6674019  0.8919034  0.08674724  1.352024\n",
       "38  0.06999538 -0.5145595 -0.9426192 -0.3653580  1.59036606 -1.896229\n",
       "39  0.06999538 -0.5145595  0.9357388  0.8919034 -0.47710982  1.320487\n",
       "   25          26        \n",
       "34 -1.12764156  1.2446400\n",
       "35  0.38785591  0.7442177\n",
       "36 -1.09904726 -1.2574713\n",
       "37  0.73098741  0.2437955\n",
       "38 -0.46997285  0.2437955\n",
       "39  0.04472441  1.7450622"
      ]
     },
     "metadata": {},
     "output_type": "display_data"
    }
   ],
   "source": [
    "x_test <-df.train[(nrow(scaled_train)- prediction+1):nrow(scaled_train),]\n",
    "for(i in 1:ncol(x_test)){\n",
    "    x_test[,i] <-(x_test[,i] -scale_factor[[\"center\"]][i])/scale_factor[[\"sd\"]][i]\n",
    "}\n",
    "x_test_scaled <- x_test\n",
    "x_test_scaled"
   ]
  },
  {
   "cell_type": "code",
   "execution_count": 85,
   "metadata": {
    "vscode": {
     "languageId": "r"
    }
   },
   "outputs": [],
   "source": [
    "x_test_array <- array(\n",
    "    data = as.numeric(unlist(x_test_scaled)),\n",
    "    dim=c(1,6,26)\n",
    ")"
   ]
  },
  {
   "cell_type": "code",
   "execution_count": 86,
   "metadata": {
    "vscode": {
     "languageId": "r"
    }
   },
   "outputs": [
    {
     "data": {
      "text/html": [
       "<style>\n",
       ".list-inline {list-style: none; margin:0; padding: 0}\n",
       ".list-inline>li {display: inline-block}\n",
       ".list-inline>li:not(:last-child)::after {content: \"\\00b7\"; padding: 0 .5ex}\n",
       "</style>\n",
       "<ol class=list-inline><li>1</li><li>6</li><li>26</li></ol>\n"
      ],
      "text/latex": [
       "\\begin{enumerate*}\n",
       "\\item 1\n",
       "\\item 6\n",
       "\\item 26\n",
       "\\end{enumerate*}\n"
      ],
      "text/markdown": [
       "1. 1\n",
       "2. 6\n",
       "3. 26\n",
       "\n",
       "\n"
      ],
      "text/plain": [
       "[1]  1  6 26"
      ]
     },
     "metadata": {},
     "output_type": "display_data"
    }
   ],
   "source": [
    "x_test_array %>%dim"
   ]
  },
  {
   "cell_type": "code",
   "execution_count": 87,
   "metadata": {
    "vscode": {
     "languageId": "r"
    }
   },
   "outputs": [
    {
     "data": {
      "text/html": [
       "<style>\n",
       ".list-inline {list-style: none; margin:0; padding: 0}\n",
       ".list-inline>li {display: inline-block}\n",
       ".list-inline>li:not(:last-child)::after {content: \"\\00b7\"; padding: 0 .5ex}\n",
       "</style>\n",
       "<ol class=list-inline><li>1</li><li>6</li><li>26</li></ol>\n"
      ],
      "text/latex": [
       "\\begin{enumerate*}\n",
       "\\item 1\n",
       "\\item 6\n",
       "\\item 26\n",
       "\\end{enumerate*}\n"
      ],
      "text/markdown": [
       "1. 1\n",
       "2. 6\n",
       "3. 26\n",
       "\n",
       "\n"
      ],
      "text/plain": [
       "[1]  1  6 26"
      ]
     },
     "metadata": {},
     "output_type": "display_data"
    }
   ],
   "source": [
    "LSTM_forecast <- LSTM_model %>% predict(x_test_array,batch_size=1)\n",
    "LSTM_forecast %>%dim"
   ]
  },
  {
   "cell_type": "code",
   "execution_count": 88,
   "metadata": {
    "vscode": {
     "languageId": "r"
    }
   },
   "outputs": [
    {
     "data": {
      "text/html": [
       "<style>\n",
       ".list-inline {list-style: none; margin:0; padding: 0}\n",
       ".list-inline>li {display: inline-block}\n",
       ".list-inline>li:not(:last-child)::after {content: \"\\00b7\"; padding: 0 .5ex}\n",
       "</style>\n",
       "<ol class=list-inline><li>-0.180641487240791</li><li>-0.0926466137170792</li><li>-0.114964738488197</li><li>-0.0986670628190041</li><li>-0.0951000079512596</li><li>-0.0344280600547791</li></ol>\n"
      ],
      "text/latex": [
       "\\begin{enumerate*}\n",
       "\\item -0.180641487240791\n",
       "\\item -0.0926466137170792\n",
       "\\item -0.114964738488197\n",
       "\\item -0.0986670628190041\n",
       "\\item -0.0951000079512596\n",
       "\\item -0.0344280600547791\n",
       "\\end{enumerate*}\n"
      ],
      "text/markdown": [
       "1. -0.180641487240791\n",
       "2. -0.0926466137170792\n",
       "3. -0.114964738488197\n",
       "4. -0.0986670628190041\n",
       "5. -0.0951000079512596\n",
       "6. -0.0344280600547791\n",
       "\n",
       "\n"
      ],
      "text/plain": [
       "[1] -0.18064149 -0.09264661 -0.11496474 -0.09866706 -0.09510001 -0.03442806"
      ]
     },
     "metadata": {},
     "output_type": "display_data"
    }
   ],
   "source": [
    "LSTM_forecast[,,1] "
   ]
  },
  {
   "cell_type": "code",
   "execution_count": 89,
   "metadata": {
    "vscode": {
     "languageId": "r"
    }
   },
   "outputs": [],
   "source": [
    "#----------------------------------\n",
    "# Remembering we did 2 operations before inputing datat in our model : \n",
    "# 1.Differenciation\n",
    "# 2. Scaling\n",
    "\n",
    "#-------------\n",
    "# 1.unscale Predictions\n",
    "for (i in 1: dim(LSTM_forecast)[3]){\n",
    "    LSTM_forecast[,,i] <- LSTM_forecast[,,i] * scale_factor[[\"sd\"]][i] +scale_factor[[\"center\"]][i]\n",
    "}\n"
   ]
  },
  {
   "cell_type": "code",
   "execution_count": 90,
   "metadata": {
    "vscode": {
     "languageId": "r"
    }
   },
   "outputs": [
    {
     "data": {
      "text/html": [
       "<style>\n",
       ".list-inline {list-style: none; margin:0; padding: 0}\n",
       ".list-inline>li {display: inline-block}\n",
       ".list-inline>li:not(:last-child)::after {content: \"\\00b7\"; padding: 0 .5ex}\n",
       "</style>\n",
       "<ol class=list-inline><li>-10.1774195812813</li><li>-8.05506405141685</li><li>-8.59335672265323</li><li>-8.20027175423029</li><li>-8.11423766700762</li><li>-6.65088600833352</li></ol>\n"
      ],
      "text/latex": [
       "\\begin{enumerate*}\n",
       "\\item -10.1774195812813\n",
       "\\item -8.05506405141685\n",
       "\\item -8.59335672265323\n",
       "\\item -8.20027175423029\n",
       "\\item -8.11423766700762\n",
       "\\item -6.65088600833352\n",
       "\\end{enumerate*}\n"
      ],
      "text/markdown": [
       "1. -10.1774195812813\n",
       "2. -8.05506405141685\n",
       "3. -8.59335672265323\n",
       "4. -8.20027175423029\n",
       "5. -8.11423766700762\n",
       "6. -6.65088600833352\n",
       "\n",
       "\n"
      ],
      "text/plain": [
       "[1] -10.177420  -8.055064  -8.593357  -8.200272  -8.114238  -6.650886"
      ]
     },
     "metadata": {},
     "output_type": "display_data"
    }
   ],
   "source": [
    "LSTM_forecast[,,1] # There are still differenciate"
   ]
  },
  {
   "cell_type": "code",
   "execution_count": 95,
   "metadata": {
    "vscode": {
     "languageId": "r"
    }
   },
   "outputs": [
    {
     "data": {
      "text/html": [
       "<table class=\"dataframe\">\n",
       "<caption>A Time Series: 39 × 26</caption>\n",
       "<thead>\n",
       "\t<tr><th></th><th scope=col>1</th><th scope=col>2</th><th scope=col>3</th><th scope=col>4</th><th scope=col>5</th><th scope=col>6</th><th scope=col>7</th><th scope=col>8</th><th scope=col>9</th><th scope=col>10</th><th scope=col>11</th><th scope=col>12</th><th scope=col>13</th><th scope=col>14</th><th scope=col>15</th><th scope=col>16</th><th scope=col>17</th><th scope=col>18</th><th scope=col>19</th><th scope=col>20</th><th scope=col>21</th><th scope=col>22</th><th scope=col>23</th><th scope=col>24</th><th scope=col>25</th><th scope=col>26</th></tr>\n",
       "</thead>\n",
       "<tbody>\n",
       "\t<tr><th scope=row>2010 Q2</th><td>  -6</td><td> -1</td><td> 2</td><td> 0</td><td>  9</td><td>-2</td><td> 1</td><td> 1</td><td>-1</td><td>-3</td><td> 16</td><td> 14</td><td>  4</td><td>-3</td><td> -4</td><td> 0</td><td>  2</td><td> 3</td><td> 1</td><td>-2</td><td> 1</td><td> 2</td><td>  3</td><td> 41</td><td> 67</td><td> 1</td></tr>\n",
       "\t<tr><th scope=row>2010 Q3</th><td>  -5</td><td>  2</td><td> 0</td><td> 0</td><td>-45</td><td> 0</td><td>12</td><td> 2</td><td> 5</td><td> 2</td><td> 11</td><td>-63</td><td> 15</td><td> 0</td><td> 17</td><td> 0</td><td> 36</td><td>-3</td><td> 0</td><td> 2</td><td>-7</td><td> 2</td><td>  5</td><td>-23</td><td>-35</td><td> 4</td></tr>\n",
       "\t<tr><th scope=row>2010 Q4</th><td>  -1</td><td> -9</td><td> 0</td><td> 0</td><td> 38</td><td> 2</td><td>-9</td><td>-1</td><td> 3</td><td> 1</td><td>-27</td><td> 77</td><td>-16</td><td> 0</td><td> -4</td><td> 0</td><td>-47</td><td> 3</td><td> 0</td><td> 0</td><td>-6</td><td> 0</td><td> -1</td><td> 27</td><td> 14</td><td>-3</td></tr>\n",
       "\t<tr><th scope=row>2011 Q1</th><td>  -2</td><td> 46</td><td>-1</td><td>-1</td><td>-17</td><td> 5</td><td>11</td><td>-1</td><td>-3</td><td>-8</td><td>  2</td><td>-21</td><td> -3</td><td> 1</td><td> -8</td><td> 0</td><td>  2</td><td>-1</td><td> 1</td><td>-3</td><td>-1</td><td> 0</td><td> -4</td><td>-21</td><td>-77</td><td>-2</td></tr>\n",
       "\t<tr><th scope=row>2011 Q2</th><td>  -2</td><td>  1</td><td> 0</td><td>-2</td><td> 11</td><td>-1</td><td> 1</td><td> 1</td><td> 6</td><td>-4</td><td>  2</td><td>-28</td><td> -1</td><td>-2</td><td> -4</td><td> 0</td><td>  1</td><td>-1</td><td>-3</td><td> 0</td><td> 6</td><td>-2</td><td>  5</td><td> 33</td><td> 51</td><td>-2</td></tr>\n",
       "\t<tr><th scope=row>2011 Q3</th><td>  -5</td><td> -2</td><td> 1</td><td> 4</td><td>-57</td><td> 0</td><td>-1</td><td>-2</td><td> 2</td><td>-1</td><td> 29</td><td>-88</td><td> 13</td><td>-2</td><td> -3</td><td> 0</td><td> 35</td><td>-4</td><td> 1</td><td> 3</td><td>-2</td><td> 0</td><td>  4</td><td>-37</td><td>-13</td><td> 3</td></tr>\n",
       "\t<tr><th scope=row>2011 Q4</th><td>  -2</td><td>  0</td><td>-2</td><td>-7</td><td> 40</td><td>-2</td><td> 0</td><td> 1</td><td> 3</td><td>-4</td><td>-21</td><td> 93</td><td>-17</td><td> 2</td><td> -5</td><td> 0</td><td>-44</td><td> 6</td><td>-2</td><td> 0</td><td> 0</td><td> 4</td><td>-10</td><td> 10</td><td>  0</td><td> 2</td></tr>\n",
       "\t<tr><th scope=row>2012 Q1</th><td>  -8</td><td>  2</td><td>-2</td><td>-3</td><td>  7</td><td> 0</td><td> 2</td><td> 1</td><td>-3</td><td>-7</td><td>  9</td><td>  6</td><td> -3</td><td> 1</td><td> -3</td><td>-7</td><td> -4</td><td>-4</td><td>-1</td><td> 0</td><td>-3</td><td> 2</td><td> -5</td><td>-13</td><td>  3</td><td> 1</td></tr>\n",
       "\t<tr><th scope=row>2012 Q2</th><td>  -2</td><td> -1</td><td> 0</td><td> 0</td><td>  4</td><td> 1</td><td> 2</td><td> 1</td><td> 9</td><td> 2</td><td>  6</td><td>  9</td><td>  1</td><td>-1</td><td> -1</td><td> 0</td><td>  0</td><td> 0</td><td> 2</td><td> 0</td><td> 0</td><td>-3</td><td> -1</td><td> 41</td><td> 52</td><td> 0</td></tr>\n",
       "\t<tr><th scope=row>2012 Q3</th><td>  -1</td><td>  1</td><td> 0</td><td> 1</td><td>-36</td><td> 1</td><td>-1</td><td> 1</td><td> 1</td><td> 0</td><td> 38</td><td>-53</td><td> 13</td><td>-1</td><td> -9</td><td> 0</td><td> 30</td><td>-5</td><td>-1</td><td> 3</td><td>-2</td><td>-5</td><td>  3</td><td>-36</td><td>-25</td><td> 0</td></tr>\n",
       "\t<tr><th scope=row>2012 Q4</th><td>   0</td><td> -4</td><td>-1</td><td>-1</td><td> 38</td><td> 1</td><td> 0</td><td> 0</td><td>-1</td><td>-1</td><td>-29</td><td> 59</td><td>-18</td><td> 0</td><td>-24</td><td> 0</td><td>-36</td><td> 6</td><td> 3</td><td>-1</td><td> 3</td><td>-1</td><td> -4</td><td> 17</td><td> 22</td><td>-1</td></tr>\n",
       "\t<tr><th scope=row>2013 Q1</th><td>  -9</td><td> 19</td><td>-1</td><td>-2</td><td>  7</td><td> 1</td><td>-1</td><td> 3</td><td> 5</td><td> 3</td><td>-14</td><td>-13</td><td> -9</td><td> 1</td><td> -1</td><td> 1</td><td> -7</td><td> 1</td><td>-1</td><td>-2</td><td>-3</td><td> 3</td><td>-10</td><td> -3</td><td>-41</td><td> 0</td></tr>\n",
       "\t<tr><th scope=row>2013 Q2</th><td>  -3</td><td>  9</td><td> 0</td><td> 0</td><td>  6</td><td> 1</td><td> 2</td><td> 0</td><td> 4</td><td>-2</td><td>-19</td><td> -1</td><td>  2</td><td>-2</td><td>  4</td><td> 0</td><td>  3</td><td> 8</td><td>-1</td><td> 1</td><td> 2</td><td> 1</td><td>  3</td><td> 31</td><td> 48</td><td> 1</td></tr>\n",
       "\t<tr><th scope=row>2013 Q3</th><td>  -4</td><td> -6</td><td> 2</td><td> 0</td><td>-39</td><td>-1</td><td>-1</td><td>-2</td><td> 3</td><td>-1</td><td> 31</td><td>-47</td><td> 13</td><td>-3</td><td>  0</td><td> 0</td><td> 32</td><td> 1</td><td> 0</td><td> 2</td><td>-2</td><td>-2</td><td>  9</td><td>-11</td><td>-26</td><td> 2</td></tr>\n",
       "\t<tr><th scope=row>2013 Q4</th><td>  -7</td><td>  0</td><td> 0</td><td> 2</td><td> 49</td><td>-1</td><td> 4</td><td> 1</td><td> 5</td><td> 1</td><td>-22</td><td> 88</td><td>-15</td><td> 3</td><td>  0</td><td> 0</td><td>-40</td><td>-8</td><td> 0</td><td>-1</td><td> 1</td><td>-3</td><td> -1</td><td> 10</td><td> 33</td><td> 0</td></tr>\n",
       "\t<tr><th scope=row>2014 Q1</th><td>  -9</td><td>-11</td><td> 1</td><td> 0</td><td>  4</td><td> 0</td><td>-5</td><td> 1</td><td> 4</td><td> 3</td><td> -5</td><td> -7</td><td> -2</td><td>-1</td><td> -2</td><td> 0</td><td>  1</td><td> 1</td><td>-2</td><td> 0</td><td> 1</td><td> 0</td><td> -6</td><td>-17</td><td>-38</td><td>-2</td></tr>\n",
       "\t<tr><th scope=row>2014 Q2</th><td>   0</td><td> -5</td><td> 0</td><td>-1</td><td>  4</td><td> 0</td><td> 1</td><td> 3</td><td>-2</td><td> 1</td><td>  3</td><td>  7</td><td>  2</td><td>-1</td><td>-66</td><td> 0</td><td>  2</td><td>-2</td><td> 2</td><td> 0</td><td>-4</td><td> 0</td><td> -3</td><td> 38</td><td> 39</td><td> 3</td></tr>\n",
       "\t<tr><th scope=row>2014 Q3</th><td>  -3</td><td>  4</td><td> 0</td><td> 3</td><td>-45</td><td> 1</td><td> 8</td><td>-4</td><td> 5</td><td> 2</td><td> 19</td><td>-42</td><td> 14</td><td> 0</td><td>-60</td><td> 0</td><td> 25</td><td> 0</td><td> 0</td><td>-2</td><td>-4</td><td> 4</td><td>  4</td><td>-19</td><td> -4</td><td>-1</td></tr>\n",
       "\t<tr><th scope=row>2014 Q4</th><td>  97</td><td>  2</td><td> 1</td><td> 1</td><td> 24</td><td> 1</td><td> 0</td><td> 3</td><td>-4</td><td>-4</td><td>-15</td><td> 75</td><td>-15</td><td>-2</td><td> -4</td><td> 0</td><td>-32</td><td> 3</td><td> 2</td><td> 1</td><td> 7</td><td>-3</td><td>  4</td><td>  5</td><td> 11</td><td> 0</td></tr>\n",
       "\t<tr><th scope=row>2015 Q1</th><td>-110</td><td> -5</td><td>-2</td><td>-4</td><td>  0</td><td> 0</td><td>-2</td><td> 2</td><td> 3</td><td>-1</td><td> -8</td><td> -3</td><td> -5</td><td> 3</td><td>  2</td><td> 0</td><td> -3</td><td> 5</td><td> 1</td><td>-1</td><td> 4</td><td> 1</td><td> -7</td><td> -5</td><td>-40</td><td> 0</td></tr>\n",
       "\t<tr><th scope=row>2015 Q2</th><td> -11</td><td> -2</td><td> 0</td><td> 0</td><td>-11</td><td> 0</td><td>-1</td><td> 0</td><td> 3</td><td> 1</td><td> -6</td><td>  4</td><td>  4</td><td>-1</td><td> -1</td><td> 0</td><td>  1</td><td>-6</td><td>-1</td><td>-1</td><td> 0</td><td> 1</td><td> -1</td><td> 35</td><td> 12</td><td> 0</td></tr>\n",
       "\t<tr><th scope=row>2015 Q3</th><td>   2</td><td> -1</td><td>-1</td><td> 1</td><td>-17</td><td>-1</td><td> 0</td><td> 1</td><td> 7</td><td> 1</td><td> 27</td><td>-48</td><td> 12</td><td> 0</td><td> -9</td><td> 0</td><td> 28</td><td>-8</td><td>-3</td><td> 2</td><td> 0</td><td>-3</td><td> -2</td><td>-29</td><td>  0</td><td> 1</td></tr>\n",
       "\t<tr><th scope=row>2015 Q4</th><td>  -2</td><td> -4</td><td>-1</td><td> 1</td><td> 21</td><td>-1</td><td> 3</td><td>-1</td><td>-8</td><td>-1</td><td>-26</td><td> 58</td><td>-10</td><td> 0</td><td> -1</td><td>-1</td><td>-36</td><td> 3</td><td> 3</td><td>-3</td><td>-1</td><td> 0</td><td>  0</td><td> 25</td><td>-11</td><td> 2</td></tr>\n",
       "\t<tr><th scope=row>2016 Q1</th><td>  -6</td><td> -1</td><td> 0</td><td> 0</td><td>-15</td><td>-1</td><td> 0</td><td> 2</td><td>-2</td><td>-2</td><td> 13</td><td> -8</td><td> -3</td><td>-1</td><td>  3</td><td> 0</td><td>  4</td><td> 4</td><td> 0</td><td>-2</td><td>-3</td><td>-4</td><td> -3</td><td>-40</td><td>-63</td><td>-3</td></tr>\n",
       "\t<tr><th scope=row>2016 Q2</th><td> -13</td><td> -4</td><td> 0</td><td>-2</td><td> -4</td><td> 3</td><td>-2</td><td>-1</td><td> 0</td><td> 1</td><td> 11</td><td>  1</td><td>  1</td><td> 2</td><td> -1</td><td> 0</td><td>  1</td><td> 3</td><td>-1</td><td> 1</td><td>-1</td><td> 2</td><td>  2</td><td> 29</td><td> 44</td><td>-2</td></tr>\n",
       "\t<tr><th scope=row>2016 Q3</th><td>  -4</td><td> -1</td><td> 2</td><td> 0</td><td>-12</td><td>-3</td><td> 2</td><td> 1</td><td> 2</td><td> 0</td><td> 21</td><td>-73</td><td> 17</td><td>-2</td><td> -1</td><td> 1</td><td> 28</td><td> 3</td><td> 0</td><td>-5</td><td> 1</td><td>-3</td><td>  3</td><td>-31</td><td> -7</td><td> 3</td></tr>\n",
       "\t<tr><th scope=row>2016 Q4</th><td>  -8</td><td> -1</td><td> 0</td><td> 0</td><td> 20</td><td> 0</td><td>-1</td><td> 2</td><td> 3</td><td> 0</td><td>-18</td><td> 36</td><td> -5</td><td> 1</td><td> -1</td><td> 0</td><td>-24</td><td> 4</td><td>-1</td><td> 2</td><td> 3</td><td> 2</td><td> -2</td><td> -8</td><td>-19</td><td> 1</td></tr>\n",
       "\t<tr><th scope=row>2017 Q1</th><td>  -6</td><td> -1</td><td> 1</td><td>-1</td><td>-41</td><td> 1</td><td> 5</td><td>-2</td><td> 6</td><td> 1</td><td> -3</td><td> -2</td><td> -1</td><td> 1</td><td>  1</td><td> 0</td><td> -1</td><td>-6</td><td> 0</td><td> 0</td><td> 5</td><td>-2</td><td>-11</td><td>-28</td><td>-37</td><td>-1</td></tr>\n",
       "\t<tr><th scope=row>2017 Q2</th><td>  -9</td><td>  0</td><td> 0</td><td>-1</td><td>  3</td><td>-1</td><td>12</td><td>-2</td><td> 1</td><td>-1</td><td>  2</td><td> -3</td><td>  2</td><td> 0</td><td>  2</td><td>-1</td><td> -3</td><td>-2</td><td>-1</td><td> 0</td><td> 3</td><td> 3</td><td>  2</td><td> 33</td><td> 38</td><td> 1</td></tr>\n",
       "\t<tr><th scope=row>2017 Q3</th><td> -15</td><td> -1</td><td> 0</td><td> 0</td><td>-33</td><td>-2</td><td>-2</td><td> 0</td><td> 5</td><td> 1</td><td> 16</td><td>-52</td><td>  6</td><td> 0</td><td>  5</td><td> 0</td><td> 23</td><td>-4</td><td> 0</td><td> 0</td><td>-9</td><td> 0</td><td>-12</td><td>-46</td><td>-31</td><td> 4</td></tr>\n",
       "\t<tr><th scope=row>2017 Q4</th><td> -13</td><td>  0</td><td> 1</td><td> 0</td><td> 14</td><td> 0</td><td>-1</td><td> 0</td><td> 2</td><td>-1</td><td>-24</td><td> 15</td><td> -9</td><td> 0</td><td>  1</td><td> 0</td><td>-24</td><td> 3</td><td>-1</td><td> 0</td><td>-2</td><td>-5</td><td> -5</td><td> 53</td><td>-44</td><td> 0</td></tr>\n",
       "\t<tr><th scope=row>2018 Q1</th><td>  -9</td><td>  0</td><td>-1</td><td> 1</td><td>-13</td><td> 3</td><td> 1</td><td>-2</td><td> 7</td><td>-3</td><td>  9</td><td> -1</td><td>-13</td><td> 0</td><td>  5</td><td> 1</td><td> -1</td><td> 1</td><td> 1</td><td> 3</td><td>-8</td><td> 2</td><td>-14</td><td>-38</td><td>-36</td><td>-3</td></tr>\n",
       "\t<tr><th scope=row>2018 Q2</th><td>  -3</td><td> -1</td><td> 0</td><td> 1</td><td> -4</td><td>-2</td><td>-1</td><td> 2</td><td>-1</td><td> 0</td><td>  2</td><td>-13</td><td> -1</td><td>-2</td><td>  0</td><td> 0</td><td>  2</td><td>-5</td><td>-3</td><td> 0</td><td> 3</td><td>-1</td><td> -1</td><td> 22</td><td>-17</td><td> 2</td></tr>\n",
       "\t<tr><th scope=row>2018 Q3</th><td> -14</td><td>  3</td><td> 0</td><td> 1</td><td>-38</td><td>-1</td><td>-1</td><td> 3</td><td> 7</td><td>-2</td><td> 23</td><td>-58</td><td>  1</td><td> 1</td><td>  1</td><td> 0</td><td> 23</td><td>-4</td><td>-1</td><td>-1</td><td>-5</td><td> 2</td><td>  1</td><td>-40</td><td>-45</td><td> 3</td></tr>\n",
       "\t<tr><th scope=row>2018 Q4</th><td>  -3</td><td>  1</td><td> 0</td><td>-2</td><td> 12</td><td> 0</td><td> 0</td><td> 1</td><td> 2</td><td> 1</td><td>-15</td><td> 17</td><td>-15</td><td>-1</td><td>  2</td><td> 0</td><td>-22</td><td> 8</td><td> 1</td><td> 0</td><td> 2</td><td>-1</td><td> -1</td><td> 35</td><td>  8</td><td> 2</td></tr>\n",
       "\t<tr><th scope=row>2019 Q1</th><td>  -8</td><td>  6</td><td> 0</td><td> 0</td><td> -6</td><td> 1</td><td> 6</td><td> 3</td><td> 5</td><td> 0</td><td>  9</td><td>-12</td><td> -7</td><td>-1</td><td>  4</td><td> 0</td><td>  2</td><td> 1</td><td> 1</td><td> 0</td><td> 1</td><td>-1</td><td> -3</td><td>-24</td><td>-44</td><td>-2</td></tr>\n",
       "\t<tr><th scope=row>2019 Q2</th><td>  -6</td><td>-13</td><td> 0</td><td> 0</td><td>  3</td><td> 2</td><td> 2</td><td>-1</td><td> 1</td><td>-1</td><td>  5</td><td>  1</td><td>  6</td><td> 1</td><td>  2</td><td> 0</td><td>  4</td><td> 4</td><td> 0</td><td> 2</td><td> 2</td><td> 2</td><td> -1</td><td> 44</td><td> 20</td><td> 1</td></tr>\n",
       "\t<tr><th scope=row>2019 Q3</th><td> -13</td><td>  0</td><td> 2</td><td> 1</td><td>  0</td><td>-2</td><td>-2</td><td>-1</td><td> 4</td><td> 5</td><td> 20</td><td>-18</td><td>  6</td><td> 3</td><td>  4</td><td> 0</td><td> 19</td><td>-5</td><td> 0</td><td>-1</td><td>-4</td><td>-1</td><td>  7</td><td>-59</td><td>-22</td><td> 1</td></tr>\n",
       "\t<tr><th scope=row>2019 Q4</th><td>  -4</td><td> -3</td><td> 2</td><td> 0</td><td> 15</td><td> 0</td><td>-1</td><td>-1</td><td> 0</td><td> 3</td><td>-17</td><td>  9</td><td>-11</td><td>-1</td><td>  1</td><td> 0</td><td>-23</td><td>-1</td><td> 0</td><td>-1</td><td> 3</td><td> 2</td><td> -4</td><td> 43</td><td> -4</td><td> 4</td></tr>\n",
       "</tbody>\n",
       "</table>\n"
      ],
      "text/latex": [
       "A Time Series: 39 × 26\n",
       "\\begin{tabular}{r|llllllllllllllllllllllllll}\n",
       "  & 1 & 2 & 3 & 4 & 5 & 6 & 7 & 8 & 9 & 10 & 11 & 12 & 13 & 14 & 15 & 16 & 17 & 18 & 19 & 20 & 21 & 22 & 23 & 24 & 25 & 26\\\\\n",
       "\\hline\n",
       "\t2010 Q2 &   -6 &  -1 &  2 &  0 &   9 & -2 &  1 &  1 & -1 & -3 &  16 &  14 &   4 & -3 &  -4 &  0 &   2 &  3 &  1 & -2 &  1 &  2 &   3 &  41 &  67 &  1\\\\\n",
       "\t2010 Q3 &   -5 &   2 &  0 &  0 & -45 &  0 & 12 &  2 &  5 &  2 &  11 & -63 &  15 &  0 &  17 &  0 &  36 & -3 &  0 &  2 & -7 &  2 &   5 & -23 & -35 &  4\\\\\n",
       "\t2010 Q4 &   -1 &  -9 &  0 &  0 &  38 &  2 & -9 & -1 &  3 &  1 & -27 &  77 & -16 &  0 &  -4 &  0 & -47 &  3 &  0 &  0 & -6 &  0 &  -1 &  27 &  14 & -3\\\\\n",
       "\t2011 Q1 &   -2 &  46 & -1 & -1 & -17 &  5 & 11 & -1 & -3 & -8 &   2 & -21 &  -3 &  1 &  -8 &  0 &   2 & -1 &  1 & -3 & -1 &  0 &  -4 & -21 & -77 & -2\\\\\n",
       "\t2011 Q2 &   -2 &   1 &  0 & -2 &  11 & -1 &  1 &  1 &  6 & -4 &   2 & -28 &  -1 & -2 &  -4 &  0 &   1 & -1 & -3 &  0 &  6 & -2 &   5 &  33 &  51 & -2\\\\\n",
       "\t2011 Q3 &   -5 &  -2 &  1 &  4 & -57 &  0 & -1 & -2 &  2 & -1 &  29 & -88 &  13 & -2 &  -3 &  0 &  35 & -4 &  1 &  3 & -2 &  0 &   4 & -37 & -13 &  3\\\\\n",
       "\t2011 Q4 &   -2 &   0 & -2 & -7 &  40 & -2 &  0 &  1 &  3 & -4 & -21 &  93 & -17 &  2 &  -5 &  0 & -44 &  6 & -2 &  0 &  0 &  4 & -10 &  10 &   0 &  2\\\\\n",
       "\t2012 Q1 &   -8 &   2 & -2 & -3 &   7 &  0 &  2 &  1 & -3 & -7 &   9 &   6 &  -3 &  1 &  -3 & -7 &  -4 & -4 & -1 &  0 & -3 &  2 &  -5 & -13 &   3 &  1\\\\\n",
       "\t2012 Q2 &   -2 &  -1 &  0 &  0 &   4 &  1 &  2 &  1 &  9 &  2 &   6 &   9 &   1 & -1 &  -1 &  0 &   0 &  0 &  2 &  0 &  0 & -3 &  -1 &  41 &  52 &  0\\\\\n",
       "\t2012 Q3 &   -1 &   1 &  0 &  1 & -36 &  1 & -1 &  1 &  1 &  0 &  38 & -53 &  13 & -1 &  -9 &  0 &  30 & -5 & -1 &  3 & -2 & -5 &   3 & -36 & -25 &  0\\\\\n",
       "\t2012 Q4 &    0 &  -4 & -1 & -1 &  38 &  1 &  0 &  0 & -1 & -1 & -29 &  59 & -18 &  0 & -24 &  0 & -36 &  6 &  3 & -1 &  3 & -1 &  -4 &  17 &  22 & -1\\\\\n",
       "\t2013 Q1 &   -9 &  19 & -1 & -2 &   7 &  1 & -1 &  3 &  5 &  3 & -14 & -13 &  -9 &  1 &  -1 &  1 &  -7 &  1 & -1 & -2 & -3 &  3 & -10 &  -3 & -41 &  0\\\\\n",
       "\t2013 Q2 &   -3 &   9 &  0 &  0 &   6 &  1 &  2 &  0 &  4 & -2 & -19 &  -1 &   2 & -2 &   4 &  0 &   3 &  8 & -1 &  1 &  2 &  1 &   3 &  31 &  48 &  1\\\\\n",
       "\t2013 Q3 &   -4 &  -6 &  2 &  0 & -39 & -1 & -1 & -2 &  3 & -1 &  31 & -47 &  13 & -3 &   0 &  0 &  32 &  1 &  0 &  2 & -2 & -2 &   9 & -11 & -26 &  2\\\\\n",
       "\t2013 Q4 &   -7 &   0 &  0 &  2 &  49 & -1 &  4 &  1 &  5 &  1 & -22 &  88 & -15 &  3 &   0 &  0 & -40 & -8 &  0 & -1 &  1 & -3 &  -1 &  10 &  33 &  0\\\\\n",
       "\t2014 Q1 &   -9 & -11 &  1 &  0 &   4 &  0 & -5 &  1 &  4 &  3 &  -5 &  -7 &  -2 & -1 &  -2 &  0 &   1 &  1 & -2 &  0 &  1 &  0 &  -6 & -17 & -38 & -2\\\\\n",
       "\t2014 Q2 &    0 &  -5 &  0 & -1 &   4 &  0 &  1 &  3 & -2 &  1 &   3 &   7 &   2 & -1 & -66 &  0 &   2 & -2 &  2 &  0 & -4 &  0 &  -3 &  38 &  39 &  3\\\\\n",
       "\t2014 Q3 &   -3 &   4 &  0 &  3 & -45 &  1 &  8 & -4 &  5 &  2 &  19 & -42 &  14 &  0 & -60 &  0 &  25 &  0 &  0 & -2 & -4 &  4 &   4 & -19 &  -4 & -1\\\\\n",
       "\t2014 Q4 &   97 &   2 &  1 &  1 &  24 &  1 &  0 &  3 & -4 & -4 & -15 &  75 & -15 & -2 &  -4 &  0 & -32 &  3 &  2 &  1 &  7 & -3 &   4 &   5 &  11 &  0\\\\\n",
       "\t2015 Q1 & -110 &  -5 & -2 & -4 &   0 &  0 & -2 &  2 &  3 & -1 &  -8 &  -3 &  -5 &  3 &   2 &  0 &  -3 &  5 &  1 & -1 &  4 &  1 &  -7 &  -5 & -40 &  0\\\\\n",
       "\t2015 Q2 &  -11 &  -2 &  0 &  0 & -11 &  0 & -1 &  0 &  3 &  1 &  -6 &   4 &   4 & -1 &  -1 &  0 &   1 & -6 & -1 & -1 &  0 &  1 &  -1 &  35 &  12 &  0\\\\\n",
       "\t2015 Q3 &    2 &  -1 & -1 &  1 & -17 & -1 &  0 &  1 &  7 &  1 &  27 & -48 &  12 &  0 &  -9 &  0 &  28 & -8 & -3 &  2 &  0 & -3 &  -2 & -29 &   0 &  1\\\\\n",
       "\t2015 Q4 &   -2 &  -4 & -1 &  1 &  21 & -1 &  3 & -1 & -8 & -1 & -26 &  58 & -10 &  0 &  -1 & -1 & -36 &  3 &  3 & -3 & -1 &  0 &   0 &  25 & -11 &  2\\\\\n",
       "\t2016 Q1 &   -6 &  -1 &  0 &  0 & -15 & -1 &  0 &  2 & -2 & -2 &  13 &  -8 &  -3 & -1 &   3 &  0 &   4 &  4 &  0 & -2 & -3 & -4 &  -3 & -40 & -63 & -3\\\\\n",
       "\t2016 Q2 &  -13 &  -4 &  0 & -2 &  -4 &  3 & -2 & -1 &  0 &  1 &  11 &   1 &   1 &  2 &  -1 &  0 &   1 &  3 & -1 &  1 & -1 &  2 &   2 &  29 &  44 & -2\\\\\n",
       "\t2016 Q3 &   -4 &  -1 &  2 &  0 & -12 & -3 &  2 &  1 &  2 &  0 &  21 & -73 &  17 & -2 &  -1 &  1 &  28 &  3 &  0 & -5 &  1 & -3 &   3 & -31 &  -7 &  3\\\\\n",
       "\t2016 Q4 &   -8 &  -1 &  0 &  0 &  20 &  0 & -1 &  2 &  3 &  0 & -18 &  36 &  -5 &  1 &  -1 &  0 & -24 &  4 & -1 &  2 &  3 &  2 &  -2 &  -8 & -19 &  1\\\\\n",
       "\t2017 Q1 &   -6 &  -1 &  1 & -1 & -41 &  1 &  5 & -2 &  6 &  1 &  -3 &  -2 &  -1 &  1 &   1 &  0 &  -1 & -6 &  0 &  0 &  5 & -2 & -11 & -28 & -37 & -1\\\\\n",
       "\t2017 Q2 &   -9 &   0 &  0 & -1 &   3 & -1 & 12 & -2 &  1 & -1 &   2 &  -3 &   2 &  0 &   2 & -1 &  -3 & -2 & -1 &  0 &  3 &  3 &   2 &  33 &  38 &  1\\\\\n",
       "\t2017 Q3 &  -15 &  -1 &  0 &  0 & -33 & -2 & -2 &  0 &  5 &  1 &  16 & -52 &   6 &  0 &   5 &  0 &  23 & -4 &  0 &  0 & -9 &  0 & -12 & -46 & -31 &  4\\\\\n",
       "\t2017 Q4 &  -13 &   0 &  1 &  0 &  14 &  0 & -1 &  0 &  2 & -1 & -24 &  15 &  -9 &  0 &   1 &  0 & -24 &  3 & -1 &  0 & -2 & -5 &  -5 &  53 & -44 &  0\\\\\n",
       "\t2018 Q1 &   -9 &   0 & -1 &  1 & -13 &  3 &  1 & -2 &  7 & -3 &   9 &  -1 & -13 &  0 &   5 &  1 &  -1 &  1 &  1 &  3 & -8 &  2 & -14 & -38 & -36 & -3\\\\\n",
       "\t2018 Q2 &   -3 &  -1 &  0 &  1 &  -4 & -2 & -1 &  2 & -1 &  0 &   2 & -13 &  -1 & -2 &   0 &  0 &   2 & -5 & -3 &  0 &  3 & -1 &  -1 &  22 & -17 &  2\\\\\n",
       "\t2018 Q3 &  -14 &   3 &  0 &  1 & -38 & -1 & -1 &  3 &  7 & -2 &  23 & -58 &   1 &  1 &   1 &  0 &  23 & -4 & -1 & -1 & -5 &  2 &   1 & -40 & -45 &  3\\\\\n",
       "\t2018 Q4 &   -3 &   1 &  0 & -2 &  12 &  0 &  0 &  1 &  2 &  1 & -15 &  17 & -15 & -1 &   2 &  0 & -22 &  8 &  1 &  0 &  2 & -1 &  -1 &  35 &   8 &  2\\\\\n",
       "\t2019 Q1 &   -8 &   6 &  0 &  0 &  -6 &  1 &  6 &  3 &  5 &  0 &   9 & -12 &  -7 & -1 &   4 &  0 &   2 &  1 &  1 &  0 &  1 & -1 &  -3 & -24 & -44 & -2\\\\\n",
       "\t2019 Q2 &   -6 & -13 &  0 &  0 &   3 &  2 &  2 & -1 &  1 & -1 &   5 &   1 &   6 &  1 &   2 &  0 &   4 &  4 &  0 &  2 &  2 &  2 &  -1 &  44 &  20 &  1\\\\\n",
       "\t2019 Q3 &  -13 &   0 &  2 &  1 &   0 & -2 & -2 & -1 &  4 &  5 &  20 & -18 &   6 &  3 &   4 &  0 &  19 & -5 &  0 & -1 & -4 & -1 &   7 & -59 & -22 &  1\\\\\n",
       "\t2019 Q4 &   -4 &  -3 &  2 &  0 &  15 &  0 & -1 & -1 &  0 &  3 & -17 &   9 & -11 & -1 &   1 &  0 & -23 & -1 &  0 & -1 &  3 &  2 &  -4 &  43 &  -4 &  4\\\\\n",
       "\\end{tabular}\n"
      ],
      "text/markdown": [
       "\n",
       "A Time Series: 39 × 26\n",
       "\n",
       "| <!--/--> | 1 | 2 | 3 | 4 | 5 | 6 | 7 | 8 | 9 | 10 | 11 | 12 | 13 | 14 | 15 | 16 | 17 | 18 | 19 | 20 | 21 | 22 | 23 | 24 | 25 | 26 |\n",
       "|---|---|---|---|---|---|---|---|---|---|---|---|---|---|---|---|---|---|---|---|---|---|---|---|---|---|---|\n",
       "| 2010 Q2 |   -6 |  -1 |  2 |  0 |   9 | -2 |  1 |  1 | -1 | -3 |  16 |  14 |   4 | -3 |  -4 |  0 |   2 |  3 |  1 | -2 |  1 |  2 |   3 |  41 |  67 |  1 |\n",
       "| 2010 Q3 |   -5 |   2 |  0 |  0 | -45 |  0 | 12 |  2 |  5 |  2 |  11 | -63 |  15 |  0 |  17 |  0 |  36 | -3 |  0 |  2 | -7 |  2 |   5 | -23 | -35 |  4 |\n",
       "| 2010 Q4 |   -1 |  -9 |  0 |  0 |  38 |  2 | -9 | -1 |  3 |  1 | -27 |  77 | -16 |  0 |  -4 |  0 | -47 |  3 |  0 |  0 | -6 |  0 |  -1 |  27 |  14 | -3 |\n",
       "| 2011 Q1 |   -2 |  46 | -1 | -1 | -17 |  5 | 11 | -1 | -3 | -8 |   2 | -21 |  -3 |  1 |  -8 |  0 |   2 | -1 |  1 | -3 | -1 |  0 |  -4 | -21 | -77 | -2 |\n",
       "| 2011 Q2 |   -2 |   1 |  0 | -2 |  11 | -1 |  1 |  1 |  6 | -4 |   2 | -28 |  -1 | -2 |  -4 |  0 |   1 | -1 | -3 |  0 |  6 | -2 |   5 |  33 |  51 | -2 |\n",
       "| 2011 Q3 |   -5 |  -2 |  1 |  4 | -57 |  0 | -1 | -2 |  2 | -1 |  29 | -88 |  13 | -2 |  -3 |  0 |  35 | -4 |  1 |  3 | -2 |  0 |   4 | -37 | -13 |  3 |\n",
       "| 2011 Q4 |   -2 |   0 | -2 | -7 |  40 | -2 |  0 |  1 |  3 | -4 | -21 |  93 | -17 |  2 |  -5 |  0 | -44 |  6 | -2 |  0 |  0 |  4 | -10 |  10 |   0 |  2 |\n",
       "| 2012 Q1 |   -8 |   2 | -2 | -3 |   7 |  0 |  2 |  1 | -3 | -7 |   9 |   6 |  -3 |  1 |  -3 | -7 |  -4 | -4 | -1 |  0 | -3 |  2 |  -5 | -13 |   3 |  1 |\n",
       "| 2012 Q2 |   -2 |  -1 |  0 |  0 |   4 |  1 |  2 |  1 |  9 |  2 |   6 |   9 |   1 | -1 |  -1 |  0 |   0 |  0 |  2 |  0 |  0 | -3 |  -1 |  41 |  52 |  0 |\n",
       "| 2012 Q3 |   -1 |   1 |  0 |  1 | -36 |  1 | -1 |  1 |  1 |  0 |  38 | -53 |  13 | -1 |  -9 |  0 |  30 | -5 | -1 |  3 | -2 | -5 |   3 | -36 | -25 |  0 |\n",
       "| 2012 Q4 |    0 |  -4 | -1 | -1 |  38 |  1 |  0 |  0 | -1 | -1 | -29 |  59 | -18 |  0 | -24 |  0 | -36 |  6 |  3 | -1 |  3 | -1 |  -4 |  17 |  22 | -1 |\n",
       "| 2013 Q1 |   -9 |  19 | -1 | -2 |   7 |  1 | -1 |  3 |  5 |  3 | -14 | -13 |  -9 |  1 |  -1 |  1 |  -7 |  1 | -1 | -2 | -3 |  3 | -10 |  -3 | -41 |  0 |\n",
       "| 2013 Q2 |   -3 |   9 |  0 |  0 |   6 |  1 |  2 |  0 |  4 | -2 | -19 |  -1 |   2 | -2 |   4 |  0 |   3 |  8 | -1 |  1 |  2 |  1 |   3 |  31 |  48 |  1 |\n",
       "| 2013 Q3 |   -4 |  -6 |  2 |  0 | -39 | -1 | -1 | -2 |  3 | -1 |  31 | -47 |  13 | -3 |   0 |  0 |  32 |  1 |  0 |  2 | -2 | -2 |   9 | -11 | -26 |  2 |\n",
       "| 2013 Q4 |   -7 |   0 |  0 |  2 |  49 | -1 |  4 |  1 |  5 |  1 | -22 |  88 | -15 |  3 |   0 |  0 | -40 | -8 |  0 | -1 |  1 | -3 |  -1 |  10 |  33 |  0 |\n",
       "| 2014 Q1 |   -9 | -11 |  1 |  0 |   4 |  0 | -5 |  1 |  4 |  3 |  -5 |  -7 |  -2 | -1 |  -2 |  0 |   1 |  1 | -2 |  0 |  1 |  0 |  -6 | -17 | -38 | -2 |\n",
       "| 2014 Q2 |    0 |  -5 |  0 | -1 |   4 |  0 |  1 |  3 | -2 |  1 |   3 |   7 |   2 | -1 | -66 |  0 |   2 | -2 |  2 |  0 | -4 |  0 |  -3 |  38 |  39 |  3 |\n",
       "| 2014 Q3 |   -3 |   4 |  0 |  3 | -45 |  1 |  8 | -4 |  5 |  2 |  19 | -42 |  14 |  0 | -60 |  0 |  25 |  0 |  0 | -2 | -4 |  4 |   4 | -19 |  -4 | -1 |\n",
       "| 2014 Q4 |   97 |   2 |  1 |  1 |  24 |  1 |  0 |  3 | -4 | -4 | -15 |  75 | -15 | -2 |  -4 |  0 | -32 |  3 |  2 |  1 |  7 | -3 |   4 |   5 |  11 |  0 |\n",
       "| 2015 Q1 | -110 |  -5 | -2 | -4 |   0 |  0 | -2 |  2 |  3 | -1 |  -8 |  -3 |  -5 |  3 |   2 |  0 |  -3 |  5 |  1 | -1 |  4 |  1 |  -7 |  -5 | -40 |  0 |\n",
       "| 2015 Q2 |  -11 |  -2 |  0 |  0 | -11 |  0 | -1 |  0 |  3 |  1 |  -6 |   4 |   4 | -1 |  -1 |  0 |   1 | -6 | -1 | -1 |  0 |  1 |  -1 |  35 |  12 |  0 |\n",
       "| 2015 Q3 |    2 |  -1 | -1 |  1 | -17 | -1 |  0 |  1 |  7 |  1 |  27 | -48 |  12 |  0 |  -9 |  0 |  28 | -8 | -3 |  2 |  0 | -3 |  -2 | -29 |   0 |  1 |\n",
       "| 2015 Q4 |   -2 |  -4 | -1 |  1 |  21 | -1 |  3 | -1 | -8 | -1 | -26 |  58 | -10 |  0 |  -1 | -1 | -36 |  3 |  3 | -3 | -1 |  0 |   0 |  25 | -11 |  2 |\n",
       "| 2016 Q1 |   -6 |  -1 |  0 |  0 | -15 | -1 |  0 |  2 | -2 | -2 |  13 |  -8 |  -3 | -1 |   3 |  0 |   4 |  4 |  0 | -2 | -3 | -4 |  -3 | -40 | -63 | -3 |\n",
       "| 2016 Q2 |  -13 |  -4 |  0 | -2 |  -4 |  3 | -2 | -1 |  0 |  1 |  11 |   1 |   1 |  2 |  -1 |  0 |   1 |  3 | -1 |  1 | -1 |  2 |   2 |  29 |  44 | -2 |\n",
       "| 2016 Q3 |   -4 |  -1 |  2 |  0 | -12 | -3 |  2 |  1 |  2 |  0 |  21 | -73 |  17 | -2 |  -1 |  1 |  28 |  3 |  0 | -5 |  1 | -3 |   3 | -31 |  -7 |  3 |\n",
       "| 2016 Q4 |   -8 |  -1 |  0 |  0 |  20 |  0 | -1 |  2 |  3 |  0 | -18 |  36 |  -5 |  1 |  -1 |  0 | -24 |  4 | -1 |  2 |  3 |  2 |  -2 |  -8 | -19 |  1 |\n",
       "| 2017 Q1 |   -6 |  -1 |  1 | -1 | -41 |  1 |  5 | -2 |  6 |  1 |  -3 |  -2 |  -1 |  1 |   1 |  0 |  -1 | -6 |  0 |  0 |  5 | -2 | -11 | -28 | -37 | -1 |\n",
       "| 2017 Q2 |   -9 |   0 |  0 | -1 |   3 | -1 | 12 | -2 |  1 | -1 |   2 |  -3 |   2 |  0 |   2 | -1 |  -3 | -2 | -1 |  0 |  3 |  3 |   2 |  33 |  38 |  1 |\n",
       "| 2017 Q3 |  -15 |  -1 |  0 |  0 | -33 | -2 | -2 |  0 |  5 |  1 |  16 | -52 |   6 |  0 |   5 |  0 |  23 | -4 |  0 |  0 | -9 |  0 | -12 | -46 | -31 |  4 |\n",
       "| 2017 Q4 |  -13 |   0 |  1 |  0 |  14 |  0 | -1 |  0 |  2 | -1 | -24 |  15 |  -9 |  0 |   1 |  0 | -24 |  3 | -1 |  0 | -2 | -5 |  -5 |  53 | -44 |  0 |\n",
       "| 2018 Q1 |   -9 |   0 | -1 |  1 | -13 |  3 |  1 | -2 |  7 | -3 |   9 |  -1 | -13 |  0 |   5 |  1 |  -1 |  1 |  1 |  3 | -8 |  2 | -14 | -38 | -36 | -3 |\n",
       "| 2018 Q2 |   -3 |  -1 |  0 |  1 |  -4 | -2 | -1 |  2 | -1 |  0 |   2 | -13 |  -1 | -2 |   0 |  0 |   2 | -5 | -3 |  0 |  3 | -1 |  -1 |  22 | -17 |  2 |\n",
       "| 2018 Q3 |  -14 |   3 |  0 |  1 | -38 | -1 | -1 |  3 |  7 | -2 |  23 | -58 |   1 |  1 |   1 |  0 |  23 | -4 | -1 | -1 | -5 |  2 |   1 | -40 | -45 |  3 |\n",
       "| 2018 Q4 |   -3 |   1 |  0 | -2 |  12 |  0 |  0 |  1 |  2 |  1 | -15 |  17 | -15 | -1 |   2 |  0 | -22 |  8 |  1 |  0 |  2 | -1 |  -1 |  35 |   8 |  2 |\n",
       "| 2019 Q1 |   -8 |   6 |  0 |  0 |  -6 |  1 |  6 |  3 |  5 |  0 |   9 | -12 |  -7 | -1 |   4 |  0 |   2 |  1 |  1 |  0 |  1 | -1 |  -3 | -24 | -44 | -2 |\n",
       "| 2019 Q2 |   -6 | -13 |  0 |  0 |   3 |  2 |  2 | -1 |  1 | -1 |   5 |   1 |   6 |  1 |   2 |  0 |   4 |  4 |  0 |  2 |  2 |  2 |  -1 |  44 |  20 |  1 |\n",
       "| 2019 Q3 |  -13 |   0 |  2 |  1 |   0 | -2 | -2 | -1 |  4 |  5 |  20 | -18 |   6 |  3 |   4 |  0 |  19 | -5 |  0 | -1 | -4 | -1 |   7 | -59 | -22 |  1 |\n",
       "| 2019 Q4 |   -4 |  -3 |  2 |  0 |  15 |  0 | -1 | -1 |  0 |  3 | -17 |   9 | -11 | -1 |   1 |  0 | -23 | -1 |  0 | -1 |  3 |  2 |  -4 |  43 |  -4 |  4 |\n",
       "\n"
      ],
      "text/plain": [
       "        1    2   3  4  5   6  7  8  9  10 11  12  13  14 15  16 17  18 19 20 21\n",
       "2010 Q2   -6  -1  2  0   9 -2  1  1 -1 -3  16  14   4 -3  -4  0   2  3  1 -2  1\n",
       "2010 Q3   -5   2  0  0 -45  0 12  2  5  2  11 -63  15  0  17  0  36 -3  0  2 -7\n",
       "2010 Q4   -1  -9  0  0  38  2 -9 -1  3  1 -27  77 -16  0  -4  0 -47  3  0  0 -6\n",
       "2011 Q1   -2  46 -1 -1 -17  5 11 -1 -3 -8   2 -21  -3  1  -8  0   2 -1  1 -3 -1\n",
       "2011 Q2   -2   1  0 -2  11 -1  1  1  6 -4   2 -28  -1 -2  -4  0   1 -1 -3  0  6\n",
       "2011 Q3   -5  -2  1  4 -57  0 -1 -2  2 -1  29 -88  13 -2  -3  0  35 -4  1  3 -2\n",
       "2011 Q4   -2   0 -2 -7  40 -2  0  1  3 -4 -21  93 -17  2  -5  0 -44  6 -2  0  0\n",
       "2012 Q1   -8   2 -2 -3   7  0  2  1 -3 -7   9   6  -3  1  -3 -7  -4 -4 -1  0 -3\n",
       "2012 Q2   -2  -1  0  0   4  1  2  1  9  2   6   9   1 -1  -1  0   0  0  2  0  0\n",
       "2012 Q3   -1   1  0  1 -36  1 -1  1  1  0  38 -53  13 -1  -9  0  30 -5 -1  3 -2\n",
       "2012 Q4    0  -4 -1 -1  38  1  0  0 -1 -1 -29  59 -18  0 -24  0 -36  6  3 -1  3\n",
       "2013 Q1   -9  19 -1 -2   7  1 -1  3  5  3 -14 -13  -9  1  -1  1  -7  1 -1 -2 -3\n",
       "2013 Q2   -3   9  0  0   6  1  2  0  4 -2 -19  -1   2 -2   4  0   3  8 -1  1  2\n",
       "2013 Q3   -4  -6  2  0 -39 -1 -1 -2  3 -1  31 -47  13 -3   0  0  32  1  0  2 -2\n",
       "2013 Q4   -7   0  0  2  49 -1  4  1  5  1 -22  88 -15  3   0  0 -40 -8  0 -1  1\n",
       "2014 Q1   -9 -11  1  0   4  0 -5  1  4  3  -5  -7  -2 -1  -2  0   1  1 -2  0  1\n",
       "2014 Q2    0  -5  0 -1   4  0  1  3 -2  1   3   7   2 -1 -66  0   2 -2  2  0 -4\n",
       "2014 Q3   -3   4  0  3 -45  1  8 -4  5  2  19 -42  14  0 -60  0  25  0  0 -2 -4\n",
       "2014 Q4   97   2  1  1  24  1  0  3 -4 -4 -15  75 -15 -2  -4  0 -32  3  2  1  7\n",
       "2015 Q1 -110  -5 -2 -4   0  0 -2  2  3 -1  -8  -3  -5  3   2  0  -3  5  1 -1  4\n",
       "2015 Q2  -11  -2  0  0 -11  0 -1  0  3  1  -6   4   4 -1  -1  0   1 -6 -1 -1  0\n",
       "2015 Q3    2  -1 -1  1 -17 -1  0  1  7  1  27 -48  12  0  -9  0  28 -8 -3  2  0\n",
       "2015 Q4   -2  -4 -1  1  21 -1  3 -1 -8 -1 -26  58 -10  0  -1 -1 -36  3  3 -3 -1\n",
       "2016 Q1   -6  -1  0  0 -15 -1  0  2 -2 -2  13  -8  -3 -1   3  0   4  4  0 -2 -3\n",
       "2016 Q2  -13  -4  0 -2  -4  3 -2 -1  0  1  11   1   1  2  -1  0   1  3 -1  1 -1\n",
       "2016 Q3   -4  -1  2  0 -12 -3  2  1  2  0  21 -73  17 -2  -1  1  28  3  0 -5  1\n",
       "2016 Q4   -8  -1  0  0  20  0 -1  2  3  0 -18  36  -5  1  -1  0 -24  4 -1  2  3\n",
       "2017 Q1   -6  -1  1 -1 -41  1  5 -2  6  1  -3  -2  -1  1   1  0  -1 -6  0  0  5\n",
       "2017 Q2   -9   0  0 -1   3 -1 12 -2  1 -1   2  -3   2  0   2 -1  -3 -2 -1  0  3\n",
       "2017 Q3  -15  -1  0  0 -33 -2 -2  0  5  1  16 -52   6  0   5  0  23 -4  0  0 -9\n",
       "2017 Q4  -13   0  1  0  14  0 -1  0  2 -1 -24  15  -9  0   1  0 -24  3 -1  0 -2\n",
       "2018 Q1   -9   0 -1  1 -13  3  1 -2  7 -3   9  -1 -13  0   5  1  -1  1  1  3 -8\n",
       "2018 Q2   -3  -1  0  1  -4 -2 -1  2 -1  0   2 -13  -1 -2   0  0   2 -5 -3  0  3\n",
       "2018 Q3  -14   3  0  1 -38 -1 -1  3  7 -2  23 -58   1  1   1  0  23 -4 -1 -1 -5\n",
       "2018 Q4   -3   1  0 -2  12  0  0  1  2  1 -15  17 -15 -1   2  0 -22  8  1  0  2\n",
       "2019 Q1   -8   6  0  0  -6  1  6  3  5  0   9 -12  -7 -1   4  0   2  1  1  0  1\n",
       "2019 Q2   -6 -13  0  0   3  2  2 -1  1 -1   5   1   6  1   2  0   4  4  0  2  2\n",
       "2019 Q3  -13   0  2  1   0 -2 -2 -1  4  5  20 -18   6  3   4  0  19 -5  0 -1 -4\n",
       "2019 Q4   -4  -3  2  0  15  0 -1 -1  0  3 -17   9 -11 -1   1  0 -23 -1  0 -1  3\n",
       "        22 23  24  25  26\n",
       "2010 Q2  2   3  41  67  1\n",
       "2010 Q3  2   5 -23 -35  4\n",
       "2010 Q4  0  -1  27  14 -3\n",
       "2011 Q1  0  -4 -21 -77 -2\n",
       "2011 Q2 -2   5  33  51 -2\n",
       "2011 Q3  0   4 -37 -13  3\n",
       "2011 Q4  4 -10  10   0  2\n",
       "2012 Q1  2  -5 -13   3  1\n",
       "2012 Q2 -3  -1  41  52  0\n",
       "2012 Q3 -5   3 -36 -25  0\n",
       "2012 Q4 -1  -4  17  22 -1\n",
       "2013 Q1  3 -10  -3 -41  0\n",
       "2013 Q2  1   3  31  48  1\n",
       "2013 Q3 -2   9 -11 -26  2\n",
       "2013 Q4 -3  -1  10  33  0\n",
       "2014 Q1  0  -6 -17 -38 -2\n",
       "2014 Q2  0  -3  38  39  3\n",
       "2014 Q3  4   4 -19  -4 -1\n",
       "2014 Q4 -3   4   5  11  0\n",
       "2015 Q1  1  -7  -5 -40  0\n",
       "2015 Q2  1  -1  35  12  0\n",
       "2015 Q3 -3  -2 -29   0  1\n",
       "2015 Q4  0   0  25 -11  2\n",
       "2016 Q1 -4  -3 -40 -63 -3\n",
       "2016 Q2  2   2  29  44 -2\n",
       "2016 Q3 -3   3 -31  -7  3\n",
       "2016 Q4  2  -2  -8 -19  1\n",
       "2017 Q1 -2 -11 -28 -37 -1\n",
       "2017 Q2  3   2  33  38  1\n",
       "2017 Q3  0 -12 -46 -31  4\n",
       "2017 Q4 -5  -5  53 -44  0\n",
       "2018 Q1  2 -14 -38 -36 -3\n",
       "2018 Q2 -1  -1  22 -17  2\n",
       "2018 Q3  2   1 -40 -45  3\n",
       "2018 Q4 -1  -1  35   8  2\n",
       "2019 Q1 -1  -3 -24 -44 -2\n",
       "2019 Q2  2  -1  44  20  1\n",
       "2019 Q3 -1   7 -59 -22  1\n",
       "2019 Q4  2  -4  43  -4  4"
      ]
     },
     "metadata": {},
     "output_type": "display_data"
    }
   ],
   "source": [
    "df.diff"
   ]
  },
  {
   "cell_type": "code",
   "execution_count": 100,
   "metadata": {
    "vscode": {
     "languageId": "r"
    }
   },
   "outputs": [
    {
     "data": {
      "image/png": "[encoded data removed]",
      "text/plain": [
       "plot without title"
      ]
     },
     "metadata": {
      "image/png": {
       "height": 420,
       "width": 420
      }
     },
     "output_type": "display_data"
    }
   ],
   "source": [
    "index_secteur <- 1\n",
    "pred <- c(df.diff[1:(nrow(scaled_train)-prediction),index_secteur],LSTM_forecast[,,index_secteur])\n",
    "pred <-ts(pred, start=c(2010,2),frequency=4)\n",
    "obs <- df.diff[,index_secteur]\n",
    "\n",
    "#-----------------\n",
    "# Inverse differenciation\n",
    "starting_point <- df.ts[1,index_secteur]\n",
    "obs <-diffinv(obs,xi=starting_point)\n",
    "pred <-diffinv(pred,xi=starting_point)\n",
    "plot.ts(\n",
    "    cbind(pred,obs),\n",
    "    plot.type=\"single\",\n",
    "    lty=c(1,2),\n",
    "    lwd=1,\n",
    "    xlab=\"t\",\n",
    "    ylab=paste(\"Nombre d'Etablissements en GE pour le secteur :\",lab.to.num$lab[index_secteur],sep=\"\"),\n",
    "    \n",
    "    col=c(\"blue\",\"red\")\n",
    ")\n",
    "legend(\"topleft\",\n",
    "\n",
    "    legend=c(\"Prédictions\",\"Observations\"),\n",
    "    col=c(\"blue\",\"red\"),\n",
    "    lty=c(1,2),\n",
    "    lwd=1\n",
    ")"
   ]
  },
  {
   "cell_type": "code",
   "execution_count": 102,
   "metadata": {
    "vscode": {
     "languageId": "r"
    }
   },
   "outputs": [],
   "source": [
    "#-------------------------------\n",
    "#Save all plots\n",
    "for( index_secteur in 1:ncol(scaled_train)){\n",
    "\n",
    "    png(file=paste(\"plots/LSTM_stable/\",index_secteur,\".png\",sep=\"\"))\n",
    "    pred <- c(df.diff[1:(nrow(scaled_train)-prediction),index_secteur],LSTM_forecast[,,index_secteur])\n",
    "    pred <-ts(pred, start=c(2010,2),frequency=4)\n",
    "    obs <- df.diff[,index_secteur]\n",
    "    \n",
    "    #-----------------\n",
    "    # Inverse differenciation\n",
    "    starting_point <- df.ts[1,index_secteur]\n",
    "    obs <-diffinv(obs,xi=starting_point)\n",
    "    pred <-diffinv(pred,xi=starting_point)\n",
    "\n",
    "    plot.ts(\n",
    "        cbind(pred,obs),\n",
    "        plot.type=\"single\",\n",
    "        main=paste(\"Predictions LSTM stable vs observations \\n secteur : \",lab.to.num$lab[index_secteur],sep=\"\"),\n",
    "        col=c(\"blue\",\"red\"),\n",
    "        lty=c(2,1),\n",
    "        lwd=1,\n",
    "        xlab=\"t\",\n",
    "        ylab=paste(\"Nombre d'Etablissements en GE pour le secteur :\",lab.to.num$lab[index_secteur],sep=\"\"),\n",
    "\n",
    "    )\n",
    "    legend(\"topleft\",\n",
    "        legend=c(\"Prédictions\",\"Observations\"),\n",
    "        col=c(\"blue\",\"red\"),\n",
    "        lty=c(2,1),\n",
    "        lwd=1\n",
    ")\n",
    "    dev.off()\n",
    "}"
   ]
  }
 ],
 "metadata": {
  "kernelspec": {
   "display_name": "R",
   "language": "R",
   "name": "ir"
  },
  "language_info": {
   "codemirror_mode": "r",
   "file_extension": ".r",
   "mimetype": "text/x-r-source",
   "name": "R",
   "pygments_lexer": "r",
   "version": "4.0.4"
  },
  "orig_nbformat": 4,
  "vscode": {
   "interpreter": {
    "hash": "31f2aee4e71d21fbe5cf8b01ff0e069b9275f58929596ceb00d14d90e3e16cd6"
   }
  }
 },
 "nbformat": 4,
 "nbformat_minor": 2
}

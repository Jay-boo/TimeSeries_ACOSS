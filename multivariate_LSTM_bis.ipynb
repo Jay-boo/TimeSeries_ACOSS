{
 "cells": [
  {
   "cell_type": "markdown",
   "metadata": {},
   "source": [
    "# LSTM models for multivariate Time Series forecastings"
   ]
  },
  {
   "cell_type": "markdown",
   "metadata": {},
   "source": [
    "## Sommaire\n",
    "\n",
    "- [I. Préparation des données](#present_data)\n",
    "\n",
    "- [II. Construction de 2 models LSTM](#LSTM)\n",
    "    - [II.A LSTM avec des TS non stationarisées](#LSTMA)\n",
    "    - [II.B LSTM avec des TS stationarisées](#LSTMB)\n"
   ]
  },
  {
   "cell_type": "code",
   "execution_count": 17,
   "metadata": {
    "vscode": {
     "languageId": "r"
    }
   },
   "outputs": [],
   "source": [
    "rm(list=ls())\n",
    "suppressPackageStartupMessages(require(skimr))\n",
    "suppressPackageStartupMessages(require(readxl))\n",
    "suppressPackageStartupMessages(require(stringr))\n",
    "suppressPackageStartupMessages(require(dplyr))\n",
    "suppressPackageStartupMessages(require(ggplot2))\n",
    "suppressPackageStartupMessages(require(forecast))"
   ]
  },
  {
   "cell_type": "markdown",
   "metadata": {},
   "source": [
    "<div id=\"present_data\">\n",
    "\n",
    "# I . Data preparation"
   ]
  },
  {
   "cell_type": "code",
   "execution_count": 18,
   "metadata": {
    "vscode": {
     "languageId": "r"
    }
   },
   "outputs": [],
   "source": [
    "#------------------------------------------------------\n",
    "# data pre treatment (similar to univariate case)\n",
    "\n",
    "df <- read_excel(\"data/data.xlsx\",sheet = 3)\n",
    "tmp <-df%>% filter(aire==\"44_GRAND EST\" & champ==\"ESS\")\n",
    "\n",
    "df <-tmp[-which(!is.na(tmp$secret_stat)),]%>%select(-secret_stat)\n",
    "df <- df %>% select(-champ,-type_aire,-type_naf,-aire)\n",
    "df <- df[,c(TRUE,str_detect(colnames(df),\"nb_etab\")[-1])]\n",
    "tmp <- t(df)\n",
    "colnames(tmp) <- tmp[1,]\n",
    "tmp <-tmp[-1,]\n",
    "df <- tmp\n",
    "tmp <-df%>%as.data.frame\n",
    "tmp <-cbind(\"date\"=rep(NA,nrow(tmp)),tmp)\n",
    "for (i in 1:nrow(tmp)){\n",
    "    tmp.format.date <- strsplit(rownames(df)[i],\"nb_etab\")[[1]][2]\n",
    "    subsplit <-strsplit(tmp.format.date,\"T\")[[1]]\n",
    "    year<-subsplit[1]\n",
    "    trimester <- subsplit[2]\n",
    "    month <-switch(trimester,\n",
    "        \"1\"=\"01\",\n",
    "        \"2\"=\"04\",\n",
    "        \"3\"=\"07\",\n",
    "        \"4\"=\"10\"\n",
    "    )\n",
    "    tmp[i,1] <- paste(year,month,\"01\",sep=\"-\")\n",
    "}\n",
    "tmp$date <-as.Date(tmp$date)\n",
    "rownames(tmp) <- NULL\n",
    "\n",
    "df.indexes <-which(tmp$date <= as.Date(\"2020-01-01\"))\n",
    "train.indexes<- which(tmp$date < as.Date(\"2018-01-01\") )\n",
    "test.indexes <-which(tmp$date>= as.Date(\"2018-01-01\") & tmp$date <as.Date(\"2020-01-01\") )\n",
    "tmp <-tmp %>%select(-date)%>% mutate_all(as.numeric)\n",
    "#----------------------------\n",
    "# Eliminate total serie\n",
    "tmp <- tmp[,-ncol(tmp)]\n",
    "df.ts <- ts(tmp[df.indexes,],start=c(2010,1),frequency=4)# S'arrete à 2020 Q1 \n",
    "train.ts <-ts(tmp[train.indexes,],start=c(2010,1),frequency = 4)# S'arrete à 2017 Q4\n",
    "test.ts <-ts(tmp[test.indexes,],start = c(2018,1),frequency = 4)# Commence a 2018 Q1 --> 2019 Q4\n",
    "global.ts <- ts(tmp,start=c(2010,1),frequency=4)# Commence a 2010 Q1 --> 2021 Q2\n",
    "covid.ts <- ts(tmp[(df.indexes[length(df.indexes)]+1):nrow(tmp),],start=c(2020,2),frequency = 4)# Commence a 2020 Q2 --> 2021 Q2"
   ]
  },
  {
   "cell_type": "code",
   "execution_count": 19,
   "metadata": {
    "vscode": {
     "languageId": "r"
    }
   },
   "outputs": [],
   "source": [
    "require(tensorflow)\n",
    "require(keras)"
   ]
  },
  {
   "cell_type": "code",
   "execution_count": 20,
   "metadata": {
    "vscode": {
     "languageId": "r"
    }
   },
   "outputs": [],
   "source": [
    "#-----------------------\n",
    "# Preparing lab to num\n",
    "lab.to.num <-cbind(\"lab\"=colnames(df.ts),\"num\"=1:length(colnames(df.ts))) %>%as.data.frame\n",
    "lab.to.num$num <- as.numeric(lab.to.num$num)\n",
    "colnames(df.ts) <-lab.to.num$num"
   ]
  },
  {
   "cell_type": "markdown",
   "metadata": {},
   "source": [
    "<hr>\n",
    "\n",
    "<div id=\"LSTM\">\n",
    "\n",
    "# II. Construct LSTM models"
   ]
  },
  {
   "cell_type": "markdown",
   "metadata": {},
   "source": [
    "<hr>\n",
    "\n",
    "## II.A . Construct LSTM model for evaluation : LSTM stable and LSTM non stable"
   ]
  },
  {
   "cell_type": "markdown",
   "metadata": {},
   "source": [
    "<div id=\"LSTMA\">\n",
    "\n",
    "## II.A.1 : Evaluation for LSTM model with non stable TS"
   ]
  },
  {
   "cell_type": "code",
   "execution_count": 21,
   "metadata": {
    "vscode": {
     "languageId": "r"
    }
   },
   "outputs": [],
   "source": [
    "df.train <-df.ts %>% as.data.frame\n",
    "#-----------------------------\n",
    "# Scaled the train sample and get the sample factor parmas: mean + sd\n",
    "scaled_train <- scale(df.train)\n",
    "scale_factor <-list(\"center\"=attr(scaled_train,\"scaled:center\"),\"sd\"=attr(scaled_train,\"scaled:scale\"))\n",
    "#----------------\n",
    "# We d like to do a 6 Quarter forecast,\n",
    "# We need to base each prediction on 6 points\n",
    "prediction <- 5\n",
    "lag <- prediction"
   ]
  },
  {
   "cell_type": "code",
   "execution_count": 33,
   "metadata": {
    "vscode": {
     "languageId": "r"
    }
   },
   "outputs": [
    {
     "name": "stdout",
     "output_type": "stream",
     "text": [
      "X_train interval : 1 2 3 4 5 6 7 8 9 10 11 12 13 14 15 16 17 18 19 20 21 22 23 24 25 26 27 28 29 30 31 32 \n",
      "Y_train interval : 6 7 8 9 10 11 12 13 14 15 16 17 18 19 20 21 22 23 24 25 26 27 28 29 30 31 32 33 34 35 36 37\n",
      "x_train dim : 32 5 26 \n",
      "Y_train dim : 32 5 26"
     ]
    }
   ],
   "source": [
    "\n",
    "x_train_data <-t(sapply(\n",
    "    1:(dim(scaled_train)[1]-lag-prediction +1),\n",
    "    function(x){scaled_train[x:(x+lag-1),1]}\n",
    "))\n",
    "\n",
    "for(i in 2:ncol(scaled_train)){\n",
    "    new <-t(sapply(\n",
    "        1:(dim(scaled_train)[1]-lag-prediction +1),\n",
    "        function(x){scaled_train[x:(x+lag-1),i]}\n",
    "    ))\n",
    "    x_train_data <-cbind(x_train_data,new)\n",
    "    \n",
    "}\n",
    "x_train_arr <- array(\n",
    "    data=as.numeric(unlist(x_train_data)),\n",
    "    dim=c(\n",
    "        nrow(x_train_data),\n",
    "        ncol(x_train_data),\n",
    "        1\n",
    "        )\n",
    "\n",
    ")\n",
    "y_train_data <-  t(sapply(\n",
    "    (1+lag):(dim(scaled_train)[1]-prediction +1),\n",
    "    function(x){scaled_train[x:(x+prediction-1),1]}\n",
    "))\n",
    "y_train_arr <-array(\n",
    "    data=as.numeric(unlist(y_train_data)),\n",
    "    dim=c(\n",
    "        nrow(y_train_data),\n",
    "        prediction,\n",
    "        1\n",
    "    )\n",
    ")\n",
    "x_bis <-sapply(\n",
    "        1:ncol(scaled_train),\n",
    "        function(x){scaled_train[1:(32-1+1),x]}\n",
    ")\n",
    "\n",
    "x_bis_first_array <-array(\n",
    "    data=unlist(x_bis),\n",
    "    dim=c(nrow(x_bis),1,ncol(x_bis))\n",
    ")\n",
    "tot_array <-array(NA, dim=c(\n",
    "    nrow(x_bis),\n",
    "    lag,\n",
    "    ncol(x_bis)\n",
    "))\n",
    "tot_array[,1,] <- x_bis_first_array\n",
    "\n",
    "\n",
    "for (i in 2:lag){\n",
    "    new <-sapply(\n",
    "        1:ncol(scaled_train),\n",
    "        function(x){scaled_train[i:(i+32-1),x]}\n",
    "    )\n",
    "    new <- array(\n",
    "        data=unlist(new),\n",
    "        dim=c(nrow(x_bis),1,ncol(x_bis))\n",
    "    )\n",
    "    tot_array[,i,] <- new\n",
    "}\n",
    "x_train_arr_bis <- tot_array\n",
    "\n",
    "#------------------\n",
    "# Y_train\n",
    "\n",
    "y_train_data_bis <-  t(sapply(\n",
    "    (1+lag):(dim(scaled_train)[1]-prediction +1),\n",
    "    function(x){scaled_train[x:(x+prediction-1),1]}\n",
    "))\n",
    "\n",
    "tot_array <-array(NA, dim=c(\n",
    "    nrow(y_train_data_bis),\n",
    "    lag,\n",
    "    ncol(scaled_train)\n",
    "))\n",
    "\n",
    "tot_array[,,1] <- y_train_data_bis\n",
    "\n",
    "for (i in 2:ncol(scaled_train)){\n",
    "    new <-  t(sapply(\n",
    "        (1+lag):(dim(scaled_train)[1]-prediction +1),\n",
    "        function(x){scaled_train[x:(x+prediction-1),i]}\n",
    "    ))\n",
    "\n",
    "    new_array <- array(\n",
    "        data=as.numeric(unlist(new)),\n",
    "        dim=c(nrow(new),\n",
    "        ncol(new),\n",
    "        1)\n",
    "    )\n",
    "    tot_array[,,i] <- new_array\n",
    "\n",
    "}\n",
    "\n",
    "y_train_arr_bis <- tot_array\n",
    "cat(\"X_train interval :\",1:(dim(scaled_train)[1]-lag-prediction +1),\n",
    "\"\\nY_train interval :\",\n",
    "(1+lag):(dim(scaled_train)[1]-prediction +1))\n",
    "cat(\"\\nx_train dim :\",x_train_arr_bis%>%dim,\"\\nY_train dim :\",y_train_arr_bis%>%dim)\n"
   ]
  },
  {
   "cell_type": "code",
   "execution_count": 39,
   "metadata": {
    "vscode": {
     "languageId": "r"
    }
   },
   "outputs": [
    {
     "name": "stderr",
     "output_type": "stream",
     "text": [
      "Loaded Tensorflow version 2.9.1\n",
      "\n"
     ]
    }
   ],
   "source": [
    "LSTM_model_nonstable_eval <- keras_model_sequential()\n",
    "\n",
    "LSTM_model_nonstable_eval%>% layer_lstm(\n",
    "    units=50,\n",
    "    batch_input_shape=c(1,lag,26),#BATCH size , timestep ,features\n",
    "    return_sequences=T,\n",
    "    stateful=T\n",
    "\n",
    ")%>%\n",
    "layer_dropout(rate=0.5)%>%layer_lstm(\n",
    "    units =50,\n",
    "    return_sequences=T,stateful=T\n",
    ")%>% layer_dropout(rate=0.5)%>% time_distributed(keras::layer_dense(units=26))"
   ]
  },
  {
   "cell_type": "code",
   "execution_count": 40,
   "metadata": {
    "vscode": {
     "languageId": "r"
    }
   },
   "outputs": [
    {
     "name": "stdout",
     "output_type": "stream",
     "text": [
      "Model: \"sequential\"\n",
      "________________________________________________________________________________\n",
      " Layer (type)                       Output Shape                    Param #     \n",
      "================================================================================\n",
      " lstm_1 (LSTM)                      (1, 5, 50)                      15400       \n",
      " dropout_1 (Dropout)                (1, 5, 50)                      0           \n",
      " lstm (LSTM)                        (1, 5, 50)                      20200       \n",
      " dropout (Dropout)                  (1, 5, 50)                      0           \n",
      " time_distributed (TimeDistributed)  (1, 5, 26)                     1326        \n",
      "================================================================================\n",
      "Total params: 36,926\n",
      "Trainable params: 36,926\n",
      "Non-trainable params: 0\n",
      "________________________________________________________________________________\n"
     ]
    }
   ],
   "source": [
    "LSTM_model_nonstable_eval %>% compile(loss='mae',optimizer='adam',metrics='accuracy')\n",
    "summary(LSTM_model_nonstable_eval)"
   ]
  },
  {
   "cell_type": "code",
   "execution_count": 41,
   "metadata": {
    "vscode": {
     "languageId": "r"
    }
   },
   "outputs": [
    {
     "data": {
      "text/html": [
       "<table class=\"dataframe\">\n",
       "<caption>A data.frame: 5 × 26</caption>\n",
       "<thead>\n",
       "\t<tr><th></th><th scope=col>1</th><th scope=col>2</th><th scope=col>3</th><th scope=col>4</th><th scope=col>5</th><th scope=col>6</th><th scope=col>7</th><th scope=col>8</th><th scope=col>9</th><th scope=col>10</th><th scope=col>⋯</th><th scope=col>17</th><th scope=col>18</th><th scope=col>19</th><th scope=col>20</th><th scope=col>21</th><th scope=col>22</th><th scope=col>23</th><th scope=col>24</th><th scope=col>25</th><th scope=col>26</th></tr>\n",
       "\t<tr><th></th><th scope=col>&lt;dbl&gt;</th><th scope=col>&lt;dbl&gt;</th><th scope=col>&lt;dbl&gt;</th><th scope=col>&lt;dbl&gt;</th><th scope=col>&lt;dbl&gt;</th><th scope=col>&lt;dbl&gt;</th><th scope=col>&lt;dbl&gt;</th><th scope=col>&lt;dbl&gt;</th><th scope=col>&lt;dbl&gt;</th><th scope=col>&lt;dbl&gt;</th><th scope=col>⋯</th><th scope=col>&lt;dbl&gt;</th><th scope=col>&lt;dbl&gt;</th><th scope=col>&lt;dbl&gt;</th><th scope=col>&lt;dbl&gt;</th><th scope=col>&lt;dbl&gt;</th><th scope=col>&lt;dbl&gt;</th><th scope=col>&lt;dbl&gt;</th><th scope=col>&lt;dbl&gt;</th><th scope=col>&lt;dbl&gt;</th><th scope=col>&lt;dbl&gt;</th></tr>\n",
       "</thead>\n",
       "<tbody>\n",
       "\t<tr><th scope=row>32</th><td>-0.9885154</td><td>-0.3835744</td><td> 0.49805748</td><td>-1.0128611</td><td>-0.744352</td><td>-0.8432211</td><td>1.112694</td><td>0.44680279</td><td>0.7558509</td><td>-0.3398050</td><td>⋯</td><td>-0.9759873</td><td> 0.1341259</td><td>-0.7276666</td><td>-1.4859190</td><td>-0.07821977</td><td>-1.5925984</td><td>-0.9622902</td><td> 0.58929332</td><td>-0.5831566</td><td>0.8641878</td></tr>\n",
       "\t<tr><th scope=row>33</th><td>-1.1099005</td><td>-0.3835744</td><td>-0.02554141</td><td>-0.7516831</td><td>-1.029162</td><td> 0.4864737</td><td>1.194159</td><td>0.06909321</td><td>1.0184771</td><td>-0.7751802</td><td>⋯</td><td>-1.0218240</td><td> 0.3840878</td><td>-0.2756313</td><td>-0.4415302</td><td>-1.50355788</td><td>-1.1499100</td><td>-1.5829133</td><td>-0.81455835</td><td>-0.9552877</td><td>0.3190847</td></tr>\n",
       "\t<tr><th scope=row>34</th><td>-1.1503622</td><td>-0.4485601</td><td>-0.02554141</td><td>-0.4905051</td><td>-1.116795</td><td>-0.3999895</td><td>1.112694</td><td>0.44680279</td><td>0.9809591</td><td>-0.7751802</td><td>⋯</td><td>-0.9301505</td><td>-0.8657217</td><td>-1.6317372</td><td>-0.4415302</td><td>-0.96905609</td><td>-1.3712542</td><td>-1.6272435</td><td>-0.00180212</td><td>-1.1310162</td><td>0.6824867</td></tr>\n",
       "\t<tr><th scope=row>35</th><td>-1.3391834</td><td>-0.2536029</td><td>-0.02554141</td><td>-0.2293270</td><td>-1.949315</td><td>-0.8432211</td><td>1.031229</td><td>1.01336714</td><td>1.2435852</td><td>-1.0654303</td><td>⋯</td><td> 0.1240946</td><td>-1.8655693</td><td>-2.0837725</td><td>-0.7896598</td><td>-1.85989241</td><td>-0.9285659</td><td>-1.5829133</td><td>-1.47954072</td><td>-1.5961801</td><td>1.2275898</td></tr>\n",
       "\t<tr><th scope=row>36</th><td>-1.3796451</td><td>-0.1886172</td><td>-0.02554141</td><td>-0.7516831</td><td>-1.686414</td><td>-0.8432211</td><td>1.031229</td><td>1.20222193</td><td>1.3186213</td><td>-0.9203053</td><td>⋯</td><td>-0.8843138</td><td> 0.1341259</td><td>-1.6317372</td><td>-0.7896598</td><td>-1.50355788</td><td>-1.1499100</td><td>-1.6272435</td><td>-0.18651945</td><td>-1.5134843</td><td>1.5909918</td></tr>\n",
       "</tbody>\n",
       "</table>\n"
      ],
      "text/latex": [
       "A data.frame: 5 × 26\n",
       "\\begin{tabular}{r|lllllllllllllllllllll}\n",
       "  & 1 & 2 & 3 & 4 & 5 & 6 & 7 & 8 & 9 & 10 & ⋯ & 17 & 18 & 19 & 20 & 21 & 22 & 23 & 24 & 25 & 26\\\\\n",
       "  & <dbl> & <dbl> & <dbl> & <dbl> & <dbl> & <dbl> & <dbl> & <dbl> & <dbl> & <dbl> & ⋯ & <dbl> & <dbl> & <dbl> & <dbl> & <dbl> & <dbl> & <dbl> & <dbl> & <dbl> & <dbl>\\\\\n",
       "\\hline\n",
       "\t32 & -0.9885154 & -0.3835744 &  0.49805748 & -1.0128611 & -0.744352 & -0.8432211 & 1.112694 & 0.44680279 & 0.7558509 & -0.3398050 & ⋯ & -0.9759873 &  0.1341259 & -0.7276666 & -1.4859190 & -0.07821977 & -1.5925984 & -0.9622902 &  0.58929332 & -0.5831566 & 0.8641878\\\\\n",
       "\t33 & -1.1099005 & -0.3835744 & -0.02554141 & -0.7516831 & -1.029162 &  0.4864737 & 1.194159 & 0.06909321 & 1.0184771 & -0.7751802 & ⋯ & -1.0218240 &  0.3840878 & -0.2756313 & -0.4415302 & -1.50355788 & -1.1499100 & -1.5829133 & -0.81455835 & -0.9552877 & 0.3190847\\\\\n",
       "\t34 & -1.1503622 & -0.4485601 & -0.02554141 & -0.4905051 & -1.116795 & -0.3999895 & 1.112694 & 0.44680279 & 0.9809591 & -0.7751802 & ⋯ & -0.9301505 & -0.8657217 & -1.6317372 & -0.4415302 & -0.96905609 & -1.3712542 & -1.6272435 & -0.00180212 & -1.1310162 & 0.6824867\\\\\n",
       "\t35 & -1.3391834 & -0.2536029 & -0.02554141 & -0.2293270 & -1.949315 & -0.8432211 & 1.031229 & 1.01336714 & 1.2435852 & -1.0654303 & ⋯ &  0.1240946 & -1.8655693 & -2.0837725 & -0.7896598 & -1.85989241 & -0.9285659 & -1.5829133 & -1.47954072 & -1.5961801 & 1.2275898\\\\\n",
       "\t36 & -1.3796451 & -0.1886172 & -0.02554141 & -0.7516831 & -1.686414 & -0.8432211 & 1.031229 & 1.20222193 & 1.3186213 & -0.9203053 & ⋯ & -0.8843138 &  0.1341259 & -1.6317372 & -0.7896598 & -1.50355788 & -1.1499100 & -1.6272435 & -0.18651945 & -1.5134843 & 1.5909918\\\\\n",
       "\\end{tabular}\n"
      ],
      "text/markdown": [
       "\n",
       "A data.frame: 5 × 26\n",
       "\n",
       "| <!--/--> | 1 &lt;dbl&gt; | 2 &lt;dbl&gt; | 3 &lt;dbl&gt; | 4 &lt;dbl&gt; | 5 &lt;dbl&gt; | 6 &lt;dbl&gt; | 7 &lt;dbl&gt; | 8 &lt;dbl&gt; | 9 &lt;dbl&gt; | 10 &lt;dbl&gt; | ⋯ ⋯ | 17 &lt;dbl&gt; | 18 &lt;dbl&gt; | 19 &lt;dbl&gt; | 20 &lt;dbl&gt; | 21 &lt;dbl&gt; | 22 &lt;dbl&gt; | 23 &lt;dbl&gt; | 24 &lt;dbl&gt; | 25 &lt;dbl&gt; | 26 &lt;dbl&gt; |\n",
       "|---|---|---|---|---|---|---|---|---|---|---|---|---|---|---|---|---|---|---|---|---|---|\n",
       "| 32 | -0.9885154 | -0.3835744 |  0.49805748 | -1.0128611 | -0.744352 | -0.8432211 | 1.112694 | 0.44680279 | 0.7558509 | -0.3398050 | ⋯ | -0.9759873 |  0.1341259 | -0.7276666 | -1.4859190 | -0.07821977 | -1.5925984 | -0.9622902 |  0.58929332 | -0.5831566 | 0.8641878 |\n",
       "| 33 | -1.1099005 | -0.3835744 | -0.02554141 | -0.7516831 | -1.029162 |  0.4864737 | 1.194159 | 0.06909321 | 1.0184771 | -0.7751802 | ⋯ | -1.0218240 |  0.3840878 | -0.2756313 | -0.4415302 | -1.50355788 | -1.1499100 | -1.5829133 | -0.81455835 | -0.9552877 | 0.3190847 |\n",
       "| 34 | -1.1503622 | -0.4485601 | -0.02554141 | -0.4905051 | -1.116795 | -0.3999895 | 1.112694 | 0.44680279 | 0.9809591 | -0.7751802 | ⋯ | -0.9301505 | -0.8657217 | -1.6317372 | -0.4415302 | -0.96905609 | -1.3712542 | -1.6272435 | -0.00180212 | -1.1310162 | 0.6824867 |\n",
       "| 35 | -1.3391834 | -0.2536029 | -0.02554141 | -0.2293270 | -1.949315 | -0.8432211 | 1.031229 | 1.01336714 | 1.2435852 | -1.0654303 | ⋯ |  0.1240946 | -1.8655693 | -2.0837725 | -0.7896598 | -1.85989241 | -0.9285659 | -1.5829133 | -1.47954072 | -1.5961801 | 1.2275898 |\n",
       "| 36 | -1.3796451 | -0.1886172 | -0.02554141 | -0.7516831 | -1.686414 | -0.8432211 | 1.031229 | 1.20222193 | 1.3186213 | -0.9203053 | ⋯ | -0.8843138 |  0.1341259 | -1.6317372 | -0.7896598 | -1.50355788 | -1.1499100 | -1.6272435 | -0.18651945 | -1.5134843 | 1.5909918 |\n",
       "\n"
      ],
      "text/plain": [
       "   1          2          3           4          5         6          7       \n",
       "32 -0.9885154 -0.3835744  0.49805748 -1.0128611 -0.744352 -0.8432211 1.112694\n",
       "33 -1.1099005 -0.3835744 -0.02554141 -0.7516831 -1.029162  0.4864737 1.194159\n",
       "34 -1.1503622 -0.4485601 -0.02554141 -0.4905051 -1.116795 -0.3999895 1.112694\n",
       "35 -1.3391834 -0.2536029 -0.02554141 -0.2293270 -1.949315 -0.8432211 1.031229\n",
       "36 -1.3796451 -0.1886172 -0.02554141 -0.7516831 -1.686414 -0.8432211 1.031229\n",
       "   8          9         10         ⋯ 17         18         19        \n",
       "32 0.44680279 0.7558509 -0.3398050 ⋯ -0.9759873  0.1341259 -0.7276666\n",
       "33 0.06909321 1.0184771 -0.7751802 ⋯ -1.0218240  0.3840878 -0.2756313\n",
       "34 0.44680279 0.9809591 -0.7751802 ⋯ -0.9301505 -0.8657217 -1.6317372\n",
       "35 1.01336714 1.2435852 -1.0654303 ⋯  0.1240946 -1.8655693 -2.0837725\n",
       "36 1.20222193 1.3186213 -0.9203053 ⋯ -0.8843138  0.1341259 -1.6317372\n",
       "   20         21          22         23         24          25        \n",
       "32 -1.4859190 -0.07821977 -1.5925984 -0.9622902  0.58929332 -0.5831566\n",
       "33 -0.4415302 -1.50355788 -1.1499100 -1.5829133 -0.81455835 -0.9552877\n",
       "34 -0.4415302 -0.96905609 -1.3712542 -1.6272435 -0.00180212 -1.1310162\n",
       "35 -0.7896598 -1.85989241 -0.9285659 -1.5829133 -1.47954072 -1.5961801\n",
       "36 -0.7896598 -1.50355788 -1.1499100 -1.6272435 -0.18651945 -1.5134843\n",
       "   26       \n",
       "32 0.8641878\n",
       "33 0.3190847\n",
       "34 0.6824867\n",
       "35 1.2275898\n",
       "36 1.5909918"
      ]
     },
     "metadata": {},
     "output_type": "display_data"
    }
   ],
   "source": [
    "x_test <-df.train[(nrow(scaled_train)- prediction-prediction+1):(nrow(scaled_train)-prediction),]\n",
    "for(i in 1:ncol(x_test)){\n",
    "    x_test[,i] <-(x_test[,i] -scale_factor[[\"center\"]][i])/scale_factor[[\"sd\"]][i]\n",
    "}\n",
    "x_test_scaled <- x_test\n",
    "x_test_scaled\n",
    "x_test_array <- array(\n",
    "    data = as.numeric(unlist(x_test_scaled)),\n",
    "    dim=c(1,lag,26)\n",
    ")\n"
   ]
  },
  {
   "cell_type": "code",
   "execution_count": 42,
   "metadata": {
    "vscode": {
     "languageId": "r"
    }
   },
   "outputs": [
    {
     "data": {
      "text/html": [
       "<table class=\"dataframe\">\n",
       "<caption>A data.frame: 5 × 26</caption>\n",
       "<thead>\n",
       "\t<tr><th></th><th scope=col>1</th><th scope=col>2</th><th scope=col>3</th><th scope=col>4</th><th scope=col>5</th><th scope=col>6</th><th scope=col>7</th><th scope=col>8</th><th scope=col>9</th><th scope=col>10</th><th scope=col>⋯</th><th scope=col>17</th><th scope=col>18</th><th scope=col>19</th><th scope=col>20</th><th scope=col>21</th><th scope=col>22</th><th scope=col>23</th><th scope=col>24</th><th scope=col>25</th><th scope=col>26</th></tr>\n",
       "\t<tr><th></th><th scope=col>&lt;dbl&gt;</th><th scope=col>&lt;dbl&gt;</th><th scope=col>&lt;dbl&gt;</th><th scope=col>&lt;dbl&gt;</th><th scope=col>&lt;dbl&gt;</th><th scope=col>&lt;dbl&gt;</th><th scope=col>&lt;dbl&gt;</th><th scope=col>&lt;dbl&gt;</th><th scope=col>&lt;dbl&gt;</th><th scope=col>&lt;dbl&gt;</th><th scope=col>⋯</th><th scope=col>&lt;dbl&gt;</th><th scope=col>&lt;dbl&gt;</th><th scope=col>&lt;dbl&gt;</th><th scope=col>&lt;dbl&gt;</th><th scope=col>&lt;dbl&gt;</th><th scope=col>&lt;dbl&gt;</th><th scope=col>&lt;dbl&gt;</th><th scope=col>&lt;dbl&gt;</th><th scope=col>&lt;dbl&gt;</th><th scope=col>&lt;dbl&gt;</th></tr>\n",
       "</thead>\n",
       "<tbody>\n",
       "\t<tr><th scope=row>37</th><td>-1.487543</td><td> 0.2012973</td><td>-0.02554141</td><td>-0.7516831</td><td>-1.817865</td><td>-0.3999895</td><td>1.520019</td><td>1.768786</td><td>1.506211</td><td>-0.92030526</td><td>⋯</td><td>-0.7926403</td><td> 0.3840878</td><td>-1.179702</td><td>-0.78965979</td><td>-1.3253906</td><td>-1.3712542</td><td>-1.760234</td><td>-1.07316261</td><td>-1.968311</td><td>1.227590</td></tr>\n",
       "\t<tr><th scope=row>38</th><td>-1.568466</td><td>-0.6435174</td><td>-0.02554141</td><td>-0.7516831</td><td>-1.752140</td><td> 0.4864737</td><td>1.682949</td><td>1.579932</td><td>1.543729</td><td>-1.06543032</td><td>⋯</td><td>-0.6092933</td><td> 1.3839354</td><td>-1.179702</td><td>-0.09340062</td><td>-0.9690561</td><td>-0.9285659</td><td>-1.804564</td><td> 0.55234986</td><td>-1.761572</td><td>1.409291</td></tr>\n",
       "\t<tr><th scope=row>39</th><td>-1.743800</td><td>-0.6435174</td><td> 1.02165638</td><td>-0.4905051</td><td>-1.752140</td><td>-0.3999895</td><td>1.520019</td><td>1.391077</td><td>1.693801</td><td>-0.33980502</td><td>⋯</td><td> 0.2616048</td><td> 0.1341259</td><td>-1.179702</td><td>-0.44153020</td><td>-1.6817251</td><td>-1.1499100</td><td>-1.494253</td><td>-1.62731458</td><td>-1.988985</td><td>1.590992</td></tr>\n",
       "\t<tr><th scope=row>40</th><td>-1.797749</td><td>-0.8384746</td><td> 2.06885416</td><td>-0.4905051</td><td>-1.423513</td><td>-0.3999895</td><td>1.438554</td><td>1.202222</td><td>1.693801</td><td> 0.09557016</td><td>⋯</td><td>-0.7926403</td><td>-0.1158360</td><td>-1.179702</td><td>-0.78965979</td><td>-1.1472234</td><td>-0.7072217</td><td>-1.671574</td><td>-0.03874559</td><td>-2.030333</td><td>2.317796</td></tr>\n",
       "\t<tr><th scope=row>41</th><td>-1.838211</td><td>-1.0984176</td><td> 2.06885416</td><td>-0.4905051</td><td>-1.642597</td><td> 0.4864737</td><td>1.601484</td><td>1.202222</td><td>1.768838</td><td>-0.77518020</td><td>⋯</td><td>-0.9759873</td><td> 0.8840116</td><td>-2.535808</td><td>-1.13778937</td><td>-0.7908888</td><td>-1.3712542</td><td>-1.582913</td><td>-1.70120151</td><td>-2.392127</td><td>2.862899</td></tr>\n",
       "</tbody>\n",
       "</table>\n"
      ],
      "text/latex": [
       "A data.frame: 5 × 26\n",
       "\\begin{tabular}{r|lllllllllllllllllllll}\n",
       "  & 1 & 2 & 3 & 4 & 5 & 6 & 7 & 8 & 9 & 10 & ⋯ & 17 & 18 & 19 & 20 & 21 & 22 & 23 & 24 & 25 & 26\\\\\n",
       "  & <dbl> & <dbl> & <dbl> & <dbl> & <dbl> & <dbl> & <dbl> & <dbl> & <dbl> & <dbl> & ⋯ & <dbl> & <dbl> & <dbl> & <dbl> & <dbl> & <dbl> & <dbl> & <dbl> & <dbl> & <dbl>\\\\\n",
       "\\hline\n",
       "\t37 & -1.487543 &  0.2012973 & -0.02554141 & -0.7516831 & -1.817865 & -0.3999895 & 1.520019 & 1.768786 & 1.506211 & -0.92030526 & ⋯ & -0.7926403 &  0.3840878 & -1.179702 & -0.78965979 & -1.3253906 & -1.3712542 & -1.760234 & -1.07316261 & -1.968311 & 1.227590\\\\\n",
       "\t38 & -1.568466 & -0.6435174 & -0.02554141 & -0.7516831 & -1.752140 &  0.4864737 & 1.682949 & 1.579932 & 1.543729 & -1.06543032 & ⋯ & -0.6092933 &  1.3839354 & -1.179702 & -0.09340062 & -0.9690561 & -0.9285659 & -1.804564 &  0.55234986 & -1.761572 & 1.409291\\\\\n",
       "\t39 & -1.743800 & -0.6435174 &  1.02165638 & -0.4905051 & -1.752140 & -0.3999895 & 1.520019 & 1.391077 & 1.693801 & -0.33980502 & ⋯ &  0.2616048 &  0.1341259 & -1.179702 & -0.44153020 & -1.6817251 & -1.1499100 & -1.494253 & -1.62731458 & -1.988985 & 1.590992\\\\\n",
       "\t40 & -1.797749 & -0.8384746 &  2.06885416 & -0.4905051 & -1.423513 & -0.3999895 & 1.438554 & 1.202222 & 1.693801 &  0.09557016 & ⋯ & -0.7926403 & -0.1158360 & -1.179702 & -0.78965979 & -1.1472234 & -0.7072217 & -1.671574 & -0.03874559 & -2.030333 & 2.317796\\\\\n",
       "\t41 & -1.838211 & -1.0984176 &  2.06885416 & -0.4905051 & -1.642597 &  0.4864737 & 1.601484 & 1.202222 & 1.768838 & -0.77518020 & ⋯ & -0.9759873 &  0.8840116 & -2.535808 & -1.13778937 & -0.7908888 & -1.3712542 & -1.582913 & -1.70120151 & -2.392127 & 2.862899\\\\\n",
       "\\end{tabular}\n"
      ],
      "text/markdown": [
       "\n",
       "A data.frame: 5 × 26\n",
       "\n",
       "| <!--/--> | 1 &lt;dbl&gt; | 2 &lt;dbl&gt; | 3 &lt;dbl&gt; | 4 &lt;dbl&gt; | 5 &lt;dbl&gt; | 6 &lt;dbl&gt; | 7 &lt;dbl&gt; | 8 &lt;dbl&gt; | 9 &lt;dbl&gt; | 10 &lt;dbl&gt; | ⋯ ⋯ | 17 &lt;dbl&gt; | 18 &lt;dbl&gt; | 19 &lt;dbl&gt; | 20 &lt;dbl&gt; | 21 &lt;dbl&gt; | 22 &lt;dbl&gt; | 23 &lt;dbl&gt; | 24 &lt;dbl&gt; | 25 &lt;dbl&gt; | 26 &lt;dbl&gt; |\n",
       "|---|---|---|---|---|---|---|---|---|---|---|---|---|---|---|---|---|---|---|---|---|---|\n",
       "| 37 | -1.487543 |  0.2012973 | -0.02554141 | -0.7516831 | -1.817865 | -0.3999895 | 1.520019 | 1.768786 | 1.506211 | -0.92030526 | ⋯ | -0.7926403 |  0.3840878 | -1.179702 | -0.78965979 | -1.3253906 | -1.3712542 | -1.760234 | -1.07316261 | -1.968311 | 1.227590 |\n",
       "| 38 | -1.568466 | -0.6435174 | -0.02554141 | -0.7516831 | -1.752140 |  0.4864737 | 1.682949 | 1.579932 | 1.543729 | -1.06543032 | ⋯ | -0.6092933 |  1.3839354 | -1.179702 | -0.09340062 | -0.9690561 | -0.9285659 | -1.804564 |  0.55234986 | -1.761572 | 1.409291 |\n",
       "| 39 | -1.743800 | -0.6435174 |  1.02165638 | -0.4905051 | -1.752140 | -0.3999895 | 1.520019 | 1.391077 | 1.693801 | -0.33980502 | ⋯ |  0.2616048 |  0.1341259 | -1.179702 | -0.44153020 | -1.6817251 | -1.1499100 | -1.494253 | -1.62731458 | -1.988985 | 1.590992 |\n",
       "| 40 | -1.797749 | -0.8384746 |  2.06885416 | -0.4905051 | -1.423513 | -0.3999895 | 1.438554 | 1.202222 | 1.693801 |  0.09557016 | ⋯ | -0.7926403 | -0.1158360 | -1.179702 | -0.78965979 | -1.1472234 | -0.7072217 | -1.671574 | -0.03874559 | -2.030333 | 2.317796 |\n",
       "| 41 | -1.838211 | -1.0984176 |  2.06885416 | -0.4905051 | -1.642597 |  0.4864737 | 1.601484 | 1.202222 | 1.768838 | -0.77518020 | ⋯ | -0.9759873 |  0.8840116 | -2.535808 | -1.13778937 | -0.7908888 | -1.3712542 | -1.582913 | -1.70120151 | -2.392127 | 2.862899 |\n",
       "\n"
      ],
      "text/plain": [
       "   1         2          3           4          5         6          7       \n",
       "37 -1.487543  0.2012973 -0.02554141 -0.7516831 -1.817865 -0.3999895 1.520019\n",
       "38 -1.568466 -0.6435174 -0.02554141 -0.7516831 -1.752140  0.4864737 1.682949\n",
       "39 -1.743800 -0.6435174  1.02165638 -0.4905051 -1.752140 -0.3999895 1.520019\n",
       "40 -1.797749 -0.8384746  2.06885416 -0.4905051 -1.423513 -0.3999895 1.438554\n",
       "41 -1.838211 -1.0984176  2.06885416 -0.4905051 -1.642597  0.4864737 1.601484\n",
       "   8        9        10          ⋯ 17         18         19        20         \n",
       "37 1.768786 1.506211 -0.92030526 ⋯ -0.7926403  0.3840878 -1.179702 -0.78965979\n",
       "38 1.579932 1.543729 -1.06543032 ⋯ -0.6092933  1.3839354 -1.179702 -0.09340062\n",
       "39 1.391077 1.693801 -0.33980502 ⋯  0.2616048  0.1341259 -1.179702 -0.44153020\n",
       "40 1.202222 1.693801  0.09557016 ⋯ -0.7926403 -0.1158360 -1.179702 -0.78965979\n",
       "41 1.202222 1.768838 -0.77518020 ⋯ -0.9759873  0.8840116 -2.535808 -1.13778937\n",
       "   21         22         23        24          25        26      \n",
       "37 -1.3253906 -1.3712542 -1.760234 -1.07316261 -1.968311 1.227590\n",
       "38 -0.9690561 -0.9285659 -1.804564  0.55234986 -1.761572 1.409291\n",
       "39 -1.6817251 -1.1499100 -1.494253 -1.62731458 -1.988985 1.590992\n",
       "40 -1.1472234 -0.7072217 -1.671574 -0.03874559 -2.030333 2.317796\n",
       "41 -0.7908888 -1.3712542 -1.582913 -1.70120151 -2.392127 2.862899"
      ]
     },
     "metadata": {},
     "output_type": "display_data"
    },
    {
     "name": "stdout",
     "output_type": "stream",
     "text": [
      "\n",
      "time interval taken into X_test: 32 33 34 35 36\n",
      "time interval taken into Y_test: 37 38 39 40 41"
     ]
    }
   ],
   "source": [
    "y_test <-df.train[(nrow(scaled_train)- prediction+1):nrow(scaled_train),]\n",
    "for(i in 1:ncol(y_test)){\n",
    "    y_test[,i] <-(y_test[,i] -scale_factor[[\"center\"]][i])/scale_factor[[\"sd\"]][i]\n",
    "}\n",
    "y_test_scaled <- y_test\n",
    "y_test_scaled\n",
    "y_test_array <- array(\n",
    "    data = as.numeric(unlist(y_test_scaled)),\n",
    "    dim=c(1,lag,26)\n",
    ")\n",
    "cat(\"\\ntime interval taken into X_test:\",(nrow(scaled_train)- prediction-prediction+1):(nrow(scaled_train)-prediction))\n",
    "cat(\"\\ntime interval taken into Y_test:\", (nrow(scaled_train)- prediction+1):nrow(scaled_train))\n"
   ]
  },
  {
   "cell_type": "code",
   "execution_count": 49,
   "metadata": {
    "vscode": {
     "languageId": "r"
    }
   },
   "outputs": [],
   "source": [
    "history <-LSTM_model_nonstable_eval %>% keras::fit(\n",
    "    x=x_train_arr_bis,\n",
    "    y=y_train_arr_bis,\n",
    "    batch_size=1,\n",
    "    epochs=40,# Number of times to iterate over the training data\n",
    "    verbose=2,\n",
    "    shuffle=FALSE,\n",
    "    validation_data=list(x_test_array,y_test_array)\n",
    ")"
   ]
  },
  {
   "cell_type": "code",
   "execution_count": 50,
   "metadata": {
    "vscode": {
     "languageId": "r"
    }
   },
   "outputs": [
    {
     "data": {
      "image/png": "[encoded data removed]",
      "text/plain": [
       "plot without title"
      ]
     },
     "metadata": {
      "image/png": {
       "height": 420,
       "width": 420
      }
     },
     "output_type": "display_data"
    }
   ],
   "source": [
    "plot(history)"
   ]
  },
  {
   "cell_type": "code",
   "execution_count": 51,
   "metadata": {
    "vscode": {
     "languageId": "r"
    }
   },
   "outputs": [],
   "source": [
    "LSTM_model_nonstable_eval %>% keras::fit(\n",
    "    x=x_train_arr_bis,\n",
    "    y=y_train_arr_bis,\n",
    "    batch_size=1,\n",
    "    epochs=40,# Number of times to iterate over the training data\n",
    "    verbose=2,\n",
    "    shuffle=FALSE\n",
    ")"
   ]
  },
  {
   "cell_type": "code",
   "execution_count": 52,
   "metadata": {
    "vscode": {
     "languageId": "r"
    }
   },
   "outputs": [],
   "source": [
    "LSTM_forecast_eval_nonstable <- LSTM_model_nonstable_eval %>% predict(x_test_array,batch_size=1)"
   ]
  },
  {
   "cell_type": "code",
   "execution_count": 53,
   "metadata": {
    "vscode": {
     "languageId": "r"
    }
   },
   "outputs": [],
   "source": [
    "#-------------------------\n",
    "# Unscale predictions\n",
    "for (i in 1: dim(LSTM_forecast_eval_nonstable)[3]){\n",
    "    LSTM_forecast_eval_nonstable[,,i] <- LSTM_forecast_eval_nonstable[,,i] * scale_factor[[\"sd\"]][i] +scale_factor[[\"center\"]][i]\n",
    "}"
   ]
  },
  {
   "cell_type": "code",
   "execution_count": 55,
   "metadata": {
    "vscode": {
     "languageId": "r"
    }
   },
   "outputs": [
    {
     "data": {
      "image/png": "[encoded data removed]",
      "text/plain": [
       "plot without title"
      ]
     },
     "metadata": {
      "image/png": {
       "height": 420,
       "width": 420
      }
     },
     "output_type": "display_data"
    }
   ],
   "source": [
    "index_secteur <- 1\n",
    "pred <-c(df.ts[1:(nrow(scaled_train)-prediction),index_secteur],LSTM_forecast_eval_nonstable[,,index_secteur])\n",
    "pred <-ts(pred, start=c(2010,1),frequency=4)\n",
    "obs <- df.ts[,index_secteur]\n",
    "\n",
    "plot.ts(\n",
    "    cbind(pred,obs),\n",
    "    plot.type=\"single\",\n",
    "    lty=c(2,1),\n",
    "    lwd=1,\n",
    "    xlab=\"t\",\n",
    "    ylab=paste(\"Nombre d'Etablissements en GE pour le secteur :\",lab.to.num$lab[index_secteur],sep=\"\"),\n",
    "    \n",
    "    col=c(\"blue\",\"red\")\n",
    ")\n",
    "legend(\"topleft\",\n",
    "\n",
    "    legend=c(\"Prédictions\",\"Observations\"),\n",
    "    col=c(\"blue\",\"red\"),\n",
    "    lty=c(2,1),\n",
    "    lwd=1\n",
    ")"
   ]
  },
  {
   "cell_type": "code",
   "execution_count": 61,
   "metadata": {
    "vscode": {
     "languageId": "r"
    }
   },
   "outputs": [],
   "source": [
    "#-------------------------------\n",
    "#Save all plots\n",
    "for( index_secteur in 1:ncol(scaled_train)){\n",
    "\n",
    "    png(file=paste(\"plots/LSTM_non_stable/test_model/\",index_secteur,\".png\",sep=\"\"))\n",
    "    pred <-c(df.ts[1:(nrow(scaled_train)-prediction),index_secteur],LSTM_forecast_eval_nonstable[,,index_secteur])\n",
    "    pred <-ts(pred, start=c(2010,1),frequency=4)\n",
    "    obs <- df.ts[,index_secteur]\n",
    "\n",
    "    plot.ts(\n",
    "        cbind(pred,obs),\n",
    "        plot.type=\"single\",\n",
    "        lty=c(2,1),\n",
    "        lwd=1,\n",
    "        xlab=\"t\",\n",
    "        ylab=paste(\"Nombre d'Etablissements en GE pour le secteur :\",lab.to.num$lab[index_secteur],sep=\"\"),\n",
    "\n",
    "        col=c(\"blue\",\"red\")\n",
    "    )\n",
    "    legend(\"topleft\",\n",
    "\n",
    "        legend=c(\"Prédictions\",\"Observations\"),\n",
    "        col=c(\"blue\",\"red\"),\n",
    "        lty=c(2,1),\n",
    "        lwd=1\n",
    "    )\n",
    "    dev.off()\n",
    "}"
   ]
  },
  {
   "cell_type": "code",
   "execution_count": 122,
   "metadata": {
    "vscode": {
     "languageId": "r"
    }
   },
   "outputs": [],
   "source": [
    "#----------------------\n",
    "#Save model\n",
    "#save_model_tf(LSTM_model,\"models/LSTM_non_stable\")"
   ]
  },
  {
   "cell_type": "markdown",
   "metadata": {},
   "source": [
    "<hr>\n",
    "\n",
    "### Analyse des ecarts entre test et prediction *RMSE, MAE,MAPE,sMAPE*"
   ]
  },
  {
   "cell_type": "code",
   "execution_count": 65,
   "metadata": {
    "vscode": {
     "languageId": "r"
    }
   },
   "outputs": [],
   "source": [
    "RMSE <- c()\n",
    "for (index_secteur in 1:dim(LSTM_forecast_eval_nonstable)[3]){\n",
    "    pred <- c(df.ts[1:(nrow(scaled_train)-prediction),index_secteur],LSTM_forecast_eval_nonstable[,,index_secteur])\n",
    "    pred <-ts(pred, start=c(2010,1),frequency=4)\n",
    "    obs <- df.ts[,index_secteur]\n",
    "    obs <-ts(obs, start=c(2010,1),frequency=4)\n",
    "    obs <- obs[(length(obs)-5+1):length(obs)]\n",
    "    pred <- pred[(length(pred)-5+1):length(pred)]\n",
    "    RMSE <-c(RMSE,sqrt(mean((obs-pred)^2)))\n",
    "}\n",
    "RMSE <- RMSE %>% as.data.frame()\n",
    "colnames(RMSE) <- \"RMSE\""
   ]
  },
  {
   "cell_type": "code",
   "execution_count": 66,
   "metadata": {
    "vscode": {
     "languageId": "r"
    }
   },
   "outputs": [],
   "source": [
    "MAE <- c()\n",
    "for (index_secteur in 1:dim(LSTM_forecast_eval_nonstable)[3]){\n",
    "    pred <- c(df.ts[1:(nrow(scaled_train)-prediction),index_secteur],LSTM_forecast_eval_nonstable[,,index_secteur])\n",
    "    pred <-ts(pred, start=c(2010,1),frequency=4)\n",
    "    obs <- df.ts[,index_secteur]\n",
    "    obs <-ts(obs, start=c(2010,1),frequency=4)\n",
    "    obs <- obs[(length(obs)-5+1):length(obs)]\n",
    "    pred <- pred[(length(pred)-5+1):length(pred)]\n",
    "    MAE <-c(MAE,mean(abs(obs-pred)))\n",
    "    \n",
    "}\n",
    "MAE <- MAE %>%as.data.frame()\n",
    "colnames(MAE) <- \"MAE\""
   ]
  },
  {
   "cell_type": "code",
   "execution_count": 67,
   "metadata": {
    "vscode": {
     "languageId": "r"
    }
   },
   "outputs": [],
   "source": [
    "MAPE <- c()\n",
    "for (index_secteur in 1:dim(LSTM_forecast_eval_nonstable)[3]){\n",
    "    pred <- c(df.ts[1:(nrow(scaled_train)-prediction),index_secteur],LSTM_forecast_eval_nonstable[,,index_secteur])\n",
    "    pred <-ts(pred, start=c(2010,1),frequency=4)\n",
    "    obs <- df.ts[,index_secteur]\n",
    "    obs <-ts(obs, start=c(2010,1),frequency=4)\n",
    "    obs <- obs[(length(obs)-5+1):length(obs)]\n",
    "    pred <- pred[(length(pred)-5+1):length(pred)]\n",
    "    \n",
    "    MAPE <-c(MAPE,mean(abs((obs-pred)*100/obs)))\n",
    "    \n",
    "}\n",
    "MAPE <- MAPE %>%as.data.frame()\n",
    "colnames(MAPE) <- \"MAPE\""
   ]
  },
  {
   "cell_type": "code",
   "execution_count": 68,
   "metadata": {
    "vscode": {
     "languageId": "r"
    }
   },
   "outputs": [],
   "source": [
    "sMAPE <- c()\n",
    "for (index_secteur in 1:dim(LSTM_forecast_eval_nonstable)[3]){\n",
    "    pred <- c(df.ts[1:(nrow(scaled_train)-prediction),index_secteur],LSTM_forecast_eval_nonstable[,,index_secteur])\n",
    "    pred <-ts(pred, start=c(2010,1),frequency=4)\n",
    "    obs <- df.ts[,index_secteur]\n",
    "    obs <-ts(obs, start=c(2010,1),frequency=4)\n",
    "    obs <- obs[(length(obs)-5+1):length(obs)]\n",
    "    pred <- pred[(length(pred)-5+1):length(pred)]\n",
    "    sMAPE <-c(sMAPE,mean(200*abs(obs-pred)/(obs+pred)))\n",
    "    \n",
    "}\n",
    "sMAPE <- sMAPE %>%as.data.frame()\n",
    "colnames(sMAPE) <- \"sMAPE\""
   ]
  },
  {
   "cell_type": "code",
   "execution_count": 69,
   "metadata": {
    "vscode": {
     "languageId": "r"
    }
   },
   "outputs": [
    {
     "data": {
      "text/html": [
       "<table class=\"dataframe\">\n",
       "<caption>A data.frame: 26 × 5</caption>\n",
       "<thead>\n",
       "\t<tr><th scope=col>secteurs</th><th scope=col>RMSE</th><th scope=col>MAE</th><th scope=col>MAPE</th><th scope=col>sMAPE</th></tr>\n",
       "\t<tr><th scope=col>&lt;chr&gt;</th><th scope=col>&lt;dbl&gt;</th><th scope=col>&lt;dbl&gt;</th><th scope=col>&lt;dbl&gt;</th><th scope=col>&lt;dbl&gt;</th></tr>\n",
       "</thead>\n",
       "<tbody>\n",
       "\t<tr><td>64 Activités des services financiers, hors assurance et</td><td>15.4008043</td><td>13.8315816</td><td>1.2969654</td><td>1.2867363</td></tr>\n",
       "\t<tr><td>65-66 Assurance ; Activités auxiliaires de services fin</td><td> 6.1942193</td><td> 5.6269790</td><td>1.4871079</td><td>1.4841208</td></tr>\n",
       "\t<tr><td>852 Enseignement primaire                              </td><td> 1.3840540</td><td> 1.1695135</td><td>1.6269449</td><td>1.6411457</td></tr>\n",
       "\t<tr><td>853 Enseignement secondaire                            </td><td> 0.2825570</td><td> 0.2615932</td><td>0.1798667</td><td>0.1797972</td></tr>\n",
       "\t<tr><td>85x Enseignement / Autre                               </td><td> 7.0793189</td><td> 6.4479571</td><td>0.6037501</td><td>0.6031297</td></tr>\n",
       "\t<tr><td>861 Activités hospitalières                            </td><td> 0.8751224</td><td> 0.6865493</td><td>0.6968406</td><td>0.7001899</td></tr>\n",
       "\t<tr><td>862 Activité des médecins et des dentistes             </td><td> 1.6821788</td><td> 1.2346536</td><td>0.6860385</td><td>0.6894109</td></tr>\n",
       "\t<tr><td>869 Autres activités pour la santé humaine             </td><td> 1.4708377</td><td> 1.1726963</td><td>0.8372117</td><td>0.8427099</td></tr>\n",
       "\t<tr><td>87 Hébergement médico-social et social                 </td><td> 2.8149666</td><td> 2.3738631</td><td>0.2407257</td><td>0.2411337</td></tr>\n",
       "\t<tr><td>881 Action sociale sans hébergement pour personnes âgée</td><td> 2.3984540</td><td> 1.9659049</td><td>0.3562212</td><td>0.3568211</td></tr>\n",
       "\t<tr><td>889 Autre action sociale sans hébergement              </td><td> 7.0400401</td><td> 4.6304665</td><td>0.3085787</td><td>0.3096228</td></tr>\n",
       "\t<tr><td>931 Activités liées au sport                           </td><td> 5.6656086</td><td> 5.0404812</td><td>0.3752137</td><td>0.3743240</td></tr>\n",
       "\t<tr><td>932 Activités récréatives et de loisirs                </td><td> 8.5471309</td><td> 7.1209523</td><td>4.4591217</td><td>4.3208850</td></tr>\n",
       "\t<tr><td>FZ_Construction                                        </td><td> 1.2455426</td><td> 1.1589555</td><td>3.1101655</td><td>3.1245379</td></tr>\n",
       "\t<tr><td>GZ_Commerce, réparation d'automobiles et de motocycles </td><td> 3.6119479</td><td> 3.3397509</td><td>2.3031630</td><td>2.3346850</td></tr>\n",
       "\t<tr><td>HZ_Transports et entreposage                           </td><td> 0.1950912</td><td> 0.1794287</td><td>1.6311701</td><td>1.6156047</td></tr>\n",
       "\t<tr><td>IZ_Hébergement et restauration                         </td><td> 8.6793521</td><td> 7.2123631</td><td>3.2018873</td><td>3.1996643</td></tr>\n",
       "\t<tr><td>JA_Edition et audiovisuel                              </td><td> 2.0880075</td><td> 1.6852500</td><td>1.4680618</td><td>1.4799333</td></tr>\n",
       "\t<tr><td>JB-JC_Télécommunications et ativités informatiques     </td><td> 1.2277469</td><td> 0.7655783</td><td>6.5088444</td><td>6.0035551</td></tr>\n",
       "\t<tr><td>LZ_Activités immobilières                              </td><td> 0.9535664</td><td> 0.7609292</td><td>2.7303176</td><td>2.6826933</td></tr>\n",
       "\t<tr><td>MA_Activités juridiques, de conseil et d'ingénierie    </td><td> 1.6440726</td><td> 1.3115910</td><td>0.6843889</td><td>0.6844296</td></tr>\n",
       "\t<tr><td>MB-MC_R&amp;d et autres activités scientifiques et techniqu</td><td> 1.0902990</td><td> 1.0066865</td><td>1.6793452</td><td>1.6698703</td></tr>\n",
       "\t<tr><td>NZ_Activités de services administratifs et de soutien  </td><td> 3.1533947</td><td> 2.7495157</td><td>0.9817408</td><td>0.9764849</td></tr>\n",
       "\t<tr><td>RZ_Arts, spectacles et activités récréatives           </td><td>21.9791833</td><td>19.5166952</td><td>1.9286032</td><td>1.9422689</td></tr>\n",
       "\t<tr><td>SZ_autres activités de services                        </td><td>28.7980647</td><td>25.9219269</td><td>0.9061695</td><td>0.9011031</td></tr>\n",
       "\t<tr><td>i_Industrie et agriculture                             </td><td> 3.9543164</td><td> 2.8456638</td><td>4.0837458</td><td>4.2428543</td></tr>\n",
       "</tbody>\n",
       "</table>\n"
      ],
      "text/latex": [
       "A data.frame: 26 × 5\n",
       "\\begin{tabular}{lllll}\n",
       " secteurs & RMSE & MAE & MAPE & sMAPE\\\\\n",
       " <chr> & <dbl> & <dbl> & <dbl> & <dbl>\\\\\n",
       "\\hline\n",
       "\t 64 Activités des services financiers, hors assurance et & 15.4008043 & 13.8315816 & 1.2969654 & 1.2867363\\\\\n",
       "\t 65-66 Assurance ; Activités auxiliaires de services fin &  6.1942193 &  5.6269790 & 1.4871079 & 1.4841208\\\\\n",
       "\t 852 Enseignement primaire                               &  1.3840540 &  1.1695135 & 1.6269449 & 1.6411457\\\\\n",
       "\t 853 Enseignement secondaire                             &  0.2825570 &  0.2615932 & 0.1798667 & 0.1797972\\\\\n",
       "\t 85x Enseignement / Autre                                &  7.0793189 &  6.4479571 & 0.6037501 & 0.6031297\\\\\n",
       "\t 861 Activités hospitalières                             &  0.8751224 &  0.6865493 & 0.6968406 & 0.7001899\\\\\n",
       "\t 862 Activité des médecins et des dentistes              &  1.6821788 &  1.2346536 & 0.6860385 & 0.6894109\\\\\n",
       "\t 869 Autres activités pour la santé humaine              &  1.4708377 &  1.1726963 & 0.8372117 & 0.8427099\\\\\n",
       "\t 87 Hébergement médico-social et social                  &  2.8149666 &  2.3738631 & 0.2407257 & 0.2411337\\\\\n",
       "\t 881 Action sociale sans hébergement pour personnes âgée &  2.3984540 &  1.9659049 & 0.3562212 & 0.3568211\\\\\n",
       "\t 889 Autre action sociale sans hébergement               &  7.0400401 &  4.6304665 & 0.3085787 & 0.3096228\\\\\n",
       "\t 931 Activités liées au sport                            &  5.6656086 &  5.0404812 & 0.3752137 & 0.3743240\\\\\n",
       "\t 932 Activités récréatives et de loisirs                 &  8.5471309 &  7.1209523 & 4.4591217 & 4.3208850\\\\\n",
       "\t FZ\\_Construction                                         &  1.2455426 &  1.1589555 & 3.1101655 & 3.1245379\\\\\n",
       "\t GZ\\_Commerce, réparation d'automobiles et de motocycles  &  3.6119479 &  3.3397509 & 2.3031630 & 2.3346850\\\\\n",
       "\t HZ\\_Transports et entreposage                            &  0.1950912 &  0.1794287 & 1.6311701 & 1.6156047\\\\\n",
       "\t IZ\\_Hébergement et restauration                          &  8.6793521 &  7.2123631 & 3.2018873 & 3.1996643\\\\\n",
       "\t JA\\_Edition et audiovisuel                               &  2.0880075 &  1.6852500 & 1.4680618 & 1.4799333\\\\\n",
       "\t JB-JC\\_Télécommunications et ativités informatiques      &  1.2277469 &  0.7655783 & 6.5088444 & 6.0035551\\\\\n",
       "\t LZ\\_Activités immobilières                               &  0.9535664 &  0.7609292 & 2.7303176 & 2.6826933\\\\\n",
       "\t MA\\_Activités juridiques, de conseil et d'ingénierie     &  1.6440726 &  1.3115910 & 0.6843889 & 0.6844296\\\\\n",
       "\t MB-MC\\_R\\&d et autres activités scientifiques et techniqu &  1.0902990 &  1.0066865 & 1.6793452 & 1.6698703\\\\\n",
       "\t NZ\\_Activités de services administratifs et de soutien   &  3.1533947 &  2.7495157 & 0.9817408 & 0.9764849\\\\\n",
       "\t RZ\\_Arts, spectacles et activités récréatives            & 21.9791833 & 19.5166952 & 1.9286032 & 1.9422689\\\\\n",
       "\t SZ\\_autres activités de services                         & 28.7980647 & 25.9219269 & 0.9061695 & 0.9011031\\\\\n",
       "\t i\\_Industrie et agriculture                              &  3.9543164 &  2.8456638 & 4.0837458 & 4.2428543\\\\\n",
       "\\end{tabular}\n"
      ],
      "text/markdown": [
       "\n",
       "A data.frame: 26 × 5\n",
       "\n",
       "| secteurs &lt;chr&gt; | RMSE &lt;dbl&gt; | MAE &lt;dbl&gt; | MAPE &lt;dbl&gt; | sMAPE &lt;dbl&gt; |\n",
       "|---|---|---|---|---|\n",
       "| 64 Activités des services financiers, hors assurance et | 15.4008043 | 13.8315816 | 1.2969654 | 1.2867363 |\n",
       "| 65-66 Assurance ; Activités auxiliaires de services fin |  6.1942193 |  5.6269790 | 1.4871079 | 1.4841208 |\n",
       "| 852 Enseignement primaire                               |  1.3840540 |  1.1695135 | 1.6269449 | 1.6411457 |\n",
       "| 853 Enseignement secondaire                             |  0.2825570 |  0.2615932 | 0.1798667 | 0.1797972 |\n",
       "| 85x Enseignement / Autre                                |  7.0793189 |  6.4479571 | 0.6037501 | 0.6031297 |\n",
       "| 861 Activités hospitalières                             |  0.8751224 |  0.6865493 | 0.6968406 | 0.7001899 |\n",
       "| 862 Activité des médecins et des dentistes              |  1.6821788 |  1.2346536 | 0.6860385 | 0.6894109 |\n",
       "| 869 Autres activités pour la santé humaine              |  1.4708377 |  1.1726963 | 0.8372117 | 0.8427099 |\n",
       "| 87 Hébergement médico-social et social                  |  2.8149666 |  2.3738631 | 0.2407257 | 0.2411337 |\n",
       "| 881 Action sociale sans hébergement pour personnes âgée |  2.3984540 |  1.9659049 | 0.3562212 | 0.3568211 |\n",
       "| 889 Autre action sociale sans hébergement               |  7.0400401 |  4.6304665 | 0.3085787 | 0.3096228 |\n",
       "| 931 Activités liées au sport                            |  5.6656086 |  5.0404812 | 0.3752137 | 0.3743240 |\n",
       "| 932 Activités récréatives et de loisirs                 |  8.5471309 |  7.1209523 | 4.4591217 | 4.3208850 |\n",
       "| FZ_Construction                                         |  1.2455426 |  1.1589555 | 3.1101655 | 3.1245379 |\n",
       "| GZ_Commerce, réparation d'automobiles et de motocycles  |  3.6119479 |  3.3397509 | 2.3031630 | 2.3346850 |\n",
       "| HZ_Transports et entreposage                            |  0.1950912 |  0.1794287 | 1.6311701 | 1.6156047 |\n",
       "| IZ_Hébergement et restauration                          |  8.6793521 |  7.2123631 | 3.2018873 | 3.1996643 |\n",
       "| JA_Edition et audiovisuel                               |  2.0880075 |  1.6852500 | 1.4680618 | 1.4799333 |\n",
       "| JB-JC_Télécommunications et ativités informatiques      |  1.2277469 |  0.7655783 | 6.5088444 | 6.0035551 |\n",
       "| LZ_Activités immobilières                               |  0.9535664 |  0.7609292 | 2.7303176 | 2.6826933 |\n",
       "| MA_Activités juridiques, de conseil et d'ingénierie     |  1.6440726 |  1.3115910 | 0.6843889 | 0.6844296 |\n",
       "| MB-MC_R&amp;d et autres activités scientifiques et techniqu |  1.0902990 |  1.0066865 | 1.6793452 | 1.6698703 |\n",
       "| NZ_Activités de services administratifs et de soutien   |  3.1533947 |  2.7495157 | 0.9817408 | 0.9764849 |\n",
       "| RZ_Arts, spectacles et activités récréatives            | 21.9791833 | 19.5166952 | 1.9286032 | 1.9422689 |\n",
       "| SZ_autres activités de services                         | 28.7980647 | 25.9219269 | 0.9061695 | 0.9011031 |\n",
       "| i_Industrie et agriculture                              |  3.9543164 |  2.8456638 | 4.0837458 | 4.2428543 |\n",
       "\n"
      ],
      "text/plain": [
       "   secteurs                                                RMSE      \n",
       "1  64 Activités des services financiers, hors assurance et 15.4008043\n",
       "2  65-66 Assurance ; Activités auxiliaires de services fin  6.1942193\n",
       "3  852 Enseignement primaire                                1.3840540\n",
       "4  853 Enseignement secondaire                              0.2825570\n",
       "5  85x Enseignement / Autre                                 7.0793189\n",
       "6  861 Activités hospitalières                              0.8751224\n",
       "7  862 Activité des médecins et des dentistes               1.6821788\n",
       "8  869 Autres activités pour la santé humaine               1.4708377\n",
       "9  87 Hébergement médico-social et social                   2.8149666\n",
       "10 881 Action sociale sans hébergement pour personnes âgée  2.3984540\n",
       "11 889 Autre action sociale sans hébergement                7.0400401\n",
       "12 931 Activités liées au sport                             5.6656086\n",
       "13 932 Activités récréatives et de loisirs                  8.5471309\n",
       "14 FZ_Construction                                          1.2455426\n",
       "15 GZ_Commerce, réparation d'automobiles et de motocycles   3.6119479\n",
       "16 HZ_Transports et entreposage                             0.1950912\n",
       "17 IZ_Hébergement et restauration                           8.6793521\n",
       "18 JA_Edition et audiovisuel                                2.0880075\n",
       "19 JB-JC_Télécommunications et ativités informatiques       1.2277469\n",
       "20 LZ_Activités immobilières                                0.9535664\n",
       "21 MA_Activités juridiques, de conseil et d'ingénierie      1.6440726\n",
       "22 MB-MC_R&d et autres activités scientifiques et techniqu  1.0902990\n",
       "23 NZ_Activités de services administratifs et de soutien    3.1533947\n",
       "24 RZ_Arts, spectacles et activités récréatives            21.9791833\n",
       "25 SZ_autres activités de services                         28.7980647\n",
       "26 i_Industrie et agriculture                               3.9543164\n",
       "   MAE        MAPE      sMAPE    \n",
       "1  13.8315816 1.2969654 1.2867363\n",
       "2   5.6269790 1.4871079 1.4841208\n",
       "3   1.1695135 1.6269449 1.6411457\n",
       "4   0.2615932 0.1798667 0.1797972\n",
       "5   6.4479571 0.6037501 0.6031297\n",
       "6   0.6865493 0.6968406 0.7001899\n",
       "7   1.2346536 0.6860385 0.6894109\n",
       "8   1.1726963 0.8372117 0.8427099\n",
       "9   2.3738631 0.2407257 0.2411337\n",
       "10  1.9659049 0.3562212 0.3568211\n",
       "11  4.6304665 0.3085787 0.3096228\n",
       "12  5.0404812 0.3752137 0.3743240\n",
       "13  7.1209523 4.4591217 4.3208850\n",
       "14  1.1589555 3.1101655 3.1245379\n",
       "15  3.3397509 2.3031630 2.3346850\n",
       "16  0.1794287 1.6311701 1.6156047\n",
       "17  7.2123631 3.2018873 3.1996643\n",
       "18  1.6852500 1.4680618 1.4799333\n",
       "19  0.7655783 6.5088444 6.0035551\n",
       "20  0.7609292 2.7303176 2.6826933\n",
       "21  1.3115910 0.6843889 0.6844296\n",
       "22  1.0066865 1.6793452 1.6698703\n",
       "23  2.7495157 0.9817408 0.9764849\n",
       "24 19.5166952 1.9286032 1.9422689\n",
       "25 25.9219269 0.9061695 0.9011031\n",
       "26  2.8456638 4.0837458 4.2428543"
      ]
     },
     "metadata": {},
     "output_type": "display_data"
    }
   ],
   "source": [
    "predict_accuracy_nonstable <- cbind(\"secteurs\"=lab.to.num$lab,RMSE,MAE,MAPE,sMAPE)\n",
    "predict_accuracy_nonstable"
   ]
  },
  {
   "cell_type": "markdown",
   "metadata": {},
   "source": [
    "<hr>\n",
    "\n",
    "## II.A.2 Evaluation : LSTM model with stable TS"
   ]
  },
  {
   "cell_type": "code",
   "execution_count": 70,
   "metadata": {
    "vscode": {
     "languageId": "r"
    }
   },
   "outputs": [],
   "source": [
    "df.diff <-diff(df.ts)\n",
    "df.train <-df.diff%>%as.data.frame\n",
    "scaled_train <- scale(df.train)\n",
    "scale_factor <-list(\"center\"=attr(scaled_train,\"scaled:center\"),\"sd\"=attr(scaled_train,\"scaled:scale\"))\n",
    "prediction <- 5\n",
    "lag <- prediction"
   ]
  },
  {
   "cell_type": "code",
   "execution_count": 71,
   "metadata": {
    "vscode": {
     "languageId": "r"
    }
   },
   "outputs": [
    {
     "name": "stdout",
     "output_type": "stream",
     "text": [
      "X_train interval : 1 2 3 4 5 6 7 8 9 10 11 12 13 14 15 16 17 18 19 20 21 22 23 24 25 26 27 28 29 30 31 \n",
      "Y_train interval : 6 7 8 9 10 11 12 13 14 15 16 17 18 19 20 21 22 23 24 25 26 27 28 29 30 31 32 33 34 35 36"
     ]
    }
   ],
   "source": [
    "x_train_data <-t(sapply(\n",
    "    1:(dim(scaled_train)[1]-lag-prediction +1),\n",
    "    function(x){scaled_train[x:(x+lag-1),1]}\n",
    "))\n",
    "\n",
    "for(i in 2:ncol(scaled_train)){\n",
    "    new <-t(sapply(\n",
    "        1:(dim(scaled_train)[1]-lag-prediction +1),\n",
    "        function(x){scaled_train[x:(x+lag-1),i]}\n",
    "    ))\n",
    "    x_train_data <-cbind(x_train_data,new)\n",
    "    \n",
    "}\n",
    "\n",
    "x_train_arr <- array(\n",
    "    data=as.numeric(unlist(x_train_data)),\n",
    "    dim=c(\n",
    "        nrow(x_train_data),\n",
    "        ncol(x_train_data),\n",
    "        1\n",
    "        )\n",
    "\n",
    ")\n",
    "\n",
    "y_train_data <-  t(sapply(\n",
    "    (1+lag):(dim(scaled_train)[1]-prediction +1),\n",
    "    function(x){scaled_train[x:(x+prediction-1),1]}\n",
    "))\n",
    "y_train_arr <-array(\n",
    "    data=as.numeric(unlist(y_train_data)),\n",
    "    dim=c(\n",
    "        nrow(y_train_data),\n",
    "        prediction,\n",
    "        1\n",
    "    )\n",
    ")\n",
    "cat(\"X_train interval :\",1:(dim(scaled_train)[1]-lag-prediction +1),\n",
    "\"\\nY_train interval :\",\n",
    "(1+lag):(dim(scaled_train)[1]-prediction +1))\n",
    "\n",
    "# Expected :  X_train 1:28, Y_train 7:34\n"
   ]
  },
  {
   "cell_type": "code",
   "execution_count": 72,
   "metadata": {
    "vscode": {
     "languageId": "r"
    }
   },
   "outputs": [
    {
     "data": {
      "text/html": [
       "<style>\n",
       ".list-inline {list-style: none; margin:0; padding: 0}\n",
       ".list-inline>li {display: inline-block}\n",
       ".list-inline>li:not(:last-child)::after {content: \"\\00b7\"; padding: 0 .5ex}\n",
       "</style>\n",
       "<ol class=list-inline><li>31</li><li>130</li><li>1</li></ol>\n"
      ],
      "text/latex": [
       "\\begin{enumerate*}\n",
       "\\item 31\n",
       "\\item 130\n",
       "\\item 1\n",
       "\\end{enumerate*}\n"
      ],
      "text/markdown": [
       "1. 31\n",
       "2. 130\n",
       "3. 1\n",
       "\n",
       "\n"
      ],
      "text/plain": [
       "[1]  31 130   1"
      ]
     },
     "metadata": {},
     "output_type": "display_data"
    },
    {
     "data": {
      "text/html": [
       "<style>\n",
       ".list-inline {list-style: none; margin:0; padding: 0}\n",
       ".list-inline>li {display: inline-block}\n",
       ".list-inline>li:not(:last-child)::after {content: \"\\00b7\"; padding: 0 .5ex}\n",
       "</style>\n",
       "<ol class=list-inline><li>31</li><li>5</li><li>1</li></ol>\n"
      ],
      "text/latex": [
       "\\begin{enumerate*}\n",
       "\\item 31\n",
       "\\item 5\n",
       "\\item 1\n",
       "\\end{enumerate*}\n"
      ],
      "text/markdown": [
       "1. 31\n",
       "2. 5\n",
       "3. 1\n",
       "\n",
       "\n"
      ],
      "text/plain": [
       "[1] 31  5  1"
      ]
     },
     "metadata": {},
     "output_type": "display_data"
    }
   ],
   "source": [
    "x_train_arr %>%dim\n",
    "y_train_arr%>%dim"
   ]
  },
  {
   "cell_type": "code",
   "execution_count": 74,
   "metadata": {
    "vscode": {
     "languageId": "r"
    }
   },
   "outputs": [
    {
     "data": {
      "text/html": [
       "<style>\n",
       ".list-inline {list-style: none; margin:0; padding: 0}\n",
       ".list-inline>li {display: inline-block}\n",
       ".list-inline>li:not(:last-child)::after {content: \"\\00b7\"; padding: 0 .5ex}\n",
       "</style>\n",
       "<ol class=list-inline><li>31</li><li>5</li><li>26</li></ol>\n"
      ],
      "text/latex": [
       "\\begin{enumerate*}\n",
       "\\item 31\n",
       "\\item 5\n",
       "\\item 26\n",
       "\\end{enumerate*}\n"
      ],
      "text/markdown": [
       "1. 31\n",
       "2. 5\n",
       "3. 26\n",
       "\n",
       "\n"
      ],
      "text/plain": [
       "[1] 31  5 26"
      ]
     },
     "metadata": {},
     "output_type": "display_data"
    },
    {
     "data": {
      "text/html": [
       "<style>\n",
       ".list-inline {list-style: none; margin:0; padding: 0}\n",
       ".list-inline>li {display: inline-block}\n",
       ".list-inline>li:not(:last-child)::after {content: \"\\00b7\"; padding: 0 .5ex}\n",
       "</style>\n",
       "<ol class=list-inline><li>31</li><li>5</li><li>26</li></ol>\n"
      ],
      "text/latex": [
       "\\begin{enumerate*}\n",
       "\\item 31\n",
       "\\item 5\n",
       "\\item 26\n",
       "\\end{enumerate*}\n"
      ],
      "text/markdown": [
       "1. 31\n",
       "2. 5\n",
       "3. 26\n",
       "\n",
       "\n"
      ],
      "text/plain": [
       "[1] 31  5 26"
      ]
     },
     "metadata": {},
     "output_type": "display_data"
    }
   ],
   "source": [
    "#--------------------------------\n",
    "# Restructur data inputs for LSTM multivariate\n",
    "\n",
    "x_bis <-sapply(\n",
    "        1:ncol(scaled_train),\n",
    "        function(x){scaled_train[1:(31-1+1),x]}\n",
    ")\n",
    "\n",
    "x_bis_first_array <-array(\n",
    "    data=unlist(x_bis),\n",
    "    dim=c(nrow(x_bis),1,ncol(x_bis))\n",
    ")\n",
    "tot_array <-array(NA, dim=c(\n",
    "    nrow(x_bis),\n",
    "    lag,\n",
    "    ncol(x_bis)\n",
    "))\n",
    "tot_array[,1,] <- x_bis_first_array\n",
    "\n",
    "\n",
    "for (i in 2:lag){\n",
    "    new <-sapply(\n",
    "        1:ncol(scaled_train),\n",
    "        function(x){scaled_train[i:(i+31-1),x]}\n",
    "    )\n",
    "    new <- array(\n",
    "        data=unlist(new),\n",
    "        dim=c(nrow(x_bis),1,ncol(x_bis))\n",
    "    )\n",
    "    tot_array[,i,] <- new\n",
    "}\n",
    "x_train_arr_bis <- tot_array\n",
    "\n",
    "\n",
    "y_train_data_bis <-  t(sapply(\n",
    "    (1+lag):(dim(scaled_train)[1]-prediction +1),\n",
    "    function(x){scaled_train[x:(x+prediction-1),1]}\n",
    "))\n",
    "\n",
    "tot_array <-array(NA, dim=c(\n",
    "    nrow(y_train_data_bis),\n",
    "    lag,\n",
    "    ncol(scaled_train)\n",
    "))\n",
    "\n",
    "tot_array[,,1] <- y_train_data_bis\n",
    "\n",
    "for (i in 2:ncol(scaled_train)){\n",
    "    new <-  t(sapply(\n",
    "        (1+lag):(dim(scaled_train)[1]-prediction +1),\n",
    "        function(x){scaled_train[x:(x+prediction-1),i]}\n",
    "    ))\n",
    "\n",
    "    new_array <- array(\n",
    "        data=as.numeric(unlist(new)),\n",
    "        dim=c(nrow(new),\n",
    "        ncol(new),\n",
    "        1)\n",
    "    )\n",
    "    tot_array[,,i] <- new_array\n",
    "\n",
    "}\n",
    "\n",
    "y_train_arr_bis <- tot_array\n",
    "x_train_arr_bis%>%dim\n",
    "y_train_arr_bis %>% dim"
   ]
  },
  {
   "cell_type": "code",
   "execution_count": 81,
   "metadata": {
    "vscode": {
     "languageId": "r"
    }
   },
   "outputs": [],
   "source": [
    "LSTM_model_stable_eval <- keras_model_sequential()\n",
    "LSTM_model_stable_eval%>% layer_lstm(\n",
    "    units=50,\n",
    "    batch_input_shape=c(1,lag,26),#BATCH size , timestep ,features\n",
    "    return_sequences=T,\n",
    "    stateful=T\n",
    "\n",
    ")%>%\n",
    "layer_dropout(rate=0.5)%>%layer_lstm(\n",
    "    units =50,\n",
    "    return_sequences=T,stateful=T\n",
    ")%>% layer_dropout(rate=0.5)%>% time_distributed(keras::layer_dense(units=26))\n"
   ]
  },
  {
   "cell_type": "code",
   "execution_count": 82,
   "metadata": {
    "vscode": {
     "languageId": "r"
    }
   },
   "outputs": [
    {
     "name": "stdout",
     "output_type": "stream",
     "text": [
      "Model: \"sequential_1\"\n",
      "________________________________________________________________________________\n",
      " Layer (type)                       Output Shape                    Param #     \n",
      "================================================================================\n",
      " lstm_3 (LSTM)                      (1, 5, 50)                      15400       \n",
      " dropout_3 (Dropout)                (1, 5, 50)                      0           \n",
      " lstm_2 (LSTM)                      (1, 5, 50)                      20200       \n",
      " dropout_2 (Dropout)                (1, 5, 50)                      0           \n",
      " time_distributed_1 (TimeDistribute  (1, 5, 26)                     1326        \n",
      " d)                                                                             \n",
      "================================================================================\n",
      "Total params: 36,926\n",
      "Trainable params: 36,926\n",
      "Non-trainable params: 0\n",
      "________________________________________________________________________________\n"
     ]
    }
   ],
   "source": [
    "LSTM_model_stable_eval %>% compile(loss='mae',optimizer='adam',metrics='accuracy')\n",
    "summary(LSTM_model_stable_eval)"
   ]
  },
  {
   "cell_type": "code",
   "execution_count": 84,
   "metadata": {
    "vscode": {
     "languageId": "r"
    }
   },
   "outputs": [
    {
     "name": "stdout",
     "output_type": "stream",
     "text": [
      "[1] \" X_test\"\n"
     ]
    },
    {
     "data": {
      "text/html": [
       "<table class=\"dataframe\">\n",
       "<caption>A data.frame: 5 × 26</caption>\n",
       "<thead>\n",
       "\t<tr><th></th><th scope=col>1</th><th scope=col>2</th><th scope=col>3</th><th scope=col>4</th><th scope=col>5</th><th scope=col>6</th><th scope=col>7</th><th scope=col>8</th><th scope=col>9</th><th scope=col>10</th><th scope=col>⋯</th><th scope=col>17</th><th scope=col>18</th><th scope=col>19</th><th scope=col>20</th><th scope=col>21</th><th scope=col>22</th><th scope=col>23</th><th scope=col>24</th><th scope=col>25</th><th scope=col>26</th></tr>\n",
       "\t<tr><th></th><th scope=col>&lt;dbl&gt;</th><th scope=col>&lt;dbl&gt;</th><th scope=col>&lt;dbl&gt;</th><th scope=col>&lt;dbl&gt;</th><th scope=col>&lt;dbl&gt;</th><th scope=col>&lt;dbl&gt;</th><th scope=col>&lt;dbl&gt;</th><th scope=col>&lt;dbl&gt;</th><th scope=col>&lt;dbl&gt;</th><th scope=col>&lt;dbl&gt;</th><th scope=col>⋯</th><th scope=col>&lt;dbl&gt;</th><th scope=col>&lt;dbl&gt;</th><th scope=col>&lt;dbl&gt;</th><th scope=col>&lt;dbl&gt;</th><th scope=col>&lt;dbl&gt;</th><th scope=col>&lt;dbl&gt;</th><th scope=col>&lt;dbl&gt;</th><th scope=col>&lt;dbl&gt;</th><th scope=col>&lt;dbl&gt;</th><th scope=col>&lt;dbl&gt;</th></tr>\n",
       "</thead>\n",
       "<tbody>\n",
       "\t<tr><th scope=row>31</th><td>-0.3044679</td><td>-0.04155909</td><td> 0.8832406</td><td> 0.1371947</td><td> 0.66978028</td><td>-0.07791652</td><td>-0.5133117</td><td>-0.2199404</td><td>-0.07114988</td><td>-0.1457855</td><td>⋯</td><td>-1.01573076</td><td> 0.6655701</td><td>-0.5437616</td><td> 0.07236232</td><td>-0.4257295</td><td>-2.0010692</td><td>-0.68651597</td><td> 1.6498794</td><td>-1.0823045</td><td>-0.2858782</td></tr>\n",
       "\t<tr><th scope=row>32</th><td>-0.1364856</td><td>-0.04155909</td><td>-1.0264688</td><td> 0.6859736</td><td>-0.40345815</td><td> 1.79207992</td><td>-0.0301948</td><td>-1.3929556</td><td> 1.35184770</td><td>-0.8747129</td><td>⋯</td><td> 0.00778764</td><td> 0.1985033</td><td> 0.7744484</td><td> 1.80905795</td><td>-2.0475562</td><td> 0.9171567</td><td>-2.39096940</td><td>-1.1815968</td><td>-0.8526377</td><td>-1.7774167</td></tr>\n",
       "\t<tr><th scope=row>33</th><td> 0.1154878</td><td>-0.15238334</td><td>-0.0716141</td><td> 0.6859736</td><td>-0.04571201</td><td>-1.32458081</td><td>-0.5133117</td><td> 0.9530749</td><td>-0.92494843</td><td> 0.2186782</td><td>⋯</td><td> 0.14129004</td><td>-1.2026968</td><td>-1.8619716</td><td> 0.07236232</td><td> 0.9257927</td><td>-0.3335115</td><td> 0.07101889</td><td> 0.6853106</td><td>-0.3071793</td><td> 0.7084808</td></tr>\n",
       "\t<tr><th scope=row>34</th><td>-0.3464635</td><td> 0.29091365</td><td>-0.0716141</td><td> 0.6859736</td><td>-1.39719744</td><td>-0.70124866</td><td>-0.5133117</td><td> 1.5395825</td><td> 1.35184770</td><td>-0.5102492</td><td>⋯</td><td> 1.07580684</td><td>-0.9691634</td><td>-0.5437616</td><td>-0.50653623</td><td>-1.2366428</td><td> 0.9171567</td><td> 0.44978632</td><td>-1.2438271</td><td>-1.1110128</td><td> 1.2056603</td></tr>\n",
       "\t<tr><th scope=row>35</th><td> 0.1154878</td><td> 0.06926515</td><td>-0.0716141</td><td>-0.9603631</td><td> 0.59028114</td><td>-0.07791652</td><td>-0.2717532</td><td> 0.3665673</td><td>-0.07114988</td><td> 0.5831419</td><td>⋯</td><td>-0.92672916</td><td> 1.8332368</td><td> 0.7744484</td><td> 0.07236232</td><td> 0.6554883</td><td>-0.3335115</td><td> 0.07101889</td><td> 1.0898072</td><td> 0.4105293</td><td> 0.7084808</td></tr>\n",
       "</tbody>\n",
       "</table>\n"
      ],
      "text/latex": [
       "A data.frame: 5 × 26\n",
       "\\begin{tabular}{r|lllllllllllllllllllll}\n",
       "  & 1 & 2 & 3 & 4 & 5 & 6 & 7 & 8 & 9 & 10 & ⋯ & 17 & 18 & 19 & 20 & 21 & 22 & 23 & 24 & 25 & 26\\\\\n",
       "  & <dbl> & <dbl> & <dbl> & <dbl> & <dbl> & <dbl> & <dbl> & <dbl> & <dbl> & <dbl> & ⋯ & <dbl> & <dbl> & <dbl> & <dbl> & <dbl> & <dbl> & <dbl> & <dbl> & <dbl> & <dbl>\\\\\n",
       "\\hline\n",
       "\t31 & -0.3044679 & -0.04155909 &  0.8832406 &  0.1371947 &  0.66978028 & -0.07791652 & -0.5133117 & -0.2199404 & -0.07114988 & -0.1457855 & ⋯ & -1.01573076 &  0.6655701 & -0.5437616 &  0.07236232 & -0.4257295 & -2.0010692 & -0.68651597 &  1.6498794 & -1.0823045 & -0.2858782\\\\\n",
       "\t32 & -0.1364856 & -0.04155909 & -1.0264688 &  0.6859736 & -0.40345815 &  1.79207992 & -0.0301948 & -1.3929556 &  1.35184770 & -0.8747129 & ⋯ &  0.00778764 &  0.1985033 &  0.7744484 &  1.80905795 & -2.0475562 &  0.9171567 & -2.39096940 & -1.1815968 & -0.8526377 & -1.7774167\\\\\n",
       "\t33 &  0.1154878 & -0.15238334 & -0.0716141 &  0.6859736 & -0.04571201 & -1.32458081 & -0.5133117 &  0.9530749 & -0.92494843 &  0.2186782 & ⋯ &  0.14129004 & -1.2026968 & -1.8619716 &  0.07236232 &  0.9257927 & -0.3335115 &  0.07101889 &  0.6853106 & -0.3071793 &  0.7084808\\\\\n",
       "\t34 & -0.3464635 &  0.29091365 & -0.0716141 &  0.6859736 & -1.39719744 & -0.70124866 & -0.5133117 &  1.5395825 &  1.35184770 & -0.5102492 & ⋯ &  1.07580684 & -0.9691634 & -0.5437616 & -0.50653623 & -1.2366428 &  0.9171567 &  0.44978632 & -1.2438271 & -1.1110128 &  1.2056603\\\\\n",
       "\t35 &  0.1154878 &  0.06926515 & -0.0716141 & -0.9603631 &  0.59028114 & -0.07791652 & -0.2717532 &  0.3665673 & -0.07114988 &  0.5831419 & ⋯ & -0.92672916 &  1.8332368 &  0.7744484 &  0.07236232 &  0.6554883 & -0.3335115 &  0.07101889 &  1.0898072 &  0.4105293 &  0.7084808\\\\\n",
       "\\end{tabular}\n"
      ],
      "text/markdown": [
       "\n",
       "A data.frame: 5 × 26\n",
       "\n",
       "| <!--/--> | 1 &lt;dbl&gt; | 2 &lt;dbl&gt; | 3 &lt;dbl&gt; | 4 &lt;dbl&gt; | 5 &lt;dbl&gt; | 6 &lt;dbl&gt; | 7 &lt;dbl&gt; | 8 &lt;dbl&gt; | 9 &lt;dbl&gt; | 10 &lt;dbl&gt; | ⋯ ⋯ | 17 &lt;dbl&gt; | 18 &lt;dbl&gt; | 19 &lt;dbl&gt; | 20 &lt;dbl&gt; | 21 &lt;dbl&gt; | 22 &lt;dbl&gt; | 23 &lt;dbl&gt; | 24 &lt;dbl&gt; | 25 &lt;dbl&gt; | 26 &lt;dbl&gt; |\n",
       "|---|---|---|---|---|---|---|---|---|---|---|---|---|---|---|---|---|---|---|---|---|---|\n",
       "| 31 | -0.3044679 | -0.04155909 |  0.8832406 |  0.1371947 |  0.66978028 | -0.07791652 | -0.5133117 | -0.2199404 | -0.07114988 | -0.1457855 | ⋯ | -1.01573076 |  0.6655701 | -0.5437616 |  0.07236232 | -0.4257295 | -2.0010692 | -0.68651597 |  1.6498794 | -1.0823045 | -0.2858782 |\n",
       "| 32 | -0.1364856 | -0.04155909 | -1.0264688 |  0.6859736 | -0.40345815 |  1.79207992 | -0.0301948 | -1.3929556 |  1.35184770 | -0.8747129 | ⋯ |  0.00778764 |  0.1985033 |  0.7744484 |  1.80905795 | -2.0475562 |  0.9171567 | -2.39096940 | -1.1815968 | -0.8526377 | -1.7774167 |\n",
       "| 33 |  0.1154878 | -0.15238334 | -0.0716141 |  0.6859736 | -0.04571201 | -1.32458081 | -0.5133117 |  0.9530749 | -0.92494843 |  0.2186782 | ⋯ |  0.14129004 | -1.2026968 | -1.8619716 |  0.07236232 |  0.9257927 | -0.3335115 |  0.07101889 |  0.6853106 | -0.3071793 |  0.7084808 |\n",
       "| 34 | -0.3464635 |  0.29091365 | -0.0716141 |  0.6859736 | -1.39719744 | -0.70124866 | -0.5133117 |  1.5395825 |  1.35184770 | -0.5102492 | ⋯ |  1.07580684 | -0.9691634 | -0.5437616 | -0.50653623 | -1.2366428 |  0.9171567 |  0.44978632 | -1.2438271 | -1.1110128 |  1.2056603 |\n",
       "| 35 |  0.1154878 |  0.06926515 | -0.0716141 | -0.9603631 |  0.59028114 | -0.07791652 | -0.2717532 |  0.3665673 | -0.07114988 |  0.5831419 | ⋯ | -0.92672916 |  1.8332368 |  0.7744484 |  0.07236232 |  0.6554883 | -0.3335115 |  0.07101889 |  1.0898072 |  0.4105293 |  0.7084808 |\n",
       "\n"
      ],
      "text/plain": [
       "   1          2           3          4          5           6          \n",
       "31 -0.3044679 -0.04155909  0.8832406  0.1371947  0.66978028 -0.07791652\n",
       "32 -0.1364856 -0.04155909 -1.0264688  0.6859736 -0.40345815  1.79207992\n",
       "33  0.1154878 -0.15238334 -0.0716141  0.6859736 -0.04571201 -1.32458081\n",
       "34 -0.3464635  0.29091365 -0.0716141  0.6859736 -1.39719744 -0.70124866\n",
       "35  0.1154878  0.06926515 -0.0716141 -0.9603631  0.59028114 -0.07791652\n",
       "   7          8          9           10         ⋯ 17          18        \n",
       "31 -0.5133117 -0.2199404 -0.07114988 -0.1457855 ⋯ -1.01573076  0.6655701\n",
       "32 -0.0301948 -1.3929556  1.35184770 -0.8747129 ⋯  0.00778764  0.1985033\n",
       "33 -0.5133117  0.9530749 -0.92494843  0.2186782 ⋯  0.14129004 -1.2026968\n",
       "34 -0.5133117  1.5395825  1.35184770 -0.5102492 ⋯  1.07580684 -0.9691634\n",
       "35 -0.2717532  0.3665673 -0.07114988  0.5831419 ⋯ -0.92672916  1.8332368\n",
       "   19         20          21         22         23          24        \n",
       "31 -0.5437616  0.07236232 -0.4257295 -2.0010692 -0.68651597  1.6498794\n",
       "32  0.7744484  1.80905795 -2.0475562  0.9171567 -2.39096940 -1.1815968\n",
       "33 -1.8619716  0.07236232  0.9257927 -0.3335115  0.07101889  0.6853106\n",
       "34 -0.5437616 -0.50653623 -1.2366428  0.9171567  0.44978632 -1.2438271\n",
       "35  0.7744484  0.07236232  0.6554883 -0.3335115  0.07101889  1.0898072\n",
       "   25         26        \n",
       "31 -1.0823045 -0.2858782\n",
       "32 -0.8526377 -1.7774167\n",
       "33 -0.3071793  0.7084808\n",
       "34 -1.1110128  1.2056603\n",
       "35  0.4105293  0.7084808"
      ]
     },
     "metadata": {},
     "output_type": "display_data"
    },
    {
     "name": "stdout",
     "output_type": "stream",
     "text": [
      "[1] \"Y_test\"\n"
     ]
    },
    {
     "data": {
      "text/html": [
       "<table class=\"dataframe\">\n",
       "<caption>A data.frame: 5 × 26</caption>\n",
       "<thead>\n",
       "\t<tr><th></th><th scope=col>1</th><th scope=col>2</th><th scope=col>3</th><th scope=col>4</th><th scope=col>5</th><th scope=col>6</th><th scope=col>7</th><th scope=col>8</th><th scope=col>9</th><th scope=col>10</th><th scope=col>⋯</th><th scope=col>17</th><th scope=col>18</th><th scope=col>19</th><th scope=col>20</th><th scope=col>21</th><th scope=col>22</th><th scope=col>23</th><th scope=col>24</th><th scope=col>25</th><th scope=col>26</th></tr>\n",
       "\t<tr><th></th><th scope=col>&lt;dbl&gt;</th><th scope=col>&lt;dbl&gt;</th><th scope=col>&lt;dbl&gt;</th><th scope=col>&lt;dbl&gt;</th><th scope=col>&lt;dbl&gt;</th><th scope=col>&lt;dbl&gt;</th><th scope=col>&lt;dbl&gt;</th><th scope=col>&lt;dbl&gt;</th><th scope=col>&lt;dbl&gt;</th><th scope=col>&lt;dbl&gt;</th><th scope=col>⋯</th><th scope=col>&lt;dbl&gt;</th><th scope=col>&lt;dbl&gt;</th><th scope=col>&lt;dbl&gt;</th><th scope=col>&lt;dbl&gt;</th><th scope=col>&lt;dbl&gt;</th><th scope=col>&lt;dbl&gt;</th><th scope=col>&lt;dbl&gt;</th><th scope=col>&lt;dbl&gt;</th><th scope=col>&lt;dbl&gt;</th><th scope=col>&lt;dbl&gt;</th></tr>\n",
       "</thead>\n",
       "<tbody>\n",
       "\t<tr><th scope=row>36</th><td>-0.09449005</td><td> 0.62338639</td><td>-0.0716141</td><td>0.1371947</td><td>-0.1252112</td><td> 0.54541563</td><td> 1.1775974</td><td> 1.5395825</td><td> 0.78264867</td><td> 0.2186782</td><td>⋯</td><td> 0.1412900</td><td> 0.1985033</td><td> 0.7744484</td><td> 0.07236232</td><td> 0.3851838</td><td>-0.3335115</td><td>-0.30774854</td><td>-0.7459851</td><td>-1.08230447</td><td>-1.2802372</td></tr>\n",
       "\t<tr><th scope=row>37</th><td>-0.01049889</td><td>-1.48227432</td><td>-0.0716141</td><td>0.1371947</td><td> 0.2325350</td><td> 1.16874777</td><td> 0.2113636</td><td>-0.8064480</td><td>-0.35574940</td><td>-0.1457855</td><td>⋯</td><td> 0.2302916</td><td> 0.8991034</td><td> 0.1153434</td><td> 1.23015940</td><td> 0.6554883</td><td> 0.9171567</td><td> 0.07101889</td><td> 1.3698433</td><td> 0.75502937</td><td> 0.2113013</td></tr>\n",
       "\t<tr><th scope=row>38</th><td>-0.30446794</td><td>-0.04155909</td><td> 1.8380953</td><td>0.6859736</td><td> 0.1132863</td><td>-1.32458081</td><td>-0.7548701</td><td>-0.8064480</td><td> 0.49804915</td><td> 2.0409967</td><td>⋯</td><td> 0.8978036</td><td>-1.2026968</td><td> 0.1153434</td><td>-0.50653623</td><td>-0.9663384</td><td>-0.3335115</td><td> 1.58608861</td><td>-1.8350144</td><td>-0.45072096</td><td> 0.2113013</td></tr>\n",
       "\t<tr><th scope=row>39</th><td> 0.07349226</td><td>-0.37403184</td><td> 1.8380953</td><td>0.1371947</td><td> 0.7095299</td><td>-0.07791652</td><td>-0.5133117</td><td>-0.8064480</td><td>-0.64034891</td><td> 1.3120693</td><td>⋯</td><td>-0.9712300</td><td>-0.2685634</td><td> 0.1153434</td><td>-0.50653623</td><td> 0.9257927</td><td> 0.9171567</td><td>-0.49713225</td><td> 1.3387282</td><td> 0.06602918</td><td> 1.7028398</td></tr>\n",
       "\t<tr><th scope=row>40</th><td> 0.11548784</td><td>-0.48485608</td><td>-0.0716141</td><td>0.1371947</td><td>-0.2842094</td><td> 1.16874777</td><td> 0.2113636</td><td>-0.2199404</td><td>-0.07114988</td><td>-1.9681040</td><td>⋯</td><td>-0.1257148</td><td> 0.8991034</td><td>-1.8619716</td><td>-0.50653623</td><td> 0.6554883</td><td>-1.1672904</td><td> 0.63917004</td><td>-1.3994027</td><td>-0.82392939</td><td> 1.2056603</td></tr>\n",
       "</tbody>\n",
       "</table>\n"
      ],
      "text/latex": [
       "A data.frame: 5 × 26\n",
       "\\begin{tabular}{r|lllllllllllllllllllll}\n",
       "  & 1 & 2 & 3 & 4 & 5 & 6 & 7 & 8 & 9 & 10 & ⋯ & 17 & 18 & 19 & 20 & 21 & 22 & 23 & 24 & 25 & 26\\\\\n",
       "  & <dbl> & <dbl> & <dbl> & <dbl> & <dbl> & <dbl> & <dbl> & <dbl> & <dbl> & <dbl> & ⋯ & <dbl> & <dbl> & <dbl> & <dbl> & <dbl> & <dbl> & <dbl> & <dbl> & <dbl> & <dbl>\\\\\n",
       "\\hline\n",
       "\t36 & -0.09449005 &  0.62338639 & -0.0716141 & 0.1371947 & -0.1252112 &  0.54541563 &  1.1775974 &  1.5395825 &  0.78264867 &  0.2186782 & ⋯ &  0.1412900 &  0.1985033 &  0.7744484 &  0.07236232 &  0.3851838 & -0.3335115 & -0.30774854 & -0.7459851 & -1.08230447 & -1.2802372\\\\\n",
       "\t37 & -0.01049889 & -1.48227432 & -0.0716141 & 0.1371947 &  0.2325350 &  1.16874777 &  0.2113636 & -0.8064480 & -0.35574940 & -0.1457855 & ⋯ &  0.2302916 &  0.8991034 &  0.1153434 &  1.23015940 &  0.6554883 &  0.9171567 &  0.07101889 &  1.3698433 &  0.75502937 &  0.2113013\\\\\n",
       "\t38 & -0.30446794 & -0.04155909 &  1.8380953 & 0.6859736 &  0.1132863 & -1.32458081 & -0.7548701 & -0.8064480 &  0.49804915 &  2.0409967 & ⋯ &  0.8978036 & -1.2026968 &  0.1153434 & -0.50653623 & -0.9663384 & -0.3335115 &  1.58608861 & -1.8350144 & -0.45072096 &  0.2113013\\\\\n",
       "\t39 &  0.07349226 & -0.37403184 &  1.8380953 & 0.1371947 &  0.7095299 & -0.07791652 & -0.5133117 & -0.8064480 & -0.64034891 &  1.3120693 & ⋯ & -0.9712300 & -0.2685634 &  0.1153434 & -0.50653623 &  0.9257927 &  0.9171567 & -0.49713225 &  1.3387282 &  0.06602918 &  1.7028398\\\\\n",
       "\t40 &  0.11548784 & -0.48485608 & -0.0716141 & 0.1371947 & -0.2842094 &  1.16874777 &  0.2113636 & -0.2199404 & -0.07114988 & -1.9681040 & ⋯ & -0.1257148 &  0.8991034 & -1.8619716 & -0.50653623 &  0.6554883 & -1.1672904 &  0.63917004 & -1.3994027 & -0.82392939 &  1.2056603\\\\\n",
       "\\end{tabular}\n"
      ],
      "text/markdown": [
       "\n",
       "A data.frame: 5 × 26\n",
       "\n",
       "| <!--/--> | 1 &lt;dbl&gt; | 2 &lt;dbl&gt; | 3 &lt;dbl&gt; | 4 &lt;dbl&gt; | 5 &lt;dbl&gt; | 6 &lt;dbl&gt; | 7 &lt;dbl&gt; | 8 &lt;dbl&gt; | 9 &lt;dbl&gt; | 10 &lt;dbl&gt; | ⋯ ⋯ | 17 &lt;dbl&gt; | 18 &lt;dbl&gt; | 19 &lt;dbl&gt; | 20 &lt;dbl&gt; | 21 &lt;dbl&gt; | 22 &lt;dbl&gt; | 23 &lt;dbl&gt; | 24 &lt;dbl&gt; | 25 &lt;dbl&gt; | 26 &lt;dbl&gt; |\n",
       "|---|---|---|---|---|---|---|---|---|---|---|---|---|---|---|---|---|---|---|---|---|---|\n",
       "| 36 | -0.09449005 |  0.62338639 | -0.0716141 | 0.1371947 | -0.1252112 |  0.54541563 |  1.1775974 |  1.5395825 |  0.78264867 |  0.2186782 | ⋯ |  0.1412900 |  0.1985033 |  0.7744484 |  0.07236232 |  0.3851838 | -0.3335115 | -0.30774854 | -0.7459851 | -1.08230447 | -1.2802372 |\n",
       "| 37 | -0.01049889 | -1.48227432 | -0.0716141 | 0.1371947 |  0.2325350 |  1.16874777 |  0.2113636 | -0.8064480 | -0.35574940 | -0.1457855 | ⋯ |  0.2302916 |  0.8991034 |  0.1153434 |  1.23015940 |  0.6554883 |  0.9171567 |  0.07101889 |  1.3698433 |  0.75502937 |  0.2113013 |\n",
       "| 38 | -0.30446794 | -0.04155909 |  1.8380953 | 0.6859736 |  0.1132863 | -1.32458081 | -0.7548701 | -0.8064480 |  0.49804915 |  2.0409967 | ⋯ |  0.8978036 | -1.2026968 |  0.1153434 | -0.50653623 | -0.9663384 | -0.3335115 |  1.58608861 | -1.8350144 | -0.45072096 |  0.2113013 |\n",
       "| 39 |  0.07349226 | -0.37403184 |  1.8380953 | 0.1371947 |  0.7095299 | -0.07791652 | -0.5133117 | -0.8064480 | -0.64034891 |  1.3120693 | ⋯ | -0.9712300 | -0.2685634 |  0.1153434 | -0.50653623 |  0.9257927 |  0.9171567 | -0.49713225 |  1.3387282 |  0.06602918 |  1.7028398 |\n",
       "| 40 |  0.11548784 | -0.48485608 | -0.0716141 | 0.1371947 | -0.2842094 |  1.16874777 |  0.2113636 | -0.2199404 | -0.07114988 | -1.9681040 | ⋯ | -0.1257148 |  0.8991034 | -1.8619716 | -0.50653623 |  0.6554883 | -1.1672904 |  0.63917004 | -1.3994027 | -0.82392939 |  1.2056603 |\n",
       "\n"
      ],
      "text/plain": [
       "   1           2           3          4         5          6          \n",
       "36 -0.09449005  0.62338639 -0.0716141 0.1371947 -0.1252112  0.54541563\n",
       "37 -0.01049889 -1.48227432 -0.0716141 0.1371947  0.2325350  1.16874777\n",
       "38 -0.30446794 -0.04155909  1.8380953 0.6859736  0.1132863 -1.32458081\n",
       "39  0.07349226 -0.37403184  1.8380953 0.1371947  0.7095299 -0.07791652\n",
       "40  0.11548784 -0.48485608 -0.0716141 0.1371947 -0.2842094  1.16874777\n",
       "   7          8          9           10         ⋯ 17         18        \n",
       "36  1.1775974  1.5395825  0.78264867  0.2186782 ⋯  0.1412900  0.1985033\n",
       "37  0.2113636 -0.8064480 -0.35574940 -0.1457855 ⋯  0.2302916  0.8991034\n",
       "38 -0.7548701 -0.8064480  0.49804915  2.0409967 ⋯  0.8978036 -1.2026968\n",
       "39 -0.5133117 -0.8064480 -0.64034891  1.3120693 ⋯ -0.9712300 -0.2685634\n",
       "40  0.2113636 -0.2199404 -0.07114988 -1.9681040 ⋯ -0.1257148  0.8991034\n",
       "   19         20          21         22         23          24        \n",
       "36  0.7744484  0.07236232  0.3851838 -0.3335115 -0.30774854 -0.7459851\n",
       "37  0.1153434  1.23015940  0.6554883  0.9171567  0.07101889  1.3698433\n",
       "38  0.1153434 -0.50653623 -0.9663384 -0.3335115  1.58608861 -1.8350144\n",
       "39  0.1153434 -0.50653623  0.9257927  0.9171567 -0.49713225  1.3387282\n",
       "40 -1.8619716 -0.50653623  0.6554883 -1.1672904  0.63917004 -1.3994027\n",
       "   25          26        \n",
       "36 -1.08230447 -1.2802372\n",
       "37  0.75502937  0.2113013\n",
       "38 -0.45072096  0.2113013\n",
       "39  0.06602918  1.7028398\n",
       "40 -0.82392939  1.2056603"
      ]
     },
     "metadata": {},
     "output_type": "display_data"
    },
    {
     "name": "stdout",
     "output_type": "stream",
     "text": [
      "\n",
      "time interval taken into X_test: 31 32 33 34 35\n",
      "time interval taken into Y_test: 36 37 38 39 40"
     ]
    }
   ],
   "source": [
    "x_test <-df.train[(nrow(scaled_train)- prediction-prediction+1):(nrow(scaled_train)-prediction),]\n",
    "for(i in 1:ncol(x_test)){\n",
    "    x_test[,i] <-(x_test[,i] -scale_factor[[\"center\"]][i])/scale_factor[[\"sd\"]][i]\n",
    "}\n",
    "x_test_scaled <- x_test\n",
    "print(\" X_test\")\n",
    "x_test_scaled\n",
    "x_test_array <- array(\n",
    "    data = as.numeric(unlist(x_test_scaled)),\n",
    "    dim=c(1,lag,26)\n",
    ")\n",
    "y_test <-df.train[(nrow(scaled_train)- prediction+1):nrow(scaled_train),]\n",
    "for(i in 1:ncol(y_test)){\n",
    "    y_test[,i] <-(y_test[,i] -scale_factor[[\"center\"]][i])/scale_factor[[\"sd\"]][i]\n",
    "}\n",
    "y_test_scaled <- y_test\n",
    "print(\"Y_test\")\n",
    "y_test_scaled\n",
    "y_test_array <- array(\n",
    "    data = as.numeric(unlist(y_test_scaled)),\n",
    "    dim=c(1,lag,26)\n",
    ")\n",
    "cat(\"\\ntime interval taken into X_test:\",(nrow(scaled_train)- prediction-prediction+1):(nrow(scaled_train)-prediction))\n",
    "cat(\"\\ntime interval taken into Y_test:\", (nrow(scaled_train)- prediction+1):nrow(scaled_train))"
   ]
  },
  {
   "cell_type": "code",
   "execution_count": 85,
   "metadata": {
    "vscode": {
     "languageId": "r"
    }
   },
   "outputs": [],
   "source": [
    "history <-LSTM_model_stable_eval %>% keras::fit(\n",
    "    x=x_train_arr_bis,\n",
    "    y=y_train_arr_bis,\n",
    "    batch_size=1,\n",
    "    epochs=40,# Number of times to iterate over the training data\n",
    "    verbose=2,\n",
    "    shuffle=FALSE,\n",
    "    validation_data=list(x_test_array,y_test_array)\n",
    ")"
   ]
  },
  {
   "cell_type": "code",
   "execution_count": 86,
   "metadata": {
    "vscode": {
     "languageId": "r"
    }
   },
   "outputs": [
    {
     "data": {
      "image/png": "[encoded data removed]",
      "text/plain": [
       "plot without title"
      ]
     },
     "metadata": {
      "image/png": {
       "height": 420,
       "width": 420
      }
     },
     "output_type": "display_data"
    }
   ],
   "source": [
    "plot(history)"
   ]
  },
  {
   "cell_type": "code",
   "execution_count": 87,
   "metadata": {
    "vscode": {
     "languageId": "r"
    }
   },
   "outputs": [],
   "source": [
    "LSTM_model_stable_eval %>% keras::fit(\n",
    "    x=x_train_arr_bis,\n",
    "    y=y_train_arr_bis,\n",
    "    batch_size=1,\n",
    "    epochs=40,# Number of times to iterate over the training data\n",
    "    verbose=2,\n",
    "    shuffle=FALSE\n",
    ")"
   ]
  },
  {
   "cell_type": "code",
   "execution_count": 88,
   "metadata": {
    "vscode": {
     "languageId": "r"
    }
   },
   "outputs": [],
   "source": [
    "LSTM_forecast_eval_stable <- LSTM_model_stable_eval %>% predict(x_test_array,batch_size=1)"
   ]
  },
  {
   "cell_type": "code",
   "execution_count": 89,
   "metadata": {
    "vscode": {
     "languageId": "r"
    }
   },
   "outputs": [],
   "source": [
    "#-------------\n",
    "# 1.unscale Predictions\n",
    "for (i in 1: dim(LSTM_forecast_eval_stable)[3]){\n",
    "    LSTM_forecast_eval_stable[,,i] <- LSTM_forecast_eval_stable[,,i] * scale_factor[[\"sd\"]][i] +scale_factor[[\"center\"]][i]\n",
    "}"
   ]
  },
  {
   "cell_type": "code",
   "execution_count": 90,
   "metadata": {
    "vscode": {
     "languageId": "r"
    }
   },
   "outputs": [
    {
     "data": {
      "text/html": [
       "<style>\n",
       ".list-inline {list-style: none; margin:0; padding: 0}\n",
       ".list-inline>li {display: inline-block}\n",
       ".list-inline>li:not(:last-child)::after {content: \"\\00b7\"; padding: 0 .5ex}\n",
       "</style>\n",
       "<ol class=list-inline><li>1</li><li>2</li><li>3</li><li>4</li><li>5</li><li>6</li><li>7</li><li>8</li><li>9</li><li>10</li><li>11</li><li>12</li><li>13</li><li>14</li><li>15</li><li>16</li><li>17</li><li>18</li><li>19</li><li>20</li><li>21</li><li>22</li><li>23</li><li>24</li><li>25</li><li>26</li><li>27</li><li>28</li><li>29</li><li>30</li><li>31</li><li>32</li><li>33</li><li>34</li><li>35</li></ol>\n"
      ],
      "text/latex": [
       "\\begin{enumerate*}\n",
       "\\item 1\n",
       "\\item 2\n",
       "\\item 3\n",
       "\\item 4\n",
       "\\item 5\n",
       "\\item 6\n",
       "\\item 7\n",
       "\\item 8\n",
       "\\item 9\n",
       "\\item 10\n",
       "\\item 11\n",
       "\\item 12\n",
       "\\item 13\n",
       "\\item 14\n",
       "\\item 15\n",
       "\\item 16\n",
       "\\item 17\n",
       "\\item 18\n",
       "\\item 19\n",
       "\\item 20\n",
       "\\item 21\n",
       "\\item 22\n",
       "\\item 23\n",
       "\\item 24\n",
       "\\item 25\n",
       "\\item 26\n",
       "\\item 27\n",
       "\\item 28\n",
       "\\item 29\n",
       "\\item 30\n",
       "\\item 31\n",
       "\\item 32\n",
       "\\item 33\n",
       "\\item 34\n",
       "\\item 35\n",
       "\\end{enumerate*}\n"
      ],
      "text/markdown": [
       "1. 1\n",
       "2. 2\n",
       "3. 3\n",
       "4. 4\n",
       "5. 5\n",
       "6. 6\n",
       "7. 7\n",
       "8. 8\n",
       "9. 9\n",
       "10. 10\n",
       "11. 11\n",
       "12. 12\n",
       "13. 13\n",
       "14. 14\n",
       "15. 15\n",
       "16. 16\n",
       "17. 17\n",
       "18. 18\n",
       "19. 19\n",
       "20. 20\n",
       "21. 21\n",
       "22. 22\n",
       "23. 23\n",
       "24. 24\n",
       "25. 25\n",
       "26. 26\n",
       "27. 27\n",
       "28. 28\n",
       "29. 29\n",
       "30. 30\n",
       "31. 31\n",
       "32. 32\n",
       "33. 33\n",
       "34. 34\n",
       "35. 35\n",
       "\n",
       "\n"
      ],
      "text/plain": [
       " [1]  1  2  3  4  5  6  7  8  9 10 11 12 13 14 15 16 17 18 19 20 21 22 23 24 25\n",
       "[26] 26 27 28 29 30 31 32 33 34 35"
      ]
     },
     "metadata": {},
     "output_type": "display_data"
    }
   ],
   "source": []
  },
  {
   "cell_type": "code",
   "execution_count": 91,
   "metadata": {
    "vscode": {
     "languageId": "r"
    }
   },
   "outputs": [
    {
     "data": {
      "text/html": [
       "<table class=\"dataframe\">\n",
       "<caption>A Time Series: 11 × 4</caption>\n",
       "<thead>\n",
       "\t<tr><th></th><th scope=col>Qtr1</th><th scope=col>Qtr2</th><th scope=col>Qtr3</th><th scope=col>Qtr4</th></tr>\n",
       "</thead>\n",
       "<tbody>\n",
       "\t<tr><th scope=row>2010</th><td>1290.000</td><td>1284.000</td><td>1279.000</td><td>1278.000</td></tr>\n",
       "\t<tr><th scope=row>2011</th><td>1276.000</td><td>1274.000</td><td>1269.000</td><td>1267.000</td></tr>\n",
       "\t<tr><th scope=row>2012</th><td>1259.000</td><td>1257.000</td><td>1256.000</td><td>1256.000</td></tr>\n",
       "\t<tr><th scope=row>2013</th><td>1247.000</td><td>1244.000</td><td>1240.000</td><td>1233.000</td></tr>\n",
       "\t<tr><th scope=row>2014</th><td>1224.000</td><td>1224.000</td><td>1221.000</td><td>1318.000</td></tr>\n",
       "\t<tr><th scope=row>2015</th><td>1208.000</td><td>1197.000</td><td>1199.000</td><td>1197.000</td></tr>\n",
       "\t<tr><th scope=row>2016</th><td>1191.000</td><td>1178.000</td><td>1174.000</td><td>1166.000</td></tr>\n",
       "\t<tr><th scope=row>2017</th><td>1160.000</td><td>1151.000</td><td>1136.000</td><td>1123.000</td></tr>\n",
       "\t<tr><th scope=row>2018</th><td>1114.000</td><td>1111.000</td><td>1097.000</td><td>1094.000</td></tr>\n",
       "\t<tr><th scope=row>2019</th><td>1087.959</td><td>1080.691</td><td>1071.377</td><td>1064.093</td></tr>\n",
       "\t<tr><th scope=row>2020</th><td>1058.243</td><td>        </td><td>        </td><td>        </td></tr>\n",
       "</tbody>\n",
       "</table>\n"
      ],
      "text/latex": [
       "A Time Series: 11 × 4\n",
       "\\begin{tabular}{r|llll}\n",
       "  & Qtr1 & Qtr2 & Qtr3 & Qtr4\\\\\n",
       "\\hline\n",
       "\t2010 & 1290.000 & 1284.000 & 1279.000 & 1278.000\\\\\n",
       "\t2011 & 1276.000 & 1274.000 & 1269.000 & 1267.000\\\\\n",
       "\t2012 & 1259.000 & 1257.000 & 1256.000 & 1256.000\\\\\n",
       "\t2013 & 1247.000 & 1244.000 & 1240.000 & 1233.000\\\\\n",
       "\t2014 & 1224.000 & 1224.000 & 1221.000 & 1318.000\\\\\n",
       "\t2015 & 1208.000 & 1197.000 & 1199.000 & 1197.000\\\\\n",
       "\t2016 & 1191.000 & 1178.000 & 1174.000 & 1166.000\\\\\n",
       "\t2017 & 1160.000 & 1151.000 & 1136.000 & 1123.000\\\\\n",
       "\t2018 & 1114.000 & 1111.000 & 1097.000 & 1094.000\\\\\n",
       "\t2019 & 1087.959 & 1080.691 & 1071.377 & 1064.093\\\\\n",
       "\t2020 & 1058.243 &          &          &         \\\\\n",
       "\\end{tabular}\n"
      ],
      "text/markdown": [
       "\n",
       "A Time Series: 11 × 4\n",
       "\n",
       "| <!--/--> | Qtr1 | Qtr2 | Qtr3 | Qtr4 |\n",
       "|---|---|---|---|---|\n",
       "| 2010 | 1290.000 | 1284.000 | 1279.000 | 1278.000 |\n",
       "| 2011 | 1276.000 | 1274.000 | 1269.000 | 1267.000 |\n",
       "| 2012 | 1259.000 | 1257.000 | 1256.000 | 1256.000 |\n",
       "| 2013 | 1247.000 | 1244.000 | 1240.000 | 1233.000 |\n",
       "| 2014 | 1224.000 | 1224.000 | 1221.000 | 1318.000 |\n",
       "| 2015 | 1208.000 | 1197.000 | 1199.000 | 1197.000 |\n",
       "| 2016 | 1191.000 | 1178.000 | 1174.000 | 1166.000 |\n",
       "| 2017 | 1160.000 | 1151.000 | 1136.000 | 1123.000 |\n",
       "| 2018 | 1114.000 | 1111.000 | 1097.000 | 1094.000 |\n",
       "| 2019 | 1087.959 | 1080.691 | 1071.377 | 1064.093 |\n",
       "| 2020 | 1058.243 | <!----> | <!----> | <!----> |\n",
       "\n"
      ],
      "text/plain": [
       "     Qtr1     Qtr2     Qtr3     Qtr4    \n",
       "2010 1290.000 1284.000 1279.000 1278.000\n",
       "2011 1276.000 1274.000 1269.000 1267.000\n",
       "2012 1259.000 1257.000 1256.000 1256.000\n",
       "2013 1247.000 1244.000 1240.000 1233.000\n",
       "2014 1224.000 1224.000 1221.000 1318.000\n",
       "2015 1208.000 1197.000 1199.000 1197.000\n",
       "2016 1191.000 1178.000 1174.000 1166.000\n",
       "2017 1160.000 1151.000 1136.000 1123.000\n",
       "2018 1114.000 1111.000 1097.000 1094.000\n",
       "2019 1087.959 1080.691 1071.377 1064.093\n",
       "2020 1058.243                           "
      ]
     },
     "metadata": {},
     "output_type": "display_data"
    },
    {
     "data": {
      "text/html": [
       "<table class=\"dataframe\">\n",
       "<caption>A Time Series: 11 × 4</caption>\n",
       "<thead>\n",
       "\t<tr><th></th><th scope=col>Qtr1</th><th scope=col>Qtr2</th><th scope=col>Qtr3</th><th scope=col>Qtr4</th></tr>\n",
       "</thead>\n",
       "<tbody>\n",
       "\t<tr><th scope=row>2010</th><td>1290</td><td>1284</td><td>1279</td><td>1278</td></tr>\n",
       "\t<tr><th scope=row>2011</th><td>1276</td><td>1274</td><td>1269</td><td>1267</td></tr>\n",
       "\t<tr><th scope=row>2012</th><td>1259</td><td>1257</td><td>1256</td><td>1256</td></tr>\n",
       "\t<tr><th scope=row>2013</th><td>1247</td><td>1244</td><td>1240</td><td>1233</td></tr>\n",
       "\t<tr><th scope=row>2014</th><td>1224</td><td>1224</td><td>1221</td><td>1318</td></tr>\n",
       "\t<tr><th scope=row>2015</th><td>1208</td><td>1197</td><td>1199</td><td>1197</td></tr>\n",
       "\t<tr><th scope=row>2016</th><td>1191</td><td>1178</td><td>1174</td><td>1166</td></tr>\n",
       "\t<tr><th scope=row>2017</th><td>1160</td><td>1151</td><td>1136</td><td>1123</td></tr>\n",
       "\t<tr><th scope=row>2018</th><td>1114</td><td>1111</td><td>1097</td><td>1094</td></tr>\n",
       "\t<tr><th scope=row>2019</th><td>1086</td><td>1080</td><td>1067</td><td>1063</td></tr>\n",
       "\t<tr><th scope=row>2020</th><td>1060</td><td>    </td><td>    </td><td>    </td></tr>\n",
       "</tbody>\n",
       "</table>\n"
      ],
      "text/latex": [
       "A Time Series: 11 × 4\n",
       "\\begin{tabular}{r|llll}\n",
       "  & Qtr1 & Qtr2 & Qtr3 & Qtr4\\\\\n",
       "\\hline\n",
       "\t2010 & 1290 & 1284 & 1279 & 1278\\\\\n",
       "\t2011 & 1276 & 1274 & 1269 & 1267\\\\\n",
       "\t2012 & 1259 & 1257 & 1256 & 1256\\\\\n",
       "\t2013 & 1247 & 1244 & 1240 & 1233\\\\\n",
       "\t2014 & 1224 & 1224 & 1221 & 1318\\\\\n",
       "\t2015 & 1208 & 1197 & 1199 & 1197\\\\\n",
       "\t2016 & 1191 & 1178 & 1174 & 1166\\\\\n",
       "\t2017 & 1160 & 1151 & 1136 & 1123\\\\\n",
       "\t2018 & 1114 & 1111 & 1097 & 1094\\\\\n",
       "\t2019 & 1086 & 1080 & 1067 & 1063\\\\\n",
       "\t2020 & 1060 &      &      &     \\\\\n",
       "\\end{tabular}\n"
      ],
      "text/markdown": [
       "\n",
       "A Time Series: 11 × 4\n",
       "\n",
       "| <!--/--> | Qtr1 | Qtr2 | Qtr3 | Qtr4 |\n",
       "|---|---|---|---|---|\n",
       "| 2010 | 1290 | 1284 | 1279 | 1278 |\n",
       "| 2011 | 1276 | 1274 | 1269 | 1267 |\n",
       "| 2012 | 1259 | 1257 | 1256 | 1256 |\n",
       "| 2013 | 1247 | 1244 | 1240 | 1233 |\n",
       "| 2014 | 1224 | 1224 | 1221 | 1318 |\n",
       "| 2015 | 1208 | 1197 | 1199 | 1197 |\n",
       "| 2016 | 1191 | 1178 | 1174 | 1166 |\n",
       "| 2017 | 1160 | 1151 | 1136 | 1123 |\n",
       "| 2018 | 1114 | 1111 | 1097 | 1094 |\n",
       "| 2019 | 1086 | 1080 | 1067 | 1063 |\n",
       "| 2020 | 1060 | <!----> | <!----> | <!----> |\n",
       "\n"
      ],
      "text/plain": [
       "     Qtr1 Qtr2 Qtr3 Qtr4\n",
       "2010 1290 1284 1279 1278\n",
       "2011 1276 1274 1269 1267\n",
       "2012 1259 1257 1256 1256\n",
       "2013 1247 1244 1240 1233\n",
       "2014 1224 1224 1221 1318\n",
       "2015 1208 1197 1199 1197\n",
       "2016 1191 1178 1174 1166\n",
       "2017 1160 1151 1136 1123\n",
       "2018 1114 1111 1097 1094\n",
       "2019 1086 1080 1067 1063\n",
       "2020 1060               "
      ]
     },
     "metadata": {},
     "output_type": "display_data"
    }
   ],
   "source": [
    "index_secteur=1\n",
    "pred <- c(df.diff[1:(nrow(scaled_train)-prediction),index_secteur],LSTM_forecast_eval_stable[,,index_secteur])\n",
    "pred <-ts(pred, start=c(2010,2),frequency=4)\n",
    "obs <- df.diff[,index_secteur]\n",
    "\n",
    "\n",
    "#-----------------\n",
    "# Inverse differenciation\n",
    "starting_point <- df.ts[1,index_secteur]\n",
    "obs <-diffinv(obs,xi=starting_point)\n",
    "\n",
    "obs <-ts(obs, start=c(2010,1),frequency=4)\n",
    "pred <-diffinv(pred,xi=starting_point)\n",
    "pred\n",
    "obs"
   ]
  },
  {
   "cell_type": "code",
   "execution_count": 92,
   "metadata": {
    "vscode": {
     "languageId": "r"
    }
   },
   "outputs": [],
   "source": [
    "#-------------------------------\n",
    "#Save all plots\n",
    "for( index_secteur in 1:ncol(scaled_train)){\n",
    "\n",
    "    png(file=paste(\"plots/LSTM_stable/test_model/\",index_secteur,\".png\",sep=\"\"))\n",
    "    pred <- c(df.diff[1:(nrow(scaled_train)-prediction),index_secteur],LSTM_forecast_eval_stable[,,index_secteur])\n",
    "    pred <-ts(pred, start=c(2010,2),frequency=4)\n",
    "    obs <- df.diff[,index_secteur]\n",
    "\n",
    "\n",
    "    #-----------------\n",
    "    # Inverse differenciation\n",
    "    starting_point <- df.ts[1,index_secteur]\n",
    "    obs <-diffinv(obs,xi=starting_point)\n",
    "    pred <-diffinv(pred,xi=starting_point)\n",
    "    obs <-ts(obs, start=c(2010,1),frequency=4)\n",
    "\n",
    "    plot.ts(\n",
    "        cbind(pred,obs),\n",
    "        plot.type=\"single\",\n",
    "        lty=c(2,1),\n",
    "        lwd=1,\n",
    "        xlab=\"t\",\n",
    "        ylab=paste(\"Nombre d'Etablissements en GE pour le secteur :\",lab.to.num$lab[index_secteur],sep=\"\"),\n",
    "\n",
    "        col=c(\"blue\",\"red\")\n",
    "    )\n",
    "    legend(\"topleft\",\n",
    "\n",
    "        legend=c(\"Prédictions\",\"Observations\"),\n",
    "        col=c(\"blue\",\"red\"),\n",
    "        lty=c(2,1),\n",
    "        lwd=1\n",
    "    )\n",
    "    dev.off()\n",
    "}"
   ]
  },
  {
   "cell_type": "markdown",
   "metadata": {},
   "source": [
    "<hr>\n",
    "\n",
    "### Analyse des ecarts entre test et prediction *RMSE, MAE,MAPE,sMAPE*"
   ]
  },
  {
   "cell_type": "code",
   "execution_count": 93,
   "metadata": {
    "vscode": {
     "languageId": "r"
    }
   },
   "outputs": [],
   "source": [
    "RMSE <- c()\n",
    "for (index_secteur in 1:dim(LSTM_forecast_eval_nonstable)[3]){\n",
    "    pred <- c(df.diff[1:(nrow(scaled_train)-prediction),index_secteur],LSTM_forecast_eval_stable[,,index_secteur])\n",
    "    pred <-ts(pred, start=c(2010,2),frequency=4)\n",
    "    obs <- df.diff[,index_secteur]\n",
    "    #-----------------\n",
    "    # Inverse differenciation\n",
    "    starting_point <- df.ts[1,index_secteur]\n",
    "    obs <-diffinv(obs,xi=starting_point)\n",
    "    pred <-diffinv(pred,xi=starting_point)\n",
    "    obs <-ts(obs, start=c(2010,1),frequency=4)\n",
    "    obs <- obs[(length(obs)-lag+1):length(obs)]\n",
    "    pred <- pred[(length(pred)-lag+1):length(pred)]\n",
    "    RMSE <-c(RMSE,sqrt(mean((obs-pred)^2)))\n",
    "}\n",
    "RMSE <- RMSE %>% as.data.frame()\n",
    "colnames(RMSE) <- \"RMSE\""
   ]
  },
  {
   "cell_type": "code",
   "execution_count": 94,
   "metadata": {
    "vscode": {
     "languageId": "r"
    }
   },
   "outputs": [],
   "source": [
    "MAE <- c()\n",
    "for (index_secteur in 1:dim(LSTM_forecast_eval_stable)[3]){\n",
    "    pred <- c(df.diff[1:(nrow(scaled_train)-prediction),index_secteur],LSTM_forecast_eval_stable[,,index_secteur])\n",
    "    pred <-ts(pred, start=c(2010,2),frequency=4)\n",
    "    obs <- df.diff[,index_secteur]\n",
    "    #-----------------\n",
    "    # Inverse differenciation\n",
    "    starting_point <- df.ts[1,index_secteur]\n",
    "    obs <-diffinv(obs,xi=starting_point)\n",
    "    pred <-diffinv(pred,xi=starting_point)\n",
    "    obs <-ts(obs, start=c(2010,1),frequency=4)\n",
    "    obs <- obs[(length(obs)-lag+1):length(obs)]\n",
    "    pred <- pred[(length(pred)-lag+1):length(pred)]\n",
    "    MAE <-c(MAE,mean(abs(obs-pred)))\n",
    "    \n",
    "}\n",
    "MAE <- MAE %>%as.data.frame()\n",
    "colnames(MAE) <- \"MAE\""
   ]
  },
  {
   "cell_type": "code",
   "execution_count": 95,
   "metadata": {
    "vscode": {
     "languageId": "r"
    }
   },
   "outputs": [],
   "source": [
    "MAPE <- c()\n",
    "for (index_secteur in 1:dim(LSTM_forecast_eval_nonstable)[3]){\n",
    "    pred <- c(df.diff[1:(nrow(scaled_train)-prediction),index_secteur],LSTM_forecast_eval_stable[,,index_secteur])\n",
    "    pred <-ts(pred, start=c(2010,2),frequency=4)\n",
    "    obs <- df.diff[,index_secteur]\n",
    "    #-----------------\n",
    "    # Inverse differenciation\n",
    "    starting_point <- df.ts[1,index_secteur]\n",
    "    obs <-diffinv(obs,xi=starting_point)\n",
    "    pred <-diffinv(pred,xi=starting_point)\n",
    "    obs <-ts(obs, start=c(2010,1),frequency=4)\n",
    "    obs <- obs[(length(obs)-lag+1):length(obs)]\n",
    "    pred <- pred[(length(pred)-lag+1):length(pred)]\n",
    "    \n",
    "    MAPE <-c(MAPE,mean(abs((obs-pred)*100/obs)))\n",
    "    \n",
    "}\n",
    "MAPE <- MAPE %>%as.data.frame()\n",
    "colnames(MAPE) <- \"MAPE\""
   ]
  },
  {
   "cell_type": "code",
   "execution_count": 96,
   "metadata": {
    "vscode": {
     "languageId": "r"
    }
   },
   "outputs": [],
   "source": [
    "sMAPE <- c()\n",
    "for (index_secteur in 1:dim(LSTM_forecast_eval_nonstable)[3]){\n",
    "    pred <- c(df.diff[1:(nrow(scaled_train)-prediction),index_secteur],LSTM_forecast_eval_stable[,,index_secteur])\n",
    "    pred <-ts(pred, start=c(2010,2),frequency=4)\n",
    "    obs <- df.diff[,index_secteur]\n",
    "    #-----------------\n",
    "    # Inverse differenciation\n",
    "    starting_point <- df.ts[1,index_secteur]\n",
    "    obs <-diffinv(obs,xi=starting_point)\n",
    "    pred <-diffinv(pred,xi=starting_point)\n",
    "    obs <-ts(obs, start=c(2010,1),frequency=4)\n",
    "    obs <- obs[(length(obs)-lag+1):length(obs)]\n",
    "    pred <- pred[(length(pred)-lag+1):length(pred)]\n",
    "    sMAPE <-c(sMAPE,mean(200*abs(obs-pred)/(obs+pred)))\n",
    "    \n",
    "}\n",
    "sMAPE <- sMAPE %>%as.data.frame()\n",
    "colnames(sMAPE) <- \"sMAPE\""
   ]
  },
  {
   "cell_type": "code",
   "execution_count": 97,
   "metadata": {
    "vscode": {
     "languageId": "r"
    }
   },
   "outputs": [
    {
     "data": {
      "text/html": [
       "<table class=\"dataframe\">\n",
       "<caption>A data.frame: 26 × 5</caption>\n",
       "<thead>\n",
       "\t<tr><th scope=col>secteurs</th><th scope=col>RMSE</th><th scope=col>MAE</th><th scope=col>MAPE</th><th scope=col>sMAPE</th></tr>\n",
       "\t<tr><th scope=col>&lt;chr&gt;</th><th scope=col>&lt;dbl&gt;</th><th scope=col>&lt;dbl&gt;</th><th scope=col>&lt;dbl&gt;</th><th scope=col>&lt;dbl&gt;</th></tr>\n",
       "</thead>\n",
       "<tbody>\n",
       "\t<tr><td>64 Activités des services financiers, hors assurance et</td><td> 2.35594041</td><td> 1.97521817</td><td> 0.1846152</td><td> 0.1844276</td></tr>\n",
       "\t<tr><td>65-66 Assurance ; Activités auxiliaires de services fin</td><td> 4.90520036</td><td> 4.36868512</td><td> 1.1542084</td><td> 1.1528122</td></tr>\n",
       "\t<tr><td>852 Enseignement primaire                              </td><td> 2.04205399</td><td> 1.60807962</td><td> 2.2227282</td><td> 2.2617020</td></tr>\n",
       "\t<tr><td>853 Enseignement secondaire                            </td><td> 0.17883123</td><td> 0.15171850</td><td> 0.1041512</td><td> 0.1042193</td></tr>\n",
       "\t<tr><td>85x Enseignement / Autre                               </td><td>23.37337711</td><td>19.82446162</td><td> 1.8527433</td><td> 1.8769043</td></tr>\n",
       "\t<tr><td>861 Activités hospitalières                            </td><td> 3.36964486</td><td> 3.09546220</td><td> 3.1565761</td><td> 3.2165939</td></tr>\n",
       "\t<tr><td>862 Activité des médecins et des dentistes             </td><td> 5.92676943</td><td> 5.88308337</td><td> 3.2772380</td><td> 3.3325985</td></tr>\n",
       "\t<tr><td>869 Autres activités pour la santé humaine             </td><td> 2.47419939</td><td> 2.35832906</td><td> 1.6902857</td><td> 1.7061102</td></tr>\n",
       "\t<tr><td>87 Hébergement médico-social et social                 </td><td> 3.17811455</td><td> 3.15644356</td><td> 0.3205503</td><td> 0.3210719</td></tr>\n",
       "\t<tr><td>881 Action sociale sans hébergement pour personnes âgée</td><td> 3.10329963</td><td> 2.17156128</td><td> 0.3927036</td><td> 0.3941841</td></tr>\n",
       "\t<tr><td>889 Autre action sociale sans hébergement              </td><td> 4.88695701</td><td> 4.15973538</td><td> 0.2785799</td><td> 0.2780458</td></tr>\n",
       "\t<tr><td>931 Activités liées au sport                           </td><td>12.47542726</td><td> 9.62780842</td><td> 0.7178469</td><td> 0.7222060</td></tr>\n",
       "\t<tr><td>932 Activités récréatives et de loisirs                </td><td>10.59384383</td><td>10.09997175</td><td> 6.2398398</td><td> 6.0294361</td></tr>\n",
       "\t<tr><td>FZ_Construction                                        </td><td> 1.61290141</td><td> 1.36569322</td><td> 3.5973513</td><td> 3.6784468</td></tr>\n",
       "\t<tr><td>GZ_Commerce, réparation d'automobiles et de motocycles </td><td>11.66858881</td><td>10.90966889</td><td> 7.4498501</td><td> 7.7795515</td></tr>\n",
       "\t<tr><td>HZ_Transports et entreposage                           </td><td> 0.03346412</td><td> 0.02804717</td><td> 0.2549743</td><td> 0.2554380</td></tr>\n",
       "\t<tr><td>IZ_Hébergement et restauration                         </td><td> 6.94559225</td><td> 6.06142304</td><td> 2.7631742</td><td> 2.7129917</td></tr>\n",
       "\t<tr><td>JA_Edition et audiovisuel                              </td><td> 2.77303550</td><td> 2.24875169</td><td> 1.9568842</td><td> 1.9861878</td></tr>\n",
       "\t<tr><td>JB-JC_Télécommunications et ativités informatiques     </td><td> 1.53613439</td><td> 1.49538686</td><td>11.5230324</td><td>11.5541485</td></tr>\n",
       "\t<tr><td>LZ_Activités immobilières                              </td><td> 1.09849246</td><td> 0.96431354</td><td> 3.3439585</td><td> 3.4147595</td></tr>\n",
       "\t<tr><td>MA_Activités juridiques, de conseil et d'ingénierie    </td><td> 1.35458494</td><td> 1.02896453</td><td> 0.5327803</td><td> 0.5352415</td></tr>\n",
       "\t<tr><td>MB-MC_R&amp;d et autres activités scientifiques et techniqu</td><td> 0.86600634</td><td> 0.66603537</td><td> 1.0938929</td><td> 1.1007052</td></tr>\n",
       "\t<tr><td>NZ_Activités de services administratifs et de soutien  </td><td> 4.08833856</td><td> 3.77901949</td><td> 1.3479629</td><td> 1.3373780</td></tr>\n",
       "\t<tr><td>RZ_Arts, spectacles et activités récréatives           </td><td>10.88680699</td><td>10.41586318</td><td> 1.0361707</td><td> 1.0352916</td></tr>\n",
       "\t<tr><td>SZ_autres activités de services                        </td><td>37.24070985</td><td>37.21182271</td><td> 1.2967635</td><td> 1.2883938</td></tr>\n",
       "\t<tr><td>i_Industrie et agriculture                             </td><td> 2.47525374</td><td> 2.32754360</td><td> 3.5152827</td><td> 3.4797883</td></tr>\n",
       "</tbody>\n",
       "</table>\n"
      ],
      "text/latex": [
       "A data.frame: 26 × 5\n",
       "\\begin{tabular}{lllll}\n",
       " secteurs & RMSE & MAE & MAPE & sMAPE\\\\\n",
       " <chr> & <dbl> & <dbl> & <dbl> & <dbl>\\\\\n",
       "\\hline\n",
       "\t 64 Activités des services financiers, hors assurance et &  2.35594041 &  1.97521817 &  0.1846152 &  0.1844276\\\\\n",
       "\t 65-66 Assurance ; Activités auxiliaires de services fin &  4.90520036 &  4.36868512 &  1.1542084 &  1.1528122\\\\\n",
       "\t 852 Enseignement primaire                               &  2.04205399 &  1.60807962 &  2.2227282 &  2.2617020\\\\\n",
       "\t 853 Enseignement secondaire                             &  0.17883123 &  0.15171850 &  0.1041512 &  0.1042193\\\\\n",
       "\t 85x Enseignement / Autre                                & 23.37337711 & 19.82446162 &  1.8527433 &  1.8769043\\\\\n",
       "\t 861 Activités hospitalières                             &  3.36964486 &  3.09546220 &  3.1565761 &  3.2165939\\\\\n",
       "\t 862 Activité des médecins et des dentistes              &  5.92676943 &  5.88308337 &  3.2772380 &  3.3325985\\\\\n",
       "\t 869 Autres activités pour la santé humaine              &  2.47419939 &  2.35832906 &  1.6902857 &  1.7061102\\\\\n",
       "\t 87 Hébergement médico-social et social                  &  3.17811455 &  3.15644356 &  0.3205503 &  0.3210719\\\\\n",
       "\t 881 Action sociale sans hébergement pour personnes âgée &  3.10329963 &  2.17156128 &  0.3927036 &  0.3941841\\\\\n",
       "\t 889 Autre action sociale sans hébergement               &  4.88695701 &  4.15973538 &  0.2785799 &  0.2780458\\\\\n",
       "\t 931 Activités liées au sport                            & 12.47542726 &  9.62780842 &  0.7178469 &  0.7222060\\\\\n",
       "\t 932 Activités récréatives et de loisirs                 & 10.59384383 & 10.09997175 &  6.2398398 &  6.0294361\\\\\n",
       "\t FZ\\_Construction                                         &  1.61290141 &  1.36569322 &  3.5973513 &  3.6784468\\\\\n",
       "\t GZ\\_Commerce, réparation d'automobiles et de motocycles  & 11.66858881 & 10.90966889 &  7.4498501 &  7.7795515\\\\\n",
       "\t HZ\\_Transports et entreposage                            &  0.03346412 &  0.02804717 &  0.2549743 &  0.2554380\\\\\n",
       "\t IZ\\_Hébergement et restauration                          &  6.94559225 &  6.06142304 &  2.7631742 &  2.7129917\\\\\n",
       "\t JA\\_Edition et audiovisuel                               &  2.77303550 &  2.24875169 &  1.9568842 &  1.9861878\\\\\n",
       "\t JB-JC\\_Télécommunications et ativités informatiques      &  1.53613439 &  1.49538686 & 11.5230324 & 11.5541485\\\\\n",
       "\t LZ\\_Activités immobilières                               &  1.09849246 &  0.96431354 &  3.3439585 &  3.4147595\\\\\n",
       "\t MA\\_Activités juridiques, de conseil et d'ingénierie     &  1.35458494 &  1.02896453 &  0.5327803 &  0.5352415\\\\\n",
       "\t MB-MC\\_R\\&d et autres activités scientifiques et techniqu &  0.86600634 &  0.66603537 &  1.0938929 &  1.1007052\\\\\n",
       "\t NZ\\_Activités de services administratifs et de soutien   &  4.08833856 &  3.77901949 &  1.3479629 &  1.3373780\\\\\n",
       "\t RZ\\_Arts, spectacles et activités récréatives            & 10.88680699 & 10.41586318 &  1.0361707 &  1.0352916\\\\\n",
       "\t SZ\\_autres activités de services                         & 37.24070985 & 37.21182271 &  1.2967635 &  1.2883938\\\\\n",
       "\t i\\_Industrie et agriculture                              &  2.47525374 &  2.32754360 &  3.5152827 &  3.4797883\\\\\n",
       "\\end{tabular}\n"
      ],
      "text/markdown": [
       "\n",
       "A data.frame: 26 × 5\n",
       "\n",
       "| secteurs &lt;chr&gt; | RMSE &lt;dbl&gt; | MAE &lt;dbl&gt; | MAPE &lt;dbl&gt; | sMAPE &lt;dbl&gt; |\n",
       "|---|---|---|---|---|\n",
       "| 64 Activités des services financiers, hors assurance et |  2.35594041 |  1.97521817 |  0.1846152 |  0.1844276 |\n",
       "| 65-66 Assurance ; Activités auxiliaires de services fin |  4.90520036 |  4.36868512 |  1.1542084 |  1.1528122 |\n",
       "| 852 Enseignement primaire                               |  2.04205399 |  1.60807962 |  2.2227282 |  2.2617020 |\n",
       "| 853 Enseignement secondaire                             |  0.17883123 |  0.15171850 |  0.1041512 |  0.1042193 |\n",
       "| 85x Enseignement / Autre                                | 23.37337711 | 19.82446162 |  1.8527433 |  1.8769043 |\n",
       "| 861 Activités hospitalières                             |  3.36964486 |  3.09546220 |  3.1565761 |  3.2165939 |\n",
       "| 862 Activité des médecins et des dentistes              |  5.92676943 |  5.88308337 |  3.2772380 |  3.3325985 |\n",
       "| 869 Autres activités pour la santé humaine              |  2.47419939 |  2.35832906 |  1.6902857 |  1.7061102 |\n",
       "| 87 Hébergement médico-social et social                  |  3.17811455 |  3.15644356 |  0.3205503 |  0.3210719 |\n",
       "| 881 Action sociale sans hébergement pour personnes âgée |  3.10329963 |  2.17156128 |  0.3927036 |  0.3941841 |\n",
       "| 889 Autre action sociale sans hébergement               |  4.88695701 |  4.15973538 |  0.2785799 |  0.2780458 |\n",
       "| 931 Activités liées au sport                            | 12.47542726 |  9.62780842 |  0.7178469 |  0.7222060 |\n",
       "| 932 Activités récréatives et de loisirs                 | 10.59384383 | 10.09997175 |  6.2398398 |  6.0294361 |\n",
       "| FZ_Construction                                         |  1.61290141 |  1.36569322 |  3.5973513 |  3.6784468 |\n",
       "| GZ_Commerce, réparation d'automobiles et de motocycles  | 11.66858881 | 10.90966889 |  7.4498501 |  7.7795515 |\n",
       "| HZ_Transports et entreposage                            |  0.03346412 |  0.02804717 |  0.2549743 |  0.2554380 |\n",
       "| IZ_Hébergement et restauration                          |  6.94559225 |  6.06142304 |  2.7631742 |  2.7129917 |\n",
       "| JA_Edition et audiovisuel                               |  2.77303550 |  2.24875169 |  1.9568842 |  1.9861878 |\n",
       "| JB-JC_Télécommunications et ativités informatiques      |  1.53613439 |  1.49538686 | 11.5230324 | 11.5541485 |\n",
       "| LZ_Activités immobilières                               |  1.09849246 |  0.96431354 |  3.3439585 |  3.4147595 |\n",
       "| MA_Activités juridiques, de conseil et d'ingénierie     |  1.35458494 |  1.02896453 |  0.5327803 |  0.5352415 |\n",
       "| MB-MC_R&amp;d et autres activités scientifiques et techniqu |  0.86600634 |  0.66603537 |  1.0938929 |  1.1007052 |\n",
       "| NZ_Activités de services administratifs et de soutien   |  4.08833856 |  3.77901949 |  1.3479629 |  1.3373780 |\n",
       "| RZ_Arts, spectacles et activités récréatives            | 10.88680699 | 10.41586318 |  1.0361707 |  1.0352916 |\n",
       "| SZ_autres activités de services                         | 37.24070985 | 37.21182271 |  1.2967635 |  1.2883938 |\n",
       "| i_Industrie et agriculture                              |  2.47525374 |  2.32754360 |  3.5152827 |  3.4797883 |\n",
       "\n"
      ],
      "text/plain": [
       "   secteurs                                                RMSE       \n",
       "1  64 Activités des services financiers, hors assurance et  2.35594041\n",
       "2  65-66 Assurance ; Activités auxiliaires de services fin  4.90520036\n",
       "3  852 Enseignement primaire                                2.04205399\n",
       "4  853 Enseignement secondaire                              0.17883123\n",
       "5  85x Enseignement / Autre                                23.37337711\n",
       "6  861 Activités hospitalières                              3.36964486\n",
       "7  862 Activité des médecins et des dentistes               5.92676943\n",
       "8  869 Autres activités pour la santé humaine               2.47419939\n",
       "9  87 Hébergement médico-social et social                   3.17811455\n",
       "10 881 Action sociale sans hébergement pour personnes âgée  3.10329963\n",
       "11 889 Autre action sociale sans hébergement                4.88695701\n",
       "12 931 Activités liées au sport                            12.47542726\n",
       "13 932 Activités récréatives et de loisirs                 10.59384383\n",
       "14 FZ_Construction                                          1.61290141\n",
       "15 GZ_Commerce, réparation d'automobiles et de motocycles  11.66858881\n",
       "16 HZ_Transports et entreposage                             0.03346412\n",
       "17 IZ_Hébergement et restauration                           6.94559225\n",
       "18 JA_Edition et audiovisuel                                2.77303550\n",
       "19 JB-JC_Télécommunications et ativités informatiques       1.53613439\n",
       "20 LZ_Activités immobilières                                1.09849246\n",
       "21 MA_Activités juridiques, de conseil et d'ingénierie      1.35458494\n",
       "22 MB-MC_R&d et autres activités scientifiques et techniqu  0.86600634\n",
       "23 NZ_Activités de services administratifs et de soutien    4.08833856\n",
       "24 RZ_Arts, spectacles et activités récréatives            10.88680699\n",
       "25 SZ_autres activités de services                         37.24070985\n",
       "26 i_Industrie et agriculture                               2.47525374\n",
       "   MAE         MAPE       sMAPE     \n",
       "1   1.97521817  0.1846152  0.1844276\n",
       "2   4.36868512  1.1542084  1.1528122\n",
       "3   1.60807962  2.2227282  2.2617020\n",
       "4   0.15171850  0.1041512  0.1042193\n",
       "5  19.82446162  1.8527433  1.8769043\n",
       "6   3.09546220  3.1565761  3.2165939\n",
       "7   5.88308337  3.2772380  3.3325985\n",
       "8   2.35832906  1.6902857  1.7061102\n",
       "9   3.15644356  0.3205503  0.3210719\n",
       "10  2.17156128  0.3927036  0.3941841\n",
       "11  4.15973538  0.2785799  0.2780458\n",
       "12  9.62780842  0.7178469  0.7222060\n",
       "13 10.09997175  6.2398398  6.0294361\n",
       "14  1.36569322  3.5973513  3.6784468\n",
       "15 10.90966889  7.4498501  7.7795515\n",
       "16  0.02804717  0.2549743  0.2554380\n",
       "17  6.06142304  2.7631742  2.7129917\n",
       "18  2.24875169  1.9568842  1.9861878\n",
       "19  1.49538686 11.5230324 11.5541485\n",
       "20  0.96431354  3.3439585  3.4147595\n",
       "21  1.02896453  0.5327803  0.5352415\n",
       "22  0.66603537  1.0938929  1.1007052\n",
       "23  3.77901949  1.3479629  1.3373780\n",
       "24 10.41586318  1.0361707  1.0352916\n",
       "25 37.21182271  1.2967635  1.2883938\n",
       "26  2.32754360  3.5152827  3.4797883"
      ]
     },
     "metadata": {},
     "output_type": "display_data"
    }
   ],
   "source": [
    "predict_accuracy_stable <- cbind(\"secteurs\"=lab.to.num$lab,RMSE,MAE,MAPE,sMAPE)\n",
    "predict_accuracy_stable\n"
   ]
  },
  {
   "cell_type": "markdown",
   "metadata": {},
   "source": [
    "<hr>\n",
    "\n",
    "## II.B Covid Forecastings\n",
    "\n",
    "## II.B.1 Covid Forecasting : LSTM model with nonstable TS"
   ]
  },
  {
   "cell_type": "code",
   "execution_count": 98,
   "metadata": {
    "vscode": {
     "languageId": "r"
    }
   },
   "outputs": [],
   "source": [
    "df.train <-df.ts %>% as.data.frame\n",
    "#-----------------------------\n",
    "# Scaled the train sample and get the sample factor parmas: mean + sd\n",
    "scaled_train <- scale(df.train)\n",
    "scale_factor <-list(\"center\"=attr(scaled_train,\"scaled:center\"),\"sd\"=attr(scaled_train,\"scaled:scale\"))\n",
    "#----------------\n",
    "# We d like to do a 6 Quarter forecast,\n",
    "# We need to base each prediction on 6 points\n",
    "prediction <- 5\n",
    "lag <- prediction"
   ]
  },
  {
   "cell_type": "code",
   "execution_count": 99,
   "metadata": {
    "vscode": {
     "languageId": "r"
    }
   },
   "outputs": [
    {
     "name": "stdout",
     "output_type": "stream",
     "text": [
      "X_train interval : 1 2 3 4 5 6 7 8 9 10 11 12 13 14 15 16 17 18 19 20 21 22 23 24 25 26 27 28 29 30 31 32 \n",
      "Y_train interval : 6 7 8 9 10 11 12 13 14 15 16 17 18 19 20 21 22 23 24 25 26 27 28 29 30 31 32 33 34 35 36 37\n",
      "x_train dim : 32 5 26 \n",
      "Y_train dim : 32 5 26"
     ]
    }
   ],
   "source": [
    "\n",
    "x_train_data <-t(sapply(\n",
    "    1:(dim(scaled_train)[1]-lag-prediction +1),\n",
    "    function(x){scaled_train[x:(x+lag-1),1]}\n",
    "))\n",
    "\n",
    "for(i in 2:ncol(scaled_train)){\n",
    "    new <-t(sapply(\n",
    "        1:(dim(scaled_train)[1]-lag-prediction +1),\n",
    "        function(x){scaled_train[x:(x+lag-1),i]}\n",
    "    ))\n",
    "    x_train_data <-cbind(x_train_data,new)\n",
    "    \n",
    "}\n",
    "x_train_arr <- array(\n",
    "    data=as.numeric(unlist(x_train_data)),\n",
    "    dim=c(\n",
    "        nrow(x_train_data),\n",
    "        ncol(x_train_data),\n",
    "        1\n",
    "        )\n",
    "\n",
    ")\n",
    "y_train_data <-  t(sapply(\n",
    "    (1+lag):(dim(scaled_train)[1]-prediction +1),\n",
    "    function(x){scaled_train[x:(x+prediction-1),1]}\n",
    "))\n",
    "y_train_arr <-array(\n",
    "    data=as.numeric(unlist(y_train_data)),\n",
    "    dim=c(\n",
    "        nrow(y_train_data),\n",
    "        prediction,\n",
    "        1\n",
    "    )\n",
    ")\n",
    "x_bis <-sapply(\n",
    "        1:ncol(scaled_train),\n",
    "        function(x){scaled_train[1:(32-1+1),x]}\n",
    ")\n",
    "\n",
    "x_bis_first_array <-array(\n",
    "    data=unlist(x_bis),\n",
    "    dim=c(nrow(x_bis),1,ncol(x_bis))\n",
    ")\n",
    "tot_array <-array(NA, dim=c(\n",
    "    nrow(x_bis),\n",
    "    lag,\n",
    "    ncol(x_bis)\n",
    "))\n",
    "tot_array[,1,] <- x_bis_first_array\n",
    "\n",
    "\n",
    "for (i in 2:lag){\n",
    "    new <-sapply(\n",
    "        1:ncol(scaled_train),\n",
    "        function(x){scaled_train[i:(i+32-1),x]}\n",
    "    )\n",
    "    new <- array(\n",
    "        data=unlist(new),\n",
    "        dim=c(nrow(x_bis),1,ncol(x_bis))\n",
    "    )\n",
    "    tot_array[,i,] <- new\n",
    "}\n",
    "x_train_arr_bis <- tot_array\n",
    "y_train_data_bis <-  t(sapply(\n",
    "    (1+lag):(dim(scaled_train)[1]-prediction +1),\n",
    "    function(x){scaled_train[x:(x+prediction-1),1]}\n",
    "))\n",
    "\n",
    "tot_array <-array(NA, dim=c(\n",
    "    nrow(y_train_data_bis),\n",
    "    lag,\n",
    "    ncol(scaled_train)\n",
    "))\n",
    "\n",
    "tot_array[,,1] <- y_train_data_bis\n",
    "\n",
    "for (i in 2:ncol(scaled_train)){\n",
    "    new <-  t(sapply(\n",
    "        (1+lag):(dim(scaled_train)[1]-prediction +1),\n",
    "        function(x){scaled_train[x:(x+prediction-1),i]}\n",
    "    ))\n",
    "\n",
    "    new_array <- array(\n",
    "        data=as.numeric(unlist(new)),\n",
    "        dim=c(nrow(new),\n",
    "        ncol(new),\n",
    "        1)\n",
    "    )\n",
    "    tot_array[,,i] <- new_array\n",
    "\n",
    "}\n",
    "\n",
    "y_train_arr_bis <- tot_array\n",
    "cat(\"X_train interval :\",1:(dim(scaled_train)[1]-lag-prediction +1),\n",
    "\"\\nY_train interval :\",\n",
    "(1+lag):(dim(scaled_train)[1]-prediction +1))\n",
    "cat(\"\\nx_train dim :\",x_train_arr_bis%>%dim,\"\\nY_train dim :\",y_train_arr_bis%>%dim)"
   ]
  },
  {
   "cell_type": "code",
   "execution_count": 100,
   "metadata": {
    "vscode": {
     "languageId": "r"
    }
   },
   "outputs": [],
   "source": [
    "LSTM_model_nonstable_forecasting <- keras_model_sequential()\n",
    "\n",
    "LSTM_model_nonstable_forecasting%>% layer_lstm(\n",
    "    units=50,\n",
    "    batch_input_shape=c(1,lag,26),#BATCH size , timestep ,features\n",
    "    return_sequences=T,\n",
    "    stateful=T\n",
    "\n",
    ")%>%\n",
    "layer_dropout(rate=0.5)%>%layer_lstm(\n",
    "    units =50,\n",
    "    return_sequences=T,stateful=T\n",
    ")%>% layer_dropout(rate=0.5)%>% time_distributed(keras::layer_dense(units=26))"
   ]
  },
  {
   "cell_type": "code",
   "execution_count": 101,
   "metadata": {
    "vscode": {
     "languageId": "r"
    }
   },
   "outputs": [
    {
     "name": "stdout",
     "output_type": "stream",
     "text": [
      "Model: \"sequential_2\"\n",
      "________________________________________________________________________________\n",
      " Layer (type)                       Output Shape                    Param #     \n",
      "================================================================================\n",
      " lstm_5 (LSTM)                      (1, 5, 50)                      15400       \n",
      " dropout_5 (Dropout)                (1, 5, 50)                      0           \n",
      " lstm_4 (LSTM)                      (1, 5, 50)                      20200       \n",
      " dropout_4 (Dropout)                (1, 5, 50)                      0           \n",
      " time_distributed_2 (TimeDistribute  (1, 5, 26)                     1326        \n",
      " d)                                                                             \n",
      "================================================================================\n",
      "Total params: 36,926\n",
      "Trainable params: 36,926\n",
      "Non-trainable params: 0\n",
      "________________________________________________________________________________\n"
     ]
    }
   ],
   "source": [
    "LSTM_model_nonstable_forecasting%>% compile(loss='mae',optimizer='adam',metrics='accuracy')\n",
    "summary(LSTM_model_nonstable_forecasting)"
   ]
  },
  {
   "cell_type": "code",
   "execution_count": 102,
   "metadata": {
    "vscode": {
     "languageId": "r"
    }
   },
   "outputs": [],
   "source": [
    "LSTM_model_nonstable_forecasting %>% keras::fit(\n",
    "    x=x_train_arr_bis,\n",
    "    y=y_train_arr_bis,\n",
    "    batch_size=1,\n",
    "    epochs=40,# Number of times to iterate over the training data\n",
    "    verbose=2,\n",
    "    shuffle=FALSE\n",
    ")"
   ]
  },
  {
   "cell_type": "code",
   "execution_count": 104,
   "metadata": {
    "vscode": {
     "languageId": "r"
    }
   },
   "outputs": [
    {
     "name": "stdout",
     "output_type": "stream",
     "text": [
      "X_test interval : 37 38 39 40 41"
     ]
    },
    {
     "data": {
      "text/html": [
       "<table class=\"dataframe\">\n",
       "<caption>A data.frame: 5 × 26</caption>\n",
       "<thead>\n",
       "\t<tr><th></th><th scope=col>1</th><th scope=col>2</th><th scope=col>3</th><th scope=col>4</th><th scope=col>5</th><th scope=col>6</th><th scope=col>7</th><th scope=col>8</th><th scope=col>9</th><th scope=col>10</th><th scope=col>⋯</th><th scope=col>17</th><th scope=col>18</th><th scope=col>19</th><th scope=col>20</th><th scope=col>21</th><th scope=col>22</th><th scope=col>23</th><th scope=col>24</th><th scope=col>25</th><th scope=col>26</th></tr>\n",
       "\t<tr><th></th><th scope=col>&lt;dbl&gt;</th><th scope=col>&lt;dbl&gt;</th><th scope=col>&lt;dbl&gt;</th><th scope=col>&lt;dbl&gt;</th><th scope=col>&lt;dbl&gt;</th><th scope=col>&lt;dbl&gt;</th><th scope=col>&lt;dbl&gt;</th><th scope=col>&lt;dbl&gt;</th><th scope=col>&lt;dbl&gt;</th><th scope=col>&lt;dbl&gt;</th><th scope=col>⋯</th><th scope=col>&lt;dbl&gt;</th><th scope=col>&lt;dbl&gt;</th><th scope=col>&lt;dbl&gt;</th><th scope=col>&lt;dbl&gt;</th><th scope=col>&lt;dbl&gt;</th><th scope=col>&lt;dbl&gt;</th><th scope=col>&lt;dbl&gt;</th><th scope=col>&lt;dbl&gt;</th><th scope=col>&lt;dbl&gt;</th><th scope=col>&lt;dbl&gt;</th></tr>\n",
       "</thead>\n",
       "<tbody>\n",
       "\t<tr><th scope=row>37</th><td>-1.487543</td><td> 0.2012973</td><td>-0.02554141</td><td>-0.7516831</td><td>-1.817865</td><td>-0.3999895</td><td>1.520019</td><td>1.768786</td><td>1.506211</td><td>-0.92030526</td><td>⋯</td><td>-0.7926403</td><td> 0.3840878</td><td>-1.179702</td><td>-0.78965979</td><td>-1.3253906</td><td>-1.3712542</td><td>-1.760234</td><td>-1.07316261</td><td>-1.968311</td><td>1.227590</td></tr>\n",
       "\t<tr><th scope=row>38</th><td>-1.568466</td><td>-0.6435174</td><td>-0.02554141</td><td>-0.7516831</td><td>-1.752140</td><td> 0.4864737</td><td>1.682949</td><td>1.579932</td><td>1.543729</td><td>-1.06543032</td><td>⋯</td><td>-0.6092933</td><td> 1.3839354</td><td>-1.179702</td><td>-0.09340062</td><td>-0.9690561</td><td>-0.9285659</td><td>-1.804564</td><td> 0.55234986</td><td>-1.761572</td><td>1.409291</td></tr>\n",
       "\t<tr><th scope=row>39</th><td>-1.743800</td><td>-0.6435174</td><td> 1.02165638</td><td>-0.4905051</td><td>-1.752140</td><td>-0.3999895</td><td>1.520019</td><td>1.391077</td><td>1.693801</td><td>-0.33980502</td><td>⋯</td><td> 0.2616048</td><td> 0.1341259</td><td>-1.179702</td><td>-0.44153020</td><td>-1.6817251</td><td>-1.1499100</td><td>-1.494253</td><td>-1.62731458</td><td>-1.988985</td><td>1.590992</td></tr>\n",
       "\t<tr><th scope=row>40</th><td>-1.797749</td><td>-0.8384746</td><td> 2.06885416</td><td>-0.4905051</td><td>-1.423513</td><td>-0.3999895</td><td>1.438554</td><td>1.202222</td><td>1.693801</td><td> 0.09557016</td><td>⋯</td><td>-0.7926403</td><td>-0.1158360</td><td>-1.179702</td><td>-0.78965979</td><td>-1.1472234</td><td>-0.7072217</td><td>-1.671574</td><td>-0.03874559</td><td>-2.030333</td><td>2.317796</td></tr>\n",
       "\t<tr><th scope=row>41</th><td>-1.838211</td><td>-1.0984176</td><td> 2.06885416</td><td>-0.4905051</td><td>-1.642597</td><td> 0.4864737</td><td>1.601484</td><td>1.202222</td><td>1.768838</td><td>-0.77518020</td><td>⋯</td><td>-0.9759873</td><td> 0.8840116</td><td>-2.535808</td><td>-1.13778937</td><td>-0.7908888</td><td>-1.3712542</td><td>-1.582913</td><td>-1.70120151</td><td>-2.392127</td><td>2.862899</td></tr>\n",
       "</tbody>\n",
       "</table>\n"
      ],
      "text/latex": [
       "A data.frame: 5 × 26\n",
       "\\begin{tabular}{r|lllllllllllllllllllll}\n",
       "  & 1 & 2 & 3 & 4 & 5 & 6 & 7 & 8 & 9 & 10 & ⋯ & 17 & 18 & 19 & 20 & 21 & 22 & 23 & 24 & 25 & 26\\\\\n",
       "  & <dbl> & <dbl> & <dbl> & <dbl> & <dbl> & <dbl> & <dbl> & <dbl> & <dbl> & <dbl> & ⋯ & <dbl> & <dbl> & <dbl> & <dbl> & <dbl> & <dbl> & <dbl> & <dbl> & <dbl> & <dbl>\\\\\n",
       "\\hline\n",
       "\t37 & -1.487543 &  0.2012973 & -0.02554141 & -0.7516831 & -1.817865 & -0.3999895 & 1.520019 & 1.768786 & 1.506211 & -0.92030526 & ⋯ & -0.7926403 &  0.3840878 & -1.179702 & -0.78965979 & -1.3253906 & -1.3712542 & -1.760234 & -1.07316261 & -1.968311 & 1.227590\\\\\n",
       "\t38 & -1.568466 & -0.6435174 & -0.02554141 & -0.7516831 & -1.752140 &  0.4864737 & 1.682949 & 1.579932 & 1.543729 & -1.06543032 & ⋯ & -0.6092933 &  1.3839354 & -1.179702 & -0.09340062 & -0.9690561 & -0.9285659 & -1.804564 &  0.55234986 & -1.761572 & 1.409291\\\\\n",
       "\t39 & -1.743800 & -0.6435174 &  1.02165638 & -0.4905051 & -1.752140 & -0.3999895 & 1.520019 & 1.391077 & 1.693801 & -0.33980502 & ⋯ &  0.2616048 &  0.1341259 & -1.179702 & -0.44153020 & -1.6817251 & -1.1499100 & -1.494253 & -1.62731458 & -1.988985 & 1.590992\\\\\n",
       "\t40 & -1.797749 & -0.8384746 &  2.06885416 & -0.4905051 & -1.423513 & -0.3999895 & 1.438554 & 1.202222 & 1.693801 &  0.09557016 & ⋯ & -0.7926403 & -0.1158360 & -1.179702 & -0.78965979 & -1.1472234 & -0.7072217 & -1.671574 & -0.03874559 & -2.030333 & 2.317796\\\\\n",
       "\t41 & -1.838211 & -1.0984176 &  2.06885416 & -0.4905051 & -1.642597 &  0.4864737 & 1.601484 & 1.202222 & 1.768838 & -0.77518020 & ⋯ & -0.9759873 &  0.8840116 & -2.535808 & -1.13778937 & -0.7908888 & -1.3712542 & -1.582913 & -1.70120151 & -2.392127 & 2.862899\\\\\n",
       "\\end{tabular}\n"
      ],
      "text/markdown": [
       "\n",
       "A data.frame: 5 × 26\n",
       "\n",
       "| <!--/--> | 1 &lt;dbl&gt; | 2 &lt;dbl&gt; | 3 &lt;dbl&gt; | 4 &lt;dbl&gt; | 5 &lt;dbl&gt; | 6 &lt;dbl&gt; | 7 &lt;dbl&gt; | 8 &lt;dbl&gt; | 9 &lt;dbl&gt; | 10 &lt;dbl&gt; | ⋯ ⋯ | 17 &lt;dbl&gt; | 18 &lt;dbl&gt; | 19 &lt;dbl&gt; | 20 &lt;dbl&gt; | 21 &lt;dbl&gt; | 22 &lt;dbl&gt; | 23 &lt;dbl&gt; | 24 &lt;dbl&gt; | 25 &lt;dbl&gt; | 26 &lt;dbl&gt; |\n",
       "|---|---|---|---|---|---|---|---|---|---|---|---|---|---|---|---|---|---|---|---|---|---|\n",
       "| 37 | -1.487543 |  0.2012973 | -0.02554141 | -0.7516831 | -1.817865 | -0.3999895 | 1.520019 | 1.768786 | 1.506211 | -0.92030526 | ⋯ | -0.7926403 |  0.3840878 | -1.179702 | -0.78965979 | -1.3253906 | -1.3712542 | -1.760234 | -1.07316261 | -1.968311 | 1.227590 |\n",
       "| 38 | -1.568466 | -0.6435174 | -0.02554141 | -0.7516831 | -1.752140 |  0.4864737 | 1.682949 | 1.579932 | 1.543729 | -1.06543032 | ⋯ | -0.6092933 |  1.3839354 | -1.179702 | -0.09340062 | -0.9690561 | -0.9285659 | -1.804564 |  0.55234986 | -1.761572 | 1.409291 |\n",
       "| 39 | -1.743800 | -0.6435174 |  1.02165638 | -0.4905051 | -1.752140 | -0.3999895 | 1.520019 | 1.391077 | 1.693801 | -0.33980502 | ⋯ |  0.2616048 |  0.1341259 | -1.179702 | -0.44153020 | -1.6817251 | -1.1499100 | -1.494253 | -1.62731458 | -1.988985 | 1.590992 |\n",
       "| 40 | -1.797749 | -0.8384746 |  2.06885416 | -0.4905051 | -1.423513 | -0.3999895 | 1.438554 | 1.202222 | 1.693801 |  0.09557016 | ⋯ | -0.7926403 | -0.1158360 | -1.179702 | -0.78965979 | -1.1472234 | -0.7072217 | -1.671574 | -0.03874559 | -2.030333 | 2.317796 |\n",
       "| 41 | -1.838211 | -1.0984176 |  2.06885416 | -0.4905051 | -1.642597 |  0.4864737 | 1.601484 | 1.202222 | 1.768838 | -0.77518020 | ⋯ | -0.9759873 |  0.8840116 | -2.535808 | -1.13778937 | -0.7908888 | -1.3712542 | -1.582913 | -1.70120151 | -2.392127 | 2.862899 |\n",
       "\n"
      ],
      "text/plain": [
       "   1         2          3           4          5         6          7       \n",
       "37 -1.487543  0.2012973 -0.02554141 -0.7516831 -1.817865 -0.3999895 1.520019\n",
       "38 -1.568466 -0.6435174 -0.02554141 -0.7516831 -1.752140  0.4864737 1.682949\n",
       "39 -1.743800 -0.6435174  1.02165638 -0.4905051 -1.752140 -0.3999895 1.520019\n",
       "40 -1.797749 -0.8384746  2.06885416 -0.4905051 -1.423513 -0.3999895 1.438554\n",
       "41 -1.838211 -1.0984176  2.06885416 -0.4905051 -1.642597  0.4864737 1.601484\n",
       "   8        9        10          ⋯ 17         18         19        20         \n",
       "37 1.768786 1.506211 -0.92030526 ⋯ -0.7926403  0.3840878 -1.179702 -0.78965979\n",
       "38 1.579932 1.543729 -1.06543032 ⋯ -0.6092933  1.3839354 -1.179702 -0.09340062\n",
       "39 1.391077 1.693801 -0.33980502 ⋯  0.2616048  0.1341259 -1.179702 -0.44153020\n",
       "40 1.202222 1.693801  0.09557016 ⋯ -0.7926403 -0.1158360 -1.179702 -0.78965979\n",
       "41 1.202222 1.768838 -0.77518020 ⋯ -0.9759873  0.8840116 -2.535808 -1.13778937\n",
       "   21         22         23        24          25        26      \n",
       "37 -1.3253906 -1.3712542 -1.760234 -1.07316261 -1.968311 1.227590\n",
       "38 -0.9690561 -0.9285659 -1.804564  0.55234986 -1.761572 1.409291\n",
       "39 -1.6817251 -1.1499100 -1.494253 -1.62731458 -1.988985 1.590992\n",
       "40 -1.1472234 -0.7072217 -1.671574 -0.03874559 -2.030333 2.317796\n",
       "41 -0.7908888 -1.3712542 -1.582913 -1.70120151 -2.392127 2.862899"
      ]
     },
     "metadata": {},
     "output_type": "display_data"
    }
   ],
   "source": [
    "x_test <-df.train[(nrow(scaled_train)- prediction+1):nrow(scaled_train),]\n",
    "\n",
    "# 2. Scaled \n",
    "for(i in 1:ncol(x_test)){\n",
    "    x_test[,i] <-(x_test[,i] -scale_factor[[\"center\"]][i])/scale_factor[[\"sd\"]][i]\n",
    "}\n",
    "x_test_scaled <- x_test\n",
    "cat(\"X_test interval :\",(nrow(scaled_train)- prediction+1):nrow(scaled_train))\n",
    "x_test_scaled"
   ]
  },
  {
   "cell_type": "code",
   "execution_count": 105,
   "metadata": {
    "vscode": {
     "languageId": "r"
    }
   },
   "outputs": [],
   "source": [
    "x_test_array <- array(\n",
    "    data = as.numeric(unlist(x_test_scaled)),\n",
    "    dim=c(1,lag,26)\n",
    ")"
   ]
  },
  {
   "cell_type": "code",
   "execution_count": 106,
   "metadata": {
    "vscode": {
     "languageId": "r"
    }
   },
   "outputs": [],
   "source": [
    "#----------------\n",
    "# Covid forecast\n",
    "LSTM_forecast_covid_non_stable <- LSTM_model_nonstable_forecasting %>% predict(x_test_array,batch_size=1)"
   ]
  },
  {
   "cell_type": "code",
   "execution_count": 107,
   "metadata": {
    "vscode": {
     "languageId": "r"
    }
   },
   "outputs": [],
   "source": [
    "#-------------\n",
    "# 1.unscale Predictions\n",
    "for (i in 1: dim(LSTM_forecast_covid_non_stable)[3]){\n",
    "    LSTM_forecast_covid_non_stable[,,i] <- LSTM_forecast_covid_non_stable[,,i] * scale_factor[[\"sd\"]][i] +scale_factor[[\"center\"]][i]\n",
    "}"
   ]
  },
  {
   "cell_type": "code",
   "execution_count": 108,
   "metadata": {
    "vscode": {
     "languageId": "r"
    }
   },
   "outputs": [
    {
     "data": {
      "text/html": [
       "<table class=\"dataframe\">\n",
       "<caption>A Time Series: 12 × 4</caption>\n",
       "<thead>\n",
       "\t<tr><th></th><th scope=col>Qtr1</th><th scope=col>Qtr2</th><th scope=col>Qtr3</th><th scope=col>Qtr4</th></tr>\n",
       "</thead>\n",
       "<tbody>\n",
       "\t<tr><th scope=row>2010</th><td>1290.000</td><td>1284.000</td><td>1279.000</td><td>1278.000</td></tr>\n",
       "\t<tr><th scope=row>2011</th><td>1276.000</td><td>1274.000</td><td>1269.000</td><td>1267.000</td></tr>\n",
       "\t<tr><th scope=row>2012</th><td>1259.000</td><td>1257.000</td><td>1256.000</td><td>1256.000</td></tr>\n",
       "\t<tr><th scope=row>2013</th><td>1247.000</td><td>1244.000</td><td>1240.000</td><td>1233.000</td></tr>\n",
       "\t<tr><th scope=row>2014</th><td>1224.000</td><td>1224.000</td><td>1221.000</td><td>1318.000</td></tr>\n",
       "\t<tr><th scope=row>2015</th><td>1208.000</td><td>1197.000</td><td>1199.000</td><td>1197.000</td></tr>\n",
       "\t<tr><th scope=row>2016</th><td>1191.000</td><td>1178.000</td><td>1174.000</td><td>1166.000</td></tr>\n",
       "\t<tr><th scope=row>2017</th><td>1160.000</td><td>1151.000</td><td>1136.000</td><td>1123.000</td></tr>\n",
       "\t<tr><th scope=row>2018</th><td>1114.000</td><td>1111.000</td><td>1097.000</td><td>1094.000</td></tr>\n",
       "\t<tr><th scope=row>2019</th><td>1086.000</td><td>1080.000</td><td>1067.000</td><td>1063.000</td></tr>\n",
       "\t<tr><th scope=row>2020</th><td>1060.000</td><td>1070.456</td><td>1069.292</td><td>1067.446</td></tr>\n",
       "\t<tr><th scope=row>2021</th><td>1065.388</td><td>1065.217</td><td>        </td><td>        </td></tr>\n",
       "</tbody>\n",
       "</table>\n"
      ],
      "text/latex": [
       "A Time Series: 12 × 4\n",
       "\\begin{tabular}{r|llll}\n",
       "  & Qtr1 & Qtr2 & Qtr3 & Qtr4\\\\\n",
       "\\hline\n",
       "\t2010 & 1290.000 & 1284.000 & 1279.000 & 1278.000\\\\\n",
       "\t2011 & 1276.000 & 1274.000 & 1269.000 & 1267.000\\\\\n",
       "\t2012 & 1259.000 & 1257.000 & 1256.000 & 1256.000\\\\\n",
       "\t2013 & 1247.000 & 1244.000 & 1240.000 & 1233.000\\\\\n",
       "\t2014 & 1224.000 & 1224.000 & 1221.000 & 1318.000\\\\\n",
       "\t2015 & 1208.000 & 1197.000 & 1199.000 & 1197.000\\\\\n",
       "\t2016 & 1191.000 & 1178.000 & 1174.000 & 1166.000\\\\\n",
       "\t2017 & 1160.000 & 1151.000 & 1136.000 & 1123.000\\\\\n",
       "\t2018 & 1114.000 & 1111.000 & 1097.000 & 1094.000\\\\\n",
       "\t2019 & 1086.000 & 1080.000 & 1067.000 & 1063.000\\\\\n",
       "\t2020 & 1060.000 & 1070.456 & 1069.292 & 1067.446\\\\\n",
       "\t2021 & 1065.388 & 1065.217 &          &         \\\\\n",
       "\\end{tabular}\n"
      ],
      "text/markdown": [
       "\n",
       "A Time Series: 12 × 4\n",
       "\n",
       "| <!--/--> | Qtr1 | Qtr2 | Qtr3 | Qtr4 |\n",
       "|---|---|---|---|---|\n",
       "| 2010 | 1290.000 | 1284.000 | 1279.000 | 1278.000 |\n",
       "| 2011 | 1276.000 | 1274.000 | 1269.000 | 1267.000 |\n",
       "| 2012 | 1259.000 | 1257.000 | 1256.000 | 1256.000 |\n",
       "| 2013 | 1247.000 | 1244.000 | 1240.000 | 1233.000 |\n",
       "| 2014 | 1224.000 | 1224.000 | 1221.000 | 1318.000 |\n",
       "| 2015 | 1208.000 | 1197.000 | 1199.000 | 1197.000 |\n",
       "| 2016 | 1191.000 | 1178.000 | 1174.000 | 1166.000 |\n",
       "| 2017 | 1160.000 | 1151.000 | 1136.000 | 1123.000 |\n",
       "| 2018 | 1114.000 | 1111.000 | 1097.000 | 1094.000 |\n",
       "| 2019 | 1086.000 | 1080.000 | 1067.000 | 1063.000 |\n",
       "| 2020 | 1060.000 | 1070.456 | 1069.292 | 1067.446 |\n",
       "| 2021 | 1065.388 | 1065.217 | <!----> | <!----> |\n",
       "\n"
      ],
      "text/plain": [
       "     Qtr1     Qtr2     Qtr3     Qtr4    \n",
       "2010 1290.000 1284.000 1279.000 1278.000\n",
       "2011 1276.000 1274.000 1269.000 1267.000\n",
       "2012 1259.000 1257.000 1256.000 1256.000\n",
       "2013 1247.000 1244.000 1240.000 1233.000\n",
       "2014 1224.000 1224.000 1221.000 1318.000\n",
       "2015 1208.000 1197.000 1199.000 1197.000\n",
       "2016 1191.000 1178.000 1174.000 1166.000\n",
       "2017 1160.000 1151.000 1136.000 1123.000\n",
       "2018 1114.000 1111.000 1097.000 1094.000\n",
       "2019 1086.000 1080.000 1067.000 1063.000\n",
       "2020 1060.000 1070.456 1069.292 1067.446\n",
       "2021 1065.388 1065.217                  "
      ]
     },
     "metadata": {},
     "output_type": "display_data"
    },
    {
     "data": {
      "text/html": [
       "<table class=\"dataframe\">\n",
       "<caption>A Time Series: 12 × 4</caption>\n",
       "<thead>\n",
       "\t<tr><th></th><th scope=col>Qtr1</th><th scope=col>Qtr2</th><th scope=col>Qtr3</th><th scope=col>Qtr4</th></tr>\n",
       "</thead>\n",
       "<tbody>\n",
       "\t<tr><th scope=row>2010</th><td>1290</td><td>1284</td><td>1279</td><td>1278</td></tr>\n",
       "\t<tr><th scope=row>2011</th><td>1276</td><td>1274</td><td>1269</td><td>1267</td></tr>\n",
       "\t<tr><th scope=row>2012</th><td>1259</td><td>1257</td><td>1256</td><td>1256</td></tr>\n",
       "\t<tr><th scope=row>2013</th><td>1247</td><td>1244</td><td>1240</td><td>1233</td></tr>\n",
       "\t<tr><th scope=row>2014</th><td>1224</td><td>1224</td><td>1221</td><td>1318</td></tr>\n",
       "\t<tr><th scope=row>2015</th><td>1208</td><td>1197</td><td>1199</td><td>1197</td></tr>\n",
       "\t<tr><th scope=row>2016</th><td>1191</td><td>1178</td><td>1174</td><td>1166</td></tr>\n",
       "\t<tr><th scope=row>2017</th><td>1160</td><td>1151</td><td>1136</td><td>1123</td></tr>\n",
       "\t<tr><th scope=row>2018</th><td>1114</td><td>1111</td><td>1097</td><td>1094</td></tr>\n",
       "\t<tr><th scope=row>2019</th><td>1086</td><td>1080</td><td>1067</td><td>1063</td></tr>\n",
       "\t<tr><th scope=row>2020</th><td>1060</td><td>1051</td><td>1041</td><td>1038</td></tr>\n",
       "\t<tr><th scope=row>2021</th><td>1019</td><td>1012</td><td>    </td><td>    </td></tr>\n",
       "</tbody>\n",
       "</table>\n"
      ],
      "text/latex": [
       "A Time Series: 12 × 4\n",
       "\\begin{tabular}{r|llll}\n",
       "  & Qtr1 & Qtr2 & Qtr3 & Qtr4\\\\\n",
       "\\hline\n",
       "\t2010 & 1290 & 1284 & 1279 & 1278\\\\\n",
       "\t2011 & 1276 & 1274 & 1269 & 1267\\\\\n",
       "\t2012 & 1259 & 1257 & 1256 & 1256\\\\\n",
       "\t2013 & 1247 & 1244 & 1240 & 1233\\\\\n",
       "\t2014 & 1224 & 1224 & 1221 & 1318\\\\\n",
       "\t2015 & 1208 & 1197 & 1199 & 1197\\\\\n",
       "\t2016 & 1191 & 1178 & 1174 & 1166\\\\\n",
       "\t2017 & 1160 & 1151 & 1136 & 1123\\\\\n",
       "\t2018 & 1114 & 1111 & 1097 & 1094\\\\\n",
       "\t2019 & 1086 & 1080 & 1067 & 1063\\\\\n",
       "\t2020 & 1060 & 1051 & 1041 & 1038\\\\\n",
       "\t2021 & 1019 & 1012 &      &     \\\\\n",
       "\\end{tabular}\n"
      ],
      "text/markdown": [
       "\n",
       "A Time Series: 12 × 4\n",
       "\n",
       "| <!--/--> | Qtr1 | Qtr2 | Qtr3 | Qtr4 |\n",
       "|---|---|---|---|---|\n",
       "| 2010 | 1290 | 1284 | 1279 | 1278 |\n",
       "| 2011 | 1276 | 1274 | 1269 | 1267 |\n",
       "| 2012 | 1259 | 1257 | 1256 | 1256 |\n",
       "| 2013 | 1247 | 1244 | 1240 | 1233 |\n",
       "| 2014 | 1224 | 1224 | 1221 | 1318 |\n",
       "| 2015 | 1208 | 1197 | 1199 | 1197 |\n",
       "| 2016 | 1191 | 1178 | 1174 | 1166 |\n",
       "| 2017 | 1160 | 1151 | 1136 | 1123 |\n",
       "| 2018 | 1114 | 1111 | 1097 | 1094 |\n",
       "| 2019 | 1086 | 1080 | 1067 | 1063 |\n",
       "| 2020 | 1060 | 1051 | 1041 | 1038 |\n",
       "| 2021 | 1019 | 1012 | <!----> | <!----> |\n",
       "\n"
      ],
      "text/plain": [
       "     Qtr1 Qtr2 Qtr3 Qtr4\n",
       "2010 1290 1284 1279 1278\n",
       "2011 1276 1274 1269 1267\n",
       "2012 1259 1257 1256 1256\n",
       "2013 1247 1244 1240 1233\n",
       "2014 1224 1224 1221 1318\n",
       "2015 1208 1197 1199 1197\n",
       "2016 1191 1178 1174 1166\n",
       "2017 1160 1151 1136 1123\n",
       "2018 1114 1111 1097 1094\n",
       "2019 1086 1080 1067 1063\n",
       "2020 1060 1051 1041 1038\n",
       "2021 1019 1012          "
      ]
     },
     "metadata": {},
     "output_type": "display_data"
    },
    {
     "data": {
      "image/png": "[encoded data removed]",
      "text/plain": [
       "plot without title"
      ]
     },
     "metadata": {
      "image/png": {
       "height": 420,
       "width": 420
      }
     },
     "output_type": "display_data"
    }
   ],
   "source": [
    "index_secteur=1\n",
    "pred <- c(df.ts[,index_secteur],LSTM_forecast_covid_non_stable[,,index_secteur])\n",
    "pred <-ts(pred, start=c(2010,1),frequency=4)\n",
    "obs <- df.ts[,index_secteur]\n",
    "obs <-c(obs,covid.ts[,index_secteur])\n",
    "obs <-ts(obs, start=c(2010,1),frequency=4)\n",
    "pred\n",
    "obs\n",
    "plot.ts(\n",
    "    cbind(pred,obs),\n",
    "    plot.type=\"single\",\n",
    "    lty=c(2,1),\n",
    "    lwd=1,\n",
    "    xlab=\"t\",\n",
    "    ylab=paste(\"Nombre d'Etablissements en GE pour le secteur :\",lab.to.num$lab[index_secteur],sep=\"\"),\n",
    "    \n",
    "    col=c(\"blue\",\"red\")\n",
    ")\n",
    "legend(\"topleft\",\n",
    "\n",
    "    legend=c(\"Prédictions\",\"Observations\"),\n",
    "    col=c(\"blue\",\"red\"),\n",
    "    lty=c(2,1),\n",
    "    lwd=1\n",
    ")"
   ]
  },
  {
   "cell_type": "code",
   "execution_count": 109,
   "metadata": {
    "vscode": {
     "languageId": "r"
    }
   },
   "outputs": [],
   "source": [
    "#-------------------------------\n",
    "#Save all plots\n",
    "for( index_secteur in 1:ncol(scaled_train)){\n",
    "\n",
    "    png(file=paste(\"plots/LSTM_non_stable/covid_forecast/\",index_secteur,\".png\",sep=\"\"))\n",
    "    pred <- c(df.ts[,index_secteur],LSTM_forecast_covid_non_stable[,,index_secteur])\n",
    "    pred <-ts(pred, start=c(2010,1),frequency=4)\n",
    "    obs <- df.ts[,index_secteur]\n",
    "    obs <-c(obs,covid.ts[,index_secteur])\n",
    "    obs <-ts(obs, start=c(2010,1),frequency=4)\n",
    "\n",
    "    plot.ts(\n",
    "        cbind(pred,obs),\n",
    "        plot.type=\"single\",\n",
    "        lty=c(2,1),\n",
    "        lwd=1,\n",
    "        xlab=\"t\",\n",
    "        ylab=paste(\"Nombre d'Etablissements en GE pour le secteur :\",lab.to.num$lab[index_secteur],sep=\"\"),\n",
    "\n",
    "        col=c(\"blue\",\"red\")\n",
    "    )\n",
    "    legend(\"topleft\",\n",
    "\n",
    "        legend=c(\"Prédictions\",\"Observations\"),\n",
    "        col=c(\"blue\",\"red\"),\n",
    "        lty=c(2,1),\n",
    "        lwd=1\n",
    "    )\n",
    "    dev.off()\n",
    "}"
   ]
  },
  {
   "cell_type": "markdown",
   "metadata": {},
   "source": [
    "<hr>\n",
    "\n",
    "### Analyse des ecarts entre test et prediction *RMSE, MAE,MAPE,sMAPE*"
   ]
  },
  {
   "cell_type": "code",
   "execution_count": 110,
   "metadata": {
    "vscode": {
     "languageId": "r"
    }
   },
   "outputs": [],
   "source": [
    "RMSE <- c()\n",
    "for (index_secteur in 1:dim(LSTM_forecast_eval_nonstable)[3]){\n",
    "    pred <- c(df.ts[,index_secteur],LSTM_forecast_covid_non_stable[,,index_secteur])\n",
    "    pred <-ts(pred, start=c(2010,1),frequency=4)\n",
    "    obs <- df.ts[,index_secteur]\n",
    "    obs <-c(obs,covid.ts[,index_secteur])\n",
    "    obs <-ts(obs, start=c(2010,1),frequency=4)\n",
    "    obs <- obs[(length(obs)-lag+1):length(obs)]\n",
    "    pred <- pred[(length(pred)-lag+1):length(pred)]\n",
    "    RMSE <-c(RMSE,sqrt(mean((obs-pred)^2)))\n",
    "}\n",
    "RMSE <- RMSE %>% as.data.frame()\n",
    "colnames(RMSE) <- \"RMSE\"\n",
    "\n",
    "\n",
    "#------------------------------------\n",
    "\n",
    "MAE <- c()\n",
    "for (index_secteur in 1:dim(LSTM_forecast_eval_nonstable)[3]){\n",
    "    pred <- c(df.ts[,index_secteur],LSTM_forecast_covid_non_stable[,,index_secteur])\n",
    "    pred <-ts(pred, start=c(2010,1),frequency=4)\n",
    "    obs <- df.ts[,index_secteur]\n",
    "    obs <-c(obs,covid.ts[,index_secteur])\n",
    "    obs <-ts(obs, start=c(2010,1),frequency=4)\n",
    "    obs <- obs[(length(obs)-lag+1):length(obs)]\n",
    "    pred <- pred[(length(pred)-lag+1):length(pred)]\n",
    "    MAE <-c(MAE,mean(abs(obs-pred)))\n",
    "    \n",
    "}\n",
    "MAE <- MAE %>%as.data.frame()\n",
    "colnames(MAE) <- \"MAE\"\n",
    "\n",
    "#------------------------------------\n",
    "\n",
    "\n",
    "MAPE <- c()\n",
    "for (index_secteur in 1:dim(LSTM_forecast_eval_nonstable)[3]){\n",
    "    pred <- c(df.ts[,index_secteur],LSTM_forecast_covid_non_stable[,,index_secteur])\n",
    "    pred <-ts(pred, start=c(2010,1),frequency=4)\n",
    "    obs <- df.ts[,index_secteur]\n",
    "    obs <-c(obs,covid.ts[,index_secteur])\n",
    "    obs <-ts(obs, start=c(2010,1),frequency=4)\n",
    "    obs <- obs[(length(obs)-lag+1):length(obs)]\n",
    "    pred <- pred[(length(pred)-lag+1):length(pred)]\n",
    "    \n",
    "    MAPE <-c(MAPE,mean(abs((obs-pred)*100/obs)))\n",
    "    \n",
    "}\n",
    "MAPE <- MAPE %>%as.data.frame()\n",
    "colnames(MAPE) <- \"MAPE\"\n",
    "\n",
    "#------------------------------------\n",
    "\n",
    "sMAPE <- c()\n",
    "for (index_secteur in 1:dim(LSTM_forecast_eval_nonstable)[3]){\n",
    "    pred <- c(df.ts[,index_secteur],LSTM_forecast_covid_non_stable[,,index_secteur])\n",
    "    pred <-ts(pred, start=c(2010,1),frequency=4)\n",
    "    obs <- df.ts[,index_secteur]\n",
    "    obs <-c(obs,covid.ts[,index_secteur])\n",
    "    obs <-ts(obs, start=c(2010,1),frequency=4)\n",
    "    obs <- obs[(length(obs)-lag+1):length(obs)]\n",
    "    pred <- pred[(length(pred)-lag+1):length(pred)]\n",
    "    sMAPE <-c(sMAPE,mean(200*abs(obs-pred)/(obs+pred)))\n",
    "    \n",
    "}\n",
    "sMAPE <- sMAPE %>%as.data.frame()\n",
    "colnames(sMAPE) <- \"sMAPE\""
   ]
  },
  {
   "cell_type": "code",
   "execution_count": 111,
   "metadata": {
    "vscode": {
     "languageId": "r"
    }
   },
   "outputs": [
    {
     "data": {
      "text/html": [
       "<table class=\"dataframe\">\n",
       "<caption>A data.frame: 26 × 5</caption>\n",
       "<thead>\n",
       "\t<tr><th scope=col>secteurs</th><th scope=col>RMSE</th><th scope=col>MAE</th><th scope=col>MAPE</th><th scope=col>sMAPE</th></tr>\n",
       "\t<tr><th scope=col>&lt;chr&gt;</th><th scope=col>&lt;dbl&gt;</th><th scope=col>&lt;dbl&gt;</th><th scope=col>&lt;dbl&gt;</th><th scope=col>&lt;dbl&gt;</th></tr>\n",
       "</thead>\n",
       "<tbody>\n",
       "\t<tr><td>64 Activités des services financiers, hors assurance et</td><td> 37.4965121</td><td> 35.3598873</td><td> 3.4433413</td><td> 3.3775169</td></tr>\n",
       "\t<tr><td>65-66 Assurance ; Activités auxiliaires de services fin</td><td> 26.3896872</td><td> 25.9759092</td><td> 7.3954245</td><td> 7.1225733</td></tr>\n",
       "\t<tr><td>852 Enseignement primaire                              </td><td>  1.1652751</td><td>  0.8853243</td><td> 1.2359738</td><td> 1.2483809</td></tr>\n",
       "\t<tr><td>853 Enseignement secondaire                            </td><td>  0.8982645</td><td>  0.8208657</td><td> 0.5669776</td><td> 0.5661219</td></tr>\n",
       "\t<tr><td>85x Enseignement / Autre                               </td><td> 40.1934077</td><td> 31.2185844</td><td> 3.1208696</td><td> 3.0410375</td></tr>\n",
       "\t<tr><td>861 Activités hospitalières                            </td><td>  2.1253046</td><td>  2.0825375</td><td> 2.0976638</td><td> 2.1207971</td></tr>\n",
       "\t<tr><td>862 Activité des médecins et des dentistes             </td><td>  5.1433729</td><td>  4.5084930</td><td> 2.5185880</td><td> 2.5066772</td></tr>\n",
       "\t<tr><td>869 Autres activités pour la santé humaine             </td><td> 11.3175461</td><td> 10.4892537</td><td> 8.2411483</td><td> 7.8620632</td></tr>\n",
       "\t<tr><td>87 Hébergement médico-social et social                 </td><td>  7.8427242</td><td>  6.5961552</td><td> 0.6622901</td><td> 0.6650390</td></tr>\n",
       "\t<tr><td>881 Action sociale sans hébergement pour personnes âgée</td><td>  7.0871752</td><td>  6.6077072</td><td> 1.2200558</td><td> 1.2115365</td></tr>\n",
       "\t<tr><td>889 Autre action sociale sans hébergement              </td><td> 19.6582011</td><td> 18.3141919</td><td> 1.2159529</td><td> 1.2245244</td></tr>\n",
       "\t<tr><td>931 Activités liées au sport                           </td><td>115.1800603</td><td>101.5663683</td><td> 8.3615304</td><td> 7.9252547</td></tr>\n",
       "\t<tr><td>932 Activités récréatives et de loisirs                </td><td> 19.0089338</td><td> 18.4817139</td><td>12.8161187</td><td>11.9968445</td></tr>\n",
       "\t<tr><td>FZ_Construction                                        </td><td>  0.8328769</td><td>  0.6995918</td><td> 1.8690619</td><td> 1.8843543</td></tr>\n",
       "\t<tr><td>GZ_Commerce, réparation d'automobiles et de motocycles </td><td> 14.1001633</td><td> 13.9201396</td><td> 9.2851607</td><td> 9.7480809</td></tr>\n",
       "\t<tr><td>HZ_Transports et entreposage                           </td><td>  1.0768481</td><td>  0.9431840</td><td> 9.3201905</td><td> 8.7797845</td></tr>\n",
       "\t<tr><td>IZ_Hébergement et restauration                         </td><td> 15.3896976</td><td> 13.6462122</td><td> 6.6766403</td><td> 6.4029451</td></tr>\n",
       "\t<tr><td>JA_Edition et audiovisuel                              </td><td>  5.4238135</td><td>  4.7080568</td><td> 4.4141668</td><td> 4.2893581</td></tr>\n",
       "\t<tr><td>JB-JC_Télécommunications et ativités informatiques     </td><td>  4.2692267</td><td>  4.2398080</td><td>45.4961760</td><td>36.9093260</td></tr>\n",
       "\t<tr><td>LZ_Activités immobilières                              </td><td>  1.3887956</td><td>  1.0878268</td><td> 4.0989565</td><td> 3.9771353</td></tr>\n",
       "\t<tr><td>MA_Activités juridiques, de conseil et d'ingénierie    </td><td>  6.1105252</td><td>  4.4345183</td><td> 2.2344723</td><td> 2.2824215</td></tr>\n",
       "\t<tr><td>MB-MC_R&amp;d et autres activités scientifiques et techniqu</td><td><span style=white-space:pre-wrap>  2.6564434</span></td><td><span style=white-space:pre-wrap>  2.1110109</span></td><td> 3.7779505</td><td> 3.6671894</td></tr>\n",
       "\t<tr><td>NZ_Activités de services administratifs et de soutien  </td><td>  2.4751336</td><td>  2.3789527</td><td> 0.8550998</td><td> 0.8582155</td></tr>\n",
       "\t<tr><td>RZ_Arts, spectacles et activités récréatives           </td><td>118.7071005</td><td>100.8719161</td><td>11.6187369</td><td>10.7212073</td></tr>\n",
       "\t<tr><td>SZ_autres activités de services                        </td><td>205.1588781</td><td>198.7727272</td><td> 7.4889924</td><td> 7.2000169</td></tr>\n",
       "\t<tr><td>i_Industrie et agriculture                             </td><td>  6.2027612</td><td>  5.8438069</td><td> 8.0401964</td><td> 8.4161723</td></tr>\n",
       "</tbody>\n",
       "</table>\n"
      ],
      "text/latex": [
       "A data.frame: 26 × 5\n",
       "\\begin{tabular}{lllll}\n",
       " secteurs & RMSE & MAE & MAPE & sMAPE\\\\\n",
       " <chr> & <dbl> & <dbl> & <dbl> & <dbl>\\\\\n",
       "\\hline\n",
       "\t 64 Activités des services financiers, hors assurance et &  37.4965121 &  35.3598873 &  3.4433413 &  3.3775169\\\\\n",
       "\t 65-66 Assurance ; Activités auxiliaires de services fin &  26.3896872 &  25.9759092 &  7.3954245 &  7.1225733\\\\\n",
       "\t 852 Enseignement primaire                               &   1.1652751 &   0.8853243 &  1.2359738 &  1.2483809\\\\\n",
       "\t 853 Enseignement secondaire                             &   0.8982645 &   0.8208657 &  0.5669776 &  0.5661219\\\\\n",
       "\t 85x Enseignement / Autre                                &  40.1934077 &  31.2185844 &  3.1208696 &  3.0410375\\\\\n",
       "\t 861 Activités hospitalières                             &   2.1253046 &   2.0825375 &  2.0976638 &  2.1207971\\\\\n",
       "\t 862 Activité des médecins et des dentistes              &   5.1433729 &   4.5084930 &  2.5185880 &  2.5066772\\\\\n",
       "\t 869 Autres activités pour la santé humaine              &  11.3175461 &  10.4892537 &  8.2411483 &  7.8620632\\\\\n",
       "\t 87 Hébergement médico-social et social                  &   7.8427242 &   6.5961552 &  0.6622901 &  0.6650390\\\\\n",
       "\t 881 Action sociale sans hébergement pour personnes âgée &   7.0871752 &   6.6077072 &  1.2200558 &  1.2115365\\\\\n",
       "\t 889 Autre action sociale sans hébergement               &  19.6582011 &  18.3141919 &  1.2159529 &  1.2245244\\\\\n",
       "\t 931 Activités liées au sport                            & 115.1800603 & 101.5663683 &  8.3615304 &  7.9252547\\\\\n",
       "\t 932 Activités récréatives et de loisirs                 &  19.0089338 &  18.4817139 & 12.8161187 & 11.9968445\\\\\n",
       "\t FZ\\_Construction                                         &   0.8328769 &   0.6995918 &  1.8690619 &  1.8843543\\\\\n",
       "\t GZ\\_Commerce, réparation d'automobiles et de motocycles  &  14.1001633 &  13.9201396 &  9.2851607 &  9.7480809\\\\\n",
       "\t HZ\\_Transports et entreposage                            &   1.0768481 &   0.9431840 &  9.3201905 &  8.7797845\\\\\n",
       "\t IZ\\_Hébergement et restauration                          &  15.3896976 &  13.6462122 &  6.6766403 &  6.4029451\\\\\n",
       "\t JA\\_Edition et audiovisuel                               &   5.4238135 &   4.7080568 &  4.4141668 &  4.2893581\\\\\n",
       "\t JB-JC\\_Télécommunications et ativités informatiques      &   4.2692267 &   4.2398080 & 45.4961760 & 36.9093260\\\\\n",
       "\t LZ\\_Activités immobilières                               &   1.3887956 &   1.0878268 &  4.0989565 &  3.9771353\\\\\n",
       "\t MA\\_Activités juridiques, de conseil et d'ingénierie     &   6.1105252 &   4.4345183 &  2.2344723 &  2.2824215\\\\\n",
       "\t MB-MC\\_R\\&d et autres activités scientifiques et techniqu &   2.6564434 &   2.1110109 &  3.7779505 &  3.6671894\\\\\n",
       "\t NZ\\_Activités de services administratifs et de soutien   &   2.4751336 &   2.3789527 &  0.8550998 &  0.8582155\\\\\n",
       "\t RZ\\_Arts, spectacles et activités récréatives            & 118.7071005 & 100.8719161 & 11.6187369 & 10.7212073\\\\\n",
       "\t SZ\\_autres activités de services                         & 205.1588781 & 198.7727272 &  7.4889924 &  7.2000169\\\\\n",
       "\t i\\_Industrie et agriculture                              &   6.2027612 &   5.8438069 &  8.0401964 &  8.4161723\\\\\n",
       "\\end{tabular}\n"
      ],
      "text/markdown": [
       "\n",
       "A data.frame: 26 × 5\n",
       "\n",
       "| secteurs &lt;chr&gt; | RMSE &lt;dbl&gt; | MAE &lt;dbl&gt; | MAPE &lt;dbl&gt; | sMAPE &lt;dbl&gt; |\n",
       "|---|---|---|---|---|\n",
       "| 64 Activités des services financiers, hors assurance et |  37.4965121 |  35.3598873 |  3.4433413 |  3.3775169 |\n",
       "| 65-66 Assurance ; Activités auxiliaires de services fin |  26.3896872 |  25.9759092 |  7.3954245 |  7.1225733 |\n",
       "| 852 Enseignement primaire                               |   1.1652751 |   0.8853243 |  1.2359738 |  1.2483809 |\n",
       "| 853 Enseignement secondaire                             |   0.8982645 |   0.8208657 |  0.5669776 |  0.5661219 |\n",
       "| 85x Enseignement / Autre                                |  40.1934077 |  31.2185844 |  3.1208696 |  3.0410375 |\n",
       "| 861 Activités hospitalières                             |   2.1253046 |   2.0825375 |  2.0976638 |  2.1207971 |\n",
       "| 862 Activité des médecins et des dentistes              |   5.1433729 |   4.5084930 |  2.5185880 |  2.5066772 |\n",
       "| 869 Autres activités pour la santé humaine              |  11.3175461 |  10.4892537 |  8.2411483 |  7.8620632 |\n",
       "| 87 Hébergement médico-social et social                  |   7.8427242 |   6.5961552 |  0.6622901 |  0.6650390 |\n",
       "| 881 Action sociale sans hébergement pour personnes âgée |   7.0871752 |   6.6077072 |  1.2200558 |  1.2115365 |\n",
       "| 889 Autre action sociale sans hébergement               |  19.6582011 |  18.3141919 |  1.2159529 |  1.2245244 |\n",
       "| 931 Activités liées au sport                            | 115.1800603 | 101.5663683 |  8.3615304 |  7.9252547 |\n",
       "| 932 Activités récréatives et de loisirs                 |  19.0089338 |  18.4817139 | 12.8161187 | 11.9968445 |\n",
       "| FZ_Construction                                         |   0.8328769 |   0.6995918 |  1.8690619 |  1.8843543 |\n",
       "| GZ_Commerce, réparation d'automobiles et de motocycles  |  14.1001633 |  13.9201396 |  9.2851607 |  9.7480809 |\n",
       "| HZ_Transports et entreposage                            |   1.0768481 |   0.9431840 |  9.3201905 |  8.7797845 |\n",
       "| IZ_Hébergement et restauration                          |  15.3896976 |  13.6462122 |  6.6766403 |  6.4029451 |\n",
       "| JA_Edition et audiovisuel                               |   5.4238135 |   4.7080568 |  4.4141668 |  4.2893581 |\n",
       "| JB-JC_Télécommunications et ativités informatiques      |   4.2692267 |   4.2398080 | 45.4961760 | 36.9093260 |\n",
       "| LZ_Activités immobilières                               |   1.3887956 |   1.0878268 |  4.0989565 |  3.9771353 |\n",
       "| MA_Activités juridiques, de conseil et d'ingénierie     |   6.1105252 |   4.4345183 |  2.2344723 |  2.2824215 |\n",
       "| MB-MC_R&amp;d et autres activités scientifiques et techniqu |   2.6564434 |   2.1110109 |  3.7779505 |  3.6671894 |\n",
       "| NZ_Activités de services administratifs et de soutien   |   2.4751336 |   2.3789527 |  0.8550998 |  0.8582155 |\n",
       "| RZ_Arts, spectacles et activités récréatives            | 118.7071005 | 100.8719161 | 11.6187369 | 10.7212073 |\n",
       "| SZ_autres activités de services                         | 205.1588781 | 198.7727272 |  7.4889924 |  7.2000169 |\n",
       "| i_Industrie et agriculture                              |   6.2027612 |   5.8438069 |  8.0401964 |  8.4161723 |\n",
       "\n"
      ],
      "text/plain": [
       "   secteurs                                                RMSE       \n",
       "1  64 Activités des services financiers, hors assurance et  37.4965121\n",
       "2  65-66 Assurance ; Activités auxiliaires de services fin  26.3896872\n",
       "3  852 Enseignement primaire                                 1.1652751\n",
       "4  853 Enseignement secondaire                               0.8982645\n",
       "5  85x Enseignement / Autre                                 40.1934077\n",
       "6  861 Activités hospitalières                               2.1253046\n",
       "7  862 Activité des médecins et des dentistes                5.1433729\n",
       "8  869 Autres activités pour la santé humaine               11.3175461\n",
       "9  87 Hébergement médico-social et social                    7.8427242\n",
       "10 881 Action sociale sans hébergement pour personnes âgée   7.0871752\n",
       "11 889 Autre action sociale sans hébergement                19.6582011\n",
       "12 931 Activités liées au sport                            115.1800603\n",
       "13 932 Activités récréatives et de loisirs                  19.0089338\n",
       "14 FZ_Construction                                           0.8328769\n",
       "15 GZ_Commerce, réparation d'automobiles et de motocycles   14.1001633\n",
       "16 HZ_Transports et entreposage                              1.0768481\n",
       "17 IZ_Hébergement et restauration                           15.3896976\n",
       "18 JA_Edition et audiovisuel                                 5.4238135\n",
       "19 JB-JC_Télécommunications et ativités informatiques        4.2692267\n",
       "20 LZ_Activités immobilières                                 1.3887956\n",
       "21 MA_Activités juridiques, de conseil et d'ingénierie       6.1105252\n",
       "22 MB-MC_R&d et autres activités scientifiques et techniqu   2.6564434\n",
       "23 NZ_Activités de services administratifs et de soutien     2.4751336\n",
       "24 RZ_Arts, spectacles et activités récréatives            118.7071005\n",
       "25 SZ_autres activités de services                         205.1588781\n",
       "26 i_Industrie et agriculture                                6.2027612\n",
       "   MAE         MAPE       sMAPE     \n",
       "1   35.3598873  3.4433413  3.3775169\n",
       "2   25.9759092  7.3954245  7.1225733\n",
       "3    0.8853243  1.2359738  1.2483809\n",
       "4    0.8208657  0.5669776  0.5661219\n",
       "5   31.2185844  3.1208696  3.0410375\n",
       "6    2.0825375  2.0976638  2.1207971\n",
       "7    4.5084930  2.5185880  2.5066772\n",
       "8   10.4892537  8.2411483  7.8620632\n",
       "9    6.5961552  0.6622901  0.6650390\n",
       "10   6.6077072  1.2200558  1.2115365\n",
       "11  18.3141919  1.2159529  1.2245244\n",
       "12 101.5663683  8.3615304  7.9252547\n",
       "13  18.4817139 12.8161187 11.9968445\n",
       "14   0.6995918  1.8690619  1.8843543\n",
       "15  13.9201396  9.2851607  9.7480809\n",
       "16   0.9431840  9.3201905  8.7797845\n",
       "17  13.6462122  6.6766403  6.4029451\n",
       "18   4.7080568  4.4141668  4.2893581\n",
       "19   4.2398080 45.4961760 36.9093260\n",
       "20   1.0878268  4.0989565  3.9771353\n",
       "21   4.4345183  2.2344723  2.2824215\n",
       "22   2.1110109  3.7779505  3.6671894\n",
       "23   2.3789527  0.8550998  0.8582155\n",
       "24 100.8719161 11.6187369 10.7212073\n",
       "25 198.7727272  7.4889924  7.2000169\n",
       "26   5.8438069  8.0401964  8.4161723"
      ]
     },
     "metadata": {},
     "output_type": "display_data"
    }
   ],
   "source": [
    "differences_analysis_nonstable <- cbind(\"secteurs\"=lab.to.num$lab,RMSE,MAE,MAPE,sMAPE)\n",
    "differences_analysis_nonstable "
   ]
  },
  {
   "cell_type": "markdown",
   "metadata": {},
   "source": [
    "<hr>\n",
    "\n",
    "<div id=\"LSTMB\">\n",
    "\n",
    "## II.B.2  Covid Forecasting : LSTM model with stable TS"
   ]
  },
  {
   "cell_type": "code",
   "execution_count": 112,
   "metadata": {
    "vscode": {
     "languageId": "r"
    }
   },
   "outputs": [],
   "source": [
    "df.diff <-diff(df.ts)\n",
    "df.train <-df.diff%>%as.data.frame\n",
    "scaled_train <- scale(df.train)\n",
    "scale_factor <-list(\"center\"=attr(scaled_train,\"scaled:center\"),\"sd\"=attr(scaled_train,\"scaled:scale\"))\n",
    "prediction <- 5\n",
    "lag <- prediction"
   ]
  },
  {
   "cell_type": "code",
   "execution_count": 116,
   "metadata": {
    "vscode": {
     "languageId": "r"
    }
   },
   "outputs": [
    {
     "name": "stdout",
     "output_type": "stream",
     "text": [
      "X_train interval : 1 2 3 4 5 6 7 8 9 10 11 12 13 14 15 16 17 18 19 20 21 22 23 24 25 26 27 28 29 30 31 \n",
      "Y_train interval : 6 7 8 9 10 11 12 13 14 15 16 17 18 19 20 21 22 23 24 25 26 27 28 29 30 31 32 33 34 35 36"
     ]
    }
   ],
   "source": [
    "x_train_data <-t(sapply(\n",
    "    1:(dim(scaled_train)[1]-lag-prediction +1),\n",
    "    function(x){scaled_train[x:(x+lag-1),1]}\n",
    "))\n",
    "\n",
    "for(i in 2:ncol(scaled_train)){\n",
    "    new <-t(sapply(\n",
    "        1:(dim(scaled_train)[1]-lag-prediction +1),\n",
    "        function(x){scaled_train[x:(x+lag-1),i]}\n",
    "    ))\n",
    "    x_train_data <-cbind(x_train_data,new)\n",
    "    \n",
    "}\n",
    "\n",
    "x_train_arr <- array(\n",
    "    data=as.numeric(unlist(x_train_data)),\n",
    "    dim=c(\n",
    "        nrow(x_train_data),\n",
    "        ncol(x_train_data),\n",
    "        1\n",
    "        )\n",
    "\n",
    ")\n",
    "\n",
    "y_train_data <-  t(sapply(\n",
    "    (1+lag):(dim(scaled_train)[1]-prediction +1),\n",
    "    function(x){scaled_train[x:(x+prediction-1),1]}\n",
    "))\n",
    "y_train_arr <-array(\n",
    "    data=as.numeric(unlist(y_train_data)),\n",
    "    dim=c(\n",
    "        nrow(y_train_data),\n",
    "        prediction,\n",
    "        1\n",
    "    )\n",
    ")\n",
    "cat(\"X_train interval :\",1:(dim(scaled_train)[1]-lag-prediction +1),\n",
    "\"\\nY_train interval :\",\n",
    "(1+lag):(dim(scaled_train)[1]-prediction +1))\n"
   ]
  },
  {
   "cell_type": "code",
   "execution_count": 117,
   "metadata": {
    "vscode": {
     "languageId": "r"
    }
   },
   "outputs": [
    {
     "data": {
      "text/html": [
       "<style>\n",
       ".list-inline {list-style: none; margin:0; padding: 0}\n",
       ".list-inline>li {display: inline-block}\n",
       ".list-inline>li:not(:last-child)::after {content: \"\\00b7\"; padding: 0 .5ex}\n",
       "</style>\n",
       "<ol class=list-inline><li>31</li><li>130</li><li>1</li></ol>\n"
      ],
      "text/latex": [
       "\\begin{enumerate*}\n",
       "\\item 31\n",
       "\\item 130\n",
       "\\item 1\n",
       "\\end{enumerate*}\n"
      ],
      "text/markdown": [
       "1. 31\n",
       "2. 130\n",
       "3. 1\n",
       "\n",
       "\n"
      ],
      "text/plain": [
       "[1]  31 130   1"
      ]
     },
     "metadata": {},
     "output_type": "display_data"
    },
    {
     "data": {
      "text/html": [
       "<style>\n",
       ".list-inline {list-style: none; margin:0; padding: 0}\n",
       ".list-inline>li {display: inline-block}\n",
       ".list-inline>li:not(:last-child)::after {content: \"\\00b7\"; padding: 0 .5ex}\n",
       "</style>\n",
       "<ol class=list-inline><li>31</li><li>5</li><li>1</li></ol>\n"
      ],
      "text/latex": [
       "\\begin{enumerate*}\n",
       "\\item 31\n",
       "\\item 5\n",
       "\\item 1\n",
       "\\end{enumerate*}\n"
      ],
      "text/markdown": [
       "1. 31\n",
       "2. 5\n",
       "3. 1\n",
       "\n",
       "\n"
      ],
      "text/plain": [
       "[1] 31  5  1"
      ]
     },
     "metadata": {},
     "output_type": "display_data"
    }
   ],
   "source": [
    "x_train_arr %>%dim\n",
    "y_train_arr %>%dim"
   ]
  },
  {
   "cell_type": "code",
   "execution_count": 119,
   "metadata": {
    "vscode": {
     "languageId": "r"
    }
   },
   "outputs": [],
   "source": [
    "#--------------------------------\n",
    "# Restructur data inputs for LSTM multivariate\n",
    "\n",
    "x_bis <-sapply(\n",
    "        1:ncol(scaled_train),\n",
    "        function(x){scaled_train[1:(31-1+1),x]}\n",
    ")\n",
    "\n",
    "x_bis_first_array <-array(\n",
    "    data=unlist(x_bis),\n",
    "    dim=c(nrow(x_bis),1,ncol(x_bis))\n",
    ")\n",
    "tot_array <-array(NA, dim=c(\n",
    "    nrow(x_bis),\n",
    "    lag,\n",
    "    ncol(x_bis)\n",
    "))\n",
    "tot_array[,1,] <- x_bis_first_array\n",
    "\n",
    "\n",
    "for (i in 2:lag){\n",
    "    new <-sapply(\n",
    "        1:ncol(scaled_train),\n",
    "        function(x){scaled_train[i:(i+31-1),x]}\n",
    "    )\n",
    "    new <- array(\n",
    "        data=unlist(new),\n",
    "        dim=c(nrow(x_bis),1,ncol(x_bis))\n",
    "    )\n",
    "    tot_array[,i,] <- new\n",
    "}\n",
    "x_train_arr_bis <- tot_array\n",
    "\n",
    "\n",
    "y_train_data_bis <-  t(sapply(\n",
    "    (1+lag):(dim(scaled_train)[1]-prediction +1),\n",
    "    function(x){scaled_train[x:(x+prediction-1),1]}\n",
    "))\n",
    "\n",
    "tot_array <-array(NA, dim=c(\n",
    "    nrow(y_train_data_bis),\n",
    "    lag,\n",
    "    ncol(scaled_train)\n",
    "))\n",
    "\n",
    "tot_array[,,1] <- y_train_data_bis\n",
    "\n",
    "for (i in 2:ncol(scaled_train)){\n",
    "    new <-  t(sapply(\n",
    "        (1+lag):(dim(scaled_train)[1]-prediction +1),\n",
    "        function(x){scaled_train[x:(x+prediction-1),i]}\n",
    "    ))\n",
    "\n",
    "    new_array <- array(\n",
    "        data=as.numeric(unlist(new)),\n",
    "        dim=c(nrow(new),\n",
    "        ncol(new),\n",
    "        1)\n",
    "    )\n",
    "    tot_array[,,i] <- new_array\n",
    "\n",
    "}\n",
    "\n",
    "y_train_arr_bis <- tot_array"
   ]
  },
  {
   "cell_type": "code",
   "execution_count": 120,
   "metadata": {
    "vscode": {
     "languageId": "r"
    }
   },
   "outputs": [
    {
     "data": {
      "text/html": [
       "<style>\n",
       ".list-inline {list-style: none; margin:0; padding: 0}\n",
       ".list-inline>li {display: inline-block}\n",
       ".list-inline>li:not(:last-child)::after {content: \"\\00b7\"; padding: 0 .5ex}\n",
       "</style>\n",
       "<ol class=list-inline><li>31</li><li>5</li><li>26</li></ol>\n"
      ],
      "text/latex": [
       "\\begin{enumerate*}\n",
       "\\item 31\n",
       "\\item 5\n",
       "\\item 26\n",
       "\\end{enumerate*}\n"
      ],
      "text/markdown": [
       "1. 31\n",
       "2. 5\n",
       "3. 26\n",
       "\n",
       "\n"
      ],
      "text/plain": [
       "[1] 31  5 26"
      ]
     },
     "metadata": {},
     "output_type": "display_data"
    },
    {
     "data": {
      "text/html": [
       "<style>\n",
       ".list-inline {list-style: none; margin:0; padding: 0}\n",
       ".list-inline>li {display: inline-block}\n",
       ".list-inline>li:not(:last-child)::after {content: \"\\00b7\"; padding: 0 .5ex}\n",
       "</style>\n",
       "<ol class=list-inline><li>31</li><li>5</li><li>26</li></ol>\n"
      ],
      "text/latex": [
       "\\begin{enumerate*}\n",
       "\\item 31\n",
       "\\item 5\n",
       "\\item 26\n",
       "\\end{enumerate*}\n"
      ],
      "text/markdown": [
       "1. 31\n",
       "2. 5\n",
       "3. 26\n",
       "\n",
       "\n"
      ],
      "text/plain": [
       "[1] 31  5 26"
      ]
     },
     "metadata": {},
     "output_type": "display_data"
    }
   ],
   "source": [
    "x_train_arr_bis%>%dim\n",
    "y_train_arr_bis %>% dim"
   ]
  },
  {
   "cell_type": "code",
   "execution_count": 121,
   "metadata": {
    "vscode": {
     "languageId": "r"
    }
   },
   "outputs": [],
   "source": [
    "LSTM_model_stable_forecasting <- keras_model_sequential()\n",
    "\n",
    "LSTM_model_stable_forecasting %>% layer_lstm(\n",
    "    units=50,\n",
    "    batch_input_shape=c(1,lag,26),#BATCH size , timestep ,features\n",
    "    return_sequences=T,\n",
    "    stateful=T\n",
    "\n",
    ")%>%\n",
    "layer_dropout(rate=0.5)%>%layer_lstm(\n",
    "    units =50,\n",
    "    return_sequences=T,stateful=T\n",
    ")%>% layer_dropout(rate=0.5)%>% time_distributed(keras::layer_dense(units=26))"
   ]
  },
  {
   "cell_type": "code",
   "execution_count": 122,
   "metadata": {
    "vscode": {
     "languageId": "r"
    }
   },
   "outputs": [
    {
     "name": "stdout",
     "output_type": "stream",
     "text": [
      "Model: \"sequential_3\"\n",
      "________________________________________________________________________________\n",
      " Layer (type)                       Output Shape                    Param #     \n",
      "================================================================================\n",
      " lstm_7 (LSTM)                      (1, 5, 50)                      15400       \n",
      " dropout_7 (Dropout)                (1, 5, 50)                      0           \n",
      " lstm_6 (LSTM)                      (1, 5, 50)                      20200       \n",
      " dropout_6 (Dropout)                (1, 5, 50)                      0           \n",
      " time_distributed_3 (TimeDistribute  (1, 5, 26)                     1326        \n",
      " d)                                                                             \n",
      "================================================================================\n",
      "Total params: 36,926\n",
      "Trainable params: 36,926\n",
      "Non-trainable params: 0\n",
      "________________________________________________________________________________\n"
     ]
    }
   ],
   "source": [
    "LSTM_model_stable_forecasting %>% compile(loss='mae',optimizer='adam',metrics='accuracy')\n",
    "summary(LSTM_model_stable_forecasting)"
   ]
  },
  {
   "cell_type": "code",
   "execution_count": 123,
   "metadata": {
    "vscode": {
     "languageId": "r"
    }
   },
   "outputs": [],
   "source": [
    "LSTM_model_stable_forecasting %>% keras::fit(\n",
    "    x=x_train_arr_bis,\n",
    "    y=y_train_arr_bis,\n",
    "    batch_size=1,\n",
    "    epochs=40,# Number of times to iterate over the training data\n",
    "    verbose=2,\n",
    "    shuffle=FALSE\n",
    ")"
   ]
  },
  {
   "cell_type": "code",
   "execution_count": 124,
   "metadata": {
    "vscode": {
     "languageId": "r"
    }
   },
   "outputs": [
    {
     "data": {
      "text/html": [
       "<style>\n",
       ".list-inline {list-style: none; margin:0; padding: 0}\n",
       ".list-inline>li {display: inline-block}\n",
       ".list-inline>li:not(:last-child)::after {content: \"\\00b7\"; padding: 0 .5ex}\n",
       "</style>\n",
       "<ol class=list-inline><li>31</li><li>5</li><li>26</li></ol>\n"
      ],
      "text/latex": [
       "\\begin{enumerate*}\n",
       "\\item 31\n",
       "\\item 5\n",
       "\\item 26\n",
       "\\end{enumerate*}\n"
      ],
      "text/markdown": [
       "1. 31\n",
       "2. 5\n",
       "3. 26\n",
       "\n",
       "\n"
      ],
      "text/plain": [
       "[1] 31  5 26"
      ]
     },
     "metadata": {},
     "output_type": "display_data"
    },
    {
     "data": {
      "text/html": [
       "<style>\n",
       ".list-inline {list-style: none; margin:0; padding: 0}\n",
       ".list-inline>li {display: inline-block}\n",
       ".list-inline>li:not(:last-child)::after {content: \"\\00b7\"; padding: 0 .5ex}\n",
       "</style>\n",
       "<ol class=list-inline><li>31</li><li>5</li><li>26</li></ol>\n"
      ],
      "text/latex": [
       "\\begin{enumerate*}\n",
       "\\item 31\n",
       "\\item 5\n",
       "\\item 26\n",
       "\\end{enumerate*}\n"
      ],
      "text/markdown": [
       "1. 31\n",
       "2. 5\n",
       "3. 26\n",
       "\n",
       "\n"
      ],
      "text/plain": [
       "[1] 31  5 26"
      ]
     },
     "metadata": {},
     "output_type": "display_data"
    }
   ],
   "source": [
    "x_train_arr_bis%>%dim\n",
    "y_train_arr_bis%>%dim"
   ]
  },
  {
   "cell_type": "code",
   "execution_count": 125,
   "metadata": {
    "vscode": {
     "languageId": "r"
    }
   },
   "outputs": [
    {
     "name": "stdout",
     "output_type": "stream",
     "text": [
      "X_test interval : 36 37 38 39 40"
     ]
    },
    {
     "data": {
      "text/html": [
       "<table class=\"dataframe\">\n",
       "<caption>A data.frame: 5 × 26</caption>\n",
       "<thead>\n",
       "\t<tr><th></th><th scope=col>1</th><th scope=col>2</th><th scope=col>3</th><th scope=col>4</th><th scope=col>5</th><th scope=col>6</th><th scope=col>7</th><th scope=col>8</th><th scope=col>9</th><th scope=col>10</th><th scope=col>⋯</th><th scope=col>17</th><th scope=col>18</th><th scope=col>19</th><th scope=col>20</th><th scope=col>21</th><th scope=col>22</th><th scope=col>23</th><th scope=col>24</th><th scope=col>25</th><th scope=col>26</th></tr>\n",
       "\t<tr><th></th><th scope=col>&lt;dbl&gt;</th><th scope=col>&lt;dbl&gt;</th><th scope=col>&lt;dbl&gt;</th><th scope=col>&lt;dbl&gt;</th><th scope=col>&lt;dbl&gt;</th><th scope=col>&lt;dbl&gt;</th><th scope=col>&lt;dbl&gt;</th><th scope=col>&lt;dbl&gt;</th><th scope=col>&lt;dbl&gt;</th><th scope=col>&lt;dbl&gt;</th><th scope=col>⋯</th><th scope=col>&lt;dbl&gt;</th><th scope=col>&lt;dbl&gt;</th><th scope=col>&lt;dbl&gt;</th><th scope=col>&lt;dbl&gt;</th><th scope=col>&lt;dbl&gt;</th><th scope=col>&lt;dbl&gt;</th><th scope=col>&lt;dbl&gt;</th><th scope=col>&lt;dbl&gt;</th><th scope=col>&lt;dbl&gt;</th><th scope=col>&lt;dbl&gt;</th></tr>\n",
       "</thead>\n",
       "<tbody>\n",
       "\t<tr><th scope=row>36</th><td>-0.09449005</td><td> 0.62338639</td><td>-0.0716141</td><td>0.1371947</td><td>-0.1252112</td><td> 0.54541563</td><td> 1.1775974</td><td> 1.5395825</td><td> 0.78264867</td><td> 0.2186782</td><td>⋯</td><td> 0.1412900</td><td> 0.1985033</td><td> 0.7744484</td><td> 0.07236232</td><td> 0.3851838</td><td>-0.3335115</td><td>-0.30774854</td><td>-0.7459851</td><td>-1.08230447</td><td>-1.2802372</td></tr>\n",
       "\t<tr><th scope=row>37</th><td>-0.01049889</td><td>-1.48227432</td><td>-0.0716141</td><td>0.1371947</td><td> 0.2325350</td><td> 1.16874777</td><td> 0.2113636</td><td>-0.8064480</td><td>-0.35574940</td><td>-0.1457855</td><td>⋯</td><td> 0.2302916</td><td> 0.8991034</td><td> 0.1153434</td><td> 1.23015940</td><td> 0.6554883</td><td> 0.9171567</td><td> 0.07101889</td><td> 1.3698433</td><td> 0.75502937</td><td> 0.2113013</td></tr>\n",
       "\t<tr><th scope=row>38</th><td>-0.30446794</td><td>-0.04155909</td><td> 1.8380953</td><td>0.6859736</td><td> 0.1132863</td><td>-1.32458081</td><td>-0.7548701</td><td>-0.8064480</td><td> 0.49804915</td><td> 2.0409967</td><td>⋯</td><td> 0.8978036</td><td>-1.2026968</td><td> 0.1153434</td><td>-0.50653623</td><td>-0.9663384</td><td>-0.3335115</td><td> 1.58608861</td><td>-1.8350144</td><td>-0.45072096</td><td> 0.2113013</td></tr>\n",
       "\t<tr><th scope=row>39</th><td> 0.07349226</td><td>-0.37403184</td><td> 1.8380953</td><td>0.1371947</td><td> 0.7095299</td><td>-0.07791652</td><td>-0.5133117</td><td>-0.8064480</td><td>-0.64034891</td><td> 1.3120693</td><td>⋯</td><td>-0.9712300</td><td>-0.2685634</td><td> 0.1153434</td><td>-0.50653623</td><td> 0.9257927</td><td> 0.9171567</td><td>-0.49713225</td><td> 1.3387282</td><td> 0.06602918</td><td> 1.7028398</td></tr>\n",
       "\t<tr><th scope=row>40</th><td> 0.11548784</td><td>-0.48485608</td><td>-0.0716141</td><td>0.1371947</td><td>-0.2842094</td><td> 1.16874777</td><td> 0.2113636</td><td>-0.2199404</td><td>-0.07114988</td><td>-1.9681040</td><td>⋯</td><td>-0.1257148</td><td> 0.8991034</td><td>-1.8619716</td><td>-0.50653623</td><td> 0.6554883</td><td>-1.1672904</td><td> 0.63917004</td><td>-1.3994027</td><td>-0.82392939</td><td> 1.2056603</td></tr>\n",
       "</tbody>\n",
       "</table>\n"
      ],
      "text/latex": [
       "A data.frame: 5 × 26\n",
       "\\begin{tabular}{r|lllllllllllllllllllll}\n",
       "  & 1 & 2 & 3 & 4 & 5 & 6 & 7 & 8 & 9 & 10 & ⋯ & 17 & 18 & 19 & 20 & 21 & 22 & 23 & 24 & 25 & 26\\\\\n",
       "  & <dbl> & <dbl> & <dbl> & <dbl> & <dbl> & <dbl> & <dbl> & <dbl> & <dbl> & <dbl> & ⋯ & <dbl> & <dbl> & <dbl> & <dbl> & <dbl> & <dbl> & <dbl> & <dbl> & <dbl> & <dbl>\\\\\n",
       "\\hline\n",
       "\t36 & -0.09449005 &  0.62338639 & -0.0716141 & 0.1371947 & -0.1252112 &  0.54541563 &  1.1775974 &  1.5395825 &  0.78264867 &  0.2186782 & ⋯ &  0.1412900 &  0.1985033 &  0.7744484 &  0.07236232 &  0.3851838 & -0.3335115 & -0.30774854 & -0.7459851 & -1.08230447 & -1.2802372\\\\\n",
       "\t37 & -0.01049889 & -1.48227432 & -0.0716141 & 0.1371947 &  0.2325350 &  1.16874777 &  0.2113636 & -0.8064480 & -0.35574940 & -0.1457855 & ⋯ &  0.2302916 &  0.8991034 &  0.1153434 &  1.23015940 &  0.6554883 &  0.9171567 &  0.07101889 &  1.3698433 &  0.75502937 &  0.2113013\\\\\n",
       "\t38 & -0.30446794 & -0.04155909 &  1.8380953 & 0.6859736 &  0.1132863 & -1.32458081 & -0.7548701 & -0.8064480 &  0.49804915 &  2.0409967 & ⋯ &  0.8978036 & -1.2026968 &  0.1153434 & -0.50653623 & -0.9663384 & -0.3335115 &  1.58608861 & -1.8350144 & -0.45072096 &  0.2113013\\\\\n",
       "\t39 &  0.07349226 & -0.37403184 &  1.8380953 & 0.1371947 &  0.7095299 & -0.07791652 & -0.5133117 & -0.8064480 & -0.64034891 &  1.3120693 & ⋯ & -0.9712300 & -0.2685634 &  0.1153434 & -0.50653623 &  0.9257927 &  0.9171567 & -0.49713225 &  1.3387282 &  0.06602918 &  1.7028398\\\\\n",
       "\t40 &  0.11548784 & -0.48485608 & -0.0716141 & 0.1371947 & -0.2842094 &  1.16874777 &  0.2113636 & -0.2199404 & -0.07114988 & -1.9681040 & ⋯ & -0.1257148 &  0.8991034 & -1.8619716 & -0.50653623 &  0.6554883 & -1.1672904 &  0.63917004 & -1.3994027 & -0.82392939 &  1.2056603\\\\\n",
       "\\end{tabular}\n"
      ],
      "text/markdown": [
       "\n",
       "A data.frame: 5 × 26\n",
       "\n",
       "| <!--/--> | 1 &lt;dbl&gt; | 2 &lt;dbl&gt; | 3 &lt;dbl&gt; | 4 &lt;dbl&gt; | 5 &lt;dbl&gt; | 6 &lt;dbl&gt; | 7 &lt;dbl&gt; | 8 &lt;dbl&gt; | 9 &lt;dbl&gt; | 10 &lt;dbl&gt; | ⋯ ⋯ | 17 &lt;dbl&gt; | 18 &lt;dbl&gt; | 19 &lt;dbl&gt; | 20 &lt;dbl&gt; | 21 &lt;dbl&gt; | 22 &lt;dbl&gt; | 23 &lt;dbl&gt; | 24 &lt;dbl&gt; | 25 &lt;dbl&gt; | 26 &lt;dbl&gt; |\n",
       "|---|---|---|---|---|---|---|---|---|---|---|---|---|---|---|---|---|---|---|---|---|---|\n",
       "| 36 | -0.09449005 |  0.62338639 | -0.0716141 | 0.1371947 | -0.1252112 |  0.54541563 |  1.1775974 |  1.5395825 |  0.78264867 |  0.2186782 | ⋯ |  0.1412900 |  0.1985033 |  0.7744484 |  0.07236232 |  0.3851838 | -0.3335115 | -0.30774854 | -0.7459851 | -1.08230447 | -1.2802372 |\n",
       "| 37 | -0.01049889 | -1.48227432 | -0.0716141 | 0.1371947 |  0.2325350 |  1.16874777 |  0.2113636 | -0.8064480 | -0.35574940 | -0.1457855 | ⋯ |  0.2302916 |  0.8991034 |  0.1153434 |  1.23015940 |  0.6554883 |  0.9171567 |  0.07101889 |  1.3698433 |  0.75502937 |  0.2113013 |\n",
       "| 38 | -0.30446794 | -0.04155909 |  1.8380953 | 0.6859736 |  0.1132863 | -1.32458081 | -0.7548701 | -0.8064480 |  0.49804915 |  2.0409967 | ⋯ |  0.8978036 | -1.2026968 |  0.1153434 | -0.50653623 | -0.9663384 | -0.3335115 |  1.58608861 | -1.8350144 | -0.45072096 |  0.2113013 |\n",
       "| 39 |  0.07349226 | -0.37403184 |  1.8380953 | 0.1371947 |  0.7095299 | -0.07791652 | -0.5133117 | -0.8064480 | -0.64034891 |  1.3120693 | ⋯ | -0.9712300 | -0.2685634 |  0.1153434 | -0.50653623 |  0.9257927 |  0.9171567 | -0.49713225 |  1.3387282 |  0.06602918 |  1.7028398 |\n",
       "| 40 |  0.11548784 | -0.48485608 | -0.0716141 | 0.1371947 | -0.2842094 |  1.16874777 |  0.2113636 | -0.2199404 | -0.07114988 | -1.9681040 | ⋯ | -0.1257148 |  0.8991034 | -1.8619716 | -0.50653623 |  0.6554883 | -1.1672904 |  0.63917004 | -1.3994027 | -0.82392939 |  1.2056603 |\n",
       "\n"
      ],
      "text/plain": [
       "   1           2           3          4         5          6          \n",
       "36 -0.09449005  0.62338639 -0.0716141 0.1371947 -0.1252112  0.54541563\n",
       "37 -0.01049889 -1.48227432 -0.0716141 0.1371947  0.2325350  1.16874777\n",
       "38 -0.30446794 -0.04155909  1.8380953 0.6859736  0.1132863 -1.32458081\n",
       "39  0.07349226 -0.37403184  1.8380953 0.1371947  0.7095299 -0.07791652\n",
       "40  0.11548784 -0.48485608 -0.0716141 0.1371947 -0.2842094  1.16874777\n",
       "   7          8          9           10         ⋯ 17         18        \n",
       "36  1.1775974  1.5395825  0.78264867  0.2186782 ⋯  0.1412900  0.1985033\n",
       "37  0.2113636 -0.8064480 -0.35574940 -0.1457855 ⋯  0.2302916  0.8991034\n",
       "38 -0.7548701 -0.8064480  0.49804915  2.0409967 ⋯  0.8978036 -1.2026968\n",
       "39 -0.5133117 -0.8064480 -0.64034891  1.3120693 ⋯ -0.9712300 -0.2685634\n",
       "40  0.2113636 -0.2199404 -0.07114988 -1.9681040 ⋯ -0.1257148  0.8991034\n",
       "   19         20          21         22         23          24        \n",
       "36  0.7744484  0.07236232  0.3851838 -0.3335115 -0.30774854 -0.7459851\n",
       "37  0.1153434  1.23015940  0.6554883  0.9171567  0.07101889  1.3698433\n",
       "38  0.1153434 -0.50653623 -0.9663384 -0.3335115  1.58608861 -1.8350144\n",
       "39  0.1153434 -0.50653623  0.9257927  0.9171567 -0.49713225  1.3387282\n",
       "40 -1.8619716 -0.50653623  0.6554883 -1.1672904  0.63917004 -1.3994027\n",
       "   25          26        \n",
       "36 -1.08230447 -1.2802372\n",
       "37  0.75502937  0.2113013\n",
       "38 -0.45072096  0.2113013\n",
       "39  0.06602918  1.7028398\n",
       "40 -0.82392939  1.2056603"
      ]
     },
     "metadata": {},
     "output_type": "display_data"
    }
   ],
   "source": [
    "x_test <-df.train[(nrow(scaled_train)- prediction+1):nrow(scaled_train),]\n",
    "# 1. Differenciate (already)\n",
    "\n",
    "# 2. Scaled \n",
    "for(i in 1:ncol(x_test)){\n",
    "    x_test[,i] <-(x_test[,i] -scale_factor[[\"center\"]][i])/scale_factor[[\"sd\"]][i]\n",
    "}\n",
    "x_test_scaled <- x_test\n",
    "cat(\"X_test interval :\",(nrow(scaled_train)- prediction+1):nrow(scaled_train))\n",
    "x_test_scaled\n"
   ]
  },
  {
   "cell_type": "code",
   "execution_count": 126,
   "metadata": {
    "vscode": {
     "languageId": "r"
    }
   },
   "outputs": [],
   "source": [
    "x_test_array <- array(\n",
    "    data = as.numeric(unlist(x_test_scaled)),\n",
    "    dim=c(1,lag,26)\n",
    ")"
   ]
  },
  {
   "cell_type": "code",
   "execution_count": 127,
   "metadata": {
    "vscode": {
     "languageId": "r"
    }
   },
   "outputs": [],
   "source": [
    "#----------------\n",
    "# Covid forecast\n",
    "LSTM_forecast_covid_stable <- LSTM_model_stable_forecasting %>% predict(x_test_array,batch_size=1)"
   ]
  },
  {
   "cell_type": "code",
   "execution_count": 129,
   "metadata": {
    "vscode": {
     "languageId": "r"
    }
   },
   "outputs": [],
   "source": [
    "#----------------------------------\n",
    "# Remembering we did 2 operations before inputing datat in our model : \n",
    "# 1.Differenciation\n",
    "# 2. Scaling\n",
    "\n",
    "#-------------\n",
    "# 1.unscale Predictions\n",
    "for (i in 1: dim(LSTM_forecast_covid_stable)[3]){\n",
    "    LSTM_forecast_covid_stable[,,i] <- LSTM_forecast_covid_stable[,,i] * scale_factor[[\"sd\"]][i] +scale_factor[[\"center\"]][i]\n",
    "}\n"
   ]
  },
  {
   "cell_type": "code",
   "execution_count": 130,
   "metadata": {
    "vscode": {
     "languageId": "r"
    }
   },
   "outputs": [
    {
     "data": {
      "text/html": [
       "<table class=\"dataframe\">\n",
       "<caption>A Time Series: 12 × 4</caption>\n",
       "<thead>\n",
       "\t<tr><th></th><th scope=col>Qtr1</th><th scope=col>Qtr2</th><th scope=col>Qtr3</th><th scope=col>Qtr4</th></tr>\n",
       "</thead>\n",
       "<tbody>\n",
       "\t<tr><th scope=row>2010</th><td>1290.000</td><td>1284.000</td><td>1279.000</td><td>1278.000</td></tr>\n",
       "\t<tr><th scope=row>2011</th><td>1276.000</td><td>1274.000</td><td>1269.000</td><td>1267.000</td></tr>\n",
       "\t<tr><th scope=row>2012</th><td>1259.000</td><td>1257.000</td><td>1256.000</td><td>1256.000</td></tr>\n",
       "\t<tr><th scope=row>2013</th><td>1247.000</td><td>1244.000</td><td>1240.000</td><td>1233.000</td></tr>\n",
       "\t<tr><th scope=row>2014</th><td>1224.000</td><td>1224.000</td><td>1221.000</td><td>1318.000</td></tr>\n",
       "\t<tr><th scope=row>2015</th><td>1208.000</td><td>1197.000</td><td>1199.000</td><td>1197.000</td></tr>\n",
       "\t<tr><th scope=row>2016</th><td>1191.000</td><td>1178.000</td><td>1174.000</td><td>1166.000</td></tr>\n",
       "\t<tr><th scope=row>2017</th><td>1160.000</td><td>1151.000</td><td>1136.000</td><td>1123.000</td></tr>\n",
       "\t<tr><th scope=row>2018</th><td>1114.000</td><td>1111.000</td><td>1097.000</td><td>1094.000</td></tr>\n",
       "\t<tr><th scope=row>2019</th><td>1086.000</td><td>1080.000</td><td>1067.000</td><td>1063.000</td></tr>\n",
       "\t<tr><th scope=row>2020</th><td>1060.000</td><td>1053.858</td><td>1045.032</td><td>1038.273</td></tr>\n",
       "\t<tr><th scope=row>2021</th><td>1030.383</td><td>1023.155</td><td>        </td><td>        </td></tr>\n",
       "</tbody>\n",
       "</table>\n"
      ],
      "text/latex": [
       "A Time Series: 12 × 4\n",
       "\\begin{tabular}{r|llll}\n",
       "  & Qtr1 & Qtr2 & Qtr3 & Qtr4\\\\\n",
       "\\hline\n",
       "\t2010 & 1290.000 & 1284.000 & 1279.000 & 1278.000\\\\\n",
       "\t2011 & 1276.000 & 1274.000 & 1269.000 & 1267.000\\\\\n",
       "\t2012 & 1259.000 & 1257.000 & 1256.000 & 1256.000\\\\\n",
       "\t2013 & 1247.000 & 1244.000 & 1240.000 & 1233.000\\\\\n",
       "\t2014 & 1224.000 & 1224.000 & 1221.000 & 1318.000\\\\\n",
       "\t2015 & 1208.000 & 1197.000 & 1199.000 & 1197.000\\\\\n",
       "\t2016 & 1191.000 & 1178.000 & 1174.000 & 1166.000\\\\\n",
       "\t2017 & 1160.000 & 1151.000 & 1136.000 & 1123.000\\\\\n",
       "\t2018 & 1114.000 & 1111.000 & 1097.000 & 1094.000\\\\\n",
       "\t2019 & 1086.000 & 1080.000 & 1067.000 & 1063.000\\\\\n",
       "\t2020 & 1060.000 & 1053.858 & 1045.032 & 1038.273\\\\\n",
       "\t2021 & 1030.383 & 1023.155 &          &         \\\\\n",
       "\\end{tabular}\n"
      ],
      "text/markdown": [
       "\n",
       "A Time Series: 12 × 4\n",
       "\n",
       "| <!--/--> | Qtr1 | Qtr2 | Qtr3 | Qtr4 |\n",
       "|---|---|---|---|---|\n",
       "| 2010 | 1290.000 | 1284.000 | 1279.000 | 1278.000 |\n",
       "| 2011 | 1276.000 | 1274.000 | 1269.000 | 1267.000 |\n",
       "| 2012 | 1259.000 | 1257.000 | 1256.000 | 1256.000 |\n",
       "| 2013 | 1247.000 | 1244.000 | 1240.000 | 1233.000 |\n",
       "| 2014 | 1224.000 | 1224.000 | 1221.000 | 1318.000 |\n",
       "| 2015 | 1208.000 | 1197.000 | 1199.000 | 1197.000 |\n",
       "| 2016 | 1191.000 | 1178.000 | 1174.000 | 1166.000 |\n",
       "| 2017 | 1160.000 | 1151.000 | 1136.000 | 1123.000 |\n",
       "| 2018 | 1114.000 | 1111.000 | 1097.000 | 1094.000 |\n",
       "| 2019 | 1086.000 | 1080.000 | 1067.000 | 1063.000 |\n",
       "| 2020 | 1060.000 | 1053.858 | 1045.032 | 1038.273 |\n",
       "| 2021 | 1030.383 | 1023.155 | <!----> | <!----> |\n",
       "\n"
      ],
      "text/plain": [
       "     Qtr1     Qtr2     Qtr3     Qtr4    \n",
       "2010 1290.000 1284.000 1279.000 1278.000\n",
       "2011 1276.000 1274.000 1269.000 1267.000\n",
       "2012 1259.000 1257.000 1256.000 1256.000\n",
       "2013 1247.000 1244.000 1240.000 1233.000\n",
       "2014 1224.000 1224.000 1221.000 1318.000\n",
       "2015 1208.000 1197.000 1199.000 1197.000\n",
       "2016 1191.000 1178.000 1174.000 1166.000\n",
       "2017 1160.000 1151.000 1136.000 1123.000\n",
       "2018 1114.000 1111.000 1097.000 1094.000\n",
       "2019 1086.000 1080.000 1067.000 1063.000\n",
       "2020 1060.000 1053.858 1045.032 1038.273\n",
       "2021 1030.383 1023.155                  "
      ]
     },
     "metadata": {},
     "output_type": "display_data"
    },
    {
     "data": {
      "text/html": [
       "<table class=\"dataframe\">\n",
       "<caption>A Time Series: 12 × 4</caption>\n",
       "<thead>\n",
       "\t<tr><th></th><th scope=col>Qtr1</th><th scope=col>Qtr2</th><th scope=col>Qtr3</th><th scope=col>Qtr4</th></tr>\n",
       "</thead>\n",
       "<tbody>\n",
       "\t<tr><th scope=row>2010</th><td>1290</td><td>1284</td><td>1279</td><td>1278</td></tr>\n",
       "\t<tr><th scope=row>2011</th><td>1276</td><td>1274</td><td>1269</td><td>1267</td></tr>\n",
       "\t<tr><th scope=row>2012</th><td>1259</td><td>1257</td><td>1256</td><td>1256</td></tr>\n",
       "\t<tr><th scope=row>2013</th><td>1247</td><td>1244</td><td>1240</td><td>1233</td></tr>\n",
       "\t<tr><th scope=row>2014</th><td>1224</td><td>1224</td><td>1221</td><td>1318</td></tr>\n",
       "\t<tr><th scope=row>2015</th><td>1208</td><td>1197</td><td>1199</td><td>1197</td></tr>\n",
       "\t<tr><th scope=row>2016</th><td>1191</td><td>1178</td><td>1174</td><td>1166</td></tr>\n",
       "\t<tr><th scope=row>2017</th><td>1160</td><td>1151</td><td>1136</td><td>1123</td></tr>\n",
       "\t<tr><th scope=row>2018</th><td>1114</td><td>1111</td><td>1097</td><td>1094</td></tr>\n",
       "\t<tr><th scope=row>2019</th><td>1086</td><td>1080</td><td>1067</td><td>1063</td></tr>\n",
       "\t<tr><th scope=row>2020</th><td>1060</td><td>1051</td><td>1041</td><td>1038</td></tr>\n",
       "\t<tr><th scope=row>2021</th><td>1019</td><td>1012</td><td>    </td><td>    </td></tr>\n",
       "</tbody>\n",
       "</table>\n"
      ],
      "text/latex": [
       "A Time Series: 12 × 4\n",
       "\\begin{tabular}{r|llll}\n",
       "  & Qtr1 & Qtr2 & Qtr3 & Qtr4\\\\\n",
       "\\hline\n",
       "\t2010 & 1290 & 1284 & 1279 & 1278\\\\\n",
       "\t2011 & 1276 & 1274 & 1269 & 1267\\\\\n",
       "\t2012 & 1259 & 1257 & 1256 & 1256\\\\\n",
       "\t2013 & 1247 & 1244 & 1240 & 1233\\\\\n",
       "\t2014 & 1224 & 1224 & 1221 & 1318\\\\\n",
       "\t2015 & 1208 & 1197 & 1199 & 1197\\\\\n",
       "\t2016 & 1191 & 1178 & 1174 & 1166\\\\\n",
       "\t2017 & 1160 & 1151 & 1136 & 1123\\\\\n",
       "\t2018 & 1114 & 1111 & 1097 & 1094\\\\\n",
       "\t2019 & 1086 & 1080 & 1067 & 1063\\\\\n",
       "\t2020 & 1060 & 1051 & 1041 & 1038\\\\\n",
       "\t2021 & 1019 & 1012 &      &     \\\\\n",
       "\\end{tabular}\n"
      ],
      "text/markdown": [
       "\n",
       "A Time Series: 12 × 4\n",
       "\n",
       "| <!--/--> | Qtr1 | Qtr2 | Qtr3 | Qtr4 |\n",
       "|---|---|---|---|---|\n",
       "| 2010 | 1290 | 1284 | 1279 | 1278 |\n",
       "| 2011 | 1276 | 1274 | 1269 | 1267 |\n",
       "| 2012 | 1259 | 1257 | 1256 | 1256 |\n",
       "| 2013 | 1247 | 1244 | 1240 | 1233 |\n",
       "| 2014 | 1224 | 1224 | 1221 | 1318 |\n",
       "| 2015 | 1208 | 1197 | 1199 | 1197 |\n",
       "| 2016 | 1191 | 1178 | 1174 | 1166 |\n",
       "| 2017 | 1160 | 1151 | 1136 | 1123 |\n",
       "| 2018 | 1114 | 1111 | 1097 | 1094 |\n",
       "| 2019 | 1086 | 1080 | 1067 | 1063 |\n",
       "| 2020 | 1060 | 1051 | 1041 | 1038 |\n",
       "| 2021 | 1019 | 1012 | <!----> | <!----> |\n",
       "\n"
      ],
      "text/plain": [
       "     Qtr1 Qtr2 Qtr3 Qtr4\n",
       "2010 1290 1284 1279 1278\n",
       "2011 1276 1274 1269 1267\n",
       "2012 1259 1257 1256 1256\n",
       "2013 1247 1244 1240 1233\n",
       "2014 1224 1224 1221 1318\n",
       "2015 1208 1197 1199 1197\n",
       "2016 1191 1178 1174 1166\n",
       "2017 1160 1151 1136 1123\n",
       "2018 1114 1111 1097 1094\n",
       "2019 1086 1080 1067 1063\n",
       "2020 1060 1051 1041 1038\n",
       "2021 1019 1012          "
      ]
     },
     "metadata": {},
     "output_type": "display_data"
    }
   ],
   "source": [
    "index_secteur=1\n",
    "pred <- c(df.diff[,index_secteur],LSTM_forecast_covid_stable[,,index_secteur])\n",
    "pred <-ts(pred, start=c(2010,2),frequency=4)\n",
    "obs <- df.diff[,index_secteur]\n",
    "\n",
    "\n",
    "#-----------------\n",
    "# Inverse differenciation\n",
    "starting_point <- df.ts[1,index_secteur]\n",
    "obs <-diffinv(obs,xi=starting_point)\n",
    "obs <-c(obs,covid.ts[,index_secteur])\n",
    "obs <-ts(obs, start=c(2010,1),frequency=4)\n",
    "pred <-diffinv(pred,xi=starting_point)\n",
    "pred\n",
    "obs\n"
   ]
  },
  {
   "cell_type": "code",
   "execution_count": 131,
   "metadata": {
    "vscode": {
     "languageId": "r"
    }
   },
   "outputs": [
    {
     "data": {
      "image/png": "[encoded data removed]",
      "text/plain": [
       "plot without title"
      ]
     },
     "metadata": {
      "image/png": {
       "height": 420,
       "width": 420
      }
     },
     "output_type": "display_data"
    }
   ],
   "source": [
    "index_secteur <- 2\n",
    "\n",
    "pred <- c(df.diff[,index_secteur],LSTM_forecast_covid_stable[,,index_secteur])\n",
    "pred <-ts(pred, start=c(2010,2),frequency=4)\n",
    "obs <- df.diff[,index_secteur]\n",
    "\n",
    "\n",
    "#-----------------\n",
    "# Inverse differenciation\n",
    "starting_point <- df.ts[1,index_secteur]\n",
    "obs <-diffinv(obs,xi=starting_point)\n",
    "obs <-c(obs,covid.ts[,index_secteur])\n",
    "obs <-ts(obs, start=c(2010,1),frequency=4)\n",
    "pred <-diffinv(pred,xi=starting_point)\n",
    "plot.ts(\n",
    "    cbind(pred,obs),\n",
    "    plot.type=\"single\",\n",
    "    lty=c(2,1),\n",
    "    lwd=1,\n",
    "    xlab=\"t\",\n",
    "    ylab=paste(\"Nombre d'Etablissements en GE pour le secteur :\",lab.to.num$lab[index_secteur],sep=\"\"),\n",
    "    \n",
    "    col=c(\"blue\",\"red\")\n",
    ")\n",
    "legend(\"topleft\",\n",
    "\n",
    "    legend=c(\"Prédictions\",\"Observations\"),\n",
    "    col=c(\"blue\",\"red\"),\n",
    "    lty=c(2,1),\n",
    "    lwd=1\n",
    ")"
   ]
  },
  {
   "cell_type": "code",
   "execution_count": 132,
   "metadata": {
    "vscode": {
     "languageId": "r"
    }
   },
   "outputs": [],
   "source": [
    "#-------------------------------\n",
    "#Save all plots\n",
    "for( index_secteur in 1:ncol(scaled_train)){\n",
    "\n",
    "    png(file=paste(\"plots/LSTM_stable/covid_forecast/\",index_secteur,\".png\",sep=\"\"))\n",
    "    pred <- c(df.diff[,index_secteur],LSTM_forecast_covid_stable[,,index_secteur])\n",
    "    pred <-ts(pred, start=c(2010,2),frequency=4)\n",
    "    obs <- df.diff[,index_secteur]\n",
    "    \n",
    "    \n",
    "    #-----------------\n",
    "    # Inverse differenciation\n",
    "    starting_point <- df.ts[1,index_secteur]\n",
    "    obs <-diffinv(obs,xi=starting_point)\n",
    "    obs <-c(obs,covid.ts[,index_secteur])\n",
    "    obs <-ts(obs, start=c(2010,1),frequency=4)\n",
    "    pred <-diffinv(pred,xi=starting_point)\n",
    "\n",
    "    plot.ts(\n",
    "        cbind(pred,obs),\n",
    "        plot.type=\"single\",\n",
    "        main=paste(\"Predictions LSTM stable vs observations \\n secteur : \",lab.to.num$lab[index_secteur],sep=\"\"),\n",
    "        col=c(\"blue\",\"red\"),\n",
    "        lty=c(2,1),\n",
    "        lwd=1,\n",
    "        xlab=\"t\",\n",
    "        ylab=paste(\"Nombre d'Etablissements en GE pour le secteur :\",lab.to.num$lab[index_secteur],sep=\"\"),\n",
    "\n",
    "    )\n",
    "    legend(\"topleft\",\n",
    "        legend=c(\"Prédictions\",\"Observations\"),\n",
    "        col=c(\"blue\",\"red\"),\n",
    "        lty=c(2,1),\n",
    "        lwd=1\n",
    ")\n",
    "    dev.off()\n",
    "}"
   ]
  },
  {
   "cell_type": "code",
   "execution_count": 342,
   "metadata": {
    "vscode": {
     "languageId": "r"
    }
   },
   "outputs": [],
   "source": [
    "#----------------------\n",
    "#Save model\n",
    "#save_model_tf(LSTM_model,\"models/LSTM_stable\")\n"
   ]
  },
  {
   "cell_type": "markdown",
   "metadata": {},
   "source": [
    "<hr>\n",
    "\n",
    "# Analyse des ecarts remarqué entre ce que l'on a prédit sur la période et ce qu'il en a été sur la période covid"
   ]
  },
  {
   "cell_type": "markdown",
   "metadata": {},
   "source": [
    "### Calculate RMSE *Residual Mean Square Error*"
   ]
  },
  {
   "cell_type": "code",
   "execution_count": 133,
   "metadata": {
    "vscode": {
     "languageId": "r"
    }
   },
   "outputs": [],
   "source": [
    "RMSE <- c()\n",
    "for (index_secteur in 1:dim(LSTM_forecast_covid_stable)[3]){\n",
    "    pred <- c(df.diff[,index_secteur],LSTM_forecast_covid_stable[,,index_secteur])\n",
    "    pred <-ts(pred, start=c(2010,2),frequency=4)\n",
    "    obs <- df.diff[,index_secteur]\n",
    "    #-----------------\n",
    "    # Inverse differenciation\n",
    "    starting_point <- df.ts[1,index_secteur]\n",
    "    obs <-diffinv(obs,xi=starting_point)\n",
    "    obs <-c(obs,covid.ts[,index_secteur])\n",
    "    obs <-ts(obs, start=c(2010,1),frequency=4)\n",
    "    pred <-diffinv(pred,xi=starting_point)\n",
    "    obs <- obs[(length(obs)-lag+1):length(obs)]\n",
    "    pred <- pred[(length(pred)-lag+1):length(pred)]\n",
    "    RMSE <-c(RMSE,sqrt(mean((obs-pred)^2)))\n",
    "}"
   ]
  },
  {
   "cell_type": "code",
   "execution_count": 134,
   "metadata": {
    "vscode": {
     "languageId": "r"
    }
   },
   "outputs": [
    {
     "data": {
      "text/html": [
       "<table class=\"dataframe\">\n",
       "<caption>A data.frame: 26 × 1</caption>\n",
       "<thead>\n",
       "\t<tr><th scope=col>rmse</th></tr>\n",
       "\t<tr><th scope=col>&lt;dbl&gt;</th></tr>\n",
       "</thead>\n",
       "<tbody>\n",
       "\t<tr><td>  7.4632204</td></tr>\n",
       "\t<tr><td> 16.5930335</td></tr>\n",
       "\t<tr><td>  2.9914031</td></tr>\n",
       "\t<tr><td>  1.9182039</td></tr>\n",
       "\t<tr><td> 41.1804487</td></tr>\n",
       "\t<tr><td>  1.1224889</td></tr>\n",
       "\t<tr><td>  5.1484474</td></tr>\n",
       "\t<tr><td> 10.4149469</td></tr>\n",
       "\t<tr><td>  5.6450518</td></tr>\n",
       "\t<tr><td>  6.2457254</td></tr>\n",
       "\t<tr><td>  8.6144351</td></tr>\n",
       "\t<tr><td> 81.9046565</td></tr>\n",
       "\t<tr><td>  8.6242490</td></tr>\n",
       "\t<tr><td>  0.8750834</td></tr>\n",
       "\t<tr><td>  2.0025450</td></tr>\n",
       "\t<tr><td>  0.7796440</td></tr>\n",
       "\t<tr><td> 12.5563124</td></tr>\n",
       "\t<tr><td>  7.2035407</td></tr>\n",
       "\t<tr><td>  0.9683831</td></tr>\n",
       "\t<tr><td>  1.1912146</td></tr>\n",
       "\t<tr><td>  4.7293098</td></tr>\n",
       "\t<tr><td>  1.7131584</td></tr>\n",
       "\t<tr><td>  5.0636567</td></tr>\n",
       "\t<tr><td> 87.4368994</td></tr>\n",
       "\t<tr><td>129.1571639</td></tr>\n",
       "\t<tr><td>  4.1211925</td></tr>\n",
       "</tbody>\n",
       "</table>\n"
      ],
      "text/latex": [
       "A data.frame: 26 × 1\n",
       "\\begin{tabular}{l}\n",
       " rmse\\\\\n",
       " <dbl>\\\\\n",
       "\\hline\n",
       "\t   7.4632204\\\\\n",
       "\t  16.5930335\\\\\n",
       "\t   2.9914031\\\\\n",
       "\t   1.9182039\\\\\n",
       "\t  41.1804487\\\\\n",
       "\t   1.1224889\\\\\n",
       "\t   5.1484474\\\\\n",
       "\t  10.4149469\\\\\n",
       "\t   5.6450518\\\\\n",
       "\t   6.2457254\\\\\n",
       "\t   8.6144351\\\\\n",
       "\t  81.9046565\\\\\n",
       "\t   8.6242490\\\\\n",
       "\t   0.8750834\\\\\n",
       "\t   2.0025450\\\\\n",
       "\t   0.7796440\\\\\n",
       "\t  12.5563124\\\\\n",
       "\t   7.2035407\\\\\n",
       "\t   0.9683831\\\\\n",
       "\t   1.1912146\\\\\n",
       "\t   4.7293098\\\\\n",
       "\t   1.7131584\\\\\n",
       "\t   5.0636567\\\\\n",
       "\t  87.4368994\\\\\n",
       "\t 129.1571639\\\\\n",
       "\t   4.1211925\\\\\n",
       "\\end{tabular}\n"
      ],
      "text/markdown": [
       "\n",
       "A data.frame: 26 × 1\n",
       "\n",
       "| rmse &lt;dbl&gt; |\n",
       "|---|\n",
       "|   7.4632204 |\n",
       "|  16.5930335 |\n",
       "|   2.9914031 |\n",
       "|   1.9182039 |\n",
       "|  41.1804487 |\n",
       "|   1.1224889 |\n",
       "|   5.1484474 |\n",
       "|  10.4149469 |\n",
       "|   5.6450518 |\n",
       "|   6.2457254 |\n",
       "|   8.6144351 |\n",
       "|  81.9046565 |\n",
       "|   8.6242490 |\n",
       "|   0.8750834 |\n",
       "|   2.0025450 |\n",
       "|   0.7796440 |\n",
       "|  12.5563124 |\n",
       "|   7.2035407 |\n",
       "|   0.9683831 |\n",
       "|   1.1912146 |\n",
       "|   4.7293098 |\n",
       "|   1.7131584 |\n",
       "|   5.0636567 |\n",
       "|  87.4368994 |\n",
       "| 129.1571639 |\n",
       "|   4.1211925 |\n",
       "\n"
      ],
      "text/plain": [
       "   rmse       \n",
       "1    7.4632204\n",
       "2   16.5930335\n",
       "3    2.9914031\n",
       "4    1.9182039\n",
       "5   41.1804487\n",
       "6    1.1224889\n",
       "7    5.1484474\n",
       "8   10.4149469\n",
       "9    5.6450518\n",
       "10   6.2457254\n",
       "11   8.6144351\n",
       "12  81.9046565\n",
       "13   8.6242490\n",
       "14   0.8750834\n",
       "15   2.0025450\n",
       "16   0.7796440\n",
       "17  12.5563124\n",
       "18   7.2035407\n",
       "19   0.9683831\n",
       "20   1.1912146\n",
       "21   4.7293098\n",
       "22   1.7131584\n",
       "23   5.0636567\n",
       "24  87.4368994\n",
       "25 129.1571639\n",
       "26   4.1211925"
      ]
     },
     "metadata": {},
     "output_type": "display_data"
    }
   ],
   "source": [
    "RMSE_stable_LSTM <-RMSE %>% as.data.frame()\n",
    "colnames(RMSE_stable_LSTM) <-\"rmse\"\n",
    "RMSE_stable_LSTM\n"
   ]
  },
  {
   "cell_type": "code",
   "execution_count": 135,
   "metadata": {
    "vscode": {
     "languageId": "r"
    }
   },
   "outputs": [
    {
     "data": {
      "text/plain": [
       "    Min.  1st Qu.   Median     Mean  3rd Qu.     Max. \n",
       "  0.7796   1.9393   5.3967  17.5255   9.9673 129.1572 "
      ]
     },
     "metadata": {},
     "output_type": "display_data"
    }
   ],
   "source": [
    "summary(RMSE_stable_LSTM$rmse)"
   ]
  },
  {
   "cell_type": "code",
   "execution_count": 136,
   "metadata": {
    "vscode": {
     "languageId": "r"
    }
   },
   "outputs": [
    {
     "data": {
      "image/png": "[encoded data removed]",
      "text/plain": [
       "Plot with title “Histogram of tmp”"
      ]
     },
     "metadata": {
      "image/png": {
       "height": 420,
       "width": 420
      }
     },
     "output_type": "display_data"
    }
   ],
   "source": [
    "RMSE_stable_LSTM$group <- RMSE_stable_LSTM$rmse >6.92\n",
    "tmp <-apply(RMSE_stable_LSTM,1,FUN=function(x){if(x[2]){return(1)}else{return(0) }})\n",
    "\n",
    "hist(tmp)\n"
   ]
  },
  {
   "cell_type": "markdown",
   "metadata": {},
   "source": [
    "### Calculate MAE *Mean Absolute Error*"
   ]
  },
  {
   "cell_type": "code",
   "execution_count": 137,
   "metadata": {
    "vscode": {
     "languageId": "r"
    }
   },
   "outputs": [],
   "source": [
    "MAE <- c()\n",
    "for (index_secteur in 1:dim(LSTM_forecast_covid_stable)[3]){\n",
    "    pred <- c(df.diff[,index_secteur],LSTM_forecast_covid_stable[,,index_secteur])\n",
    "    pred <-ts(pred, start=c(2010,2),frequency=4)\n",
    "    obs <- df.diff[,index_secteur]\n",
    "    #-----------------\n",
    "    # Inverse differenciation\n",
    "    starting_point <- df.ts[1,index_secteur]\n",
    "    obs <-diffinv(obs,xi=starting_point)\n",
    "    obs <-c(obs,covid.ts[,index_secteur])\n",
    "    obs <-ts(obs, start=c(2010,1),frequency=4)\n",
    "    pred <-diffinv(pred,xi=starting_point)\n",
    "    obs <- obs[(length(obs)-lag+1):length(obs)]\n",
    "    pred <- pred[(length(pred)-lag+1):length(pred)]\n",
    "    \n",
    "    MAE <-c(MAE,mean(abs(obs-pred)))\n",
    "    \n",
    "}\n",
    "MAE <- MAE %>%as.data.frame()\n",
    "colnames(MAE) <- \"MAE\"\n"
   ]
  },
  {
   "cell_type": "code",
   "execution_count": 133,
   "metadata": {
    "vscode": {
     "languageId": "r"
    }
   },
   "outputs": [
    {
     "data": {
      "text/plain": [
       "      MAE          \n",
       " Min.   :  0.4766  \n",
       " 1st Qu.:  2.9129  \n",
       " Median :  3.9323  \n",
       " Mean   : 18.0084  \n",
       " 3rd Qu.: 10.6927  \n",
       " Max.   :139.0659  "
      ]
     },
     "metadata": {},
     "output_type": "display_data"
    }
   ],
   "source": [
    "summary(MAE)"
   ]
  },
  {
   "cell_type": "markdown",
   "metadata": {},
   "source": [
    "### Calculate MAPE *Mean Absolute  Percentage Error*\n",
    "\n",
    "**They have the advantage to be unit free.**\n",
    "\n",
    "Measures based on percentage errors have the disadvantage of being infinite or undefined if yt=0 for any t in the period of interest, and having extreme values if any yt is close to zero. Another problem with percentage errors that is often overlooked is that they assume the unit of measurement has a meaningful zero.2 For example, a percentage error makes no sense when measuring the accuracy of temperature forecasts on either the Fahrenheit or Celsius scales, because temperature has an arbitrary zero point."
   ]
  },
  {
   "cell_type": "markdown",
   "metadata": {},
   "source": [
    "**Ceci ne possera pas de probleme si l'on unscale + inv differenciate**"
   ]
  },
  {
   "cell_type": "code",
   "execution_count": 138,
   "metadata": {
    "vscode": {
     "languageId": "r"
    }
   },
   "outputs": [],
   "source": [
    "MAPE <- c()\n",
    "for (index_secteur in 1:dim(LSTM_forecast_covid_stable)[3]){\n",
    "    pred <- c(df.diff[,index_secteur],LSTM_forecast_covid_stable[,,index_secteur])\n",
    "    pred <-ts(pred, start=c(2010,2),frequency=4)\n",
    "    obs <- df.diff[,index_secteur]\n",
    "    #-----------------\n",
    "    # Inverse differenciation\n",
    "    starting_point <- df.ts[1,index_secteur]\n",
    "    obs <-diffinv(obs,xi=starting_point)\n",
    "    obs <-c(obs,covid.ts[,index_secteur])\n",
    "    obs <-ts(obs, start=c(2010,1),frequency=4)\n",
    "    pred <-diffinv(pred,xi=starting_point)\n",
    "    obs <- obs[(length(obs)-lag+1):length(obs)]\n",
    "    pred <- pred[(length(pred)-lag+1):length(pred)]\n",
    "    \n",
    "    MAPE <-c(MAPE,mean(abs((obs-pred)*100/obs)))\n",
    "    \n",
    "}\n",
    "MAPE <- MAPE %>%as.data.frame()\n",
    "colnames(MAPE) <- \"MAPE\"\n"
   ]
  },
  {
   "cell_type": "code",
   "execution_count": 135,
   "metadata": {
    "vscode": {
     "languageId": "r"
    }
   },
   "outputs": [
    {
     "data": {
      "text/plain": [
       "      MAPE        \n",
       " Min.   : 0.3921  \n",
       " 1st Qu.: 1.8135  \n",
       " Median : 3.1454  \n",
       " Mean   : 5.3554  \n",
       " 3rd Qu.: 5.1551  \n",
       " Max.   :47.4252  "
      ]
     },
     "metadata": {},
     "output_type": "display_data"
    }
   ],
   "source": [
    "summary(MAPE)"
   ]
  },
  {
   "cell_type": "markdown",
   "metadata": {},
   "source": [
    "They also have the disadvantage that they put a heavier penalty on negative errors than on positive errors. This observation led to the use of the so-called “symmetric” MAPE (sMAPE) proposed by Armstrong (1978, p. 348), which was used in the M3 forecasting competition. \n",
    "It is defined by\n",
    "\n",
    "$sMAPE=mean(200|obs−pred|/(obs+pred))$\n",
    "\n",
    "https://otexts.com/fpp2/accuracy.html"
   ]
  },
  {
   "cell_type": "code",
   "execution_count": 139,
   "metadata": {
    "vscode": {
     "languageId": "r"
    }
   },
   "outputs": [],
   "source": [
    "sMAPE <- c()\n",
    "for (index_secteur in 1:dim(LSTM_forecast_covid_stable)[3]){\n",
    "    pred <- c(df.diff[,index_secteur],LSTM_forecast_covid_stable[,,index_secteur])\n",
    "    pred <-ts(pred, start=c(2010,2),frequency=4)\n",
    "    obs <- df.diff[,index_secteur]\n",
    "    #-----------------\n",
    "    # Inverse differenciation\n",
    "    starting_point <- df.ts[1,index_secteur]\n",
    "    obs <-diffinv(obs,xi=starting_point)\n",
    "    obs <-c(obs,covid.ts[,index_secteur])\n",
    "    obs <-ts(obs, start=c(2010,1),frequency=4)\n",
    "    pred <-diffinv(pred,xi=starting_point)\n",
    "    obs <- obs[(length(obs)-lag+1):length(obs)]\n",
    "    pred <- pred[(length(pred)-lag+1):length(pred)]\n",
    "    \n",
    "    sMAPE <-c(sMAPE,mean(200*abs(obs-pred)/(obs+pred)))\n",
    "    \n",
    "}\n",
    "sMAPE <- sMAPE %>%as.data.frame()\n",
    "colnames(sMAPE) <- \"sMAPE\"\n"
   ]
  },
  {
   "cell_type": "code",
   "execution_count": 140,
   "metadata": {
    "vscode": {
     "languageId": "r"
    }
   },
   "outputs": [
    {
     "data": {
      "text/html": [
       "<table class=\"dataframe\">\n",
       "<caption>A data.frame: 26 × 5</caption>\n",
       "<thead>\n",
       "\t<tr><th scope=col>secteurs</th><th scope=col>RMSE</th><th scope=col>MAE</th><th scope=col>MAPE</th><th scope=col>sMAPE</th></tr>\n",
       "\t<tr><th scope=col>&lt;chr&gt;</th><th scope=col>&lt;dbl&gt;</th><th scope=col>&lt;dbl&gt;</th><th scope=col>&lt;dbl&gt;</th><th scope=col>&lt;dbl&gt;</th></tr>\n",
       "</thead>\n",
       "<tbody>\n",
       "\t<tr><td>64 Activités des services financiers, hors assurance et</td><td>  7.4632204</td><td>  5.9401073</td><td>0.5809711</td><td>0.5782976</td></tr>\n",
       "\t<tr><td>65-66 Assurance ; Activités auxiliaires de services fin</td><td> 16.5930335</td><td> 15.8527671</td><td>4.5215348</td><td>4.4116372</td></tr>\n",
       "\t<tr><td>852 Enseignement primaire                              </td><td>  2.9914031</td><td>  2.7843462</td><td>3.9544069</td><td>3.8657830</td></tr>\n",
       "\t<tr><td>853 Enseignement secondaire                            </td><td>  1.9182039</td><td>  1.6143072</td><td>1.1175793</td><td>1.1088140</td></tr>\n",
       "\t<tr><td>85x Enseignement / Autre                               </td><td> 41.1804487</td><td> 31.5155180</td><td>3.1506220</td><td>3.0678075</td></tr>\n",
       "\t<tr><td>861 Activités hospitalières                            </td><td>  1.1224889</td><td>  0.9772601</td><td>0.9834384</td><td>0.9898455</td></tr>\n",
       "\t<tr><td>862 Activité des médecins et des dentistes             </td><td>  5.1484474</td><td>  4.7086446</td><td>2.6416714</td><td>2.6179680</td></tr>\n",
       "\t<tr><td>869 Autres activités pour la santé humaine             </td><td> 10.4149469</td><td>  9.4032781</td><td>7.4029834</td><td>7.0805959</td></tr>\n",
       "\t<tr><td>87 Hébergement médico-social et social                 </td><td>  5.6450518</td><td>  4.4797490</td><td>0.4538340</td><td>0.4521976</td></tr>\n",
       "\t<tr><td>881 Action sociale sans hébergement pour personnes âgée</td><td>  6.2457254</td><td>  5.8944110</td><td>1.0881458</td><td>1.0815265</td></tr>\n",
       "\t<tr><td>889 Autre action sociale sans hébergement              </td><td>  8.6144351</td><td>  6.5050657</td><td>0.4335090</td><td>0.4318703</td></tr>\n",
       "\t<tr><td>931 Activités liées au sport                           </td><td> 81.9046565</td><td> 65.5673562</td><td>5.4405866</td><td>5.2229487</td></tr>\n",
       "\t<tr><td>932 Activités récréatives et de loisirs                </td><td>  8.6242490</td><td>  7.7968187</td><td>5.3676377</td><td>5.2034853</td></tr>\n",
       "\t<tr><td>FZ_Construction                                        </td><td>  0.8750834</td><td>  0.7784234</td><td>2.1128446</td><td>2.0917987</td></tr>\n",
       "\t<tr><td>GZ_Commerce, réparation d'automobiles et de motocycles </td><td>  2.0025450</td><td>  1.7409721</td><td>1.1679339</td><td>1.1592755</td></tr>\n",
       "\t<tr><td>HZ_Transports et entreposage                           </td><td>  0.7796440</td><td>  0.6044604</td><td>6.0440941</td><td>5.7547351</td></tr>\n",
       "\t<tr><td>IZ_Hébergement et restauration                         </td><td> 12.5563124</td><td> 11.3846128</td><td>5.4592197</td><td>5.2849067</td></tr>\n",
       "\t<tr><td>JA_Edition et audiovisuel                              </td><td>  7.2035407</td><td>  6.9404949</td><td>6.4433407</td><td>6.2251894</td></tr>\n",
       "\t<tr><td>JB-JC_Télécommunications et ativités informatiques     </td><td>  0.9683831</td><td>  0.7884068</td><td>8.6548581</td><td>8.1199181</td></tr>\n",
       "\t<tr><td>LZ_Activités immobilières                              </td><td>  1.1912146</td><td>  1.1209995</td><td>4.0490148</td><td>4.0996934</td></tr>\n",
       "\t<tr><td>MA_Activités juridiques, de conseil et d'ingénierie    </td><td>  4.7293098</td><td>  4.2246358</td><td>2.1499310</td><td>2.1665834</td></tr>\n",
       "\t<tr><td>MB-MC_R&amp;d et autres activités scientifiques et techniqu</td><td><span style=white-space:pre-wrap>  1.7131584</span></td><td><span style=white-space:pre-wrap>  1.0970174</span></td><td>1.9800411</td><td>1.9359123</td></tr>\n",
       "\t<tr><td>NZ_Activités de services administratifs et de soutien  </td><td>  5.0636567</td><td>  4.0073147</td><td>1.4457960</td><td>1.4304453</td></tr>\n",
       "\t<tr><td>RZ_Arts, spectacles et activités récréatives           </td><td> 87.4368994</td><td> 64.9578719</td><td>7.5502523</td><td>7.1080958</td></tr>\n",
       "\t<tr><td>SZ_autres activités de services                        </td><td>129.1571639</td><td>115.9493921</td><td>4.3774243</td><td>4.2610739</td></tr>\n",
       "\t<tr><td>i_Industrie et agriculture                             </td><td>  4.1211925</td><td>  3.5034024</td><td>4.9538011</td><td>4.7896060</td></tr>\n",
       "</tbody>\n",
       "</table>\n"
      ],
      "text/latex": [
       "A data.frame: 26 × 5\n",
       "\\begin{tabular}{lllll}\n",
       " secteurs & RMSE & MAE & MAPE & sMAPE\\\\\n",
       " <chr> & <dbl> & <dbl> & <dbl> & <dbl>\\\\\n",
       "\\hline\n",
       "\t 64 Activités des services financiers, hors assurance et &   7.4632204 &   5.9401073 & 0.5809711 & 0.5782976\\\\\n",
       "\t 65-66 Assurance ; Activités auxiliaires de services fin &  16.5930335 &  15.8527671 & 4.5215348 & 4.4116372\\\\\n",
       "\t 852 Enseignement primaire                               &   2.9914031 &   2.7843462 & 3.9544069 & 3.8657830\\\\\n",
       "\t 853 Enseignement secondaire                             &   1.9182039 &   1.6143072 & 1.1175793 & 1.1088140\\\\\n",
       "\t 85x Enseignement / Autre                                &  41.1804487 &  31.5155180 & 3.1506220 & 3.0678075\\\\\n",
       "\t 861 Activités hospitalières                             &   1.1224889 &   0.9772601 & 0.9834384 & 0.9898455\\\\\n",
       "\t 862 Activité des médecins et des dentistes              &   5.1484474 &   4.7086446 & 2.6416714 & 2.6179680\\\\\n",
       "\t 869 Autres activités pour la santé humaine              &  10.4149469 &   9.4032781 & 7.4029834 & 7.0805959\\\\\n",
       "\t 87 Hébergement médico-social et social                  &   5.6450518 &   4.4797490 & 0.4538340 & 0.4521976\\\\\n",
       "\t 881 Action sociale sans hébergement pour personnes âgée &   6.2457254 &   5.8944110 & 1.0881458 & 1.0815265\\\\\n",
       "\t 889 Autre action sociale sans hébergement               &   8.6144351 &   6.5050657 & 0.4335090 & 0.4318703\\\\\n",
       "\t 931 Activités liées au sport                            &  81.9046565 &  65.5673562 & 5.4405866 & 5.2229487\\\\\n",
       "\t 932 Activités récréatives et de loisirs                 &   8.6242490 &   7.7968187 & 5.3676377 & 5.2034853\\\\\n",
       "\t FZ\\_Construction                                         &   0.8750834 &   0.7784234 & 2.1128446 & 2.0917987\\\\\n",
       "\t GZ\\_Commerce, réparation d'automobiles et de motocycles  &   2.0025450 &   1.7409721 & 1.1679339 & 1.1592755\\\\\n",
       "\t HZ\\_Transports et entreposage                            &   0.7796440 &   0.6044604 & 6.0440941 & 5.7547351\\\\\n",
       "\t IZ\\_Hébergement et restauration                          &  12.5563124 &  11.3846128 & 5.4592197 & 5.2849067\\\\\n",
       "\t JA\\_Edition et audiovisuel                               &   7.2035407 &   6.9404949 & 6.4433407 & 6.2251894\\\\\n",
       "\t JB-JC\\_Télécommunications et ativités informatiques      &   0.9683831 &   0.7884068 & 8.6548581 & 8.1199181\\\\\n",
       "\t LZ\\_Activités immobilières                               &   1.1912146 &   1.1209995 & 4.0490148 & 4.0996934\\\\\n",
       "\t MA\\_Activités juridiques, de conseil et d'ingénierie     &   4.7293098 &   4.2246358 & 2.1499310 & 2.1665834\\\\\n",
       "\t MB-MC\\_R\\&d et autres activités scientifiques et techniqu &   1.7131584 &   1.0970174 & 1.9800411 & 1.9359123\\\\\n",
       "\t NZ\\_Activités de services administratifs et de soutien   &   5.0636567 &   4.0073147 & 1.4457960 & 1.4304453\\\\\n",
       "\t RZ\\_Arts, spectacles et activités récréatives            &  87.4368994 &  64.9578719 & 7.5502523 & 7.1080958\\\\\n",
       "\t SZ\\_autres activités de services                         & 129.1571639 & 115.9493921 & 4.3774243 & 4.2610739\\\\\n",
       "\t i\\_Industrie et agriculture                              &   4.1211925 &   3.5034024 & 4.9538011 & 4.7896060\\\\\n",
       "\\end{tabular}\n"
      ],
      "text/markdown": [
       "\n",
       "A data.frame: 26 × 5\n",
       "\n",
       "| secteurs &lt;chr&gt; | RMSE &lt;dbl&gt; | MAE &lt;dbl&gt; | MAPE &lt;dbl&gt; | sMAPE &lt;dbl&gt; |\n",
       "|---|---|---|---|---|\n",
       "| 64 Activités des services financiers, hors assurance et |   7.4632204 |   5.9401073 | 0.5809711 | 0.5782976 |\n",
       "| 65-66 Assurance ; Activités auxiliaires de services fin |  16.5930335 |  15.8527671 | 4.5215348 | 4.4116372 |\n",
       "| 852 Enseignement primaire                               |   2.9914031 |   2.7843462 | 3.9544069 | 3.8657830 |\n",
       "| 853 Enseignement secondaire                             |   1.9182039 |   1.6143072 | 1.1175793 | 1.1088140 |\n",
       "| 85x Enseignement / Autre                                |  41.1804487 |  31.5155180 | 3.1506220 | 3.0678075 |\n",
       "| 861 Activités hospitalières                             |   1.1224889 |   0.9772601 | 0.9834384 | 0.9898455 |\n",
       "| 862 Activité des médecins et des dentistes              |   5.1484474 |   4.7086446 | 2.6416714 | 2.6179680 |\n",
       "| 869 Autres activités pour la santé humaine              |  10.4149469 |   9.4032781 | 7.4029834 | 7.0805959 |\n",
       "| 87 Hébergement médico-social et social                  |   5.6450518 |   4.4797490 | 0.4538340 | 0.4521976 |\n",
       "| 881 Action sociale sans hébergement pour personnes âgée |   6.2457254 |   5.8944110 | 1.0881458 | 1.0815265 |\n",
       "| 889 Autre action sociale sans hébergement               |   8.6144351 |   6.5050657 | 0.4335090 | 0.4318703 |\n",
       "| 931 Activités liées au sport                            |  81.9046565 |  65.5673562 | 5.4405866 | 5.2229487 |\n",
       "| 932 Activités récréatives et de loisirs                 |   8.6242490 |   7.7968187 | 5.3676377 | 5.2034853 |\n",
       "| FZ_Construction                                         |   0.8750834 |   0.7784234 | 2.1128446 | 2.0917987 |\n",
       "| GZ_Commerce, réparation d'automobiles et de motocycles  |   2.0025450 |   1.7409721 | 1.1679339 | 1.1592755 |\n",
       "| HZ_Transports et entreposage                            |   0.7796440 |   0.6044604 | 6.0440941 | 5.7547351 |\n",
       "| IZ_Hébergement et restauration                          |  12.5563124 |  11.3846128 | 5.4592197 | 5.2849067 |\n",
       "| JA_Edition et audiovisuel                               |   7.2035407 |   6.9404949 | 6.4433407 | 6.2251894 |\n",
       "| JB-JC_Télécommunications et ativités informatiques      |   0.9683831 |   0.7884068 | 8.6548581 | 8.1199181 |\n",
       "| LZ_Activités immobilières                               |   1.1912146 |   1.1209995 | 4.0490148 | 4.0996934 |\n",
       "| MA_Activités juridiques, de conseil et d'ingénierie     |   4.7293098 |   4.2246358 | 2.1499310 | 2.1665834 |\n",
       "| MB-MC_R&amp;d et autres activités scientifiques et techniqu |   1.7131584 |   1.0970174 | 1.9800411 | 1.9359123 |\n",
       "| NZ_Activités de services administratifs et de soutien   |   5.0636567 |   4.0073147 | 1.4457960 | 1.4304453 |\n",
       "| RZ_Arts, spectacles et activités récréatives            |  87.4368994 |  64.9578719 | 7.5502523 | 7.1080958 |\n",
       "| SZ_autres activités de services                         | 129.1571639 | 115.9493921 | 4.3774243 | 4.2610739 |\n",
       "| i_Industrie et agriculture                              |   4.1211925 |   3.5034024 | 4.9538011 | 4.7896060 |\n",
       "\n"
      ],
      "text/plain": [
       "   secteurs                                                RMSE       \n",
       "1  64 Activités des services financiers, hors assurance et   7.4632204\n",
       "2  65-66 Assurance ; Activités auxiliaires de services fin  16.5930335\n",
       "3  852 Enseignement primaire                                 2.9914031\n",
       "4  853 Enseignement secondaire                               1.9182039\n",
       "5  85x Enseignement / Autre                                 41.1804487\n",
       "6  861 Activités hospitalières                               1.1224889\n",
       "7  862 Activité des médecins et des dentistes                5.1484474\n",
       "8  869 Autres activités pour la santé humaine               10.4149469\n",
       "9  87 Hébergement médico-social et social                    5.6450518\n",
       "10 881 Action sociale sans hébergement pour personnes âgée   6.2457254\n",
       "11 889 Autre action sociale sans hébergement                 8.6144351\n",
       "12 931 Activités liées au sport                             81.9046565\n",
       "13 932 Activités récréatives et de loisirs                   8.6242490\n",
       "14 FZ_Construction                                           0.8750834\n",
       "15 GZ_Commerce, réparation d'automobiles et de motocycles    2.0025450\n",
       "16 HZ_Transports et entreposage                              0.7796440\n",
       "17 IZ_Hébergement et restauration                           12.5563124\n",
       "18 JA_Edition et audiovisuel                                 7.2035407\n",
       "19 JB-JC_Télécommunications et ativités informatiques        0.9683831\n",
       "20 LZ_Activités immobilières                                 1.1912146\n",
       "21 MA_Activités juridiques, de conseil et d'ingénierie       4.7293098\n",
       "22 MB-MC_R&d et autres activités scientifiques et techniqu   1.7131584\n",
       "23 NZ_Activités de services administratifs et de soutien     5.0636567\n",
       "24 RZ_Arts, spectacles et activités récréatives             87.4368994\n",
       "25 SZ_autres activités de services                         129.1571639\n",
       "26 i_Industrie et agriculture                                4.1211925\n",
       "   MAE         MAPE      sMAPE    \n",
       "1    5.9401073 0.5809711 0.5782976\n",
       "2   15.8527671 4.5215348 4.4116372\n",
       "3    2.7843462 3.9544069 3.8657830\n",
       "4    1.6143072 1.1175793 1.1088140\n",
       "5   31.5155180 3.1506220 3.0678075\n",
       "6    0.9772601 0.9834384 0.9898455\n",
       "7    4.7086446 2.6416714 2.6179680\n",
       "8    9.4032781 7.4029834 7.0805959\n",
       "9    4.4797490 0.4538340 0.4521976\n",
       "10   5.8944110 1.0881458 1.0815265\n",
       "11   6.5050657 0.4335090 0.4318703\n",
       "12  65.5673562 5.4405866 5.2229487\n",
       "13   7.7968187 5.3676377 5.2034853\n",
       "14   0.7784234 2.1128446 2.0917987\n",
       "15   1.7409721 1.1679339 1.1592755\n",
       "16   0.6044604 6.0440941 5.7547351\n",
       "17  11.3846128 5.4592197 5.2849067\n",
       "18   6.9404949 6.4433407 6.2251894\n",
       "19   0.7884068 8.6548581 8.1199181\n",
       "20   1.1209995 4.0490148 4.0996934\n",
       "21   4.2246358 2.1499310 2.1665834\n",
       "22   1.0970174 1.9800411 1.9359123\n",
       "23   4.0073147 1.4457960 1.4304453\n",
       "24  64.9578719 7.5502523 7.1080958\n",
       "25 115.9493921 4.3774243 4.2610739\n",
       "26   3.5034024 4.9538011 4.7896060"
      ]
     },
     "metadata": {},
     "output_type": "display_data"
    }
   ],
   "source": [
    "differences_analysis_stable <- cbind(\"secteurs\"=lab.to.num$lab,RMSE,MAE,MAPE,sMAPE)\n",
    "differences_analysis_stable"
   ]
  }
 ],
 "metadata": {
  "kernelspec": {
   "display_name": "R",
   "language": "R",
   "name": "ir"
  },
  "language_info": {
   "codemirror_mode": "r",
   "file_extension": ".r",
   "mimetype": "text/x-r-source",
   "name": "R",
   "pygments_lexer": "r",
   "version": "4.0.4"
  },
  "orig_nbformat": 4,
  "vscode": {
   "interpreter": {
    "hash": "31f2aee4e71d21fbe5cf8b01ff0e069b9275f58929596ceb00d14d90e3e16cd6"
   }
  }
 },
 "nbformat": 4,
 "nbformat_minor": 2
}

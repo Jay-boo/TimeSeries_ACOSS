{
 "cells": [
  {
   "cell_type": "code",
   "execution_count": 12,
   "metadata": {
    "vscode": {
     "languageId": "r"
    }
   },
   "outputs": [],
   "source": [
    "rm(list=ls())\n",
    "suppressPackageStartupMessages(require(skimr))\n",
    "suppressPackageStartupMessages(require(readxl))\n",
    "suppressPackageStartupMessages(require(stringr))\n",
    "suppressPackageStartupMessages(require(dplyr))\n",
    "suppressPackageStartupMessages(require(ggplot2))\n",
    "suppressPackageStartupMessages(require(forecast))"
   ]
  },
  {
   "cell_type": "code",
   "execution_count": 13,
   "metadata": {
    "vscode": {
     "languageId": "r"
    }
   },
   "outputs": [],
   "source": [
    "#------------------------------------------------------\n",
    "# data pre treatment (similar to univariate case)\n",
    "\n",
    "df <- read_excel(\"data/data.xlsx\",sheet = 3)\n",
    "tmp <-df%>% filter(aire==\"44_GRAND EST\" & champ==\"ESS\")\n",
    "\n",
    "df <-tmp[-which(!is.na(tmp$secret_stat)),]%>%select(-secret_stat)\n",
    "df <- df %>% select(-champ,-type_aire,-type_naf,-aire)\n",
    "df <- df[,c(TRUE,str_detect(colnames(df),\"nb_etab\")[-1])]\n",
    "tmp <- t(df)\n",
    "colnames(tmp) <- tmp[1,]\n",
    "tmp <-tmp[-1,]\n",
    "df <- tmp\n",
    "tmp <-df%>%as.data.frame\n",
    "tmp <-cbind(\"date\"=rep(NA,nrow(tmp)),tmp)\n",
    "for (i in 1:nrow(tmp)){\n",
    "    tmp.format.date <- strsplit(rownames(df)[i],\"nb_etab\")[[1]][2]\n",
    "    subsplit <-strsplit(tmp.format.date,\"T\")[[1]]\n",
    "    year<-subsplit[1]\n",
    "    trimester <- subsplit[2]\n",
    "    month <-switch(trimester,\n",
    "        \"1\"=\"01\",\n",
    "        \"2\"=\"04\",\n",
    "        \"3\"=\"07\",\n",
    "        \"4\"=\"10\"\n",
    "    )\n",
    "    tmp[i,1] <- paste(year,month,\"01\",sep=\"-\")\n",
    "}\n",
    "tmp$date <-as.Date(tmp$date)\n",
    "rownames(tmp) <- NULL\n",
    "\n",
    "df.indexes <-which(tmp$date <= as.Date(\"2020-01-01\"))\n",
    "train.indexes<- which(tmp$date < as.Date(\"2018-01-01\") )\n",
    "test.indexes <-which(tmp$date>= as.Date(\"2018-01-01\") & tmp$date <as.Date(\"2020-01-01\") )\n",
    "tmp <-tmp %>%select(-date)%>% mutate_all(as.numeric)\n",
    "#----------------------------\n",
    "# Eliminate total serie\n",
    "tmp <- tmp[,-ncol(tmp)]\n",
    "df.ts <- ts(tmp[df.indexes,],start=c(2010,1),frequency=4)# S'arrete à 2020 Q1 \n",
    "train.ts <-ts(tmp[train.indexes,],start=c(2010,1),frequency = 4)# S'arrete à 2017 Q4\n",
    "test.ts <-ts(tmp[test.indexes,],start = c(2018,1),frequency = 4)# Commence a 2018 Q1 --> 2019 Q4\n",
    "global.ts <- ts(tmp,start=c(2010,1),frequency=4)# Commence a 2010 Q1 --> 2021 Q2\n",
    "covid.ts <- ts(tmp[(df.indexes[length(df.indexes)]+1):nrow(tmp),],start=c(2020,2),frequency = 4)# Commence a 2020 Q2 --> 2021 Q2"
   ]
  },
  {
   "cell_type": "markdown",
   "metadata": {},
   "source": [
    "# Univariate predictions"
   ]
  },
  {
   "cell_type": "code",
   "execution_count": 197,
   "metadata": {
    "vscode": {
     "languageId": "r"
    }
   },
   "outputs": [],
   "source": [
    "calculate_RMSE <- function(predictions,obs){\n",
    "    return(sqrt(mean((obs-pred)^2)))\n",
    "}"
   ]
  },
  {
   "cell_type": "code",
   "execution_count": 198,
   "metadata": {
    "vscode": {
     "languageId": "r"
    }
   },
   "outputs": [],
   "source": [
    "univariate_RMSE <- c()\n",
    "for(i in 1:26){\n",
    "    tmp <-readRDS(paste(\"plots/univariate/models/\",i,\".Rda\",sep=\"\"))\n",
    "    fit.val = df.ts[,i]- tmp$residuals\n",
    "    new <-fit.val[1:(length(fit.val)-5)]\n",
    "    new <-new %>% ts(start=c(2010,1),frequency=4)\n",
    "    new_mod<-Arima(new,model=tmp)\n",
    "    pred <-forecast(new_mod,h=5)$mean\n",
    "    obs <- df.ts[(nrow(df.ts)-4):nrow(df.ts),i]\n",
    "    \n",
    "    \n",
    "    pred <-pred %>%as.numeric\n",
    "    \n",
    "\n",
    "    univariate_RMSE <-c(univariate_RMSE,calculate_RMSE(pred,obs))\n",
    "}\n"
   ]
  },
  {
   "cell_type": "code",
   "execution_count": 113,
   "metadata": {
    "vscode": {
     "languageId": "r"
    }
   },
   "outputs": [
    {
     "data": {
      "text/html": [
       "1.92003419540218"
      ],
      "text/latex": [
       "1.92003419540218"
      ],
      "text/markdown": [
       "1.92003419540218"
      ],
      "text/plain": [
       "[1] 1.920034"
      ]
     },
     "metadata": {},
     "output_type": "display_data"
    }
   ],
   "source": []
  },
  {
   "cell_type": "code",
   "execution_count": 199,
   "metadata": {
    "vscode": {
     "languageId": "r"
    }
   },
   "outputs": [
    {
     "data": {
      "text/html": [
       "<table class=\"dataframe\">\n",
       "<caption>A data.frame: 26 × 1</caption>\n",
       "<thead>\n",
       "\t<tr><th scope=col>.</th></tr>\n",
       "\t<tr><th scope=col>&lt;dbl&gt;</th></tr>\n",
       "</thead>\n",
       "<tbody>\n",
       "\t<tr><td>16.935856</td></tr>\n",
       "\t<tr><td> 8.034724</td></tr>\n",
       "\t<tr><td> 2.437679</td></tr>\n",
       "\t<tr><td> 1.483240</td></tr>\n",
       "\t<tr><td>26.993462</td></tr>\n",
       "\t<tr><td> 1.165867</td></tr>\n",
       "\t<tr><td> 2.013560</td></tr>\n",
       "\t<tr><td> 2.489980</td></tr>\n",
       "\t<tr><td> 3.711552</td></tr>\n",
       "\t<tr><td> 4.335897</td></tr>\n",
       "\t<tr><td>22.337033</td></tr>\n",
       "\t<tr><td>41.462909</td></tr>\n",
       "\t<tr><td>10.162443</td></tr>\n",
       "\t<tr><td> 1.469708</td></tr>\n",
       "\t<tr><td> 5.846706</td></tr>\n",
       "\t<tr><td> 0.000000</td></tr>\n",
       "\t<tr><td> 3.478106</td></tr>\n",
       "\t<tr><td> 3.125149</td></tr>\n",
       "\t<tr><td> 1.200447</td></tr>\n",
       "\t<tr><td> 1.095445</td></tr>\n",
       "\t<tr><td> 4.171331</td></tr>\n",
       "\t<tr><td> 1.414214</td></tr>\n",
       "\t<tr><td>10.436509</td></tr>\n",
       "\t<tr><td>32.683387</td></tr>\n",
       "\t<tr><td>55.145180</td></tr>\n",
       "\t<tr><td> 4.685576</td></tr>\n",
       "</tbody>\n",
       "</table>\n"
      ],
      "text/latex": [
       "A data.frame: 26 × 1\n",
       "\\begin{tabular}{l}\n",
       " .\\\\\n",
       " <dbl>\\\\\n",
       "\\hline\n",
       "\t 16.935856\\\\\n",
       "\t  8.034724\\\\\n",
       "\t  2.437679\\\\\n",
       "\t  1.483240\\\\\n",
       "\t 26.993462\\\\\n",
       "\t  1.165867\\\\\n",
       "\t  2.013560\\\\\n",
       "\t  2.489980\\\\\n",
       "\t  3.711552\\\\\n",
       "\t  4.335897\\\\\n",
       "\t 22.337033\\\\\n",
       "\t 41.462909\\\\\n",
       "\t 10.162443\\\\\n",
       "\t  1.469708\\\\\n",
       "\t  5.846706\\\\\n",
       "\t  0.000000\\\\\n",
       "\t  3.478106\\\\\n",
       "\t  3.125149\\\\\n",
       "\t  1.200447\\\\\n",
       "\t  1.095445\\\\\n",
       "\t  4.171331\\\\\n",
       "\t  1.414214\\\\\n",
       "\t 10.436509\\\\\n",
       "\t 32.683387\\\\\n",
       "\t 55.145180\\\\\n",
       "\t  4.685576\\\\\n",
       "\\end{tabular}\n"
      ],
      "text/markdown": [
       "\n",
       "A data.frame: 26 × 1\n",
       "\n",
       "| . &lt;dbl&gt; |\n",
       "|---|\n",
       "| 16.935856 |\n",
       "|  8.034724 |\n",
       "|  2.437679 |\n",
       "|  1.483240 |\n",
       "| 26.993462 |\n",
       "|  1.165867 |\n",
       "|  2.013560 |\n",
       "|  2.489980 |\n",
       "|  3.711552 |\n",
       "|  4.335897 |\n",
       "| 22.337033 |\n",
       "| 41.462909 |\n",
       "| 10.162443 |\n",
       "|  1.469708 |\n",
       "|  5.846706 |\n",
       "|  0.000000 |\n",
       "|  3.478106 |\n",
       "|  3.125149 |\n",
       "|  1.200447 |\n",
       "|  1.095445 |\n",
       "|  4.171331 |\n",
       "|  1.414214 |\n",
       "| 10.436509 |\n",
       "| 32.683387 |\n",
       "| 55.145180 |\n",
       "|  4.685576 |\n",
       "\n"
      ],
      "text/plain": [
       "   .        \n",
       "1  16.935856\n",
       "2   8.034724\n",
       "3   2.437679\n",
       "4   1.483240\n",
       "5  26.993462\n",
       "6   1.165867\n",
       "7   2.013560\n",
       "8   2.489980\n",
       "9   3.711552\n",
       "10  4.335897\n",
       "11 22.337033\n",
       "12 41.462909\n",
       "13 10.162443\n",
       "14  1.469708\n",
       "15  5.846706\n",
       "16  0.000000\n",
       "17  3.478106\n",
       "18  3.125149\n",
       "19  1.200447\n",
       "20  1.095445\n",
       "21  4.171331\n",
       "22  1.414214\n",
       "23 10.436509\n",
       "24 32.683387\n",
       "25 55.145180\n",
       "26  4.685576"
      ]
     },
     "metadata": {},
     "output_type": "display_data"
    }
   ],
   "source": [
    "univariate_RMSE %>%as.data.frame"
   ]
  },
  {
   "cell_type": "markdown",
   "metadata": {},
   "source": [
    "<hr>\n",
    "\n",
    "## Multivariate predictions\n"
   ]
  },
  {
   "cell_type": "markdown",
   "metadata": {},
   "source": [
    "### A. VAR /VECM"
   ]
  },
  {
   "cell_type": "code",
   "execution_count": 200,
   "metadata": {
    "vscode": {
     "languageId": "r"
    }
   },
   "outputs": [],
   "source": [
    "mod.eval.df <- readRDS(\"VAR_VECM_models/df_eval_mod_VAR.Rda\")\n"
   ]
  },
  {
   "cell_type": "code",
   "execution_count": 201,
   "metadata": {
    "vscode": {
     "languageId": "r"
    }
   },
   "outputs": [
    {
     "data": {
      "text/html": [
       "<table class=\"dataframe\">\n",
       "<caption>A data.frame: 26 × 1</caption>\n",
       "<thead>\n",
       "\t<tr><th scope=col>.</th></tr>\n",
       "\t<tr><th scope=col>&lt;dbl&gt;</th></tr>\n",
       "</thead>\n",
       "<tbody>\n",
       "\t<tr><td> 28.3302640</td></tr>\n",
       "\t<tr><td>  7.1191478</td></tr>\n",
       "\t<tr><td>  1.4947224</td></tr>\n",
       "\t<tr><td>  1.0990141</td></tr>\n",
       "\t<tr><td> 33.2512588</td></tr>\n",
       "\t<tr><td>  2.8232795</td></tr>\n",
       "\t<tr><td>  7.6546313</td></tr>\n",
       "\t<tr><td>  5.3702190</td></tr>\n",
       "\t<tr><td> 18.7602090</td></tr>\n",
       "\t<tr><td>  4.0227753</td></tr>\n",
       "\t<tr><td> 16.5723314</td></tr>\n",
       "\t<tr><td> 57.8556617</td></tr>\n",
       "\t<tr><td> 28.8827877</td></tr>\n",
       "\t<tr><td>  6.9438528</td></tr>\n",
       "\t<tr><td> 17.6346122</td></tr>\n",
       "\t<tr><td>  0.4149533</td></tr>\n",
       "\t<tr><td> 39.6978784</td></tr>\n",
       "\t<tr><td>  9.9480046</td></tr>\n",
       "\t<tr><td>  1.4740141</td></tr>\n",
       "\t<tr><td>  1.6290511</td></tr>\n",
       "\t<tr><td>  8.5694071</td></tr>\n",
       "\t<tr><td>  2.8718408</td></tr>\n",
       "\t<tr><td> 18.7444396</td></tr>\n",
       "\t<tr><td> 22.1053822</td></tr>\n",
       "\t<tr><td>122.4141801</td></tr>\n",
       "\t<tr><td>  6.1435632</td></tr>\n",
       "</tbody>\n",
       "</table>\n"
      ],
      "text/latex": [
       "A data.frame: 26 × 1\n",
       "\\begin{tabular}{l}\n",
       " .\\\\\n",
       " <dbl>\\\\\n",
       "\\hline\n",
       "\t  28.3302640\\\\\n",
       "\t   7.1191478\\\\\n",
       "\t   1.4947224\\\\\n",
       "\t   1.0990141\\\\\n",
       "\t  33.2512588\\\\\n",
       "\t   2.8232795\\\\\n",
       "\t   7.6546313\\\\\n",
       "\t   5.3702190\\\\\n",
       "\t  18.7602090\\\\\n",
       "\t   4.0227753\\\\\n",
       "\t  16.5723314\\\\\n",
       "\t  57.8556617\\\\\n",
       "\t  28.8827877\\\\\n",
       "\t   6.9438528\\\\\n",
       "\t  17.6346122\\\\\n",
       "\t   0.4149533\\\\\n",
       "\t  39.6978784\\\\\n",
       "\t   9.9480046\\\\\n",
       "\t   1.4740141\\\\\n",
       "\t   1.6290511\\\\\n",
       "\t   8.5694071\\\\\n",
       "\t   2.8718408\\\\\n",
       "\t  18.7444396\\\\\n",
       "\t  22.1053822\\\\\n",
       "\t 122.4141801\\\\\n",
       "\t   6.1435632\\\\\n",
       "\\end{tabular}\n"
      ],
      "text/markdown": [
       "\n",
       "A data.frame: 26 × 1\n",
       "\n",
       "| . &lt;dbl&gt; |\n",
       "|---|\n",
       "|  28.3302640 |\n",
       "|   7.1191478 |\n",
       "|   1.4947224 |\n",
       "|   1.0990141 |\n",
       "|  33.2512588 |\n",
       "|   2.8232795 |\n",
       "|   7.6546313 |\n",
       "|   5.3702190 |\n",
       "|  18.7602090 |\n",
       "|   4.0227753 |\n",
       "|  16.5723314 |\n",
       "|  57.8556617 |\n",
       "|  28.8827877 |\n",
       "|   6.9438528 |\n",
       "|  17.6346122 |\n",
       "|   0.4149533 |\n",
       "|  39.6978784 |\n",
       "|   9.9480046 |\n",
       "|   1.4740141 |\n",
       "|   1.6290511 |\n",
       "|   8.5694071 |\n",
       "|   2.8718408 |\n",
       "|  18.7444396 |\n",
       "|  22.1053822 |\n",
       "| 122.4141801 |\n",
       "|   6.1435632 |\n",
       "\n"
      ],
      "text/plain": [
       "   .          \n",
       "1   28.3302640\n",
       "2    7.1191478\n",
       "3    1.4947224\n",
       "4    1.0990141\n",
       "5   33.2512588\n",
       "6    2.8232795\n",
       "7    7.6546313\n",
       "8    5.3702190\n",
       "9   18.7602090\n",
       "10   4.0227753\n",
       "11  16.5723314\n",
       "12  57.8556617\n",
       "13  28.8827877\n",
       "14   6.9438528\n",
       "15  17.6346122\n",
       "16   0.4149533\n",
       "17  39.6978784\n",
       "18   9.9480046\n",
       "19   1.4740141\n",
       "20   1.6290511\n",
       "21   8.5694071\n",
       "22   2.8718408\n",
       "23  18.7444396\n",
       "24  22.1053822\n",
       "25 122.4141801\n",
       "26   6.1435632"
      ]
     },
     "metadata": {},
     "output_type": "display_data"
    }
   ],
   "source": [
    "\n",
    "VAR_mod_RMSE <- c()\n",
    "for(i in 1:26){\n",
    "    tmp <- readRDS(paste(\"VAR_VECM_models/models/\",i,\".Rda\",sep=\"\"))\n",
    "    errors <-residuals(tmp)\n",
    "    row_eval <-mod.eval.df%>%filter(VAR==i)\n",
    "    combi <-row_eval$MOD_COMBINATION\n",
    "    numbers.combi <-strsplit(combi,\"[_]\")[[1]]\n",
    "    for (j in 1:(numbers.combi%>% length)){\n",
    "\n",
    "\n",
    "        if(as.numeric(numbers.combi[j])==i){\n",
    "            break;\n",
    "        }\n",
    "\n",
    "    }\n",
    "    if(row_eval$adequate!=\"adequateVECM\"){\n",
    "        pred <- fitted(tmp)[,j]\n",
    "        pred <- diffinv(pred,xi=df.ts[1,i])\n",
    "    \n",
    "    \n",
    "    \n",
    "    }else{\n",
    "        #Pas besoin de differencier\n",
    "        pred <- fitted(tmp)[,j]\n",
    "    }\n",
    "    obs <- df.ts[1:length(pred),i]\n",
    "    pred<-pred[(length(pred)-4):length(pred)] \n",
    "    obs<- obs[(length(obs)-4):length(obs)]\n",
    "    \n",
    "    VAR_mod_RMSE <- c(VAR_mod_RMSE,calculate_RMSE(pred,obs))\n",
    "    \n",
    "    \n",
    "    \n",
    "    \n",
    "}\n",
    "VAR_mod_RMSE %>% as.data.frame"
   ]
  },
  {
   "cell_type": "code",
   "execution_count": 202,
   "metadata": {
    "vscode": {
     "languageId": "r"
    }
   },
   "outputs": [
    {
     "data": {
      "text/html": [
       "<table class=\"dataframe\">\n",
       "<caption>A matrix: 26 × 2 of type dbl</caption>\n",
       "<thead>\n",
       "\t<tr><th scope=col>VAR_mod_RMSE</th><th scope=col>univariate_RMSE</th></tr>\n",
       "</thead>\n",
       "<tbody>\n",
       "\t<tr><td> 28.3302640</td><td>16.935856</td></tr>\n",
       "\t<tr><td>  7.1191478</td><td> 8.034724</td></tr>\n",
       "\t<tr><td>  1.4947224</td><td> 2.437679</td></tr>\n",
       "\t<tr><td>  1.0990141</td><td> 1.483240</td></tr>\n",
       "\t<tr><td> 33.2512588</td><td>26.993462</td></tr>\n",
       "\t<tr><td>  2.8232795</td><td> 1.165867</td></tr>\n",
       "\t<tr><td>  7.6546313</td><td> 2.013560</td></tr>\n",
       "\t<tr><td>  5.3702190</td><td> 2.489980</td></tr>\n",
       "\t<tr><td> 18.7602090</td><td> 3.711552</td></tr>\n",
       "\t<tr><td>  4.0227753</td><td> 4.335897</td></tr>\n",
       "\t<tr><td> 16.5723314</td><td>22.337033</td></tr>\n",
       "\t<tr><td> 57.8556617</td><td>41.462909</td></tr>\n",
       "\t<tr><td> 28.8827877</td><td>10.162443</td></tr>\n",
       "\t<tr><td>  6.9438528</td><td> 1.469708</td></tr>\n",
       "\t<tr><td> 17.6346122</td><td> 5.846706</td></tr>\n",
       "\t<tr><td>  0.4149533</td><td> 0.000000</td></tr>\n",
       "\t<tr><td> 39.6978784</td><td> 3.478106</td></tr>\n",
       "\t<tr><td>  9.9480046</td><td> 3.125149</td></tr>\n",
       "\t<tr><td>  1.4740141</td><td> 1.200447</td></tr>\n",
       "\t<tr><td>  1.6290511</td><td> 1.095445</td></tr>\n",
       "\t<tr><td>  8.5694071</td><td> 4.171331</td></tr>\n",
       "\t<tr><td>  2.8718408</td><td> 1.414214</td></tr>\n",
       "\t<tr><td> 18.7444396</td><td>10.436509</td></tr>\n",
       "\t<tr><td> 22.1053822</td><td>32.683387</td></tr>\n",
       "\t<tr><td>122.4141801</td><td>55.145180</td></tr>\n",
       "\t<tr><td>  6.1435632</td><td> 4.685576</td></tr>\n",
       "</tbody>\n",
       "</table>\n"
      ],
      "text/latex": [
       "A matrix: 26 × 2 of type dbl\n",
       "\\begin{tabular}{ll}\n",
       " VAR\\_mod\\_RMSE & univariate\\_RMSE\\\\\n",
       "\\hline\n",
       "\t  28.3302640 & 16.935856\\\\\n",
       "\t   7.1191478 &  8.034724\\\\\n",
       "\t   1.4947224 &  2.437679\\\\\n",
       "\t   1.0990141 &  1.483240\\\\\n",
       "\t  33.2512588 & 26.993462\\\\\n",
       "\t   2.8232795 &  1.165867\\\\\n",
       "\t   7.6546313 &  2.013560\\\\\n",
       "\t   5.3702190 &  2.489980\\\\\n",
       "\t  18.7602090 &  3.711552\\\\\n",
       "\t   4.0227753 &  4.335897\\\\\n",
       "\t  16.5723314 & 22.337033\\\\\n",
       "\t  57.8556617 & 41.462909\\\\\n",
       "\t  28.8827877 & 10.162443\\\\\n",
       "\t   6.9438528 &  1.469708\\\\\n",
       "\t  17.6346122 &  5.846706\\\\\n",
       "\t   0.4149533 &  0.000000\\\\\n",
       "\t  39.6978784 &  3.478106\\\\\n",
       "\t   9.9480046 &  3.125149\\\\\n",
       "\t   1.4740141 &  1.200447\\\\\n",
       "\t   1.6290511 &  1.095445\\\\\n",
       "\t   8.5694071 &  4.171331\\\\\n",
       "\t   2.8718408 &  1.414214\\\\\n",
       "\t  18.7444396 & 10.436509\\\\\n",
       "\t  22.1053822 & 32.683387\\\\\n",
       "\t 122.4141801 & 55.145180\\\\\n",
       "\t   6.1435632 &  4.685576\\\\\n",
       "\\end{tabular}\n"
      ],
      "text/markdown": [
       "\n",
       "A matrix: 26 × 2 of type dbl\n",
       "\n",
       "| VAR_mod_RMSE | univariate_RMSE |\n",
       "|---|---|\n",
       "|  28.3302640 | 16.935856 |\n",
       "|   7.1191478 |  8.034724 |\n",
       "|   1.4947224 |  2.437679 |\n",
       "|   1.0990141 |  1.483240 |\n",
       "|  33.2512588 | 26.993462 |\n",
       "|   2.8232795 |  1.165867 |\n",
       "|   7.6546313 |  2.013560 |\n",
       "|   5.3702190 |  2.489980 |\n",
       "|  18.7602090 |  3.711552 |\n",
       "|   4.0227753 |  4.335897 |\n",
       "|  16.5723314 | 22.337033 |\n",
       "|  57.8556617 | 41.462909 |\n",
       "|  28.8827877 | 10.162443 |\n",
       "|   6.9438528 |  1.469708 |\n",
       "|  17.6346122 |  5.846706 |\n",
       "|   0.4149533 |  0.000000 |\n",
       "|  39.6978784 |  3.478106 |\n",
       "|   9.9480046 |  3.125149 |\n",
       "|   1.4740141 |  1.200447 |\n",
       "|   1.6290511 |  1.095445 |\n",
       "|   8.5694071 |  4.171331 |\n",
       "|   2.8718408 |  1.414214 |\n",
       "|  18.7444396 | 10.436509 |\n",
       "|  22.1053822 | 32.683387 |\n",
       "| 122.4141801 | 55.145180 |\n",
       "|   6.1435632 |  4.685576 |\n",
       "\n"
      ],
      "text/plain": [
       "      VAR_mod_RMSE univariate_RMSE\n",
       " [1,]  28.3302640  16.935856      \n",
       " [2,]   7.1191478   8.034724      \n",
       " [3,]   1.4947224   2.437679      \n",
       " [4,]   1.0990141   1.483240      \n",
       " [5,]  33.2512588  26.993462      \n",
       " [6,]   2.8232795   1.165867      \n",
       " [7,]   7.6546313   2.013560      \n",
       " [8,]   5.3702190   2.489980      \n",
       " [9,]  18.7602090   3.711552      \n",
       "[10,]   4.0227753   4.335897      \n",
       "[11,]  16.5723314  22.337033      \n",
       "[12,]  57.8556617  41.462909      \n",
       "[13,]  28.8827877  10.162443      \n",
       "[14,]   6.9438528   1.469708      \n",
       "[15,]  17.6346122   5.846706      \n",
       "[16,]   0.4149533   0.000000      \n",
       "[17,]  39.6978784   3.478106      \n",
       "[18,]   9.9480046   3.125149      \n",
       "[19,]   1.4740141   1.200447      \n",
       "[20,]   1.6290511   1.095445      \n",
       "[21,]   8.5694071   4.171331      \n",
       "[22,]   2.8718408   1.414214      \n",
       "[23,]  18.7444396  10.436509      \n",
       "[24,]  22.1053822  32.683387      \n",
       "[25,] 122.4141801  55.145180      \n",
       "[26,]   6.1435632   4.685576      "
      ]
     },
     "metadata": {},
     "output_type": "display_data"
    }
   ],
   "source": [
    "RMSE_res <-cbind(VAR_mod_RMSE,univariate_RMSE)\n",
    "RMSE_res"
   ]
  },
  {
   "cell_type": "code",
   "execution_count": 203,
   "metadata": {
    "vscode": {
     "languageId": "r"
    }
   },
   "outputs": [
    {
     "data": {
      "text/html": [
       "6"
      ],
      "text/latex": [
       "6"
      ],
      "text/markdown": [
       "6"
      ],
      "text/plain": [
       "[1] 6"
      ]
     },
     "metadata": {},
     "output_type": "display_data"
    }
   ],
   "source": [
    "sum((VAR_mod_RMSE < univariate_RMSE)) \n",
    "#Pour 6 variables on a de meilleurs prédictions avec le multivarié\n",
    "# Ce sont des variables ayant de bonne correlation s avec le reste\n",
    "# Elles ne sont pas les plus correllées aux autres ni les plus decorellées"
   ]
  },
  {
   "cell_type": "code",
   "execution_count": 204,
   "metadata": {
    "vscode": {
     "languageId": "r"
    }
   },
   "outputs": [
    {
     "data": {
      "text/html": [
       "<style>\n",
       ".list-inline {list-style: none; margin:0; padding: 0}\n",
       ".list-inline>li {display: inline-block}\n",
       ".list-inline>li:not(:last-child)::after {content: \"\\00b7\"; padding: 0 .5ex}\n",
       "</style>\n",
       "<ol class=list-inline><li>2</li><li>3</li><li>4</li><li>10</li><li>11</li><li>24</li></ol>\n"
      ],
      "text/latex": [
       "\\begin{enumerate*}\n",
       "\\item 2\n",
       "\\item 3\n",
       "\\item 4\n",
       "\\item 10\n",
       "\\item 11\n",
       "\\item 24\n",
       "\\end{enumerate*}\n"
      ],
      "text/markdown": [
       "1. 2\n",
       "2. 3\n",
       "3. 4\n",
       "4. 10\n",
       "5. 11\n",
       "6. 24\n",
       "\n",
       "\n"
      ],
      "text/plain": [
       "[1]  2  3  4 10 11 24"
      ]
     },
     "metadata": {},
     "output_type": "display_data"
    }
   ],
   "source": [
    "which((VAR_mod_RMSE < univariate_RMSE))"
   ]
  },
  {
   "cell_type": "markdown",
   "metadata": {},
   "source": [
    "### B. LASSO REGRESSION"
   ]
  },
  {
   "cell_type": "code",
   "execution_count": 155,
   "metadata": {
    "vscode": {
     "languageId": "r"
    }
   },
   "outputs": [
    {
     "name": "stderr",
     "output_type": "stream",
     "text": [
      "Loading required package: bigtime\n",
      "\n"
     ]
    }
   ],
   "source": [
    "require(bigtime)"
   ]
  },
  {
   "cell_type": "code",
   "execution_count": 206,
   "metadata": {
    "vscode": {
     "languageId": "r"
    }
   },
   "outputs": [
    {
     "data": {
      "text/html": [
       "<table class=\"dataframe\">\n",
       "<caption>A data.frame: 26 × 1</caption>\n",
       "<thead>\n",
       "\t<tr><th scope=col>.</th></tr>\n",
       "\t<tr><th scope=col>&lt;dbl&gt;</th></tr>\n",
       "</thead>\n",
       "<tbody>\n",
       "\t<tr><td> 6.3307653</td></tr>\n",
       "\t<tr><td> 4.7584142</td></tr>\n",
       "\t<tr><td> 0.6701038</td></tr>\n",
       "\t<tr><td> 0.3679150</td></tr>\n",
       "\t<tr><td> 5.7198987</td></tr>\n",
       "\t<tr><td> 0.7333771</td></tr>\n",
       "\t<tr><td> 1.7671146</td></tr>\n",
       "\t<tr><td> 1.5683655</td></tr>\n",
       "\t<tr><td> 3.1402716</td></tr>\n",
       "\t<tr><td> 2.6944138</td></tr>\n",
       "\t<tr><td> 2.9443393</td></tr>\n",
       "\t<tr><td> 6.3222862</td></tr>\n",
       "\t<tr><td> 3.4864760</td></tr>\n",
       "\t<tr><td> 1.1472934</td></tr>\n",
       "\t<tr><td> 4.4265639</td></tr>\n",
       "\t<tr><td> 0.2166634</td></tr>\n",
       "\t<tr><td> 3.2729469</td></tr>\n",
       "\t<tr><td> 1.5160296</td></tr>\n",
       "\t<tr><td> 0.8409301</td></tr>\n",
       "\t<tr><td> 0.8311211</td></tr>\n",
       "\t<tr><td> 1.3489310</td></tr>\n",
       "\t<tr><td> 1.0066775</td></tr>\n",
       "\t<tr><td> 3.5475919</td></tr>\n",
       "\t<tr><td>11.8310440</td></tr>\n",
       "\t<tr><td>13.7358635</td></tr>\n",
       "\t<tr><td> 1.8265600</td></tr>\n",
       "</tbody>\n",
       "</table>\n"
      ],
      "text/latex": [
       "A data.frame: 26 × 1\n",
       "\\begin{tabular}{l}\n",
       " .\\\\\n",
       " <dbl>\\\\\n",
       "\\hline\n",
       "\t  6.3307653\\\\\n",
       "\t  4.7584142\\\\\n",
       "\t  0.6701038\\\\\n",
       "\t  0.3679150\\\\\n",
       "\t  5.7198987\\\\\n",
       "\t  0.7333771\\\\\n",
       "\t  1.7671146\\\\\n",
       "\t  1.5683655\\\\\n",
       "\t  3.1402716\\\\\n",
       "\t  2.6944138\\\\\n",
       "\t  2.9443393\\\\\n",
       "\t  6.3222862\\\\\n",
       "\t  3.4864760\\\\\n",
       "\t  1.1472934\\\\\n",
       "\t  4.4265639\\\\\n",
       "\t  0.2166634\\\\\n",
       "\t  3.2729469\\\\\n",
       "\t  1.5160296\\\\\n",
       "\t  0.8409301\\\\\n",
       "\t  0.8311211\\\\\n",
       "\t  1.3489310\\\\\n",
       "\t  1.0066775\\\\\n",
       "\t  3.5475919\\\\\n",
       "\t 11.8310440\\\\\n",
       "\t 13.7358635\\\\\n",
       "\t  1.8265600\\\\\n",
       "\\end{tabular}\n"
      ],
      "text/markdown": [
       "\n",
       "A data.frame: 26 × 1\n",
       "\n",
       "| . &lt;dbl&gt; |\n",
       "|---|\n",
       "|  6.3307653 |\n",
       "|  4.7584142 |\n",
       "|  0.6701038 |\n",
       "|  0.3679150 |\n",
       "|  5.7198987 |\n",
       "|  0.7333771 |\n",
       "|  1.7671146 |\n",
       "|  1.5683655 |\n",
       "|  3.1402716 |\n",
       "|  2.6944138 |\n",
       "|  2.9443393 |\n",
       "|  6.3222862 |\n",
       "|  3.4864760 |\n",
       "|  1.1472934 |\n",
       "|  4.4265639 |\n",
       "|  0.2166634 |\n",
       "|  3.2729469 |\n",
       "|  1.5160296 |\n",
       "|  0.8409301 |\n",
       "|  0.8311211 |\n",
       "|  1.3489310 |\n",
       "|  1.0066775 |\n",
       "|  3.5475919 |\n",
       "| 11.8310440 |\n",
       "| 13.7358635 |\n",
       "|  1.8265600 |\n",
       "\n"
      ],
      "text/plain": [
       "   .         \n",
       "1   6.3307653\n",
       "2   4.7584142\n",
       "3   0.6701038\n",
       "4   0.3679150\n",
       "5   5.7198987\n",
       "6   0.7333771\n",
       "7   1.7671146\n",
       "8   1.5683655\n",
       "9   3.1402716\n",
       "10  2.6944138\n",
       "11  2.9443393\n",
       "12  6.3222862\n",
       "13  3.4864760\n",
       "14  1.1472934\n",
       "15  4.4265639\n",
       "16  0.2166634\n",
       "17  3.2729469\n",
       "18  1.5160296\n",
       "19  0.8409301\n",
       "20  0.8311211\n",
       "21  1.3489310\n",
       "22  1.0066775\n",
       "23  3.5475919\n",
       "24 11.8310440\n",
       "25 13.7358635\n",
       "26  1.8265600"
      ]
     },
     "metadata": {},
     "output_type": "display_data"
    }
   ],
   "source": [
    "LASSO_mod_RMSE <- c()\n",
    "df.scaled <- df.ts %>% as.data.frame()%>%scale\n",
    "\n",
    "for(i in 1:26){\n",
    "    centered_scale <-attr(df.scaled,\"scaled:center\")[i]\n",
    "    sd_scale <-attr(df.scaled,\"scaled:scale\")[i]\n",
    "    pred <-diagnostics_plot(tmp,variable=paste(\"DF\",i,sep=\"\"))$data %>% filter(Series==\"Fitted\" )\n",
    "    pred <- pred$value\n",
    "    obs <- df.ts[,i]\n",
    "\n",
    "    obs <- obs[\n",
    "        (length(obs)-length(pred)+1):length(obs)\n",
    "        ]\n",
    "\n",
    "    c <-rep(centered_scale[[1]],length(pred))\n",
    "    scale <-rep(sd_scale[[1]],length(pred))\n",
    "    pred <-pred*scale +c\n",
    "    pred <- pred[(length(pred)-4):length(pred)]\n",
    "    obs <- obs[(length(obs)-4):length(obs)]\n",
    "\n",
    "    LASSO_mod_RMSE <- c(LASSO_mod_RMSE,calculate_RMSE(pred,obs))\n",
    "}\n",
    "LASSO_mod_RMSE %>% as.data.frame\n",
    "\n",
    "\n"
   ]
  },
  {
   "cell_type": "code",
   "execution_count": 207,
   "metadata": {
    "vscode": {
     "languageId": "r"
    }
   },
   "outputs": [
    {
     "data": {
      "text/html": [
       "<table class=\"dataframe\">\n",
       "<caption>A matrix: 26 × 3 of type dbl</caption>\n",
       "<thead>\n",
       "\t<tr><th scope=col>VAR_mod_RMSE</th><th scope=col>univariate_RMSE</th><th scope=col>LASSO_mod_RMSE</th></tr>\n",
       "</thead>\n",
       "<tbody>\n",
       "\t<tr><td> 28.3302640</td><td>16.935856</td><td> 6.3307653</td></tr>\n",
       "\t<tr><td>  7.1191478</td><td> 8.034724</td><td> 4.7584142</td></tr>\n",
       "\t<tr><td>  1.4947224</td><td> 2.437679</td><td> 0.6701038</td></tr>\n",
       "\t<tr><td>  1.0990141</td><td> 1.483240</td><td> 0.3679150</td></tr>\n",
       "\t<tr><td> 33.2512588</td><td>26.993462</td><td> 5.7198987</td></tr>\n",
       "\t<tr><td>  2.8232795</td><td> 1.165867</td><td> 0.7333771</td></tr>\n",
       "\t<tr><td>  7.6546313</td><td> 2.013560</td><td> 1.7671146</td></tr>\n",
       "\t<tr><td>  5.3702190</td><td> 2.489980</td><td> 1.5683655</td></tr>\n",
       "\t<tr><td> 18.7602090</td><td> 3.711552</td><td> 3.1402716</td></tr>\n",
       "\t<tr><td>  4.0227753</td><td> 4.335897</td><td> 2.6944138</td></tr>\n",
       "\t<tr><td> 16.5723314</td><td>22.337033</td><td> 2.9443393</td></tr>\n",
       "\t<tr><td> 57.8556617</td><td>41.462909</td><td> 6.3222862</td></tr>\n",
       "\t<tr><td> 28.8827877</td><td>10.162443</td><td> 3.4864760</td></tr>\n",
       "\t<tr><td>  6.9438528</td><td> 1.469708</td><td> 1.1472934</td></tr>\n",
       "\t<tr><td> 17.6346122</td><td> 5.846706</td><td> 4.4265639</td></tr>\n",
       "\t<tr><td>  0.4149533</td><td> 0.000000</td><td> 0.2166634</td></tr>\n",
       "\t<tr><td> 39.6978784</td><td> 3.478106</td><td> 3.2729469</td></tr>\n",
       "\t<tr><td>  9.9480046</td><td> 3.125149</td><td> 1.5160296</td></tr>\n",
       "\t<tr><td>  1.4740141</td><td> 1.200447</td><td> 0.8409301</td></tr>\n",
       "\t<tr><td>  1.6290511</td><td> 1.095445</td><td> 0.8311211</td></tr>\n",
       "\t<tr><td>  8.5694071</td><td> 4.171331</td><td> 1.3489310</td></tr>\n",
       "\t<tr><td>  2.8718408</td><td> 1.414214</td><td> 1.0066775</td></tr>\n",
       "\t<tr><td> 18.7444396</td><td>10.436509</td><td> 3.5475919</td></tr>\n",
       "\t<tr><td> 22.1053822</td><td>32.683387</td><td>11.8310440</td></tr>\n",
       "\t<tr><td>122.4141801</td><td>55.145180</td><td>13.7358635</td></tr>\n",
       "\t<tr><td>  6.1435632</td><td> 4.685576</td><td> 1.8265600</td></tr>\n",
       "</tbody>\n",
       "</table>\n"
      ],
      "text/latex": [
       "A matrix: 26 × 3 of type dbl\n",
       "\\begin{tabular}{lll}\n",
       " VAR\\_mod\\_RMSE & univariate\\_RMSE & LASSO\\_mod\\_RMSE\\\\\n",
       "\\hline\n",
       "\t  28.3302640 & 16.935856 &  6.3307653\\\\\n",
       "\t   7.1191478 &  8.034724 &  4.7584142\\\\\n",
       "\t   1.4947224 &  2.437679 &  0.6701038\\\\\n",
       "\t   1.0990141 &  1.483240 &  0.3679150\\\\\n",
       "\t  33.2512588 & 26.993462 &  5.7198987\\\\\n",
       "\t   2.8232795 &  1.165867 &  0.7333771\\\\\n",
       "\t   7.6546313 &  2.013560 &  1.7671146\\\\\n",
       "\t   5.3702190 &  2.489980 &  1.5683655\\\\\n",
       "\t  18.7602090 &  3.711552 &  3.1402716\\\\\n",
       "\t   4.0227753 &  4.335897 &  2.6944138\\\\\n",
       "\t  16.5723314 & 22.337033 &  2.9443393\\\\\n",
       "\t  57.8556617 & 41.462909 &  6.3222862\\\\\n",
       "\t  28.8827877 & 10.162443 &  3.4864760\\\\\n",
       "\t   6.9438528 &  1.469708 &  1.1472934\\\\\n",
       "\t  17.6346122 &  5.846706 &  4.4265639\\\\\n",
       "\t   0.4149533 &  0.000000 &  0.2166634\\\\\n",
       "\t  39.6978784 &  3.478106 &  3.2729469\\\\\n",
       "\t   9.9480046 &  3.125149 &  1.5160296\\\\\n",
       "\t   1.4740141 &  1.200447 &  0.8409301\\\\\n",
       "\t   1.6290511 &  1.095445 &  0.8311211\\\\\n",
       "\t   8.5694071 &  4.171331 &  1.3489310\\\\\n",
       "\t   2.8718408 &  1.414214 &  1.0066775\\\\\n",
       "\t  18.7444396 & 10.436509 &  3.5475919\\\\\n",
       "\t  22.1053822 & 32.683387 & 11.8310440\\\\\n",
       "\t 122.4141801 & 55.145180 & 13.7358635\\\\\n",
       "\t   6.1435632 &  4.685576 &  1.8265600\\\\\n",
       "\\end{tabular}\n"
      ],
      "text/markdown": [
       "\n",
       "A matrix: 26 × 3 of type dbl\n",
       "\n",
       "| VAR_mod_RMSE | univariate_RMSE | LASSO_mod_RMSE |\n",
       "|---|---|---|\n",
       "|  28.3302640 | 16.935856 |  6.3307653 |\n",
       "|   7.1191478 |  8.034724 |  4.7584142 |\n",
       "|   1.4947224 |  2.437679 |  0.6701038 |\n",
       "|   1.0990141 |  1.483240 |  0.3679150 |\n",
       "|  33.2512588 | 26.993462 |  5.7198987 |\n",
       "|   2.8232795 |  1.165867 |  0.7333771 |\n",
       "|   7.6546313 |  2.013560 |  1.7671146 |\n",
       "|   5.3702190 |  2.489980 |  1.5683655 |\n",
       "|  18.7602090 |  3.711552 |  3.1402716 |\n",
       "|   4.0227753 |  4.335897 |  2.6944138 |\n",
       "|  16.5723314 | 22.337033 |  2.9443393 |\n",
       "|  57.8556617 | 41.462909 |  6.3222862 |\n",
       "|  28.8827877 | 10.162443 |  3.4864760 |\n",
       "|   6.9438528 |  1.469708 |  1.1472934 |\n",
       "|  17.6346122 |  5.846706 |  4.4265639 |\n",
       "|   0.4149533 |  0.000000 |  0.2166634 |\n",
       "|  39.6978784 |  3.478106 |  3.2729469 |\n",
       "|   9.9480046 |  3.125149 |  1.5160296 |\n",
       "|   1.4740141 |  1.200447 |  0.8409301 |\n",
       "|   1.6290511 |  1.095445 |  0.8311211 |\n",
       "|   8.5694071 |  4.171331 |  1.3489310 |\n",
       "|   2.8718408 |  1.414214 |  1.0066775 |\n",
       "|  18.7444396 | 10.436509 |  3.5475919 |\n",
       "|  22.1053822 | 32.683387 | 11.8310440 |\n",
       "| 122.4141801 | 55.145180 | 13.7358635 |\n",
       "|   6.1435632 |  4.685576 |  1.8265600 |\n",
       "\n"
      ],
      "text/plain": [
       "      VAR_mod_RMSE univariate_RMSE LASSO_mod_RMSE\n",
       " [1,]  28.3302640  16.935856        6.3307653    \n",
       " [2,]   7.1191478   8.034724        4.7584142    \n",
       " [3,]   1.4947224   2.437679        0.6701038    \n",
       " [4,]   1.0990141   1.483240        0.3679150    \n",
       " [5,]  33.2512588  26.993462        5.7198987    \n",
       " [6,]   2.8232795   1.165867        0.7333771    \n",
       " [7,]   7.6546313   2.013560        1.7671146    \n",
       " [8,]   5.3702190   2.489980        1.5683655    \n",
       " [9,]  18.7602090   3.711552        3.1402716    \n",
       "[10,]   4.0227753   4.335897        2.6944138    \n",
       "[11,]  16.5723314  22.337033        2.9443393    \n",
       "[12,]  57.8556617  41.462909        6.3222862    \n",
       "[13,]  28.8827877  10.162443        3.4864760    \n",
       "[14,]   6.9438528   1.469708        1.1472934    \n",
       "[15,]  17.6346122   5.846706        4.4265639    \n",
       "[16,]   0.4149533   0.000000        0.2166634    \n",
       "[17,]  39.6978784   3.478106        3.2729469    \n",
       "[18,]   9.9480046   3.125149        1.5160296    \n",
       "[19,]   1.4740141   1.200447        0.8409301    \n",
       "[20,]   1.6290511   1.095445        0.8311211    \n",
       "[21,]   8.5694071   4.171331        1.3489310    \n",
       "[22,]   2.8718408   1.414214        1.0066775    \n",
       "[23,]  18.7444396  10.436509        3.5475919    \n",
       "[24,]  22.1053822  32.683387       11.8310440    \n",
       "[25,] 122.4141801  55.145180       13.7358635    \n",
       "[26,]   6.1435632   4.685576        1.8265600    "
      ]
     },
     "metadata": {},
     "output_type": "display_data"
    }
   ],
   "source": [
    "RMSE_res <-cbind(VAR_mod_RMSE,univariate_RMSE,LASSO_mod_RMSE)\n",
    "RMSE_res"
   ]
  },
  {
   "cell_type": "markdown",
   "metadata": {},
   "source": [
    "### C. LSTM "
   ]
  },
  {
   "cell_type": "code",
   "execution_count": 212,
   "metadata": {
    "vscode": {
     "languageId": "r"
    }
   },
   "outputs": [],
   "source": [
    "RMSE_LSTM_stable <-c(\n",
    "2.35594041,\n",
    "4.90520036,\t\n",
    "2.04205399,\t\n",
    "0.17883123,\t\n",
    "23.37337711,\n",
    "3.36964486,\t\n",
    "5.92676943,\t\n",
    "2.47419939,\t\n",
    "3.17811455,\n",
    "3.10329963,\n",
    "4.88695701,\n",
    "12.47542726,\n",
    "10.59384383,\t\n",
    "1.61290141,\t\n",
    "11.66858881,\t\n",
    "0.03346412,\n",
    "6.94559225,\n",
    "2.77303550,\t\n",
    "1.53613439,\n",
    "1.09849246,\t\n",
    "1.35458494,\t\n",
    "0.86600634,\t\n",
    "4.08833856,\t\n",
    "10.88680699,\n",
    "37.24070985,\t\n",
    "2.47525374\n",
    ")"
   ]
  },
  {
   "cell_type": "markdown",
   "metadata": {},
   "source": [
    "# SELECTION DES MODELES"
   ]
  },
  {
   "cell_type": "code",
   "execution_count": 214,
   "metadata": {
    "vscode": {
     "languageId": "r"
    }
   },
   "outputs": [],
   "source": [
    "RMSE_res <- cbind(RMSE_res,RMSE_LSTM_stable)"
   ]
  },
  {
   "cell_type": "code",
   "execution_count": 215,
   "metadata": {
    "vscode": {
     "languageId": "r"
    }
   },
   "outputs": [
    {
     "data": {
      "text/html": [
       "<table class=\"dataframe\">\n",
       "<caption>A matrix: 26 × 4 of type dbl</caption>\n",
       "<thead>\n",
       "\t<tr><th scope=col>VAR_mod_RMSE</th><th scope=col>univariate_RMSE</th><th scope=col>LASSO_mod_RMSE</th><th scope=col>RMSE_LSTM_stable</th></tr>\n",
       "</thead>\n",
       "<tbody>\n",
       "\t<tr><td> 28.3302640</td><td>16.935856</td><td> 6.3307653</td><td> 2.35594041</td></tr>\n",
       "\t<tr><td>  7.1191478</td><td> 8.034724</td><td> 4.7584142</td><td> 4.90520036</td></tr>\n",
       "\t<tr><td>  1.4947224</td><td> 2.437679</td><td> 0.6701038</td><td> 2.04205399</td></tr>\n",
       "\t<tr><td>  1.0990141</td><td> 1.483240</td><td> 0.3679150</td><td> 0.17883123</td></tr>\n",
       "\t<tr><td> 33.2512588</td><td>26.993462</td><td> 5.7198987</td><td>23.37337711</td></tr>\n",
       "\t<tr><td>  2.8232795</td><td> 1.165867</td><td> 0.7333771</td><td> 3.36964486</td></tr>\n",
       "\t<tr><td>  7.6546313</td><td> 2.013560</td><td> 1.7671146</td><td> 5.92676943</td></tr>\n",
       "\t<tr><td>  5.3702190</td><td> 2.489980</td><td> 1.5683655</td><td> 2.47419939</td></tr>\n",
       "\t<tr><td> 18.7602090</td><td> 3.711552</td><td> 3.1402716</td><td> 3.17811455</td></tr>\n",
       "\t<tr><td>  4.0227753</td><td> 4.335897</td><td> 2.6944138</td><td> 3.10329963</td></tr>\n",
       "\t<tr><td> 16.5723314</td><td>22.337033</td><td> 2.9443393</td><td> 4.88695701</td></tr>\n",
       "\t<tr><td> 57.8556617</td><td>41.462909</td><td> 6.3222862</td><td>12.47542726</td></tr>\n",
       "\t<tr><td> 28.8827877</td><td>10.162443</td><td> 3.4864760</td><td>10.59384383</td></tr>\n",
       "\t<tr><td>  6.9438528</td><td> 1.469708</td><td> 1.1472934</td><td> 1.61290141</td></tr>\n",
       "\t<tr><td> 17.6346122</td><td> 5.846706</td><td> 4.4265639</td><td>11.66858881</td></tr>\n",
       "\t<tr><td>  0.4149533</td><td> 0.000000</td><td> 0.2166634</td><td> 0.03346412</td></tr>\n",
       "\t<tr><td> 39.6978784</td><td> 3.478106</td><td> 3.2729469</td><td> 6.94559225</td></tr>\n",
       "\t<tr><td>  9.9480046</td><td> 3.125149</td><td> 1.5160296</td><td> 2.77303550</td></tr>\n",
       "\t<tr><td>  1.4740141</td><td> 1.200447</td><td> 0.8409301</td><td> 1.53613439</td></tr>\n",
       "\t<tr><td>  1.6290511</td><td> 1.095445</td><td> 0.8311211</td><td> 1.09849246</td></tr>\n",
       "\t<tr><td>  8.5694071</td><td> 4.171331</td><td> 1.3489310</td><td> 1.35458494</td></tr>\n",
       "\t<tr><td>  2.8718408</td><td> 1.414214</td><td> 1.0066775</td><td> 0.86600634</td></tr>\n",
       "\t<tr><td> 18.7444396</td><td>10.436509</td><td> 3.5475919</td><td> 4.08833856</td></tr>\n",
       "\t<tr><td> 22.1053822</td><td>32.683387</td><td>11.8310440</td><td>10.88680699</td></tr>\n",
       "\t<tr><td>122.4141801</td><td>55.145180</td><td>13.7358635</td><td>37.24070985</td></tr>\n",
       "\t<tr><td>  6.1435632</td><td> 4.685576</td><td> 1.8265600</td><td> 2.47525374</td></tr>\n",
       "</tbody>\n",
       "</table>\n"
      ],
      "text/latex": [
       "A matrix: 26 × 4 of type dbl\n",
       "\\begin{tabular}{llll}\n",
       " VAR\\_mod\\_RMSE & univariate\\_RMSE & LASSO\\_mod\\_RMSE & RMSE\\_LSTM\\_stable\\\\\n",
       "\\hline\n",
       "\t  28.3302640 & 16.935856 &  6.3307653 &  2.35594041\\\\\n",
       "\t   7.1191478 &  8.034724 &  4.7584142 &  4.90520036\\\\\n",
       "\t   1.4947224 &  2.437679 &  0.6701038 &  2.04205399\\\\\n",
       "\t   1.0990141 &  1.483240 &  0.3679150 &  0.17883123\\\\\n",
       "\t  33.2512588 & 26.993462 &  5.7198987 & 23.37337711\\\\\n",
       "\t   2.8232795 &  1.165867 &  0.7333771 &  3.36964486\\\\\n",
       "\t   7.6546313 &  2.013560 &  1.7671146 &  5.92676943\\\\\n",
       "\t   5.3702190 &  2.489980 &  1.5683655 &  2.47419939\\\\\n",
       "\t  18.7602090 &  3.711552 &  3.1402716 &  3.17811455\\\\\n",
       "\t   4.0227753 &  4.335897 &  2.6944138 &  3.10329963\\\\\n",
       "\t  16.5723314 & 22.337033 &  2.9443393 &  4.88695701\\\\\n",
       "\t  57.8556617 & 41.462909 &  6.3222862 & 12.47542726\\\\\n",
       "\t  28.8827877 & 10.162443 &  3.4864760 & 10.59384383\\\\\n",
       "\t   6.9438528 &  1.469708 &  1.1472934 &  1.61290141\\\\\n",
       "\t  17.6346122 &  5.846706 &  4.4265639 & 11.66858881\\\\\n",
       "\t   0.4149533 &  0.000000 &  0.2166634 &  0.03346412\\\\\n",
       "\t  39.6978784 &  3.478106 &  3.2729469 &  6.94559225\\\\\n",
       "\t   9.9480046 &  3.125149 &  1.5160296 &  2.77303550\\\\\n",
       "\t   1.4740141 &  1.200447 &  0.8409301 &  1.53613439\\\\\n",
       "\t   1.6290511 &  1.095445 &  0.8311211 &  1.09849246\\\\\n",
       "\t   8.5694071 &  4.171331 &  1.3489310 &  1.35458494\\\\\n",
       "\t   2.8718408 &  1.414214 &  1.0066775 &  0.86600634\\\\\n",
       "\t  18.7444396 & 10.436509 &  3.5475919 &  4.08833856\\\\\n",
       "\t  22.1053822 & 32.683387 & 11.8310440 & 10.88680699\\\\\n",
       "\t 122.4141801 & 55.145180 & 13.7358635 & 37.24070985\\\\\n",
       "\t   6.1435632 &  4.685576 &  1.8265600 &  2.47525374\\\\\n",
       "\\end{tabular}\n"
      ],
      "text/markdown": [
       "\n",
       "A matrix: 26 × 4 of type dbl\n",
       "\n",
       "| VAR_mod_RMSE | univariate_RMSE | LASSO_mod_RMSE | RMSE_LSTM_stable |\n",
       "|---|---|---|---|\n",
       "|  28.3302640 | 16.935856 |  6.3307653 |  2.35594041 |\n",
       "|   7.1191478 |  8.034724 |  4.7584142 |  4.90520036 |\n",
       "|   1.4947224 |  2.437679 |  0.6701038 |  2.04205399 |\n",
       "|   1.0990141 |  1.483240 |  0.3679150 |  0.17883123 |\n",
       "|  33.2512588 | 26.993462 |  5.7198987 | 23.37337711 |\n",
       "|   2.8232795 |  1.165867 |  0.7333771 |  3.36964486 |\n",
       "|   7.6546313 |  2.013560 |  1.7671146 |  5.92676943 |\n",
       "|   5.3702190 |  2.489980 |  1.5683655 |  2.47419939 |\n",
       "|  18.7602090 |  3.711552 |  3.1402716 |  3.17811455 |\n",
       "|   4.0227753 |  4.335897 |  2.6944138 |  3.10329963 |\n",
       "|  16.5723314 | 22.337033 |  2.9443393 |  4.88695701 |\n",
       "|  57.8556617 | 41.462909 |  6.3222862 | 12.47542726 |\n",
       "|  28.8827877 | 10.162443 |  3.4864760 | 10.59384383 |\n",
       "|   6.9438528 |  1.469708 |  1.1472934 |  1.61290141 |\n",
       "|  17.6346122 |  5.846706 |  4.4265639 | 11.66858881 |\n",
       "|   0.4149533 |  0.000000 |  0.2166634 |  0.03346412 |\n",
       "|  39.6978784 |  3.478106 |  3.2729469 |  6.94559225 |\n",
       "|   9.9480046 |  3.125149 |  1.5160296 |  2.77303550 |\n",
       "|   1.4740141 |  1.200447 |  0.8409301 |  1.53613439 |\n",
       "|   1.6290511 |  1.095445 |  0.8311211 |  1.09849246 |\n",
       "|   8.5694071 |  4.171331 |  1.3489310 |  1.35458494 |\n",
       "|   2.8718408 |  1.414214 |  1.0066775 |  0.86600634 |\n",
       "|  18.7444396 | 10.436509 |  3.5475919 |  4.08833856 |\n",
       "|  22.1053822 | 32.683387 | 11.8310440 | 10.88680699 |\n",
       "| 122.4141801 | 55.145180 | 13.7358635 | 37.24070985 |\n",
       "|   6.1435632 |  4.685576 |  1.8265600 |  2.47525374 |\n",
       "\n"
      ],
      "text/plain": [
       "      VAR_mod_RMSE univariate_RMSE LASSO_mod_RMSE RMSE_LSTM_stable\n",
       " [1,]  28.3302640  16.935856        6.3307653      2.35594041     \n",
       " [2,]   7.1191478   8.034724        4.7584142      4.90520036     \n",
       " [3,]   1.4947224   2.437679        0.6701038      2.04205399     \n",
       " [4,]   1.0990141   1.483240        0.3679150      0.17883123     \n",
       " [5,]  33.2512588  26.993462        5.7198987     23.37337711     \n",
       " [6,]   2.8232795   1.165867        0.7333771      3.36964486     \n",
       " [7,]   7.6546313   2.013560        1.7671146      5.92676943     \n",
       " [8,]   5.3702190   2.489980        1.5683655      2.47419939     \n",
       " [9,]  18.7602090   3.711552        3.1402716      3.17811455     \n",
       "[10,]   4.0227753   4.335897        2.6944138      3.10329963     \n",
       "[11,]  16.5723314  22.337033        2.9443393      4.88695701     \n",
       "[12,]  57.8556617  41.462909        6.3222862     12.47542726     \n",
       "[13,]  28.8827877  10.162443        3.4864760     10.59384383     \n",
       "[14,]   6.9438528   1.469708        1.1472934      1.61290141     \n",
       "[15,]  17.6346122   5.846706        4.4265639     11.66858881     \n",
       "[16,]   0.4149533   0.000000        0.2166634      0.03346412     \n",
       "[17,]  39.6978784   3.478106        3.2729469      6.94559225     \n",
       "[18,]   9.9480046   3.125149        1.5160296      2.77303550     \n",
       "[19,]   1.4740141   1.200447        0.8409301      1.53613439     \n",
       "[20,]   1.6290511   1.095445        0.8311211      1.09849246     \n",
       "[21,]   8.5694071   4.171331        1.3489310      1.35458494     \n",
       "[22,]   2.8718408   1.414214        1.0066775      0.86600634     \n",
       "[23,]  18.7444396  10.436509        3.5475919      4.08833856     \n",
       "[24,]  22.1053822  32.683387       11.8310440     10.88680699     \n",
       "[25,] 122.4141801  55.145180       13.7358635     37.24070985     \n",
       "[26,]   6.1435632   4.685576        1.8265600      2.47525374     "
      ]
     },
     "metadata": {},
     "output_type": "display_data"
    }
   ],
   "source": [
    "RMSE_res"
   ]
  },
  {
   "cell_type": "code",
   "execution_count": 216,
   "metadata": {
    "vscode": {
     "languageId": "r"
    }
   },
   "outputs": [
    {
     "data": {
      "text/html": [
       "<style>\n",
       ".list-inline {list-style: none; margin:0; padding: 0}\n",
       ".list-inline>li {display: inline-block}\n",
       ".list-inline>li:not(:last-child)::after {content: \"\\00b7\"; padding: 0 .5ex}\n",
       "</style>\n",
       "<ol class=list-inline><li>'RMSE_LSTM_stable'</li><li>'LASSO_mod_RMSE'</li><li>'LASSO_mod_RMSE'</li><li>'RMSE_LSTM_stable'</li><li>'LASSO_mod_RMSE'</li><li>'LASSO_mod_RMSE'</li><li>'LASSO_mod_RMSE'</li><li>'LASSO_mod_RMSE'</li><li>'LASSO_mod_RMSE'</li><li>'LASSO_mod_RMSE'</li><li>'LASSO_mod_RMSE'</li><li>'LASSO_mod_RMSE'</li><li>'LASSO_mod_RMSE'</li><li>'LASSO_mod_RMSE'</li><li>'LASSO_mod_RMSE'</li><li>'univariate_RMSE'</li><li>'LASSO_mod_RMSE'</li><li>'LASSO_mod_RMSE'</li><li>'LASSO_mod_RMSE'</li><li>'LASSO_mod_RMSE'</li><li>'LASSO_mod_RMSE'</li><li>'RMSE_LSTM_stable'</li><li>'LASSO_mod_RMSE'</li><li>'RMSE_LSTM_stable'</li><li>'LASSO_mod_RMSE'</li><li>'LASSO_mod_RMSE'</li></ol>\n"
      ],
      "text/latex": [
       "\\begin{enumerate*}\n",
       "\\item 'RMSE\\_LSTM\\_stable'\n",
       "\\item 'LASSO\\_mod\\_RMSE'\n",
       "\\item 'LASSO\\_mod\\_RMSE'\n",
       "\\item 'RMSE\\_LSTM\\_stable'\n",
       "\\item 'LASSO\\_mod\\_RMSE'\n",
       "\\item 'LASSO\\_mod\\_RMSE'\n",
       "\\item 'LASSO\\_mod\\_RMSE'\n",
       "\\item 'LASSO\\_mod\\_RMSE'\n",
       "\\item 'LASSO\\_mod\\_RMSE'\n",
       "\\item 'LASSO\\_mod\\_RMSE'\n",
       "\\item 'LASSO\\_mod\\_RMSE'\n",
       "\\item 'LASSO\\_mod\\_RMSE'\n",
       "\\item 'LASSO\\_mod\\_RMSE'\n",
       "\\item 'LASSO\\_mod\\_RMSE'\n",
       "\\item 'LASSO\\_mod\\_RMSE'\n",
       "\\item 'univariate\\_RMSE'\n",
       "\\item 'LASSO\\_mod\\_RMSE'\n",
       "\\item 'LASSO\\_mod\\_RMSE'\n",
       "\\item 'LASSO\\_mod\\_RMSE'\n",
       "\\item 'LASSO\\_mod\\_RMSE'\n",
       "\\item 'LASSO\\_mod\\_RMSE'\n",
       "\\item 'RMSE\\_LSTM\\_stable'\n",
       "\\item 'LASSO\\_mod\\_RMSE'\n",
       "\\item 'RMSE\\_LSTM\\_stable'\n",
       "\\item 'LASSO\\_mod\\_RMSE'\n",
       "\\item 'LASSO\\_mod\\_RMSE'\n",
       "\\end{enumerate*}\n"
      ],
      "text/markdown": [
       "1. 'RMSE_LSTM_stable'\n",
       "2. 'LASSO_mod_RMSE'\n",
       "3. 'LASSO_mod_RMSE'\n",
       "4. 'RMSE_LSTM_stable'\n",
       "5. 'LASSO_mod_RMSE'\n",
       "6. 'LASSO_mod_RMSE'\n",
       "7. 'LASSO_mod_RMSE'\n",
       "8. 'LASSO_mod_RMSE'\n",
       "9. 'LASSO_mod_RMSE'\n",
       "10. 'LASSO_mod_RMSE'\n",
       "11. 'LASSO_mod_RMSE'\n",
       "12. 'LASSO_mod_RMSE'\n",
       "13. 'LASSO_mod_RMSE'\n",
       "14. 'LASSO_mod_RMSE'\n",
       "15. 'LASSO_mod_RMSE'\n",
       "16. 'univariate_RMSE'\n",
       "17. 'LASSO_mod_RMSE'\n",
       "18. 'LASSO_mod_RMSE'\n",
       "19. 'LASSO_mod_RMSE'\n",
       "20. 'LASSO_mod_RMSE'\n",
       "21. 'LASSO_mod_RMSE'\n",
       "22. 'RMSE_LSTM_stable'\n",
       "23. 'LASSO_mod_RMSE'\n",
       "24. 'RMSE_LSTM_stable'\n",
       "25. 'LASSO_mod_RMSE'\n",
       "26. 'LASSO_mod_RMSE'\n",
       "\n",
       "\n"
      ],
      "text/plain": [
       " [1] \"RMSE_LSTM_stable\" \"LASSO_mod_RMSE\"   \"LASSO_mod_RMSE\"   \"RMSE_LSTM_stable\"\n",
       " [5] \"LASSO_mod_RMSE\"   \"LASSO_mod_RMSE\"   \"LASSO_mod_RMSE\"   \"LASSO_mod_RMSE\"  \n",
       " [9] \"LASSO_mod_RMSE\"   \"LASSO_mod_RMSE\"   \"LASSO_mod_RMSE\"   \"LASSO_mod_RMSE\"  \n",
       "[13] \"LASSO_mod_RMSE\"   \"LASSO_mod_RMSE\"   \"LASSO_mod_RMSE\"   \"univariate_RMSE\" \n",
       "[17] \"LASSO_mod_RMSE\"   \"LASSO_mod_RMSE\"   \"LASSO_mod_RMSE\"   \"LASSO_mod_RMSE\"  \n",
       "[21] \"LASSO_mod_RMSE\"   \"RMSE_LSTM_stable\" \"LASSO_mod_RMSE\"   \"RMSE_LSTM_stable\"\n",
       "[25] \"LASSO_mod_RMSE\"   \"LASSO_mod_RMSE\"  "
      ]
     },
     "metadata": {},
     "output_type": "display_data"
    }
   ],
   "source": [
    "#Already done\n",
    "apply(RMSE_res,1,function(x){\n",
    "    lab.ind <-which.min(x)\n",
    "    return(colnames(RMSE_res)[lab.ind])\n",
    "})"
   ]
  },
  {
   "cell_type": "code",
   "execution_count": null,
   "metadata": {
    "vscode": {
     "languageId": "r"
    }
   },
   "outputs": [],
   "source": [
    "# => ON en conclut selon ce critere que l'on va analyser les ecart à l'aide du modèles LSTM"
   ]
  }
 ],
 "metadata": {
  "kernelspec": {
   "display_name": "R",
   "language": "R",
   "name": "ir"
  },
  "language_info": {
   "codemirror_mode": "r",
   "file_extension": ".r",
   "mimetype": "text/x-r-source",
   "name": "R",
   "pygments_lexer": "r",
   "version": "4.0.4"
  },
  "orig_nbformat": 4,
  "vscode": {
   "interpreter": {
    "hash": "31f2aee4e71d21fbe5cf8b01ff0e069b9275f58929596ceb00d14d90e3e16cd6"
   }
  }
 },
 "nbformat": 4,
 "nbformat_minor": 2
}

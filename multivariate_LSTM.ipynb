{
 "cells": [
  {
   "cell_type": "code",
   "execution_count": 1,
   "metadata": {
    "vscode": {
     "languageId": "r"
    }
   },
   "outputs": [],
   "source": [
    "rm(list=ls())\n",
    "suppressPackageStartupMessages(require(skimr))\n",
    "suppressPackageStartupMessages(require(readxl))\n",
    "suppressPackageStartupMessages(require(stringr))\n",
    "suppressPackageStartupMessages(require(dplyr))\n",
    "suppressPackageStartupMessages(require(ggplot2))\n",
    "suppressPackageStartupMessages(require(forecast))"
   ]
  },
  {
   "cell_type": "code",
   "execution_count": 2,
   "metadata": {
    "vscode": {
     "languageId": "r"
    }
   },
   "outputs": [],
   "source": [
    "#------------------------------------------------------\n",
    "# data pre treatment (similar to univariate case)\n",
    "\n",
    "df <- read_excel(\"data/data.xlsx\",sheet = 3)\n",
    "tmp <-df%>% filter(aire==\"44_GRAND EST\" & champ==\"ESS\")\n",
    "\n",
    "df <-tmp[-which(!is.na(tmp$secret_stat)),]%>%select(-secret_stat)\n",
    "df <- df %>% select(-champ,-type_aire,-type_naf,-aire)\n",
    "df <- df[,c(TRUE,str_detect(colnames(df),\"nb_etab\")[-1])]\n",
    "tmp <- t(df)\n",
    "colnames(tmp) <- tmp[1,]\n",
    "tmp <-tmp[-1,]\n",
    "df <- tmp\n",
    "tmp <-df%>%as.data.frame\n",
    "tmp <-cbind(\"date\"=rep(NA,nrow(tmp)),tmp)\n",
    "for (i in 1:nrow(tmp)){\n",
    "    tmp.format.date <- strsplit(rownames(df)[i],\"nb_etab\")[[1]][2]\n",
    "    subsplit <-strsplit(tmp.format.date,\"T\")[[1]]\n",
    "    year<-subsplit[1]\n",
    "    trimester <- subsplit[2]\n",
    "    month <-switch(trimester,\n",
    "        \"1\"=\"01\",\n",
    "        \"2\"=\"04\",\n",
    "        \"3\"=\"07\",\n",
    "        \"4\"=\"10\"\n",
    "    )\n",
    "    tmp[i,1] <- paste(year,month,\"01\",sep=\"-\")\n",
    "}\n",
    "tmp$date <-as.Date(tmp$date)\n",
    "rownames(tmp) <- NULL\n",
    "\n",
    "df.indexes <-which(tmp$date < as.Date(\"2020-01-01\"))\n",
    "train.indexes<- which(tmp$date < as.Date(\"2018-01-01\") )\n",
    "test.indexes <-which(tmp$date>= as.Date(\"2018-01-01\") & tmp$date <as.Date(\"2020-01-01\") )\n",
    "tmp <-tmp %>%select(-date)%>% mutate_all(as.numeric)\n",
    "#----------------------------\n",
    "# Eliminate total serie\n",
    "tmp <- tmp[,-ncol(tmp)]\n",
    "df.ts <- ts(tmp[df.indexes,],start=c(2010,1),frequency=4)# S'arrete à 2019 Q4\n",
    "train.ts <-ts(tmp[train.indexes,],start=c(2010,1),frequency = 4)# S'arrete à 2017 Q4\n",
    "test.ts <-ts(tmp[test.indexes,],start = c(2018,1),frequency = 4)# Commence a 2018 Q1 --> 2019 Q4\n",
    "global.ts <- ts(tmp,start=c(2010,1),frequency=4)# Commence a 2010 Q1 --> 2021 Q2\n",
    "covid.ts <- ts(tmp[(df.indexes[length(df.indexes)]+1):nrow(tmp),],start=c(2020,1),frequency = 4)# Commence a 2020 Q1 --> 2021 Q2"
   ]
  },
  {
   "cell_type": "code",
   "execution_count": 3,
   "metadata": {
    "vscode": {
     "languageId": "r"
    }
   },
   "outputs": [
    {
     "name": "stderr",
     "output_type": "stream",
     "text": [
      "Loading required package: tensorflow\n",
      "\n",
      "Loading required package: keras\n",
      "\n"
     ]
    }
   ],
   "source": [
    "require(tensorflow)\n",
    "require(keras)"
   ]
  },
  {
   "cell_type": "code",
   "execution_count": 4,
   "metadata": {
    "vscode": {
     "languageId": "r"
    }
   },
   "outputs": [],
   "source": [
    "lab.to.num <-cbind(\"lab\"=colnames(df.ts),\"num\"=1:length(colnames(df.ts))) %>%as.data.frame\n",
    "lab.to.num$num <- as.numeric(lab.to.num$num)\n",
    "colnames(df.ts) <-lab.to.num$num"
   ]
  },
  {
   "cell_type": "code",
   "execution_count": 5,
   "metadata": {
    "vscode": {
     "languageId": "r"
    }
   },
   "outputs": [],
   "source": [
    "\n",
    "df.train <-df.ts[1:(dim(df.ts)[1]*3/4),] %>%as.data.frame\n",
    "df.test <-df.ts[((dim(df.ts)[1]*3/4)+1):dim(df.ts)[1],] %>%as.data.frame\n",
    "df.train<-df.train[,1]\n",
    "df.test<-df.test[,1]\n"
   ]
  },
  {
   "cell_type": "code",
   "execution_count": 6,
   "metadata": {
    "vscode": {
     "languageId": "r"
    }
   },
   "outputs": [],
   "source": [
    "#-----------------------------\n",
    "# Scaled the train sample and get the sample factor parmas: mean + sd\n",
    "scaled_train <- scale(df.train)\n",
    "scale_factor <-c(attr(scaled_train,\"scaled:center\"),attr(scaled_train,\"scaled:scale\"))\n"
   ]
  },
  {
   "cell_type": "code",
   "execution_count": 7,
   "metadata": {
    "vscode": {
     "languageId": "r"
    }
   },
   "outputs": [],
   "source": [
    "#df <- df.ts %>% as.data.frame()\n",
    "#df.scaled <-scale(df)\n",
    "#centered_scale <-attr(df.scaled,\"scaled:center\")\n",
    "#sd_scale <-attr(df.scaled,\"scaled:scale\")\n",
    "#write.csv(df,\"data\\\\multi_TS.csv\")"
   ]
  },
  {
   "cell_type": "code",
   "execution_count": 8,
   "metadata": {
    "vscode": {
     "languageId": "r"
    }
   },
   "outputs": [],
   "source": [
    "#----------------\n",
    "# We d like to do a 6 Quarter forecast,\n",
    "# We need to base each prediction on 6 points\n",
    "prediction <- 6\n",
    "lag <- prediction"
   ]
  },
  {
   "cell_type": "code",
   "execution_count": 9,
   "metadata": {
    "vscode": {
     "languageId": "r"
    }
   },
   "outputs": [],
   "source": [
    "#scaled_train <- as.matrix(scaled_train)\n",
    "#scaled_train\n",
    "#-------------------\n",
    "#We lag the data 5 times\n",
    "x_train_data <-t(sapply(1:(length(scaled_train)-lag- prediction+1),\n",
    "    function(x){scaled_train[x:(x+lag-1),1]}\n",
    "))\n",
    "\n",
    "#Transform into array\n",
    "x_train_array <- array(\n",
    "    data=as.numeric(unlist(x_train_data)),\n",
    "    dim=c(nrow(x_train_data),\n",
    "    lag,\n",
    "    1)\n",
    ")\n",
    "# An array with the third dimension fixed to one , and with the other plan forming the matrix of size : 19 . 6\n"
   ]
  },
  {
   "cell_type": "code",
   "execution_count": 10,
   "metadata": {
    "vscode": {
     "languageId": "r"
    }
   },
   "outputs": [
    {
     "data": {
      "text/html": [
       "<style>\n",
       ".list-inline {list-style: none; margin:0; padding: 0}\n",
       ".list-inline>li {display: inline-block}\n",
       ".list-inline>li:not(:last-child)::after {content: \"\\00b7\"; padding: 0 .5ex}\n",
       "</style>\n",
       "<ol class=list-inline><li>1233.9</li><li>43.6840932148076</li></ol>\n"
      ],
      "text/latex": [
       "\\begin{enumerate*}\n",
       "\\item 1233.9\n",
       "\\item 43.6840932148076\n",
       "\\end{enumerate*}\n"
      ],
      "text/markdown": [
       "1. 1233.9\n",
       "2. 43.6840932148076\n",
       "\n",
       "\n"
      ],
      "text/plain": [
       "[1] 1233.90000   43.68409"
      ]
     },
     "metadata": {},
     "output_type": "display_data"
    }
   ],
   "source": [
    "scale_factor"
   ]
  },
  {
   "cell_type": "code",
   "execution_count": 11,
   "metadata": {
    "vscode": {
     "languageId": "r"
    }
   },
   "outputs": [
    {
     "data": {
      "text/html": [
       "<table class=\"dataframe\">\n",
       "<caption>A matrix: 19 × 6 of type dbl</caption>\n",
       "<tbody>\n",
       "\t<tr><td> 1.28422032</td><td> 1.14687055</td><td> 1.03241241</td><td> 1.00952078</td><td> 0.96373753</td><td> 0.91795427</td></tr>\n",
       "\t<tr><td> 1.14687055</td><td> 1.03241241</td><td> 1.00952078</td><td> 0.96373753</td><td> 0.91795427</td><td> 0.80349613</td></tr>\n",
       "\t<tr><td> 1.03241241</td><td> 1.00952078</td><td> 0.96373753</td><td> 0.91795427</td><td> 0.80349613</td><td> 0.75771288</td></tr>\n",
       "\t<tr><td> 1.00952078</td><td> 0.96373753</td><td> 0.91795427</td><td> 0.80349613</td><td> 0.75771288</td><td> 0.57457986</td></tr>\n",
       "\t<tr><td> 0.96373753</td><td> 0.91795427</td><td> 0.80349613</td><td> 0.75771288</td><td> 0.57457986</td><td> 0.52879660</td></tr>\n",
       "\t<tr><td> 0.91795427</td><td> 0.80349613</td><td> 0.75771288</td><td> 0.57457986</td><td> 0.52879660</td><td> 0.50590497</td></tr>\n",
       "\t<tr><td> 0.80349613</td><td> 0.75771288</td><td> 0.57457986</td><td> 0.52879660</td><td> 0.50590497</td><td> 0.50590497</td></tr>\n",
       "\t<tr><td> 0.75771288</td><td> 0.57457986</td><td> 0.52879660</td><td> 0.50590497</td><td> 0.50590497</td><td> 0.29988032</td></tr>\n",
       "\t<tr><td> 0.57457986</td><td> 0.52879660</td><td> 0.50590497</td><td> 0.50590497</td><td> 0.29988032</td><td> 0.23120544</td></tr>\n",
       "\t<tr><td> 0.52879660</td><td> 0.50590497</td><td> 0.50590497</td><td> 0.29988032</td><td> 0.23120544</td><td> 0.13963893</td></tr>\n",
       "\t<tr><td> 0.50590497</td><td> 0.50590497</td><td> 0.29988032</td><td> 0.23120544</td><td> 0.13963893</td><td>-0.02060246</td></tr>\n",
       "\t<tr><td> 0.50590497</td><td> 0.29988032</td><td> 0.23120544</td><td> 0.13963893</td><td>-0.02060246</td><td>-0.22662711</td></tr>\n",
       "\t<tr><td> 0.29988032</td><td> 0.23120544</td><td> 0.13963893</td><td>-0.02060246</td><td>-0.22662711</td><td>-0.22662711</td></tr>\n",
       "\t<tr><td> 0.23120544</td><td> 0.13963893</td><td>-0.02060246</td><td>-0.22662711</td><td>-0.22662711</td><td>-0.29530200</td></tr>\n",
       "\t<tr><td> 0.13963893</td><td>-0.02060246</td><td>-0.22662711</td><td>-0.22662711</td><td>-0.29530200</td><td> 1.92518589</td></tr>\n",
       "\t<tr><td>-0.02060246</td><td>-0.22662711</td><td>-0.22662711</td><td>-0.29530200</td><td> 1.92518589</td><td>-0.59289316</td></tr>\n",
       "\t<tr><td>-0.22662711</td><td>-0.22662711</td><td>-0.29530200</td><td> 1.92518589</td><td>-0.59289316</td><td>-0.84470106</td></tr>\n",
       "\t<tr><td>-0.22662711</td><td>-0.29530200</td><td> 1.92518589</td><td>-0.59289316</td><td>-0.84470106</td><td>-0.79891781</td></tr>\n",
       "\t<tr><td>-0.29530200</td><td> 1.92518589</td><td>-0.59289316</td><td>-0.84470106</td><td>-0.79891781</td><td>-0.84470106</td></tr>\n",
       "</tbody>\n",
       "</table>\n"
      ],
      "text/latex": [
       "A matrix: 19 × 6 of type dbl\n",
       "\\begin{tabular}{llllll}\n",
       "\t  1.28422032 &  1.14687055 &  1.03241241 &  1.00952078 &  0.96373753 &  0.91795427\\\\\n",
       "\t  1.14687055 &  1.03241241 &  1.00952078 &  0.96373753 &  0.91795427 &  0.80349613\\\\\n",
       "\t  1.03241241 &  1.00952078 &  0.96373753 &  0.91795427 &  0.80349613 &  0.75771288\\\\\n",
       "\t  1.00952078 &  0.96373753 &  0.91795427 &  0.80349613 &  0.75771288 &  0.57457986\\\\\n",
       "\t  0.96373753 &  0.91795427 &  0.80349613 &  0.75771288 &  0.57457986 &  0.52879660\\\\\n",
       "\t  0.91795427 &  0.80349613 &  0.75771288 &  0.57457986 &  0.52879660 &  0.50590497\\\\\n",
       "\t  0.80349613 &  0.75771288 &  0.57457986 &  0.52879660 &  0.50590497 &  0.50590497\\\\\n",
       "\t  0.75771288 &  0.57457986 &  0.52879660 &  0.50590497 &  0.50590497 &  0.29988032\\\\\n",
       "\t  0.57457986 &  0.52879660 &  0.50590497 &  0.50590497 &  0.29988032 &  0.23120544\\\\\n",
       "\t  0.52879660 &  0.50590497 &  0.50590497 &  0.29988032 &  0.23120544 &  0.13963893\\\\\n",
       "\t  0.50590497 &  0.50590497 &  0.29988032 &  0.23120544 &  0.13963893 & -0.02060246\\\\\n",
       "\t  0.50590497 &  0.29988032 &  0.23120544 &  0.13963893 & -0.02060246 & -0.22662711\\\\\n",
       "\t  0.29988032 &  0.23120544 &  0.13963893 & -0.02060246 & -0.22662711 & -0.22662711\\\\\n",
       "\t  0.23120544 &  0.13963893 & -0.02060246 & -0.22662711 & -0.22662711 & -0.29530200\\\\\n",
       "\t  0.13963893 & -0.02060246 & -0.22662711 & -0.22662711 & -0.29530200 &  1.92518589\\\\\n",
       "\t -0.02060246 & -0.22662711 & -0.22662711 & -0.29530200 &  1.92518589 & -0.59289316\\\\\n",
       "\t -0.22662711 & -0.22662711 & -0.29530200 &  1.92518589 & -0.59289316 & -0.84470106\\\\\n",
       "\t -0.22662711 & -0.29530200 &  1.92518589 & -0.59289316 & -0.84470106 & -0.79891781\\\\\n",
       "\t -0.29530200 &  1.92518589 & -0.59289316 & -0.84470106 & -0.79891781 & -0.84470106\\\\\n",
       "\\end{tabular}\n"
      ],
      "text/markdown": [
       "\n",
       "A matrix: 19 × 6 of type dbl\n",
       "\n",
       "|  1.28422032 |  1.14687055 |  1.03241241 |  1.00952078 |  0.96373753 |  0.91795427 |\n",
       "|  1.14687055 |  1.03241241 |  1.00952078 |  0.96373753 |  0.91795427 |  0.80349613 |\n",
       "|  1.03241241 |  1.00952078 |  0.96373753 |  0.91795427 |  0.80349613 |  0.75771288 |\n",
       "|  1.00952078 |  0.96373753 |  0.91795427 |  0.80349613 |  0.75771288 |  0.57457986 |\n",
       "|  0.96373753 |  0.91795427 |  0.80349613 |  0.75771288 |  0.57457986 |  0.52879660 |\n",
       "|  0.91795427 |  0.80349613 |  0.75771288 |  0.57457986 |  0.52879660 |  0.50590497 |\n",
       "|  0.80349613 |  0.75771288 |  0.57457986 |  0.52879660 |  0.50590497 |  0.50590497 |\n",
       "|  0.75771288 |  0.57457986 |  0.52879660 |  0.50590497 |  0.50590497 |  0.29988032 |\n",
       "|  0.57457986 |  0.52879660 |  0.50590497 |  0.50590497 |  0.29988032 |  0.23120544 |\n",
       "|  0.52879660 |  0.50590497 |  0.50590497 |  0.29988032 |  0.23120544 |  0.13963893 |\n",
       "|  0.50590497 |  0.50590497 |  0.29988032 |  0.23120544 |  0.13963893 | -0.02060246 |\n",
       "|  0.50590497 |  0.29988032 |  0.23120544 |  0.13963893 | -0.02060246 | -0.22662711 |\n",
       "|  0.29988032 |  0.23120544 |  0.13963893 | -0.02060246 | -0.22662711 | -0.22662711 |\n",
       "|  0.23120544 |  0.13963893 | -0.02060246 | -0.22662711 | -0.22662711 | -0.29530200 |\n",
       "|  0.13963893 | -0.02060246 | -0.22662711 | -0.22662711 | -0.29530200 |  1.92518589 |\n",
       "| -0.02060246 | -0.22662711 | -0.22662711 | -0.29530200 |  1.92518589 | -0.59289316 |\n",
       "| -0.22662711 | -0.22662711 | -0.29530200 |  1.92518589 | -0.59289316 | -0.84470106 |\n",
       "| -0.22662711 | -0.29530200 |  1.92518589 | -0.59289316 | -0.84470106 | -0.79891781 |\n",
       "| -0.29530200 |  1.92518589 | -0.59289316 | -0.84470106 | -0.79891781 | -0.84470106 |\n",
       "\n"
      ],
      "text/plain": [
       "      [,1]        [,2]        [,3]        [,4]        [,5]        [,6]       \n",
       " [1,]  1.28422032  1.14687055  1.03241241  1.00952078  0.96373753  0.91795427\n",
       " [2,]  1.14687055  1.03241241  1.00952078  0.96373753  0.91795427  0.80349613\n",
       " [3,]  1.03241241  1.00952078  0.96373753  0.91795427  0.80349613  0.75771288\n",
       " [4,]  1.00952078  0.96373753  0.91795427  0.80349613  0.75771288  0.57457986\n",
       " [5,]  0.96373753  0.91795427  0.80349613  0.75771288  0.57457986  0.52879660\n",
       " [6,]  0.91795427  0.80349613  0.75771288  0.57457986  0.52879660  0.50590497\n",
       " [7,]  0.80349613  0.75771288  0.57457986  0.52879660  0.50590497  0.50590497\n",
       " [8,]  0.75771288  0.57457986  0.52879660  0.50590497  0.50590497  0.29988032\n",
       " [9,]  0.57457986  0.52879660  0.50590497  0.50590497  0.29988032  0.23120544\n",
       "[10,]  0.52879660  0.50590497  0.50590497  0.29988032  0.23120544  0.13963893\n",
       "[11,]  0.50590497  0.50590497  0.29988032  0.23120544  0.13963893 -0.02060246\n",
       "[12,]  0.50590497  0.29988032  0.23120544  0.13963893 -0.02060246 -0.22662711\n",
       "[13,]  0.29988032  0.23120544  0.13963893 -0.02060246 -0.22662711 -0.22662711\n",
       "[14,]  0.23120544  0.13963893 -0.02060246 -0.22662711 -0.22662711 -0.29530200\n",
       "[15,]  0.13963893 -0.02060246 -0.22662711 -0.22662711 -0.29530200  1.92518589\n",
       "[16,] -0.02060246 -0.22662711 -0.22662711 -0.29530200  1.92518589 -0.59289316\n",
       "[17,] -0.22662711 -0.22662711 -0.29530200  1.92518589 -0.59289316 -0.84470106\n",
       "[18,] -0.22662711 -0.29530200  1.92518589 -0.59289316 -0.84470106 -0.79891781\n",
       "[19,] -0.29530200  1.92518589 -0.59289316 -0.84470106 -0.79891781 -0.84470106"
      ]
     },
     "metadata": {},
     "output_type": "display_data"
    }
   ],
   "source": [
    "x_train_data"
   ]
  },
  {
   "cell_type": "code",
   "execution_count": 12,
   "metadata": {
    "vscode": {
     "languageId": "r"
    }
   },
   "outputs": [],
   "source": [
    "y_train_data <-  t(sapply(\n",
    "    (1+lag):(length(scaled_train)-prediction +1),\n",
    "    function(x){scaled_train[x:(x+prediction-1)]}\n",
    "))\n",
    "y_train_arr <-array(\n",
    "    data=as.numeric(unlist(y_train_data)),\n",
    "    dim=c(\n",
    "        nrow(y_train_data),\n",
    "        prediction,\n",
    "        1\n",
    "    )\n",
    ")"
   ]
  },
  {
   "cell_type": "code",
   "execution_count": 13,
   "metadata": {
    "vscode": {
     "languageId": "r"
    }
   },
   "outputs": [
    {
     "name": "stdout",
     "output_type": "stream",
     "text": [
      "X test : 1191 1178 1174 1166 1160 1151 \n",
      "X test scaled : -0.9820508 -1.279642 -1.371209 -1.554342 -1.691691 -1.897716"
     ]
    }
   ],
   "source": [
    "x_test <- df.train[(nrow(scaled_train) -prediction +1):nrow(scaled_train)]\n",
    "x_test_scaled <-(x_test -scale_factor[1])/scale_factor[2]\n",
    "cat(\"X test :\",x_test,\"\\nX test scaled :\",x_test_scaled)"
   ]
  },
  {
   "cell_type": "code",
   "execution_count": null,
   "metadata": {
    "vscode": {
     "languageId": "r"
    }
   },
   "outputs": [],
   "source": []
  },
  {
   "cell_type": "code",
   "execution_count": 61,
   "metadata": {
    "vscode": {
     "languageId": "r"
    }
   },
   "outputs": [],
   "source": [
    "x_pred_arr <-array(\n",
    "    data=x_test_scaled,\n",
    "    dim=c(1,lag,1)\n",
    ")"
   ]
  },
  {
   "cell_type": "code",
   "execution_count": 62,
   "metadata": {
    "vscode": {
     "languageId": "r"
    }
   },
   "outputs": [
    {
     "name": "stderr",
     "output_type": "stream",
     "text": [
      "Loaded Tensorflow version 2.9.1\n",
      "\n"
     ]
    }
   ],
   "source": [
    "LSTM_model <- keras_model_sequential()\n",
    "\n",
    "LSTM_model%>% layer_lstm(\n",
    "    units=50,\n",
    "    batch_input_shape=c(1,6,1),#BATCH size , timestep ,features\n",
    "    return_sequences=T,\n",
    "    stateful=T\n",
    "\n",
    ")%>%\n",
    "layer_dropout(rate=0.5)%>%layer_lstm(\n",
    "    units =50,\n",
    "    return_sequences=T,stateful=T\n",
    ")%>% layer_dropout(rate=0.5)%>% time_distributed(keras::layer_dense(units=1))"
   ]
  },
  {
   "cell_type": "code",
   "execution_count": 63,
   "metadata": {
    "vscode": {
     "languageId": "r"
    }
   },
   "outputs": [
    {
     "name": "stdout",
     "output_type": "stream",
     "text": [
      "Model: \"sequential\"\n",
      "________________________________________________________________________________\n",
      " Layer (type)                       Output Shape                    Param #     \n",
      "================================================================================\n",
      " lstm_1 (LSTM)                      (1, 6, 50)                      10400       \n",
      " dropout_1 (Dropout)                (1, 6, 50)                      0           \n",
      " lstm (LSTM)                        (1, 6, 50)                      20200       \n",
      " dropout (Dropout)                  (1, 6, 50)                      0           \n",
      " time_distributed (TimeDistributed)  (1, 6, 1)                      51          \n",
      "================================================================================\n",
      "Total params: 30,651\n",
      "Trainable params: 30,651\n",
      "Non-trainable params: 0\n",
      "________________________________________________________________________________\n"
     ]
    }
   ],
   "source": [
    "LSTM_model %>% compile(loss='mae',optimizer='adam',metrics='accuracy')\n",
    "summary(LSTM_model)"
   ]
  },
  {
   "cell_type": "code",
   "execution_count": 68,
   "metadata": {
    "vscode": {
     "languageId": "r"
    }
   },
   "outputs": [],
   "source": [
    "LSTM_model %>% keras::fit(\n",
    "    x=x_train_array,\n",
    "    y=y_train_arr,\n",
    "    batch_size=1,\n",
    "    epochs=20,# Number of times to iterate over the training data\n",
    "    verbose=2,\n",
    "    shuffle=FALSE\n",
    "\n",
    "\n",
    ")"
   ]
  },
  {
   "cell_type": "code",
   "execution_count": 78,
   "metadata": {
    "vscode": {
     "languageId": "r"
    }
   },
   "outputs": [
    {
     "data": {
      "text/html": [
       "<style>\n",
       ".list-inline {list-style: none; margin:0; padding: 0}\n",
       ".list-inline>li {display: inline-block}\n",
       ".list-inline>li:not(:last-child)::after {content: \"\\00b7\"; padding: 0 .5ex}\n",
       "</style>\n",
       "<ol class=list-inline><li>-1.13991391658783</li><li>-1.10440182685852</li><li>-1.11979055404663</li><li>-1.10587680339813</li><li>-1.10773158073425</li><li>-1.09892082214355</li></ol>\n"
      ],
      "text/latex": [
       "\\begin{enumerate*}\n",
       "\\item -1.13991391658783\n",
       "\\item -1.10440182685852\n",
       "\\item -1.11979055404663\n",
       "\\item -1.10587680339813\n",
       "\\item -1.10773158073425\n",
       "\\item -1.09892082214355\n",
       "\\end{enumerate*}\n"
      ],
      "text/markdown": [
       "1. -1.13991391658783\n",
       "2. -1.10440182685852\n",
       "3. -1.11979055404663\n",
       "4. -1.10587680339813\n",
       "5. -1.10773158073425\n",
       "6. -1.09892082214355\n",
       "\n",
       "\n"
      ],
      "text/plain": [
       "[1] -1.139914 -1.104402 -1.119791 -1.105877 -1.107732 -1.098921"
      ]
     },
     "metadata": {},
     "output_type": "display_data"
    }
   ],
   "source": [
    "LSTM_forecast <- LSTM_model %>% predict(x_pred_arr,batch_size=1) %>% .[,,1]\n",
    "LSTM_forecast"
   ]
  },
  {
   "cell_type": "code",
   "execution_count": 79,
   "metadata": {
    "vscode": {
     "languageId": "r"
    }
   },
   "outputs": [],
   "source": [
    "#-----------------------\n",
    "# Rescale data to restore original values\n",
    "LSTM_forecast <-LSTM_forecast* scale_factor[2]+ scale_factor[1]\n"
   ]
  },
  {
   "cell_type": "code",
   "execution_count": 83,
   "metadata": {
    "vscode": {
     "languageId": "r"
    }
   },
   "outputs": [
    {
     "data": {
      "text/html": [
       "<table class=\"dataframe\">\n",
       "<caption>A matrix: 19 × 6 of type dbl</caption>\n",
       "<tbody>\n",
       "\t<tr><td>-1.01684940</td><td>-0.79716766</td><td>-0.46121526</td><td>-0.052262656</td><td> 0.26892287</td><td> 0.42577264</td></tr>\n",
       "\t<tr><td> 0.49101019</td><td> 0.49558792</td><td> 0.48377255</td><td> 0.466804773</td><td> 0.44647920</td><td> 0.41564864</td></tr>\n",
       "\t<tr><td> 0.40864208</td><td> 0.40361437</td><td> 0.39282906</td><td> 0.375227422</td><td> 0.34408143</td><td> 0.30775937</td></tr>\n",
       "\t<tr><td> 0.30460393</td><td> 0.30393976</td><td> 0.29761434</td><td> 0.275500029</td><td> 0.24618626</td><td> 0.19453846</td></tr>\n",
       "\t<tr><td> 0.19627266</td><td> 0.20682013</td><td> 0.20296925</td><td> 0.188948363</td><td> 0.14771682</td><td> 0.09775375</td></tr>\n",
       "\t<tr><td> 0.10837404</td><td> 0.12004001</td><td> 0.12433695</td><td> 0.097800426</td><td> 0.05870419</td><td> 0.01711526</td></tr>\n",
       "\t<tr><td> 0.02606983</td><td> 0.04384083</td><td> 0.03349189</td><td> 0.008622117</td><td>-0.02160325</td><td>-0.04998516</td></tr>\n",
       "\t<tr><td>-0.03339406</td><td>-0.03353662</td><td>-0.04595468</td><td>-0.064627863</td><td>-0.08332925</td><td>-0.13413289</td></tr>\n",
       "\t<tr><td>-0.14427871</td><td>-0.14738554</td><td>-0.15087238</td><td>-0.153303951</td><td>-0.19077653</td><td>-0.24636799</td></tr>\n",
       "\t<tr><td>-0.25414085</td><td>-0.24852559</td><td>-0.23725197</td><td>-0.260707796</td><td>-0.30458111</td><td>-0.36512765</td></tr>\n",
       "\t<tr><td>-0.36907154</td><td>-0.35134622</td><td>-0.36160389</td><td>-0.390968561</td><td>-0.43848467</td><td>-0.50977039</td></tr>\n",
       "\t<tr><td>-0.50958622</td><td>-0.51171523</td><td>-0.52620345</td><td>-0.554725170</td><td>-0.60764199</td><td>-0.68178135</td></tr>\n",
       "\t<tr><td>-0.70044774</td><td>-0.70060897</td><td>-0.70845371</td><td>-0.732406616</td><td>-0.77931869</td><td>-0.82261097</td></tr>\n",
       "\t<tr><td>-0.82739341</td><td>-0.81610733</td><td>-0.82117099</td><td>-0.846972048</td><td>-0.87760448</td><td>-0.90645850</td></tr>\n",
       "\t<tr><td>-0.91318953</td><td>-0.90652370</td><td>-0.92171359</td><td>-0.939800382</td><td>-0.96055007</td><td>-0.81985092</td></tr>\n",
       "\t<tr><td>-0.70596844</td><td>-0.74014056</td><td>-0.81511986</td><td>-0.891028285</td><td>-0.73660862</td><td>-0.80393988</td></tr>\n",
       "\t<tr><td>-0.86151701</td><td>-0.91070485</td><td>-0.95217073</td><td>-0.799973607</td><td>-0.82231677</td><td>-0.92591643</td></tr>\n",
       "\t<tr><td>-0.96594691</td><td>-0.99131310</td><td>-0.83098221</td><td>-0.828614295</td><td>-0.92596543</td><td>-0.99752414</td></tr>\n",
       "\t<tr><td>-1.03183937</td><td>-0.89966202</td><td>-0.88529897</td><td>-0.960792780</td><td>-1.01877868</td><td>-1.06026053</td></tr>\n",
       "</tbody>\n",
       "</table>\n"
      ],
      "text/latex": [
       "A matrix: 19 × 6 of type dbl\n",
       "\\begin{tabular}{llllll}\n",
       "\t -1.01684940 & -0.79716766 & -0.46121526 & -0.052262656 &  0.26892287 &  0.42577264\\\\\n",
       "\t  0.49101019 &  0.49558792 &  0.48377255 &  0.466804773 &  0.44647920 &  0.41564864\\\\\n",
       "\t  0.40864208 &  0.40361437 &  0.39282906 &  0.375227422 &  0.34408143 &  0.30775937\\\\\n",
       "\t  0.30460393 &  0.30393976 &  0.29761434 &  0.275500029 &  0.24618626 &  0.19453846\\\\\n",
       "\t  0.19627266 &  0.20682013 &  0.20296925 &  0.188948363 &  0.14771682 &  0.09775375\\\\\n",
       "\t  0.10837404 &  0.12004001 &  0.12433695 &  0.097800426 &  0.05870419 &  0.01711526\\\\\n",
       "\t  0.02606983 &  0.04384083 &  0.03349189 &  0.008622117 & -0.02160325 & -0.04998516\\\\\n",
       "\t -0.03339406 & -0.03353662 & -0.04595468 & -0.064627863 & -0.08332925 & -0.13413289\\\\\n",
       "\t -0.14427871 & -0.14738554 & -0.15087238 & -0.153303951 & -0.19077653 & -0.24636799\\\\\n",
       "\t -0.25414085 & -0.24852559 & -0.23725197 & -0.260707796 & -0.30458111 & -0.36512765\\\\\n",
       "\t -0.36907154 & -0.35134622 & -0.36160389 & -0.390968561 & -0.43848467 & -0.50977039\\\\\n",
       "\t -0.50958622 & -0.51171523 & -0.52620345 & -0.554725170 & -0.60764199 & -0.68178135\\\\\n",
       "\t -0.70044774 & -0.70060897 & -0.70845371 & -0.732406616 & -0.77931869 & -0.82261097\\\\\n",
       "\t -0.82739341 & -0.81610733 & -0.82117099 & -0.846972048 & -0.87760448 & -0.90645850\\\\\n",
       "\t -0.91318953 & -0.90652370 & -0.92171359 & -0.939800382 & -0.96055007 & -0.81985092\\\\\n",
       "\t -0.70596844 & -0.74014056 & -0.81511986 & -0.891028285 & -0.73660862 & -0.80393988\\\\\n",
       "\t -0.86151701 & -0.91070485 & -0.95217073 & -0.799973607 & -0.82231677 & -0.92591643\\\\\n",
       "\t -0.96594691 & -0.99131310 & -0.83098221 & -0.828614295 & -0.92596543 & -0.99752414\\\\\n",
       "\t -1.03183937 & -0.89966202 & -0.88529897 & -0.960792780 & -1.01877868 & -1.06026053\\\\\n",
       "\\end{tabular}\n"
      ],
      "text/markdown": [
       "\n",
       "A matrix: 19 × 6 of type dbl\n",
       "\n",
       "| -1.01684940 | -0.79716766 | -0.46121526 | -0.052262656 |  0.26892287 |  0.42577264 |\n",
       "|  0.49101019 |  0.49558792 |  0.48377255 |  0.466804773 |  0.44647920 |  0.41564864 |\n",
       "|  0.40864208 |  0.40361437 |  0.39282906 |  0.375227422 |  0.34408143 |  0.30775937 |\n",
       "|  0.30460393 |  0.30393976 |  0.29761434 |  0.275500029 |  0.24618626 |  0.19453846 |\n",
       "|  0.19627266 |  0.20682013 |  0.20296925 |  0.188948363 |  0.14771682 |  0.09775375 |\n",
       "|  0.10837404 |  0.12004001 |  0.12433695 |  0.097800426 |  0.05870419 |  0.01711526 |\n",
       "|  0.02606983 |  0.04384083 |  0.03349189 |  0.008622117 | -0.02160325 | -0.04998516 |\n",
       "| -0.03339406 | -0.03353662 | -0.04595468 | -0.064627863 | -0.08332925 | -0.13413289 |\n",
       "| -0.14427871 | -0.14738554 | -0.15087238 | -0.153303951 | -0.19077653 | -0.24636799 |\n",
       "| -0.25414085 | -0.24852559 | -0.23725197 | -0.260707796 | -0.30458111 | -0.36512765 |\n",
       "| -0.36907154 | -0.35134622 | -0.36160389 | -0.390968561 | -0.43848467 | -0.50977039 |\n",
       "| -0.50958622 | -0.51171523 | -0.52620345 | -0.554725170 | -0.60764199 | -0.68178135 |\n",
       "| -0.70044774 | -0.70060897 | -0.70845371 | -0.732406616 | -0.77931869 | -0.82261097 |\n",
       "| -0.82739341 | -0.81610733 | -0.82117099 | -0.846972048 | -0.87760448 | -0.90645850 |\n",
       "| -0.91318953 | -0.90652370 | -0.92171359 | -0.939800382 | -0.96055007 | -0.81985092 |\n",
       "| -0.70596844 | -0.74014056 | -0.81511986 | -0.891028285 | -0.73660862 | -0.80393988 |\n",
       "| -0.86151701 | -0.91070485 | -0.95217073 | -0.799973607 | -0.82231677 | -0.92591643 |\n",
       "| -0.96594691 | -0.99131310 | -0.83098221 | -0.828614295 | -0.92596543 | -0.99752414 |\n",
       "| -1.03183937 | -0.89966202 | -0.88529897 | -0.960792780 | -1.01877868 | -1.06026053 |\n",
       "\n"
      ],
      "text/plain": [
       "      [,1]        [,2]        [,3]        [,4]         [,5]        [,6]       \n",
       " [1,] -1.01684940 -0.79716766 -0.46121526 -0.052262656  0.26892287  0.42577264\n",
       " [2,]  0.49101019  0.49558792  0.48377255  0.466804773  0.44647920  0.41564864\n",
       " [3,]  0.40864208  0.40361437  0.39282906  0.375227422  0.34408143  0.30775937\n",
       " [4,]  0.30460393  0.30393976  0.29761434  0.275500029  0.24618626  0.19453846\n",
       " [5,]  0.19627266  0.20682013  0.20296925  0.188948363  0.14771682  0.09775375\n",
       " [6,]  0.10837404  0.12004001  0.12433695  0.097800426  0.05870419  0.01711526\n",
       " [7,]  0.02606983  0.04384083  0.03349189  0.008622117 -0.02160325 -0.04998516\n",
       " [8,] -0.03339406 -0.03353662 -0.04595468 -0.064627863 -0.08332925 -0.13413289\n",
       " [9,] -0.14427871 -0.14738554 -0.15087238 -0.153303951 -0.19077653 -0.24636799\n",
       "[10,] -0.25414085 -0.24852559 -0.23725197 -0.260707796 -0.30458111 -0.36512765\n",
       "[11,] -0.36907154 -0.35134622 -0.36160389 -0.390968561 -0.43848467 -0.50977039\n",
       "[12,] -0.50958622 -0.51171523 -0.52620345 -0.554725170 -0.60764199 -0.68178135\n",
       "[13,] -0.70044774 -0.70060897 -0.70845371 -0.732406616 -0.77931869 -0.82261097\n",
       "[14,] -0.82739341 -0.81610733 -0.82117099 -0.846972048 -0.87760448 -0.90645850\n",
       "[15,] -0.91318953 -0.90652370 -0.92171359 -0.939800382 -0.96055007 -0.81985092\n",
       "[16,] -0.70596844 -0.74014056 -0.81511986 -0.891028285 -0.73660862 -0.80393988\n",
       "[17,] -0.86151701 -0.91070485 -0.95217073 -0.799973607 -0.82231677 -0.92591643\n",
       "[18,] -0.96594691 -0.99131310 -0.83098221 -0.828614295 -0.92596543 -0.99752414\n",
       "[19,] -1.03183937 -0.89966202 -0.88529897 -0.960792780 -1.01877868 -1.06026053"
      ]
     },
     "metadata": {},
     "output_type": "display_data"
    }
   ],
   "source": [
    "fitted_values <-predict(LSTM_model,x_train_array,batch_size=1)%>% .[,,1]\n",
    "fitted_values"
   ]
  },
  {
   "cell_type": "code",
   "execution_count": 87,
   "metadata": {
    "vscode": {
     "languageId": "r"
    }
   },
   "outputs": [],
   "source": [
    "fit <-c(fitted_values[,1],fitted_values[dim(fitted_values)[1],2:dim(fitted_values)[2]])\n",
    "fitted <- fit *scale_factor[2]+ scale_factor[1]"
   ]
  },
  {
   "cell_type": "code",
   "execution_count": null,
   "metadata": {
    "vscode": {
     "languageId": "r"
    }
   },
   "outputs": [],
   "source": [
    "#------------------------------\n",
    "Due to the fact that out forecast start with 6 values offset, we need ti provide artificial "
   ]
  }
 ],
 "metadata": {
  "kernelspec": {
   "display_name": "R",
   "language": "R",
   "name": "ir"
  },
  "language_info": {
   "codemirror_mode": "r",
   "file_extension": ".r",
   "mimetype": "text/x-r-source",
   "name": "R",
   "pygments_lexer": "r",
   "version": "4.0.4"
  },
  "orig_nbformat": 4,
  "vscode": {
   "interpreter": {
    "hash": "31f2aee4e71d21fbe5cf8b01ff0e069b9275f58929596ceb00d14d90e3e16cd6"
   }
  }
 },
 "nbformat": 4,
 "nbformat_minor": 2
}
